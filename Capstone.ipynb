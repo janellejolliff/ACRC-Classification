{
 "cells": [
  {
   "cell_type": "markdown",
   "metadata": {},
   "source": [
    "# final project"
   ]
  },
  {
   "cell_type": "markdown",
   "metadata": {},
   "source": [
    "Steps:\n",
    "\n",
    "__1. Frame problem and look at the big picture__\\\n",
    "_Define the objective in business terms_ \n",
    "\n",
    "How will your solution be used?\\\n",
    "What are the current solutions/workarounds(if any)\\\n",
    "How should you frame this problem(supervised/unsupervised, online/offline, etc.)\\\n",
    "How should performance be measured?\\\n",
    "Is the performance measure aligned with the business objective?\\\n",
    "What would be the minimum performance needed to reach the business objective?\\\n",
    "What are comparable problems?\\\n",
    "Is human expertise available?\\\n",
    "How would you solve the problem manually?\\\n",
    "List the assumptions you or others have made so far.\\\n",
    "Verify assumptions if possible.\n",
    "\n",
    "__2. Get the data__\\\n",
    "_automate as much as possible to easily get fresh data_\n",
    "\n",
    "List the data you need and why\\\n",
    "Find and document where you can get that data\\\n",
    "Check how much space it will take\\\n",
    "Check legal obligations, and get authority if necessary.\\\n",
    "Get access authorizations\\\n",
    "Create a workspace\\\n",
    "Get the data\\\n",
    "Convert data to a format you can easily manipulate\\\n",
    "Check the size and type if data(time series, sample, geographical,etc)\\\n",
    "Sample a test set, put it aside, and never look at it.\\\n",
    "\n",
    "__3. Explore data, gain insights__\\\n",
    "_try to get insights from a field expert for these steps_\n",
    "\n",
    "Create a copy of the data for exploration(sampling down to a manageable size if necessary)\\\n",
    "Create a Jupyter Notebook to keep a record of your data exploration\\\n",
    "Study each attribute and its characteristics:\\\n",
    "-Name\\\n",
    "-Type(categorical, float/int, bounded/unbounded, text, structured, etc.)\\\n",
    "-% of missing values\\\n",
    "-noisiness and type of noise(stochastic, outliers, rounding errors, etc.)\\\n",
    "-usefulness for the task\\\n",
    "-type of distribution.\\\n",
    "\n",
    "\n",
    "\n",
    "__4. Prepare data to better expose underlying data patterns to machine learning algorithms__\\\n",
    "Work on copies of the data(keep original intact)\\\n",
    "Write functions for all data transformations you apply\\\n",
    "(For 5 reasons: - to easily prepare data for next time you get a fresh dataset, to apply to future projects, to clean and prep dataset, to clean and prep new instances once solution is live, to make it easy to treat your preparation choices as parameters)\\\n",
    "Data cleaning:\\ \n",
    "-Fix or remove outliers\\\n",
    "-Fill in missing values(with 0, mean, median..), or drop their rows or columns.\\\n",
    "Feature selection(optional)\\\n",
    "-Drop attributes that provide no useful information for the task.\\\n",
    "Feature engineering, where appropriate:\\\n",
    "-discretize continuous features\\\n",
    "-decompose features(categorical, date/time, etc)\\\n",
    "-add promising transformations of features(log, sqrt, etc)\\\n",
    "-aggregate features into promising new features\\\n",
    "Feature scaling( standardize or normalize features)\\\n",
    "\n",
    "\n",
    "\n",
    "__5. Explore many different models and shortlist the best ones__\\\n",
    "__6. Fine-tune your models and combine them into a great solution__\\\n",
    "__7. Present your solutions__\n",
    "8. Launch, Monitor, and maintain your system\n"
   ]
  },
  {
   "cell_type": "code",
   "execution_count": null,
   "metadata": {},
   "outputs": [],
   "source": []
  },
  {
   "cell_type": "code",
   "execution_count": null,
   "metadata": {},
   "outputs": [],
   "source": []
  },
  {
   "cell_type": "code",
   "execution_count": null,
   "metadata": {},
   "outputs": [],
   "source": []
  },
  {
   "cell_type": "code",
   "execution_count": null,
   "metadata": {},
   "outputs": [],
   "source": []
  },
  {
   "cell_type": "code",
   "execution_count": null,
   "metadata": {},
   "outputs": [],
   "source": []
  },
  {
   "cell_type": "code",
   "execution_count": null,
   "metadata": {},
   "outputs": [],
   "source": []
  },
  {
   "cell_type": "code",
   "execution_count": null,
   "metadata": {},
   "outputs": [],
   "source": []
  },
  {
   "cell_type": "code",
   "execution_count": null,
   "metadata": {},
   "outputs": [],
   "source": []
  },
  {
   "cell_type": "code",
   "execution_count": null,
   "metadata": {},
   "outputs": [],
   "source": []
  }
 ],
 "metadata": {
  "hide_input": false,
  "kernelspec": {
   "display_name": "Python 3",
   "language": "python",
   "name": "python3"
  },
  "language_info": {
   "codemirror_mode": {
    "name": "ipython",
    "version": 3
   },
   "file_extension": ".py",
   "mimetype": "text/x-python",
   "name": "python",
   "nbconvert_exporter": "python",
   "pygments_lexer": "ipython3",
   "version": "3.7.3"
  },
  "toc": {
   "base_numbering": 1,
   "nav_menu": {},
   "number_sections": true,
   "sideBar": true,
   "skip_h1_title": false,
   "title_cell": "Table of Contents",
   "title_sidebar": "Contents",
   "toc_cell": false,
   "toc_position": {},
   "toc_section_display": true,
   "toc_window_display": false
  }
 },
 "nbformat": 4,
 "nbformat_minor": 2
}
