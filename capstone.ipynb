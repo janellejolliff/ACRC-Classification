{
 "cells": [
  {
   "cell_type": "markdown",
   "metadata": {},
   "source": [
    "## import"
   ]
  },
  {
   "cell_type": "code",
   "execution_count": 1,
   "metadata": {
    "ExecuteTime": {
     "end_time": "2020-02-24T20:05:35.958347Z",
     "start_time": "2020-02-24T20:05:32.510767Z"
    },
    "code_folding": []
   },
   "outputs": [],
   "source": [
    "#importing libraries & packages\n",
    "import pandas as pd\n",
    "import numpy as np\n",
    "import seaborn as sns\n",
    "sns.set(style='darkgrid')\n",
    "import matplotlib.pyplot as plt\n",
    "%matplotlib inline\n",
    "import pandas_profiling\n",
    "import datetime\n",
    "import re\n",
    "import pprint\n",
    "pp = pprint.PrettyPrinter(indent=4)\n",
    "from collections import Counter\n",
    "import warnings\n",
    "warnings.filterwarnings('ignore')\n",
    "\n",
    "#display multiple outputs from cell \n",
    "from IPython.core.interactiveshell import InteractiveShell\n",
    "InteractiveShell.ast_node_interactivity = \"all\""
   ]
  },
  {
   "cell_type": "code",
   "execution_count": 2,
   "metadata": {
    "ExecuteTime": {
     "end_time": "2020-02-24T20:05:36.795489Z",
     "start_time": "2020-02-24T20:05:35.961300Z"
    },
    "code_folding": []
   },
   "outputs": [],
   "source": [
    "# import Animal Control Incidents df\n",
    "df = pd.read_csv('Animal_Control_Incidents.csv')\n",
    "\n",
    "#preserving original df before making alterations\n",
    "raw_df = df.copy()"
   ]
  },
  {
   "cell_type": "markdown",
   "metadata": {},
   "source": [
    "## functions"
   ]
  },
  {
   "cell_type": "code",
   "execution_count": 3,
   "metadata": {
    "ExecuteTime": {
     "end_time": "2020-02-24T20:05:36.803734Z",
     "start_time": "2020-02-24T20:05:36.797589Z"
    },
    "code_folding": []
   },
   "outputs": [],
   "source": [
    "# regex for letters and '/' only, unless pattern reassigned\n",
    "def remove_numpunc(list, pattern='[^A-Za-z,]+'):\n",
    "    \"\"\"regex to apply to list/df column --default: to include only letters and '/' \"\"\"\n",
    "    pattern = pattern\n",
    "    #pattern = '[^A-Za-z_]+'\n",
    "    if pattern =='[^A-Za-z,]+':\n",
    "        list = [re.sub(pattern, ',', i) for i in list] \n",
    "    if pattern == '[^A-Za-z_]+':\n",
    "        list = [re.sub(pattern, '', i) for i in list]\n",
    "    if pattern == '[^A-Za-z/]+':\n",
    "        list = [re.sub(pattern, '/', i) for i in list]\n",
    "    if pattern == '[^0-9]+':\n",
    "        list = [re.sub(pattern, '', i) for i in list]\n",
    "    return list"
   ]
  },
  {
   "cell_type": "code",
   "execution_count": 4,
   "metadata": {
    "ExecuteTime": {
     "end_time": "2020-02-24T20:05:36.814792Z",
     "start_time": "2020-02-24T20:05:36.808004Z"
    },
    "code_folding": [
     1
    ]
   },
   "outputs": [],
   "source": [
    "# str type, eliminate misplaced whitespace, lower casing, replacing blankspace with '_'\n",
    "def clean_str(col):\n",
    "    df[col] = df[col].astype(str)\n",
    "    df[col] = df[col].str.strip()\n",
    "    df[col] = df[col].apply(lambda x: x.replace(' ', '_'))\n",
    "    df[col] = df[col].str.lower()"
   ]
  },
  {
   "cell_type": "code",
   "execution_count": 5,
   "metadata": {
    "ExecuteTime": {
     "end_time": "2020-02-24T20:05:36.827978Z",
     "start_time": "2020-02-24T20:05:36.819888Z"
    },
    "code_folding": [
     1
    ]
   },
   "outputs": [],
   "source": [
    "# plotting counts of timedate data \n",
    "def plot_dtcount(td_df, col, limitsy = None, limitsx= None, overlap = True, labels = None):\n",
    "    \"\"\"Plots incident count(y) with timeframe as x axis:\n",
    "    \n",
    "        td_df = dataframe with date/time\n",
    "        col = date/time column(s) of dataframe to plot counts\n",
    "        limitsy= (y,y), limitsx= (x,x) can be adjusted\n",
    "         -, helful if wanting to exclude extreme outliers -\n",
    "         overlap= boolean(if looping and want plots seperately plotted, set to False)\n",
    "         labels= str or list of str for legend\n",
    "         \"\"\"\n",
    "    \n",
    "    td_df[col] = td_df[col].dropna()\n",
    "    time_c = td_df.groupby([col])[col].count()\n",
    "    \n",
    "    if limitsy:\n",
    "        plt.ylim(limitsy)\n",
    "        \n",
    "    if limitsx:\n",
    "        plt.xlim(limitsx)\n",
    "\n",
    "    if labels:\n",
    "        plt.legend(\n",
    "        (labels),\n",
    "        loc='upper right'\n",
    "        ,fontsize= 12)\n",
    "    \n",
    "    plt.scatter(time_c.index, time_c.values, s= 5, alpha=.3, label=col)\n",
    "    if not overlap:\n",
    "        plt.xlabel(col)\n",
    "        plt.show();"
   ]
  },
  {
   "cell_type": "code",
   "execution_count": 6,
   "metadata": {
    "ExecuteTime": {
     "end_time": "2020-02-24T20:05:36.840468Z",
     "start_time": "2020-02-24T20:05:36.830222Z"
    },
    "code_folding": [
     1
    ]
   },
   "outputs": [],
   "source": [
    "# pretty blue/green seaborn correlation plot for categorical data\n",
    "def corr_plot(data, minv=-.3, maxv=.3, dummy=True):\n",
    "    \"\"\"pretty blue/green seaborn correlation plot:\n",
    "    \n",
    "    data= dataframe(will include all columns)\n",
    "    minv = -float, maxv = float  --adjust closer to 0 for more contrast, closer to -1/1 for less\n",
    "    dummy = False if df is all numerical. when True:function will only dummy categorical features\n",
    "    \"\"\"\n",
    "    \n",
    "    if dummy:\n",
    "        # dummy categorical features\n",
    "        col_list = list(data.select_dtypes(include=['object']).columns)\n",
    "\n",
    "        # create dummies for categorical features\n",
    "        data = pd.DataFrame(pd.get_dummies(data=data,columns=col_list\n",
    "                       , prefix=col_list))\n",
    "    sns.set(style=\"white\")\n",
    "    corr = data.corr()\n",
    "\n",
    "    # mask the size of covariance matrix\n",
    "    mask = np.zeros_like(corr, dtype=np.bool)\n",
    "    mask[np.triu_indices_from(mask)] = True\n",
    "\n",
    "    f, ax = plt.subplots(figsize=(10, 10))\n",
    "\n",
    "    sns.heatmap(corr, mask=mask\n",
    "                ,annot=False, cmap=\"YlGnBu\", vmin = minv, vmax=maxv, center=0,\n",
    "                square=True, linewidths=.5,cbar_kws= {\"shrink\": .5} );\n",
    "    \n",
    "    #prevent the shrink of bottom row\n",
    "    ax.set_ylim(len(data.columns), 0)"
   ]
  },
  {
   "cell_type": "code",
   "execution_count": 7,
   "metadata": {
    "ExecuteTime": {
     "end_time": "2020-02-24T20:05:36.848524Z",
     "start_time": "2020-02-24T20:05:36.843409Z"
    },
    "code_folding": [
     1
    ]
   },
   "outputs": [],
   "source": [
    "#sns countplot loop - probably unnecessary\n",
    "def plot_counts(cols):\n",
    "    for i, col in enumerate(cols):\n",
    "       # print(df[col].value_counts())\n",
    "        plt.figure(i)\n",
    "        sns.countplot(y=col, data=df);"
   ]
  },
  {
   "cell_type": "code",
   "execution_count": 8,
   "metadata": {
    "ExecuteTime": {
     "end_time": "2020-02-24T20:05:36.857244Z",
     "start_time": "2020-02-24T20:05:36.851527Z"
    },
    "code_folding": [
     1
    ]
   },
   "outputs": [],
   "source": [
    "# replacing strings and substrings FOR COLOR COLUMN ONLY(could be made more universal)\n",
    "def edit_replace(old_words, replacement_word):\n",
    "    \"\"\"simple replacing strings or list in the df.color column since used so frequently in editting\"\"\"\n",
    "    for word in old_words:\n",
    "        df['color'] = df['color'].apply(lambda x: x.replace(word, replacement_word))"
   ]
  },
  {
   "cell_type": "markdown",
   "metadata": {},
   "source": [
    "# __Cleaning__"
   ]
  },
  {
   "cell_type": "markdown",
   "metadata": {
    "heading_collapsed": true
   },
   "source": [
    "### overview\n",
    "\n",
    "looking at size, data types, 'na's"
   ]
  },
  {
   "cell_type": "code",
   "execution_count": 9,
   "metadata": {
    "ExecuteTime": {
     "end_time": "2020-02-24T20:05:36.867938Z",
     "start_time": "2020-02-24T20:05:36.860040Z"
    },
    "hidden": true
   },
   "outputs": [
    {
     "data": {
      "text/plain": [
       "(73303, 38)"
      ]
     },
     "execution_count": 9,
     "metadata": {},
     "output_type": "execute_result"
    }
   ],
   "source": [
    "df.shape"
   ]
  },
  {
   "cell_type": "code",
   "execution_count": 10,
   "metadata": {
    "ExecuteTime": {
     "end_time": "2020-02-24T20:05:36.906686Z",
     "start_time": "2020-02-24T20:05:36.871160Z"
    },
    "hidden": true
   },
   "outputs": [
    {
     "data": {
      "text/html": [
       "<div>\n",
       "<style scoped>\n",
       "    .dataframe tbody tr th:only-of-type {\n",
       "        vertical-align: middle;\n",
       "    }\n",
       "\n",
       "    .dataframe tbody tr th {\n",
       "        vertical-align: top;\n",
       "    }\n",
       "\n",
       "    .dataframe thead th {\n",
       "        text-align: right;\n",
       "    }\n",
       "</style>\n",
       "<table border=\"1\" class=\"dataframe\">\n",
       "  <thead>\n",
       "    <tr style=\"text-align: right;\">\n",
       "      <th></th>\n",
       "      <th>FILE NUMBER</th>\n",
       "      <th>INCIDENT DATE</th>\n",
       "      <th>INCIDENT TIME</th>\n",
       "      <th>DISPATCHED TIME</th>\n",
       "      <th>CALL TAKER</th>\n",
       "      <th>DISPATCHER</th>\n",
       "      <th>DISPATCHED OTHER</th>\n",
       "      <th>DISPATCHED SITUATION</th>\n",
       "      <th>ARRIVAL TIME</th>\n",
       "      <th>AVAILABLE TIME</th>\n",
       "      <th>...</th>\n",
       "      <th>CONDITION</th>\n",
       "      <th>TEMPERMENT</th>\n",
       "      <th>COLLAR</th>\n",
       "      <th>COLLAR COLOR</th>\n",
       "      <th>VACCINATION NUMBER</th>\n",
       "      <th>VACCINATION DATE</th>\n",
       "      <th>PET NAME</th>\n",
       "      <th>DISPOSITION</th>\n",
       "      <th>DISPOSITION DATE</th>\n",
       "      <th>DISPOSITION OFFICER</th>\n",
       "    </tr>\n",
       "  </thead>\n",
       "  <tbody>\n",
       "    <tr>\n",
       "      <th>0</th>\n",
       "      <td>201639027</td>\n",
       "      <td>12/27/2016</td>\n",
       "      <td>15:30</td>\n",
       "      <td>16:06</td>\n",
       "      <td>UNKNOWN</td>\n",
       "      <td>JENNIFER G</td>\n",
       "      <td>0</td>\n",
       "      <td>D</td>\n",
       "      <td>16:17</td>\n",
       "      <td>16:38</td>\n",
       "      <td>...</td>\n",
       "      <td>FAIR</td>\n",
       "      <td>FRIENDLY</td>\n",
       "      <td>NYLON</td>\n",
       "      <td>RED</td>\n",
       "      <td>NaN</td>\n",
       "      <td>NaN</td>\n",
       "      <td>NaN</td>\n",
       "      <td>TRANS CAA</td>\n",
       "      <td>12/27/2016</td>\n",
       "      <td>FRANK S</td>\n",
       "    </tr>\n",
       "    <tr>\n",
       "      <th>1</th>\n",
       "      <td>201639044</td>\n",
       "      <td>12/28/2016</td>\n",
       "      <td>10:06</td>\n",
       "      <td>10:07</td>\n",
       "      <td>UNKNOWN</td>\n",
       "      <td>JENNIFER G</td>\n",
       "      <td>0</td>\n",
       "      <td>D</td>\n",
       "      <td>10:15</td>\n",
       "      <td>10:23</td>\n",
       "      <td>...</td>\n",
       "      <td>FAIR</td>\n",
       "      <td>NORMAL</td>\n",
       "      <td>UNKNOWN</td>\n",
       "      <td>UNKNOWN</td>\n",
       "      <td>NaN</td>\n",
       "      <td>NaN</td>\n",
       "      <td>NaN</td>\n",
       "      <td>RETURN TO WILD</td>\n",
       "      <td>12/28/2016</td>\n",
       "      <td>TRAVIS R</td>\n",
       "    </tr>\n",
       "    <tr>\n",
       "      <th>2</th>\n",
       "      <td>201639036</td>\n",
       "      <td>12/28/2016</td>\n",
       "      <td>09:03</td>\n",
       "      <td>09:03</td>\n",
       "      <td>UNKNOWN</td>\n",
       "      <td>JENNIFER G</td>\n",
       "      <td>0</td>\n",
       "      <td>D</td>\n",
       "      <td>09:27</td>\n",
       "      <td>09:45</td>\n",
       "      <td>...</td>\n",
       "      <td>EMACIATED</td>\n",
       "      <td>FRIENDLY</td>\n",
       "      <td>LEATHER</td>\n",
       "      <td>PINK</td>\n",
       "      <td>NaN</td>\n",
       "      <td>NaN</td>\n",
       "      <td>NaN</td>\n",
       "      <td>TRANS CAA</td>\n",
       "      <td>12/28/2016</td>\n",
       "      <td>ISAAC S</td>\n",
       "    </tr>\n",
       "    <tr>\n",
       "      <th>3</th>\n",
       "      <td>201639042</td>\n",
       "      <td>12/28/2016</td>\n",
       "      <td>09:46</td>\n",
       "      <td>10:24</td>\n",
       "      <td>UNKNOWN</td>\n",
       "      <td>JENNIFER G</td>\n",
       "      <td>0</td>\n",
       "      <td>D</td>\n",
       "      <td>10:35</td>\n",
       "      <td>10:47</td>\n",
       "      <td>...</td>\n",
       "      <td>EMACIATED</td>\n",
       "      <td>FRIENDLY</td>\n",
       "      <td>UNKNOWN</td>\n",
       "      <td>UNKNOWN</td>\n",
       "      <td>NaN</td>\n",
       "      <td>NaN</td>\n",
       "      <td>NaN</td>\n",
       "      <td>TRANS CAA</td>\n",
       "      <td>12/28/2016</td>\n",
       "      <td>JOHN B</td>\n",
       "    </tr>\n",
       "    <tr>\n",
       "      <th>4</th>\n",
       "      <td>201639059</td>\n",
       "      <td>12/28/2016</td>\n",
       "      <td>15:05</td>\n",
       "      <td>15:45</td>\n",
       "      <td>UNKNOWN</td>\n",
       "      <td>JENNIFER G</td>\n",
       "      <td>0</td>\n",
       "      <td>D</td>\n",
       "      <td>16:07</td>\n",
       "      <td>16:25</td>\n",
       "      <td>...</td>\n",
       "      <td>EMACIATED</td>\n",
       "      <td>NORMAL</td>\n",
       "      <td>UNKNOWN</td>\n",
       "      <td>UNKNOWN</td>\n",
       "      <td>NaN</td>\n",
       "      <td>NaN</td>\n",
       "      <td>NaN</td>\n",
       "      <td>TRANS CAA</td>\n",
       "      <td>12/28/2016</td>\n",
       "      <td>SUE H</td>\n",
       "    </tr>\n",
       "  </tbody>\n",
       "</table>\n",
       "<p>5 rows × 38 columns</p>\n",
       "</div>"
      ],
      "text/plain": [
       "   FILE NUMBER INCIDENT DATE INCIDENT TIME DISPATCHED TIME CALL TAKER  \\\n",
       "0    201639027    12/27/2016         15:30           16:06    UNKNOWN   \n",
       "1    201639044    12/28/2016         10:06           10:07    UNKNOWN   \n",
       "2    201639036    12/28/2016         09:03           09:03    UNKNOWN   \n",
       "3    201639042    12/28/2016         09:46           10:24    UNKNOWN   \n",
       "4    201639059    12/28/2016         15:05           15:45    UNKNOWN   \n",
       "\n",
       "   DISPATCHER  DISPATCHED OTHER DISPATCHED SITUATION ARRIVAL TIME  \\\n",
       "0  JENNIFER G                 0                    D        16:17   \n",
       "1  JENNIFER G                 0                    D        10:15   \n",
       "2  JENNIFER G                 0                    D        09:27   \n",
       "3  JENNIFER G                 0                    D        10:35   \n",
       "4  JENNIFER G                 0                    D        16:07   \n",
       "\n",
       "  AVAILABLE TIME  ...  CONDITION TEMPERMENT   COLLAR COLLAR COLOR  \\\n",
       "0          16:38  ...       FAIR   FRIENDLY    NYLON          RED   \n",
       "1          10:23  ...       FAIR     NORMAL  UNKNOWN      UNKNOWN   \n",
       "2          09:45  ...  EMACIATED   FRIENDLY  LEATHER         PINK   \n",
       "3          10:47  ...  EMACIATED   FRIENDLY  UNKNOWN      UNKNOWN   \n",
       "4          16:25  ...  EMACIATED     NORMAL  UNKNOWN      UNKNOWN   \n",
       "\n",
       "  VACCINATION NUMBER  VACCINATION DATE PET NAME     DISPOSITION  \\\n",
       "0                NaN               NaN      NaN       TRANS CAA   \n",
       "1                NaN               NaN      NaN  RETURN TO WILD   \n",
       "2                NaN               NaN      NaN       TRANS CAA   \n",
       "3                NaN               NaN      NaN       TRANS CAA   \n",
       "4                NaN               NaN      NaN       TRANS CAA   \n",
       "\n",
       "  DISPOSITION DATE DISPOSITION OFFICER  \n",
       "0       12/27/2016             FRANK S  \n",
       "1       12/28/2016            TRAVIS R  \n",
       "2       12/28/2016             ISAAC S  \n",
       "3       12/28/2016              JOHN B  \n",
       "4       12/28/2016               SUE H  \n",
       "\n",
       "[5 rows x 38 columns]"
      ]
     },
     "execution_count": 10,
     "metadata": {},
     "output_type": "execute_result"
    }
   ],
   "source": [
    "df.head()"
   ]
  },
  {
   "cell_type": "code",
   "execution_count": 11,
   "metadata": {
    "ExecuteTime": {
     "end_time": "2020-02-24T20:05:36.917978Z",
     "start_time": "2020-02-24T20:05:36.909797Z"
    },
    "code_folding": [
     0
    ],
    "hidden": true
   },
   "outputs": [],
   "source": [
    "# removing spaces and lower casing the column names\n",
    "df.columns = df.columns.str.lower()\n",
    "df.columns = df.columns.str.strip()\n",
    "df.columns = df.columns.str.replace(' ', '_')"
   ]
  },
  {
   "cell_type": "code",
   "execution_count": 12,
   "metadata": {
    "ExecuteTime": {
     "end_time": "2020-02-24T20:05:37.098833Z",
     "start_time": "2020-02-24T20:05:36.921955Z"
    },
    "hidden": true,
    "scrolled": true
   },
   "outputs": [
    {
     "name": "stdout",
     "output_type": "stream",
     "text": [
      "<class 'pandas.core.frame.DataFrame'>\n",
      "RangeIndex: 73303 entries, 0 to 73302\n",
      "Data columns (total 38 columns):\n",
      "file_number             73303 non-null int64\n",
      "incident_date           73303 non-null object\n",
      "incident_time           72818 non-null object\n",
      "dispatched_time         62547 non-null object\n",
      "call_taker              53134 non-null object\n",
      "dispatcher              60239 non-null object\n",
      "dispatched_other        73303 non-null int64\n",
      "dispatched_situation    62537 non-null object\n",
      "arrival_time            61843 non-null object\n",
      "available_time          62545 non-null object\n",
      "complainant_street      73281 non-null object\n",
      "request_type            40141 non-null object\n",
      "officer                 61235 non-null object\n",
      "equipment_number        60251 non-null object\n",
      "remarks                 2098 non-null object\n",
      "impound_number          53110 non-null float64\n",
      "impound_date            53105 non-null object\n",
      "impound_time            53046 non-null object\n",
      "location                52867 non-null object\n",
      "municipality            53106 non-null object\n",
      "zip_code                24222 non-null float64\n",
      "service_code            53110 non-null object\n",
      "species                 53088 non-null object\n",
      "breed                   52282 non-null object\n",
      "sex                     40642 non-null object\n",
      "size                    51815 non-null object\n",
      "color                   51754 non-null object\n",
      "age                     33217 non-null float64\n",
      "condition               50878 non-null object\n",
      "temperment              51486 non-null object\n",
      "collar                  24966 non-null object\n",
      "collar_color            24449 non-null object\n",
      "vaccination_number      599 non-null object\n",
      "vaccination_date        347 non-null object\n",
      "pet_name                1012 non-null object\n",
      "disposition             53103 non-null object\n",
      "disposition_date        38598 non-null object\n",
      "disposition_officer     52323 non-null object\n",
      "dtypes: float64(3), int64(2), object(33)\n",
      "memory usage: 21.3+ MB\n"
     ]
    }
   ],
   "source": [
    "df.info()"
   ]
  },
  {
   "cell_type": "markdown",
   "metadata": {
    "hidden": true
   },
   "source": [
    "Although most features are classified appropriately, some of these columns would be better described as object than int or float. There are also many dates and times to convert to datetime."
   ]
  },
  {
   "cell_type": "code",
   "execution_count": 13,
   "metadata": {
    "ExecuteTime": {
     "end_time": "2020-02-24T20:05:37.345614Z",
     "start_time": "2020-02-24T20:05:37.104167Z"
    },
    "hidden": true
   },
   "outputs": [],
   "source": [
    "# float and int columns with no numerical value\n",
    "obj_cols = ('file_number', 'dispatched_other', 'impound_number', 'zip_code', 'color', 'breed')\n",
    "\n",
    "# converting to object\n",
    "for col in obj_cols:\n",
    "    df[col] = df[col].astype(str)"
   ]
  },
  {
   "cell_type": "code",
   "execution_count": 14,
   "metadata": {
    "ExecuteTime": {
     "end_time": "2020-02-24T20:05:37.829068Z",
     "start_time": "2020-02-24T20:05:37.350683Z"
    },
    "hidden": true
   },
   "outputs": [
    {
     "name": "stdout",
     "output_type": "stream",
     "text": [
      "0.003396859610111455\n"
     ]
    }
   ],
   "source": [
    "# any duplicate rows?\n",
    "print (len(df[df.duplicated()])/len(df))\n",
    "# df[df.duplicated()]"
   ]
  },
  {
   "cell_type": "markdown",
   "metadata": {
    "hidden": true
   },
   "source": [
    "Other than the majority of them appearing around the year 2012, nothing grabs my attention with the duplicates. It only accounts for .03% of df."
   ]
  },
  {
   "cell_type": "code",
   "execution_count": 15,
   "metadata": {
    "ExecuteTime": {
     "end_time": "2020-02-24T20:05:38.173084Z",
     "start_time": "2020-02-24T20:05:37.832152Z"
    },
    "hidden": true
   },
   "outputs": [],
   "source": [
    "# removing duplicate rows from df - likely data entry mistakes\n",
    "df.drop_duplicates(keep=False, inplace=True)"
   ]
  },
  {
   "cell_type": "markdown",
   "metadata": {
    "hidden": true
   },
   "source": [
    "How much nas per column are there?"
   ]
  },
  {
   "cell_type": "code",
   "execution_count": 16,
   "metadata": {
    "ExecuteTime": {
     "end_time": "2020-02-24T20:05:38.363952Z",
     "start_time": "2020-02-24T20:05:38.175496Z"
    },
    "hidden": true,
    "scrolled": true
   },
   "outputs": [
    {
     "data": {
      "text/plain": [
       "file_number               0.0\n",
       "incident_date             0.0\n",
       "incident_time             1.0\n",
       "dispatched_time          14.0\n",
       "call_taker               27.0\n",
       "dispatcher               18.0\n",
       "dispatched_other          0.0\n",
       "dispatched_situation     14.0\n",
       "arrival_time             15.0\n",
       "available_time           14.0\n",
       "complainant_street        0.0\n",
       "request_type             45.0\n",
       "officer                  17.0\n",
       "equipment_number         18.0\n",
       "remarks                  97.0\n",
       "impound_number            0.0\n",
       "impound_date             28.0\n",
       "impound_time             28.0\n",
       "location                 28.0\n",
       "municipality             28.0\n",
       "zip_code                  0.0\n",
       "service_code             28.0\n",
       "species                  28.0\n",
       "breed                     0.0\n",
       "sex                      45.0\n",
       "size                     29.0\n",
       "color                     0.0\n",
       "age                      55.0\n",
       "condition                31.0\n",
       "temperment               30.0\n",
       "collar                   66.0\n",
       "collar_color             66.0\n",
       "vaccination_number       99.0\n",
       "vaccination_date        100.0\n",
       "pet_name                 99.0\n",
       "disposition              28.0\n",
       "disposition_date         48.0\n",
       "disposition_officer      29.0\n",
       "dtype: float64"
      ]
     },
     "execution_count": 16,
     "metadata": {},
     "output_type": "execute_result"
    }
   ],
   "source": [
    "#percent missing values per column\n",
    "round(df.isna().sum()/len(df)*100)"
   ]
  },
  {
   "cell_type": "markdown",
   "metadata": {
    "hidden": true
   },
   "source": [
    "Since most features are missing substantial amounts of data, I want to be careful about dropping nas to avoid tossing out useful information with the nulls."
   ]
  },
  {
   "cell_type": "code",
   "execution_count": 17,
   "metadata": {
    "ExecuteTime": {
     "end_time": "2020-02-24T20:05:38.413149Z",
     "start_time": "2020-02-24T20:05:38.366905Z"
    },
    "hidden": true
   },
   "outputs": [],
   "source": [
    "#removing row with nas from incident time since such little nas(1% rows)\n",
    "df = df[df['incident_time'].notna()]"
   ]
  },
  {
   "cell_type": "code",
   "execution_count": 18,
   "metadata": {
    "ExecuteTime": {
     "end_time": "2020-02-24T20:05:38.498414Z",
     "start_time": "2020-02-24T20:05:38.416105Z"
    },
    "hidden": true
   },
   "outputs": [],
   "source": [
    "# preserve df \n",
    "df1 = df.copy()"
   ]
  },
  {
   "cell_type": "code",
   "execution_count": 19,
   "metadata": {
    "ExecuteTime": {
     "end_time": "2020-02-24T20:05:38.504707Z",
     "start_time": "2020-02-24T20:05:38.501036Z"
    },
    "hidden": true
   },
   "outputs": [],
   "source": [
    "#df=df1"
   ]
  },
  {
   "cell_type": "markdown",
   "metadata": {
    "heading_collapsed": true
   },
   "source": [
    "### date & time\n",
    "\n",
    "Converting dates and times to appropriate format.\n"
   ]
  },
  {
   "cell_type": "markdown",
   "metadata": {
    "hidden": true
   },
   "source": [
    "- Merging incident date and time to datetime column, repeat with impound date & time."
   ]
  },
  {
   "cell_type": "code",
   "execution_count": 20,
   "metadata": {
    "ExecuteTime": {
     "end_time": "2020-02-24T20:05:46.737928Z",
     "start_time": "2020-02-24T20:05:38.508223Z"
    },
    "hidden": true
   },
   "outputs": [],
   "source": [
    "# incident date + incident time for merged datetime column\n",
    "df['inc_dt'] = pd.to_datetime(df['incident_date'].apply(str)+' '+df['incident_time'])"
   ]
  },
  {
   "cell_type": "code",
   "execution_count": 21,
   "metadata": {
    "ExecuteTime": {
     "end_time": "2020-02-24T20:05:52.684604Z",
     "start_time": "2020-02-24T20:05:46.740112Z"
    },
    "hidden": true
   },
   "outputs": [],
   "source": [
    "# impound date + impound time = impound datetime\n",
    "df['imp_dt'] = pd.to_datetime(df['impound_date'].apply(str)+' '+df['impound_time'], errors ='coerce')"
   ]
  },
  {
   "cell_type": "markdown",
   "metadata": {
    "hidden": true
   },
   "source": [
    "___\n",
    "__Time Features:__"
   ]
  },
  {
   "cell_type": "code",
   "execution_count": 22,
   "metadata": {
    "ExecuteTime": {
     "end_time": "2020-02-24T20:05:53.479093Z",
     "start_time": "2020-02-24T20:05:52.686678Z"
    },
    "code_folding": [],
    "hidden": true
   },
   "outputs": [],
   "source": [
    "# time columns to list, then loop conversion to date.time\n",
    "time_cols= [col for col in df.columns if 'time' in col]\n",
    "\n",
    "# covert time to hour/minute datetime format\n",
    "for col in time_cols:\n",
    "    df[col] = pd.to_datetime(df[col], errors='coerce', format=\"%H:%M\").dt.time"
   ]
  },
  {
   "cell_type": "code",
   "execution_count": 23,
   "metadata": {
    "ExecuteTime": {
     "end_time": "2020-02-24T20:05:53.500157Z",
     "start_time": "2020-02-24T20:05:53.481204Z"
    },
    "hidden": true
   },
   "outputs": [
    {
     "name": "stdout",
     "output_type": "stream",
     "text": [
      "Incident time Range:\n",
      "from 00:04:00 \n",
      " to: 23:58:00\n"
     ]
    }
   ],
   "source": [
    "print('Incident time Range:\\n''from',df.incident_time.min(),'\\n to:', df.incident_time.max())"
   ]
  },
  {
   "cell_type": "markdown",
   "metadata": {
    "hidden": true
   },
   "source": [
    "___\n",
    "__Date Features:__"
   ]
  },
  {
   "cell_type": "code",
   "execution_count": 24,
   "metadata": {
    "ExecuteTime": {
     "end_time": "2020-02-24T20:05:54.077227Z",
     "start_time": "2020-02-24T20:05:53.503425Z"
    },
    "hidden": true
   },
   "outputs": [],
   "source": [
    "# all date columns to list\n",
    "date_cols= [col for col in df.columns if 'date' in col]\n",
    "\n",
    "# covert to month/day/year datetime format\n",
    "for col in date_cols:\n",
    "    df[col] = pd.to_datetime(df[col],errors='coerce', format=\"%m/%d/%Y\").dt.date"
   ]
  },
  {
   "cell_type": "code",
   "execution_count": 25,
   "metadata": {
    "ExecuteTime": {
     "end_time": "2020-02-24T20:05:54.096729Z",
     "start_time": "2020-02-24T20:05:54.079352Z"
    },
    "hidden": true
   },
   "outputs": [
    {
     "name": "stdout",
     "output_type": "stream",
     "text": [
      "Incident Date Range:\n",
      "from: 2012-01-01 \n",
      " to: 2019-10-03\n"
     ]
    }
   ],
   "source": [
    "# date range of dataset\n",
    "print('Incident Date Range:\\n''from:',df.incident_date.min(),'\\n to:', df.incident_date.max())"
   ]
  },
  {
   "cell_type": "markdown",
   "metadata": {
    "hidden": true
   },
   "source": [
    "#### additional time features:"
   ]
  },
  {
   "cell_type": "markdown",
   "metadata": {
    "hidden": true
   },
   "source": [
    "___\n",
    "Below, I will be:\n",
    "\n",
    "\n",
    "- Creating feature representing time difference between incident time and impound time.  \n",
    "\n",
    "*_The incident date&time is when the incident was called in, the impound time is when the animal was brought to the shelter. It's possible that not every incident called in resulted in an impound, which may be the reason values are missing from impound._\n"
   ]
  },
  {
   "cell_type": "markdown",
   "metadata": {
    "hidden": true
   },
   "source": [
    "__difference between datetime of incident call and impound datetime__"
   ]
  },
  {
   "cell_type": "code",
   "execution_count": 26,
   "metadata": {
    "ExecuteTime": {
     "end_time": "2020-02-24T20:05:54.108308Z",
     "start_time": "2020-02-24T20:05:54.099607Z"
    },
    "hidden": true
   },
   "outputs": [],
   "source": [
    "# time difference from incident to impound\n",
    "df['inc_to_imp'] = df['imp_dt']-df['inc_dt']"
   ]
  },
  {
   "cell_type": "markdown",
   "metadata": {
    "hidden": true
   },
   "source": [
    "___\n",
    "Weekday and Month:\n",
    "\n",
    "This may not provide anything insightful, but I'm creating columns for weekday and month of incident."
   ]
  },
  {
   "cell_type": "markdown",
   "metadata": {
    "hidden": true
   },
   "source": [
    "__- Weekday Feature-__"
   ]
  },
  {
   "cell_type": "code",
   "execution_count": 27,
   "metadata": {
    "ExecuteTime": {
     "end_time": "2020-02-24T20:05:54.310677Z",
     "start_time": "2020-02-24T20:05:54.111142Z"
    },
    "code_folding": [],
    "hidden": true,
    "scrolled": false
   },
   "outputs": [
    {
     "data": {
      "text/plain": [
       "0    15960\n",
       "1    14032\n",
       "2    13513\n",
       "3    13072\n",
       "4    11984\n",
       "5     2149\n",
       "6     1740\n",
       "Name: weekday, dtype: int64"
      ]
     },
     "execution_count": 27,
     "metadata": {},
     "output_type": "execute_result"
    }
   ],
   "source": [
    "# creating day of week column:\n",
    "df['weekday'] = pd.to_datetime(df['incident_date']).apply(lambda x: x.weekday())\n",
    "\n",
    "df.weekday.value_counts()\n",
    "# 0= monday"
   ]
  },
  {
   "cell_type": "markdown",
   "metadata": {
    "hidden": true
   },
   "source": [
    "It looks like most incidents occur on Mondays, and then dwindle down throughout the week, with much less incidents reported on weekends"
   ]
  },
  {
   "cell_type": "markdown",
   "metadata": {
    "hidden": true
   },
   "source": [
    "Are the amount of impounds per day relative to the amount of incidents?"
   ]
  },
  {
   "cell_type": "code",
   "execution_count": 28,
   "metadata": {
    "ExecuteTime": {
     "end_time": "2020-02-24T20:05:54.505676Z",
     "start_time": "2020-02-24T20:05:54.313243Z"
    },
    "hidden": true,
    "scrolled": false
   },
   "outputs": [
    {
     "data": {
      "text/plain": [
       "0.7212146307798482"
      ]
     },
     "execution_count": 28,
     "metadata": {},
     "output_type": "execute_result"
    },
    {
     "data": {
      "text/plain": [
       "0    0.628195\n",
       "1    0.676026\n",
       "2    0.704729\n",
       "3    0.707925\n",
       "4    0.726469\n",
       "5    1.359702\n",
       "6    1.341954\n",
       "dtype: float64"
      ]
     },
     "execution_count": 28,
     "metadata": {},
     "output_type": "execute_result"
    }
   ],
   "source": [
    "# how does incident day of week compare to impound day of week?:\n",
    "imp_weekday_counts=(pd.to_datetime(df['impound_date'].dropna()).apply(lambda x: x.weekday()).value_counts())\n",
    "(imp_weekday_counts.sum())/(df.weekday.value_counts().sum())\n",
    "imp_weekday_counts/df.weekday.value_counts()\n",
    "# 0= monday"
   ]
  },
  {
   "cell_type": "markdown",
   "metadata": {
    "hidden": true
   },
   "source": [
    "Something seems strange here. The dataframe has 76% of total not-null impounds to total incidents, why would there be 30% more impounds than incidents on any of the days, especially weekends?"
   ]
  },
  {
   "cell_type": "markdown",
   "metadata": {
    "hidden": true
   },
   "source": [
    "___\n",
    "__- Month feature-__"
   ]
  },
  {
   "cell_type": "code",
   "execution_count": 29,
   "metadata": {
    "ExecuteTime": {
     "end_time": "2020-02-24T20:05:54.530057Z",
     "start_time": "2020-02-24T20:05:54.508415Z"
    },
    "hidden": true,
    "scrolled": true
   },
   "outputs": [
    {
     "data": {
      "text/plain": [
       "5     7869\n",
       "8     6906\n",
       "6     6894\n",
       "7     6663\n",
       "9     6445\n",
       "10    6385\n",
       "4     5953\n",
       "3     5632\n",
       "1     5371\n",
       "2     5051\n",
       "11    4785\n",
       "12    4496\n",
       "Name: month, dtype: int64"
      ]
     },
     "execution_count": 29,
     "metadata": {},
     "output_type": "execute_result"
    }
   ],
   "source": [
    "# column for month\n",
    "df['month'] = pd.DatetimeIndex(df['incident_date']).month\n",
    "\n",
    "df.month.value_counts()"
   ]
  },
  {
   "cell_type": "markdown",
   "metadata": {
    "hidden": true
   },
   "source": [
    "__Warmer Climate = More Animal Control Incidents?__\n",
    "\n",
    "May-September appear to have the most incidents. According to weather.com, the average temperature increases rises from the 50's to 60's degree Fahrenheit around min April, and then begins to dip below the 60s again towards the end of October(although Baton Rouge typically experiences the most volume in rainfall in June and August). Using that information, you can infer a positive correlation between weather and incidents, similar to the common correlation with temperature and crime.\n",
    "\n",
    "*_Note that since the dates run between Jan-1-2012 to Oct-3rd-2019, there will be bias towards the first 10 months._"
   ]
  },
  {
   "cell_type": "markdown",
   "metadata": {},
   "source": [
    "### animal features"
   ]
  },
  {
   "cell_type": "markdown",
   "metadata": {},
   "source": [
    "Animals features include __color__, __breed__, __condition__, __temperment__, and __size__. color and breed present an issue with such high unique values for what should be considered , multiple spellings for the same color/breed, and alternate sequences of the same substrings appearing as different values( i.e. brown/white vs white/brown)"
   ]
  },
  {
   "cell_type": "markdown",
   "metadata": {},
   "source": [
    "#### color"
   ]
  },
  {
   "cell_type": "markdown",
   "metadata": {
    "heading_collapsed": true
   },
   "source": [
    "##### unifying spellings of colors"
   ]
  },
  {
   "cell_type": "code",
   "execution_count": 30,
   "metadata": {
    "ExecuteTime": {
     "end_time": "2020-02-24T20:05:54.553428Z",
     "start_time": "2020-02-24T20:05:54.533247Z"
    },
    "code_folding": [],
    "hidden": true,
    "scrolled": true
   },
   "outputs": [
    {
     "data": {
      "text/plain": [
       "nan                          21526\n",
       "BLK                           4026\n",
       "BLK/WHT                       3973\n",
       "GRY                           3201\n",
       "BRWN/WHT                      1592\n",
       "GRY/WHT                       1565\n",
       "TAN/WHT                       1470\n",
       "BRWN                          1418\n",
       "TAN                           1417\n",
       "BLK/TAN                       1295\n",
       "GRAY                          1084\n",
       "BROWN                         1053\n",
       "GREY                           928\n",
       "GRY/BLK                        915\n",
       "WHT                            903\n",
       "BLK/GRY                        789\n",
       "BLK/BRWN                       762\n",
       "BRWN/BLK                       754\n",
       "WHT/BLK                        752\n",
       "BLACK                          716\n",
       "ORG                            716\n",
       "WHT/BRWN                       633\n",
       "BRN/BLK                        615\n",
       "BRINDLE                        588\n",
       "BRN                            521\n",
       "WHT/TAN                        511\n",
       "TAN/BLK                        508\n",
       "WHITE                          388\n",
       "WHT/GRY                        386\n",
       "NORMAL                         379\n",
       "                             ...  \n",
       "WHIT/BLK/BRWN                    1\n",
       "NAKED                            1\n",
       "GRY BL                           1\n",
       "B/T                              1\n",
       "BLUE,BRINDLE,WHITE               1\n",
       "TN/WHT                           1\n",
       "WHT/ BRN                         1\n",
       "BRN BLK GRY                      1\n",
       "3TAN/ 1 BLK                      1\n",
       "TORTOISESHELL                    1\n",
       "BRN/WH/BLK                       1\n",
       "BLK W                            1\n",
       "WHT/GOLD/BLK                     1\n",
       "BLACK/GREY/BROWN                 1\n",
       "BRONZE                           1\n",
       "GREEN/BLUE                       1\n",
       "BLK YELLOW BELLY                 1\n",
       "GY/BLK                           1\n",
       "EY / BLK                         1\n",
       "BLK- WHT FEET                    1\n",
       "BLUE/BLK/WHT/GRY                 1\n",
       "CAL TAB                          1\n",
       "BLUE/BLK/GREY                    1\n",
       "BRN / WHITE                      1\n",
       "TAN/BLACK TORTOISE               1\n",
       "LT BRN                           1\n",
       "WHITE/BLACK/TAN/GREY             1\n",
       "L BROWN W/ BLK FACE & NOS        1\n",
       "BLK/OR/WHT                       1\n",
       "WHT / BLK                        1\n",
       "Name: color, Length: 2183, dtype: int64"
      ]
     },
     "execution_count": 30,
     "metadata": {},
     "output_type": "execute_result"
    }
   ],
   "source": [
    "#df.color.value_counts()\n",
    "df.color.value_counts()"
   ]
  },
  {
   "cell_type": "markdown",
   "metadata": {
    "hidden": true
   },
   "source": [
    "Color Feature Cleaning:\n",
    "\n",
    "- Not liking the all caps, also unnecessary punctuation.\n",
    "\n",
    "\n",
    "- 1089 unique color values is going to be a problem for machine learning models, so I'd also like to reduce those. Each color needs to have uniform spelling, and combinations with low value counts will be categorized as 'other' to reduce dimensionality and noise.\n",
    "\n",
    "*_I'll be treating each combination as it's own category. I'm not sure if approaching each color as a separate feature would be practical, but maybe could be given more thought later. I don't see value in each individual color as much as the overall description of color(s) as a whole._"
   ]
  },
  {
   "cell_type": "code",
   "execution_count": 31,
   "metadata": {
    "ExecuteTime": {
     "end_time": "2020-02-24T20:05:54.636947Z",
     "start_time": "2020-02-24T20:05:54.556136Z"
    },
    "hidden": true
   },
   "outputs": [],
   "source": [
    "pre_color = df.copy()"
   ]
  },
  {
   "cell_type": "code",
   "execution_count": 32,
   "metadata": {
    "ExecuteTime": {
     "end_time": "2020-02-24T20:05:54.724136Z",
     "start_time": "2020-02-24T20:05:54.639020Z"
    },
    "hidden": true
   },
   "outputs": [],
   "source": [
    "df= pre_color.copy()"
   ]
  },
  {
   "cell_type": "code",
   "execution_count": 33,
   "metadata": {
    "ExecuteTime": {
     "end_time": "2020-02-24T20:05:54.812249Z",
     "start_time": "2020-02-24T20:05:54.726227Z"
    },
    "hidden": true
   },
   "outputs": [],
   "source": [
    "clean_str('color')"
   ]
  },
  {
   "cell_type": "code",
   "execution_count": 34,
   "metadata": {
    "ExecuteTime": {
     "end_time": "2020-02-24T20:05:54.964127Z",
     "start_time": "2020-02-24T20:05:54.814323Z"
    },
    "hidden": true
   },
   "outputs": [],
   "source": [
    "df['color'] = remove_numpunc(df.color, pattern = '[^A-Za-z,]+')"
   ]
  },
  {
   "cell_type": "markdown",
   "metadata": {
    "ExecuteTime": {
     "end_time": "2020-02-24T05:19:04.709659Z",
     "start_time": "2020-02-24T05:19:04.417366Z"
    },
    "hidden": true
   },
   "source": [
    "By looking at value counts of strings, I can decide which ones need uniform spelling. The ones with higher counts will be prioritized, and some may slip through the cracks, as it is a tedious task. Colors with strong similarity will be placed into major color categories as well, at my discretion.(ie. tan, sandy, and blonde all identified as 'tan') "
   ]
  },
  {
   "cell_type": "markdown",
   "metadata": {
    "heading_collapsed": true
   },
   "source": [
    "##### editting color names"
   ]
  },
  {
   "cell_type": "code",
   "execution_count": 35,
   "metadata": {
    "ExecuteTime": {
     "end_time": "2020-02-24T20:05:55.392999Z",
     "start_time": "2020-02-24T20:05:54.966234Z"
    },
    "hidden": true
   },
   "outputs": [],
   "source": [
    "# white: wht\n",
    "whites = ('white', 'cream', 'whute', 'whit', 'whitg', 'wht','whtie'\n",
    "          , 'wwht', 'what','wt','whitge','whiite','whute','shite')\n",
    "\n",
    "edit_replace(whites, 'wht')"
   ]
  },
  {
   "cell_type": "code",
   "execution_count": 36,
   "metadata": {
    "ExecuteTime": {
     "end_time": "2020-02-24T20:05:55.812351Z",
     "start_time": "2020-02-24T20:05:55.395060Z"
    },
    "hidden": true
   },
   "outputs": [],
   "source": [
    "# blacks: bl\n",
    "blacks = ('black', 'blk', 'blkl', 'charcoal', 'bllk', 'balck', 'blavk', 'bkl', 'vlack'\n",
    "          , 'blavck', 'blkc', 'blakc')\n",
    "\n",
    "edit_replace(blacks, 'bk')"
   ]
  },
  {
   "cell_type": "code",
   "execution_count": 37,
   "metadata": {
    "ExecuteTime": {
     "end_time": "2020-02-24T20:05:56.554354Z",
     "start_time": "2020-02-24T20:05:55.814370Z"
    },
    "hidden": true
   },
   "outputs": [],
   "source": [
    "# browns: br\n",
    "browns = ('brown','brrwn', 'brwn', 'brn', 'choc', 'chocolate', 'brwon', 'choclate'\n",
    "          , 'brw', 'brownish', 'brow', 'brnlate', 'brnish', 'brnolate', 'brnm', 'brolate'\n",
    "          , 'brblk','chestnut', 'cho', 'brrwn', 'bbrown','bown')\n",
    "\n",
    "edit_replace(browns,'br')"
   ]
  },
  {
   "cell_type": "code",
   "execution_count": 38,
   "metadata": {
    "ExecuteTime": {
     "end_time": "2020-02-24T20:05:56.699733Z",
     "start_time": "2020-02-24T20:05:56.556418Z"
    },
    "hidden": true
   },
   "outputs": [],
   "source": [
    "# greys: gry\n",
    "greys = ('grey', 'gray', 'grrey','greymarble')\n",
    "\n",
    "edit_replace(greys, 'gry')"
   ]
  },
  {
   "cell_type": "code",
   "execution_count": 39,
   "metadata": {
    "ExecuteTime": {
     "end_time": "2020-02-24T20:05:57.054235Z",
     "start_time": "2020-02-24T20:05:56.701830Z"
    },
    "hidden": true
   },
   "outputs": [],
   "source": [
    "# tans/beige/blonde: tn\n",
    "tans = ('beige', 'blonde', 'golden', 'tan\\\\', 'goldish', 'tna', 'gold', 'tan', 'taan', 'sandy')\n",
    "\n",
    "edit_replace(tans, 'tn')"
   ]
  },
  {
   "cell_type": "code",
   "execution_count": 40,
   "metadata": {
    "ExecuteTime": {
     "end_time": "2020-02-24T20:05:57.346895Z",
     "start_time": "2020-02-24T20:05:57.064233Z"
    },
    "hidden": true
   },
   "outputs": [],
   "source": [
    "# stripes: stripe_tabby\n",
    "tabbies = ('tabby','tiger', 'tabble', 'taddy', 'tabs', 'tabbie')\n",
    "\n",
    "edit_replace(tabbies, 'tab')"
   ]
  },
  {
   "cell_type": "code",
   "execution_count": 41,
   "metadata": {
    "ExecuteTime": {
     "end_time": "2020-02-24T20:05:57.440113Z",
     "start_time": "2020-02-24T20:05:57.353482Z"
    },
    "hidden": true
   },
   "outputs": [],
   "source": [
    "# calico = cal\n",
    "edit_replace(('calico','claico'), 'cal')"
   ]
  },
  {
   "cell_type": "code",
   "execution_count": 42,
   "metadata": {
    "ExecuteTime": {
     "end_time": "2020-02-24T20:05:57.698531Z",
     "start_time": "2020-02-24T20:05:57.442753Z"
    },
    "hidden": true
   },
   "outputs": [],
   "source": [
    "# orange: or\n",
    "oranges = ('orange', 'orn', 'copper', 'orang', 'orage', 'ornage')\n",
    "\n",
    "edit_replace(oranges, 'org')"
   ]
  },
  {
   "cell_type": "code",
   "execution_count": 43,
   "metadata": {
    "ExecuteTime": {
     "end_time": "2020-02-24T20:05:58.292864Z",
     "start_time": "2020-02-24T20:05:57.700937Z"
    },
    "hidden": true
   },
   "outputs": [],
   "source": [
    "# brindle/fawn: brndl\n",
    "brindles = ('brindle', 'fawn', 'merle', 'torti', 'marbled', 'tortie', 'bridle', 'brndl', 'brndle', 'brndlee','leopard', 'tortoise', 'brindlw', 'brindlde')\n",
    "\n",
    "edit_replace(brindles, 'bndle')"
   ]
  },
  {
   "cell_type": "code",
   "execution_count": 44,
   "metadata": {
    "ExecuteTime": {
     "end_time": "2020-02-24T20:05:58.514676Z",
     "start_time": "2020-02-24T20:05:58.295410Z"
    },
    "hidden": true
   },
   "outputs": [],
   "source": [
    "# yellow: yel\n",
    "edit_replace(('yellow','yelow','yellw', 'yell', 'ylw'), 'yel')"
   ]
  },
  {
   "cell_type": "code",
   "execution_count": 45,
   "metadata": {
    "ExecuteTime": {
     "end_time": "2020-02-24T20:05:59.613021Z",
     "start_time": "2020-02-24T20:05:58.517084Z"
    },
    "hidden": true
   },
   "outputs": [],
   "source": [
    "# stop words and not decribing color (* is there a better way to do this?)\n",
    "to_drop = ('chest','and', 'normal', 'nose', 'paws', 'mouth', 'with', 'tail'\n",
    "           , 'belly', 'head', 'ears', 'eyes', 'face', 'feet', 'color', 'standard',\n",
    "          'fred', 'pattern', 'newbord', 'mostly', 'front', 'all', 'body', 'little', ' ', '  ')\n",
    "\n",
    "edit_replace(to_drop, '')"
   ]
  },
  {
   "cell_type": "code",
   "execution_count": 46,
   "metadata": {
    "ExecuteTime": {
     "end_time": "2020-02-24T20:05:59.706374Z",
     "start_time": "2020-02-24T20:05:59.615669Z"
    },
    "hidden": true
   },
   "outputs": [],
   "source": [
    "# other and unknown in nan category\n",
    "unknowns = ('unknown', 'nan')\n",
    "\n",
    "edit_replace(unknowns, 'other')"
   ]
  },
  {
   "cell_type": "code",
   "execution_count": 47,
   "metadata": {
    "ExecuteTime": {
     "end_time": "2020-02-24T20:05:59.759241Z",
     "start_time": "2020-02-24T20:05:59.708982Z"
    },
    "hidden": true
   },
   "outputs": [],
   "source": [
    "# replace empty values with other\n",
    "df['color'] = df['color'].apply(lambda x: x.strip()).replace('', 'other')"
   ]
  },
  {
   "cell_type": "markdown",
   "metadata": {},
   "source": [
    "##### alphabetizing and 'other' feature for low value counts"
   ]
  },
  {
   "cell_type": "code",
   "execution_count": 48,
   "metadata": {
    "ExecuteTime": {
     "end_time": "2020-02-24T20:05:59.838018Z",
     "start_time": "2020-02-24T20:05:59.761707Z"
    }
   },
   "outputs": [],
   "source": [
    "df['color'] = [','.join(sorted(i.split(','))) for i in df['color']]"
   ]
  },
  {
   "cell_type": "code",
   "execution_count": 49,
   "metadata": {
    "ExecuteTime": {
     "end_time": "2020-02-24T20:05:59.887061Z",
     "start_time": "2020-02-24T20:05:59.840580Z"
    }
   },
   "outputs": [],
   "source": [
    "df['color'] = df['color'].apply(lambda x : x[1:] if x.startswith(\",\") else x)"
   ]
  },
  {
   "cell_type": "code",
   "execution_count": 50,
   "metadata": {
    "ExecuteTime": {
     "end_time": "2020-02-24T20:05:59.910355Z",
     "start_time": "2020-02-24T20:05:59.889571Z"
    }
   },
   "outputs": [],
   "source": [
    "# defining counts to separate at 20 value counts\n",
    "counts = df['color'].value_counts()"
   ]
  },
  {
   "cell_type": "code",
   "execution_count": 51,
   "metadata": {
    "ExecuteTime": {
     "end_time": "2020-02-24T20:05:59.915705Z",
     "start_time": "2020-02-24T20:05:59.912935Z"
    }
   },
   "outputs": [],
   "source": [
    "#df['color'] = df['color'].apply(lambda x: ','.join((x.split(',').sort())))"
   ]
  },
  {
   "cell_type": "code",
   "execution_count": 52,
   "metadata": {
    "ExecuteTime": {
     "end_time": "2020-02-24T20:05:59.981424Z",
     "start_time": "2020-02-24T20:05:59.918923Z"
    }
   },
   "outputs": [],
   "source": [
    "# color combinations with less than 20 counts will be categorized as 'other'\n",
    "other_color_df =df[df['color'].isin(counts[counts < 10].index)]\n",
    "\n",
    "other_color_df['color'] = 'other'"
   ]
  },
  {
   "cell_type": "code",
   "execution_count": 53,
   "metadata": {
    "ExecuteTime": {
     "end_time": "2020-02-24T20:05:59.990605Z",
     "start_time": "2020-02-24T20:05:59.983499Z"
    },
    "scrolled": true
   },
   "outputs": [
    {
     "data": {
      "text/plain": [
       "other    1170\n",
       "Name: color, dtype: int64"
      ]
     },
     "execution_count": 53,
     "metadata": {},
     "output_type": "execute_result"
    }
   ],
   "source": [
    "#should be one value: 'other'\n",
    "other_color_df.color.value_counts()"
   ]
  },
  {
   "cell_type": "code",
   "execution_count": 54,
   "metadata": {
    "ExecuteTime": {
     "end_time": "2020-02-24T20:06:00.032440Z",
     "start_time": "2020-02-24T20:05:59.993646Z"
    }
   },
   "outputs": [],
   "source": [
    "# color values with over/equal to n counts\n",
    "colors_df =df[df['color'].isin(counts[counts >= 10].index)]"
   ]
  },
  {
   "cell_type": "code",
   "execution_count": 55,
   "metadata": {
    "ExecuteTime": {
     "end_time": "2020-02-24T20:06:00.051963Z",
     "start_time": "2020-02-24T20:06:00.034490Z"
    },
    "scrolled": true
   },
   "outputs": [
    {
     "data": {
      "text/plain": [
       "blue,gry,wht    10\n",
       "bk,spot,wht     10\n",
       "gr,wht          10\n",
       "br,light        10\n",
       "bk,wh           10\n",
       "Name: color, dtype: int64"
      ]
     },
     "execution_count": 55,
     "metadata": {},
     "output_type": "execute_result"
    }
   ],
   "source": [
    "#should be n or more per value\n",
    "colors_df.color.value_counts().tail()"
   ]
  },
  {
   "cell_type": "code",
   "execution_count": 56,
   "metadata": {
    "ExecuteTime": {
     "end_time": "2020-02-24T20:06:00.184123Z",
     "start_time": "2020-02-24T20:06:00.054971Z"
    }
   },
   "outputs": [
    {
     "data": {
      "text/plain": [
       "72450"
      ]
     },
     "execution_count": 56,
     "metadata": {},
     "output_type": "execute_result"
    }
   ],
   "source": [
    "#joining the 'other color' and 'all colors' dfs\n",
    "ec_df = pd.concat([colors_df,other_color_df ])\n",
    "len(ec_df)"
   ]
  },
  {
   "cell_type": "code",
   "execution_count": 57,
   "metadata": {
    "ExecuteTime": {
     "end_time": "2020-02-24T20:06:00.435070Z",
     "start_time": "2020-02-24T20:06:00.186320Z"
    },
    "scrolled": false
   },
   "outputs": [
    {
     "data": {
      "text/plain": [
       "other             23118\n",
       "bk,wht             5676\n",
       "gry                5228\n",
       "bk                 4756\n",
       "br,wht             3295\n",
       "br                 3118\n",
       "bk,gry             2926\n",
       "bk,br              2897\n",
       "gry,wht            2879\n",
       "tn,wht             2655\n",
       "bk,tn              2306\n",
       "tn                 1700\n",
       "wht                1383\n",
       "bk,br,wht           984\n",
       "bndle               839\n",
       "org                 827\n",
       "bk,tn,wht           706\n",
       "bndle,wht           595\n",
       "br,gry              592\n",
       "gry,tn              558\n",
       "org,wht             497\n",
       "bk,gry,wht          401\n",
       "yel                 381\n",
       "br,tn               378\n",
       "red                 329\n",
       "blue,wht            309\n",
       "cal                 237\n",
       "bk,gry,tn           187\n",
       "bk,org,wht          162\n",
       "blue                159\n",
       "                  ...  \n",
       "tn,tn                17\n",
       "bk,spots,wht         17\n",
       "bndle,red            17\n",
       "bk,br,gry,wht        16\n",
       "gry,org,wht          16\n",
       "wht,wht              16\n",
       "br,spots,wht         16\n",
       "bk,bndle,br          16\n",
       "bk,grn               15\n",
       "br,gry,tn            15\n",
       "bk,bndle             15\n",
       "br,org               15\n",
       "org,tn               15\n",
       "bndle,gry,wht        15\n",
       "tn,yel               15\n",
       "tab,wht              14\n",
       "br,dark              13\n",
       "bk,red,wht           13\n",
       "bk,grn,red           13\n",
       "bndle,gry            13\n",
       "tab,tn               13\n",
       "bk,blue              12\n",
       "bndle,tn,wht         11\n",
       "blue,bndle,wht       11\n",
       "br,tab,wht           11\n",
       "blue,gry,wht         10\n",
       "bk,spot,wht          10\n",
       "gr,wht               10\n",
       "br,light             10\n",
       "bk,wh                10\n",
       "Name: color, Length: 94, dtype: int64"
      ]
     },
     "execution_count": 57,
     "metadata": {},
     "output_type": "execute_result"
    }
   ],
   "source": [
    "#all should have a minimum n value counts, 'other' should now be included\n",
    "df = ec_df.copy()\n",
    "df.color.value_counts()"
   ]
  },
  {
   "cell_type": "markdown",
   "metadata": {},
   "source": [
    "#### breed"
   ]
  },
  {
   "cell_type": "code",
   "execution_count": 58,
   "metadata": {
    "ExecuteTime": {
     "end_time": "2020-02-24T20:06:00.506310Z",
     "start_time": "2020-02-24T20:06:00.437753Z"
    }
   },
   "outputs": [],
   "source": [
    "pre_breed = pre_color.copy()"
   ]
  },
  {
   "cell_type": "code",
   "execution_count": 117,
   "metadata": {
    "ExecuteTime": {
     "end_time": "2020-02-25T00:44:02.547934Z",
     "start_time": "2020-02-25T00:44:02.544154Z"
    }
   },
   "outputs": [],
   "source": [
    "df= pre_breed"
   ]
  },
  {
   "cell_type": "code",
   "execution_count": 118,
   "metadata": {
    "ExecuteTime": {
     "end_time": "2020-02-25T00:44:03.013085Z",
     "start_time": "2020-02-25T00:44:02.993883Z"
    },
    "scrolled": true
   },
   "outputs": [
    {
     "data": {
      "text/plain": [
       "nan                               21001\n",
       "dsh                               11440\n",
       "pit                               10520\n",
       "possum                             5411\n",
       "raccoon                            4345\n",
       "labrador                           3718\n",
       "terrier                            2135\n",
       "german_shepherd                    1548\n",
       "shepherd                           1027\n",
       "dmh                                 827\n",
       "chihuahua                           821\n",
       "dlh                                 711\n",
       "hound                               663\n",
       "rott                                597\n",
       "boxer                               442\n",
       "unknown                             416\n",
       "squirrel                            400\n",
       "horse                               351\n",
       "beagle                              339\n",
       "catahoula                           324\n",
       "chow                                320\n",
       "shih_tzu                            313\n",
       "armadillo                           285\n",
       "dachshund                           244\n",
       "retriever                           239\n",
       "mixed                               230\n",
       "husky                               194\n",
       "yorkshire_terrier                   177\n",
       "american_bulldog                    162\n",
       "snake_domestic_non_poisonous        158\n",
       "                                  ...  \n",
       "siberian_husky                        3\n",
       "hamster                               3\n",
       "persian                               3\n",
       "west_highland_terrier                 3\n",
       "greyhound                             3\n",
       "american_eskimo                       3\n",
       "bull_mastiff                          3\n",
       "australian_blue_healer                2\n",
       "bulldog_french                        2\n",
       "lizard                                2\n",
       "australian_cattle                     2\n",
       "bluetick_hound                        2\n",
       "american_staffordshire_terrier        2\n",
       "iguana                                2\n",
       "manx                                  2\n",
       "foxhound                              2\n",
       "welsh_corgi                           1\n",
       "peacock                               1\n",
       "mule                                  1\n",
       "fox_terrier                           1\n",
       "sheep                                 1\n",
       "wolf                                  1\n",
       "mouse                                 1\n",
       "bourvier_des_flanders                 1\n",
       "coonhound                             1\n",
       "crow                                  1\n",
       "norwegian_elkhound                    1\n",
       "ostrich                               1\n",
       "chinchilla                            1\n",
       "mink                                  1\n",
       "Name: breed, Length: 138, dtype: int64"
      ]
     },
     "execution_count": 118,
     "metadata": {},
     "output_type": "execute_result"
    }
   ],
   "source": [
    "df.breed.value_counts()"
   ]
  },
  {
   "cell_type": "code",
   "execution_count": 119,
   "metadata": {
    "ExecuteTime": {
     "end_time": "2020-02-25T00:44:03.267681Z",
     "start_time": "2020-02-25T00:44:03.225548Z"
    }
   },
   "outputs": [],
   "source": [
    "df['breed'] = df['breed'].apply(lambda x : x[1:] if x.startswith(\"X\") else x)"
   ]
  },
  {
   "cell_type": "code",
   "execution_count": 120,
   "metadata": {
    "ExecuteTime": {
     "end_time": "2020-02-25T00:44:03.546036Z",
     "start_time": "2020-02-25T00:44:03.434894Z"
    }
   },
   "outputs": [],
   "source": [
    "clean_str('breed')"
   ]
  },
  {
   "cell_type": "code",
   "execution_count": 121,
   "metadata": {
    "ExecuteTime": {
     "end_time": "2020-02-25T00:44:03.682317Z",
     "start_time": "2020-02-25T00:44:03.646993Z"
    }
   },
   "outputs": [],
   "source": [
    "df['breed'] = df.breed.apply(lambda x: x.replace('__', '_'))"
   ]
  },
  {
   "cell_type": "code",
   "execution_count": 122,
   "metadata": {
    "ExecuteTime": {
     "end_time": "2020-02-25T00:44:04.039123Z",
     "start_time": "2020-02-25T00:44:03.903591Z"
    }
   },
   "outputs": [],
   "source": [
    "df['breed'] = remove_numpunc(df['breed'], pattern='[^A-Za-z_]+')"
   ]
  },
  {
   "cell_type": "markdown",
   "metadata": {},
   "source": [
    "*_some of these breeds sound very similar(ie. staffordshire bull terrier vs american staffordshire terrier, doberman vs doberman pinscher, but I have investigated the questionably similar breeds before reassigning to the same variable._"
   ]
  },
  {
   "cell_type": "code",
   "execution_count": 123,
   "metadata": {
    "ExecuteTime": {
     "end_time": "2020-02-25T00:44:04.388168Z",
     "start_time": "2020-02-25T00:44:04.384360Z"
    }
   },
   "outputs": [],
   "source": [
    "def rep_breed(word, replacement):\n",
    "    df['breed'] = df['breed'].apply(lambda x: x.replace(word, replacement)) "
   ]
  },
  {
   "cell_type": "code",
   "execution_count": 124,
   "metadata": {
    "ExecuteTime": {
     "end_time": "2020-02-25T00:44:05.084561Z",
     "start_time": "2020-02-25T00:44:04.631999Z"
    },
    "code_folding": [
     0
    ]
   },
   "outputs": [],
   "source": [
    "# replacing breed names \n",
    "rep_breed('chow_chow', 'chow')\n",
    "rep_breed('boston_terrier', 'boston')\n",
    "rep_breed('poodle_standard', 'poodle')\n",
    "rep_breed('basset_hound', 'basset')\n",
    "rep_breed('rottweiller', 'rott')\n",
    "rep_breed('rottweiler', 'rott')\n",
    "rep_breed('pit_bull', 'pitbull')\n",
    "rep_breed('pitbull', 'pit')\n",
    "rep_breed('labrador_retriever', 'labrador')\n",
    "rep_breed('catahoula_hound', 'catahoula')\n",
    "rep_breed('english_bulldog', 'bulldog_english')\n",
    "rep_breed('shar_pei', 'sharpei')\n",
    "rep_breed('brittany_spaniel', 'brittany')\n",
    "rep_breed('other', 'unknown')"
   ]
  },
  {
   "cell_type": "code",
   "execution_count": 125,
   "metadata": {
    "ExecuteTime": {
     "end_time": "2020-02-25T00:44:05.105105Z",
     "start_time": "2020-02-25T00:44:05.087122Z"
    },
    "scrolled": true
   },
   "outputs": [
    {
     "data": {
      "text/plain": [
       "138"
      ]
     },
     "execution_count": 125,
     "metadata": {},
     "output_type": "execute_result"
    }
   ],
   "source": [
    "#\n",
    "len(df.breed.value_counts())"
   ]
  },
  {
   "cell_type": "markdown",
   "metadata": {},
   "source": [
    "#### condition, disposition, size, species, temperment"
   ]
  },
  {
   "cell_type": "code",
   "execution_count": 126,
   "metadata": {
    "ExecuteTime": {
     "end_time": "2020-02-25T00:44:05.342173Z",
     "start_time": "2020-02-25T00:44:05.338791Z"
    }
   },
   "outputs": [],
   "source": [
    "cdsst ='species', 'size', 'condition', 'temperment', 'disposition'"
   ]
  },
  {
   "cell_type": "code",
   "execution_count": 127,
   "metadata": {
    "ExecuteTime": {
     "end_time": "2020-02-25T00:44:06.730197Z",
     "start_time": "2020-02-25T00:44:05.623684Z"
    }
   },
   "outputs": [],
   "source": [
    "for col in cdsst:\n",
    "    clean_str(col)\n",
    "    df[col] = remove_numpunc(df[col], pattern='[^A-Za-z_]+')"
   ]
  },
  {
   "cell_type": "code",
   "execution_count": 128,
   "metadata": {
    "ExecuteTime": {
     "end_time": "2020-02-25T00:44:06.797876Z",
     "start_time": "2020-02-25T00:44:06.733008Z"
    },
    "scrolled": true
   },
   "outputs": [
    {
     "name": "stdout",
     "output_type": "stream",
     "text": [
      "-- Species --\n",
      " dog          26381\n",
      "nan          20215\n",
      "cat          13179\n",
      "wildlife     11079\n",
      "livestock      464\n",
      "reptile        409\n",
      "fowl           335\n",
      "bird           172\n",
      "birds          129\n",
      "unknown         43\n",
      "other           38\n",
      "exotic           6\n",
      "Name: species, dtype: int64 \n",
      "\n",
      "-- Size --\n",
      " medium         23143\n",
      "nan            21452\n",
      "large          15081\n",
      "small          10738\n",
      "extra_large     1235\n",
      "unknown          801\n",
      "Name: size, dtype: int64 \n",
      "\n",
      "-- Condition --\n",
      " fair         34191\n",
      "nan          22397\n",
      "good          8432\n",
      "emaciated     5835\n",
      "unknown       1056\n",
      "excellent      294\n",
      "poor           245\n",
      "Name: condition, dtype: int64 \n",
      "\n",
      "-- Temperment --\n",
      " normal       24205\n",
      "nan          21792\n",
      "friendly     12989\n",
      "nervous      11423\n",
      "dangerous     1350\n",
      "unknown        664\n",
      "scared          27\n",
      "Name: temperment, dtype: int64 \n",
      "\n",
      "-- Disposition --\n",
      " trans_caa            39062\n",
      "nan                  20200\n",
      "return_to_wild        9790\n",
      "return_to_owner       1989\n",
      "special_caseother      985\n",
      "euthanized             265\n",
      "dead_on_arrival         80\n",
      "unknown                 79\n",
      "Name: disposition, dtype: int64 \n",
      "\n"
     ]
    }
   ],
   "source": [
    "for col in cdsst:\n",
    "    print('--',col.capitalize(),'--\\n',df[col].value_counts(),'\\n')"
   ]
  },
  {
   "cell_type": "markdown",
   "metadata": {},
   "source": [
    "### service code, request type (service_type)"
   ]
  },
  {
   "cell_type": "code",
   "execution_count": 129,
   "metadata": {
    "ExecuteTime": {
     "end_time": "2020-02-25T00:44:06.805831Z",
     "start_time": "2020-02-25T00:44:06.801458Z"
    }
   },
   "outputs": [],
   "source": [
    "sr = ('service_code', 'request_type')"
   ]
  },
  {
   "cell_type": "code",
   "execution_count": 130,
   "metadata": {
    "ExecuteTime": {
     "end_time": "2020-02-25T00:44:06.955258Z",
     "start_time": "2020-02-25T00:44:06.889488Z"
    },
    "scrolled": true
   },
   "outputs": [
    {
     "ename": "KeyError",
     "evalue": "'service_code'",
     "output_type": "error",
     "traceback": [
      "\u001b[0;31m---------------------------------------------------------------------------\u001b[0m",
      "\u001b[0;31mKeyError\u001b[0m                                  Traceback (most recent call last)",
      "\u001b[0;32m~/anaconda3/lib/python3.7/site-packages/pandas/core/indexes/base.py\u001b[0m in \u001b[0;36mget_loc\u001b[0;34m(self, key, method, tolerance)\u001b[0m\n\u001b[1;32m   2656\u001b[0m             \u001b[0;32mtry\u001b[0m\u001b[0;34m:\u001b[0m\u001b[0;34m\u001b[0m\u001b[0;34m\u001b[0m\u001b[0m\n\u001b[0;32m-> 2657\u001b[0;31m                 \u001b[0;32mreturn\u001b[0m \u001b[0mself\u001b[0m\u001b[0;34m.\u001b[0m\u001b[0m_engine\u001b[0m\u001b[0;34m.\u001b[0m\u001b[0mget_loc\u001b[0m\u001b[0;34m(\u001b[0m\u001b[0mkey\u001b[0m\u001b[0;34m)\u001b[0m\u001b[0;34m\u001b[0m\u001b[0;34m\u001b[0m\u001b[0m\n\u001b[0m\u001b[1;32m   2658\u001b[0m             \u001b[0;32mexcept\u001b[0m \u001b[0mKeyError\u001b[0m\u001b[0;34m:\u001b[0m\u001b[0;34m\u001b[0m\u001b[0;34m\u001b[0m\u001b[0m\n",
      "\u001b[0;32mpandas/_libs/index.pyx\u001b[0m in \u001b[0;36mpandas._libs.index.IndexEngine.get_loc\u001b[0;34m()\u001b[0m\n",
      "\u001b[0;32mpandas/_libs/index.pyx\u001b[0m in \u001b[0;36mpandas._libs.index.IndexEngine.get_loc\u001b[0;34m()\u001b[0m\n",
      "\u001b[0;32mpandas/_libs/hashtable_class_helper.pxi\u001b[0m in \u001b[0;36mpandas._libs.hashtable.PyObjectHashTable.get_item\u001b[0;34m()\u001b[0m\n",
      "\u001b[0;32mpandas/_libs/hashtable_class_helper.pxi\u001b[0m in \u001b[0;36mpandas._libs.hashtable.PyObjectHashTable.get_item\u001b[0;34m()\u001b[0m\n",
      "\u001b[0;31mKeyError\u001b[0m: 'service_code'",
      "\nDuring handling of the above exception, another exception occurred:\n",
      "\u001b[0;31mKeyError\u001b[0m                                  Traceback (most recent call last)",
      "\u001b[0;32m<ipython-input-130-a5b032f77b44>\u001b[0m in \u001b[0;36m<module>\u001b[0;34m\u001b[0m\n\u001b[1;32m      1\u001b[0m \u001b[0;32mfor\u001b[0m \u001b[0mcol\u001b[0m \u001b[0;32min\u001b[0m \u001b[0msr\u001b[0m\u001b[0;34m:\u001b[0m\u001b[0;34m\u001b[0m\u001b[0;34m\u001b[0m\u001b[0m\n\u001b[0;32m----> 2\u001b[0;31m     \u001b[0mprint\u001b[0m\u001b[0;34m(\u001b[0m\u001b[0;34m'--'\u001b[0m\u001b[0;34m,\u001b[0m\u001b[0mcol\u001b[0m\u001b[0;34m.\u001b[0m\u001b[0mcapitalize\u001b[0m\u001b[0;34m(\u001b[0m\u001b[0;34m)\u001b[0m\u001b[0;34m,\u001b[0m\u001b[0;34m'--\\n'\u001b[0m\u001b[0;34m,\u001b[0m\u001b[0mdf\u001b[0m\u001b[0;34m[\u001b[0m\u001b[0mcol\u001b[0m\u001b[0;34m]\u001b[0m\u001b[0;34m.\u001b[0m\u001b[0mvalue_counts\u001b[0m\u001b[0;34m(\u001b[0m\u001b[0;34m)\u001b[0m\u001b[0;34m,\u001b[0m\u001b[0;34m'\\n'\u001b[0m\u001b[0;34m)\u001b[0m\u001b[0;34m\u001b[0m\u001b[0;34m\u001b[0m\u001b[0m\n\u001b[0m",
      "\u001b[0;32m~/anaconda3/lib/python3.7/site-packages/pandas/core/frame.py\u001b[0m in \u001b[0;36m__getitem__\u001b[0;34m(self, key)\u001b[0m\n\u001b[1;32m   2925\u001b[0m             \u001b[0;32mif\u001b[0m \u001b[0mself\u001b[0m\u001b[0;34m.\u001b[0m\u001b[0mcolumns\u001b[0m\u001b[0;34m.\u001b[0m\u001b[0mnlevels\u001b[0m \u001b[0;34m>\u001b[0m \u001b[0;36m1\u001b[0m\u001b[0;34m:\u001b[0m\u001b[0;34m\u001b[0m\u001b[0;34m\u001b[0m\u001b[0m\n\u001b[1;32m   2926\u001b[0m                 \u001b[0;32mreturn\u001b[0m \u001b[0mself\u001b[0m\u001b[0;34m.\u001b[0m\u001b[0m_getitem_multilevel\u001b[0m\u001b[0;34m(\u001b[0m\u001b[0mkey\u001b[0m\u001b[0;34m)\u001b[0m\u001b[0;34m\u001b[0m\u001b[0;34m\u001b[0m\u001b[0m\n\u001b[0;32m-> 2927\u001b[0;31m             \u001b[0mindexer\u001b[0m \u001b[0;34m=\u001b[0m \u001b[0mself\u001b[0m\u001b[0;34m.\u001b[0m\u001b[0mcolumns\u001b[0m\u001b[0;34m.\u001b[0m\u001b[0mget_loc\u001b[0m\u001b[0;34m(\u001b[0m\u001b[0mkey\u001b[0m\u001b[0;34m)\u001b[0m\u001b[0;34m\u001b[0m\u001b[0;34m\u001b[0m\u001b[0m\n\u001b[0m\u001b[1;32m   2928\u001b[0m             \u001b[0;32mif\u001b[0m \u001b[0mis_integer\u001b[0m\u001b[0;34m(\u001b[0m\u001b[0mindexer\u001b[0m\u001b[0;34m)\u001b[0m\u001b[0;34m:\u001b[0m\u001b[0;34m\u001b[0m\u001b[0;34m\u001b[0m\u001b[0m\n\u001b[1;32m   2929\u001b[0m                 \u001b[0mindexer\u001b[0m \u001b[0;34m=\u001b[0m \u001b[0;34m[\u001b[0m\u001b[0mindexer\u001b[0m\u001b[0;34m]\u001b[0m\u001b[0;34m\u001b[0m\u001b[0;34m\u001b[0m\u001b[0m\n",
      "\u001b[0;32m~/anaconda3/lib/python3.7/site-packages/pandas/core/indexes/base.py\u001b[0m in \u001b[0;36mget_loc\u001b[0;34m(self, key, method, tolerance)\u001b[0m\n\u001b[1;32m   2657\u001b[0m                 \u001b[0;32mreturn\u001b[0m \u001b[0mself\u001b[0m\u001b[0;34m.\u001b[0m\u001b[0m_engine\u001b[0m\u001b[0;34m.\u001b[0m\u001b[0mget_loc\u001b[0m\u001b[0;34m(\u001b[0m\u001b[0mkey\u001b[0m\u001b[0;34m)\u001b[0m\u001b[0;34m\u001b[0m\u001b[0;34m\u001b[0m\u001b[0m\n\u001b[1;32m   2658\u001b[0m             \u001b[0;32mexcept\u001b[0m \u001b[0mKeyError\u001b[0m\u001b[0;34m:\u001b[0m\u001b[0;34m\u001b[0m\u001b[0;34m\u001b[0m\u001b[0m\n\u001b[0;32m-> 2659\u001b[0;31m                 \u001b[0;32mreturn\u001b[0m \u001b[0mself\u001b[0m\u001b[0;34m.\u001b[0m\u001b[0m_engine\u001b[0m\u001b[0;34m.\u001b[0m\u001b[0mget_loc\u001b[0m\u001b[0;34m(\u001b[0m\u001b[0mself\u001b[0m\u001b[0;34m.\u001b[0m\u001b[0m_maybe_cast_indexer\u001b[0m\u001b[0;34m(\u001b[0m\u001b[0mkey\u001b[0m\u001b[0;34m)\u001b[0m\u001b[0;34m)\u001b[0m\u001b[0;34m\u001b[0m\u001b[0;34m\u001b[0m\u001b[0m\n\u001b[0m\u001b[1;32m   2660\u001b[0m         \u001b[0mindexer\u001b[0m \u001b[0;34m=\u001b[0m \u001b[0mself\u001b[0m\u001b[0;34m.\u001b[0m\u001b[0mget_indexer\u001b[0m\u001b[0;34m(\u001b[0m\u001b[0;34m[\u001b[0m\u001b[0mkey\u001b[0m\u001b[0;34m]\u001b[0m\u001b[0;34m,\u001b[0m \u001b[0mmethod\u001b[0m\u001b[0;34m=\u001b[0m\u001b[0mmethod\u001b[0m\u001b[0;34m,\u001b[0m \u001b[0mtolerance\u001b[0m\u001b[0;34m=\u001b[0m\u001b[0mtolerance\u001b[0m\u001b[0;34m)\u001b[0m\u001b[0;34m\u001b[0m\u001b[0;34m\u001b[0m\u001b[0m\n\u001b[1;32m   2661\u001b[0m         \u001b[0;32mif\u001b[0m \u001b[0mindexer\u001b[0m\u001b[0;34m.\u001b[0m\u001b[0mndim\u001b[0m \u001b[0;34m>\u001b[0m \u001b[0;36m1\u001b[0m \u001b[0;32mor\u001b[0m \u001b[0mindexer\u001b[0m\u001b[0;34m.\u001b[0m\u001b[0msize\u001b[0m \u001b[0;34m>\u001b[0m \u001b[0;36m1\u001b[0m\u001b[0;34m:\u001b[0m\u001b[0;34m\u001b[0m\u001b[0;34m\u001b[0m\u001b[0m\n",
      "\u001b[0;32mpandas/_libs/index.pyx\u001b[0m in \u001b[0;36mpandas._libs.index.IndexEngine.get_loc\u001b[0;34m()\u001b[0m\n",
      "\u001b[0;32mpandas/_libs/index.pyx\u001b[0m in \u001b[0;36mpandas._libs.index.IndexEngine.get_loc\u001b[0;34m()\u001b[0m\n",
      "\u001b[0;32mpandas/_libs/hashtable_class_helper.pxi\u001b[0m in \u001b[0;36mpandas._libs.hashtable.PyObjectHashTable.get_item\u001b[0;34m()\u001b[0m\n",
      "\u001b[0;32mpandas/_libs/hashtable_class_helper.pxi\u001b[0m in \u001b[0;36mpandas._libs.hashtable.PyObjectHashTable.get_item\u001b[0;34m()\u001b[0m\n",
      "\u001b[0;31mKeyError\u001b[0m: 'service_code'"
     ]
    }
   ],
   "source": [
    "for col in sr:\n",
    "    print('--',col.capitalize(),'--\\n',df[col].value_counts(),'\\n')"
   ]
  },
  {
   "cell_type": "code",
   "execution_count": 131,
   "metadata": {
    "ExecuteTime": {
     "end_time": "2020-02-25T00:44:07.200260Z",
     "start_time": "2020-02-25T00:44:07.140538Z"
    }
   },
   "outputs": [
    {
     "ename": "KeyError",
     "evalue": "'service_code'",
     "output_type": "error",
     "traceback": [
      "\u001b[0;31m---------------------------------------------------------------------------\u001b[0m",
      "\u001b[0;31mKeyError\u001b[0m                                  Traceback (most recent call last)",
      "\u001b[0;32m~/anaconda3/lib/python3.7/site-packages/pandas/core/indexes/base.py\u001b[0m in \u001b[0;36mget_loc\u001b[0;34m(self, key, method, tolerance)\u001b[0m\n\u001b[1;32m   2656\u001b[0m             \u001b[0;32mtry\u001b[0m\u001b[0;34m:\u001b[0m\u001b[0;34m\u001b[0m\u001b[0;34m\u001b[0m\u001b[0m\n\u001b[0;32m-> 2657\u001b[0;31m                 \u001b[0;32mreturn\u001b[0m \u001b[0mself\u001b[0m\u001b[0;34m.\u001b[0m\u001b[0m_engine\u001b[0m\u001b[0;34m.\u001b[0m\u001b[0mget_loc\u001b[0m\u001b[0;34m(\u001b[0m\u001b[0mkey\u001b[0m\u001b[0;34m)\u001b[0m\u001b[0;34m\u001b[0m\u001b[0;34m\u001b[0m\u001b[0m\n\u001b[0m\u001b[1;32m   2658\u001b[0m             \u001b[0;32mexcept\u001b[0m \u001b[0mKeyError\u001b[0m\u001b[0;34m:\u001b[0m\u001b[0;34m\u001b[0m\u001b[0;34m\u001b[0m\u001b[0m\n",
      "\u001b[0;32mpandas/_libs/index.pyx\u001b[0m in \u001b[0;36mpandas._libs.index.IndexEngine.get_loc\u001b[0;34m()\u001b[0m\n",
      "\u001b[0;32mpandas/_libs/index.pyx\u001b[0m in \u001b[0;36mpandas._libs.index.IndexEngine.get_loc\u001b[0;34m()\u001b[0m\n",
      "\u001b[0;32mpandas/_libs/hashtable_class_helper.pxi\u001b[0m in \u001b[0;36mpandas._libs.hashtable.PyObjectHashTable.get_item\u001b[0;34m()\u001b[0m\n",
      "\u001b[0;32mpandas/_libs/hashtable_class_helper.pxi\u001b[0m in \u001b[0;36mpandas._libs.hashtable.PyObjectHashTable.get_item\u001b[0;34m()\u001b[0m\n",
      "\u001b[0;31mKeyError\u001b[0m: 'service_code'",
      "\nDuring handling of the above exception, another exception occurred:\n",
      "\u001b[0;31mKeyError\u001b[0m                                  Traceback (most recent call last)",
      "\u001b[0;32m<ipython-input-131-58328db92a8b>\u001b[0m in \u001b[0;36m<module>\u001b[0;34m\u001b[0m\n\u001b[1;32m      1\u001b[0m \u001b[0;31m# creating column that fills in missing values from service code using existing values from request type\u001b[0m\u001b[0;34m\u001b[0m\u001b[0;34m\u001b[0m\u001b[0;34m\u001b[0m\u001b[0m\n\u001b[0;32m----> 2\u001b[0;31m \u001b[0mdf\u001b[0m\u001b[0;34m[\u001b[0m\u001b[0;34m'service_type'\u001b[0m\u001b[0;34m]\u001b[0m\u001b[0;34m=\u001b[0m\u001b[0mdf\u001b[0m\u001b[0;34m[\u001b[0m\u001b[0;34m'service_code'\u001b[0m\u001b[0;34m]\u001b[0m\u001b[0;34m.\u001b[0m\u001b[0mmask\u001b[0m\u001b[0;34m(\u001b[0m\u001b[0mpd\u001b[0m\u001b[0;34m.\u001b[0m\u001b[0misnull\u001b[0m\u001b[0;34m,\u001b[0m \u001b[0mdf\u001b[0m\u001b[0;34m[\u001b[0m\u001b[0;34m'request_type'\u001b[0m\u001b[0;34m]\u001b[0m\u001b[0;34m)\u001b[0m\u001b[0;34m\u001b[0m\u001b[0;34m\u001b[0m\u001b[0m\n\u001b[0m\u001b[1;32m      3\u001b[0m \u001b[0;34m\u001b[0m\u001b[0m\n\u001b[1;32m      4\u001b[0m \u001b[0;31m# dropping merged columns\u001b[0m\u001b[0;34m\u001b[0m\u001b[0;34m\u001b[0m\u001b[0;34m\u001b[0m\u001b[0m\n\u001b[1;32m      5\u001b[0m \u001b[0mdf\u001b[0m\u001b[0;34m.\u001b[0m\u001b[0mdrop\u001b[0m\u001b[0;34m(\u001b[0m\u001b[0mcolumns\u001b[0m\u001b[0;34m=\u001b[0m\u001b[0;34m[\u001b[0m\u001b[0;34m'service_code'\u001b[0m\u001b[0;34m,\u001b[0m \u001b[0;34m'request_type'\u001b[0m\u001b[0;34m]\u001b[0m\u001b[0;34m,\u001b[0m \u001b[0minplace\u001b[0m\u001b[0;34m=\u001b[0m\u001b[0;32mTrue\u001b[0m\u001b[0;34m)\u001b[0m\u001b[0;34m\u001b[0m\u001b[0;34m\u001b[0m\u001b[0m\n",
      "\u001b[0;32m~/anaconda3/lib/python3.7/site-packages/pandas/core/frame.py\u001b[0m in \u001b[0;36m__getitem__\u001b[0;34m(self, key)\u001b[0m\n\u001b[1;32m   2925\u001b[0m             \u001b[0;32mif\u001b[0m \u001b[0mself\u001b[0m\u001b[0;34m.\u001b[0m\u001b[0mcolumns\u001b[0m\u001b[0;34m.\u001b[0m\u001b[0mnlevels\u001b[0m \u001b[0;34m>\u001b[0m \u001b[0;36m1\u001b[0m\u001b[0;34m:\u001b[0m\u001b[0;34m\u001b[0m\u001b[0;34m\u001b[0m\u001b[0m\n\u001b[1;32m   2926\u001b[0m                 \u001b[0;32mreturn\u001b[0m \u001b[0mself\u001b[0m\u001b[0;34m.\u001b[0m\u001b[0m_getitem_multilevel\u001b[0m\u001b[0;34m(\u001b[0m\u001b[0mkey\u001b[0m\u001b[0;34m)\u001b[0m\u001b[0;34m\u001b[0m\u001b[0;34m\u001b[0m\u001b[0m\n\u001b[0;32m-> 2927\u001b[0;31m             \u001b[0mindexer\u001b[0m \u001b[0;34m=\u001b[0m \u001b[0mself\u001b[0m\u001b[0;34m.\u001b[0m\u001b[0mcolumns\u001b[0m\u001b[0;34m.\u001b[0m\u001b[0mget_loc\u001b[0m\u001b[0;34m(\u001b[0m\u001b[0mkey\u001b[0m\u001b[0;34m)\u001b[0m\u001b[0;34m\u001b[0m\u001b[0;34m\u001b[0m\u001b[0m\n\u001b[0m\u001b[1;32m   2928\u001b[0m             \u001b[0;32mif\u001b[0m \u001b[0mis_integer\u001b[0m\u001b[0;34m(\u001b[0m\u001b[0mindexer\u001b[0m\u001b[0;34m)\u001b[0m\u001b[0;34m:\u001b[0m\u001b[0;34m\u001b[0m\u001b[0;34m\u001b[0m\u001b[0m\n\u001b[1;32m   2929\u001b[0m                 \u001b[0mindexer\u001b[0m \u001b[0;34m=\u001b[0m \u001b[0;34m[\u001b[0m\u001b[0mindexer\u001b[0m\u001b[0;34m]\u001b[0m\u001b[0;34m\u001b[0m\u001b[0;34m\u001b[0m\u001b[0m\n",
      "\u001b[0;32m~/anaconda3/lib/python3.7/site-packages/pandas/core/indexes/base.py\u001b[0m in \u001b[0;36mget_loc\u001b[0;34m(self, key, method, tolerance)\u001b[0m\n\u001b[1;32m   2657\u001b[0m                 \u001b[0;32mreturn\u001b[0m \u001b[0mself\u001b[0m\u001b[0;34m.\u001b[0m\u001b[0m_engine\u001b[0m\u001b[0;34m.\u001b[0m\u001b[0mget_loc\u001b[0m\u001b[0;34m(\u001b[0m\u001b[0mkey\u001b[0m\u001b[0;34m)\u001b[0m\u001b[0;34m\u001b[0m\u001b[0;34m\u001b[0m\u001b[0m\n\u001b[1;32m   2658\u001b[0m             \u001b[0;32mexcept\u001b[0m \u001b[0mKeyError\u001b[0m\u001b[0;34m:\u001b[0m\u001b[0;34m\u001b[0m\u001b[0;34m\u001b[0m\u001b[0m\n\u001b[0;32m-> 2659\u001b[0;31m                 \u001b[0;32mreturn\u001b[0m \u001b[0mself\u001b[0m\u001b[0;34m.\u001b[0m\u001b[0m_engine\u001b[0m\u001b[0;34m.\u001b[0m\u001b[0mget_loc\u001b[0m\u001b[0;34m(\u001b[0m\u001b[0mself\u001b[0m\u001b[0;34m.\u001b[0m\u001b[0m_maybe_cast_indexer\u001b[0m\u001b[0;34m(\u001b[0m\u001b[0mkey\u001b[0m\u001b[0;34m)\u001b[0m\u001b[0;34m)\u001b[0m\u001b[0;34m\u001b[0m\u001b[0;34m\u001b[0m\u001b[0m\n\u001b[0m\u001b[1;32m   2660\u001b[0m         \u001b[0mindexer\u001b[0m \u001b[0;34m=\u001b[0m \u001b[0mself\u001b[0m\u001b[0;34m.\u001b[0m\u001b[0mget_indexer\u001b[0m\u001b[0;34m(\u001b[0m\u001b[0;34m[\u001b[0m\u001b[0mkey\u001b[0m\u001b[0;34m]\u001b[0m\u001b[0;34m,\u001b[0m \u001b[0mmethod\u001b[0m\u001b[0;34m=\u001b[0m\u001b[0mmethod\u001b[0m\u001b[0;34m,\u001b[0m \u001b[0mtolerance\u001b[0m\u001b[0;34m=\u001b[0m\u001b[0mtolerance\u001b[0m\u001b[0;34m)\u001b[0m\u001b[0;34m\u001b[0m\u001b[0;34m\u001b[0m\u001b[0m\n\u001b[1;32m   2661\u001b[0m         \u001b[0;32mif\u001b[0m \u001b[0mindexer\u001b[0m\u001b[0;34m.\u001b[0m\u001b[0mndim\u001b[0m \u001b[0;34m>\u001b[0m \u001b[0;36m1\u001b[0m \u001b[0;32mor\u001b[0m \u001b[0mindexer\u001b[0m\u001b[0;34m.\u001b[0m\u001b[0msize\u001b[0m \u001b[0;34m>\u001b[0m \u001b[0;36m1\u001b[0m\u001b[0;34m:\u001b[0m\u001b[0;34m\u001b[0m\u001b[0;34m\u001b[0m\u001b[0m\n",
      "\u001b[0;32mpandas/_libs/index.pyx\u001b[0m in \u001b[0;36mpandas._libs.index.IndexEngine.get_loc\u001b[0;34m()\u001b[0m\n",
      "\u001b[0;32mpandas/_libs/index.pyx\u001b[0m in \u001b[0;36mpandas._libs.index.IndexEngine.get_loc\u001b[0;34m()\u001b[0m\n",
      "\u001b[0;32mpandas/_libs/hashtable_class_helper.pxi\u001b[0m in \u001b[0;36mpandas._libs.hashtable.PyObjectHashTable.get_item\u001b[0;34m()\u001b[0m\n",
      "\u001b[0;32mpandas/_libs/hashtable_class_helper.pxi\u001b[0m in \u001b[0;36mpandas._libs.hashtable.PyObjectHashTable.get_item\u001b[0;34m()\u001b[0m\n",
      "\u001b[0;31mKeyError\u001b[0m: 'service_code'"
     ]
    }
   ],
   "source": [
    "# creating column that fills in missing values from service code using existing values from request type\n",
    "df['service_type']=df['service_code'].mask(pd.isnull, df['request_type'])\n",
    "\n",
    "# dropping merged columns\n",
    "df.drop(columns=['service_code', 'request_type'], inplace=True)"
   ]
  },
  {
   "cell_type": "code",
   "execution_count": 132,
   "metadata": {
    "ExecuteTime": {
     "end_time": "2020-02-25T00:44:07.691935Z",
     "start_time": "2020-02-25T00:44:07.441434Z"
    }
   },
   "outputs": [],
   "source": [
    "# removing punctuations, lower casing, etc..\n",
    "clean_str('service_type')\n",
    "df['service_type'] = remove_numpunc(df['service_type'], pattern='[^A-Za-z_]+')"
   ]
  },
  {
   "cell_type": "code",
   "execution_count": 133,
   "metadata": {
    "ExecuteTime": {
     "end_time": "2020-02-25T00:44:09.418931Z",
     "start_time": "2020-02-25T00:44:09.413946Z"
    }
   },
   "outputs": [],
   "source": [
    "def rep_service(word, replacement):\n",
    "    df['service_type'] = df['service_type'].apply(lambda x: x.replace(word, replacement))  "
   ]
  },
  {
   "cell_type": "code",
   "execution_count": 134,
   "metadata": {
    "ExecuteTime": {
     "end_time": "2020-02-25T00:44:10.365654Z",
     "start_time": "2020-02-25T00:44:09.833749Z"
    },
    "code_folding": [
     0
    ]
   },
   "outputs": [],
   "source": [
    "# unifying service types\n",
    "\n",
    "# dangerous animal situation\n",
    "rep_service('dangerous_animal_situation', 'dangerous_animal_sit')\n",
    "\n",
    "# cruelty cases\n",
    "rep_service('cruelty_case', 'cruelty')\n",
    "\n",
    "# stray animals\n",
    "rep_service('stray_animal_secured', 'stray_an_secured')\n",
    "\n",
    "#loose animal and loose could include loose livestock, so I will assign all to 'loose'\n",
    "rep_service('loose_live_stock', 'loose_livestock')\n",
    "rep_service('loose_livestock', 'loose')\n",
    "rep_service('loose_animal', 'loose')\n",
    "\n",
    "# injured - injured animal and injured dog all under injured\n",
    "rep_service('injured_animal', 'injured')\n",
    "rep_service('injured_dog', 'injured')\n",
    "rep_service('hit_by_car', 'injured')\n",
    "\n",
    "#\n",
    "rep_service('delivered_tags', 'deliver_tags')\n",
    "\n",
    "rep_service('wild_live', 'wild_life')\n",
    "\n",
    "rep_service('other', 'unknown')\n",
    "\n",
    "rep_service('abandoned_dog', 'abandoned_animal')\n",
    "rep_service('abandoned_animal', 'abandoned')\n",
    "\n",
    "rep_service('animal_on_school_campus', 'school_call')\n",
    "\n",
    "rep_service('owned', 'owner_signed_release')"
   ]
  },
  {
   "cell_type": "code",
   "execution_count": 135,
   "metadata": {
    "ExecuteTime": {
     "end_time": "2020-02-25T00:44:10.388202Z",
     "start_time": "2020-02-25T00:44:10.368258Z"
    }
   },
   "outputs": [
    {
     "data": {
      "text/plain": [
       "trapped_animal                17894\n",
       "stray                         10229\n",
       "stray_an_secured               8368\n",
       "unknown                        5932\n",
       "loose                          4760\n",
       "cruelty                        2577\n",
       "injured                        2336\n",
       "abandoned                      2312\n",
       "owner_signed_release           2268\n",
       "wild_life                      1585\n",
       "animal_rescue                  1333\n",
       "unit_standing_by               1333\n",
       "dangerous_animal_sit           1165\n",
       "deliver_tags                   1073\n",
       "bite_case_loose                 929\n",
       "sick_animal                     879\n",
       "vet_pickup                      793\n",
       "pick_up_trap                    784\n",
       "bite_case                       771\n",
       "special_case                    680\n",
       "snake                           675\n",
       "patrol_area                     654\n",
       "pit                             618\n",
       "cruelty_recheck                 509\n",
       "deliver_trap                    479\n",
       "bite_case_secure                450\n",
       "pick_up_or_deliver_package      349\n",
       "school_call                     349\n",
       "barking_dog                     201\n",
       "dog_fighting                    131\n",
       "vet_transfer                     34\n",
       "Name: service_type, dtype: int64"
      ]
     },
     "execution_count": 135,
     "metadata": {},
     "output_type": "execute_result"
    }
   ],
   "source": [
    "df.service_type.value_counts()"
   ]
  },
  {
   "cell_type": "code",
   "execution_count": 136,
   "metadata": {
    "ExecuteTime": {
     "end_time": "2020-02-25T00:44:10.836224Z",
     "start_time": "2020-02-25T00:44:10.833032Z"
    },
    "scrolled": true
   },
   "outputs": [],
   "source": [
    "#stop"
   ]
  },
  {
   "cell_type": "markdown",
   "metadata": {},
   "source": [
    "### equipment number"
   ]
  },
  {
   "cell_type": "code",
   "execution_count": 137,
   "metadata": {
    "ExecuteTime": {
     "end_time": "2020-02-25T00:44:11.710567Z",
     "start_time": "2020-02-25T00:44:11.694761Z"
    },
    "scrolled": true
   },
   "outputs": [
    {
     "data": {
      "text/plain": [
       "       12666\n",
       "4       6496\n",
       "9       6236\n",
       "12      6194\n",
       "13      5618\n",
       "10      4950\n",
       "6       4912\n",
       "11      4698\n",
       "19      4558\n",
       "1       3878\n",
       "18      3724\n",
       "16      3525\n",
       "15      2906\n",
       "14      1723\n",
       "20       232\n",
       "5         49\n",
       "7         35\n",
       "17        31\n",
       "8         16\n",
       "nan        3\n",
       "Name: equipment_number, dtype: int64"
      ]
     },
     "execution_count": 137,
     "metadata": {},
     "output_type": "execute_result"
    }
   ],
   "source": [
    "df.equipment_number.value_counts()"
   ]
  },
  {
   "cell_type": "code",
   "execution_count": 138,
   "metadata": {
    "ExecuteTime": {
     "end_time": "2020-02-25T00:44:12.215774Z",
     "start_time": "2020-02-25T00:44:12.125440Z"
    }
   },
   "outputs": [],
   "source": [
    "clean_str('equipment_number')"
   ]
  },
  {
   "cell_type": "code",
   "execution_count": 139,
   "metadata": {
    "ExecuteTime": {
     "end_time": "2020-02-25T00:44:12.593512Z",
     "start_time": "2020-02-25T00:44:12.469731Z"
    }
   },
   "outputs": [],
   "source": [
    "df['equipment_number'] = remove_numpunc(df['equipment_number'], pattern ='[^0-9]+')"
   ]
  },
  {
   "cell_type": "code",
   "execution_count": 140,
   "metadata": {
    "ExecuteTime": {
     "end_time": "2020-02-25T00:44:15.897838Z",
     "start_time": "2020-02-25T00:44:15.860391Z"
    }
   },
   "outputs": [],
   "source": [
    "df['equipment_number'] = df['equipment_number'].apply(lambda x : x[1:] if x.startswith(\"0\") else x)"
   ]
  },
  {
   "cell_type": "code",
   "execution_count": 144,
   "metadata": {
    "ExecuteTime": {
     "end_time": "2020-02-25T00:45:03.511983Z",
     "start_time": "2020-02-25T00:45:03.456516Z"
    }
   },
   "outputs": [],
   "source": [
    "df['equipment_number'] = df.equipment_number.replace('2692', 'nan')\n",
    "df['equipment_number'] = df.equipment_number.replace('198', 'nan')\n",
    "df['equipment_number'] = df.equipment_number.replace('418', 'nan')\n",
    "df['equipment_number'] = df['equipment_number'].apply(lambda x : x.replace(x,'nan') if x=='' else x)"
   ]
  },
  {
   "cell_type": "code",
   "execution_count": 145,
   "metadata": {
    "ExecuteTime": {
     "end_time": "2020-02-25T00:45:10.751371Z",
     "start_time": "2020-02-25T00:45:10.734560Z"
    }
   },
   "outputs": [
    {
     "data": {
      "text/plain": [
       "nan    12669\n",
       "4       6496\n",
       "9       6236\n",
       "12      6194\n",
       "13      5618\n",
       "10      4950\n",
       "6       4912\n",
       "11      4698\n",
       "19      4558\n",
       "1       3878\n",
       "18      3724\n",
       "16      3525\n",
       "15      2906\n",
       "14      1723\n",
       "20       232\n",
       "5         49\n",
       "7         35\n",
       "17        31\n",
       "8         16\n",
       "Name: equipment_number, dtype: int64"
      ]
     },
     "execution_count": 145,
     "metadata": {},
     "output_type": "execute_result"
    }
   ],
   "source": [
    "df.equipment_number.value_counts()"
   ]
  },
  {
   "cell_type": "markdown",
   "metadata": {},
   "source": [
    "### location related"
   ]
  },
  {
   "cell_type": "markdown",
   "metadata": {},
   "source": [
    "The features describing location are: municipality, location, zip code, and complainant street.\n",
    "\n",
    "The only column without missing values is the street feature. The usefulness of this feature in analysis is questionable, but if enough correlation exists, I could use it to fill in missing data in one of the other features with the most likely value."
   ]
  },
  {
   "cell_type": "code",
   "execution_count": 148,
   "metadata": {
    "ExecuteTime": {
     "end_time": "2020-02-25T00:45:48.267182Z",
     "start_time": "2020-02-25T00:45:48.252660Z"
    }
   },
   "outputs": [
    {
     "data": {
      "text/plain": [
       "7219"
      ]
     },
     "execution_count": 148,
     "metadata": {},
     "output_type": "execute_result"
    }
   ],
   "source": [
    "len(df.complainant_street.unique())"
   ]
  },
  {
   "cell_type": "markdown",
   "metadata": {},
   "source": [
    "complainant street has no nas, but not sure if it provides value to analysis without a region"
   ]
  },
  {
   "cell_type": "markdown",
   "metadata": {
    "heading_collapsed": true
   },
   "source": [
    "### names"
   ]
  },
  {
   "cell_type": "markdown",
   "metadata": {
    "hidden": true
   },
   "source": []
  },
  {
   "cell_type": "code",
   "execution_count": 86,
   "metadata": {
    "ExecuteTime": {
     "end_time": "2020-02-24T20:06:03.891401Z",
     "start_time": "2020-02-24T20:06:03.885351Z"
    },
    "hidden": true
   },
   "outputs": [],
   "source": [
    "name_cols = ['call_taker', 'dispatcher', 'officer', 'disposition_officer'] "
   ]
  },
  {
   "cell_type": "code",
   "execution_count": 87,
   "metadata": {
    "ExecuteTime": {
     "end_time": "2020-02-24T20:06:04.092497Z",
     "start_time": "2020-02-24T20:06:03.894346Z"
    },
    "hidden": true
   },
   "outputs": [],
   "source": [
    "for col in name_cols:\n",
    "    df[col] = df[col].str.strip()\n",
    "    df[col] = df[col].replace(' ', '_')\n",
    "    df[col] = df[col].str.lower()"
   ]
  },
  {
   "cell_type": "code",
   "execution_count": 88,
   "metadata": {
    "ExecuteTime": {
     "end_time": "2020-02-24T20:06:07.294689Z",
     "start_time": "2020-02-24T20:06:04.094568Z"
    },
    "hidden": true,
    "scrolled": false
   },
   "outputs": [
    {
     "data": {
      "image/png": "[encoded data removed]",
      "text/plain": [
       "<Figure size 432x288 with 1 Axes>"
      ]
     },
     "metadata": {
      "needs_background": "light"
     },
     "output_type": "display_data"
    },
    {
     "data": {
      "image/png": "[encoded data removed]",
      "text/plain": [
       "<Figure size 432x288 with 1 Axes>"
      ]
     },
     "metadata": {
      "needs_background": "light"
     },
     "output_type": "display_data"
    },
    {
     "data": {
      "image/png": "[encoded data removed]",
      "text/plain": [
       "<Figure size 432x288 with 1 Axes>"
      ]
     },
     "metadata": {
      "needs_background": "light"
     },
     "output_type": "display_data"
    },
    {
     "data": {
      "image/png": "[encoded data removed]",
      "text/plain": [
       "<Figure size 432x288 with 1 Axes>"
      ]
     },
     "metadata": {
      "needs_background": "light"
     },
     "output_type": "display_data"
    }
   ],
   "source": [
    "plot_counts(name_cols)"
   ]
  },
  {
   "cell_type": "code",
   "execution_count": 89,
   "metadata": {
    "ExecuteTime": {
     "end_time": "2020-02-24T20:06:07.301475Z",
     "start_time": "2020-02-24T20:06:07.298314Z"
    },
    "hidden": true
   },
   "outputs": [],
   "source": [
    "#df.drop(columns = name_cols, inplace=True)"
   ]
  },
  {
   "cell_type": "markdown",
   "metadata": {},
   "source": [
    "## dropping columns"
   ]
  },
  {
   "cell_type": "code",
   "execution_count": 90,
   "metadata": {
    "ExecuteTime": {
     "end_time": "2020-02-24T20:06:07.308856Z",
     "start_time": "2020-02-24T20:06:07.304232Z"
    },
    "code_folding": [
     0
    ]
   },
   "outputs": [],
   "source": [
    "# # profile report\n",
    "# pandas_profiling.ProfileReport(df)\n",
    "\n",
    "# observations from pandas profile report:\n",
    "\n",
    "# - lots of columns missing data\n",
    "\n",
    "# unneeded columns:\n",
    "# - ARRIVAL TIME- has most at 00:00\n",
    "# - AVAILABLE TIME- most at 00:00\n",
    "# - CALL TAKER\n",
    "# - COLLAR\n",
    "# - COLLAR COLOR\n",
    "# - IMPOUND NUMBER\n",
    "# - INCIDENT TIME\n",
    "# - PET NAME\n",
    "# - REMARKS(too little data provided(3%), existing data doesn't appear to be useful)\n",
    "# - VACCINATION DATE(99.5% missing)\n",
    "# - VACCINATION NUMBER\n",
    "# - ZIP CODE\n",
    "\n",
    "\n",
    "# columns needing work or consider exclusion:\n",
    "# - AGE 55% missing\n",
    "# - X in front of BREED- cross breed?\n",
    "# - CONDITION 31% missing\n",
    "# - DISPATCHED OTHER and DISPATCHED SITUATION- what does it mean?\n",
    "# - EQUIPMENT NUMBER - what does it mean?\n",
    "# - FILE NUMBER - probably not useful\n",
    "# - REQUEST TYPE and SERVICE CODE appear to provide same content\n",
    "# - SEX contains only 37% M or F, other data missing or irregular\n",
    "# - SIZE 30% missing\n",
    "# - SPECIES 28% missing\n",
    "# - TEMPERMENT 30% missing\n",
    "# - COLOR 29% missing\n",
    "# - LOCATION and COMPLAINT STREET can be merged somehow?\n"
   ]
  },
  {
   "cell_type": "code",
   "execution_count": 91,
   "metadata": {
    "ExecuteTime": {
     "end_time": "2020-02-24T20:06:07.468804Z",
     "start_time": "2020-02-24T20:06:07.311955Z"
    },
    "scrolled": false
   },
   "outputs": [
    {
     "data": {
      "text/plain": [
       "file_number               0.0\n",
       "incident_date             0.0\n",
       "incident_time             0.0\n",
       "dispatched_time          14.0\n",
       "call_taker               27.0\n",
       "dispatcher               17.0\n",
       "dispatched_other          0.0\n",
       "dispatched_situation     14.0\n",
       "arrival_time             15.0\n",
       "available_time           14.0\n",
       "complainant_street        0.0\n",
       "officer                  17.0\n",
       "equipment_number          0.0\n",
       "remarks                  97.0\n",
       "impound_number            0.0\n",
       "impound_date             28.0\n",
       "impound_time             29.0\n",
       "location                 28.0\n",
       "municipality             28.0\n",
       "zip_code                  0.0\n",
       "species                   0.0\n",
       "breed                     0.0\n",
       "sex                      45.0\n",
       "size                      0.0\n",
       "color                     0.0\n",
       "age                      55.0\n",
       "condition                 0.0\n",
       "temperment                0.0\n",
       "collar                   66.0\n",
       "collar_color             66.0\n",
       "vaccination_number       99.0\n",
       "vaccination_date        100.0\n",
       "pet_name                 99.0\n",
       "disposition               0.0\n",
       "disposition_date         48.0\n",
       "disposition_officer      29.0\n",
       "inc_dt                    0.0\n",
       "imp_dt                   29.0\n",
       "inc_to_imp               29.0\n",
       "weekday                   0.0\n",
       "month                     0.0\n",
       "service_type              0.0\n",
       "dtype: float64"
      ]
     },
     "execution_count": 91,
     "metadata": {},
     "output_type": "execute_result"
    }
   ],
   "source": [
    "#percent missing values per column\n",
    "round(df.isna().sum()/len(df)*100)"
   ]
  },
  {
   "cell_type": "markdown",
   "metadata": {},
   "source": [
    "With there being such little information on vaccination, those columns won't be looked at further. I decided to also not explore the remarks, collar features, and pet names as those features were all missing substantial amounts of data and I don't see them offering much value. "
   ]
  },
  {
   "cell_type": "code",
   "execution_count": 92,
   "metadata": {
    "ExecuteTime": {
     "end_time": "2020-02-24T20:06:07.543227Z",
     "start_time": "2020-02-24T20:06:07.471696Z"
    }
   },
   "outputs": [],
   "source": [
    "pre_drop_df = df.copy()"
   ]
  },
  {
   "cell_type": "code",
   "execution_count": 93,
   "metadata": {
    "ExecuteTime": {
     "end_time": "2020-02-24T20:06:07.596861Z",
     "start_time": "2020-02-24T20:06:07.545164Z"
    }
   },
   "outputs": [],
   "source": [
    "df.drop(columns=['vaccination_date', 'vaccination_number', 'remarks', 'collar', 'collar_color', 'pet_name'], inplace=True)"
   ]
  },
  {
   "cell_type": "code",
   "execution_count": 94,
   "metadata": {
    "ExecuteTime": {
     "end_time": "2020-02-24T20:06:07.601516Z",
     "start_time": "2020-02-24T20:06:07.598839Z"
    }
   },
   "outputs": [],
   "source": [
    "# # removing columns with more than 1/3 missing data\n",
    "# df.dropna(axis=1, thresh=(len(df)//1.5), inplace=True)\n",
    "\n",
    "#df = df.dropna(axis=0)"
   ]
  },
  {
   "cell_type": "code",
   "execution_count": 95,
   "metadata": {
    "ExecuteTime": {
     "end_time": "2020-02-24T20:06:07.610642Z",
     "start_time": "2020-02-24T20:06:07.604574Z"
    }
   },
   "outputs": [
    {
     "data": {
      "text/plain": [
       "(72450, 36)"
      ]
     },
     "execution_count": 95,
     "metadata": {},
     "output_type": "execute_result"
    }
   ],
   "source": [
    "df.shape"
   ]
  },
  {
   "cell_type": "markdown",
   "metadata": {},
   "source": [
    "# __Explore__"
   ]
  },
  {
   "cell_type": "markdown",
   "metadata": {},
   "source": [
    "### datetime features"
   ]
  },
  {
   "cell_type": "markdown",
   "metadata": {},
   "source": [
    "#### times"
   ]
  },
  {
   "cell_type": "markdown",
   "metadata": {},
   "source": [
    "There are 5 different time categories. Their descriptions are self descriptive, although the 'available time' wasn't clear at first. That category marks the time that the officer was finished with the incident and once again available"
   ]
  },
  {
   "cell_type": "code",
   "execution_count": 96,
   "metadata": {
    "ExecuteTime": {
     "end_time": "2020-02-24T20:06:09.252369Z",
     "start_time": "2020-02-24T20:06:07.614326Z"
    },
    "code_folding": [
     0
    ]
   },
   "outputs": [
    {
     "data": {
      "image/png": "[encoded data removed]",
      "text/plain": [
       "<Figure size 432x288 with 1 Axes>"
      ]
     },
     "metadata": {
      "needs_background": "light"
     },
     "output_type": "display_data"
    },
    {
     "data": {
      "image/png": "[encoded data removed]",
      "text/plain": [
       "<Figure size 432x288 with 1 Axes>"
      ]
     },
     "metadata": {
      "needs_background": "light"
     },
     "output_type": "display_data"
    },
    {
     "data": {
      "image/png": "[encoded data removed]",
      "text/plain": [
       "<Figure size 432x288 with 1 Axes>"
      ]
     },
     "metadata": {
      "needs_background": "light"
     },
     "output_type": "display_data"
    },
    {
     "data": {
      "image/png": "[encoded data removed]",
      "text/plain": [
       "<Figure size 432x288 with 1 Axes>"
      ]
     },
     "metadata": {
      "needs_background": "light"
     },
     "output_type": "display_data"
    },
    {
     "data": {
      "image/png": "[encoded data removed]",
      "text/plain": [
       "<Figure size 432x288 with 1 Axes>"
      ]
     },
     "metadata": {
      "needs_background": "light"
     },
     "output_type": "display_data"
    }
   ],
   "source": [
    "# DELETE CELL -- assigning time columns- done previously already\n",
    "#time_cols= [col for col in df.columns if 'time' in col]\n",
    "#time_cols\n",
    "\n",
    "\n",
    "\n",
    "t_df = df[['incident_time'\n",
    "                    ,'dispatched_time'\n",
    "                     ,'arrival_time'\n",
    "                     , 'available_time'\n",
    "                     ,'impound_time']]\n",
    "\n",
    "# t_df.columns\n",
    "\n",
    "# comparing incident features by count/time\n",
    "for col in time_cols:\n",
    "    plot_dtcount(t_df, col, overlap = False, labels = time_cols)"
   ]
  },
  {
   "cell_type": "markdown",
   "metadata": {},
   "source": [
    "For the most part, the times look consistent, but at 00:00, there are a couple of outliers. If using those time features, the 00:00 times will be excluded."
   ]
  },
  {
   "cell_type": "code",
   "execution_count": 97,
   "metadata": {
    "ExecuteTime": {
     "end_time": "2020-02-24T20:06:09.735135Z",
     "start_time": "2020-02-24T20:06:09.256250Z"
    },
    "code_folding": [
     0
    ]
   },
   "outputs": [
    {
     "data": {
      "image/png": "[encoded data removed]",
      "text/plain": [
       "<Figure size 432x288 with 1 Axes>"
      ]
     },
     "metadata": {
      "needs_background": "light"
     },
     "output_type": "display_data"
    }
   ],
   "source": [
    "# plotting frequency of each time feature:\n",
    "\n",
    "for col in time_cols:\n",
    "    plot_dtcount(df, col\n",
    "                 , (0, 600)\n",
    "                 , labels = time_cols)"
   ]
  },
  {
   "cell_type": "markdown",
   "metadata": {},
   "source": [
    "Around 9am-ish it reaches a peak, then once again rises between 12pm-4pm"
   ]
  },
  {
   "cell_type": "markdown",
   "metadata": {},
   "source": []
  },
  {
   "cell_type": "code",
   "execution_count": 98,
   "metadata": {
    "ExecuteTime": {
     "end_time": "2020-02-24T20:06:09.742257Z",
     "start_time": "2020-02-24T20:06:09.738675Z"
    },
    "code_folding": [
     0
    ]
   },
   "outputs": [],
   "source": [
    "# # DELETE THIS CELL--comparing distribution of time features(**NEEDS WORK**)\n",
    "\n",
    "# comp_counts(time_cols, time_cols)\n",
    "\n",
    "# f, axes = plt.subplots(1, 5,figsize=(30,5))\n",
    "# plt.xlim(-5,50)\n",
    "\n",
    "# for col, ax in zip(time_cols,(range(0,5))):\n",
    "#     sns.distplot((df[col].dropna().value_counts()), ax=axes[ax])"
   ]
  },
  {
   "cell_type": "markdown",
   "metadata": {},
   "source": [
    "#### dates"
   ]
  },
  {
   "cell_type": "code",
   "execution_count": 99,
   "metadata": {
    "ExecuteTime": {
     "end_time": "2020-02-24T20:06:09.750476Z",
     "start_time": "2020-02-24T20:06:09.744969Z"
    }
   },
   "outputs": [
    {
     "data": {
      "text/plain": [
       "['incident_date', 'impound_date', 'disposition_date']"
      ]
     },
     "execution_count": 99,
     "metadata": {},
     "output_type": "execute_result"
    }
   ],
   "source": [
    "date_cols= [col for col in df.columns if 'date' in col]\n",
    "date_cols"
   ]
  },
  {
   "cell_type": "code",
   "execution_count": 100,
   "metadata": {
    "ExecuteTime": {
     "end_time": "2020-02-24T20:06:09.761325Z",
     "start_time": "2020-02-24T20:06:09.755617Z"
    }
   },
   "outputs": [],
   "source": [
    "sns.set(style=\"darkgrid\")"
   ]
  },
  {
   "cell_type": "code",
   "execution_count": 101,
   "metadata": {
    "ExecuteTime": {
     "end_time": "2020-02-24T20:06:10.543793Z",
     "start_time": "2020-02-24T20:06:09.764184Z"
    }
   },
   "outputs": [
    {
     "data": {
      "text/plain": [
       "<matplotlib.axes._subplots.AxesSubplot at 0x137d7a208>"
      ]
     },
     "execution_count": 101,
     "metadata": {},
     "output_type": "execute_result"
    },
    {
     "data": {
      "text/plain": [
       "[]"
      ]
     },
     "execution_count": 101,
     "metadata": {},
     "output_type": "execute_result"
    },
    {
     "data": {
      "text/plain": [
       "[]"
      ]
     },
     "execution_count": 101,
     "metadata": {},
     "output_type": "execute_result"
    },
    {
     "data": {
      "image/png": "[encoded data removed]",
      "text/plain": [
       "<Figure size 468x468 with 1 Axes>"
      ]
     },
     "metadata": {},
     "output_type": "display_data"
    }
   ],
   "source": [
    "f, ax = plt.subplots(figsize=(6.5, 6.5))\n",
    "sns.despine(f, left=True, bottom=True)\n",
    "#clarity_ranking = [\"I1\", \"SI2\", \"SI1\", \"VS2\", \"VS1\", \"VVS2\", \"VVS1\", \"IF\"]\n",
    "sns.scatterplot(x='incident_time', y= 'arrival_time'\n",
    "    #x=\"incident_date\", y=\"incident_time\",\n",
    "                ,hue=\"temperment\"\n",
    "                #, size=\"depth\",\n",
    "                #,palette=\"ch:r=-.2,d=.3_r\"\n",
    "                #hue_order=clarity_ranking,\n",
    "                ,sizes=(1, 3), linewidth=0,\n",
    "                data=df.head(5000), ax=ax, alpha=.2)\n",
    "ax.set_xticklabels('')\n",
    "ax.set_yticklabels('')"
   ]
  },
  {
   "cell_type": "code",
   "execution_count": 102,
   "metadata": {
    "ExecuteTime": {
     "end_time": "2020-02-24T20:06:11.323554Z",
     "start_time": "2020-02-24T20:06:10.549434Z"
    }
   },
   "outputs": [
    {
     "data": {
      "image/png": "[encoded data removed]",
      "text/plain": [
       "<Figure size 432x288 with 1 Axes>"
      ]
     },
     "metadata": {},
     "output_type": "display_data"
    },
    {
     "data": {
      "image/png": "[encoded data removed]",
      "text/plain": [
       "<Figure size 432x288 with 1 Axes>"
      ]
     },
     "metadata": {},
     "output_type": "display_data"
    },
    {
     "data": {
      "image/png": "[encoded data removed]",
      "text/plain": [
       "<Figure size 432x288 with 1 Axes>"
      ]
     },
     "metadata": {},
     "output_type": "display_data"
    }
   ],
   "source": [
    "for col in date_cols:\n",
    "    plot_dtcount(df, col, overlap = False, labels = date_cols)"
   ]
  },
  {
   "cell_type": "code",
   "execution_count": 103,
   "metadata": {
    "ExecuteTime": {
     "end_time": "2020-02-24T20:06:11.385571Z",
     "start_time": "2020-02-24T20:06:11.326850Z"
    }
   },
   "outputs": [],
   "source": [
    "df = df.sort_values(by='inc_dt')"
   ]
  },
  {
   "cell_type": "code",
   "execution_count": 104,
   "metadata": {
    "ExecuteTime": {
     "end_time": "2020-02-24T20:06:12.478194Z",
     "start_time": "2020-02-24T20:06:11.388979Z"
    }
   },
   "outputs": [
    {
     "data": {
      "text/plain": [
       "<matplotlib.axes._subplots.AxesSubplot at 0x137b03780>"
      ]
     },
     "execution_count": 104,
     "metadata": {},
     "output_type": "execute_result"
    },
    {
     "data": {
      "text/plain": [
       "<matplotlib.axes._subplots.AxesSubplot at 0x137bc0390>"
      ]
     },
     "execution_count": 104,
     "metadata": {},
     "output_type": "execute_result"
    },
    {
     "data": {
      "text/plain": [
       "<matplotlib.axes._subplots.AxesSubplot at 0x137cfecc0>"
      ]
     },
     "execution_count": 104,
     "metadata": {},
     "output_type": "execute_result"
    },
    {
     "data": {
      "image/png": "[encoded data removed]",
      "text/plain": [
       "<Figure size 2160x360 with 3 Axes>"
      ]
     },
     "metadata": {},
     "output_type": "display_data"
    }
   ],
   "source": [
    "f, axes = plt.subplots(1, 3,figsize=(30,5))\n",
    "for col, ax in zip(date_cols,(range(0,3))):\n",
    "    \n",
    "    sns.distplot((df[col].dropna()).value_counts(), ax=axes[ax]);"
   ]
  },
  {
   "cell_type": "code",
   "execution_count": 105,
   "metadata": {
    "ExecuteTime": {
     "end_time": "2020-02-24T20:06:12.485303Z",
     "start_time": "2020-02-24T20:06:12.481593Z"
    },
    "code_folding": [
     0
    ]
   },
   "outputs": [],
   "source": [
    "# #comparing distribution of date features\n",
    "# #comp_counts(date_cols, date_cols)\n",
    "\n",
    "# sns.set(font_scale=1)\n",
    "\n",
    "# f, axes = plt.subplots(1, 2,figsize=(15,3))\n",
    "# sns.distplot(df['incident_date'].value_counts(), ax=axes[0], color='black', bins=40)\n",
    "# sns.distplot(df['impound_date'].value_counts(), ax=axes[1], color='black', bins=40);\n",
    "# #sns.distplot(df['disposition_date'].value_counts(), ax=axes[2], color='black', bins=40);"
   ]
  },
  {
   "cell_type": "markdown",
   "metadata": {},
   "source": [
    "#### condition, disposition, size, species, temperment"
   ]
  },
  {
   "cell_type": "code",
   "execution_count": 106,
   "metadata": {
    "ExecuteTime": {
     "end_time": "2020-02-24T20:06:12.502036Z",
     "start_time": "2020-02-24T20:06:12.488655Z"
    }
   },
   "outputs": [],
   "source": [
    "#value counts of species, size, condition, and temperment features\n",
    "ssct_df = df[['species', 'size', 'condition', 'temperment', 'disposition']]"
   ]
  },
  {
   "cell_type": "code",
   "execution_count": 107,
   "metadata": {
    "ExecuteTime": {
     "end_time": "2020-02-24T20:06:14.130725Z",
     "start_time": "2020-02-24T20:06:12.504327Z"
    }
   },
   "outputs": [
    {
     "data": {
      "image/png": "[encoded data removed]",
      "text/plain": [
       "<Figure size 432x288 with 1 Axes>"
      ]
     },
     "metadata": {},
     "output_type": "display_data"
    },
    {
     "data": {
      "image/png": "[encoded data removed]",
      "text/plain": [
       "<Figure size 432x288 with 1 Axes>"
      ]
     },
     "metadata": {},
     "output_type": "display_data"
    },
    {
     "data": {
      "image/png": "[encoded data removed]",
      "text/plain": [
       "<Figure size 432x288 with 1 Axes>"
      ]
     },
     "metadata": {},
     "output_type": "display_data"
    },
    {
     "data": {
      "image/png": "[encoded data removed]",
      "text/plain": [
       "<Figure size 432x288 with 1 Axes>"
      ]
     },
     "metadata": {},
     "output_type": "display_data"
    },
    {
     "data": {
      "image/png": "[encoded data removed]",
      "text/plain": [
       "<Figure size 432x288 with 1 Axes>"
      ]
     },
     "metadata": {},
     "output_type": "display_data"
    }
   ],
   "source": [
    "plot_counts(ssct_df)"
   ]
  },
  {
   "cell_type": "code",
   "execution_count": 108,
   "metadata": {
    "ExecuteTime": {
     "end_time": "2020-02-24T20:06:15.279843Z",
     "start_time": "2020-02-24T20:06:14.134455Z"
    }
   },
   "outputs": [
    {
     "data": {
      "image/png": "[encoded data removed]",
      "text/plain": [
       "<Figure size 720x720 with 2 Axes>"
      ]
     },
     "metadata": {},
     "output_type": "display_data"
    }
   ],
   "source": [
    "# correlations between species, size, condition, and temperment\n",
    "corr_plot(ssct_df, minv=-.5, maxv=.5)"
   ]
  },
  {
   "cell_type": "markdown",
   "metadata": {},
   "source": [
    "#"
   ]
  },
  {
   "cell_type": "code",
   "execution_count": 109,
   "metadata": {
    "ExecuteTime": {
     "end_time": "2020-02-24T20:06:15.548940Z",
     "start_time": "2020-02-24T20:06:15.283006Z"
    }
   },
   "outputs": [
    {
     "data": {
      "text/plain": [
       "0.49529330572808833"
      ]
     },
     "execution_count": 109,
     "metadata": {},
     "output_type": "execute_result"
    }
   ],
   "source": [
    "# how much data would be sacrificed if dropping 'unknown'\n",
    "len(df[~df.eq('unknown').any(1)])/ len(df)"
   ]
  },
  {
   "cell_type": "code",
   "execution_count": 110,
   "metadata": {
    "ExecuteTime": {
     "end_time": "2020-02-24T20:06:15.923905Z",
     "start_time": "2020-02-24T20:06:15.551693Z"
    }
   },
   "outputs": [
    {
     "data": {
      "text/plain": [
       "0.0125879917184265"
      ]
     },
     "execution_count": 110,
     "metadata": {},
     "output_type": "execute_result"
    }
   ],
   "source": [
    "#how much data would remain of df if drop na and 'unknowns'\n",
    "len(df.dropna()[~df.eq('unknown').any(1)])/len(df)"
   ]
  },
  {
   "cell_type": "code",
   "execution_count": 111,
   "metadata": {
    "ExecuteTime": {
     "end_time": "2020-02-24T20:06:16.181764Z",
     "start_time": "2020-02-24T20:06:15.927587Z"
    }
   },
   "outputs": [],
   "source": [
    "# drop rows with any unknowns\n",
    "df = df[~df.eq('unknown').any(1)]"
   ]
  },
  {
   "cell_type": "markdown",
   "metadata": {},
   "source": [
    "# __IGNORE__"
   ]
  },
  {
   "cell_type": "code",
   "execution_count": 112,
   "metadata": {
    "ExecuteTime": {
     "end_time": "2020-02-24T20:06:16.532896Z",
     "start_time": "2020-02-24T20:06:16.183839Z"
    }
   },
   "outputs": [
    {
     "ename": "NameError",
     "evalue": "name 'stop' is not defined",
     "output_type": "error",
     "traceback": [
      "\u001b[0;31m---------------------------------------------------------------------------\u001b[0m",
      "\u001b[0;31mNameError\u001b[0m                                 Traceback (most recent call last)",
      "\u001b[0;32m<ipython-input-112-4f76a9dad686>\u001b[0m in \u001b[0;36m<module>\u001b[0;34m\u001b[0m\n\u001b[0;32m----> 1\u001b[0;31m \u001b[0mstop\u001b[0m\u001b[0;34m\u001b[0m\u001b[0;34m\u001b[0m\u001b[0m\n\u001b[0m",
      "\u001b[0;31mNameError\u001b[0m: name 'stop' is not defined"
     ]
    }
   ],
   "source": [
    "stop"
   ]
  },
  {
   "cell_type": "markdown",
   "metadata": {
    "ExecuteTime": {
     "end_time": "2020-02-23T03:16:35.300408Z",
     "start_time": "2020-02-23T03:16:35.296754Z"
    }
   },
   "source": [
    "#### snippets I might come back to if "
   ]
  },
  {
   "cell_type": "code",
   "execution_count": null,
   "metadata": {
    "ExecuteTime": {
     "end_time": "2020-02-24T20:06:16.544217Z",
     "start_time": "2020-02-24T20:05:33.068Z"
    },
    "code_folding": [
     0
    ]
   },
   "outputs": [],
   "source": [
    "# #replacing alternate spellings of same breed- replaced with other methods\n",
    "#df['breed'] = df['breed'].apply(lambda x: x.replace('bulldog_(english)', 'bulldog_english'))\n",
    "#df['breed'] = df['breed'].apply(lambda x: x.replace('chow_chow', 'chow'))\n",
    "# df['breed'] = df['breed'].apply(lambda x: x.replace('boston_terrier', 'boston'))\n",
    "# df['breed'] = df['breed'].apply(lambda x: x.replace('poodle_-standard', 'poodle'))\n",
    "# df['breed'] = df['breed'].apply(lambda x: x.replace('basset_hound', 'basset'))\n",
    "# df['breed'] = df['breed'].apply(lambda x: x.replace('rottweiller', 'rott'))\n",
    "# df['breed'] = df['breed'].apply(lambda x: x.replace('rottweiler', 'rott'))\n",
    "# df['breed'] = df['breed'].apply(lambda x: x.replace('pit_bull', 'pitbull'))\n",
    "# df['breed'] = df['breed'].apply(lambda x: x.replace('pitbull', 'pit'))\n",
    "# df['breed'] = df['breed'].apply(lambda x: x.replace('_german_shepherd', 'german_shepherd'))\n",
    "# df['breed'] = df['breed'].apply(lambda x: x.replace('_retriever', 'retriever'))\n",
    "# df['breed'] = df['breed'].apply(lambda x: x.replace('labrador_retriever', 'labrador'))\n",
    "# df = df.apply(lambda x: x.replace('poodle_(min/toy)', 'poodle_min/toy'))\n",
    "# df = df.apply(lambda x: x.replace('poodle_standard', 'poodle'))\n",
    "# df = df.apply(lambda x: x.replace('catahoula_hound', 'catahoula'))\n",
    "# df = df.apply(lambda x: x.replace('english_bulldog', 'bulldog_english'))\n",
    "# df = df.apply(lambda x: x.replace('bulldog_(french)', 'bulldog_french'))\n",
    "# df = df.apply(lambda x: x.replace('boer', 'boxer'))\n",
    "# df = df.apply(lambda x: x.replace('fo_terrier', 'fox_terrier'))\n",
    "# df = df.apply(lambda x: x.replace('shar_pei', 'sharpei'))\n",
    "# df = df.apply(lambda x: x.replace('alaskan__malamute','alaskan_malamute'))\n",
    "# df = df.apply(lambda x: x.replace('brittany_spaniel', 'brittany'))\n",
    "# df = df.apply(lambda x: x.replace('fohound', 'foxhound'))\n",
    "# df = df.apply(lambda x: x.replace('other', 'unknown'))\n",
    "# #df = df.apply(lambda x: x.replace('nan', np.NaN))"
   ]
  },
  {
   "cell_type": "code",
   "execution_count": null,
   "metadata": {},
   "outputs": [],
   "source": []
  },
  {
   "cell_type": "code",
   "execution_count": null,
   "metadata": {
    "ExecuteTime": {
     "end_time": "2020-02-24T20:06:16.546977Z",
     "start_time": "2020-02-24T20:05:33.076Z"
    },
    "code_folding": []
   },
   "outputs": [],
   "source": [
    "# lower casing and eliminating characters, moved to later in cleaning\n",
    "# for now, saved for later, but could also do this to only select columns to prevent issues\n",
    "\n",
    "# df = df.apply(lambda x: x.astype(str).str.lower())\n",
    "# df = df.apply(lambda x: x.astype(str).str.strip())\n",
    "# df = df.apply(lambda x: x.astype(str).str.replace(' ', '_'))"
   ]
  },
  {
   "cell_type": "code",
   "execution_count": null,
   "metadata": {
    "ExecuteTime": {
     "end_time": "2020-02-24T20:06:16.548982Z",
     "start_time": "2020-02-24T20:05:33.080Z"
    },
    "code_folding": []
   },
   "outputs": [],
   "source": [
    "# for col in cdsst:\n",
    "#     df[col] = df[col].apply(lambda x: x.replace(' ', '_'))\n",
    "\n",
    "# for col in cdsst:\n",
    "#     clean_str(col)\n",
    "\n",
    "# #\n",
    "# for col in cdsst:\n",
    "#     df[col] = df[col].astype(str)\n",
    "#     df[col] = df[col].str.strip()\n",
    "#     df[col] = df[col].apply(lambda x: x.replace(' ', '_'))\n",
    "#     df[col] = df[col].str.lower()\n",
    "#     remove_numpunc(col, pattern='[^A-Za-z_]+')"
   ]
  },
  {
   "cell_type": "code",
   "execution_count": null,
   "metadata": {
    "ExecuteTime": {
     "end_time": "2020-02-24T20:06:16.551202Z",
     "start_time": "2020-02-24T20:05:33.085Z"
    },
    "code_folding": [
     0
    ]
   },
   "outputs": [],
   "source": [
    "# replaced with regex\n",
    "#characters = ('*',\"'\",'/','=',',','�','_',\"'\", '-', '(', ')', '.', '\\\\', ',,', ',,,', '_/_', ' ', '  ', '//','&')\n",
    "\n",
    "#edit_replace(characters, ',')\n",
    "#df['color'] = df['color'].str.strip()"
   ]
  },
  {
   "cell_type": "code",
   "execution_count": null,
   "metadata": {
    "ExecuteTime": {
     "end_time": "2020-02-24T20:06:16.553641Z",
     "start_time": "2020-02-24T20:05:33.090Z"
    }
   },
   "outputs": [],
   "source": [
    "# pattern = '[^A-Za-z^/]+'\n",
    "# list = [re.sub(pattern, '', i) for i in df.color] \n",
    "# list"
   ]
  },
  {
   "cell_type": "code",
   "execution_count": null,
   "metadata": {
    "ExecuteTime": {
     "end_time": "2020-02-24T20:06:16.556056Z",
     "start_time": "2020-02-24T20:05:33.094Z"
    },
    "code_folding": [
     0
    ]
   },
   "outputs": [],
   "source": [
    "# # # how much data would remain after removing columns with more than 1/3 missing data\n",
    "# df_drop_cols = (df.dropna(axis=1, thresh=(len(df))//1.5))\n",
    "# len(df_drop_cols.columns)/ len(df.columns)\n",
    "# #(len(df.dropna(axis=1, thresh=(len(df))//1.5)).columns)/len(df.columns)\n",
    "\n",
    "# # # how much would then be left after then removing rows with more than 20 missing data\n",
    "# len(df_drop_cols.dropna(axis=0, thresh=(20)))/len(df)"
   ]
  },
  {
   "cell_type": "code",
   "execution_count": null,
   "metadata": {
    "ExecuteTime": {
     "end_time": "2020-02-24T20:06:16.558602Z",
     "start_time": "2020-02-24T20:05:33.099Z"
    },
    "code_folding": [
     0
    ],
    "scrolled": true
   },
   "outputs": [],
   "source": [
    "# # looking at strings separated to evaluate how to edit; priority in high value counts\n",
    "# results = Counter()\n",
    "# df['color'].str.split(',').apply(results.update)\n",
    "# pp.pprint (results)"
   ]
  },
  {
   "cell_type": "code",
   "execution_count": null,
   "metadata": {
    "ExecuteTime": {
     "end_time": "2020-02-24T20:06:16.560957Z",
     "start_time": "2020-02-24T20:05:33.104Z"
    },
    "code_folding": [
     0
    ]
   },
   "outputs": [],
   "source": [
    "## replacing/seperating color strings\n",
    "# # tan and white\n",
    "# edit_replace(('tanwht'), 'tan,wht')\n",
    "\n",
    "# # black and white\n",
    "# edit_replace(('blkwht','blkwt'), 'blk,wht')\n",
    "\n",
    "# # grey and white\n",
    "# edit_replace(('graywhite','grywht','whtgry','greywht'), 'gry,wht')\n",
    "\n",
    "# # black and brown\n",
    "# edit_replace(('brnblk'), 'br,bl')\n",
    "\n",
    "# # brown and white\n",
    "# edit_replace(('brwnwht','whtbrwn'), 'brn,wht')\n",
    "\n",
    "# # grey and black\n",
    "# edit_replace(('gryblk'), 'gry,blk')\n",
    "\n",
    "# # green and yellow\n",
    "# edit_replace(('greenyellow'), 'grn,yel')\n",
    "\n",
    "# # grey and yellow\n",
    "# edit_replace(('gryyellow'), 'grey,yell')\n",
    "\n",
    "# edit_replace(('brwnbkwh'), 'brn,blk,wht')"
   ]
  },
  {
   "cell_type": "code",
   "execution_count": null,
   "metadata": {
    "ExecuteTime": {
     "end_time": "2020-02-24T20:06:16.563167Z",
     "start_time": "2020-02-24T20:05:33.108Z"
    },
    "code_folding": [
     0
    ]
   },
   "outputs": [],
   "source": [
    "#limiting colors to selected and also only with certain value count(no longer using this method)\n",
    "\n",
    "#colors = ('wht', 'bk', 'gry', 'br', 'tn', 'spot', 'or', 'tab', 'blue', 'red', 'ylw', 'calico', 'tri', 'green', 'multi', 'dark', 'light', 'pink')\n",
    "\n",
    "#ndf = df[~df['color'].isin([colors])]\n",
    "\n",
    "#ndf = ndf[ndf.color.value_counts()>=20]\n",
    "\n",
    "#ndf.color.value_counts()"
   ]
  },
  {
   "cell_type": "code",
   "execution_count": null,
   "metadata": {
    "ExecuteTime": {
     "end_time": "2020-02-24T20:06:16.565225Z",
     "start_time": "2020-02-24T20:05:33.113Z"
    },
    "code_folding": [
     0
    ]
   },
   "outputs": [],
   "source": [
    "# def clean_str(col, df=df):\n",
    "# #    for col in cols:\n",
    "#     df[col] = df[col].astype(str)\n",
    "#     df[col] = df[col].str.strip()\n",
    "#     df[col] = df[col].str.lower()\n",
    "# #     if pattern= pattern= '[^A-Za-z_]+':\n",
    "# #         df[col] = df[col].apply(lambda x: x.replace(' ', '_'))\n",
    "#     # regex for letters and '_' only, unless pattern reassigned:\n",
    "# #     if regex:\n",
    "# #         pattern = pattern\n",
    "# #         df[col] = [re.sub(pattern, '', i) for i in df[col]] \n",
    "# #     return df[col]\n",
    "\n",
    "# # #         #print('--',col.capitalize(),'--\\n',df[col].value_counts(),'\\n')"
   ]
  },
  {
   "cell_type": "code",
   "execution_count": null,
   "metadata": {
    "ExecuteTime": {
     "end_time": "2020-02-24T20:06:16.567587Z",
     "start_time": "2020-02-24T20:05:33.118Z"
    },
    "code_folding": [
     0
    ]
   },
   "outputs": [],
   "source": [
    "# # maybe creating list of dog breeds, if wanting to analyze seperately from other animals\n",
    "# dogs = ('pit', 'labrador', 'terrier', 'german_shepherd', 'shepherd', 'chihuahua', 'hound', 'rott'\n",
    "#         , 'boxer', 'beagle', 'catahoula', 'chow', 'shih_tzu', 'dachshund', 'retriever', 'husky'\n",
    "#         , 'yorkshire_terrier', 'american_bulldog', 'poodle', 'australian_shepherd', 'poodle_min/toy'\n",
    "#         , 'collie', 'pomeranian', 'mastiff', 'golden_retriever', 'maltese', 'cocker_spaniel', 'healer'\n",
    "#         , 'doberman_pinscher', 'miniature_pinscher', 'border_collie', 'schnauzer', 'great_dane'\n",
    "#         , 'rat_terrier', 'akita', 'jack_russel_terrier', 'bulldog_english', 'spaniel', 'doberman'\n",
    "#         , 'pug', 'pekingese', 'basset', 'dalmation', 'boston', 'weimeraner', 'lhasa_apso', 'pointer'\n",
    "#         , 'rhodesian_ridgeback', 'sharpei', 'great_pyrenees', 'bull_terrier', 'bichons_frise', 'bloodhound'\n",
    "#         , 'saint_bernard', 'springer_spaniel', 'sheepdog', 'alaskan_malamute', 'scottish_terrier'\n",
    "#         , 'cairn_terrier', 'staffordshire_bull_terrier', 'setter', 'sheltie', 'cane_corso', 'whippet'\n",
    "#         ,  'basenji', 'spitz', 'greyhound', 'walker_hound', 'siberian_husky', 'west_highland_terrier'\n",
    "#         , 'american_eskimo', 'bull_mastiff', 'brittany', 'bluetick_hound', 'foxhound', 'australian_cattle'\n",
    "#         , 'american_staffordshire_terrier', 'bulldog_french', 'australian_blue_heeler', 'bourvier_des_flanders'\n",
    "#         , 'fox_terrier', 'wolf', 'coonhound', 'norweigian_elkhound')"
   ]
  },
  {
   "cell_type": "code",
   "execution_count": null,
   "metadata": {
    "ExecuteTime": {
     "end_time": "2020-02-24T20:06:16.569779Z",
     "start_time": "2020-02-24T20:05:33.123Z"
    },
    "code_folding": []
   },
   "outputs": [],
   "source": [
    "# # (to maximize notebook screen size):\n",
    "# from IPython.core.display import display, HTML\n",
    "# display(HTML(\"<style>.container { width:100% !important; }</style>\"))"
   ]
  },
  {
   "cell_type": "code",
   "execution_count": null,
   "metadata": {
    "ExecuteTime": {
     "end_time": "2020-02-24T20:06:16.572297Z",
     "start_time": "2020-02-24T20:05:33.128Z"
    },
    "code_folding": [
     0
    ]
   },
   "outputs": [],
   "source": [
    "# #sns overlapping distplot\n",
    "# def comp_counts(cols, labels):\n",
    "#     sns.set(rc={'figure.figsize':(10, 5)})\n",
    "#     plt.xlim(-5,100)\n",
    "#     plt.title(\"times\")\n",
    "#     for col, label in zip(cols, labels):\n",
    "#         sns.distplot(df[col].value_counts(), label=label, bins=40)\n",
    "#     plt.legend()\n",
    "#     plt.show();"
   ]
  },
  {
   "cell_type": "code",
   "execution_count": null,
   "metadata": {
    "ExecuteTime": {
     "end_time": "2020-02-24T20:06:16.574464Z",
     "start_time": "2020-02-24T20:05:33.133Z"
    },
    "code_folding": [
     0
    ]
   },
   "outputs": [],
   "source": [
    "# [re.sub('[^A-Za-z/]+','', i) for i in df.breed]\n",
    "\n",
    "# # # removing digits\n",
    "# # def remove(list): \n",
    "# #     pattern = '[0-9]'\n",
    "# #     list = [re.sub(pattern, '', i) for i in list] \n",
    "# #     return list\n",
    "# # df['color'] = (remove(df.color))\n",
    "\n",
    "# # replacing extra punctuations with '/'  (** look into more efficient regex methods**)\n",
    "# characters = ('�','_',\"'\", '-', '(', ')', '.', '\\\\', ',,', ',,,', '_/_', ' ', '  ', '//')\n",
    "\n",
    "# edit_replace(characters, '/')"
   ]
  },
  {
   "cell_type": "markdown",
   "metadata": {
    "heading_collapsed": true
   },
   "source": [
    "####  IGNORE:  *Pet names (just for fun)"
   ]
  },
  {
   "cell_type": "markdown",
   "metadata": {
    "hidden": true
   },
   "source": [
    "Dropping columns with few non-nulls, but curious about Baton Rouge's most common pet names, keeping in mind only 1% of incident reports included a name."
   ]
  },
  {
   "cell_type": "code",
   "execution_count": null,
   "metadata": {
    "ExecuteTime": {
     "end_time": "2020-02-24T20:06:16.576919Z",
     "start_time": "2020-02-24T20:05:33.140Z"
    },
    "hidden": true,
    "scrolled": false
   },
   "outputs": [],
   "source": [
    "df.pet_name.value_counts().head(15)"
   ]
  },
  {
   "cell_type": "markdown",
   "metadata": {
    "hidden": true
   },
   "source": [
    "'Max' and 'Coco' are tied at 17, but most lie within the single digits. One would assume most of these correspond to 'dog' or 'cat' species, do they satisfy that assumption?"
   ]
  },
  {
   "cell_type": "code",
   "execution_count": null,
   "metadata": {
    "ExecuteTime": {
     "end_time": "2020-02-24T20:06:16.578988Z",
     "start_time": "2020-02-24T20:05:33.145Z"
    },
    "hidden": true,
    "scrolled": false
   },
   "outputs": [],
   "source": [
    "# percent of names provided in relation to species\n",
    "p_names_only = df[['pet_name','species']]\n",
    "p_names_only = p_names_only.dropna()\n",
    "p_name_ratio = p_names_only['species'].value_counts()/df['species'].value_counts()\n",
    "p_name_ratio.plot.bar();"
   ]
  },
  {
   "cell_type": "markdown",
   "metadata": {
    "hidden": true
   },
   "source": [
    "Of the dataset as a whole, these are the percentages of species with names included in reports. It looks like livestock incident reports included names more often than cats. Not surprisingly, dogs overwhelmingly had their names included in the incident reports. \n",
    "\n",
    "However, due to the amount of missing data, no justifiable conclusions can be made from this alone. "
   ]
  },
  {
   "cell_type": "markdown",
   "metadata": {
    "hidden": true
   },
   "source": [
    "___\n",
    "another 'just for fun' thing:\n",
    "looking at the disposition of animals with names on report:"
   ]
  },
  {
   "cell_type": "code",
   "execution_count": null,
   "metadata": {
    "ExecuteTime": {
     "end_time": "2020-02-24T20:06:16.581365Z",
     "start_time": "2020-02-24T20:05:33.152Z"
    },
    "hidden": true
   },
   "outputs": [],
   "source": [
    "# percent of names provided in relation to species\n",
    "d_names_only = df[['pet_name','temperment']]\n",
    "d_names_only = d_names_only.dropna()\n",
    "d_name_ratio = d_names_only['temperment'].value_counts()/df['temperment'].value_counts()\n",
    "d_name_ratio.plot.bar();"
   ]
  },
  {
   "cell_type": "markdown",
   "metadata": {},
   "source": [
    "# experimental joining dataset"
   ]
  },
  {
   "cell_type": "markdown",
   "metadata": {},
   "source": [
    "## crime and unemployment"
   ]
  },
  {
   "cell_type": "code",
   "execution_count": null,
   "metadata": {
    "ExecuteTime": {
     "end_time": "2020-02-24T20:06:16.583418Z",
     "start_time": "2020-02-24T20:05:33.159Z"
    }
   },
   "outputs": [],
   "source": [
    "# crime_df = pd.read_csv('Baton_Rouge_Crime_Incidents.csv')"
   ]
  },
  {
   "cell_type": "code",
   "execution_count": null,
   "metadata": {
    "ExecuteTime": {
     "end_time": "2020-02-24T20:06:16.585973Z",
     "start_time": "2020-02-24T20:05:33.163Z"
    }
   },
   "outputs": [],
   "source": [
    "# unemp_df = pd.read_csv('BATO922URN.csv')"
   ]
  },
  {
   "cell_type": "code",
   "execution_count": null,
   "metadata": {
    "ExecuteTime": {
     "end_time": "2020-02-24T20:06:16.588694Z",
     "start_time": "2020-02-24T20:05:33.168Z"
    }
   },
   "outputs": [],
   "source": [
    "# crime_df.head()"
   ]
  },
  {
   "cell_type": "code",
   "execution_count": null,
   "metadata": {
    "ExecuteTime": {
     "end_time": "2020-02-24T20:06:16.590926Z",
     "start_time": "2020-02-24T20:05:33.173Z"
    }
   },
   "outputs": [],
   "source": [
    "# crime_df.info()"
   ]
  },
  {
   "cell_type": "code",
   "execution_count": null,
   "metadata": {
    "ExecuteTime": {
     "end_time": "2020-02-24T20:06:16.593273Z",
     "start_time": "2020-02-24T20:05:33.178Z"
    }
   },
   "outputs": [],
   "source": [
    "# crime_df = pd.read_csv('Baton_Rouge_Crime_Incidents.csv')"
   ]
  },
  {
   "cell_type": "code",
   "execution_count": null,
   "metadata": {
    "ExecuteTime": {
     "end_time": "2020-02-24T20:06:16.595530Z",
     "start_time": "2020-02-24T20:05:33.182Z"
    }
   },
   "outputs": [],
   "source": [
    "# unemp_df = pd.read_csv('BATO922URN.csv')"
   ]
  },
  {
   "cell_type": "code",
   "execution_count": null,
   "metadata": {
    "ExecuteTime": {
     "end_time": "2020-02-24T20:06:16.597949Z",
     "start_time": "2020-02-24T20:05:33.187Z"
    }
   },
   "outputs": [],
   "source": [
    "# crime_df.offense_time"
   ]
  },
  {
   "cell_type": "code",
   "execution_count": null,
   "metadata": {
    "ExecuteTime": {
     "end_time": "2020-02-24T20:06:16.600225Z",
     "start_time": "2020-02-24T20:05:33.192Z"
    }
   },
   "outputs": [],
   "source": [
    "# removing spaces and lower casing the column names\n",
    "crime_df.columns = crime_df.columns.str.lower()\n",
    "crime_df.columns = crime_df.columns.str.strip()\n",
    "crime_df.columns = crime_df.columns.str.replace(' ', '_')"
   ]
  },
  {
   "cell_type": "code",
   "execution_count": null,
   "metadata": {
    "ExecuteTime": {
     "end_time": "2020-02-24T20:06:16.602288Z",
     "start_time": "2020-02-24T20:05:33.196Z"
    }
   },
   "outputs": [],
   "source": [
    "# time columns to list\n",
    "time_cols= [col for col in crime_df.columns if 'time' in col]\n",
    "\n",
    "# covert time to hour/minute datetime format\n",
    "for col in time_cols:\n",
    "    crime_df[col] = pd.to_datetime(crime_df[col], errors='ignore', format=\"%H:%M\")\n",
    "    #.dt.time"
   ]
  },
  {
   "cell_type": "code",
   "execution_count": null,
   "metadata": {
    "ExecuteTime": {
     "end_time": "2020-02-24T20:06:16.603753Z",
     "start_time": "2020-02-24T20:05:33.201Z"
    }
   },
   "outputs": [],
   "source": [
    "# impound date + impound time = impound datetime\n",
    "crime_df['datetime'] = pd.to_datetime(crime_df['offense_date'].apply(str)+' '+crime_df['offense_time'], errors ='ignore')"
   ]
  },
  {
   "cell_type": "code",
   "execution_count": null,
   "metadata": {},
   "outputs": [],
   "source": []
  },
  {
   "cell_type": "code",
   "execution_count": null,
   "metadata": {},
   "outputs": [],
   "source": []
  }
 ],
 "metadata": {
  "hide_input": false,
  "kernelspec": {
   "display_name": "Python 3",
   "language": "python",
   "name": "python3"
  },
  "language_info": {
   "codemirror_mode": {
    "name": "ipython",
    "version": 3
   },
   "file_extension": ".py",
   "mimetype": "text/x-python",
   "name": "python",
   "nbconvert_exporter": "python",
   "pygments_lexer": "ipython3",
   "version": "3.7.3"
  },
  "toc": {
   "base_numbering": 1,
   "nav_menu": {},
   "number_sections": true,
   "sideBar": true,
   "skip_h1_title": false,
   "title_cell": "Table of Contents",
   "title_sidebar": "Contents",
   "toc_cell": false,
   "toc_position": {
    "height": "calc(100% - 180px)",
    "left": "10px",
    "top": "150px",
    "width": "165px"
   },
   "toc_section_display": true,
   "toc_window_display": true
  }
 },
 "nbformat": 4,
 "nbformat_minor": 2
}
