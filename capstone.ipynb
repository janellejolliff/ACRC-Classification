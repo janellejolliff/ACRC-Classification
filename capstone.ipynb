{
 "cells": [
  {
   "cell_type": "markdown",
   "metadata": {
    "heading_collapsed": true
   },
   "source": [
    "## import"
   ]
  },
  {
   "cell_type": "code",
   "execution_count": 1,
   "metadata": {
    "ExecuteTime": {
     "end_time": "2020-02-24T09:18:03.333692Z",
     "start_time": "2020-02-24T09:17:59.946204Z"
    },
    "code_folding": [],
    "hidden": true
   },
   "outputs": [],
   "source": [
    "#importing libraries & packages\n",
    "import pandas as pd\n",
    "import numpy as np\n",
    "import seaborn as sns\n",
    "sns.set()\n",
    "import matplotlib.pyplot as plt\n",
    "%matplotlib inline\n",
    "import pandas_profiling\n",
    "import datetime\n",
    "import re\n",
    "import pprint\n",
    "pp = pprint.PrettyPrinter(indent=4)\n",
    "from collections import Counter\n",
    "import warnings\n",
    "warnings.filterwarnings('ignore')\n",
    "\n",
    "#display multiple outputs from cell \n",
    "from IPython.core.interactiveshell import InteractiveShell\n",
    "InteractiveShell.ast_node_interactivity = \"all\""
   ]
  },
  {
   "cell_type": "code",
   "execution_count": 2,
   "metadata": {
    "ExecuteTime": {
     "end_time": "2020-02-24T09:18:04.196765Z",
     "start_time": "2020-02-24T09:18:03.336405Z"
    },
    "code_folding": [],
    "hidden": true
   },
   "outputs": [],
   "source": [
    "# import Animal Control Incidents df\n",
    "df = pd.read_csv('Animal_Control_Incidents.csv')\n",
    "\n",
    "#preserving original df before making alterations\n",
    "raw_df = df.copy()"
   ]
  },
  {
   "cell_type": "markdown",
   "metadata": {
    "heading_collapsed": true
   },
   "source": [
    "## functions"
   ]
  },
  {
   "cell_type": "code",
   "execution_count": 3,
   "metadata": {
    "ExecuteTime": {
     "end_time": "2020-02-24T09:18:04.205814Z",
     "start_time": "2020-02-24T09:18:04.199612Z"
    },
    "code_folding": [],
    "hidden": true
   },
   "outputs": [],
   "source": [
    "# regex for letters and '/' only, unless pattern reassigned\n",
    "def remove_numpunc(list, pattern='[^A-Za-z/]+'):\n",
    "    \"\"\"regex to apply to list/df column --default: to include only letters and '/' \"\"\"\n",
    "    pattern = pattern\n",
    "    #pattern = '[^A-Za-z_]+'\n",
    "    list = [re.sub(pattern, '', i) for i in list] \n",
    "    return list"
   ]
  },
  {
   "cell_type": "code",
   "execution_count": 4,
   "metadata": {
    "ExecuteTime": {
     "end_time": "2020-02-24T09:18:04.218531Z",
     "start_time": "2020-02-24T09:18:04.209776Z"
    },
    "code_folding": [
     1
    ],
    "hidden": true
   },
   "outputs": [],
   "source": [
    "# plotting counts of timedate data \n",
    "def plot_dtcount(td_df, col, limitsy = None, limitsx= None, overlap = True, labels = None):\n",
    "    \"\"\"Plots incident count(y) with timeframe as x axis:\n",
    "    \n",
    "        td_df = dataframe with date/time\n",
    "        col = date/time column(s) of dataframe to plot counts\n",
    "        limitsy= (y,y), limitsx= (x,x) can be adjusted\n",
    "         -, helful if wanting to exclude extreme outliers -\n",
    "         overlap= boolean(if looping and want plots seperately plotted, set to False)\n",
    "         labels= str or list of str for legend\n",
    "         \"\"\"\n",
    "    \n",
    "    td_df[col] = td_df[col].dropna()\n",
    "    time_c = td_df.groupby([col])[col].count()\n",
    "    \n",
    "    if limitsy:\n",
    "        plt.ylim(limitsy)\n",
    "        \n",
    "    if limitsx:\n",
    "        plt.xlim(limitsx)\n",
    "\n",
    "    if labels:\n",
    "        plt.legend(\n",
    "        (labels),\n",
    "        loc='upper right'\n",
    "        ,fontsize= 12)\n",
    "    \n",
    "    plt.scatter(time_c.index, time_c.values, s= 5, alpha=.3, label=col)\n",
    "    if not overlap:\n",
    "        plt.xlabel(col)\n",
    "        plt.show();"
   ]
  },
  {
   "cell_type": "code",
   "execution_count": 5,
   "metadata": {
    "ExecuteTime": {
     "end_time": "2020-02-24T09:18:04.234705Z",
     "start_time": "2020-02-24T09:18:04.223061Z"
    },
    "code_folding": [
     1
    ],
    "hidden": true
   },
   "outputs": [],
   "source": [
    "# pretty blue/green seaborn correlation plot for categorical data\n",
    "def corr_plot(data, minv=-.3, maxv=.3, dummy=True):\n",
    "    \"\"\"pretty blue/green seaborn correlation plot:\n",
    "    \n",
    "    data= dataframe(will include all columns)\n",
    "    minv = -float, maxv = float  --adjust closer to 0 for more contrast, closer to -1/1 for less\n",
    "    dummy = False if df is all numerical. when True:function will only dummy categorical features\n",
    "    \"\"\"\n",
    "    \n",
    "    if dummy:\n",
    "        # dummy categorical features\n",
    "        col_list = list(data.select_dtypes(include=['object']).columns)\n",
    "\n",
    "        # create dummies for categorical features\n",
    "        data = pd.DataFrame(pd.get_dummies(data=data,columns=col_list\n",
    "                       , prefix=col_list))\n",
    "    sns.set(style=\"white\")\n",
    "    corr = data.corr()\n",
    "\n",
    "    # mask the size of covariance matrix\n",
    "    mask = np.zeros_like(corr, dtype=np.bool)\n",
    "    mask[np.triu_indices_from(mask)] = True\n",
    "\n",
    "    f, ax = plt.subplots(figsize=(10, 10))\n",
    "\n",
    "    sns.heatmap(corr, mask=mask\n",
    "                ,annot=False, cmap=\"YlGnBu\", vmin = minv, vmax=maxv, center=0,\n",
    "                square=True, linewidths=.5,cbar_kws= {\"shrink\": .5} );\n",
    "    \n",
    "    #prevent the shrink of bottom row\n",
    "    ax.set_ylim(len(data.columns), 0)"
   ]
  },
  {
   "cell_type": "code",
   "execution_count": 6,
   "metadata": {
    "ExecuteTime": {
     "end_time": "2020-02-24T09:18:04.247056Z",
     "start_time": "2020-02-24T09:18:04.238303Z"
    },
    "code_folding": [
     1
    ],
    "hidden": true
   },
   "outputs": [],
   "source": [
    "#sns countplot loop - probably unnecessary\n",
    "def plot_counts(cols):\n",
    "    for i, col in enumerate(cols):\n",
    "       # print(df[col].value_counts())\n",
    "        plt.figure(i)\n",
    "        sns.countplot(y=col, data=df);"
   ]
  },
  {
   "cell_type": "code",
   "execution_count": 7,
   "metadata": {
    "ExecuteTime": {
     "end_time": "2020-02-24T09:18:04.258734Z",
     "start_time": "2020-02-24T09:18:04.251819Z"
    },
    "code_folding": [],
    "hidden": true
   },
   "outputs": [],
   "source": [
    "# replacing strings and substrings FOR COLOR COLUMN ONLY(could be made more universal)\n",
    "def edit_replace(old_words, replacement_word):\n",
    "    \"\"\"simple replacing strings or list in the df.color column since used so frequently in editting\"\"\"\n",
    "    for word in old_words:\n",
    "        #df['color'] = df['color'].replace(word, replacement_word)\n",
    "        df['color'] = df.color.apply(lambda x: x.replace(word, replacement_word))"
   ]
  },
  {
   "cell_type": "markdown",
   "metadata": {},
   "source": [
    "# __Cleaning__"
   ]
  },
  {
   "cell_type": "markdown",
   "metadata": {
    "heading_collapsed": true
   },
   "source": [
    "### overview\n",
    "\n",
    "looking at size, data types, 'na's"
   ]
  },
  {
   "cell_type": "code",
   "execution_count": 8,
   "metadata": {
    "ExecuteTime": {
     "end_time": "2020-02-24T09:18:04.273117Z",
     "start_time": "2020-02-24T09:18:04.264018Z"
    },
    "hidden": true
   },
   "outputs": [
    {
     "data": {
      "text/plain": [
       "(73303, 38)"
      ]
     },
     "execution_count": 8,
     "metadata": {},
     "output_type": "execute_result"
    }
   ],
   "source": [
    "df.shape"
   ]
  },
  {
   "cell_type": "code",
   "execution_count": 9,
   "metadata": {
    "ExecuteTime": {
     "end_time": "2020-02-24T09:18:04.322375Z",
     "start_time": "2020-02-24T09:18:04.276612Z"
    },
    "hidden": true
   },
   "outputs": [
    {
     "data": {
      "text/html": [
       "<div>\n",
       "<style scoped>\n",
       "    .dataframe tbody tr th:only-of-type {\n",
       "        vertical-align: middle;\n",
       "    }\n",
       "\n",
       "    .dataframe tbody tr th {\n",
       "        vertical-align: top;\n",
       "    }\n",
       "\n",
       "    .dataframe thead th {\n",
       "        text-align: right;\n",
       "    }\n",
       "</style>\n",
       "<table border=\"1\" class=\"dataframe\">\n",
       "  <thead>\n",
       "    <tr style=\"text-align: right;\">\n",
       "      <th></th>\n",
       "      <th>FILE NUMBER</th>\n",
       "      <th>INCIDENT DATE</th>\n",
       "      <th>INCIDENT TIME</th>\n",
       "      <th>DISPATCHED TIME</th>\n",
       "      <th>CALL TAKER</th>\n",
       "      <th>DISPATCHER</th>\n",
       "      <th>DISPATCHED OTHER</th>\n",
       "      <th>DISPATCHED SITUATION</th>\n",
       "      <th>ARRIVAL TIME</th>\n",
       "      <th>AVAILABLE TIME</th>\n",
       "      <th>...</th>\n",
       "      <th>CONDITION</th>\n",
       "      <th>TEMPERMENT</th>\n",
       "      <th>COLLAR</th>\n",
       "      <th>COLLAR COLOR</th>\n",
       "      <th>VACCINATION NUMBER</th>\n",
       "      <th>VACCINATION DATE</th>\n",
       "      <th>PET NAME</th>\n",
       "      <th>DISPOSITION</th>\n",
       "      <th>DISPOSITION DATE</th>\n",
       "      <th>DISPOSITION OFFICER</th>\n",
       "    </tr>\n",
       "  </thead>\n",
       "  <tbody>\n",
       "    <tr>\n",
       "      <th>0</th>\n",
       "      <td>201639027</td>\n",
       "      <td>12/27/2016</td>\n",
       "      <td>15:30</td>\n",
       "      <td>16:06</td>\n",
       "      <td>UNKNOWN</td>\n",
       "      <td>JENNIFER G</td>\n",
       "      <td>0</td>\n",
       "      <td>D</td>\n",
       "      <td>16:17</td>\n",
       "      <td>16:38</td>\n",
       "      <td>...</td>\n",
       "      <td>FAIR</td>\n",
       "      <td>FRIENDLY</td>\n",
       "      <td>NYLON</td>\n",
       "      <td>RED</td>\n",
       "      <td>NaN</td>\n",
       "      <td>NaN</td>\n",
       "      <td>NaN</td>\n",
       "      <td>TRANS CAA</td>\n",
       "      <td>12/27/2016</td>\n",
       "      <td>FRANK S</td>\n",
       "    </tr>\n",
       "    <tr>\n",
       "      <th>1</th>\n",
       "      <td>201639044</td>\n",
       "      <td>12/28/2016</td>\n",
       "      <td>10:06</td>\n",
       "      <td>10:07</td>\n",
       "      <td>UNKNOWN</td>\n",
       "      <td>JENNIFER G</td>\n",
       "      <td>0</td>\n",
       "      <td>D</td>\n",
       "      <td>10:15</td>\n",
       "      <td>10:23</td>\n",
       "      <td>...</td>\n",
       "      <td>FAIR</td>\n",
       "      <td>NORMAL</td>\n",
       "      <td>UNKNOWN</td>\n",
       "      <td>UNKNOWN</td>\n",
       "      <td>NaN</td>\n",
       "      <td>NaN</td>\n",
       "      <td>NaN</td>\n",
       "      <td>RETURN TO WILD</td>\n",
       "      <td>12/28/2016</td>\n",
       "      <td>TRAVIS R</td>\n",
       "    </tr>\n",
       "    <tr>\n",
       "      <th>2</th>\n",
       "      <td>201639036</td>\n",
       "      <td>12/28/2016</td>\n",
       "      <td>09:03</td>\n",
       "      <td>09:03</td>\n",
       "      <td>UNKNOWN</td>\n",
       "      <td>JENNIFER G</td>\n",
       "      <td>0</td>\n",
       "      <td>D</td>\n",
       "      <td>09:27</td>\n",
       "      <td>09:45</td>\n",
       "      <td>...</td>\n",
       "      <td>EMACIATED</td>\n",
       "      <td>FRIENDLY</td>\n",
       "      <td>LEATHER</td>\n",
       "      <td>PINK</td>\n",
       "      <td>NaN</td>\n",
       "      <td>NaN</td>\n",
       "      <td>NaN</td>\n",
       "      <td>TRANS CAA</td>\n",
       "      <td>12/28/2016</td>\n",
       "      <td>ISAAC S</td>\n",
       "    </tr>\n",
       "    <tr>\n",
       "      <th>3</th>\n",
       "      <td>201639042</td>\n",
       "      <td>12/28/2016</td>\n",
       "      <td>09:46</td>\n",
       "      <td>10:24</td>\n",
       "      <td>UNKNOWN</td>\n",
       "      <td>JENNIFER G</td>\n",
       "      <td>0</td>\n",
       "      <td>D</td>\n",
       "      <td>10:35</td>\n",
       "      <td>10:47</td>\n",
       "      <td>...</td>\n",
       "      <td>EMACIATED</td>\n",
       "      <td>FRIENDLY</td>\n",
       "      <td>UNKNOWN</td>\n",
       "      <td>UNKNOWN</td>\n",
       "      <td>NaN</td>\n",
       "      <td>NaN</td>\n",
       "      <td>NaN</td>\n",
       "      <td>TRANS CAA</td>\n",
       "      <td>12/28/2016</td>\n",
       "      <td>JOHN B</td>\n",
       "    </tr>\n",
       "    <tr>\n",
       "      <th>4</th>\n",
       "      <td>201639059</td>\n",
       "      <td>12/28/2016</td>\n",
       "      <td>15:05</td>\n",
       "      <td>15:45</td>\n",
       "      <td>UNKNOWN</td>\n",
       "      <td>JENNIFER G</td>\n",
       "      <td>0</td>\n",
       "      <td>D</td>\n",
       "      <td>16:07</td>\n",
       "      <td>16:25</td>\n",
       "      <td>...</td>\n",
       "      <td>EMACIATED</td>\n",
       "      <td>NORMAL</td>\n",
       "      <td>UNKNOWN</td>\n",
       "      <td>UNKNOWN</td>\n",
       "      <td>NaN</td>\n",
       "      <td>NaN</td>\n",
       "      <td>NaN</td>\n",
       "      <td>TRANS CAA</td>\n",
       "      <td>12/28/2016</td>\n",
       "      <td>SUE H</td>\n",
       "    </tr>\n",
       "  </tbody>\n",
       "</table>\n",
       "<p>5 rows × 38 columns</p>\n",
       "</div>"
      ],
      "text/plain": [
       "   FILE NUMBER INCIDENT DATE INCIDENT TIME DISPATCHED TIME CALL TAKER  \\\n",
       "0    201639027    12/27/2016         15:30           16:06    UNKNOWN   \n",
       "1    201639044    12/28/2016         10:06           10:07    UNKNOWN   \n",
       "2    201639036    12/28/2016         09:03           09:03    UNKNOWN   \n",
       "3    201639042    12/28/2016         09:46           10:24    UNKNOWN   \n",
       "4    201639059    12/28/2016         15:05           15:45    UNKNOWN   \n",
       "\n",
       "   DISPATCHER  DISPATCHED OTHER DISPATCHED SITUATION ARRIVAL TIME  \\\n",
       "0  JENNIFER G                 0                    D        16:17   \n",
       "1  JENNIFER G                 0                    D        10:15   \n",
       "2  JENNIFER G                 0                    D        09:27   \n",
       "3  JENNIFER G                 0                    D        10:35   \n",
       "4  JENNIFER G                 0                    D        16:07   \n",
       "\n",
       "  AVAILABLE TIME  ...  CONDITION TEMPERMENT   COLLAR COLLAR COLOR  \\\n",
       "0          16:38  ...       FAIR   FRIENDLY    NYLON          RED   \n",
       "1          10:23  ...       FAIR     NORMAL  UNKNOWN      UNKNOWN   \n",
       "2          09:45  ...  EMACIATED   FRIENDLY  LEATHER         PINK   \n",
       "3          10:47  ...  EMACIATED   FRIENDLY  UNKNOWN      UNKNOWN   \n",
       "4          16:25  ...  EMACIATED     NORMAL  UNKNOWN      UNKNOWN   \n",
       "\n",
       "  VACCINATION NUMBER  VACCINATION DATE PET NAME     DISPOSITION  \\\n",
       "0                NaN               NaN      NaN       TRANS CAA   \n",
       "1                NaN               NaN      NaN  RETURN TO WILD   \n",
       "2                NaN               NaN      NaN       TRANS CAA   \n",
       "3                NaN               NaN      NaN       TRANS CAA   \n",
       "4                NaN               NaN      NaN       TRANS CAA   \n",
       "\n",
       "  DISPOSITION DATE DISPOSITION OFFICER  \n",
       "0       12/27/2016             FRANK S  \n",
       "1       12/28/2016            TRAVIS R  \n",
       "2       12/28/2016             ISAAC S  \n",
       "3       12/28/2016              JOHN B  \n",
       "4       12/28/2016               SUE H  \n",
       "\n",
       "[5 rows x 38 columns]"
      ]
     },
     "execution_count": 9,
     "metadata": {},
     "output_type": "execute_result"
    }
   ],
   "source": [
    "df.head()"
   ]
  },
  {
   "cell_type": "code",
   "execution_count": 10,
   "metadata": {
    "ExecuteTime": {
     "end_time": "2020-02-24T09:18:04.330955Z",
     "start_time": "2020-02-24T09:18:04.325353Z"
    },
    "code_folding": [
     0
    ],
    "hidden": true
   },
   "outputs": [],
   "source": [
    "# removing spaces and lower casing the column names\n",
    "df.columns = df.columns.str.lower()\n",
    "df.columns = df.columns.str.strip()\n",
    "df.columns = df.columns.str.replace(' ', '_')"
   ]
  },
  {
   "cell_type": "code",
   "execution_count": 11,
   "metadata": {
    "ExecuteTime": {
     "end_time": "2020-02-24T09:18:04.537074Z",
     "start_time": "2020-02-24T09:18:04.335295Z"
    },
    "hidden": true,
    "scrolled": true
   },
   "outputs": [
    {
     "name": "stdout",
     "output_type": "stream",
     "text": [
      "<class 'pandas.core.frame.DataFrame'>\n",
      "RangeIndex: 73303 entries, 0 to 73302\n",
      "Data columns (total 38 columns):\n",
      "file_number             73303 non-null int64\n",
      "incident_date           73303 non-null object\n",
      "incident_time           72818 non-null object\n",
      "dispatched_time         62547 non-null object\n",
      "call_taker              53134 non-null object\n",
      "dispatcher              60239 non-null object\n",
      "dispatched_other        73303 non-null int64\n",
      "dispatched_situation    62537 non-null object\n",
      "arrival_time            61843 non-null object\n",
      "available_time          62545 non-null object\n",
      "complainant_street      73281 non-null object\n",
      "request_type            40141 non-null object\n",
      "officer                 61235 non-null object\n",
      "equipment_number        60251 non-null object\n",
      "remarks                 2098 non-null object\n",
      "impound_number          53110 non-null float64\n",
      "impound_date            53105 non-null object\n",
      "impound_time            53046 non-null object\n",
      "location                52867 non-null object\n",
      "municipality            53106 non-null object\n",
      "zip_code                24222 non-null float64\n",
      "service_code            53110 non-null object\n",
      "species                 53088 non-null object\n",
      "breed                   52282 non-null object\n",
      "sex                     40642 non-null object\n",
      "size                    51815 non-null object\n",
      "color                   51754 non-null object\n",
      "age                     33217 non-null float64\n",
      "condition               50878 non-null object\n",
      "temperment              51486 non-null object\n",
      "collar                  24966 non-null object\n",
      "collar_color            24449 non-null object\n",
      "vaccination_number      599 non-null object\n",
      "vaccination_date        347 non-null object\n",
      "pet_name                1012 non-null object\n",
      "disposition             53103 non-null object\n",
      "disposition_date        38598 non-null object\n",
      "disposition_officer     52323 non-null object\n",
      "dtypes: float64(3), int64(2), object(33)\n",
      "memory usage: 21.3+ MB\n"
     ]
    }
   ],
   "source": [
    "df.info()"
   ]
  },
  {
   "cell_type": "markdown",
   "metadata": {
    "hidden": true
   },
   "source": [
    "Although most features are classified appropriately, some of these columns would be better described as object than int or float. There are also many dates and times to convert to datetime."
   ]
  },
  {
   "cell_type": "code",
   "execution_count": 12,
   "metadata": {
    "ExecuteTime": {
     "end_time": "2020-02-24T09:18:04.778019Z",
     "start_time": "2020-02-24T09:18:04.540355Z"
    },
    "hidden": true
   },
   "outputs": [],
   "source": [
    "# float and int columns with no numerical value\n",
    "obj_cols = ('file_number', 'dispatched_other', 'impound_number', 'zip_code', 'color', 'breed')\n",
    "\n",
    "# converting to object\n",
    "for col in obj_cols:\n",
    "    df[col] = df[col].astype(str)"
   ]
  },
  {
   "cell_type": "code",
   "execution_count": 13,
   "metadata": {
    "ExecuteTime": {
     "end_time": "2020-02-24T09:18:05.285283Z",
     "start_time": "2020-02-24T09:18:04.780084Z"
    },
    "hidden": true
   },
   "outputs": [
    {
     "name": "stdout",
     "output_type": "stream",
     "text": [
      "0.003396859610111455\n"
     ]
    }
   ],
   "source": [
    "# any duplicate rows?\n",
    "print (len(df[df.duplicated()])/len(df))\n",
    "# df[df.duplicated()]"
   ]
  },
  {
   "cell_type": "markdown",
   "metadata": {
    "hidden": true
   },
   "source": [
    "Other than the majority of them appearing around the year 2012, nothing grabs my attention with the duplicates. It only accounts for .03% of df."
   ]
  },
  {
   "cell_type": "code",
   "execution_count": 14,
   "metadata": {
    "ExecuteTime": {
     "end_time": "2020-02-24T09:18:05.633449Z",
     "start_time": "2020-02-24T09:18:05.288194Z"
    },
    "hidden": true
   },
   "outputs": [],
   "source": [
    "# removing duplicate rows from df - likely data entry mistakes\n",
    "df.drop_duplicates(keep=False, inplace=True)"
   ]
  },
  {
   "cell_type": "markdown",
   "metadata": {
    "hidden": true
   },
   "source": [
    "How much nas per column are there?"
   ]
  },
  {
   "cell_type": "code",
   "execution_count": 15,
   "metadata": {
    "ExecuteTime": {
     "end_time": "2020-02-24T09:18:05.815203Z",
     "start_time": "2020-02-24T09:18:05.635896Z"
    },
    "hidden": true,
    "scrolled": true
   },
   "outputs": [
    {
     "data": {
      "text/plain": [
       "file_number               0.0\n",
       "incident_date             0.0\n",
       "incident_time             1.0\n",
       "dispatched_time          14.0\n",
       "call_taker               27.0\n",
       "dispatcher               18.0\n",
       "dispatched_other          0.0\n",
       "dispatched_situation     14.0\n",
       "arrival_time             15.0\n",
       "available_time           14.0\n",
       "complainant_street        0.0\n",
       "request_type             45.0\n",
       "officer                  17.0\n",
       "equipment_number         18.0\n",
       "remarks                  97.0\n",
       "impound_number            0.0\n",
       "impound_date             28.0\n",
       "impound_time             28.0\n",
       "location                 28.0\n",
       "municipality             28.0\n",
       "zip_code                  0.0\n",
       "service_code             28.0\n",
       "species                  28.0\n",
       "breed                     0.0\n",
       "sex                      45.0\n",
       "size                     29.0\n",
       "color                     0.0\n",
       "age                      55.0\n",
       "condition                31.0\n",
       "temperment               30.0\n",
       "collar                   66.0\n",
       "collar_color             66.0\n",
       "vaccination_number       99.0\n",
       "vaccination_date        100.0\n",
       "pet_name                 99.0\n",
       "disposition              28.0\n",
       "disposition_date         48.0\n",
       "disposition_officer      29.0\n",
       "dtype: float64"
      ]
     },
     "execution_count": 15,
     "metadata": {},
     "output_type": "execute_result"
    }
   ],
   "source": [
    "#percent missing values per column\n",
    "round(df.isna().sum()/len(df)*100)"
   ]
  },
  {
   "cell_type": "markdown",
   "metadata": {
    "hidden": true
   },
   "source": [
    "Since most features are missing substantial amounts of data, I want to be careful about dropping nas to avoid tossing out useful information with the nulls."
   ]
  },
  {
   "cell_type": "code",
   "execution_count": 16,
   "metadata": {
    "ExecuteTime": {
     "end_time": "2020-02-24T09:18:05.864065Z",
     "start_time": "2020-02-24T09:18:05.818154Z"
    },
    "hidden": true
   },
   "outputs": [],
   "source": [
    "#removing row with nas from incident time since such little nas(1% rows)\n",
    "df = df[df['incident_time'].notna()]"
   ]
  },
  {
   "cell_type": "code",
   "execution_count": 17,
   "metadata": {
    "ExecuteTime": {
     "end_time": "2020-02-24T09:18:05.943904Z",
     "start_time": "2020-02-24T09:18:05.866560Z"
    },
    "hidden": true
   },
   "outputs": [],
   "source": [
    "# preserve df \n",
    "df1 = df.copy()"
   ]
  },
  {
   "cell_type": "code",
   "execution_count": 18,
   "metadata": {
    "ExecuteTime": {
     "end_time": "2020-02-24T09:18:05.948830Z",
     "start_time": "2020-02-24T09:18:05.945964Z"
    },
    "hidden": true
   },
   "outputs": [],
   "source": [
    "#df=df1"
   ]
  },
  {
   "cell_type": "markdown",
   "metadata": {
    "heading_collapsed": true
   },
   "source": [
    "### date & time\n",
    "\n",
    "Converting dates and times to appropriate format.\n"
   ]
  },
  {
   "cell_type": "markdown",
   "metadata": {
    "hidden": true
   },
   "source": [
    "- Merging incident date and time to datetime column, repeat with impound date & time."
   ]
  },
  {
   "cell_type": "code",
   "execution_count": 19,
   "metadata": {
    "ExecuteTime": {
     "end_time": "2020-02-24T09:18:16.594885Z",
     "start_time": "2020-02-24T09:18:05.953063Z"
    },
    "hidden": true
   },
   "outputs": [],
   "source": [
    "# incident date + incident time for merged datetime column\n",
    "df['inc_dt'] = pd.to_datetime(df['incident_date'].apply(str)+' '+df['incident_time'])"
   ]
  },
  {
   "cell_type": "code",
   "execution_count": 20,
   "metadata": {
    "ExecuteTime": {
     "end_time": "2020-02-24T09:18:23.736930Z",
     "start_time": "2020-02-24T09:18:16.599486Z"
    },
    "hidden": true
   },
   "outputs": [],
   "source": [
    "# impound date + impound time = impound datetime\n",
    "df['imp_dt'] = pd.to_datetime(df['impound_date'].apply(str)+' '+df['impound_time'], errors ='coerce')"
   ]
  },
  {
   "cell_type": "markdown",
   "metadata": {
    "hidden": true
   },
   "source": [
    "___\n",
    "__Time Features:__"
   ]
  },
  {
   "cell_type": "code",
   "execution_count": 21,
   "metadata": {
    "ExecuteTime": {
     "end_time": "2020-02-24T09:18:24.609139Z",
     "start_time": "2020-02-24T09:18:23.739337Z"
    },
    "code_folding": [],
    "hidden": true
   },
   "outputs": [],
   "source": [
    "# time columns to list, then loop conversion to date.time\n",
    "time_cols= [col for col in df.columns if 'time' in col]\n",
    "\n",
    "# covert time to hour/minute datetime format\n",
    "for col in time_cols:\n",
    "    df[col] = pd.to_datetime(df[col], errors='coerce', format=\"%H:%M\").dt.time"
   ]
  },
  {
   "cell_type": "code",
   "execution_count": 22,
   "metadata": {
    "ExecuteTime": {
     "end_time": "2020-02-24T09:18:24.632717Z",
     "start_time": "2020-02-24T09:18:24.611331Z"
    },
    "hidden": true
   },
   "outputs": [
    {
     "name": "stdout",
     "output_type": "stream",
     "text": [
      "Incident time Range:\n",
      "from 00:04:00 \n",
      " to: 23:58:00\n"
     ]
    }
   ],
   "source": [
    "print('Incident time Range:\\n''from',df.incident_time.min(),'\\n to:', df.incident_time.max())"
   ]
  },
  {
   "cell_type": "markdown",
   "metadata": {
    "hidden": true
   },
   "source": [
    "___\n",
    "__Date Features:__"
   ]
  },
  {
   "cell_type": "code",
   "execution_count": 23,
   "metadata": {
    "ExecuteTime": {
     "end_time": "2020-02-24T09:18:25.367887Z",
     "start_time": "2020-02-24T09:18:24.640979Z"
    },
    "hidden": true
   },
   "outputs": [],
   "source": [
    "# all date columns to list\n",
    "date_cols= [col for col in df.columns if 'date' in col]\n",
    "\n",
    "# covert to month/day/year datetime format\n",
    "for col in date_cols:\n",
    "    df[col] = pd.to_datetime(df[col],errors='coerce', format=\"%m/%d/%Y\").dt.date"
   ]
  },
  {
   "cell_type": "code",
   "execution_count": 24,
   "metadata": {
    "ExecuteTime": {
     "end_time": "2020-02-24T09:18:25.398738Z",
     "start_time": "2020-02-24T09:18:25.374630Z"
    },
    "hidden": true
   },
   "outputs": [
    {
     "name": "stdout",
     "output_type": "stream",
     "text": [
      "Incident Date Range:\n",
      "from: 2012-01-01 \n",
      " to: 2019-10-03\n"
     ]
    }
   ],
   "source": [
    "# date range of dataset\n",
    "print('Incident Date Range:\\n''from:',df.incident_date.min(),'\\n to:', df.incident_date.max())"
   ]
  },
  {
   "cell_type": "markdown",
   "metadata": {
    "hidden": true
   },
   "source": [
    "#### additional time features:"
   ]
  },
  {
   "cell_type": "markdown",
   "metadata": {
    "hidden": true
   },
   "source": [
    "___\n",
    "Below, I will be:\n",
    "\n",
    "\n",
    "- Creating feature representing time difference between incident time and impound time.  \n",
    "\n",
    "*_The incident date&time is when the incident was called in, the impound time is when the animal was brought to the shelter. It's possible that not every incident called in resulted in an impound, which may be the reason values are missing from impound._\n"
   ]
  },
  {
   "cell_type": "markdown",
   "metadata": {
    "hidden": true
   },
   "source": [
    "__difference between datetime of incident call and impound datetime__"
   ]
  },
  {
   "cell_type": "code",
   "execution_count": 25,
   "metadata": {
    "ExecuteTime": {
     "end_time": "2020-02-24T09:18:25.410263Z",
     "start_time": "2020-02-24T09:18:25.401693Z"
    },
    "hidden": true
   },
   "outputs": [],
   "source": [
    "# time difference from incident to impound\n",
    "df['inc_to_imp'] = df['imp_dt']-df['inc_dt']"
   ]
  },
  {
   "cell_type": "markdown",
   "metadata": {
    "hidden": true
   },
   "source": [
    "___\n",
    "Weekday and Month:\n",
    "\n",
    "This may not provide anything insightful, but I'm creating columns for weekday and month of incident."
   ]
  },
  {
   "cell_type": "markdown",
   "metadata": {
    "hidden": true
   },
   "source": [
    "__- Weekday Feature-__"
   ]
  },
  {
   "cell_type": "code",
   "execution_count": 26,
   "metadata": {
    "ExecuteTime": {
     "end_time": "2020-02-24T09:18:25.634872Z",
     "start_time": "2020-02-24T09:18:25.412729Z"
    },
    "code_folding": [],
    "hidden": true,
    "scrolled": false
   },
   "outputs": [
    {
     "data": {
      "text/plain": [
       "0    15960\n",
       "1    14032\n",
       "2    13513\n",
       "3    13072\n",
       "4    11984\n",
       "5     2149\n",
       "6     1740\n",
       "Name: weekday, dtype: int64"
      ]
     },
     "execution_count": 26,
     "metadata": {},
     "output_type": "execute_result"
    }
   ],
   "source": [
    "# creating day of week column:\n",
    "df['weekday'] = pd.to_datetime(df['incident_date']).apply(lambda x: x.weekday())\n",
    "\n",
    "df.weekday.value_counts()\n",
    "# 0= monday"
   ]
  },
  {
   "cell_type": "markdown",
   "metadata": {
    "hidden": true
   },
   "source": [
    "It looks like most incidents occur on Mondays, and then dwindle down throughout the week, with much less incidents reported on weekends"
   ]
  },
  {
   "cell_type": "markdown",
   "metadata": {
    "hidden": true
   },
   "source": [
    "Are the amount of impounds per day relative to the amount of incidents?"
   ]
  },
  {
   "cell_type": "code",
   "execution_count": 27,
   "metadata": {
    "ExecuteTime": {
     "end_time": "2020-02-24T09:18:25.860251Z",
     "start_time": "2020-02-24T09:18:25.637744Z"
    },
    "hidden": true,
    "scrolled": false
   },
   "outputs": [
    {
     "data": {
      "text/plain": [
       "0.7212146307798482"
      ]
     },
     "execution_count": 27,
     "metadata": {},
     "output_type": "execute_result"
    },
    {
     "data": {
      "text/plain": [
       "0    0.628195\n",
       "1    0.676026\n",
       "2    0.704729\n",
       "3    0.707925\n",
       "4    0.726469\n",
       "5    1.359702\n",
       "6    1.341954\n",
       "dtype: float64"
      ]
     },
     "execution_count": 27,
     "metadata": {},
     "output_type": "execute_result"
    }
   ],
   "source": [
    "# how does incident day of week compare to impound day of week?:\n",
    "imp_weekday_counts=(pd.to_datetime(df['impound_date'].dropna()).apply(lambda x: x.weekday()).value_counts())\n",
    "(imp_weekday_counts.sum())/(df.weekday.value_counts().sum())\n",
    "imp_weekday_counts/df.weekday.value_counts()\n",
    "# 0= monday"
   ]
  },
  {
   "cell_type": "markdown",
   "metadata": {
    "hidden": true
   },
   "source": [
    "Something seems strange here. The dataframe has 76% of total not-null impounds to total incidents, why would there be 30% more impounds than incidents on any of the days, especially weekends?"
   ]
  },
  {
   "cell_type": "markdown",
   "metadata": {
    "hidden": true
   },
   "source": [
    "___\n",
    "__- Month feature-__"
   ]
  },
  {
   "cell_type": "code",
   "execution_count": 28,
   "metadata": {
    "ExecuteTime": {
     "end_time": "2020-02-24T09:18:25.886723Z",
     "start_time": "2020-02-24T09:18:25.862821Z"
    },
    "hidden": true,
    "scrolled": true
   },
   "outputs": [
    {
     "data": {
      "text/plain": [
       "5     7869\n",
       "8     6906\n",
       "6     6894\n",
       "7     6663\n",
       "9     6445\n",
       "10    6385\n",
       "4     5953\n",
       "3     5632\n",
       "1     5371\n",
       "2     5051\n",
       "11    4785\n",
       "12    4496\n",
       "Name: month, dtype: int64"
      ]
     },
     "execution_count": 28,
     "metadata": {},
     "output_type": "execute_result"
    }
   ],
   "source": [
    "# column for month\n",
    "df['month'] = pd.DatetimeIndex(df['incident_date']).month\n",
    "\n",
    "df.month.value_counts()"
   ]
  },
  {
   "cell_type": "markdown",
   "metadata": {
    "hidden": true
   },
   "source": [
    "__Warmer Climate = More Animal Control Incidents?__\n",
    "\n",
    "May-September appear to have the most incidents. According to weather.com, the average temperature increases rises from the 50's to 60's degree Fahrenheit around min April, and then begins to dip below the 60s again towards the end of October(although Baton Rouge typically experiences the most volume in rainfall in June and August). Using that information, you can infer a positive correlation between weather and incidents, similar to the common correlation with temperature and crime.\n",
    "\n",
    "*_Note that since the dates run between Jan-1-2012 to Oct-3rd-2019, there will be bias towards the first 10 months._"
   ]
  },
  {
   "cell_type": "markdown",
   "metadata": {},
   "source": [
    "### animal features"
   ]
  },
  {
   "cell_type": "markdown",
   "metadata": {},
   "source": [
    "Animals features include __color__, __breed__, __condition__, __temperment__, and __size__. color and breed present an issue with such high unique values for what should be considered , multiple spellings for the same color/breed, and alternate sequences of the same substrings appearing as different values( i.e. brown/white vs white/brown)"
   ]
  },
  {
   "cell_type": "markdown",
   "metadata": {},
   "source": [
    "#### color"
   ]
  },
  {
   "cell_type": "markdown",
   "metadata": {},
   "source": [
    "##### unifying spellings of colors"
   ]
  },
  {
   "cell_type": "code",
   "execution_count": 29,
   "metadata": {
    "ExecuteTime": {
     "end_time": "2020-02-24T09:18:25.908336Z",
     "start_time": "2020-02-24T09:18:25.889539Z"
    },
    "code_folding": [],
    "scrolled": true
   },
   "outputs": [
    {
     "data": {
      "text/plain": [
       "nan                         21526\n",
       "BLK                          4026\n",
       "BLK/WHT                      3973\n",
       "GRY                          3201\n",
       "BRWN/WHT                     1592\n",
       "GRY/WHT                      1565\n",
       "TAN/WHT                      1470\n",
       "BRWN                         1418\n",
       "TAN                          1417\n",
       "BLK/TAN                      1295\n",
       "GRAY                         1084\n",
       "BROWN                        1053\n",
       "GREY                          928\n",
       "GRY/BLK                       915\n",
       "WHT                           903\n",
       "BLK/GRY                       789\n",
       "BLK/BRWN                      762\n",
       "BRWN/BLK                      754\n",
       "WHT/BLK                       752\n",
       "BLACK                         716\n",
       "ORG                           716\n",
       "WHT/BRWN                      633\n",
       "BRN/BLK                       615\n",
       "BRINDLE                       588\n",
       "BRN                           521\n",
       "WHT/TAN                       511\n",
       "TAN/BLK                       508\n",
       "WHITE                         388\n",
       "WHT/GRY                       386\n",
       "NORMAL                        379\n",
       "                            ...  \n",
       "GRAY BRINDLE                    1\n",
       "GOLD/WHT/GRY/BLK                1\n",
       "GRY/GREEN/BRN                   1\n",
       "BRINDLE/BRN/BLK                 1\n",
       "CALICO/TABBY                    1\n",
       "WHT/BRN/TAN                     1\n",
       "2 BLK/WHT,1 BRWN/BLK/WHT        1\n",
       "BLK/GRY/WHT CHEST/FEET          1\n",
       "GOLD/BLK/GRY/WHT                1\n",
       "BLACK,BROWN,WHITE               1\n",
       "BLACK/ORANGE/WHITE              1\n",
       "WHT OR                          1\n",
       "GR WHT                          1\n",
       "GRAY/BRN/BLK                    1\n",
       "GRYA                            1\n",
       "GRAY/TABBY/WHITE                1\n",
       "GRY PINK                        1\n",
       "BRN PATTERN                     1\n",
       "GRY/BLK/WHT/BRWN                1\n",
       "REDDISH/TAN                     1\n",
       "BLK.WHT/ORANGE                  1\n",
       "B;LK/BRWN/WHT                   1\n",
       "BLK YELLOW BELLY                1\n",
       "RED-WHT                         1\n",
       "TIGER STRIP TAN/WHT             1\n",
       "YEL(LONG HAIR)                  1\n",
       "GRAY.DK GRAY                    1\n",
       "GRY YELLOW                      1\n",
       "BLK/ GRY/BLK                    1\n",
       "BROWNISH RED                    1\n",
       "Name: color, Length: 2183, dtype: int64"
      ]
     },
     "execution_count": 29,
     "metadata": {},
     "output_type": "execute_result"
    }
   ],
   "source": [
    "#df.color.value_counts()\n",
    "df.color.value_counts()"
   ]
  },
  {
   "cell_type": "markdown",
   "metadata": {},
   "source": [
    "Color Feature Cleaning:\n",
    "\n",
    "- Not liking the all caps, also unnecessary punctuation.\n",
    "\n",
    "\n",
    "- 1089 unique color values is going to be a problem for machine learning models, so I'd also like to reduce those. Each color needs to have uniform spelling, and combinations with low value counts will be categorized as 'other' to reduce dimensionality and noise.\n",
    "\n",
    "*_I'll be treating each combination as it's own category. I'm not sure if approaching each color as a separate feature would be practical, but maybe could be given more thought later. I don't see value in each individual color as much as the overall description of color(s) as a whole._"
   ]
  },
  {
   "cell_type": "code",
   "execution_count": 30,
   "metadata": {
    "ExecuteTime": {
     "end_time": "2020-02-24T09:18:25.995839Z",
     "start_time": "2020-02-24T09:18:25.911357Z"
    }
   },
   "outputs": [],
   "source": [
    "pre_color = df.copy()"
   ]
  },
  {
   "cell_type": "code",
   "execution_count": 51,
   "metadata": {
    "ExecuteTime": {
     "end_time": "2020-02-24T09:26:05.904881Z",
     "start_time": "2020-02-24T09:26:05.839523Z"
    }
   },
   "outputs": [],
   "source": [
    "df= pre_color.copy()"
   ]
  },
  {
   "cell_type": "code",
   "execution_count": 45,
   "metadata": {
    "ExecuteTime": {
     "end_time": "2020-02-24T09:22:58.599452Z",
     "start_time": "2020-02-24T09:22:58.565469Z"
    }
   },
   "outputs": [],
   "source": [
    "#df['color'] = df['color'].apply(lambda x: x.replace(' ', '/'))"
   ]
  },
  {
   "cell_type": "code",
   "execution_count": 46,
   "metadata": {
    "ExecuteTime": {
     "end_time": "2020-02-24T09:22:59.743409Z",
     "start_time": "2020-02-24T09:22:59.712675Z"
    }
   },
   "outputs": [],
   "source": [
    "# removing extra spaces and lower casing \n",
    "#df['color'] = df['color'].astype(str)\n",
    "#df['color'] = df['color'].str.strip()\n",
    "df['color'] = df['color'].str.lower()"
   ]
  },
  {
   "cell_type": "code",
   "execution_count": 47,
   "metadata": {
    "ExecuteTime": {
     "end_time": "2020-02-24T09:23:00.843528Z",
     "start_time": "2020-02-24T09:23:00.296166Z"
    }
   },
   "outputs": [],
   "source": [
    "characters = ('=',',','�','_',\"'\", '-', '(', ')', '.', '\\\\', ',,', ',,,', '_/_', ' ', '  ', '//','&')\n",
    "\n",
    "edit_replace(characters, ',')"
   ]
  },
  {
   "cell_type": "code",
   "execution_count": 35,
   "metadata": {
    "ExecuteTime": {
     "end_time": "2020-02-24T09:18:26.088414Z",
     "start_time": "2020-02-24T09:18:26.085001Z"
    }
   },
   "outputs": [],
   "source": [
    "#df['color'] = remove_numpunc(df.color, pattern = '[^A-Za-z/]+')"
   ]
  },
  {
   "cell_type": "code",
   "execution_count": 50,
   "metadata": {
    "ExecuteTime": {
     "end_time": "2020-02-24T09:25:39.319566Z",
     "start_time": "2020-02-24T09:25:39.181753Z"
    }
   },
   "outputs": [
    {
     "data": {
      "text/plain": [
       "['blk/wht',\n",
       " 'gray',\n",
       " 'brindle/wht',\n",
       " 'blk/tan',\n",
       " 'brwn',\n",
       " 'tan/gray/wht',\n",
       " 'brwn/wht',\n",
       " 'blk/brwn',\n",
       " 'blk/tan',\n",
       " 'gray/tan/wht',\n",
       " 'nan',\n",
       " 'gry/wht',\n",
       " 'nan',\n",
       " 'nan',\n",
       " 'nan',\n",
       " 'nan',\n",
       " 'gry',\n",
       " 'blue/wht',\n",
       " 'nan',\n",
       " 'nan',\n",
       " 'blk',\n",
       " 'chocolate',\n",
       " 'blk',\n",
       " 'nan',\n",
       " 'nan',\n",
       " 'wht',\n",
       " 'blk',\n",
       " 'nan',\n",
       " 'nan',\n",
       " 'nan',\n",
       " 'nan',\n",
       " 'nan',\n",
       " 'nan',\n",
       " 'brwn/wht',\n",
       " 'nan',\n",
       " 'nan',\n",
       " 'gry/wht',\n",
       " 'wht/tan',\n",
       " 'nan',\n",
       " 'nan',\n",
       " 'blk/brwn',\n",
       " 'blk/gry',\n",
       " 'blk',\n",
       " 'nan',\n",
       " 'nan',\n",
       " 'tan/wht',\n",
       " 'nan',\n",
       " 'nan',\n",
       " 'nan',\n",
       " 'gray/blk',\n",
       " 'nan',\n",
       " 'nan',\n",
       " 'nan',\n",
       " 'nan',\n",
       " 'brwn/wht',\n",
       " 'nan',\n",
       " 'nan',\n",
       " 'nan',\n",
       " 'nan',\n",
       " 'brown',\n",
       " 'nan',\n",
       " 'nan',\n",
       " 'nan',\n",
       " 'nan',\n",
       " 'nan',\n",
       " 'nan',\n",
       " 'blk',\n",
       " 'nan',\n",
       " 'wht/gry',\n",
       " 'tabby',\n",
       " 'nan',\n",
       " 'nan',\n",
       " 'tan/wht',\n",
       " 'calico',\n",
       " 'nan',\n",
       " 'nan',\n",
       " 'nan',\n",
       " 'nan',\n",
       " 'nan',\n",
       " 'brindle/wht',\n",
       " 'nan',\n",
       " 'nan',\n",
       " 'brn',\n",
       " 'nan',\n",
       " 'wht',\n",
       " 'brindle/wht',\n",
       " 'nan',\n",
       " 'nan',\n",
       " 'nan',\n",
       " 'nan',\n",
       " 'nan',\n",
       " 'nan',\n",
       " 'nan',\n",
       " 'gry/wht',\n",
       " 'nan',\n",
       " 'gry/wht',\n",
       " 'nan',\n",
       " 'nan',\n",
       " 'nan',\n",
       " 'nan',\n",
       " 'blk/wht',\n",
       " 'brwn/wht',\n",
       " 'gray',\n",
       " 'wht/brwn',\n",
       " 'nan',\n",
       " 'nan',\n",
       " 'nan',\n",
       " 'nan',\n",
       " 'nan',\n",
       " 'nan',\n",
       " 'nan',\n",
       " 'nan',\n",
       " 'nan',\n",
       " 'nan',\n",
       " 'nan',\n",
       " 'nan',\n",
       " 'nan',\n",
       " 'nan',\n",
       " 'nan',\n",
       " 'nan',\n",
       " 'nan',\n",
       " 'nan',\n",
       " 'nan',\n",
       " 'nan',\n",
       " 'nan',\n",
       " 'nan',\n",
       " 'nan',\n",
       " 'nan',\n",
       " 'gray',\n",
       " 'brindle/wht',\n",
       " 'nan',\n",
       " 'nan',\n",
       " 'nan',\n",
       " 'gry',\n",
       " 'gray',\n",
       " 'tan/gray',\n",
       " 'nan',\n",
       " 'nan',\n",
       " 'nan',\n",
       " 'blk',\n",
       " 'nan',\n",
       " 'brindle',\n",
       " 'nan',\n",
       " 'nan',\n",
       " 'wht/yellow',\n",
       " 'nan',\n",
       " 'nan',\n",
       " 'nan',\n",
       " 'nan',\n",
       " 'nan',\n",
       " 'nan',\n",
       " 'nan',\n",
       " 'nan',\n",
       " 'nan',\n",
       " 'brwn/blk',\n",
       " 'blk',\n",
       " 'nan',\n",
       " 'brwn/wht',\n",
       " 'nan',\n",
       " 'nan',\n",
       " 'nan',\n",
       " 'nan',\n",
       " 'brown',\n",
       " 'nan',\n",
       " 'nan',\n",
       " 'blk/wht',\n",
       " 'nan',\n",
       " 'nan',\n",
       " 'nan',\n",
       " 'red',\n",
       " 'blk/tan',\n",
       " 'tan/wht',\n",
       " 'nan',\n",
       " 'nan',\n",
       " 'nan',\n",
       " 'nan',\n",
       " 'wht',\n",
       " 'nan',\n",
       " 'brown',\n",
       " 'blk/wht',\n",
       " 'nan',\n",
       " 'nan',\n",
       " 'nan',\n",
       " 'blk',\n",
       " 'nan',\n",
       " 'nan',\n",
       " 'tan/orange',\n",
       " 'nan',\n",
       " 'gray',\n",
       " 'nan',\n",
       " 'nan',\n",
       " 'nan',\n",
       " 'tan/wht',\n",
       " 'brwn',\n",
       " 'nan',\n",
       " 'nan',\n",
       " 'wht',\n",
       " 'blue/wht',\n",
       " 'nan',\n",
       " 'nan',\n",
       " 'wht/tan',\n",
       " 'gray',\n",
       " 'nan',\n",
       " 'nan',\n",
       " 'blk/brown',\n",
       " 'nan',\n",
       " 'blue/wht',\n",
       " 'blk/wht',\n",
       " 'blk/brwn',\n",
       " 'blk/wht',\n",
       " 'nan',\n",
       " 'nan',\n",
       " 'blk/tan',\n",
       " 'nan',\n",
       " 'wht',\n",
       " 'nan',\n",
       " 'gray',\n",
       " 'brwn',\n",
       " 'nan',\n",
       " 'nan',\n",
       " 'brwn/blk',\n",
       " 'brwn',\n",
       " 'nan',\n",
       " 'nan',\n",
       " 'nan',\n",
       " 'gray',\n",
       " 'blk/brwn',\n",
       " 'nan',\n",
       " 'nan',\n",
       " 'gray',\n",
       " 'nan',\n",
       " 'gray/blk',\n",
       " 'nan',\n",
       " 'gray',\n",
       " 'gray',\n",
       " 'brwn/blk',\n",
       " 'tan',\n",
       " 'nan',\n",
       " 'gray',\n",
       " 'nan',\n",
       " 'nan',\n",
       " 'nan',\n",
       " 'tan',\n",
       " 'nan',\n",
       " 'blk/tan',\n",
       " 'nan',\n",
       " 'nan',\n",
       " 'nan',\n",
       " 'nan',\n",
       " 'nan',\n",
       " 'nan',\n",
       " 'nan',\n",
       " 'nan',\n",
       " 'nan',\n",
       " 'nan',\n",
       " 'nan',\n",
       " 'nan',\n",
       " 'nan',\n",
       " 'nan',\n",
       " 'nan',\n",
       " 'black/white',\n",
       " 'nan',\n",
       " 'nan',\n",
       " 'nan',\n",
       " 'nan',\n",
       " 'nan',\n",
       " 'nan',\n",
       " 'nan',\n",
       " 'nan',\n",
       " 'nan',\n",
       " 'nan',\n",
       " 'nan',\n",
       " 'nan',\n",
       " 'nan',\n",
       " 'nan',\n",
       " 'nan',\n",
       " 'nan',\n",
       " 'nan',\n",
       " 'nan',\n",
       " 'nan',\n",
       " 'nan',\n",
       " 'nan',\n",
       " 'nan',\n",
       " 'nan',\n",
       " 'nan',\n",
       " 'nan',\n",
       " 'nan',\n",
       " 'nan',\n",
       " 'nan',\n",
       " 'nan',\n",
       " 'nan',\n",
       " 'nan',\n",
       " 'nan',\n",
       " 'nan',\n",
       " 'nan',\n",
       " 'nan',\n",
       " 'nan',\n",
       " 'nan',\n",
       " 'nan',\n",
       " 'nan',\n",
       " 'nan',\n",
       " 'nan',\n",
       " 'nan',\n",
       " 'nan',\n",
       " 'nan',\n",
       " 'nan',\n",
       " 'nan',\n",
       " 'nan',\n",
       " 'nan',\n",
       " 'nan',\n",
       " 'nan',\n",
       " 'nan',\n",
       " 'nan',\n",
       " 'nan',\n",
       " 'nan',\n",
       " 'nan',\n",
       " 'nan',\n",
       " 'nan',\n",
       " 'nan',\n",
       " 'nan',\n",
       " 'nan',\n",
       " 'blk/wht',\n",
       " 'nan',\n",
       " 'nan',\n",
       " 'nan',\n",
       " 'nan',\n",
       " 'nan',\n",
       " 'nan',\n",
       " 'nan',\n",
       " 'nan',\n",
       " 'nan',\n",
       " 'tan/wht',\n",
       " 'nan',\n",
       " 'nan',\n",
       " 'nan',\n",
       " 'nan',\n",
       " 'nan',\n",
       " 'nan',\n",
       " 'nan',\n",
       " 'nan',\n",
       " 'nan',\n",
       " 'nan',\n",
       " 'nan',\n",
       " 'nan',\n",
       " 'tan',\n",
       " 'tan/wht',\n",
       " 'nan',\n",
       " 'blk/tan',\n",
       " 'nan',\n",
       " 'blk/wht',\n",
       " 'nan',\n",
       " 'blk/gray/wht',\n",
       " 'brwn/wht',\n",
       " 'nan',\n",
       " 'brn/gray',\n",
       " 'nan',\n",
       " 'nan',\n",
       " 'nan',\n",
       " 'nan',\n",
       " 'gold',\n",
       " 'nan',\n",
       " 'tan/wht',\n",
       " 'blk/wht',\n",
       " 'blk/wht',\n",
       " 'nan',\n",
       " 'nan',\n",
       " 'nan',\n",
       " 'brindle/wht',\n",
       " 'blk/tan',\n",
       " 'blk/tan/gry',\n",
       " 'nan',\n",
       " 'tan/gray',\n",
       " 'nan',\n",
       " 'blk/wht',\n",
       " 'nan',\n",
       " 'gray/wht',\n",
       " 'gray',\n",
       " 'nan',\n",
       " 'nan',\n",
       " 'gray/blk',\n",
       " 'nan',\n",
       " 'blk/wht',\n",
       " 'blk',\n",
       " 'blk',\n",
       " 'nan',\n",
       " 'nan',\n",
       " 'nan',\n",
       " 'nan',\n",
       " 'nan',\n",
       " 'blk',\n",
       " 'tan/blk',\n",
       " 'org/wht',\n",
       " 'nan',\n",
       " 'brwn/blk',\n",
       " 'blk/wht/chest',\n",
       " 'nan',\n",
       " 'nan',\n",
       " 'brwn',\n",
       " 'nan',\n",
       " 'brwn',\n",
       " 'nan',\n",
       " 'gray',\n",
       " 'nan',\n",
       " 'nan',\n",
       " 'nan',\n",
       " 'tan',\n",
       " 'brn',\n",
       " 'tan',\n",
       " 'blk/tan',\n",
       " 'tan/gry',\n",
       " 'blk/eht',\n",
       " 'tan/wht',\n",
       " 'blk/tan',\n",
       " 'nan',\n",
       " 'gry/wht',\n",
       " 'nan',\n",
       " 'gray',\n",
       " 'nan',\n",
       " 'blk/tan/or',\n",
       " 'nan',\n",
       " 'blk/wht',\n",
       " 'nan',\n",
       " 'tan/blk',\n",
       " 'nan',\n",
       " 'nan',\n",
       " 'orange/wht',\n",
       " 'nan',\n",
       " 'blk',\n",
       " 'black/tan',\n",
       " 'wht/brindle',\n",
       " 'nan',\n",
       " 'nan',\n",
       " 'tiger/strip/tan/wht',\n",
       " 'blk',\n",
       " 'nan',\n",
       " 'nan',\n",
       " 'nan',\n",
       " 'brwn/blk/wht',\n",
       " 'tan/wht',\n",
       " 'nan',\n",
       " 'blk/wht',\n",
       " 'nan',\n",
       " 'nan',\n",
       " 'brn/wht',\n",
       " 'wht/brwn/patch/by/the/eye',\n",
       " 'nan',\n",
       " 'gray',\n",
       " 'blkwht',\n",
       " 'blk/wht',\n",
       " 'nan',\n",
       " 'wht/blk',\n",
       " 'blk/brn',\n",
       " 'blue/wht',\n",
       " 'gray/wht',\n",
       " 'nan',\n",
       " 'brindle/wht',\n",
       " 'gray',\n",
       " 'brwn',\n",
       " 'nan',\n",
       " 'fawn/wht',\n",
       " 'nan',\n",
       " 'nan',\n",
       " 'brwn/tan',\n",
       " 'wht',\n",
       " 'gray/tabby',\n",
       " 'nan',\n",
       " 'nan',\n",
       " 'gry',\n",
       " 'brwn',\n",
       " 'nan',\n",
       " 'nan',\n",
       " 'nan',\n",
       " 'nan',\n",
       " 'nan',\n",
       " 'nan',\n",
       " 'nan',\n",
       " 'nan',\n",
       " 'nan',\n",
       " 'nan',\n",
       " 'nan',\n",
       " 'nan',\n",
       " 'nan',\n",
       " 'nan',\n",
       " 'nan',\n",
       " 'nan',\n",
       " 'nan',\n",
       " 'nan',\n",
       " 'nan',\n",
       " 'nan',\n",
       " 'nan',\n",
       " 'nan',\n",
       " 'nan',\n",
       " 'nan',\n",
       " 'nan',\n",
       " 'nan',\n",
       " 'nan',\n",
       " 'nan',\n",
       " 'nan',\n",
       " 'nan',\n",
       " 'nan',\n",
       " 'nan',\n",
       " 'nan',\n",
       " 'wht/tan',\n",
       " 'gray',\n",
       " 'gray',\n",
       " 'blk/brwn',\n",
       " 'nan',\n",
       " 'brwn',\n",
       " 'blk/brwn',\n",
       " 'nan',\n",
       " 'nan',\n",
       " 'nan',\n",
       " 'nan',\n",
       " 'nan',\n",
       " 'dark/brwn',\n",
       " 'nan',\n",
       " 'wht',\n",
       " 'brindle',\n",
       " 'nan',\n",
       " 'nan',\n",
       " 'blk/wht',\n",
       " 'tan/blk',\n",
       " 'blk',\n",
       " 'nan',\n",
       " 'nan',\n",
       " 'nan',\n",
       " 'nan',\n",
       " 'nan',\n",
       " 'nan',\n",
       " 'blk/gray/tabby',\n",
       " 'nan',\n",
       " 'nan',\n",
       " 'nan',\n",
       " 'nan',\n",
       " 'nan',\n",
       " 'blk',\n",
       " 'blk',\n",
       " 'gray',\n",
       " 'nan',\n",
       " 'nan',\n",
       " 'nan',\n",
       " 'brwn/wht',\n",
       " 'blk/wht',\n",
       " 'nan',\n",
       " 'nan',\n",
       " 'brwn/wht/blk',\n",
       " 'gray/blk/wht',\n",
       " 'wht',\n",
       " 'tan/wht',\n",
       " 'nan',\n",
       " 'nan',\n",
       " 'nan',\n",
       " 'nan',\n",
       " 'nan',\n",
       " 'blk',\n",
       " 'nan',\n",
       " 'nan',\n",
       " 'nan',\n",
       " 'org',\n",
       " 'nan',\n",
       " 'nan',\n",
       " 'blk/wht/brwn',\n",
       " 'nan',\n",
       " 'nan',\n",
       " 'nan',\n",
       " 'nan',\n",
       " 'nan',\n",
       " 'nan',\n",
       " 'nan',\n",
       " 'nan',\n",
       " 'nan',\n",
       " 'nan',\n",
       " 'brn/wht',\n",
       " 'nan',\n",
       " 'nan',\n",
       " 'nan',\n",
       " 'nan',\n",
       " 'blk/wht',\n",
       " 'orange/wht',\n",
       " 'nan',\n",
       " 'nan',\n",
       " 'blk/gry',\n",
       " 'blk/wht',\n",
       " 'nan',\n",
       " 'nan',\n",
       " 'nan',\n",
       " 'nan',\n",
       " 'nan',\n",
       " 'nan',\n",
       " 'nan',\n",
       " 'nan',\n",
       " 'nan',\n",
       " 'nan',\n",
       " 'blk',\n",
       " 'nan',\n",
       " 'nan',\n",
       " 'nan',\n",
       " 'nan',\n",
       " 'nan',\n",
       " 'nan',\n",
       " 'nan',\n",
       " 'nan',\n",
       " 'nan',\n",
       " 'nan',\n",
       " 'nan',\n",
       " 'nan',\n",
       " 'nan',\n",
       " 'nan',\n",
       " 'tan/blk',\n",
       " 'nan',\n",
       " 'yellow',\n",
       " 'nan',\n",
       " 'nan',\n",
       " 'nan',\n",
       " 'gry',\n",
       " 'nan',\n",
       " 'nan',\n",
       " 'gry/blk',\n",
       " 'nan',\n",
       " 'blk/wht',\n",
       " 'nan',\n",
       " 'nan',\n",
       " 'nan',\n",
       " 'nan',\n",
       " 'nan',\n",
       " 'blk',\n",
       " 'nan',\n",
       " 'nan',\n",
       " 'nan',\n",
       " 'blk/wht',\n",
       " 'nan',\n",
       " 'nan',\n",
       " 'gry',\n",
       " 'green',\n",
       " 'wht',\n",
       " 'tan/blk',\n",
       " 'gry/blk',\n",
       " 'blk',\n",
       " 'nan',\n",
       " 'nan',\n",
       " 'nan',\n",
       " 'nan',\n",
       " 'blk',\n",
       " 'nan',\n",
       " 'nan',\n",
       " 'nan',\n",
       " 'nan',\n",
       " 'nan',\n",
       " 'nan',\n",
       " 'nan',\n",
       " 'blk',\n",
       " 'tan/wht',\n",
       " 'nan',\n",
       " 'nan',\n",
       " 'nan',\n",
       " 'nan',\n",
       " 'nan',\n",
       " 'nan',\n",
       " 'nan',\n",
       " 'org',\n",
       " 'nan',\n",
       " 'br/wht',\n",
       " 'nan',\n",
       " 'nan',\n",
       " 'nan',\n",
       " 'nan',\n",
       " 'nan',\n",
       " 'nan',\n",
       " 'nan',\n",
       " 'nan',\n",
       " 'nan',\n",
       " 'nan',\n",
       " 'nan',\n",
       " 'nan',\n",
       " 'nan',\n",
       " 'nan',\n",
       " 'tan/blk',\n",
       " 'nan',\n",
       " 'gry/wht',\n",
       " 'blk/wht',\n",
       " 'nan',\n",
       " 'nan',\n",
       " 'blk',\n",
       " 'nan',\n",
       " 'nan',\n",
       " 'brn/blk',\n",
       " 'blk/wht',\n",
       " 'gry/blk/wht',\n",
       " 'blk',\n",
       " 'blk',\n",
       " 'nan',\n",
       " 'nan',\n",
       " 'nan',\n",
       " 'nan',\n",
       " 'grey/blue',\n",
       " 'blk/wht',\n",
       " 'tan',\n",
       " 'tan/brn',\n",
       " 'nan',\n",
       " 'nan',\n",
       " 'blk/wht',\n",
       " 'nan',\n",
       " 'nan',\n",
       " 'blk',\n",
       " 'brn',\n",
       " 'nan',\n",
       " 'wht/tan',\n",
       " 'nan',\n",
       " 'nan',\n",
       " 'blk/wht',\n",
       " 'nan',\n",
       " 'red',\n",
       " 'nan',\n",
       " 'tan/wht',\n",
       " 'nan',\n",
       " 'nan',\n",
       " 'nan',\n",
       " 'nan',\n",
       " 'nan',\n",
       " 'nan',\n",
       " 'nan',\n",
       " 'nan',\n",
       " 'nan',\n",
       " 'tan/wht',\n",
       " 'nan',\n",
       " 'nan',\n",
       " 'blk/tan',\n",
       " 'nan',\n",
       " 'wht/gry',\n",
       " 'gry',\n",
       " 'nan',\n",
       " 'nan',\n",
       " 'nan',\n",
       " 'nan',\n",
       " 'nan',\n",
       " 'nan',\n",
       " 'nan',\n",
       " 'gry/wht',\n",
       " 'nan',\n",
       " 'nan',\n",
       " 'nan',\n",
       " 'blk/wht',\n",
       " 'blk',\n",
       " 'nan',\n",
       " 'blk/wht',\n",
       " 'nan',\n",
       " 'red/brwn',\n",
       " 'wht/blk',\n",
       " 'blue/wht',\n",
       " 'nan',\n",
       " 'tan/blk/wht',\n",
       " 'gry/wht',\n",
       " 'nan',\n",
       " 'gry',\n",
       " 'nan',\n",
       " 'blk/wht',\n",
       " 'nan',\n",
       " 'nan',\n",
       " 'nan',\n",
       " 'nan',\n",
       " 'nan',\n",
       " 'gry/tan',\n",
       " 'nan',\n",
       " 'gyr',\n",
       " 'nan',\n",
       " 'nan',\n",
       " 'nan',\n",
       " 'nan',\n",
       " 'blk',\n",
       " 'brwn/wht',\n",
       " 'nan',\n",
       " 'brwn',\n",
       " 'nan',\n",
       " 'nan',\n",
       " 'nan',\n",
       " 'blk',\n",
       " 'blk',\n",
       " 'wht/brwn',\n",
       " 'nan',\n",
       " 'gry',\n",
       " 'nan',\n",
       " 'tan/wht',\n",
       " 'blk/wht',\n",
       " 'wht/brn/blk',\n",
       " 'nan',\n",
       " 'nan',\n",
       " 'nan',\n",
       " 'nan',\n",
       " 'nan',\n",
       " 'brwn',\n",
       " 'buff',\n",
       " 'gry/tabby',\n",
       " 'nan',\n",
       " 'nan',\n",
       " 'nan',\n",
       " 'nan',\n",
       " 'blk/wht',\n",
       " 'nan',\n",
       " 'nan',\n",
       " 'blk/brn',\n",
       " 'nan',\n",
       " 'brwn',\n",
       " 'nan',\n",
       " 'nan',\n",
       " 'nan',\n",
       " 'brown',\n",
       " 'brwn/wht',\n",
       " 'nan',\n",
       " 'nan',\n",
       " 'gry',\n",
       " 'nan',\n",
       " 'green',\n",
       " 'brn',\n",
       " 'nan',\n",
       " 'gry',\n",
       " 'nan',\n",
       " 'blk/yellow',\n",
       " 'gry/blk',\n",
       " 'nan',\n",
       " 'nan',\n",
       " 'gry',\n",
       " 'nan',\n",
       " 'nan',\n",
       " 'nan',\n",
       " 'nan',\n",
       " 'gry/wht',\n",
       " 'nan',\n",
       " 'tri',\n",
       " 'nan',\n",
       " 'nan',\n",
       " 'nan',\n",
       " 'nan',\n",
       " 'nan',\n",
       " 'brwn/blk',\n",
       " 'tan',\n",
       " 'tan/blk/wht',\n",
       " 'nan',\n",
       " 'nan',\n",
       " 'blk',\n",
       " 'brn',\n",
       " 'brwn/blk',\n",
       " 'gry',\n",
       " 'blk/tan/wht',\n",
       " 'nan',\n",
       " 'nan',\n",
       " 'nan',\n",
       " 'nan',\n",
       " 'nan',\n",
       " 'nan',\n",
       " 'nan',\n",
       " 'nan',\n",
       " 'gry',\n",
       " 'nan',\n",
       " 'nan',\n",
       " 'nan',\n",
       " 'gry',\n",
       " 'brwn/blk/wht',\n",
       " 'nan',\n",
       " 'nan',\n",
       " 'nan',\n",
       " 'nan',\n",
       " 'nan',\n",
       " 'nan',\n",
       " 'nan',\n",
       " 'nan',\n",
       " 'nan',\n",
       " 'nan',\n",
       " 'nan',\n",
       " 'nan',\n",
       " 'org',\n",
       " 'nan',\n",
       " 'nan',\n",
       " 'gry/tan',\n",
       " 'tan/blk',\n",
       " 'nan',\n",
       " 'nan',\n",
       " 'blk/wht',\n",
       " 'nan',\n",
       " 'nan',\n",
       " 'gry',\n",
       " 'tan/brwn',\n",
       " 'blk/gray',\n",
       " 'nan',\n",
       " 'nan',\n",
       " 'nan',\n",
       " 'nan',\n",
       " 'nan',\n",
       " 'nan',\n",
       " 'gry/wht',\n",
       " 'tan/blk',\n",
       " 'nan',\n",
       " 'nan',\n",
       " 'nan',\n",
       " 'blk',\n",
       " 'nan',\n",
       " 'tan/wht',\n",
       " 'nan',\n",
       " 'nan',\n",
       " 'nan',\n",
       " 'nan',\n",
       " 'nan',\n",
       " 'tan/wht',\n",
       " 'nan',\n",
       " 'blk/wht/tan',\n",
       " 'gray/wht',\n",
       " 'blk/wht',\n",
       " 'nan',\n",
       " 'brindle/wht',\n",
       " 'nan',\n",
       " 'nan',\n",
       " 'nan',\n",
       " 'blk/gray',\n",
       " 'nan',\n",
       " 'nan',\n",
       " 'nan',\n",
       " 'brwn',\n",
       " 'nan',\n",
       " 'tan/wht',\n",
       " 'nan',\n",
       " 'nan',\n",
       " 'gray/dark/gray',\n",
       " 'nan',\n",
       " 'blk/gry',\n",
       " 'gry/tan',\n",
       " 'tan',\n",
       " 'blk/gray',\n",
       " 'nan',\n",
       " 'nan',\n",
       " 'nan',\n",
       " 'tan/wht',\n",
       " 'nan',\n",
       " 'nan',\n",
       " 'nan',\n",
       " 'org',\n",
       " 'blk/gray',\n",
       " 'nan',\n",
       " 'nan',\n",
       " 'nan',\n",
       " 'nan',\n",
       " 'blk/tan/wht',\n",
       " 'brwn',\n",
       " 'blk/gray',\n",
       " 'nan',\n",
       " 'blk/tan/gry',\n",
       " 'nan',\n",
       " 'nan',\n",
       " 'nan',\n",
       " 'nan',\n",
       " 'nan',\n",
       " 'blk',\n",
       " 'blk/wht',\n",
       " 'nan',\n",
       " 'nan',\n",
       " 'nan',\n",
       " 'nan',\n",
       " 'nan',\n",
       " 'blk/gray',\n",
       " 'nan',\n",
       " 'nan',\n",
       " 'gray/blk',\n",
       " 'nan',\n",
       " 'brwn/wht',\n",
       " 'org',\n",
       " 'gry/tan',\n",
       " 'nan',\n",
       " 'nan',\n",
       " 'nan',\n",
       " 'brindle/wht',\n",
       " 'nan',\n",
       " 'nan',\n",
       " 'nan',\n",
       " 'nan',\n",
       " 'blk/tan',\n",
       " 'brwn',\n",
       " 'nan',\n",
       " 'black',\n",
       " 'nan',\n",
       " 'nan',\n",
       " 'nan',\n",
       " 'nan',\n",
       " 'nan',\n",
       " 'nan',\n",
       " 'nan',\n",
       " 'blk/wht',\n",
       " 'blk/wht',\n",
       " 'gry',\n",
       " 'nan',\n",
       " 'gry/wht',\n",
       " 'nan',\n",
       " 'nan',\n",
       " 'tan/bk',\n",
       " 'nan',\n",
       " 'brn',\n",
       " 'nan',\n",
       " 'cream',\n",
       " 'nan',\n",
       " 'nan',\n",
       " 'nan',\n",
       " 'gry',\n",
       " 'nan',\n",
       " ...]"
      ]
     },
     "execution_count": 50,
     "metadata": {},
     "output_type": "execute_result"
    }
   ],
   "source": [
    "\n",
    "pattern = '[^A-Za-z^/]+'\n",
    "list = [re.sub(pattern, '', i) for i in df.color] \n",
    "list"
   ]
  },
  {
   "cell_type": "markdown",
   "metadata": {
    "ExecuteTime": {
     "end_time": "2020-02-24T05:19:04.709659Z",
     "start_time": "2020-02-24T05:19:04.417366Z"
    }
   },
   "source": [
    "By looking at value counts of strings, I can decide which ones need uniform spelling. The ones with higher counts will be prioritized, and some may slip through the cracks, as it is a tedious task. Colors with strong similarity will be placed into major color categories as well, at my discretion.(ie. tan, sandy, and blonde all identified as 'tan') "
   ]
  },
  {
   "cell_type": "markdown",
   "metadata": {},
   "source": [
    "##### editting color names\n",
    "-takes a long time to run (maybe need to revise code for better performance"
   ]
  },
  {
   "cell_type": "code",
   "execution_count": 52,
   "metadata": {
    "ExecuteTime": {
     "end_time": "2020-02-24T09:26:13.925952Z",
     "start_time": "2020-02-24T09:26:13.380111Z"
    },
    "scrolled": true
   },
   "outputs": [
    {
     "data": {
      "text/plain": [
       "0        None\n",
       "1        None\n",
       "2        None\n",
       "3        None\n",
       "4        None\n",
       "5        None\n",
       "6        None\n",
       "7        None\n",
       "8        None\n",
       "9        None\n",
       "10       None\n",
       "11       None\n",
       "12       None\n",
       "13       None\n",
       "14       None\n",
       "15       None\n",
       "16       None\n",
       "17       None\n",
       "18       None\n",
       "19       None\n",
       "20       None\n",
       "21       None\n",
       "22       None\n",
       "23       None\n",
       "24       None\n",
       "25       None\n",
       "26       None\n",
       "27       None\n",
       "28       None\n",
       "29       None\n",
       "         ... \n",
       "73273    None\n",
       "73274    None\n",
       "73275    None\n",
       "73276    None\n",
       "73277    None\n",
       "73278    None\n",
       "73279    None\n",
       "73280    None\n",
       "73281    None\n",
       "73282    None\n",
       "73283    None\n",
       "73284    None\n",
       "73285    None\n",
       "73286    None\n",
       "73287    None\n",
       "73288    None\n",
       "73289    None\n",
       "73290    None\n",
       "73291    None\n",
       "73292    None\n",
       "73293    None\n",
       "73294    None\n",
       "73295    None\n",
       "73296    None\n",
       "73297    None\n",
       "73298    None\n",
       "73299    None\n",
       "73300    None\n",
       "73301    None\n",
       "73302    None\n",
       "Name: color, Length: 72450, dtype: object"
      ]
     },
     "execution_count": 52,
     "metadata": {},
     "output_type": "execute_result"
    },
    {
     "name": "stdout",
     "output_type": "stream",
     "text": [
      "Counter({   'nan': 21526,\n",
      "            'BLK': 18363,\n",
      "            'WHT': 16683,\n",
      "            'GRY': 8355,\n",
      "            'TAN': 7733,\n",
      "            'BRWN': 6900,\n",
      "            'GRAY': 2265,\n",
      "            'WHITE': 2182,\n",
      "            'BRN': 2092,\n",
      "            'GREY': 1910,\n",
      "            'BROWN': 1870,\n",
      "            'BLACK': 1800,\n",
      "            'ORG': 1476,\n",
      "            'BRINDLE': 1249,\n",
      "            'RED': 737,\n",
      "            'YELLOW': 581,\n",
      "            'BLUE': 545,\n",
      "            'GOLD': 421,\n",
      "            'NORMAL': 379,\n",
      "            'BLK WHT': 351,\n",
      "            'CALICO': 245,\n",
      "            'ORANGE': 220,\n",
      "            'TORTI': 217,\n",
      "            'BRN BLK': 208,\n",
      "            'GRY BLK': 193,\n",
      "            'GRY WHT': 187,\n",
      "            'CREAM': 166,\n",
      "            'BRN WHT': 155,\n",
      "            'TAN WHT': 154,\n",
      "            'BLK TAN': 152,\n",
      "            'BLK GRY': 140,\n",
      "            'BLK BRN': 119,\n",
      "            'TRI': 114,\n",
      "            'BEIGE': 113,\n",
      "            'CHOC': 107,\n",
      "            'TABBY': 105,\n",
      "            'CHOCOLATE': 99,\n",
      "            'MULTI': 88,\n",
      "            'BLONDE': 84,\n",
      "            'GREEN': 81,\n",
      "            'WHT BLK': 74,\n",
      "            'GRAY TABBY': 73,\n",
      "            'WHT BRN': 69,\n",
      "            'WHT GRY': 68,\n",
      "            ' BLK': 66,\n",
      "            'WHT TAN': 65,\n",
      "            'GRY TAN': 64,\n",
      "            'FAWN': 63,\n",
      "            'GOLDEN': 61,\n",
      "            'BRN ': 54,\n",
      "            'GRY BRN': 53,\n",
      "            'TAN BLK': 51,\n",
      "            'WH': 47,\n",
      "            'PINK': 44,\n",
      "            'UNKNOWN': 42,\n",
      "            'YELL': 39,\n",
      "            'BRINDLE WHT': 35,\n",
      "            'GREY ': 35,\n",
      "            'GRN': 33,\n",
      "            'ORANGE TABBY': 31,\n",
      "            ' TAN': 28,\n",
      "            ' WHITE': 28,\n",
      "            'GRY TABBY': 27,\n",
      "            'BLK ': 27,\n",
      "            'BRN GRY': 27,\n",
      "            ' WHT': 25,\n",
      "            'TAB': 22,\n",
      "            'BRN TABBY': 21,\n",
      "            'GR': 21,\n",
      "            'BRN TAN': 20,\n",
      "            'BLK TAN WHT': 19,\n",
      "            'SILVER': 19,\n",
      "            'W': 19,\n",
      "            'BROWN ': 18,\n",
      "            'BLK SPOTS': 17,\n",
      "            'TAN ': 16,\n",
      "            'BLUE WHT': 15,\n",
      "            'BLK BRN WHT': 15,\n",
      "            ' GREY': 15,\n",
      "            'BLU': 14,\n",
      "            '': 14,\n",
      "            'BL': 14,\n",
      "            'WHT CHEST': 13,\n",
      "            'WHITE BRINDLE': 13,\n",
      "            'BROWN TABBY': 13,\n",
      "            'B': 13,\n",
      "            ' BRN': 13,\n",
      "            'MERLE': 12,\n",
      "            'gry': 12,\n",
      "            ' BLACK': 12,\n",
      "            'TAN WHT BLK': 12,\n",
      "            'BLK WHT CHEST': 11,\n",
      "            'GOLD TABBY': 11,\n",
      "            'GREY TABBY': 11,\n",
      "            'GRAY ': 11,\n",
      "            'BLACK TABBY': 11,\n",
      "            'GRY ': 11,\n",
      "            'WHITE ': 11,\n",
      "            'WHT BRINDLE': 10,\n",
      "            'TRI COLOR': 10,\n",
      "            'BROWN BRINDLE': 10,\n",
      "            'TAN BLK WHT': 10,\n",
      "            'YEL': 10,\n",
      "            'BLLK': 9,\n",
      "            ' GRY': 9,\n",
      "            'MARBLE': 9,\n",
      "            'BR': 9,\n",
      "            'DARK BROWN': 9,\n",
      "            'WHT BLK BRN': 9,\n",
      "            'TAN BRN': 8,\n",
      "            'BUFF': 8,\n",
      "            'BRN WHT BLK': 8,\n",
      "            'BRN BLK WHT': 8,\n",
      "            'BLU WHT': 8,\n",
      "            'WHT TABBY': 8,\n",
      "            'WHITE TABBY': 8,\n",
      "            'BK WHT': 8,\n",
      "            'WHT ': 8,\n",
      "            'DK BRN': 8,\n",
      "            ' GRAY': 8,\n",
      "            'DARK BRWN': 7,\n",
      "            'WHT W': 7,\n",
      "            'CAL': 7,\n",
      "            'RED BLK': 7,\n",
      "            'BLK W': 7,\n",
      "            'RUST': 7,\n",
      "            'GRY BLK TAN': 7,\n",
      "            'OR': 7,\n",
      "            'BLACK ': 7,\n",
      "            ' BROWN': 7,\n",
      "            'SIAMESE': 7,\n",
      "            'WHT BRN BLK': 6,\n",
      "            'BWN': 6,\n",
      "            'BLK YELLOW': 6,\n",
      "            'APRICOT': 6,\n",
      "            'STANDARD': 6,\n",
      "            'LIGHT BROWN': 6,\n",
      "            'GRYWHT': 6,\n",
      "            'ORNAGE': 6,\n",
      "            'SORREL': 6,\n",
      "            'BLK WHT BRN': 6,\n",
      "            'DRK GRY': 6,\n",
      "            'LIGHT BRN': 6,\n",
      "            'GRY BLK WHT': 5,\n",
      "            'WT': 5,\n",
      "            'CHO': 5,\n",
      "            'TANWHT': 5,\n",
      "            'BRWN SPOTS': 5,\n",
      "            'LIVER': 5,\n",
      "            'REDDISH BROWN': 5,\n",
      "            'BK': 5,\n",
      "            'BRINDLE WHITE': 5,\n",
      "            'BLACK SPOT': 5,\n",
      "            'ORN WHT': 5,\n",
      "            'WHT TAN BLK': 5,\n",
      "            'WHIT': 5,\n",
      "            'TAN SPOTS': 5,\n",
      "            'TRICOLOR': 5,\n",
      "            ' WHT CHEST': 5,\n",
      "            'GRY TAN WHT': 5,\n",
      "            '2 BLK': 5,\n",
      "            'YELLOW TABBY': 5,\n",
      "            'BK BRN': 5,\n",
      "            'BRN TAB': 5,\n",
      "            'WHT BLK TAN': 5,\n",
      "            'GY BLK': 5,\n",
      "            'BRN SPOTS': 5,\n",
      "            'GRAY.WHITE': 5,\n",
      "            'BLKWHT': 4,\n",
      "            'BLKL': 4,\n",
      "            'RED MERLE': 4,\n",
      "            'BL GRY': 4,\n",
      "            'CHESTNUT': 4,\n",
      "            'BALCK': 4,\n",
      "            'WHTIE': 4,\n",
      "            'GRAY BRINDLE': 4,\n",
      "            'GRY ORANGE': 4,\n",
      "            'WHT GRY BLK': 4,\n",
      "            'BLK TABBY': 4,\n",
      "            'BRN BRINDLE': 4,\n",
      "            'BRN TAN WHT': 4,\n",
      "            'WTH': 4,\n",
      "            'wht': 4,\n",
      "            'GY': 4,\n",
      "            'blk': 4,\n",
      "            'org': 4,\n",
      "            'GRY BK': 4,\n",
      "            'GRY BLK TABBY': 4,\n",
      "            'REDDISH': 4,\n",
      "            'RED WHT': 4,\n",
      "            'TAN GRY': 3,\n",
      "            'BR WHT': 3,\n",
      "            'DARK GRAY': 3,\n",
      "            'RED BLK WHT': 3,\n",
      "            'DSH': 3,\n",
      "            'BLK GRY WHT': 3,\n",
      "            'BKL': 3,\n",
      "            'CHO WHT': 3,\n",
      "            'BLK BRINDLE': 3,\n",
      "            'EHT': 3,\n",
      "            'TORTIE': 3,\n",
      "            'B LK': 3,\n",
      "            'BLUE MERLE': 3,\n",
      "            'BLK WHT TAN': 3,\n",
      "            'LEOPARD': 3,\n",
      "            'ORANGE STRIPE': 3,\n",
      "            'TN': 3,\n",
      "            'TABBIE': 3,\n",
      "            'BLK SPOT': 3,\n",
      "            'BRWON': 3,\n",
      "            'DARK GREY': 3,\n",
      "            'TAM': 3,\n",
      "            'BLACK STRIPE': 3,\n",
      "            'YELLOW SPOTS': 3,\n",
      "            'BROWN SPOTS': 3,\n",
      "            'L BROWN W': 3,\n",
      "            'LIGHT TAN': 3,\n",
      "            'BROWN SPOT': 3,\n",
      "            'FAWN WHT': 3,\n",
      "            'TIGER STRIPE': 3,\n",
      "            'BRWM': 3,\n",
      "            'BRWN WHT': 3,\n",
      "            'GRY WH': 3,\n",
      "            'WHT ON CHEST': 3,\n",
      "            'BRIN WHT': 3,\n",
      "            'BLK GOLD': 3,\n",
      "            'BRINDLE ': 3,\n",
      "            'RED NOSE': 3,\n",
      "            ' PINK': 3,\n",
      "            'BKL TAN': 3,\n",
      "            'BLUE ': 3,\n",
      "            'GY WHT': 3,\n",
      "            'GRY WHT TABBY': 3,\n",
      "            'TORT': 3,\n",
      "            'TAN BLK MOUTH': 3,\n",
      "            'TORTISHELL': 3,\n",
      "            'WHT FEET': 3,\n",
      "            'BRNBLK': 3,\n",
      "            ' 1 BLK': 3,\n",
      "            'BRNWHT': 3,\n",
      "            'TRI-COLOR': 3,\n",
      "            'ORANGE WHT': 2,\n",
      "            'TAN BK': 2,\n",
      "            'LIGHT BRWN': 2,\n",
      "            ' BLK SPOTS': 2,\n",
      "            'TAN BRINDLE': 2,\n",
      "            'RY': 2,\n",
      "            'BRN TAN BLK': 2,\n",
      "            'COPPER': 2,\n",
      "            'LIGHT GREY': 2,\n",
      "            'PEACH': 2,\n",
      "            'TAN- WHT CHEST': 2,\n",
      "            'FEET': 2,\n",
      "            'WHT PAWS': 2,\n",
      "            'TAN BLK GRY': 2,\n",
      "            'BRINDLDE': 2,\n",
      "            'GOLDEN RED': 2,\n",
      "            'DK BRINDLE': 2,\n",
      "            'DARK GRY': 2,\n",
      "            'SABLE': 2,\n",
      "            'RUSSIAN BLUE': 2,\n",
      "            'DARK BROWN BRINDLE': 2,\n",
      "            'BLACK SPOTS': 2,\n",
      "            'BROWN WHITE': 2,\n",
      "            ' BRWN': 2,\n",
      "            'CHARCOAL': 2,\n",
      "            'LT BROWN': 2,\n",
      "            'MIXED': 2,\n",
      "            'T': 2,\n",
      "            'L BROWN': 2,\n",
      "            'WHITE CHEST': 2,\n",
      "            'BLACK NOSE': 2,\n",
      "            'WHIE': 2,\n",
      "            'BLAK': 2,\n",
      "            'BLAVK': 2,\n",
      "            'BLAVCK': 2,\n",
      "            'BRONZE': 2,\n",
      "            'BLK TNA': 2,\n",
      "            'GEY': 2,\n",
      "            'BRIDLE': 2,\n",
      "            'BLK NOSE': 2,\n",
      "            'GREEN YELLOW': 2,\n",
      "            'BLUE BRINDLE WHT': 2,\n",
      "            'RWN': 2,\n",
      "            'GRREY': 2,\n",
      "            'BLUE BRINDLE': 2,\n",
      "            'PAINT': 2,\n",
      "            'TIGER': 2,\n",
      "            'TAN GRY WHT': 2,\n",
      "            'TAN PAWS': 2,\n",
      "            'blk wht': 2,\n",
      "            'BRWN W': 2,\n",
      "            'DK BROWN': 2,\n",
      "            ' BRINDLE': 2,\n",
      "            'GRYA': 2,\n",
      "            'GR BLK': 2,\n",
      "            'BLK SPOTTED': 2,\n",
      "            'BKL BRN': 2,\n",
      "            'WHY': 2,\n",
      "            'BRINDLE BRN': 2,\n",
      "            'brn blk': 2,\n",
      "            'GRY TAB WHT': 2,\n",
      "            'WHT BRN SPOTS': 2,\n",
      "            'CRM': 2,\n",
      "            'BLUE TAN WHT': 2,\n",
      "            ' YELLOW': 2,\n",
      "            'BL WHT': 2,\n",
      "            'WHT, ORG': 2,\n",
      "            'SORRELL': 2,\n",
      "            'BLK.WHT': 2,\n",
      "            'BRN GRY BLK': 2,\n",
      "            'ORG WHT': 2,\n",
      "            'WHT BROWN': 2,\n",
      "            'BLK.BRN': 2,\n",
      "            'CHOCOLATE BRINDLE': 2,\n",
      "            'gry blk': 2,\n",
      "            'BRN YELLOW': 2,\n",
      "            'Y': 2,\n",
      "            'BLK TAN WHT CHEST': 2,\n",
      "            'TAN WHT CHEST': 2,\n",
      "            ' BRWN SPOT': 2,\n",
      "            'BLUR': 2,\n",
      "            'WHT RED': 2,\n",
      "            'BLK BRN GRY': 2,\n",
      "            'B;LK': 2,\n",
      "            'BRINDLE PATCH': 2,\n",
      "            'REDDISH BRN': 2,\n",
      "            'GRY BRN TAB': 2,\n",
      "            'BUCK SKIN': 2,\n",
      "            'blk gry': 2,\n",
      "            ' BRWN SPOTS': 2,\n",
      "            'CHOCO': 2,\n",
      "            '3BLK': 2,\n",
      "            'WHITE SPOTTED': 2,\n",
      "            'BLK GRN': 2,\n",
      "            'WHT BEIGE': 2,\n",
      "            'G': 2,\n",
      "            'YELLOW WHT': 2,\n",
      "            'BRN WHT ON CHEST': 2,\n",
      "            'BLK WHT ON CHEST': 2,\n",
      "            '1 TAN': 2,\n",
      "            'BRN BLK TABBY': 2,\n",
      "            'ORN': 2,\n",
      "            'BLK FACE': 2,\n",
      "            ' MULTI': 2,\n",
      "            '1GRY,1BLK,1GRY': 2,\n",
      "            'GRYBLK': 2,\n",
      "            'GRY WHT TAN': 2,\n",
      "            'WHITE TAN': 2,\n",
      "            'BRWN EYE': 2,\n",
      "            'ORNAGE TABBY': 2,\n",
      "            'VLACK': 2,\n",
      "            'WHTE': 2,\n",
      "            '.WHITE': 2,\n",
      "            'BLAKC': 2,\n",
      "            'SANDY': 2,\n",
      "            'BLACK BRINDLE': 2,\n",
      "            'TAN\\\\': 1,\n",
      "            'BRN GRAY': 1,\n",
      "            'BLK EHT': 1,\n",
      "            'BLK TAN OR': 1,\n",
      "            'TIGER STRIP TAN': 1,\n",
      "            'BRWN PATCH BY THE EYE': 1,\n",
      "            'GYR': 1,\n",
      "            'YELLOW BELLY WATER': 1,\n",
      "            'BRN WHT HEAD': 1,\n",
      "            'WHT BRN SPOT': 1,\n",
      "            'BLK WHT SPOTS': 1,\n",
      "            'BRWN TAB': 1,\n",
      "            'ORANG BLK': 1,\n",
      "            'WHT TAN BLK GY': 1,\n",
      "            '1BLK 1TAN 1CRM': 1,\n",
      "            'GRY YELL WHT': 1,\n",
      "            'BLK BRM=N': 1,\n",
      "            '2 ORG': 1,\n",
      "            ' 2 BLK': 1,\n",
      "            'CHOCLATE': 1,\n",
      "            ' BLK SPOT': 1,\n",
      "            'BRWNBLK': 1,\n",
      "            'TABBY GREY': 1,\n",
      "            'PPINK': 1,\n",
      "            'CHOCOLATE ': 1,\n",
      "            'RED BRINDLE': 1,\n",
      "            'WHTGRY': 1,\n",
      "            'BRO': 1,\n",
      "            'MULTIPLE': 1,\n",
      "            'BROWN GRAY': 1,\n",
      "            '1 BLK 2 GRY': 1,\n",
      "            'LITTLE BLK': 1,\n",
      "            'BRWNWHT': 1,\n",
      "            'BRN TABBY WHT': 1,\n",
      "            'BRW': 1,\n",
      "            'TAN.BRWN': 1,\n",
      "            '1 GRY, 1 CALICO': 1,\n",
      "            'DARK TAN': 1,\n",
      "            'WHT`': 1,\n",
      "            'GREYWHT': 1,\n",
      "            'BLK BLK': 1,\n",
      "            'DK BRWN': 1,\n",
      "            'BRWN WHT BLLK': 1,\n",
      "            'YELLOW.WHT': 1,\n",
      "            'TAN.WHT': 1,\n",
      "            ' BLK MUZZLE': 1,\n",
      "            'BLK- WHT FEET': 1,\n",
      "            'BLK-  WHT CHEST': 1,\n",
      "            'WHT- BRWN EYES': 1,\n",
      "            'BRWN- WHT CHEST': 1,\n",
      "            'CHOC- WHT CHEST': 1,\n",
      "            'WHT.GREY': 1,\n",
      "            'TAAN': 1,\n",
      "            'GREENYELLOW': 1,\n",
      "            'PALOMINO': 1,\n",
      "            'RUSTY': 1,\n",
      "            'PURPLE': 1,\n",
      "            ' TABBY': 1,\n",
      "            'TAN GRY WHITE': 1,\n",
      "            'COPPER HEAD': 1,\n",
      "            'WHT DAPPLE': 1,\n",
      "            'BBRWN': 1,\n",
      "            'BRRWN': 1,\n",
      "            'WWHT': 1,\n",
      "            'BRWN*BLK': 1,\n",
      "            'VBLK': 1,\n",
      "            '4 BLK 1 TORTI': 1,\n",
      "            'HT': 1,\n",
      "            'WHT TABBIE': 1,\n",
      "            'ORANGE (CALICO)': 1,\n",
      "            'NUDE': 1,\n",
      "            'TABBLE': 1,\n",
      "            'NAKED': 1,\n",
      "            'BROWN WHITE SPOTS': 1,\n",
      "            'TNA': 1,\n",
      "            'BREY': 1,\n",
      "            'BLUE MARK': 1,\n",
      "            'TS': 1,\n",
      "            'BROWNISH': 1,\n",
      "            'SALOTE': 1,\n",
      "            'REDDISH TAN': 1,\n",
      "            'TOURQVIS': 1,\n",
      "            'BRWN SPOT': 1,\n",
      "            'BLACK,BROWN,WHITE': 1,\n",
      "            'GREY TADDY': 1,\n",
      "            'LIGHT GREEN': 1,\n",
      "            ' BLACK SPOTS': 1,\n",
      "            '1 TORT': 1,\n",
      "            'I 2 BLACK': 1,\n",
      "            'SKIN': 1,\n",
      "            'BROWN AND GRAY': 1,\n",
      "            'BAY-BLK': 1,\n",
      "            'MUREL': 1,\n",
      "            'ORH': 1,\n",
      "            'BROWN, BLACK AND WHITE': 1,\n",
      "            'BROWNB TAB': 1,\n",
      "            'LEOPARD SPOT': 1,\n",
      "            'B;LACK': 1,\n",
      "            'WHITGE': 1,\n",
      "            'L TAN': 1,\n",
      "            'WHITE SOCK BLK EYES': 1,\n",
      "            ' BLK FACE & NOS': 1,\n",
      "            'D GREY W': 1,\n",
      "            ' WHITE BLAZ F LG': 1,\n",
      "            'L BRN': 1,\n",
      "            'BLACK MOZZ': 1,\n",
      "            ' L FRONT PAWS': 1,\n",
      "            ' BLACK FACE': 1,\n",
      "            'L BROWN ': 1,\n",
      "            ' BLACK NOSE': 1,\n",
      "            'ALL BROWN': 1,\n",
      "            'BLK NOSE WHT': 1,\n",
      "            ' CHEST WHT': 1,\n",
      "            'WHITE BLAZE': 1,\n",
      "            'WHITE NECK BLAZ': 1,\n",
      "            'BLUUE': 1,\n",
      "            'COLOR': 1,\n",
      "            'DARK & LIGHT BROWN': 1,\n",
      "            'BROWNBRINDLE': 1,\n",
      "            'WHEATEN': 1,\n",
      "            'TAN FACE & TAIL': 1,\n",
      "            'W\\\\HITE': 1,\n",
      "            'WHITE STRIPE FACE': 1,\n",
      "            'BLACK BODY WHITE FACE': 1,\n",
      "            'WHAT TABBY': 1,\n",
      "            'YELLOW SPOTTED': 1,\n",
      "            '3 GRAY TABBY AND 1 BLACK': 1,\n",
      "            'LT BRWN': 1,\n",
      "            'SMOKE GRAY': 1,\n",
      "            'BLK YELLOW BELLY': 1,\n",
      "            'BLK GRY TABBY': 1,\n",
      "            'BRN GR Y': 1,\n",
      "            'BLU GRY': 1,\n",
      "            'BLK YELLW': 1,\n",
      "            'BLU WHT GRY': 1,\n",
      "            'BRINFLE': 1,\n",
      "            'BRWN ': 1,\n",
      "            'BLK WHT GREEN RED': 1,\n",
      "            ' LITTLE WHT': 1,\n",
      "            ' GREY TABS': 1,\n",
      "            'UNK': 1,\n",
      "            'TAM ': 1,\n",
      "            'GREY EARS': 1,\n",
      "            'STRIP': 1,\n",
      "            '\\\\RED': 1,\n",
      "            'YELOW': 1,\n",
      "            'WHTG': 1,\n",
      "            'BLUE J': 1,\n",
      "            'GGRY': 1,\n",
      "            'GOLDISH': 1,\n",
      "            'GREYMARBLE TABBY': 1,\n",
      "            'GREY MARBLED TABBY': 1,\n",
      "            'GREY MARBLED': 1,\n",
      "            'WHI': 1,\n",
      "            'RN WHT': 1,\n",
      "            'WHT BRN TABBY': 1,\n",
      "            'CHO BRINDLE': 1,\n",
      "            'WTH BRN BLK': 1,\n",
      "            'SABLE WHT': 1,\n",
      "            'HAIRLESS': 1,\n",
      "            'WHT OR': 1,\n",
      "            'W GR': 1,\n",
      "            'BLJ': 1,\n",
      "            'TNA BLK': 1,\n",
      "            'DRK BRN': 1,\n",
      "            'TABBY GRY WHT': 1,\n",
      "            'MARBLED GRAY': 1,\n",
      "            'CATO 2BLK GRY': 1,\n",
      "            ' ORANGE': 1,\n",
      "            'BROWN AND BLACK': 1,\n",
      "            'BLACK AND BROWN': 1,\n",
      "            'BRN LK': 1,\n",
      "            'GRY SPOTS': 1,\n",
      "            ' B': 1,\n",
      "            'GRAY BLK': 1,\n",
      "            'BRINDLE LONG HAIR': 1,\n",
      "            'ORG TAIL': 1,\n",
      "            'BK WHT OR': 1,\n",
      "            'NO HAIR': 1,\n",
      "            'MIXED TORT': 1,\n",
      "            'NR TAN WHT': 1,\n",
      "            'BLUE GRAY': 1,\n",
      "            '2BLK,1 WHT,1BEIGE': 1,\n",
      "            'WHT BLK BEIGE': 1,\n",
      "            '1 BRWN, 1OR': 1,\n",
      "            'BLK WHT FEET': 1,\n",
      "            'WHT GR': 1,\n",
      "            'CHARCOAL BRN': 1,\n",
      "            'GRY BLK BRN': 1,\n",
      "            'BRIN': 1,\n",
      "            'BR ': 1,\n",
      "            'GRY,BLK': 1,\n",
      "            'BRWN, BLK,BLK': 1,\n",
      "            'BLK WHT PAWS': 1,\n",
      "            'TAN*': 1,\n",
      "            'BK TAN': 1,\n",
      "            ' WHT ON CHEST': 1,\n",
      "            'WHT, TAN,BLK': 1,\n",
      "            'TAN WHT FACE': 1,\n",
      "            'FT': 1,\n",
      "            'BRN WIRE HIRE': 1,\n",
      "            'BBROWN': 1,\n",
      "            'TAN BRWN': 1,\n",
      "            'WHITE WI ORANGE TIPS': 1,\n",
      "            'TAN RED BRN': 1,\n",
      "            'GRAY-WHITE': 1,\n",
      "            'GRY RED WHT': 1,\n",
      "            'BLK GRY BLK': 1,\n",
      "            'BFRWN': 1,\n",
      "            'WHT BLU': 1,\n",
      "            '1 GRY, 1 BLK, 1GRY': 1,\n",
      "            'DRK BRN WHT': 1,\n",
      "            'BUCKSKIN': 1,\n",
      "            'WHR': 1,\n",
      "            'BRN RED': 1,\n",
      "            'BLQACK': 1,\n",
      "            'BLUE-WHT': 1,\n",
      "            'YELLOW DOTS': 1,\n",
      "            'BLK GRN WHT RED': 1,\n",
      "            'BLK BRN TABBY': 1,\n",
      "            'BRINDLE BEIGE': 1,\n",
      "            'WHT BLUE': 1,\n",
      "            'GRY W': 1,\n",
      "            'GREY TAB': 1,\n",
      "            'W\\\\HT': 1,\n",
      "            'BLKK GRY': 1,\n",
      "            'BRN.BLK': 1,\n",
      "            'SPECKLED': 1,\n",
      "            'gry tan': 1,\n",
      "            'brwn': 1,\n",
      "            'WITH BRN EYES': 1,\n",
      "            'YELL WHT CHEST': 1,\n",
      "            '1 BLK, 2 TAN': 1,\n",
      "            '2 BLK,1 GRY,1 WHT': 1,\n",
      "            'normal': 1,\n",
      "            'BRN BLK WH': 1,\n",
      "            'BRWN,BLK,BLK WHT': 1,\n",
      "            'GRY BRINDLE': 1,\n",
      "            'BLK BRN GREEN': 1,\n",
      "            'MALLARD': 1,\n",
      "            '1-BLK': 1,\n",
      "            '2-BLK': 1,\n",
      "            'WHITE FEET AND CHES': 1,\n",
      "            'CLAICO': 1,\n",
      "            'WHR GRY': 1,\n",
      "            'RED STRIPES': 1,\n",
      "            '2WHT': 1,\n",
      "            'GRY2BLK': 1,\n",
      "            'yellow': 1,\n",
      "            'WHT GRAY': 1,\n",
      "            'TAN YELLOW': 1,\n",
      "            'FAIR': 1,\n",
      "            'BRN WHT BLAZE': 1,\n",
      "            'CAL TAB': 1,\n",
      "            'BRNN BLK': 1,\n",
      "            'BRY BLK': 1,\n",
      "            'BKK': 1,\n",
      "            '2GRY1WH2BLK1SIA': 1,\n",
      "            'BLK TEAL': 1,\n",
      "            'MOSTLY BROW': 1,\n",
      "            'GRAY SPECKELED': 1,\n",
      "            'WHT BLK PATCH': 1,\n",
      "            'GOLD BRINDLE': 1,\n",
      "            'BK GOLD': 1,\n",
      "            'CHOC BRINDLE': 1,\n",
      "            'TAN VLK': 1,\n",
      "            'GOLDEN WHT': 1,\n",
      "            'BOWN': 1,\n",
      "            'GREEN BLK': 1,\n",
      "            'WNT': 1,\n",
      "            'BLAK WHT': 1,\n",
      "            'WHR BLK': 1,\n",
      "            'LHT BRN': 1,\n",
      "            'TAN-WHT PAWS': 1,\n",
      "            'THE': 1,\n",
      "            'CHOCOALTE': 1,\n",
      "            'TAN BRON': 1,\n",
      "            'BLKWT': 1,\n",
      "            'CREAN': 1,\n",
      "            'BKACK.GREY': 1,\n",
      "            'BL BRN': 1,\n",
      "            'GREY BLK TAN': 1,\n",
      "            'OR,OR': 1,\n",
      "            'WH,TS,GRY': 1,\n",
      "            'BRN  WHT': 1,\n",
      "            'BLUE GRY': 1,\n",
      "            'BLK TAN RED': 1,\n",
      "            'BRN BLK BRINDLE': 1,\n",
      "            'RED BRN WHT': 1,\n",
      "            'GREEB': 1,\n",
      "            'YELLOW ': 1,\n",
      "            '1BLK': 1,\n",
      "            'WHT,2CREAM': 1,\n",
      "            'YELLOW SPOT': 1,\n",
      "            'TIGER BLK TAN': 1,\n",
      "            'RED-WHT': 1,\n",
      "            'GRY RAB WHT': 1,\n",
      "            'BLKBRWN': 1,\n",
      "            'EY ': 1,\n",
      "            'GRN BLK': 1,\n",
      "            'WHT GRY TAN': 1,\n",
      "            'WHITE AND LIGHT ORANGE': 1,\n",
      "            'TAN WHT BRN': 1,\n",
      "            'ORG,WHT': 1,\n",
      "            'TAN GRY BRN': 1,\n",
      "            'BEIGE SPOTTED': 1,\n",
      "            'WHT BLK SPTS': 1,\n",
      "            'WHTY': 1,\n",
      "            'TABBY WHT': 1,\n",
      "            'WHIITE ': 1,\n",
      "            'BL YEL': 1,\n",
      "            'WHT  BLK': 1,\n",
      "            'BLJK': 1,\n",
      "            'TAN GREY': 1,\n",
      "            'GREY DAPPLE': 1,\n",
      "            'WHT-CALICO': 1,\n",
      "            'GRY BKL': 1,\n",
      "            'DK GRAY': 1,\n",
      "            'WHTBRWN': 1,\n",
      "            ' WHT ': 1,\n",
      "            'WHT BLK GRY TAN': 1,\n",
      "            'BRN  BLK': 1,\n",
      "            'YEL (SHORT HAIR)': 1,\n",
      "            'BRINDLE BLK': 1,\n",
      "            'WHT  TAN': 1,\n",
      "            'RUSTY BROWN': 1,\n",
      "            'GRY CREAM': 1,\n",
      "            'DARK BLUE ': 1,\n",
      "            'GRYYELLOW': 1,\n",
      "            'TIGER STRIP': 1,\n",
      "            'WHUTE': 1,\n",
      "            'BNN': 1,\n",
      "            'ORNAGE WHT': 1,\n",
      "            'FRED': 1,\n",
      "            'WHT,1 BRWN': 1,\n",
      "            'TSN': 1,\n",
      "            'LK': 1,\n",
      "            'GRY RED': 1,\n",
      "            'WHT, 1 GRY': 1,\n",
      "            '1 GRY, 1 BRWN': 1,\n",
      "            'GRY Y': 1,\n",
      "            'cream brn': 1,\n",
      "            'TAM WHT': 1,\n",
      "            'WHT, BLK': 1,\n",
      "            'BLK.GRY': 1,\n",
      "            'SHITE': 1,\n",
      "            'BLK WHT GRY': 1,\n",
      "            'BLK GRY TAN': 1,\n",
      "            'BLK WHT TABBY': 1,\n",
      "            'brindle': 1,\n",
      "            'WHITE AND GREY': 1,\n",
      "            'BNLK': 1,\n",
      "            'WHT BRWN SPOTS': 1,\n",
      "            'GOLD,GOLD,BK,WT': 1,\n",
      "            'gray': 1,\n",
      "            'WHT3GRY': 1,\n",
      "            'WHT,1BK': 1,\n",
      "            '2ORG': 1,\n",
      "            'WHT,1 BRWNBKWH': 1,\n",
      "            'SILVER BLK': 1,\n",
      "            'BLUE,BRINDLE,WHITE': 1,\n",
      "            'BLG': 1,\n",
      "            'SPOTTED': 1,\n",
      "            'TAN  WHT': 1,\n",
      "            'RD': 1,\n",
      "            'DK DRY WHT': 1,\n",
      "            '1BLK,2BLK': 1,\n",
      "            'TAN,1BR': 1,\n",
      "            'BRN WHT TAN': 1,\n",
      "            'OORG': 1,\n",
      "            '2 BRN': 1,\n",
      "            'WHT 1 WHT BRN': 1,\n",
      "            'CREAM BRN': 1,\n",
      "            'CR�ME': 1,\n",
      "            'GRE': 1,\n",
      "            'PAWS': 1,\n",
      "            'BLUE FEET': 1,\n",
      "            'BRAY': 1,\n",
      "            '2 WHT': 1,\n",
      "            '1 CALICO,2 BLK,1 TAN': 1,\n",
      "            'BRN WIRE HAIR': 1,\n",
      "            'BLUE WHT CHEST': 1,\n",
      "            'RED TAN': 1,\n",
      "            'GOLDEN BLONDE': 1,\n",
      "            'BLK TAN GRY WHT': 1,\n",
      "            'MARBLE TABBY WHT': 1,\n",
      "            'BLACL': 1,\n",
      "            'GR WHT': 1,\n",
      "            'RIBBON': 1,\n",
      "            'BRINDLE TAN': 1,\n",
      "            'W BL BR': 1,\n",
      "            'COCOLATE': 1,\n",
      "            'WGHT': 1,\n",
      "            'grey': 1,\n",
      "            'BRN LIGHT BRN': 1,\n",
      "            'ORANG WHT': 1,\n",
      "            'TAN GOLD TABBY': 1,\n",
      "            'RED GRY': 1,\n",
      "            '1GRY': 1,\n",
      "            'WHT, 1 BLK': 1,\n",
      "            'BRN BBLK': 1,\n",
      "            'BRINDLED': 1,\n",
      "            '4 BLK': 1,\n",
      "            ' GREEN': 1,\n",
      "            'BLK GRAY': 1,\n",
      "            '1BKWT2BKWT2TABBY': 1,\n",
      "            'BRIN BLK WHT': 1,\n",
      "            'blk tan': 1,\n",
      "            'TANW': 1,\n",
      "            'WHT CHEST BLK FACE': 1,\n",
      "            'WHT TAN BRN': 1,\n",
      "            'ROAN': 1,\n",
      "            'WHT GY': 1,\n",
      "            'W GRY': 1,\n",
      "            'ORANGE TAB': 1,\n",
      "            'TANJ': 1,\n",
      "            'ORANGE BLK': 1,\n",
      "            'STRAWBERRY': 1,\n",
      "            'PERSIAN': 1,\n",
      "            'BRNDLE': 1,\n",
      "            'blk tanwht': 1,\n",
      "            'BLKW': 1,\n",
      "            'tan': 1,\n",
      "            'GRY BLK SPOTS': 1,\n",
      "            'MED': 1,\n",
      "            '2 GRY, 1BRWN': 1,\n",
      "            'TAN & WHITE': 1,\n",
      "            'BLK PIT': 1,\n",
      "            'BLK*': 1,\n",
      "            '2GRY': 1,\n",
      "            'BLK,1 ORG': 1,\n",
      "            '4 BLK,,3 BLK': 1,\n",
      "            'silver': 1,\n",
      "            'GOLD,BK,WHT': 1,\n",
      "            'BLL': 1,\n",
      "            'CHOC WINE': 1,\n",
      "            'BLE WHT': 1,\n",
      "            'LIGHT ORANGE': 1,\n",
      "            'NEWBORN NO HAIR': 1,\n",
      "            'ORGGRYORG': 1,\n",
      "            ' 2-GRY': 1,\n",
      "            '1 BRWN,1OR': 1,\n",
      "            'BROWNISH RED': 1,\n",
      "            'GREY BRINDLE': 1,\n",
      "            'WHTRED': 1,\n",
      "            'GRYTAN': 1,\n",
      "            'WHT BLK ORANG': 1,\n",
      "            'GRY WHT BLK SPOTS': 1,\n",
      "            'BK TAN WHT CHEST': 1,\n",
      "            'BLLK GRY': 1,\n",
      "            'REDWHT BLK': 1,\n",
      "            'GRAY  WHITE': 1,\n",
      "            'WHT BRN TAB': 1,\n",
      "            'CHARCOAL BROWN': 1,\n",
      "            'BKL GRYT': 1,\n",
      "            'BRN BL': 1,\n",
      "            'W BRN': 1,\n",
      "            'BLKTAN': 1,\n",
      "            'BLKACK': 1,\n",
      "            'BRN BRINDLE WHT': 1,\n",
      "            'GRET': 1,\n",
      "            'ORGBLK': 1,\n",
      "            'WHTBLK': 1,\n",
      "            'GRY BL': 1,\n",
      "            'REDDDISH BRN WHT': 1,\n",
      "            'CRAM': 1,\n",
      "            'BK GRY': 1,\n",
      "            '2 BLK, 1 TABBY': 1,\n",
      "            'BLACK.GRAY': 1,\n",
      "            'NIRMAL': 1,\n",
      "            ' TAN SPOTS': 1,\n",
      "            'BRINDLE W': 1,\n",
      "            'YE;;OW': 1,\n"
     ]
    },
    {
     "name": "stdout",
     "output_type": "stream",
     "text": [
      "            'GRAY.DK GRAY': 1,\n",
      "            'GRY SPOTTED': 1,\n",
      "            'BLK, 2 BLK': 1,\n",
      "            'TAN CHOC BRINDLE': 1,\n",
      "            'BRWB': 1,\n",
      "            'DK': 1,\n",
      "            'LGT BRN': 1,\n",
      "            'TRI COLORED': 1,\n",
      "            'BRN WHT PAINT': 1,\n",
      "            'BRN PATTERN': 1,\n",
      "            'TRI- COLORED': 1,\n",
      "            'COPPERHEAD': 1,\n",
      "            'BLK GY WHT': 1,\n",
      "            '1 BLK, 1 YELLOW': 1,\n",
      "            'GRY TAN WHT BLK': 1,\n",
      "            'GRY YELLOW': 1,\n",
      "            'ORG,BLK,WHT': 1,\n",
      "            'YEL(LONG HAIR)': 1,\n",
      "            'CHOC WHT': 1,\n",
      "            'WHT SPOTS': 1,\n",
      "            'WHT,BRWN': 1,\n",
      "            'BRM': 1,\n",
      "            'BLACK BROWN GREY': 1,\n",
      "            'MULTI COLORED BRN': 1,\n",
      "            'BLK ORAN TAN WHT': 1,\n",
      "            'BRN BLK FACE': 1,\n",
      "            '1 WHT': 1,\n",
      "            'BLK 7-MULTI': 1,\n",
      "            'BLUE.NO HAIR': 1,\n",
      "            'GRU': 1,\n",
      "            'calico': 1,\n",
      "            ' BLK NOSE': 1,\n",
      "            'TAN STRIPE': 1,\n",
      "            'BLUISH': 1,\n",
      "            'BLK.': 1,\n",
      "            'BLK-WHT SPOT': 1,\n",
      "            'TABN': 1,\n",
      "            'RED*': 1,\n",
      "            'LT BRN': 1,\n",
      "            'DARK': 1,\n",
      "            'BRINDLE BLK WHT': 1,\n",
      "            'GREY.BRN': 1,\n",
      "            'BRN WH': 1,\n",
      "            'brn': 1,\n",
      "            'CHOL': 1,\n",
      "            'CREAM ': 1,\n",
      "            'BLK YELL': 1,\n",
      "            'STRIPE': 1,\n",
      "            'ORANGE TABY': 1,\n",
      "            'RUSTY BRN': 1,\n",
      "            'ORANGE CREAM': 1,\n",
      "            'GEY TABBY': 1,\n",
      "            'WHT BLK BRN TABBY': 1,\n",
      "            'BRN BLK TAN EHT': 1,\n",
      "            'GARY ': 1,\n",
      "            'WHT BLJK': 1,\n",
      "            'BLK TAN WHT GRY': 1,\n",
      "            'BRN BLK STRIPE': 1,\n",
      "            'WHT DIOMOND': 1,\n",
      "            'WHW': 1,\n",
      "            'BLK GREY TAIL': 1,\n",
      "            'BLK GOLD BRINDLE': 1,\n",
      "            'BLK WLT': 1,\n",
      "            'MULTI WHT': 1,\n",
      "            'MARB': 1,\n",
      "            'REDDISH ORANGE': 1,\n",
      "            'GRY BLK SPTS': 1,\n",
      "            'GR W': 1,\n",
      "            'BRN WHT BLK NOSE': 1,\n",
      "            'TAN BLK NOSE': 1,\n",
      "            'GRY,BRN TABBY': 1,\n",
      "            '1 BLK, 1 GRY': 1,\n",
      "            'RN': 1,\n",
      "            'GTY': 1,\n",
      "            'BROWN W': 1,\n",
      "            'BRN ORANGE TAN': 1,\n",
      "            'BLK MOUTH': 1,\n",
      "            'WHT BRINDLE SPOTS': 1,\n",
      "            'BKL WHT': 1,\n",
      "            'BLUE TAN': 1,\n",
      "            'BLK BRN OR WHT': 1,\n",
      "            'LIGHT GRY': 1,\n",
      "            'AND DARK': 1,\n",
      "            'GRY  BLK': 1,\n",
      "            'WHT GRY ORANGE': 1,\n",
      "            'BRINDLW': 1,\n",
      "            'BLK RAC': 1,\n",
      "            'BLU WHT CHEST': 1,\n",
      "            'SIVER GOLD': 1,\n",
      "            'DARK BRN': 1,\n",
      "            'BLK TAN FEET': 1,\n",
      "            'orange': 1,\n",
      "            'white': 1,\n",
      "            'PINK GRY': 1,\n",
      "            'BRN WHT NOSE': 1,\n",
      "            'GRAAY': 1,\n",
      "            'W,GR': 1,\n",
      "            'WHITE WITH SPOTS': 1,\n",
      "            '3 BLK': 1,\n",
      "            '3 TABBY': 1,\n",
      "            'WHT BLACK EYES': 1,\n",
      "            'BLK-WHT': 1,\n",
      "            'BKK BRN': 1,\n",
      "            'DAPPLE': 1,\n",
      "            'ORANGE BLK CALICO': 1,\n",
      "            'BRWN,BLK,BLK': 1,\n",
      "            'GRYBRN': 1,\n",
      "            'NONE': 1,\n",
      "            'BRN BLK STRIPED': 1,\n",
      "            'BLK YEL': 1,\n",
      "            'BLK TN': 1,\n",
      "            'STAND': 1,\n",
      "            'CHOOLATE WI BLK SPOTS': 1,\n",
      "            'WHT TAN EAR': 1,\n",
      "            'WHT MALLARD': 1,\n",
      "            'WHT BK': 1,\n",
      "            'GOLDEN BRN': 1,\n",
      "            'WHT BK GRY': 1,\n",
      "            'BEN BLK WHT': 1,\n",
      "            ' SILVER': 1,\n",
      "            'BRN WT': 1,\n",
      "            ' 2 BRWN': 1,\n",
      "            'BLK TN WHT': 1,\n",
      "            'WH,1BLK': 1,\n",
      "            'BRNF': 1,\n",
      "            'ROWN': 1,\n",
      "            'BRINDLE WHT BLK': 1,\n",
      "            'WHT BLK BEN': 1,\n",
      "            'BRNE': 1,\n",
      "            'BLK, GRY': 1,\n",
      "            ' TAN BLK WHT': 1,\n",
      "            'WHT BLK SPOTS': 1,\n",
      "            'TAN AND BRN SPOTS': 1,\n",
      "            'ORG BLK WHR': 1,\n",
      "            'BLK  WHT': 1,\n",
      "            '2 GRY, 2 LK': 1,\n",
      "            'DARK RED': 1,\n",
      "            'TAN BRN BLK': 1,\n",
      "            'BRN,BLK,WHITE': 1,\n",
      "            'WHT,GRY': 1,\n",
      "            'WHT GRY BLK TAN': 1,\n",
      "            'BKL GRY': 1,\n",
      "            'RUSTY RED': 1,\n",
      "            'BLK WH': 1,\n",
      "            'BK WHT CHEST': 1,\n",
      "            'WHT BEN': 1,\n",
      "            ' BLK TAIL': 1,\n",
      "            'WHT BLK SPOT': 1,\n",
      "            'MUTED CALICO': 1,\n",
      "            'BROW N': 1,\n",
      "            'TAMWHT': 1,\n",
      "            'GRY\\\\WHT': 1,\n",
      "            'GRY PINK': 1,\n",
      "            'BLK,2 BLK': 1,\n",
      "            'SPECKELED': 1,\n",
      "            'RED BRN': 1,\n",
      "            'WHT ON TOES': 1,\n",
      "            'GRA Y': 1,\n",
      "            'WITH GREEN EYES': 1,\n",
      "            'GRY WHT BLK': 1,\n",
      "            'BREN': 1,\n",
      "            'BRN BLK GRY': 1,\n",
      "            'FAWN WHT CHEST': 1,\n",
      "            'GREY,BRINDLE': 1,\n",
      "            'BLK GRY SPOTTED': 1,\n",
      "            'YEL WHT': 1,\n",
      "            'BLU WHT COLLR': 1,\n",
      "            '3TAN': 1,\n",
      "            'RED WHT BLK': 1,\n",
      "            'WHT TAN SPECKLES': 1,\n",
      "            'REDDISH ': 1,\n",
      "            'BLK STRIPED': 1,\n",
      "            ' BBLK': 1,\n",
      "            'BLKBRN': 1,\n",
      "            'TORTOISESHELL': 1,\n",
      "            'CHOCO BRN': 1,\n",
      "            'BLK BRN FEET': 1,\n",
      "            'CHOC BRN': 1,\n",
      "            'GREEN STRIPES': 1,\n",
      "            'WHITE WI BRN SPOTS': 1,\n",
      "            'BTWN': 1,\n",
      "            'WHT W ': 1,\n",
      "            'GRY YEL': 1,\n",
      "            'TAN WHT MOUTH': 1,\n",
      "            'BL;K': 1,\n",
      "            'CHAMPAGNE': 1,\n",
      "            'D. BROWN BRINDLE': 1,\n",
      "            '2 BLACK AND 1 TAN': 1,\n",
      "            'TAN.WHITE': 1,\n",
      "            'WHITEBROWN SPOTS': 1,\n",
      "            'WHAT': 1,\n",
      "            'BROWN SPOTTED': 1,\n",
      "            'GRAYBLACK': 1,\n",
      "            'TAN EARS': 1,\n",
      "            'N ROW': 1,\n",
      "            'TAN(GOLDEN)': 1,\n",
      "            'BROWN.WHITE': 1,\n",
      "            'GRAY.BROWN': 1,\n",
      "            'CATO': 1,\n",
      "            'CHA': 1,\n",
      "            'WHITE FEET': 1,\n",
      "            'BL,ACK': 1,\n",
      "            'TAN TORTI': 1,\n",
      "            'GRAY TAB': 1,\n",
      "            'BLCK': 1,\n",
      "            'SIAMESE GRAY': 1,\n",
      "            'L. GRAY': 1,\n",
      "            'D. GRAY': 1,\n",
      "            'LAB': 1,\n",
      "            'MALE': 1,\n",
      "            'APRO': 1,\n",
      "            'WHITE BROWN': 1,\n",
      "            'OR BLK WHT': 1,\n",
      "            'GREY TAN WHITE': 1,\n",
      "            'GRY OR': 1,\n",
      "            'GRY BRWN': 1,\n",
      "            'ORANGE 5 WHITE 2 BLACK': 1,\n",
      "            'BLACK TORTOISE': 1,\n",
      "            'B ROWN': 1,\n",
      "            'ORANGE SPOTS': 1,\n",
      "            'WHITE W': 1,\n",
      "            'BLUE SPOTS': 1,\n",
      "            'TORTOISE SHELL': 1,\n",
      "            'BLACK.BROWN': 1,\n",
      "            'WHITE.BLACK': 1,\n",
      "            'ORANGE.WHITE': 1,\n",
      "            'WHITE MERLE': 1,\n",
      "            'L. GRAY TABBY': 1,\n",
      "            'BLACK MARK': 1,\n",
      "            'BLUE DAPPLE': 1,\n",
      "            '  BLK': 1,\n",
      "            'BLACK TIGER': 1,\n",
      "            'WHITE STRIPE': 1,\n",
      "            ' (DARK)': 1,\n",
      "            'BLAC': 1,\n",
      "            'TRI-CALICO': 1})\n"
     ]
    }
   ],
   "source": [
    "# looking at strings separated to evaluate how to edit; priority in high value counts\n",
    "results = Counter()\n",
    "df['color'].str.split('/').apply(results.update)\n",
    "pp.pprint (results)"
   ]
  },
  {
   "cell_type": "code",
   "execution_count": null,
   "metadata": {
    "ExecuteTime": {
     "end_time": "2020-02-24T09:18:26.244011Z",
     "start_time": "2020-02-24T09:18:00.195Z"
    }
   },
   "outputs": [],
   "source": [
    "edit_replace(('tanwht'), 'tan/wht')\n",
    "edit_replace(('blkwht'), 'blk/wht')\n",
    "edit_replace(('graywhite'), 'gry/wht')\n",
    "edit_replace(('brnblk'), 'br/bl')\n",
    "edit_replace(('grywht'), 'gry/wht')\n",
    "edit_replace(('gryblk'), 'gry/blk')"
   ]
  },
  {
   "cell_type": "code",
   "execution_count": null,
   "metadata": {
    "ExecuteTime": {
     "end_time": "2020-02-24T09:18:26.246785Z",
     "start_time": "2020-02-24T09:18:00.200Z"
    }
   },
   "outputs": [],
   "source": [
    "characters = ('///', '//')\n",
    "edit_replace(characters, '/')"
   ]
  },
  {
   "cell_type": "code",
   "execution_count": null,
   "metadata": {
    "ExecuteTime": {
     "end_time": "2020-02-24T09:18:26.250740Z",
     "start_time": "2020-02-24T09:18:00.205Z"
    }
   },
   "outputs": [],
   "source": [
    "# white: wht\n",
    "whites = ('white', 'cream', 'whute', 'whit', 'whitg', 'wht','whtie', 'wwht', 'what','wt')\n",
    "\n",
    "edit_replace(whites, 'wht')"
   ]
  },
  {
   "cell_type": "code",
   "execution_count": null,
   "metadata": {
    "ExecuteTime": {
     "end_time": "2020-02-24T09:18:26.253233Z",
     "start_time": "2020-02-24T09:18:00.210Z"
    }
   },
   "outputs": [],
   "source": [
    "# blacks: bl\n",
    "blacks = ('black', 'blk', 'blkl', 'charcoal', 'bllk', 'balck', 'blavk', 'bkl', 'vlack', 'blavck', 'blkc')\n",
    "\n",
    "edit_replace(blacks, 'bk')"
   ]
  },
  {
   "cell_type": "code",
   "execution_count": null,
   "metadata": {
    "ExecuteTime": {
     "end_time": "2020-02-24T09:18:26.255090Z",
     "start_time": "2020-02-24T09:18:00.216Z"
    }
   },
   "outputs": [],
   "source": [
    "# browns: br\n",
    "browns = ('brown','brrwn', 'brwn', 'brn', 'choc', 'chocolate', 'brwon', 'choclate', 'brw', 'brownish', 'brow', 'brnlate', 'brnish', 'brnolate', 'brnm', 'brolate', 'brblk','chestnut', 'cho', 'brrwn')\n",
    "\n",
    "edit_replace(browns,'br')"
   ]
  },
  {
   "cell_type": "code",
   "execution_count": null,
   "metadata": {
    "ExecuteTime": {
     "end_time": "2020-02-24T09:18:26.257266Z",
     "start_time": "2020-02-24T09:18:00.222Z"
    }
   },
   "outputs": [],
   "source": [
    "# greys: gry\n",
    "greys = ('grey', 'gray', 'grrey', 'grey', 'gry')\n",
    "\n",
    "edit_replace(greys, 'gry')"
   ]
  },
  {
   "cell_type": "code",
   "execution_count": null,
   "metadata": {
    "ExecuteTime": {
     "end_time": "2020-02-24T09:18:26.259819Z",
     "start_time": "2020-02-24T09:18:00.227Z"
    }
   },
   "outputs": [],
   "source": [
    "# tans/beige/blonde: tn\n",
    "tans = ('beige', 'blonde', 'golden', 'tan\\\\', 'goldish', 'tna', 'gold', 'tan', 'taan', 'sandy')\n",
    "\n",
    "edit_replace(tans, 'tn')"
   ]
  },
  {
   "cell_type": "code",
   "execution_count": null,
   "metadata": {
    "ExecuteTime": {
     "end_time": "2020-02-24T09:18:26.262136Z",
     "start_time": "2020-02-24T09:18:00.233Z"
    }
   },
   "outputs": [],
   "source": [
    "# stripes: stripe_tabby\n",
    "tabbies = ('tabby','tiger', 'tabble', 'taddy', 'tabs', 'tabbie')\n",
    "\n",
    "edit_replace(tabbies, 'tab')"
   ]
  },
  {
   "cell_type": "code",
   "execution_count": null,
   "metadata": {
    "ExecuteTime": {
     "end_time": "2020-02-24T09:18:26.265024Z",
     "start_time": "2020-02-24T09:18:00.238Z"
    }
   },
   "outputs": [],
   "source": [
    "# calico = cal\n",
    "edit_replace(('calico'), 'cal')"
   ]
  },
  {
   "cell_type": "code",
   "execution_count": null,
   "metadata": {
    "ExecuteTime": {
     "end_time": "2020-02-24T09:18:26.268699Z",
     "start_time": "2020-02-24T09:18:00.243Z"
    }
   },
   "outputs": [],
   "source": [
    "# striped: strip\n",
    "# edit_replace(('stripe'), 'strip')"
   ]
  },
  {
   "cell_type": "code",
   "execution_count": null,
   "metadata": {
    "ExecuteTime": {
     "end_time": "2020-02-24T09:18:26.270939Z",
     "start_time": "2020-02-24T09:18:00.249Z"
    }
   },
   "outputs": [],
   "source": [
    "# orange: or\n",
    "oranges = ('orange', 'orn', 'copper', 'orang', 'orage', 'ornage')\n",
    "\n",
    "edit_replace(oranges, 'org')"
   ]
  },
  {
   "cell_type": "code",
   "execution_count": null,
   "metadata": {
    "ExecuteTime": {
     "end_time": "2020-02-24T09:18:26.273749Z",
     "start_time": "2020-02-24T09:18:00.254Z"
    }
   },
   "outputs": [],
   "source": [
    "# brindle/fawn: brndl\n",
    "brindles = ('brindle', 'fawn', 'merle', 'torti', 'marbled', 'tortie', 'bridle', 'brndl', 'brndle', 'brndlee','leopard', 'tortoise', 'brindlw', 'brindlde')\n",
    "\n",
    "edit_replace(brindles, 'bndle')"
   ]
  },
  {
   "cell_type": "code",
   "execution_count": null,
   "metadata": {
    "ExecuteTime": {
     "end_time": "2020-02-24T09:18:26.276598Z",
     "start_time": "2020-02-24T09:18:00.259Z"
    }
   },
   "outputs": [],
   "source": [
    "# green: grn\n",
    "edit_replace(('green'),'gn')"
   ]
  },
  {
   "cell_type": "code",
   "execution_count": null,
   "metadata": {
    "ExecuteTime": {
     "end_time": "2020-02-24T09:18:26.279373Z",
     "start_time": "2020-02-24T09:18:00.264Z"
    }
   },
   "outputs": [],
   "source": [
    "# yellow: yel\n",
    "edit_replace(('yellow','yelow','yellw', 'yell', 'ylw'), 'yel')"
   ]
  },
  {
   "cell_type": "code",
   "execution_count": null,
   "metadata": {
    "ExecuteTime": {
     "end_time": "2020-02-24T09:18:26.281763Z",
     "start_time": "2020-02-24T09:18:00.269Z"
    }
   },
   "outputs": [],
   "source": [
    "# stop words and not decribing color (* is there a better way to do this?)\n",
    "to_drop = ('chest','and', 'normal', 'nose', 'paws', 'mouth', 'with', 'tail'\n",
    "           , 'belly', 'head', 'ears', 'eyes', 'face', 'feet', 'color', 'standard',\n",
    "          'fred', 'pattern', 'newbord', 'mostly', 'front', 'all', 'body')\n",
    "\n",
    "edit_replace(to_drop, '')"
   ]
  },
  {
   "cell_type": "code",
   "execution_count": null,
   "metadata": {
    "ExecuteTime": {
     "end_time": "2020-02-24T09:18:26.283841Z",
     "start_time": "2020-02-24T09:18:00.274Z"
    }
   },
   "outputs": [],
   "source": [
    "# other and unknown in nan category\n",
    "unknowns = ('other', 'unknown', 'nan')\n",
    "\n",
    "edit_replace(unknowns, 'NaN')"
   ]
  },
  {
   "cell_type": "markdown",
   "metadata": {},
   "source": [
    "##### alphabetizing and 'other' feature for low value counts"
   ]
  },
  {
   "cell_type": "code",
   "execution_count": null,
   "metadata": {
    "ExecuteTime": {
     "end_time": "2020-02-24T09:18:26.285888Z",
     "start_time": "2020-02-24T09:18:00.280Z"
    }
   },
   "outputs": [],
   "source": [
    "# defining counts to separate at 20 value counts\n",
    "counts = df['color'].value_counts()"
   ]
  },
  {
   "cell_type": "code",
   "execution_count": null,
   "metadata": {
    "ExecuteTime": {
     "end_time": "2020-02-24T09:18:26.287972Z",
     "start_time": "2020-02-24T09:18:00.285Z"
    }
   },
   "outputs": [],
   "source": [
    "#df['color'] = df['color'].apply(lambda x: '/'.join(sorted(x.split('/'))))"
   ]
  },
  {
   "cell_type": "code",
   "execution_count": null,
   "metadata": {
    "ExecuteTime": {
     "end_time": "2020-02-24T09:18:26.290625Z",
     "start_time": "2020-02-24T09:18:00.291Z"
    }
   },
   "outputs": [],
   "source": [
    "df['color'] = [','.join(sorted(i.split(','))) for i in df['color']]"
   ]
  },
  {
   "cell_type": "code",
   "execution_count": null,
   "metadata": {
    "ExecuteTime": {
     "end_time": "2020-02-24T09:18:26.292982Z",
     "start_time": "2020-02-24T09:18:00.295Z"
    }
   },
   "outputs": [],
   "source": [
    "# color combinations with less than 20 counts will be categorized as 'other'\n",
    "other_color_df =df[df['color'].isin(counts[counts < 20].index)]\n",
    "\n",
    "other_color_df['color'] = 'other'"
   ]
  },
  {
   "cell_type": "code",
   "execution_count": null,
   "metadata": {
    "ExecuteTime": {
     "end_time": "2020-02-24T09:18:26.297002Z",
     "start_time": "2020-02-24T09:18:00.300Z"
    },
    "scrolled": true
   },
   "outputs": [],
   "source": [
    "#should be one value: 'other'\n",
    "other_color_df.color.value_counts()"
   ]
  },
  {
   "cell_type": "code",
   "execution_count": null,
   "metadata": {
    "ExecuteTime": {
     "end_time": "2020-02-24T09:18:26.299412Z",
     "start_time": "2020-02-24T09:18:00.305Z"
    }
   },
   "outputs": [],
   "source": [
    "# color values with over/equal to n counts\n",
    "colors_df =df[df['color'].isin(counts[counts >= 20].index)]"
   ]
  },
  {
   "cell_type": "code",
   "execution_count": null,
   "metadata": {
    "ExecuteTime": {
     "end_time": "2020-02-24T09:18:26.301838Z",
     "start_time": "2020-02-24T09:18:00.310Z"
    },
    "scrolled": true
   },
   "outputs": [],
   "source": [
    "#should be n or more per value\n",
    "colors_df.color.value_counts().tail()"
   ]
  },
  {
   "cell_type": "code",
   "execution_count": null,
   "metadata": {
    "ExecuteTime": {
     "end_time": "2020-02-24T09:18:26.304091Z",
     "start_time": "2020-02-24T09:18:00.315Z"
    }
   },
   "outputs": [],
   "source": [
    "#joining the 'other color' and 'all colors' dfs\n",
    "ec_df = pd.concat([colors_df,other_color_df ])\n",
    "len(ec_df)"
   ]
  },
  {
   "cell_type": "code",
   "execution_count": null,
   "metadata": {
    "ExecuteTime": {
     "end_time": "2020-02-24T09:18:26.306893Z",
     "start_time": "2020-02-24T09:18:00.321Z"
    },
    "scrolled": false
   },
   "outputs": [],
   "source": [
    "#all should have a minimum n value counts, 'other' should now be included\n",
    "df = ec_df.copy()\n",
    "df.color.value_counts()"
   ]
  },
  {
   "cell_type": "code",
   "execution_count": null,
   "metadata": {
    "ExecuteTime": {
     "end_time": "2020-02-24T09:18:26.309871Z",
     "start_time": "2020-02-24T09:18:00.326Z"
    }
   },
   "outputs": [],
   "source": [
    "stop"
   ]
  },
  {
   "cell_type": "markdown",
   "metadata": {},
   "source": [
    "#### breed"
   ]
  },
  {
   "cell_type": "code",
   "execution_count": null,
   "metadata": {
    "ExecuteTime": {
     "end_time": "2020-02-24T09:18:26.312713Z",
     "start_time": "2020-02-24T09:18:00.333Z"
    }
   },
   "outputs": [],
   "source": [
    "df.breed.value_counts()"
   ]
  },
  {
   "cell_type": "code",
   "execution_count": null,
   "metadata": {
    "ExecuteTime": {
     "end_time": "2020-02-24T09:18:26.315253Z",
     "start_time": "2020-02-24T09:18:00.338Z"
    }
   },
   "outputs": [],
   "source": [
    "df['breed'] = df['breed'].apply(lambda x : x[1:] if x.startswith(\"X\") else x)"
   ]
  },
  {
   "cell_type": "code",
   "execution_count": null,
   "metadata": {
    "ExecuteTime": {
     "end_time": "2020-02-24T09:18:26.317534Z",
     "start_time": "2020-02-24T09:18:00.343Z"
    }
   },
   "outputs": [],
   "source": [
    "# # removing extra spaces and lower casing \n",
    "df['breed'] = df['breed'].astype(str)\n",
    "df['breed'] = df['breed'].str.strip()\n",
    "df['breed'] = df['breed'].str.lower()\n",
    "\n",
    "df['breed'] = df.breed.apply(lambda x: x.replace(' ', '_'))"
   ]
  },
  {
   "cell_type": "code",
   "execution_count": null,
   "metadata": {
    "ExecuteTime": {
     "end_time": "2020-02-24T09:18:26.319935Z",
     "start_time": "2020-02-24T09:18:00.348Z"
    },
    "scrolled": true
   },
   "outputs": [],
   "source": [
    "sorted_breeds=df.sort_values('breed')\n",
    "sorted_breeds.breed.unique()"
   ]
  },
  {
   "cell_type": "markdown",
   "metadata": {},
   "source": [
    "*_some of these breeds sound very similar(ie. staffordshire bull terrier vs american staffordshire terrier, doberman vs doberman pinscher, but I assure you I have investigated the questionably similar breeds before reassigning to the same variable._"
   ]
  },
  {
   "cell_type": "code",
   "execution_count": null,
   "metadata": {
    "ExecuteTime": {
     "end_time": "2020-02-24T09:18:26.322303Z",
     "start_time": "2020-02-24T09:18:00.354Z"
    },
    "code_folding": [
     0
    ]
   },
   "outputs": [],
   "source": [
    "#replacing alternate spellings of same breed\n",
    "df = df.apply(lambda x: x.replace(' ', '_'))\n",
    "df = df.apply(lambda x: x.replace('bulldog_(english)', 'bulldog_english'))\n",
    "df = df.apply(lambda x: x.replace('chow_chow', 'chow'))\n",
    "df = df.apply(lambda x: x.replace('boston_terrier', 'boston'))\n",
    "df = df.apply(lambda x: x.replace('poodle_-standard', 'poodle'))\n",
    "df = df.apply(lambda x: x.replace('basset_hound', 'basset'))\n",
    "df = df.apply(lambda x: x.replace('rottweiller', 'rott'))\n",
    "df = df.apply(lambda x: x.replace('rottweiler', 'rott'))\n",
    "df = df.apply(lambda x: x.replace('pit_bull', 'pitbull'))\n",
    "df = df.apply(lambda x: x.replace('pitbull', 'pit'))\n",
    "df = df.apply(lambda x: x.replace('_german_shepherd', 'german_shepherd'))\n",
    "df = df.apply(lambda x: x.replace('_retriever', 'retriever'))\n",
    "df = df.apply(lambda x: x.replace('labrador_retriever', 'labrador'))\n",
    "df = df.apply(lambda x: x.replace('poodle_(min/toy)', 'poodle_min/toy'))\n",
    "df = df.apply(lambda x: x.replace('poodle_standard', 'poodle'))\n",
    "df = df.apply(lambda x: x.replace('catahoula_hound', 'catahoula'))\n",
    "df = df.apply(lambda x: x.replace('english_bulldog', 'bulldog_english'))\n",
    "df = df.apply(lambda x: x.replace('bulldog_(french)', 'bulldog_french'))\n",
    "df = df.apply(lambda x: x.replace('boer', 'boxer'))\n",
    "df = df.apply(lambda x: x.replace('fo_terrier', 'fox_terrier'))\n",
    "df = df.apply(lambda x: x.replace('shar_pei', 'sharpei'))\n",
    "df = df.apply(lambda x: x.replace('alaskan__malamute','alaskan_malamute'))\n",
    "df = df.apply(lambda x: x.replace('brittany_spaniel', 'brittany'))\n",
    "df = df.apply(lambda x: x.replace('fohound', 'foxhound'))\n",
    "df = df.apply(lambda x: x.replace('other', 'unknown'))\n",
    "df = df.apply(lambda x: x.replace('nan', np.NaN))"
   ]
  },
  {
   "cell_type": "code",
   "execution_count": null,
   "metadata": {
    "ExecuteTime": {
     "end_time": "2020-02-24T09:18:26.325667Z",
     "start_time": "2020-02-24T09:18:00.359Z"
    },
    "scrolled": true
   },
   "outputs": [],
   "source": [
    "# has unique values been reduced?\n",
    "len(sorted_breeds.breed.unique())\n",
    "len(df.breed.value_counts())"
   ]
  },
  {
   "cell_type": "markdown",
   "metadata": {},
   "source": [
    "#### condition, disposition, size, species, temperment"
   ]
  },
  {
   "cell_type": "code",
   "execution_count": null,
   "metadata": {
    "ExecuteTime": {
     "end_time": "2020-02-24T09:18:26.329233Z",
     "start_time": "2020-02-24T09:18:00.366Z"
    }
   },
   "outputs": [],
   "source": [
    "cdsst ='species', 'size', 'condition', 'temperment', 'disposition'"
   ]
  },
  {
   "cell_type": "code",
   "execution_count": null,
   "metadata": {
    "ExecuteTime": {
     "end_time": "2020-02-24T09:18:26.331466Z",
     "start_time": "2020-02-24T09:18:00.370Z"
    }
   },
   "outputs": [],
   "source": [
    "# for col in cdsst:\n",
    "#     df[col] = df[col].apply(lambda x: x.replace(' ', '_'))"
   ]
  },
  {
   "cell_type": "code",
   "execution_count": null,
   "metadata": {
    "ExecuteTime": {
     "end_time": "2020-02-24T09:18:26.333941Z",
     "start_time": "2020-02-24T09:18:00.375Z"
    },
    "code_folding": []
   },
   "outputs": [],
   "source": [
    "#\n",
    "for col in cdsst:\n",
    "    df[col] = df[col].astype(str)\n",
    "    df[col] = df[col].str.strip()\n",
    "    df[col] = df[col].apply(lambda x: x.replace(' ', '_'))\n",
    "    df[col] = df[col].str.lower()"
   ]
  },
  {
   "cell_type": "code",
   "execution_count": null,
   "metadata": {
    "ExecuteTime": {
     "end_time": "2020-02-24T09:18:26.335939Z",
     "start_time": "2020-02-24T09:18:00.380Z"
    },
    "scrolled": true
   },
   "outputs": [],
   "source": [
    "for col in cdsst:\n",
    "    print('--',col.capitalize(),'--\\n',df[col].value_counts(),'\\n')"
   ]
  },
  {
   "cell_type": "markdown",
   "metadata": {},
   "source": [
    "### service code, request type (service_type)"
   ]
  },
  {
   "cell_type": "code",
   "execution_count": null,
   "metadata": {
    "ExecuteTime": {
     "end_time": "2020-02-24T09:18:26.338428Z",
     "start_time": "2020-02-24T09:18:00.386Z"
    }
   },
   "outputs": [],
   "source": [
    "sr = ('service_code', 'request_type')"
   ]
  },
  {
   "cell_type": "code",
   "execution_count": null,
   "metadata": {
    "ExecuteTime": {
     "end_time": "2020-02-24T09:18:26.341088Z",
     "start_time": "2020-02-24T09:18:00.391Z"
    }
   },
   "outputs": [],
   "source": [
    "for col in sr:\n",
    "    df[col] = df[col].astype(str)\n",
    "    df[col] = df[col].str.strip()\n",
    "    df[col] = df[col].replace(' ', '_')\n",
    "    df[col] = df[col].str.lower()"
   ]
  },
  {
   "cell_type": "code",
   "execution_count": null,
   "metadata": {
    "ExecuteTime": {
     "end_time": "2020-02-24T09:18:26.343669Z",
     "start_time": "2020-02-24T09:18:00.396Z"
    },
    "code_folding": [
     0
    ]
   },
   "outputs": [],
   "source": [
    "#replaced by clean_str\n",
    "\n",
    "# for col in sre:\n",
    "#     df[col] = df[col].str.strip()\n",
    "#     df[col] = df[col].str.lower()"
   ]
  },
  {
   "cell_type": "code",
   "execution_count": null,
   "metadata": {
    "ExecuteTime": {
     "end_time": "2020-02-24T09:18:26.348149Z",
     "start_time": "2020-02-24T09:18:00.401Z"
    }
   },
   "outputs": [],
   "source": [
    "for col in sre:\n",
    "    print('--',col.capitalize(),'--\\n',df[col].value_counts(),'\\n')"
   ]
  },
  {
   "cell_type": "code",
   "execution_count": null,
   "metadata": {
    "ExecuteTime": {
     "end_time": "2020-02-24T09:18:26.351067Z",
     "start_time": "2020-02-24T09:18:00.407Z"
    }
   },
   "outputs": [],
   "source": [
    "# creating column that fills in missing values from service code using existing values from request type\n",
    "df['service_type']=df['service_code'].mask(pd.isnull, df['request_type'])\n",
    "\n",
    "# dropping merged columns\n",
    "df.drop(columns=['service_code', 'request_type'], inplace=True)"
   ]
  },
  {
   "cell_type": "code",
   "execution_count": null,
   "metadata": {
    "ExecuteTime": {
     "end_time": "2020-02-24T09:18:26.353536Z",
     "start_time": "2020-02-24T09:18:00.412Z"
    }
   },
   "outputs": [],
   "source": [
    "df.service_type.value_counts()"
   ]
  },
  {
   "cell_type": "markdown",
   "metadata": {},
   "source": [
    "## dropping columns"
   ]
  },
  {
   "cell_type": "markdown",
   "metadata": {},
   "source": [
    "Since service code and request type are providing what appears to be identical values, and value count ratios also roughly match, I will fill in service code's 'na's with values from request type where available. I did it in that order because service code had less 'unknown' and 'na'. "
   ]
  },
  {
   "cell_type": "code",
   "execution_count": null,
   "metadata": {
    "ExecuteTime": {
     "end_time": "2020-02-24T09:18:26.356235Z",
     "start_time": "2020-02-24T09:18:00.420Z"
    },
    "code_folding": [
     0
    ]
   },
   "outputs": [],
   "source": [
    "# # profile report\n",
    "# pandas_profiling.ProfileReport(df)\n",
    "\n",
    "# observations from pandas profile report:\n",
    "\n",
    "# - lots of columns missing data\n",
    "\n",
    "# unneeded columns:\n",
    "# - ARRIVAL TIME- has most at 00:00\n",
    "# - AVAILABLE TIME- most at 00:00\n",
    "# - CALL TAKER\n",
    "# - COLLAR\n",
    "# - COLLAR COLOR\n",
    "# - IMPOUND NUMBER\n",
    "# - INCIDENT TIME\n",
    "# - PET NAME\n",
    "# - REMARKS(too little data provided(3%), existing data doesn't appear to be useful)\n",
    "# - VACCINATION DATE(99.5% missing)\n",
    "# - VACCINATION NUMBER\n",
    "# - ZIP CODE\n",
    "\n",
    "\n",
    "# columns needing work or consider exclusion:\n",
    "# - AGE 55% missing\n",
    "# - X in front of BREED- cross breed?\n",
    "# - CONDITION 31% missing\n",
    "# - DISPATCHED OTHER and DISPATCHED SITUATION- what does it mean?\n",
    "# - EQUIPMENT NUMBER - what does it mean?\n",
    "# - FILE NUMBER - probably not useful\n",
    "# - REQUEST TYPE and SERVICE CODE appear to provide same content\n",
    "# - SEX contains only 37% M or F, other data missing or irregular\n",
    "# - SIZE 30% missing\n",
    "# - SPECIES 28% missing\n",
    "# - TEMPERMENT 30% missing\n",
    "# - COLOR 29% missing\n",
    "# - LOCATION and COMPLAINT STREET can be merged somehow?\n"
   ]
  },
  {
   "cell_type": "code",
   "execution_count": null,
   "metadata": {
    "ExecuteTime": {
     "end_time": "2020-02-24T09:18:26.358889Z",
     "start_time": "2020-02-24T09:18:00.427Z"
    },
    "scrolled": false
   },
   "outputs": [],
   "source": [
    "#percent missing values per column\n",
    "round(df.isna().sum()/len(df)*100)"
   ]
  },
  {
   "cell_type": "markdown",
   "metadata": {},
   "source": [
    "With there being such little information on vaccination, those columns won't be looked at further. I decided to also not explore the remarks, collar features, and pet names as those features were all missing substantial amounts of data and I don't see them offering much value. "
   ]
  },
  {
   "cell_type": "code",
   "execution_count": null,
   "metadata": {
    "ExecuteTime": {
     "end_time": "2020-02-24T09:18:26.361297Z",
     "start_time": "2020-02-24T09:18:00.433Z"
    }
   },
   "outputs": [],
   "source": [
    "pre_drop_df = df.copy()"
   ]
  },
  {
   "cell_type": "code",
   "execution_count": null,
   "metadata": {
    "ExecuteTime": {
     "end_time": "2020-02-24T09:18:26.363452Z",
     "start_time": "2020-02-24T09:18:00.438Z"
    }
   },
   "outputs": [],
   "source": [
    "df.drop(columns=['vaccination_date', 'vaccination_number', 'remarks', 'collar', 'collar_color', 'pet_name'], inplace=True)"
   ]
  },
  {
   "cell_type": "code",
   "execution_count": null,
   "metadata": {
    "ExecuteTime": {
     "end_time": "2020-02-24T09:18:26.365583Z",
     "start_time": "2020-02-24T09:18:00.444Z"
    }
   },
   "outputs": [],
   "source": [
    "# # removing columns with more than 1/3 missing data\n",
    "# df.dropna(axis=1, thresh=(len(df)//1.5), inplace=True)\n",
    "\n",
    "#df = df.dropna(axis=0)"
   ]
  },
  {
   "cell_type": "code",
   "execution_count": null,
   "metadata": {
    "ExecuteTime": {
     "end_time": "2020-02-24T09:18:26.367915Z",
     "start_time": "2020-02-24T09:18:00.449Z"
    },
    "code_folding": [
     0
    ]
   },
   "outputs": [],
   "source": [
    "# lower casing and eliminating characters, moved to later in cleaning\n",
    "# for now, saved for later, but could also do this to only select columns to prevent issues\n",
    "\n",
    "# df = df.apply(lambda x: x.astype(str).str.lower())\n",
    "# df = df.apply(lambda x: x.astype(str).str.strip())\n",
    "# df = df.apply(lambda x: x.astype(str).str.replace(' ', '_'))"
   ]
  },
  {
   "cell_type": "code",
   "execution_count": null,
   "metadata": {
    "ExecuteTime": {
     "end_time": "2020-02-24T09:18:26.370503Z",
     "start_time": "2020-02-24T09:18:00.455Z"
    }
   },
   "outputs": [],
   "source": [
    "df.shape"
   ]
  },
  {
   "cell_type": "markdown",
   "metadata": {},
   "source": [
    "# __Explore__"
   ]
  },
  {
   "cell_type": "markdown",
   "metadata": {},
   "source": [
    "### datetime features"
   ]
  },
  {
   "cell_type": "markdown",
   "metadata": {},
   "source": [
    "#### times"
   ]
  },
  {
   "cell_type": "markdown",
   "metadata": {},
   "source": [
    "There are 5 different time categories. Their descriptions are self descriptive, although the 'available time' wasn't clear at first. That category marks the time that the officer was finished with the incident and once again available"
   ]
  },
  {
   "cell_type": "code",
   "execution_count": null,
   "metadata": {
    "ExecuteTime": {
     "end_time": "2020-02-24T09:18:26.372573Z",
     "start_time": "2020-02-24T09:18:00.464Z"
    },
    "code_folding": []
   },
   "outputs": [],
   "source": [
    "# DELETE CELL -- assigning time columns- done previously already\n",
    "#time_cols= [col for col in df.columns if 'time' in col]\n",
    "#time_cols\n",
    "\n",
    "\n",
    "\n",
    "t_df = df[['incident_time'\n",
    "                    ,'dispatched_time'\n",
    "                     ,'arrival_time'\n",
    "                     , 'available_time'\n",
    "                     ,'impound_time']]\n",
    "\n",
    "# t_df.columns\n",
    "\n",
    "# comparing incident features by count/time\n",
    "for col in time_cols:\n",
    "    plot_dtcount(t_df, col, overlap = False, labels = time_cols)"
   ]
  },
  {
   "cell_type": "markdown",
   "metadata": {},
   "source": [
    "For the most part, the times look consistent, but at 00:00, there are a couple of outliers. If using those time features, the 00:00 times will be excluded."
   ]
  },
  {
   "cell_type": "code",
   "execution_count": null,
   "metadata": {
    "ExecuteTime": {
     "end_time": "2020-02-24T09:18:26.375058Z",
     "start_time": "2020-02-24T09:18:00.471Z"
    }
   },
   "outputs": [],
   "source": [
    "# plotting frequency of each time feature:\n",
    "\n",
    "for col in time_cols:\n",
    "    plot_dtcount(df, col\n",
    "                 , (0, 600)\n",
    "                 , labels = time_cols)"
   ]
  },
  {
   "cell_type": "markdown",
   "metadata": {},
   "source": [
    "Around 9am-ish it reaches a peak, then once again rises between 12pm-4pm"
   ]
  },
  {
   "cell_type": "markdown",
   "metadata": {},
   "source": []
  },
  {
   "cell_type": "code",
   "execution_count": null,
   "metadata": {
    "ExecuteTime": {
     "end_time": "2020-02-24T09:18:26.377987Z",
     "start_time": "2020-02-24T09:18:00.478Z"
    },
    "code_folding": []
   },
   "outputs": [],
   "source": [
    "# # DELETE THIS CELL--comparing distribution of time features(**NEEDS WORK**)\n",
    "\n",
    "# comp_counts(time_cols, time_cols)\n",
    "\n",
    "# f, axes = plt.subplots(1, 5,figsize=(30,5))\n",
    "# plt.xlim(-5,50)\n",
    "\n",
    "# for col, ax in zip(time_cols,(range(0,5))):\n",
    "#     sns.distplot((df[col].dropna().value_counts()), ax=axes[ax])"
   ]
  },
  {
   "cell_type": "markdown",
   "metadata": {},
   "source": [
    "#### dates"
   ]
  },
  {
   "cell_type": "code",
   "execution_count": null,
   "metadata": {
    "ExecuteTime": {
     "end_time": "2020-02-24T09:18:26.380381Z",
     "start_time": "2020-02-24T09:18:00.484Z"
    }
   },
   "outputs": [],
   "source": [
    "date_cols= [col for col in df.columns if 'date' in col]\n",
    "date_cols"
   ]
  },
  {
   "cell_type": "code",
   "execution_count": null,
   "metadata": {
    "ExecuteTime": {
     "end_time": "2020-02-24T09:18:26.383065Z",
     "start_time": "2020-02-24T09:18:00.489Z"
    }
   },
   "outputs": [],
   "source": [
    "sns.set(style=\"darkgrid\")"
   ]
  },
  {
   "cell_type": "code",
   "execution_count": null,
   "metadata": {
    "ExecuteTime": {
     "end_time": "2020-02-24T09:18:26.385598Z",
     "start_time": "2020-02-24T09:18:00.494Z"
    }
   },
   "outputs": [],
   "source": [
    "f, ax = plt.subplots(figsize=(6.5, 6.5))\n",
    "sns.despine(f, left=True, bottom=True)\n",
    "#clarity_ranking = [\"I1\", \"SI2\", \"SI1\", \"VS2\", \"VS1\", \"VVS2\", \"VVS1\", \"IF\"]\n",
    "sns.scatterplot(x='incident_time', y= 'arrival_time'\n",
    "    #x=\"incident_date\", y=\"incident_time\",\n",
    "                ,hue=\"temperment\"\n",
    "                #, size=\"depth\",\n",
    "                #,palette=\"ch:r=-.2,d=.3_r\"\n",
    "                #hue_order=clarity_ranking,\n",
    "                ,sizes=(1, 3), linewidth=0,\n",
    "                data=df.head(5000), ax=ax, alpha=.2)\n",
    "ax.set_xticklabels('')\n",
    "ax.set_yticklabels('')"
   ]
  },
  {
   "cell_type": "code",
   "execution_count": null,
   "metadata": {
    "ExecuteTime": {
     "end_time": "2020-02-24T09:18:26.387764Z",
     "start_time": "2020-02-24T09:18:00.500Z"
    }
   },
   "outputs": [],
   "source": [
    "for col in date_cols:\n",
    "    plot_dtcount(df, col, overlap = False, labels = date_cols)"
   ]
  },
  {
   "cell_type": "code",
   "execution_count": null,
   "metadata": {
    "ExecuteTime": {
     "end_time": "2020-02-24T09:18:26.389860Z",
     "start_time": "2020-02-24T09:18:00.505Z"
    }
   },
   "outputs": [],
   "source": [
    "df = df.sort_values(by='inc_dt')"
   ]
  },
  {
   "cell_type": "code",
   "execution_count": null,
   "metadata": {
    "ExecuteTime": {
     "end_time": "2020-02-24T09:18:26.392292Z",
     "start_time": "2020-02-24T09:18:00.510Z"
    }
   },
   "outputs": [],
   "source": [
    "f, axes = plt.subplots(1, 3,figsize=(30,5))\n",
    "for col, ax in zip(date_cols,(range(0,3))):\n",
    "    \n",
    "    sns.distplot((df[col].dropna()).value_counts(), ax=axes[ax]);"
   ]
  },
  {
   "cell_type": "code",
   "execution_count": null,
   "metadata": {
    "ExecuteTime": {
     "end_time": "2020-02-24T09:18:26.395659Z",
     "start_time": "2020-02-24T09:18:00.515Z"
    },
    "code_folding": [
     0
    ]
   },
   "outputs": [],
   "source": [
    "# #comparing distribution of date features\n",
    "# #comp_counts(date_cols, date_cols)\n",
    "\n",
    "# sns.set(font_scale=1)\n",
    "\n",
    "# f, axes = plt.subplots(1, 2,figsize=(15,3))\n",
    "# sns.distplot(df['incident_date'].value_counts(), ax=axes[0], color='black', bins=40)\n",
    "# sns.distplot(df['impound_date'].value_counts(), ax=axes[1], color='black', bins=40);\n",
    "# #sns.distplot(df['disposition_date'].value_counts(), ax=axes[2], color='black', bins=40);"
   ]
  },
  {
   "cell_type": "markdown",
   "metadata": {},
   "source": [
    "### names"
   ]
  },
  {
   "cell_type": "markdown",
   "metadata": {},
   "source": []
  },
  {
   "cell_type": "code",
   "execution_count": null,
   "metadata": {
    "ExecuteTime": {
     "end_time": "2020-02-24T09:18:26.397261Z",
     "start_time": "2020-02-24T09:18:00.522Z"
    }
   },
   "outputs": [],
   "source": [
    "name_cols = ['call_taker', 'dispatcher', 'officer', 'disposition_officer'] "
   ]
  },
  {
   "cell_type": "code",
   "execution_count": null,
   "metadata": {
    "ExecuteTime": {
     "end_time": "2020-02-24T09:18:26.398768Z",
     "start_time": "2020-02-24T09:18:00.528Z"
    }
   },
   "outputs": [],
   "source": [
    "for col in name_cols:\n",
    "    df[col] = df[col].str.strip()\n",
    "    df[col] = df[col].replace(' ', '_')\n",
    "    df[col] = df[col].str.lower()"
   ]
  },
  {
   "cell_type": "code",
   "execution_count": null,
   "metadata": {
    "ExecuteTime": {
     "end_time": "2020-02-24T09:18:26.401593Z",
     "start_time": "2020-02-24T09:18:00.533Z"
    },
    "scrolled": false
   },
   "outputs": [],
   "source": [
    "plot_counts(name_cols)"
   ]
  },
  {
   "cell_type": "code",
   "execution_count": null,
   "metadata": {
    "ExecuteTime": {
     "end_time": "2020-02-24T09:18:26.403698Z",
     "start_time": "2020-02-24T09:18:00.538Z"
    }
   },
   "outputs": [],
   "source": [
    "df.drop(columns = name_cols, inplace=True)"
   ]
  },
  {
   "cell_type": "markdown",
   "metadata": {},
   "source": [
    "#### condition, disposition, size, species, temperment"
   ]
  },
  {
   "cell_type": "code",
   "execution_count": null,
   "metadata": {
    "ExecuteTime": {
     "end_time": "2020-02-24T09:18:26.405998Z",
     "start_time": "2020-02-24T09:18:00.544Z"
    }
   },
   "outputs": [],
   "source": [
    "#value counts of species, size, condition, and temperment features\n",
    "ssct_df = df[['species', 'size', 'condition', 'temperment', 'disposition']]"
   ]
  },
  {
   "cell_type": "code",
   "execution_count": null,
   "metadata": {},
   "outputs": [],
   "source": []
  },
  {
   "cell_type": "code",
   "execution_count": null,
   "metadata": {
    "ExecuteTime": {
     "end_time": "2020-02-24T09:18:26.407791Z",
     "start_time": "2020-02-24T09:18:00.554Z"
    }
   },
   "outputs": [],
   "source": [
    "plot_counts(ssct_df)"
   ]
  },
  {
   "cell_type": "code",
   "execution_count": null,
   "metadata": {
    "ExecuteTime": {
     "end_time": "2020-02-24T09:18:26.409614Z",
     "start_time": "2020-02-24T09:18:00.559Z"
    }
   },
   "outputs": [],
   "source": [
    "# correlations between species, size, condition, and temperment\n",
    "corr_plot(ssct_df, minv=-.5, maxv=.5)"
   ]
  },
  {
   "cell_type": "markdown",
   "metadata": {},
   "source": [
    "#"
   ]
  },
  {
   "cell_type": "code",
   "execution_count": null,
   "metadata": {
    "ExecuteTime": {
     "end_time": "2020-02-24T09:18:26.411867Z",
     "start_time": "2020-02-24T09:18:00.566Z"
    }
   },
   "outputs": [],
   "source": [
    "# how much data would be sacrificed if dropping 'unknown'\n",
    "len(df[~df.eq('unknown').any(1)])/ len(df)"
   ]
  },
  {
   "cell_type": "code",
   "execution_count": null,
   "metadata": {
    "ExecuteTime": {
     "end_time": "2020-02-24T09:18:26.415006Z",
     "start_time": "2020-02-24T09:18:00.572Z"
    }
   },
   "outputs": [],
   "source": [
    "df"
   ]
  },
  {
   "cell_type": "code",
   "execution_count": null,
   "metadata": {
    "ExecuteTime": {
     "end_time": "2020-02-24T09:18:26.417179Z",
     "start_time": "2020-02-24T09:18:00.577Z"
    }
   },
   "outputs": [],
   "source": [
    "df.columns"
   ]
  },
  {
   "cell_type": "code",
   "execution_count": null,
   "metadata": {
    "ExecuteTime": {
     "end_time": "2020-02-24T09:18:26.419305Z",
     "start_time": "2020-02-24T09:18:00.582Z"
    }
   },
   "outputs": [],
   "source": [
    "#how much data would remain of df if drop na and 'unknowns'\n",
    "len(df.dropna()[~df.eq('unknown').any(1)])/len(df)"
   ]
  },
  {
   "cell_type": "code",
   "execution_count": null,
   "metadata": {
    "ExecuteTime": {
     "end_time": "2020-02-24T09:18:26.421265Z",
     "start_time": "2020-02-24T09:18:00.587Z"
    }
   },
   "outputs": [],
   "source": [
    "# drop rows with any unknowns\n",
    "df = df[~df.eq('unknown').any(1)]"
   ]
  },
  {
   "cell_type": "code",
   "execution_count": null,
   "metadata": {
    "ExecuteTime": {
     "end_time": "2020-02-24T09:18:26.423521Z",
     "start_time": "2020-02-24T09:18:00.593Z"
    }
   },
   "outputs": [],
   "source": [
    "len(df)"
   ]
  },
  {
   "cell_type": "code",
   "execution_count": null,
   "metadata": {
    "ExecuteTime": {
     "end_time": "2020-02-24T09:18:26.425879Z",
     "start_time": "2020-02-24T09:18:00.600Z"
    },
    "scrolled": true
   },
   "outputs": [],
   "source": [
    "df.condition.value_counts()"
   ]
  },
  {
   "cell_type": "code",
   "execution_count": null,
   "metadata": {
    "ExecuteTime": {
     "end_time": "2020-02-24T09:18:26.427942Z",
     "start_time": "2020-02-24T09:18:00.605Z"
    },
    "scrolled": true
   },
   "outputs": [],
   "source": [
    "df.temperment.value_counts()"
   ]
  },
  {
   "cell_type": "code",
   "execution_count": null,
   "metadata": {
    "ExecuteTime": {
     "end_time": "2020-02-24T09:18:26.430340Z",
     "start_time": "2020-02-24T09:18:00.610Z"
    }
   },
   "outputs": [],
   "source": [
    "df.replace('nan', np.NaN, inplace=True)"
   ]
  },
  {
   "cell_type": "code",
   "execution_count": null,
   "metadata": {
    "ExecuteTime": {
     "end_time": "2020-02-24T09:18:26.433303Z",
     "start_time": "2020-02-24T09:18:00.615Z"
    }
   },
   "outputs": [],
   "source": [
    "df.temperment.replace('nan', np.NaN, inplace=True)"
   ]
  },
  {
   "cell_type": "code",
   "execution_count": null,
   "metadata": {
    "ExecuteTime": {
     "end_time": "2020-02-24T09:18:26.435476Z",
     "start_time": "2020-02-24T09:18:00.620Z"
    }
   },
   "outputs": [],
   "source": [
    "df.temperment = df.temperment.replace('scared', 'nervous')"
   ]
  },
  {
   "cell_type": "code",
   "execution_count": null,
   "metadata": {
    "ExecuteTime": {
     "end_time": "2020-02-24T09:18:26.438384Z",
     "start_time": "2020-02-24T09:18:00.626Z"
    }
   },
   "outputs": [],
   "source": [
    "df['size'].value_counts()"
   ]
  },
  {
   "cell_type": "code",
   "execution_count": null,
   "metadata": {
    "ExecuteTime": {
     "end_time": "2020-02-24T09:18:26.441239Z",
     "start_time": "2020-02-24T09:18:00.630Z"
    }
   },
   "outputs": [],
   "source": [
    "#cts_df = df[['condition', 'temperment', 'size']]\n",
    "\n",
    "#corr_plot(cts_df, -.3, .3)"
   ]
  },
  {
   "cell_type": "markdown",
   "metadata": {},
   "source": [
    "### incident features"
   ]
  },
  {
   "cell_type": "code",
   "execution_count": null,
   "metadata": {
    "ExecuteTime": {
     "end_time": "2020-02-24T09:18:26.443645Z",
     "start_time": "2020-02-24T09:18:00.636Z"
    },
    "scrolled": true
   },
   "outputs": [],
   "source": [
    "df.service_type.value_counts()"
   ]
  },
  {
   "cell_type": "code",
   "execution_count": null,
   "metadata": {
    "ExecuteTime": {
     "end_time": "2020-02-24T09:18:26.446201Z",
     "start_time": "2020-02-24T09:18:00.642Z"
    }
   },
   "outputs": [],
   "source": [
    "sorted_service=df.sort_values('service_type')\n",
    "sorted_service.service_type.unique()"
   ]
  },
  {
   "cell_type": "code",
   "execution_count": null,
   "metadata": {
    "ExecuteTime": {
     "end_time": "2020-02-24T09:18:26.449117Z",
     "start_time": "2020-02-24T09:18:00.647Z"
    },
    "code_folding": []
   },
   "outputs": [],
   "source": [
    "# unifying service types\n",
    "\n",
    "# dangerous animal situation\n",
    "df['service_type'] = df['service_type'].apply(lambda x: x.replace('dangerous_animal_sit.', 'dangerous_animal_sit'))\n",
    "df['service_type'] = df['service_type'].apply(lambda x: x.replace('dangerous_animal_situation', 'dangerous_animal_sit'))\n",
    "\n",
    "# cruelty cases\n",
    "df['service_type'] = df['service_type'].apply(lambda x: x.replace('cruelty_case', 'cruelty'))\n",
    "\n",
    "# stray animals\n",
    "df['service_type'] = df['service_type'].apply(lambda x: x.replace('stray_an._secured', 'stray_an_secured'))\n",
    "df['service_type'] = df['service_type'].apply(lambda x: x.replace('stray_animal_secured', 'stray_an_secured'))\n",
    "\n",
    "#loose animal and loose could include loose livestock, so I will assign all to 'loose'\n",
    "df['service_type'] = df['service_type'].apply(lambda x: x.replace('loose_live_stock', 'loose_livestock'))\n",
    "df['service_type'] = df['service_type'].apply(lambda x: x.replace('loose_livestock', 'loose'))\n",
    "df['service_type'] = df['service_type'].apply(lambda x: x.replace('loose_animal', 'loose'))\n",
    "\n",
    "# injured - injured animal and injured dog all under injured\n",
    "df['service_type'] = df['service_type'].apply(lambda x: x.replace('injured_animal', 'injured'))\n",
    "df['service_type'] = df['service_type'].apply(lambda x: x.replace('injured_dog', 'injured'))\n",
    "df['service_type'] = df['service_type'].apply(lambda x: x.replace('hit_by_car', 'injured'))\n",
    "\n",
    "#\n",
    "df['service_type'] = df['service_type'].apply(lambda x: x.replace('delivered_tags', 'deliver_tags'))\n",
    "df['service_type'] = df['service_type'].apply(lambda x: x.replace('delivered_tags', 'deliver_tags'))"
   ]
  },
  {
   "cell_type": "markdown",
   "metadata": {},
   "source": [
    "#### equipment number"
   ]
  },
  {
   "cell_type": "code",
   "execution_count": null,
   "metadata": {
    "ExecuteTime": {
     "end_time": "2020-02-24T09:18:26.452058Z",
     "start_time": "2020-02-24T09:18:00.653Z"
    },
    "scrolled": true
   },
   "outputs": [],
   "source": [
    "df.equipment_number.value_counts()"
   ]
  },
  {
   "cell_type": "markdown",
   "metadata": {},
   "source": [
    "### location related"
   ]
  },
  {
   "cell_type": "markdown",
   "metadata": {},
   "source": [
    "The features describing location are: municipality, location, zip code, and complainant street.\n",
    "\n",
    "The only column without missing values is the street feature. The usefulness of this feature in analysis is questionable, but if enough correlation exists, I could use it to fill in missing data in one of the other features with the most likely value."
   ]
  },
  {
   "cell_type": "code",
   "execution_count": null,
   "metadata": {
    "ExecuteTime": {
     "end_time": "2020-02-24T09:18:26.454848Z",
     "start_time": "2020-02-24T09:18:00.660Z"
    }
   },
   "outputs": [],
   "source": [
    "len(df.complainant_street.value_counts())"
   ]
  },
  {
   "cell_type": "markdown",
   "metadata": {},
   "source": [
    "complainant street has no nas, but not sure if it provides value to analysis without a region"
   ]
  },
  {
   "cell_type": "code",
   "execution_count": null,
   "metadata": {
    "ExecuteTime": {
     "end_time": "2020-02-24T09:18:26.457516Z",
     "start_time": "2020-02-24T09:18:00.667Z"
    }
   },
   "outputs": [],
   "source": [
    "#for col in loc_cols:\n",
    "#    df.groupby(['complainant_street'])[col].value_counts().unstack().plot.bar(figsize=(14,7));"
   ]
  },
  {
   "cell_type": "code",
   "execution_count": null,
   "metadata": {
    "ExecuteTime": {
     "end_time": "2020-02-24T09:18:26.460530Z",
     "start_time": "2020-02-24T09:18:00.673Z"
    }
   },
   "outputs": [],
   "source": [
    "#df.groupby(['zip_code'])['municipality_'].value_counts().unstack().plot.bar(figsize=(14,7));"
   ]
  },
  {
   "cell_type": "code",
   "execution_count": null,
   "metadata": {},
   "outputs": [],
   "source": []
  },
  {
   "cell_type": "code",
   "execution_count": null,
   "metadata": {},
   "outputs": [],
   "source": []
  },
  {
   "cell_type": "markdown",
   "metadata": {},
   "source": [
    "# __IGNORE__"
   ]
  },
  {
   "cell_type": "code",
   "execution_count": null,
   "metadata": {
    "ExecuteTime": {
     "end_time": "2020-02-24T09:18:26.462709Z",
     "start_time": "2020-02-24T09:18:00.688Z"
    }
   },
   "outputs": [],
   "source": [
    "stop"
   ]
  },
  {
   "cell_type": "markdown",
   "metadata": {
    "ExecuteTime": {
     "end_time": "2020-02-23T03:16:35.300408Z",
     "start_time": "2020-02-23T03:16:35.296754Z"
    }
   },
   "source": [
    "#### snippets I might come back to"
   ]
  },
  {
   "cell_type": "code",
   "execution_count": null,
   "metadata": {
    "ExecuteTime": {
     "end_time": "2020-02-24T09:18:26.465346Z",
     "start_time": "2020-02-24T09:18:00.695Z"
    }
   },
   "outputs": [],
   "source": [
    "# # \n",
    "\n",
    "# # # how much data would remain after removing columns with more than 1/3 missing data\n",
    "# df_drop_cols = (df.dropna(axis=1, thresh=(len(df))//1.5))\n",
    "# len(df_drop_cols.columns)/ len(df.columns)\n",
    "# #(len(df.dropna(axis=1, thresh=(len(df))//1.5)).columns)/len(df.columns)\n",
    "\n",
    "# # # how much would then be left after then removing rows with more than 20 missing data\n",
    "# len(df_drop_cols.dropna(axis=0, thresh=(20)))/len(df)"
   ]
  },
  {
   "cell_type": "code",
   "execution_count": null,
   "metadata": {
    "ExecuteTime": {
     "end_time": "2020-02-24T09:18:26.468161Z",
     "start_time": "2020-02-24T09:18:00.701Z"
    }
   },
   "outputs": [],
   "source": [
    "# characters = ('�','_',\"'\", '-', '(', ')', '.', '\\\\', ',,', ',,,', '_/_', ' ', '  ', '//')\n",
    "\n",
    "# edit_replace(characters, '/')"
   ]
  },
  {
   "cell_type": "code",
   "execution_count": null,
   "metadata": {
    "ExecuteTime": {
     "end_time": "2020-02-24T09:18:26.470353Z",
     "start_time": "2020-02-24T09:18:00.707Z"
    },
    "code_folding": []
   },
   "outputs": [],
   "source": [
    "#limiting colors to selected and also only with certain value count(no longer using this method)\n",
    "\n",
    "#colors = ('wht', 'bk', 'gry', 'br', 'tn', 'spot', 'or', 'tab', 'blue', 'red', 'ylw', 'calico', 'tri', 'green', 'multi', 'dark', 'light', 'pink')\n",
    "\n",
    "#ndf = df[~df['color'].isin([colors])]\n",
    "\n",
    "#ndf = ndf[ndf.color.value_counts()>=20]\n",
    "\n",
    "#ndf.color.value_counts()"
   ]
  },
  {
   "cell_type": "code",
   "execution_count": null,
   "metadata": {
    "ExecuteTime": {
     "end_time": "2020-02-24T09:18:26.473300Z",
     "start_time": "2020-02-24T09:18:00.712Z"
    },
    "code_folding": []
   },
   "outputs": [],
   "source": [
    "# replaced:\n",
    "\n",
    "\n",
    "\n",
    "# # replacing spacing, commas, and dashes within string with '/'\n",
    "\n",
    "# characters = (',', ' ', '-')\n",
    "# edit_replace(characters, '/')\n",
    "\n",
    "# #remove numbers and punctuation except '/'\n",
    "\n",
    "\n",
    "#clean_str('color')"
   ]
  },
  {
   "cell_type": "code",
   "execution_count": null,
   "metadata": {
    "ExecuteTime": {
     "end_time": "2020-02-24T09:18:26.475570Z",
     "start_time": "2020-02-24T09:18:00.717Z"
    }
   },
   "outputs": [],
   "source": [
    "# def clean_str(col, df=df):\n",
    "# #    for col in cols:\n",
    "#     df[col] = df[col].astype(str)\n",
    "#     df[col] = df[col].str.strip()\n",
    "#     df[col] = df[col].str.lower()\n",
    "# #     if pattern= pattern= '[^A-Za-z_]+':\n",
    "# #         df[col] = df[col].apply(lambda x: x.replace(' ', '_'))\n",
    "#     # regex for letters and '_' only, unless pattern reassigned:\n",
    "# #     if regex:\n",
    "# #         pattern = pattern\n",
    "# #         df[col] = [re.sub(pattern, '', i) for i in df[col]] \n",
    "# #     return df[col]\n",
    "\n",
    "# # #         #print('--',col.capitalize(),'--\\n',df[col].value_counts(),'\\n')"
   ]
  },
  {
   "cell_type": "code",
   "execution_count": null,
   "metadata": {},
   "outputs": [],
   "source": []
  },
  {
   "cell_type": "code",
   "execution_count": null,
   "metadata": {
    "ExecuteTime": {
     "end_time": "2020-02-24T09:18:26.478849Z",
     "start_time": "2020-02-24T09:18:00.726Z"
    }
   },
   "outputs": [],
   "source": [
    "# Create datetime objects for each time (a and b)\n",
    "dateTimeA = datetime.datetime.combine(datetime.date.today(), a)\n",
    "dateTimeB = datetime.datetime.combine(datetime.date.today(), b)\n",
    "# Get the difference between datetimes (as timedelta)\n",
    "dateTimeDifference = dateTimeA - dateTimeB\n",
    "# Divide difference in seconds by number of seconds in hour (3600)  \n",
    "dateTimeDifferenceInHours = dateTimeDifference.total_seconds() / 3600"
   ]
  },
  {
   "cell_type": "code",
   "execution_count": null,
   "metadata": {
    "ExecuteTime": {
     "end_time": "2020-02-24T09:18:26.481404Z",
     "start_time": "2020-02-24T09:18:00.732Z"
    },
    "code_folding": []
   },
   "outputs": [],
   "source": [
    "# df = df.apply(lambda x: x.astype(str).str.lower())\n",
    "# df = df.apply(lambda x: x.astype(str).str.strip())\n",
    "# df = df.apply(lambda x: x.astype(str).str.replace(' ', '_'))\n",
    "# df.replace('nan', np.NaN, inplace=True)\n",
    "# df.replace('nat', np.NaN, inplace=True)"
   ]
  },
  {
   "cell_type": "code",
   "execution_count": null,
   "metadata": {
    "ExecuteTime": {
     "end_time": "2020-02-24T09:18:26.484229Z",
     "start_time": "2020-02-24T09:18:00.738Z"
    },
    "code_folding": []
   },
   "outputs": [],
   "source": [
    "# # maybe creating list of dog breeds, if wanting to analyze seperately from other animals\n",
    "# dogs = ('pit', 'labrador', 'terrier', 'german_shepherd', 'shepherd', 'chihuahua', 'hound', 'rott'\n",
    "#         , 'boxer', 'beagle', 'catahoula', 'chow', 'shih_tzu', 'dachshund', 'retriever', 'husky'\n",
    "#         , 'yorkshire_terrier', 'american_bulldog', 'poodle', 'australian_shepherd', 'poodle_min/toy'\n",
    "#         , 'collie', 'pomeranian', 'mastiff', 'golden_retriever', 'maltese', 'cocker_spaniel', 'healer'\n",
    "#         , 'doberman_pinscher', 'miniature_pinscher', 'border_collie', 'schnauzer', 'great_dane'\n",
    "#         , 'rat_terrier', 'akita', 'jack_russel_terrier', 'bulldog_english', 'spaniel', 'doberman'\n",
    "#         , 'pug', 'pekingese', 'basset', 'dalmation', 'boston', 'weimeraner', 'lhasa_apso', 'pointer'\n",
    "#         , 'rhodesian_ridgeback', 'sharpei', 'great_pyrenees', 'bull_terrier', 'bichons_frise', 'bloodhound'\n",
    "#         , 'saint_bernard', 'springer_spaniel', 'sheepdog', 'alaskan_malamute', 'scottish_terrier'\n",
    "#         , 'cairn_terrier', 'staffordshire_bull_terrier', 'setter', 'sheltie', 'cane_corso', 'whippet'\n",
    "#         ,  'basenji', 'spitz', 'greyhound', 'walker_hound', 'siberian_husky', 'west_highland_terrier'\n",
    "#         , 'american_eskimo', 'bull_mastiff', 'brittany', 'bluetick_hound', 'foxhound', 'australian_cattle'\n",
    "#         , 'american_staffordshire_terrier', 'bulldog_french', 'australian_blue_heeler', 'bourvier_des_flanders'\n",
    "#         , 'fox_terrier', 'wolf', 'coonhound', 'norweigian_elkhound')"
   ]
  },
  {
   "cell_type": "code",
   "execution_count": null,
   "metadata": {
    "ExecuteTime": {
     "end_time": "2020-02-24T09:18:26.486646Z",
     "start_time": "2020-02-24T09:18:00.744Z"
    },
    "code_folding": []
   },
   "outputs": [],
   "source": [
    "## nevermind -but may try to fix later for more universal functions to replace strings/ sequential characters\n",
    "#\n",
    "# #     for old_word in old_words:\n",
    "# #         try:\n",
    "# #            data = data.apply(lambda x: x.astype(str).str.replace(old_word, replacement_word))\n",
    "#         for old_word in old_words:\n",
    "#            data = data.apply(lambda x: x.replace(old_word, replacement_word))\n",
    "            \n",
    "# #        except:\n",
    "# #            data = data.str.replace(old_word, replacement_word)\n",
    "#\n",
    "# def replace_breed(old_words, replacement_word):\n",
    "#     for word in old_words:\n",
    "#         df['breed'] = df.breed.apply(lambda x: x.replace(word, replacement_word))\n",
    "#         #for word in old_words:\n",
    "#           #  data = data.apply(lambda x: x.replace(word, replacement_word))"
   ]
  },
  {
   "cell_type": "code",
   "execution_count": null,
   "metadata": {
    "ExecuteTime": {
     "end_time": "2020-02-24T09:18:26.488821Z",
     "start_time": "2020-02-24T09:18:00.749Z"
    },
    "code_folding": []
   },
   "outputs": [],
   "source": [
    "# # (to maximize notebook screen size):\n",
    "# from IPython.core.display import display, HTML\n",
    "# display(HTML(\"<style>.container { width:100% !important; }</style>\"))"
   ]
  },
  {
   "cell_type": "code",
   "execution_count": null,
   "metadata": {
    "ExecuteTime": {
     "end_time": "2020-02-24T09:18:26.491183Z",
     "start_time": "2020-02-24T09:18:00.755Z"
    },
    "code_folding": [
     0
    ]
   },
   "outputs": [],
   "source": [
    "# #sns overlapping distplot\n",
    "# def comp_counts(cols, labels):\n",
    "#     sns.set(rc={'figure.figsize':(10, 5)})\n",
    "#     plt.xlim(-5,100)\n",
    "#     plt.title(\"times\")\n",
    "#     for col, label in zip(cols, labels):\n",
    "#         sns.distplot(df[col].value_counts(), label=label, bins=40)\n",
    "#     plt.legend()\n",
    "#     plt.show();"
   ]
  },
  {
   "cell_type": "code",
   "execution_count": null,
   "metadata": {},
   "outputs": [],
   "source": []
  },
  {
   "cell_type": "code",
   "execution_count": null,
   "metadata": {},
   "outputs": [],
   "source": []
  },
  {
   "cell_type": "code",
   "execution_count": null,
   "metadata": {
    "ExecuteTime": {
     "end_time": "2020-02-24T09:18:26.494216Z",
     "start_time": "2020-02-24T09:18:00.768Z"
    }
   },
   "outputs": [],
   "source": [
    "\n",
    "# [re.sub('[^A-Za-z/]+','', i) for i in df.breed]\n",
    "\n",
    "# # # removing digits\n",
    "# # def remove(list): \n",
    "# #     pattern = '[0-9]'\n",
    "# #     list = [re.sub(pattern, '', i) for i in list] \n",
    "# #     return list\n",
    "# # df['color'] = (remove(df.color))\n",
    "\n",
    "# # replacing extra punctuations with '/'  (** look into more efficient regex methods**)\n",
    "# characters = ('�','_',\"'\", '-', '(', ')', '.', '\\\\', ',,', ',,,', '_/_', ' ', '  ', '//')\n",
    "\n",
    "# edit_replace(characters, '/')"
   ]
  },
  {
   "cell_type": "code",
   "execution_count": null,
   "metadata": {
    "ExecuteTime": {
     "end_time": "2020-02-24T09:18:26.497012Z",
     "start_time": "2020-02-24T09:18:00.774Z"
    }
   },
   "outputs": [],
   "source": [
    "# # [^\\P{P}-]+\n",
    "\n",
    "# # #re.sub('[^A-Za-z/]+', '',df.breed)\n",
    "# # def remove_numpunc(list): \n",
    "# #     pattern = '[^A-Za-z/]+'\n",
    "# #     list = [re.sub(pattern, '', i) for i in list] \n",
    "# #     return list\n",
    "# # # df['color'] = (remove(df.color))\n",
    "# remove_numpunc(df.color)"
   ]
  },
  {
   "cell_type": "code",
   "execution_count": null,
   "metadata": {
    "ExecuteTime": {
     "end_time": "2020-02-24T09:18:26.500290Z",
     "start_time": "2020-02-24T09:18:00.779Z"
    }
   },
   "outputs": [],
   "source": [
    "# alph_cols = df['color'].str.split('/')\n",
    "# alph_cols = alph_cols.str()\n",
    "# #alph_cols = alph_cols.sort()\n",
    "\n",
    "# alpha_cols.apply(lambda x: x.replace(word, replacement_word))\n",
    "# #df.color.apply(lambda x: x.replace(word, replacement_word))\n",
    "\n",
    "# df['color'].apply(lambda x: ','.join(sorted(x.split(','))))\n",
    "\n",
    "# result = df.color.sort_values().apply(lambda x: sorted(x))\n",
    "# result = pd.DataFrame(result).reset_index(drop=True)\n",
    "# result\n",
    "\n",
    "\n",
    "\n",
    "#df['color'].str.split('/')"
   ]
  },
  {
   "cell_type": "code",
   "execution_count": null,
   "metadata": {
    "ExecuteTime": {
     "end_time": "2020-02-24T09:18:26.502573Z",
     "start_time": "2020-02-24T09:18:00.785Z"
    }
   },
   "outputs": [],
   "source": [
    "# # for alphabetizing strings within values\n",
    "# df['color'] = ['/'.join(sorted(i.split(','))) for i in df['color']]\n",
    "\n",
    "#['/'.join(sorted(i.split(','))) for i in df['color']]"
   ]
  },
  {
   "cell_type": "code",
   "execution_count": null,
   "metadata": {},
   "outputs": [],
   "source": []
  },
  {
   "cell_type": "code",
   "execution_count": null,
   "metadata": {
    "ExecuteTime": {
     "end_time": "2020-02-24T09:18:26.505347Z",
     "start_time": "2020-02-24T09:18:00.794Z"
    }
   },
   "outputs": [],
   "source": [
    "df[df.duplicated()]"
   ]
  },
  {
   "cell_type": "markdown",
   "metadata": {
    "heading_collapsed": true
   },
   "source": [
    "####  IGNORE:  *Pet names (just for fun)"
   ]
  },
  {
   "cell_type": "markdown",
   "metadata": {
    "hidden": true
   },
   "source": [
    "Dropping columns with few non-nulls, but curious about Baton Rouge's most common pet names, keeping in mind only 1% of incident reports included a name."
   ]
  },
  {
   "cell_type": "code",
   "execution_count": null,
   "metadata": {
    "ExecuteTime": {
     "end_time": "2020-02-24T09:18:26.508132Z",
     "start_time": "2020-02-24T09:18:00.802Z"
    },
    "hidden": true,
    "scrolled": false
   },
   "outputs": [],
   "source": [
    "df.pet_name.value_counts().head(15)"
   ]
  },
  {
   "cell_type": "markdown",
   "metadata": {
    "hidden": true
   },
   "source": [
    "'Max' and 'Coco' are tied at 17, but most lie within the single digits. One would assume most of these correspond to 'dog' or 'cat' species, do they satisfy that assumption?"
   ]
  },
  {
   "cell_type": "code",
   "execution_count": null,
   "metadata": {
    "ExecuteTime": {
     "end_time": "2020-02-24T09:18:26.511716Z",
     "start_time": "2020-02-24T09:18:00.810Z"
    },
    "hidden": true,
    "scrolled": false
   },
   "outputs": [],
   "source": [
    "# percent of names provided in relation to species\n",
    "p_names_only = df[['pet_name','species']]\n",
    "p_names_only = p_names_only.dropna()\n",
    "p_name_ratio = p_names_only['species'].value_counts()/df['species'].value_counts()\n",
    "p_name_ratio.plot.bar();"
   ]
  },
  {
   "cell_type": "markdown",
   "metadata": {
    "hidden": true
   },
   "source": [
    "Of the dataset as a whole, these are the percentages of species with names included in reports. It looks like livestock incident reports included names more often than cats. Not surprisingly, dogs overwhelmingly had their names included in the incident reports. \n",
    "\n",
    "However, due to the amount of missing data, no justifiable conclusions can be made from this alone. "
   ]
  },
  {
   "cell_type": "markdown",
   "metadata": {
    "hidden": true
   },
   "source": [
    "___\n",
    "another 'just for fun' thing:\n",
    "looking at the disposition of animals with names on report:"
   ]
  },
  {
   "cell_type": "code",
   "execution_count": null,
   "metadata": {
    "ExecuteTime": {
     "end_time": "2020-02-24T09:18:26.514397Z",
     "start_time": "2020-02-24T09:18:00.819Z"
    },
    "hidden": true
   },
   "outputs": [],
   "source": [
    "# percent of names provided in relation to species\n",
    "d_names_only = df[['pet_name','temperment']]\n",
    "d_names_only = d_names_only.dropna()\n",
    "d_name_ratio = d_names_only['temperment'].value_counts()/df['temperment'].value_counts()\n",
    "d_name_ratio.plot.bar();"
   ]
  },
  {
   "cell_type": "markdown",
   "metadata": {},
   "source": [
    "# experimental joining dataset"
   ]
  },
  {
   "cell_type": "markdown",
   "metadata": {},
   "source": [
    "## crime and unemployment"
   ]
  },
  {
   "cell_type": "code",
   "execution_count": null,
   "metadata": {
    "ExecuteTime": {
     "end_time": "2020-02-24T09:18:26.516613Z",
     "start_time": "2020-02-24T09:18:00.826Z"
    }
   },
   "outputs": [],
   "source": [
    "# crime_df = pd.read_csv('Baton_Rouge_Crime_Incidents.csv')"
   ]
  },
  {
   "cell_type": "code",
   "execution_count": null,
   "metadata": {
    "ExecuteTime": {
     "end_time": "2020-02-24T09:18:26.519458Z",
     "start_time": "2020-02-24T09:18:00.832Z"
    }
   },
   "outputs": [],
   "source": [
    "# unemp_df = pd.read_csv('BATO922URN.csv')"
   ]
  },
  {
   "cell_type": "code",
   "execution_count": null,
   "metadata": {
    "ExecuteTime": {
     "end_time": "2020-02-24T09:18:26.522035Z",
     "start_time": "2020-02-24T09:18:00.837Z"
    }
   },
   "outputs": [],
   "source": [
    "# crime_df.head()"
   ]
  },
  {
   "cell_type": "code",
   "execution_count": null,
   "metadata": {
    "ExecuteTime": {
     "end_time": "2020-02-24T09:18:26.524468Z",
     "start_time": "2020-02-24T09:18:00.842Z"
    }
   },
   "outputs": [],
   "source": [
    "# crime_df.info()"
   ]
  },
  {
   "cell_type": "code",
   "execution_count": null,
   "metadata": {
    "ExecuteTime": {
     "end_time": "2020-02-24T09:18:26.526936Z",
     "start_time": "2020-02-24T09:18:00.848Z"
    }
   },
   "outputs": [],
   "source": [
    "# crime_df = pd.read_csv('Baton_Rouge_Crime_Incidents.csv')"
   ]
  },
  {
   "cell_type": "code",
   "execution_count": null,
   "metadata": {
    "ExecuteTime": {
     "end_time": "2020-02-24T09:18:26.530145Z",
     "start_time": "2020-02-24T09:18:00.854Z"
    }
   },
   "outputs": [],
   "source": [
    "# unemp_df = pd.read_csv('BATO922URN.csv')"
   ]
  },
  {
   "cell_type": "code",
   "execution_count": null,
   "metadata": {
    "ExecuteTime": {
     "end_time": "2020-02-24T09:18:26.532335Z",
     "start_time": "2020-02-24T09:18:00.860Z"
    }
   },
   "outputs": [],
   "source": [
    "# crime_df.offense_time"
   ]
  },
  {
   "cell_type": "code",
   "execution_count": null,
   "metadata": {
    "ExecuteTime": {
     "end_time": "2020-02-24T09:18:26.534990Z",
     "start_time": "2020-02-24T09:18:00.865Z"
    }
   },
   "outputs": [],
   "source": [
    "# removing spaces and lower casing the column names\n",
    "crime_df.columns = crime_df.columns.str.lower()\n",
    "crime_df.columns = crime_df.columns.str.strip()\n",
    "crime_df.columns = crime_df.columns.str.replace(' ', '_')"
   ]
  },
  {
   "cell_type": "code",
   "execution_count": null,
   "metadata": {
    "ExecuteTime": {
     "end_time": "2020-02-24T09:18:26.537237Z",
     "start_time": "2020-02-24T09:18:00.871Z"
    }
   },
   "outputs": [],
   "source": [
    "# time columns to list\n",
    "time_cols= [col for col in crime_df.columns if 'time' in col]\n",
    "\n",
    "# covert time to hour/minute datetime format\n",
    "for col in time_cols:\n",
    "    crime_df[col] = pd.to_datetime(crime_df[col], errors='ignore', format=\"%H:%M\")\n",
    "    #.dt.time"
   ]
  },
  {
   "cell_type": "code",
   "execution_count": null,
   "metadata": {
    "ExecuteTime": {
     "end_time": "2020-02-24T09:18:26.539529Z",
     "start_time": "2020-02-24T09:18:00.876Z"
    }
   },
   "outputs": [],
   "source": [
    "# impound date + impound time = impound datetime\n",
    "crime_df['datetime'] = pd.to_datetime(crime_df['offense_date'].apply(str)+' '+crime_df['offense_time'], errors ='ignore')"
   ]
  },
  {
   "cell_type": "code",
   "execution_count": null,
   "metadata": {},
   "outputs": [],
   "source": []
  },
  {
   "cell_type": "code",
   "execution_count": null,
   "metadata": {},
   "outputs": [],
   "source": []
  }
 ],
 "metadata": {
  "hide_input": false,
  "kernelspec": {
   "display_name": "Python 3",
   "language": "python",
   "name": "python3"
  },
  "language_info": {
   "codemirror_mode": {
    "name": "ipython",
    "version": 3
   },
   "file_extension": ".py",
   "mimetype": "text/x-python",
   "name": "python",
   "nbconvert_exporter": "python",
   "pygments_lexer": "ipython3",
   "version": "3.7.3"
  },
  "toc": {
   "base_numbering": 1,
   "nav_menu": {},
   "number_sections": true,
   "sideBar": true,
   "skip_h1_title": false,
   "title_cell": "Table of Contents",
   "title_sidebar": "Contents",
   "toc_cell": false,
   "toc_position": {
    "height": "calc(100% - 180px)",
    "left": "10px",
    "top": "150px",
    "width": "165px"
   },
   "toc_section_display": true,
   "toc_window_display": true
  }
 },
 "nbformat": 4,
 "nbformat_minor": 2
}
