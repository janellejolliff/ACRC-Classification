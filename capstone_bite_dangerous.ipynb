{
 "cells": [
  {
   "cell_type": "markdown",
   "metadata": {},
   "source": [
    "Using the animal control incident call log, I've selected the dog species as a target, using only color, breed, and size for predictive features in attempt to predict a dangerous/bite situation, or a non-dangerous situation. I would like to think that the color, size, and breed of a dog isn't as deterministic of it's risk/lack of risk of harming others, but I will approach this with the goal of finding otherwise."
   ]
  },
  {
   "cell_type": "markdown",
   "metadata": {},
   "source": [
    "## import libraries, packages, data"
   ]
  },
  {
   "cell_type": "markdown",
   "metadata": {},
   "source": [
    "### libraries, packages"
   ]
  },
  {
   "cell_type": "code",
   "execution_count": 1,
   "metadata": {
    "ExecuteTime": {
     "end_time": "2020-03-04T10:14:57.324392Z",
     "start_time": "2020-03-04T10:14:56.127085Z"
    },
    "code_folding": []
   },
   "outputs": [],
   "source": [
    "#import\n",
    "import pandas as pd\n",
    "import numpy as np\n",
    "# import seaborn as sns\n",
    "# sns.set(style='darkgrid')\n",
    "import matplotlib.pyplot as plt\n",
    "# %matplotlib inline\n",
    "# import pandas_profiling\n",
    "# import datetime\n",
    "# import re\n",
    "# import pprint\n",
    "# pp = pprint.PrettyPrinter(indent=4)\n",
    "# from collections import Counter\n",
    "import warnings\n",
    "warnings.filterwarnings('ignore')\n",
    "\n",
    "#display multiple outputs from cell \n",
    "from IPython.core.interactiveshell import InteractiveShell\n",
    "InteractiveShell.ast_node_interactivity = \"all\""
   ]
  },
  {
   "cell_type": "code",
   "execution_count": 2,
   "metadata": {
    "ExecuteTime": {
     "end_time": "2020-03-04T10:15:02.724169Z",
     "start_time": "2020-03-04T10:14:57.328692Z"
    },
    "code_folding": []
   },
   "outputs": [
    {
     "name": "stderr",
     "output_type": "stream",
     "text": [
      "Using TensorFlow backend.\n"
     ]
    }
   ],
   "source": [
    "#importing libraries & packages\n",
    "import pandas as pd\n",
    "import numpy as np\n",
    "import warnings\n",
    "warnings.filterwarnings('ignore')\n",
    "\n",
    "#display multiple outputs from cell \n",
    "from IPython.core.interactiveshell import InteractiveShell\n",
    "InteractiveShell.ast_node_interactivity = \"all\"\n",
    "\n",
    "# machine learning\n",
    "import sklearn\n",
    "from sklearn.model_selection import train_test_split, GridSearchCV, cross_val_score, RandomizedSearchCV\n",
    "from sklearn.ensemble import RandomForestClassifier, AdaBoostClassifier, ExtraTreesClassifier, GradientBoostingClassifier\n",
    "from sklearn.pipeline import Pipeline, make_pipeline\n",
    "from sklearn.metrics import confusion_matrix, precision_score, recall_score, accuracy_score, f1_score, classification_report\n",
    "from sklearn.linear_model import LogisticRegression\n",
    "from sklearn.utils import resample\n",
    "from imblearn.over_sampling import ADASYN, SMOTE\n",
    "from sklearn.feature_selection import SelectKBest, chi2\n",
    "from sklearn import svm\n",
    "from imblearn.over_sampling import SMOTE\n",
    "from imblearn.under_sampling import RandomUnderSampler\n",
    "from imblearn.pipeline import Pipeline\n",
    "from xgboost import XGBClassifier\n",
    "from sklearn.tree import DecisionTreeClassifier\n",
    "from sklearn.metrics import plot_confusion_matrix"
   ]
  },
  {
   "cell_type": "markdown",
   "metadata": {},
   "source": [
    "### import clean data from part 1"
   ]
  },
  {
   "cell_type": "code",
   "execution_count": 3,
   "metadata": {
    "ExecuteTime": {
     "end_time": "2020-03-04T10:15:03.728232Z",
     "start_time": "2020-03-04T10:15:02.727669Z"
    }
   },
   "outputs": [],
   "source": [
    "# import Animal Control Incidents df\n",
    "df = pd.read_csv('a_control.csv')"
   ]
  },
  {
   "cell_type": "code",
   "execution_count": 4,
   "metadata": {
    "ExecuteTime": {
     "end_time": "2020-03-04T10:15:03.741418Z",
     "start_time": "2020-03-04T10:15:03.731937Z"
    }
   },
   "outputs": [],
   "source": [
    "#df.info()"
   ]
  },
  {
   "cell_type": "code",
   "execution_count": 5,
   "metadata": {
    "ExecuteTime": {
     "end_time": "2020-03-04T10:15:04.217903Z",
     "start_time": "2020-03-04T10:15:03.779703Z"
    }
   },
   "outputs": [
    {
     "data": {
      "text/plain": [
       "loose_stray       12511\n",
       "cruelty            1957\n",
       "bite_dangerous     1878\n",
       "sick_inj           1368\n",
       "owned              1321\n",
       "trapped_animal     1042\n",
       "patrol              712\n",
       "school_call         172\n",
       "other                93\n",
       "pit                   8\n",
       "snake                 4\n",
       "pick_up_trap          1\n",
       "Name: service_type, dtype: int64"
      ]
     },
     "execution_count": 5,
     "metadata": {},
     "output_type": "execute_result"
    }
   ],
   "source": [
    "df = df[df['species']=='dog']\n",
    "\n",
    "df.service_type.value_counts()\n",
    "\n",
    "df = df[['breed', 'size', 'color', 'service_type']]\n",
    "\n",
    "for word in ('loose_stray', 'sick_inj', 'owned', 'trapped_animal', 'patrol', 'school_call'\n",
    "            ,'other', 'pit', 'snake', 'pick_up_trap', 'cruelty'):\n",
    "    df['service_type'] = df['service_type'].replace(word, 'not_bite/dang')\n",
    "\n",
    "df=df.dropna()"
   ]
  },
  {
   "cell_type": "code",
   "execution_count": 6,
   "metadata": {
    "ExecuteTime": {
     "end_time": "2020-03-04T10:15:04.467480Z",
     "start_time": "2020-03-04T10:15:04.224612Z"
    },
    "code_folding": []
   },
   "outputs": [],
   "source": [
    "# # assign target\n",
    "y = df[\"service_type\"]\n",
    "\n",
    "#remove target from features\n",
    "df.drop(columns= ['service_type'], axis=1, inplace=True)\n",
    "\n",
    "# dummy categorical features\n",
    "#col_list = list(df.select_dtypes(include=['object']).columns)\n",
    "col_list = list(df.columns)\n",
    "\n",
    "# create dummies for categorical features, assign to X\n",
    "df = pd.DataFrame(pd.get_dummies(data=df, drop_first=True\n",
    "                   , prefix=col_list))\n",
    "X = df\n"
   ]
  },
  {
   "cell_type": "code",
   "execution_count": 7,
   "metadata": {
    "ExecuteTime": {
     "end_time": "2020-03-04T10:15:04.550510Z",
     "start_time": "2020-03-04T10:15:04.470671Z"
    }
   },
   "outputs": [],
   "source": [
    "\n",
    "# X_train_d and y_train_d = using original standard test train spit dad\n",
    "# that way, I can try out different resampling methods\n",
    "X_train, X_test, y_train, y_test = train_test_split(X, y, test_size=0.3, shuffle=True, stratify=y, random_state=33)"
   ]
  },
  {
   "cell_type": "markdown",
   "metadata": {},
   "source": [
    "### functions"
   ]
  },
  {
   "cell_type": "code",
   "execution_count": 8,
   "metadata": {
    "ExecuteTime": {
     "end_time": "2020-03-04T10:15:04.567381Z",
     "start_time": "2020-03-04T10:15:04.553939Z"
    },
    "code_folding": [
     1
    ]
   },
   "outputs": [],
   "source": [
    "# print model report\n",
    "def model_report(model): \n",
    "    \n",
    "    print('\\nCross Validation Scoring:\\n')\n",
    "    \n",
    "    train_score = model.score(X_train, y_train)\n",
    "    print(\"train score: {:.4}%\".format(train_score * 100))\n",
    "\n",
    "    test_score = model.score(X_test, y_test)\n",
    "    print(\"test score: {:.4}%\".format(test_score * 100))\n",
    "   \n",
    "    cv_score = np.mean(cross_val_score(model, X, y, cv=3))\n",
    "    print(\"cross val score: {:.4}%\".format(cv_score * 100))\n",
    "\n",
    "    print(\"\\nClassification Report:\")\n",
    "    print(classification_report(actuals, predictions))\n",
    "        \n",
    "\n",
    "    col_list = []\n",
    "    ind_list = []                     \n",
    "\n",
    "    for x in y_test.unique():\n",
    "        col_list.append('pred_'+ x)\n",
    "        ind_list.append('real_'+x) \n",
    "\n",
    "    print('\\nConfusion matrix:'.format(accuracy_score))\n",
    "    display(pd.DataFrame(confusion_matrix(y_test, predictions)\n",
    "                             , columns=col_list, index=ind_list))\n"
   ]
  },
  {
   "cell_type": "code",
   "execution_count": 9,
   "metadata": {
    "ExecuteTime": {
     "end_time": "2020-03-04T10:15:04.580768Z",
     "start_time": "2020-03-04T10:15:04.570768Z"
    },
    "code_folding": [
     0
    ]
   },
   "outputs": [],
   "source": [
    "def plot_feats(model):\n",
    "    n_features = X.shape[1]\n",
    "    plt.figure(figsize=(8,10))\n",
    "#     plt.barh(range(n_features), model.feature_importances_, align='center') \n",
    "#     plt.yticks(np.arange(n_features), (X.columns.values)) \n",
    "#     plt.xlabel(\"Feature importance\")\n",
    "#     plt.ylabel(\"Feature\")\n",
    "    feat_importances = pd.Series(model.feature_importances_, index=X.columns)\n",
    "    feat_importances.nlargest(25).plot(kind='barh');\n",
    "    plt.show();"
   ]
  },
  {
   "cell_type": "code",
   "execution_count": 22,
   "metadata": {
    "ExecuteTime": {
     "end_time": "2020-03-04T17:59:04.363899Z",
     "start_time": "2020-03-04T17:59:04.358272Z"
    },
    "code_folding": []
   },
   "outputs": [],
   "source": [
    "def plot_matrix(classifier):\n",
    "\n",
    "    disp = plot_confusion_matrix(classifier, X_test, y_test,\n",
    "    #                                  display_labels=class_names,\n",
    "                                     cmap=plt.cm.Blues,\n",
    "                                     normalize='true')\n",
    "    plt.show();\n"
   ]
  },
  {
   "cell_type": "markdown",
   "metadata": {},
   "source": [
    "## prep data"
   ]
  },
  {
   "cell_type": "markdown",
   "metadata": {},
   "source": [
    "### resampling"
   ]
  },
  {
   "cell_type": "markdown",
   "metadata": {},
   "source": [
    "Due to the imbalance of class data, it could be beneficial to resample to compensate for the missing data. Using smote to oversample, then random undersampling is a common practice in these circumstances\n",
    "\n"
   ]
  },
  {
   "cell_type": "code",
   "execution_count": 11,
   "metadata": {
    "ExecuteTime": {
     "end_time": "2020-03-04T10:15:04.742093Z",
     "start_time": "2020-03-04T10:15:04.594612Z"
    }
   },
   "outputs": [],
   "source": [
    "over = SMOTE(sampling_strategy='minority', random_state=3)\n",
    "under = RandomUnderSampler( sampling_strategy='majority',\n",
    "    random_state=3)\n",
    "steps = [('o', over), ('u', under)]\n",
    "pipeline = Pipeline(steps=steps)\n",
    "# # transform the dataset\n",
    "X_train, y_train = under.fit_resample(X_train, y_train)"
   ]
  },
  {
   "cell_type": "code",
   "execution_count": 12,
   "metadata": {
    "ExecuteTime": {
     "end_time": "2020-03-04T10:15:04.756203Z",
     "start_time": "2020-03-04T10:15:04.744880Z"
    }
   },
   "outputs": [
    {
     "name": "stdout",
     "output_type": "stream",
     "text": [
      "bite_dangerous    1261\n",
      "not_bite/dang     1261\n",
      "Name: service_type, dtype: int64\n"
     ]
    }
   ],
   "source": [
    "print (y_train.value_counts())"
   ]
  },
  {
   "cell_type": "markdown",
   "metadata": {},
   "source": [
    "## __modeling__"
   ]
  },
  {
   "cell_type": "markdown",
   "metadata": {},
   "source": [
    "Logistic Regression basic default model"
   ]
  },
  {
   "cell_type": "code",
   "execution_count": 13,
   "metadata": {
    "ExecuteTime": {
     "end_time": "2020-03-04T10:15:08.987955Z",
     "start_time": "2020-03-04T10:15:04.759520Z"
    },
    "scrolled": true
   },
   "outputs": [
    {
     "data": {
      "text/plain": [
       "LogisticRegression(C=1.0, class_weight=None, dual=False, fit_intercept=True,\n",
       "                   intercept_scaling=1, l1_ratio=None, max_iter=100,\n",
       "                   multi_class='auto', n_jobs=None, penalty='l2',\n",
       "                   random_state=3, solver='lbfgs', tol=0.0001, verbose=0,\n",
       "                   warm_start=False)"
      ]
     },
     "execution_count": 13,
     "metadata": {},
     "output_type": "execute_result"
    },
    {
     "name": "stdout",
     "output_type": "stream",
     "text": [
      "\n",
      "Cross Validation Scoring:\n",
      "\n",
      "train score: 64.16%\n",
      "test score: 63.53%\n",
      "cross val score: 91.04%\n",
      "\n",
      "Classification Report:\n",
      "                precision    recall  f1-score   support\n",
      "\n",
      "bite_dangerous       0.14      0.57      0.22       540\n",
      " not_bite/dang       0.94      0.64      0.76      5495\n",
      "\n",
      "      accuracy                           0.64      6035\n",
      "     macro avg       0.54      0.61      0.49      6035\n",
      "  weighted avg       0.87      0.64      0.71      6035\n",
      "\n",
      "\n",
      "Confusion matrix:\n"
     ]
    },
    {
     "data": {
      "text/html": [
       "<div>\n",
       "<style scoped>\n",
       "    .dataframe tbody tr th:only-of-type {\n",
       "        vertical-align: middle;\n",
       "    }\n",
       "\n",
       "    .dataframe tbody tr th {\n",
       "        vertical-align: top;\n",
       "    }\n",
       "\n",
       "    .dataframe thead th {\n",
       "        text-align: right;\n",
       "    }\n",
       "</style>\n",
       "<table border=\"1\" class=\"dataframe\">\n",
       "  <thead>\n",
       "    <tr style=\"text-align: right;\">\n",
       "      <th></th>\n",
       "      <th>pred_bite_dangerous</th>\n",
       "      <th>pred_not_bite/dang</th>\n",
       "    </tr>\n",
       "  </thead>\n",
       "  <tbody>\n",
       "    <tr>\n",
       "      <th>real_bite_dangerous</th>\n",
       "      <td>308</td>\n",
       "      <td>232</td>\n",
       "    </tr>\n",
       "    <tr>\n",
       "      <th>real_not_bite/dang</th>\n",
       "      <td>1969</td>\n",
       "      <td>3526</td>\n",
       "    </tr>\n",
       "  </tbody>\n",
       "</table>\n",
       "</div>"
      ],
      "text/plain": [
       "                     pred_bite_dangerous  pred_not_bite/dang\n",
       "real_bite_dangerous                  308                 232\n",
       "real_not_bite/dang                  1969                3526"
      ]
     },
     "metadata": {},
     "output_type": "display_data"
    }
   ],
   "source": [
    "lr = LogisticRegression(random_state=3)\n",
    "lr.fit(X_train, y_train)\n",
    " \n",
    "# Predict on training set\n",
    "predictions = lr.predict(X_test)\n",
    "actuals = y_test\n",
    "\n",
    "model_report(lr)"
   ]
  },
  {
   "cell_type": "markdown",
   "metadata": {},
   "source": [
    "### decision tree"
   ]
  },
  {
   "cell_type": "markdown",
   "metadata": {},
   "source": [
    "__default model__"
   ]
  },
  {
   "cell_type": "code",
   "execution_count": 14,
   "metadata": {
    "ExecuteTime": {
     "end_time": "2020-03-04T10:15:11.725783Z",
     "start_time": "2020-03-04T10:15:08.996365Z"
    }
   },
   "outputs": [
    {
     "data": {
      "text/plain": [
       "DecisionTreeClassifier(ccp_alpha=0.0, class_weight=None, criterion='gini',\n",
       "                       max_depth=None, max_features=None, max_leaf_nodes=None,\n",
       "                       min_impurity_decrease=0.0, min_impurity_split=None,\n",
       "                       min_samples_leaf=1, min_samples_split=2,\n",
       "                       min_weight_fraction_leaf=0.0, presort='deprecated',\n",
       "                       random_state=3, splitter='best')"
      ]
     },
     "execution_count": 14,
     "metadata": {},
     "output_type": "execute_result"
    },
    {
     "name": "stdout",
     "output_type": "stream",
     "text": [
      "\n",
      "Cross Validation Scoring:\n",
      "\n",
      "train score: 72.72%\n",
      "test score: 52.44%\n",
      "cross val score: 90.0%\n",
      "\n",
      "Classification Report:\n",
      "                precision    recall  f1-score   support\n",
      "\n",
      "bite_dangerous       0.11      0.62      0.19       540\n",
      " not_bite/dang       0.93      0.52      0.66      5495\n",
      "\n",
      "      accuracy                           0.52      6035\n",
      "     macro avg       0.52      0.57      0.43      6035\n",
      "  weighted avg       0.86      0.52      0.62      6035\n",
      "\n",
      "\n",
      "Confusion matrix:\n"
     ]
    },
    {
     "data": {
      "text/html": [
       "<div>\n",
       "<style scoped>\n",
       "    .dataframe tbody tr th:only-of-type {\n",
       "        vertical-align: middle;\n",
       "    }\n",
       "\n",
       "    .dataframe tbody tr th {\n",
       "        vertical-align: top;\n",
       "    }\n",
       "\n",
       "    .dataframe thead th {\n",
       "        text-align: right;\n",
       "    }\n",
       "</style>\n",
       "<table border=\"1\" class=\"dataframe\">\n",
       "  <thead>\n",
       "    <tr style=\"text-align: right;\">\n",
       "      <th></th>\n",
       "      <th>pred_bite_dangerous</th>\n",
       "      <th>pred_not_bite/dang</th>\n",
       "    </tr>\n",
       "  </thead>\n",
       "  <tbody>\n",
       "    <tr>\n",
       "      <th>real_bite_dangerous</th>\n",
       "      <td>333</td>\n",
       "      <td>207</td>\n",
       "    </tr>\n",
       "    <tr>\n",
       "      <th>real_not_bite/dang</th>\n",
       "      <td>2663</td>\n",
       "      <td>2832</td>\n",
       "    </tr>\n",
       "  </tbody>\n",
       "</table>\n",
       "</div>"
      ],
      "text/plain": [
       "                     pred_bite_dangerous  pred_not_bite/dang\n",
       "real_bite_dangerous                  333                 207\n",
       "real_not_bite/dang                  2663                2832"
      ]
     },
     "metadata": {},
     "output_type": "display_data"
    }
   ],
   "source": [
    "# initialize and fit default decision tree\n",
    "dt_model = DecisionTreeClassifier(random_state=3)\n",
    "dt_model.fit(X_train, y_train)\n",
    "predictions = dt_model.predict(X_test)\n",
    "#actuals = y_test\n",
    "\n",
    "model_report(dt_model)"
   ]
  },
  {
   "cell_type": "markdown",
   "metadata": {},
   "source": [
    "#### grid searches"
   ]
  },
  {
   "cell_type": "code",
   "execution_count": 15,
   "metadata": {
    "ExecuteTime": {
     "end_time": "2020-03-04T10:15:23.500159Z",
     "start_time": "2020-03-04T10:15:11.731405Z"
    }
   },
   "outputs": [
    {
     "name": "stdout",
     "output_type": "stream",
     "text": [
      "Fitting 5 folds for each of 100 candidates, totalling 500 fits\n"
     ]
    },
    {
     "name": "stderr",
     "output_type": "stream",
     "text": [
      "[Parallel(n_jobs=-1)]: Using backend LokyBackend with 4 concurrent workers.\n",
      "[Parallel(n_jobs=-1)]: Done  24 tasks      | elapsed:    4.7s\n",
      "[Parallel(n_jobs=-1)]: Done 368 tasks      | elapsed:    9.7s\n"
     ]
    },
    {
     "name": "stdout",
     "output_type": "stream",
     "text": [
      "best score: 60.41%\n",
      "{'min_samples_split': 4, 'min_samples_leaf': 10, 'max_leaf_nodes': None, 'max_features': 80, 'max_depth': 10, 'criterion': 'gini'}\n"
     ]
    },
    {
     "name": "stderr",
     "output_type": "stream",
     "text": [
      "[Parallel(n_jobs=-1)]: Done 500 out of 500 | elapsed:   11.7s finished\n"
     ]
    }
   ],
   "source": [
    "# set random search params\n",
    "criterion=['gini','entropy']\n",
    "max_leaf_nodes = [None]\n",
    "max_features = [50,60,65,70,80]\n",
    "max_depth = [5,10,15,20,25]\n",
    "min_samples_split = [1,2,3,4,5]\n",
    "min_samples_leaf = [6,8,10,12,15]\n",
    "\n",
    "random_grid = {'criterion':criterion,\n",
    "               'max_leaf_nodes': max_leaf_nodes,\n",
    "               'max_features': max_features,\n",
    "               'max_depth': max_depth,\n",
    "               'min_samples_split': min_samples_split,\n",
    "               'min_samples_leaf': min_samples_leaf\n",
    "               }\n",
    "\n",
    "# random grid search\n",
    "dt_random = RandomizedSearchCV(estimator = dt_model\n",
    "                               , param_distributions = random_grid\n",
    "                               , n_iter = 100, cv = 5, verbose=3, error_score=0\n",
    "                               , scoring=('f1_macro')\n",
    "                               , random_state=3, n_jobs = -1);\n",
    "# fit random search model\n",
    "dt_random.fit(X_train, y_train);\n",
    "\n",
    "print('best score: {:.4}%'.format(dt_random.best_score_ * 100));\n",
    "print(dt_random.best_params_);"
   ]
  },
  {
   "cell_type": "markdown",
   "metadata": {},
   "source": [
    "__grid search__"
   ]
  },
  {
   "cell_type": "code",
   "execution_count": 16,
   "metadata": {
    "ExecuteTime": {
     "end_time": "2020-03-04T10:17:34.785524Z",
     "start_time": "2020-03-04T10:15:23.503958Z"
    }
   },
   "outputs": [
    {
     "name": "stdout",
     "output_type": "stream",
     "text": [
      "Fitting 5 folds for each of 1000 candidates, totalling 5000 fits\n"
     ]
    },
    {
     "name": "stderr",
     "output_type": "stream",
     "text": [
      "[Parallel(n_jobs=-1)]: Using backend LokyBackend with 4 concurrent workers.\n",
      "[Parallel(n_jobs=-1)]: Done  33 tasks      | elapsed:    5.0s\n",
      "[Parallel(n_jobs=-1)]: Done 272 tasks      | elapsed:    8.8s\n",
      "[Parallel(n_jobs=-1)]: Done 1008 tasks      | elapsed:   25.7s\n",
      "[Parallel(n_jobs=-1)]: Done 2140 tasks      | elapsed:   56.7s\n",
      "[Parallel(n_jobs=-1)]: Done 3600 tasks      | elapsed:  1.7min\n",
      "[Parallel(n_jobs=-1)]: Done 5000 out of 5000 | elapsed:  2.2min finished\n"
     ]
    },
    {
     "data": {
      "text/plain": [
       "GridSearchCV(cv=5, error_score=0,\n",
       "             estimator=DecisionTreeClassifier(ccp_alpha=0.0, class_weight=None,\n",
       "                                              criterion='gini', max_depth=None,\n",
       "                                              max_features=None,\n",
       "                                              max_leaf_nodes=None,\n",
       "                                              min_impurity_decrease=0.0,\n",
       "                                              min_impurity_split=None,\n",
       "                                              min_samples_leaf=1,\n",
       "                                              min_samples_split=2,\n",
       "                                              min_weight_fraction_leaf=0.0,\n",
       "                                              presort='deprecated',\n",
       "                                              random_state=3, splitter='best'),\n",
       "             iid='deprecated', n_jobs=-1,\n",
       "             param_grid={'criterion': ['entropy', 'gini'],\n",
       "                         'max_depth': [15, 16, 17, 18, 20],\n",
       "                         'max_features': [60, 62, 63, 65, 67],\n",
       "                         'max_leaf_nodes': [None],\n",
       "                         'min_samples_leaf': [7, 8, 9, 10],\n",
       "                         'min_samples_split': [1, 2, 3, 4, 5]},\n",
       "             pre_dispatch='2*n_jobs', refit=True, return_train_score=False,\n",
       "             scoring='f1_macro', verbose=2)"
      ]
     },
     "execution_count": 16,
     "metadata": {},
     "output_type": "execute_result"
    },
    {
     "name": "stdout",
     "output_type": "stream",
     "text": [
      "Best score: 60.7%\n",
      "params:\n",
      " {'criterion': 'gini', 'max_depth': 15, 'max_features': 63, 'max_leaf_nodes': None, 'min_samples_leaf': 10, 'min_samples_split': 2}\n"
     ]
    }
   ],
   "source": [
    "# grid search params\n",
    "param_grid_dt = {'criterion': ['entropy', 'gini'],\n",
    "    'max_depth': [15,16,17,18,20],\n",
    "    'min_samples_split': [1,2,3,4,5],\n",
    "    'min_samples_leaf': [7,8,9,10],\n",
    "     'max_features':[60,62,63,65,67],\n",
    "     'max_leaf_nodes':[None]\n",
    "        }\n",
    "\n",
    "# grid search\n",
    "gs_dt = GridSearchCV(estimator=dt_model,param_grid=param_grid_dt,\n",
    "                    error_score=0,scoring=('f1_macro'),\n",
    "                    cv=5, n_jobs=-1, verbose=2)\n",
    "\n",
    "# fitting grid search\n",
    "gs_dt.fit(X_train, y_train)\n",
    "\n",
    "# best parameters\n",
    "print('Best score: {:.3}%'.format(gs_dt.best_score_ * 100))\n",
    "print('params:\\n', gs_dt.best_params_)"
   ]
  },
  {
   "cell_type": "code",
   "execution_count": 17,
   "metadata": {
    "ExecuteTime": {
     "end_time": "2020-03-04T10:17:34.853470Z",
     "start_time": "2020-03-04T10:17:34.789925Z"
    }
   },
   "outputs": [
    {
     "data": {
      "text/plain": [
       "DecisionTreeClassifier(ccp_alpha=0.0, class_weight=None, criterion='entropy',\n",
       "                       max_depth=16, max_features=65, max_leaf_nodes=None,\n",
       "                       min_impurity_decrease=0.0, min_impurity_split=None,\n",
       "                       min_samples_leaf=9, min_samples_split=2,\n",
       "                       min_weight_fraction_leaf=0.0, presort='deprecated',\n",
       "                       random_state=None, splitter='best')"
      ]
     },
     "execution_count": 17,
     "metadata": {},
     "output_type": "execute_result"
    }
   ],
   "source": [
    "# using best params to fit model\n",
    "dt_gs_model = DecisionTreeClassifier(criterion='entropy',\n",
    "                              max_depth=16,\n",
    "                              max_features=65,\n",
    "                              max_leaf_nodes= None,\n",
    "                               min_samples_leaf=9,\n",
    "                               min_samples_split=2\n",
    "                                 )\n",
    "dt_gs_model.fit(X_train, y_train)\n",
    "\n",
    "predictions = dt_gs_model.predict(X_test)\n",
    "actuals = y_test"
   ]
  },
  {
   "cell_type": "markdown",
   "metadata": {},
   "source": [
    "#### final model"
   ]
  },
  {
   "cell_type": "code",
   "execution_count": 18,
   "metadata": {
    "ExecuteTime": {
     "end_time": "2020-03-04T10:17:36.763877Z",
     "start_time": "2020-03-04T10:17:34.856838Z"
    }
   },
   "outputs": [
    {
     "name": "stdout",
     "output_type": "stream",
     "text": [
      "\n",
      "Cross Validation Scoring:\n",
      "\n",
      "train score: 63.08%\n",
      "test score: 62.47%\n",
      "cross val score: 91.05%\n",
      "\n",
      "Classification Report:\n",
      "                precision    recall  f1-score   support\n",
      "\n",
      "bite_dangerous       0.12      0.52      0.20       540\n",
      " not_bite/dang       0.93      0.63      0.75      5495\n",
      "\n",
      "      accuracy                           0.62      6035\n",
      "     macro avg       0.53      0.58      0.48      6035\n",
      "  weighted avg       0.86      0.62      0.71      6035\n",
      "\n",
      "\n",
      "Confusion matrix:\n"
     ]
    },
    {
     "data": {
      "text/html": [
       "<div>\n",
       "<style scoped>\n",
       "    .dataframe tbody tr th:only-of-type {\n",
       "        vertical-align: middle;\n",
       "    }\n",
       "\n",
       "    .dataframe tbody tr th {\n",
       "        vertical-align: top;\n",
       "    }\n",
       "\n",
       "    .dataframe thead th {\n",
       "        text-align: right;\n",
       "    }\n",
       "</style>\n",
       "<table border=\"1\" class=\"dataframe\">\n",
       "  <thead>\n",
       "    <tr style=\"text-align: right;\">\n",
       "      <th></th>\n",
       "      <th>pred_bite_dangerous</th>\n",
       "      <th>pred_not_bite/dang</th>\n",
       "    </tr>\n",
       "  </thead>\n",
       "  <tbody>\n",
       "    <tr>\n",
       "      <th>real_bite_dangerous</th>\n",
       "      <td>283</td>\n",
       "      <td>257</td>\n",
       "    </tr>\n",
       "    <tr>\n",
       "      <th>real_not_bite/dang</th>\n",
       "      <td>2008</td>\n",
       "      <td>3487</td>\n",
       "    </tr>\n",
       "  </tbody>\n",
       "</table>\n",
       "</div>"
      ],
      "text/plain": [
       "                     pred_bite_dangerous  pred_not_bite/dang\n",
       "real_bite_dangerous                  283                 257\n",
       "real_not_bite/dang                  2008                3487"
      ]
     },
     "metadata": {},
     "output_type": "display_data"
    }
   ],
   "source": [
    "model_report(dt_gs_model)"
   ]
  },
  {
   "cell_type": "code",
   "execution_count": 23,
   "metadata": {
    "ExecuteTime": {
     "end_time": "2020-03-04T17:59:10.139952Z",
     "start_time": "2020-03-04T17:59:09.214947Z"
    }
   },
   "outputs": [
    {
     "data": {
      "image/png": "[encoded data removed]",
      "text/plain": [
       "<Figure size 432x288 with 2 Axes>"
      ]
     },
     "metadata": {
      "needs_background": "light"
     },
     "output_type": "display_data"
    }
   ],
   "source": [
    "plot_matrix(dt_gs_model)"
   ]
  },
  {
   "cell_type": "code",
   "execution_count": 24,
   "metadata": {
    "ExecuteTime": {
     "end_time": "2020-03-04T17:59:14.440998Z",
     "start_time": "2020-03-04T17:59:13.265156Z"
    }
   },
   "outputs": [
    {
     "data": {
      "image/png": "[encoded data removed]",
      "text/plain": [
       "<Figure size 576x720 with 1 Axes>"
      ]
     },
     "metadata": {
      "needs_background": "light"
     },
     "output_type": "display_data"
    }
   ],
   "source": [
    "\n",
    "\n",
    "plot_feats(dt_gs_model)"
   ]
  },
  {
   "cell_type": "markdown",
   "metadata": {},
   "source": [
    "### Random Forest"
   ]
  },
  {
   "cell_type": "markdown",
   "metadata": {},
   "source": [
    "---\n",
    "__default model__"
   ]
  },
  {
   "cell_type": "code",
   "execution_count": 25,
   "metadata": {
    "ExecuteTime": {
     "end_time": "2020-03-04T18:00:25.386117Z",
     "start_time": "2020-03-04T17:59:18.011014Z"
    }
   },
   "outputs": [
    {
     "data": {
      "text/plain": [
       "RandomForestClassifier(bootstrap=True, ccp_alpha=0.0, class_weight=None,\n",
       "                       criterion='gini', max_depth=None, max_features='auto',\n",
       "                       max_leaf_nodes=None, max_samples=None,\n",
       "                       min_impurity_decrease=0.0, min_impurity_split=None,\n",
       "                       min_samples_leaf=1, min_samples_split=2,\n",
       "                       min_weight_fraction_leaf=0.0, n_estimators=100,\n",
       "                       n_jobs=None, oob_score=False, random_state=3, verbose=0,\n",
       "                       warm_start=False)"
      ]
     },
     "execution_count": 25,
     "metadata": {},
     "output_type": "execute_result"
    },
    {
     "name": "stdout",
     "output_type": "stream",
     "text": [
      "\n",
      "Cross Validation Scoring:\n",
      "\n",
      "train score: 72.72%\n",
      "test score: 57.2%\n",
      "cross val score: 90.54%\n",
      "\n",
      "Classification Report:\n",
      "                precision    recall  f1-score   support\n",
      "\n",
      "bite_dangerous       0.12      0.59      0.20       540\n",
      " not_bite/dang       0.93      0.57      0.71      5495\n",
      "\n",
      "      accuracy                           0.57      6035\n",
      "     macro avg       0.53      0.58      0.45      6035\n",
      "  weighted avg       0.86      0.57      0.66      6035\n",
      "\n",
      "\n",
      "Confusion matrix:\n"
     ]
    },
    {
     "data": {
      "text/html": [
       "<div>\n",
       "<style scoped>\n",
       "    .dataframe tbody tr th:only-of-type {\n",
       "        vertical-align: middle;\n",
       "    }\n",
       "\n",
       "    .dataframe tbody tr th {\n",
       "        vertical-align: top;\n",
       "    }\n",
       "\n",
       "    .dataframe thead th {\n",
       "        text-align: right;\n",
       "    }\n",
       "</style>\n",
       "<table border=\"1\" class=\"dataframe\">\n",
       "  <thead>\n",
       "    <tr style=\"text-align: right;\">\n",
       "      <th></th>\n",
       "      <th>pred_bite_dangerous</th>\n",
       "      <th>pred_not_bite/dang</th>\n",
       "    </tr>\n",
       "  </thead>\n",
       "  <tbody>\n",
       "    <tr>\n",
       "      <th>real_bite_dangerous</th>\n",
       "      <td>318</td>\n",
       "      <td>222</td>\n",
       "    </tr>\n",
       "    <tr>\n",
       "      <th>real_not_bite/dang</th>\n",
       "      <td>2361</td>\n",
       "      <td>3134</td>\n",
       "    </tr>\n",
       "  </tbody>\n",
       "</table>\n",
       "</div>"
      ],
      "text/plain": [
       "                     pred_bite_dangerous  pred_not_bite/dang\n",
       "real_bite_dangerous                  318                 222\n",
       "real_not_bite/dang                  2361                3134"
      ]
     },
     "metadata": {},
     "output_type": "display_data"
    }
   ],
   "source": [
    "#initialize and fit random forest\n",
    "rf_model = RandomForestClassifier(random_state=3)\n",
    "rf_model.fit(X_train, y_train)\n",
    "\n",
    "predictions = rf_model.predict(X_test)\n",
    "#actuals = y_test\n",
    "\n",
    "model_report(rf_model)"
   ]
  },
  {
   "cell_type": "markdown",
   "metadata": {},
   "source": [
    "#### grid searches"
   ]
  },
  {
   "cell_type": "markdown",
   "metadata": {},
   "source": [
    "___\n",
    "__Random Grid Search__"
   ]
  },
  {
   "cell_type": "markdown",
   "metadata": {},
   "source": [
    "The default model is overfitting. Some ways to avoid overfitting with random forests are: increasing the n_estimators, reducing max features, limiting max depth, and increasing min leaf samples can help construct a more robust fit. Being that it did perform well despite the overfitting, I decided not to go crazy playing with the parameters."
   ]
  },
  {
   "cell_type": "code",
   "execution_count": null,
   "metadata": {
    "ExecuteTime": {
     "end_time": "2020-03-04T10:17:39.520701Z",
     "start_time": "2020-03-04T10:14:56.522Z"
    }
   },
   "outputs": [],
   "source": [
    "# set random search params\n",
    "\n",
    "n_estimators = [600,800,700,1000,1500]\n",
    "min_weight_fraction_leaf=[0.0, 0.0001, 0.00001]\n",
    "min_samples_split = [3,4,5,6,7,8]\n",
    "min_samples_leaf = [1]\n",
    "min_impurity_split = [0.0]\n",
    "min_impurity_decrease = [0.0, 0.0001, 0.01]\n",
    "max_samples = [None]\n",
    "max_leaf_nodes = [None, 3,10,15,20,25,30]\n",
    "max_features = ['auto', 3,5,6,8,10,50]\n",
    "max_depth = [10,30,60,70,80,100,130]\n",
    "criterion = ['entropy', 'gini']\n",
    "bootstrap = [True, False]\n",
    "\n",
    "# Create the random grid\n",
    "random_grid = { 'n_estimators': n_estimators,\n",
    "                 'min_weight_fraction_leaf': min_weight_fraction_leaf,\n",
    "                 'min_samples_split': min_samples_split,\n",
    "                 'min_samples_leaf': min_samples_leaf,\n",
    "                 'min_impurity_split': min_impurity_split,\n",
    "                 'min_impurity_decrease': min_impurity_decrease,\n",
    "                 'max_samples': max_samples,\n",
    "                 'max_leaf_nodes': max_leaf_nodes,\n",
    "                 'max_features': max_features,\n",
    "                  'max_depth': max_depth,\n",
    "                 'criterion': criterion,\n",
    "                 'bootstrap': bootstrap\n",
    "              }\n",
    "\n",
    "# fit and search random param combinations\n",
    "rf_random = RandomizedSearchCV(estimator = rf_model, param_distributions = random_grid\n",
    "                               , n_iter = 150, cv = 5, verbose=5\n",
    "                               , random_state=1, scoring='f1_macro', n_jobs = -1);\n",
    "# Fit the random search model\n",
    "rf_random.fit(X_train, y_train);\n",
    "\n",
    "# print best parameters\n",
    "print('best score: {:.4}%'.format(rf_random.best_score_ * 100));\n",
    "print(rf_random.best_params_);"
   ]
  },
  {
   "cell_type": "markdown",
   "metadata": {},
   "source": [
    "___\n",
    "__grid search__"
   ]
  },
  {
   "cell_type": "code",
   "execution_count": null,
   "metadata": {
    "ExecuteTime": {
     "start_time": "2020-03-04T17:59:24.734Z"
    }
   },
   "outputs": [
    {
     "name": "stdout",
     "output_type": "stream",
     "text": [
      "Fitting 5 folds for each of 324 candidates, totalling 1620 fits\n"
     ]
    },
    {
     "name": "stderr",
     "output_type": "stream",
     "text": [
      "[Parallel(n_jobs=-1)]: Using backend LokyBackend with 4 concurrent workers.\n",
      "[Parallel(n_jobs=-1)]: Done  10 tasks      | elapsed:  1.4min\n"
     ]
    }
   ],
   "source": [
    "param_grid_rf = {\n",
    "        'n_estimators': [1350,1400,1450]\n",
    "         , 'min_samples_leaf': [1,2]\n",
    "         , 'min_samples_split':[6,7,8]\n",
    "        , 'max_samples': [None]\n",
    "       , 'max_leaf_nodes':[13,14,15]\n",
    "         , 'max_features': ['auto']\n",
    "         , 'max_depth': [70,75,80]\n",
    "         , 'criterion': [ 'entropy','gini']\n",
    "         , 'bootstrap': [False]\n",
    "}\n",
    "\n",
    "# grid search\n",
    "gs_rf = GridSearchCV(estimator=rf_model,param_grid=param_grid_rf\n",
    "                    ,cv=5,scoring='f1_macro',refit=True,error_score=0\n",
    "                    , n_jobs=-1, verbose=5)\n",
    "\n",
    "# fitting grid search\n",
    "gs_rf.fit(X_train, y_train);\n",
    "\n",
    "# best parameters\n",
    "print('best score: {:.4}%'.format(gs_rf.best_score_ * 100));\n",
    "print('params:\\n', gs_rf.best_params_);"
   ]
  },
  {
   "cell_type": "markdown",
   "metadata": {},
   "source": [
    "#### final model"
   ]
  },
  {
   "cell_type": "markdown",
   "metadata": {},
   "source": [
    "___\n",
    "__best model__"
   ]
  },
  {
   "cell_type": "code",
   "execution_count": null,
   "metadata": {
    "ExecuteTime": {
     "start_time": "2020-03-04T17:59:26.557Z"
    },
    "scrolled": false
   },
   "outputs": [],
   "source": [
    "# fitting model using best params\n",
    "rf_gs_model = RandomForestClassifier(\n",
    "                                   bootstrap= False\n",
    "                                    ,criterion= 'gini'\n",
    "                                    , max_depth= 75\n",
    "                                   , max_features = 'auto'\n",
    "                                   , max_leaf_nodes = 14\n",
    "                                   , max_samples = None\n",
    "                                    , min_samples_leaf = 1\n",
    "                                   , min_samples_split = 7\n",
    "                                    , n_estimators = 1400\n",
    "                                    );\n",
    "rf_gs_model.fit(X_train, y_train);\n",
    "\n",
    "predictions = rf_gs_model.predict(X_test);\n",
    "\n",
    "# new model report\n",
    "model_report(rf_gs_model)"
   ]
  },
  {
   "cell_type": "code",
   "execution_count": null,
   "metadata": {
    "ExecuteTime": {
     "end_time": "2020-03-04T10:17:39.528770Z",
     "start_time": "2020-03-04T10:14:56.543Z"
    }
   },
   "outputs": [],
   "source": [
    "plot_matrix(rf_gs_model)"
   ]
  },
  {
   "cell_type": "code",
   "execution_count": null,
   "metadata": {
    "ExecuteTime": {
     "end_time": "2020-03-04T10:17:39.534374Z",
     "start_time": "2020-03-04T10:14:56.549Z"
    }
   },
   "outputs": [],
   "source": [
    "plot_feats(rf_gs_model)"
   ]
  },
  {
   "cell_type": "markdown",
   "metadata": {},
   "source": [
    "### AdaBoost"
   ]
  },
  {
   "cell_type": "code",
   "execution_count": null,
   "metadata": {
    "ExecuteTime": {
     "end_time": "2020-03-04T10:17:39.538501Z",
     "start_time": "2020-03-04T10:14:56.555Z"
    }
   },
   "outputs": [],
   "source": [
    "#initialize and fit default model\n",
    "ada_model = AdaBoostClassifier(random_state=3)\n",
    "ada_model.fit(X_train, y_train)\n",
    "\n",
    "predictions = ada_model.predict(X_test)\n",
    "# actuals = y_test"
   ]
  },
  {
   "cell_type": "markdown",
   "metadata": {},
   "source": [
    "___\n",
    "__Default Model__"
   ]
  },
  {
   "cell_type": "code",
   "execution_count": null,
   "metadata": {
    "ExecuteTime": {
     "end_time": "2020-03-04T10:17:39.541251Z",
     "start_time": "2020-03-04T10:14:56.563Z"
    }
   },
   "outputs": [],
   "source": [
    "model_report(ada_model)"
   ]
  },
  {
   "cell_type": "markdown",
   "metadata": {},
   "source": [
    "#### grid searches"
   ]
  },
  {
   "cell_type": "markdown",
   "metadata": {},
   "source": [
    "__Random Grid Search__"
   ]
  },
  {
   "cell_type": "code",
   "execution_count": null,
   "metadata": {
    "ExecuteTime": {
     "end_time": "2020-03-04T10:17:39.544038Z",
     "start_time": "2020-03-04T10:14:56.571Z"
    }
   },
   "outputs": [],
   "source": [
    "#set random search params\n",
    "learning_rate= [.09,.1,1,1.5,2]\n",
    "\n",
    "n_estimators = [50,100,200,500]\n",
    "\n",
    "random_grid = {'learning_rate':learning_rate,\n",
    "               'n_estimators': n_estimators\n",
    "              }\n",
    "\n",
    "#random grid search\n",
    "ada_random = RandomizedSearchCV(estimator = ada_model\n",
    "                               , param_distributions = random_grid\n",
    "                               , n_iter = 10, cv = 5, verbose=7, scoring='f1_macro'\n",
    "                               , random_state=3, n_jobs = -1)\n",
    "# Fit the random search model\n",
    "ada_random.fit(X_train, y_train)\n",
    "\n",
    "ada_random.best_params_"
   ]
  },
  {
   "cell_type": "markdown",
   "metadata": {},
   "source": [
    "___\n",
    "__grid search__"
   ]
  },
  {
   "cell_type": "code",
   "execution_count": null,
   "metadata": {
    "ExecuteTime": {
     "end_time": "2020-03-04T10:17:39.546598Z",
     "start_time": "2020-03-04T10:14:56.578Z"
    }
   },
   "outputs": [],
   "source": [
    "#grid search params and fitting grid search\n",
    "param_grid_ada = [\n",
    "    {'n_estimators': [195,197,200,202,205],\n",
    "    'learning_rate': [0.08, 0.09, 0.1, 0.11,0.12]}\n",
    "]\n",
    "\n",
    "# Construct Grid Search\n",
    "gs_ada = GridSearchCV(estimator=ada_model,\n",
    "                    param_grid=param_grid_ada,\n",
    "                    scoring='f1_macro',\n",
    "                    cv=5, n_jobs=-1, verbose=2)\n",
    "\n",
    "# Fit using grid search\n",
    "gs_ada.fit(X_train, y_train);\n",
    "\n",
    "# Best accuracy and parameters\n",
    "print('best score: {:.4}%'.format(gs_ada.best_score_ * 100))\n",
    "print('params:\\n', gs_ada.best_params_)"
   ]
  },
  {
   "cell_type": "code",
   "execution_count": null,
   "metadata": {
    "ExecuteTime": {
     "end_time": "2020-03-04T10:17:39.549213Z",
     "start_time": "2020-03-04T10:14:56.584Z"
    }
   },
   "outputs": [],
   "source": [
    "# fit best params\n",
    "ada_gs_model = AdaBoostClassifier(n_estimators=200,\n",
    "                                   learning_rate=.1)\n",
    "ada_gs_model.fit(X_train, y_train);\n",
    "\n",
    "predictions = ada_gs_model.predict(X_test)"
   ]
  },
  {
   "cell_type": "markdown",
   "metadata": {},
   "source": [
    "#### final model"
   ]
  },
  {
   "cell_type": "markdown",
   "metadata": {},
   "source": [
    "__best model__"
   ]
  },
  {
   "cell_type": "code",
   "execution_count": null,
   "metadata": {
    "ExecuteTime": {
     "end_time": "2020-03-04T10:17:39.551821Z",
     "start_time": "2020-03-04T10:14:56.593Z"
    }
   },
   "outputs": [],
   "source": [
    "model_report(ada_gs_model)"
   ]
  },
  {
   "cell_type": "markdown",
   "metadata": {},
   "source": [
    "### gradient boost"
   ]
  },
  {
   "cell_type": "code",
   "execution_count": null,
   "metadata": {
    "ExecuteTime": {
     "end_time": "2020-03-04T10:17:39.554383Z",
     "start_time": "2020-03-04T10:14:56.600Z"
    }
   },
   "outputs": [],
   "source": [
    "#initialize and fit gradient boost\n",
    "gbt_model = GradientBoostingClassifier(random_state=3)\n",
    "gbt_model.fit(X_train, y_train)\n",
    "\n",
    "predictions = gbt_model.predict(X_test)\n",
    "# actuals = y_test"
   ]
  },
  {
   "cell_type": "markdown",
   "metadata": {},
   "source": [
    "__default model__"
   ]
  },
  {
   "cell_type": "code",
   "execution_count": null,
   "metadata": {
    "ExecuteTime": {
     "end_time": "2020-03-04T10:17:39.557290Z",
     "start_time": "2020-03-04T10:14:56.606Z"
    }
   },
   "outputs": [],
   "source": [
    "#baseline model report\n",
    "model_report(gbt_model)"
   ]
  },
  {
   "cell_type": "markdown",
   "metadata": {},
   "source": [
    "#### grid searches"
   ]
  },
  {
   "cell_type": "markdown",
   "metadata": {},
   "source": [
    "__random grid search__"
   ]
  },
  {
   "cell_type": "code",
   "execution_count": null,
   "metadata": {
    "ExecuteTime": {
     "end_time": "2020-03-04T10:17:39.560212Z",
     "start_time": "2020-03-04T10:14:56.614Z"
    }
   },
   "outputs": [],
   "source": [
    "# setting parameters for random search\n",
    "learning_rate=[.09,.1]\n",
    "#loss = ['deviance', 'exponential']\n",
    "max_depth = [None] \n",
    "n_estimators = [10,30,50]\n",
    "min_samples_split = [2,3,4]\n",
    "min_samples_leaf = [1,2,3,4]\n",
    "min_weight_fraction_leaf = [0, 0.00001]\n",
    "\n",
    "random_grid = {'learning_rate':learning_rate,\n",
    "            #  'loss': loss,\n",
    "               'max_depth': max_depth,\n",
    "               'n_estimators': n_estimators,\n",
    "               'min_samples_split': min_samples_split,\n",
    "               'min_samples_leaf': min_samples_leaf\n",
    "               ,'min_weight_fraction_leaf': min_weight_fraction_leaf\n",
    "               }\n",
    "\n",
    "#searching random params\n",
    "gbt_random = RandomizedSearchCV(estimator = gbt_model, param_distributions = random_grid\n",
    "                               , n_iter = 25, cv = 5, verbose=3, scoring='f1_macro'\n",
    "                               , random_state=3, n_jobs = -1)\n",
    "# fit random search model\n",
    "gbt_random.fit(X_train, y_train)\n",
    "\n",
    "print('best score: {:.4}%'.format(gbt_random.best_score_ * 100));\n",
    "print(gbt_random.best_params_)"
   ]
  },
  {
   "cell_type": "markdown",
   "metadata": {},
   "source": [
    "__grid search__"
   ]
  },
  {
   "cell_type": "code",
   "execution_count": null,
   "metadata": {
    "ExecuteTime": {
     "end_time": "2020-03-04T10:17:39.563171Z",
     "start_time": "2020-03-04T10:14:56.621Z"
    }
   },
   "outputs": [],
   "source": [
    "# grid search params and run search\n",
    "param_grid_gbt = [\n",
    "    {'n_estimators': [11,12],\n",
    "     'min_weight_fraction_leaf':[0, 0.001],\n",
    "    'learning_rate': [0.09,0.1],\n",
    "    'min_samples_split': [4,5],\n",
    "    'min_samples_leaf': [1],\n",
    "    'max_depth': [None],\n",
    "     'loss':['deviance', 'exponential']\n",
    "    }]\n",
    "# grid search\n",
    "gs_gbt = GridSearchCV(estimator=gbt_model,\n",
    "                    param_grid=param_grid_gbt,scoring='f1_macro',\n",
    "                    cv=5, n_jobs=-1, verbose=2)\n",
    "\n",
    "# fit grid search\n",
    "gs_gbt.fit(X_train, y_train)\n",
    "\n",
    "# best params\n",
    "print('best score: {:.4}%'.format(gs_gbt.best_score_ * 100))\n",
    "print('params:\\n', gs_gbt.best_params_)"
   ]
  },
  {
   "cell_type": "code",
   "execution_count": null,
   "metadata": {
    "ExecuteTime": {
     "end_time": "2020-03-04T10:17:39.565748Z",
     "start_time": "2020-03-04T10:14:56.628Z"
    }
   },
   "outputs": [],
   "source": [
    "# fitting best params\n",
    "gbt_gs_model = GradientBoostingClassifier(learning_rate=0.09,\n",
    "                                          loss= 'deviance',\n",
    "                                         max_depth=None,\n",
    "                                         min_samples_leaf=1,\n",
    "                                         min_samples_split=4,\n",
    "                                         min_weight_fraction_leaf=0.001,\n",
    "                                         n_estimators=11)\n",
    "gbt_gs_model.fit(X_train, y_train)\n",
    "\n",
    "predictions = gbt_gs_model.predict(X_test)"
   ]
  },
  {
   "cell_type": "markdown",
   "metadata": {},
   "source": [
    "#### final model"
   ]
  },
  {
   "cell_type": "markdown",
   "metadata": {},
   "source": [
    "__best model__"
   ]
  },
  {
   "cell_type": "code",
   "execution_count": null,
   "metadata": {
    "ExecuteTime": {
     "end_time": "2020-03-04T10:17:39.568538Z",
     "start_time": "2020-03-04T10:14:56.636Z"
    }
   },
   "outputs": [],
   "source": [
    "# new model report\n",
    "model_report(gbt_gs_model)"
   ]
  },
  {
   "cell_type": "markdown",
   "metadata": {},
   "source": [
    "### SVM"
   ]
  },
  {
   "cell_type": "code",
   "execution_count": null,
   "metadata": {
    "ExecuteTime": {
     "end_time": "2020-03-04T10:17:39.571053Z",
     "start_time": "2020-03-04T10:14:56.642Z"
    }
   },
   "outputs": [],
   "source": [
    "svm_model = svm.SVC(random_state=3)\n",
    "svm_model.fit(X_train, y_train)\n",
    "\n",
    "predictions = svm_model.predict(X_test)\n",
    "# actuals = y_test"
   ]
  },
  {
   "cell_type": "markdown",
   "metadata": {},
   "source": [
    "___\n",
    "__default model__"
   ]
  },
  {
   "cell_type": "code",
   "execution_count": null,
   "metadata": {
    "ExecuteTime": {
     "end_time": "2020-03-04T10:17:39.573699Z",
     "start_time": "2020-03-04T10:14:56.649Z"
    }
   },
   "outputs": [],
   "source": [
    "model_report(svm_model)"
   ]
  },
  {
   "cell_type": "markdown",
   "metadata": {},
   "source": [
    "#### grid searches"
   ]
  },
  {
   "cell_type": "markdown",
   "metadata": {},
   "source": [
    "___\n",
    "__random grid search__"
   ]
  },
  {
   "cell_type": "code",
   "execution_count": null,
   "metadata": {
    "ExecuteTime": {
     "end_time": "2020-03-04T10:17:39.576119Z",
     "start_time": "2020-03-04T10:14:56.657Z"
    }
   },
   "outputs": [],
   "source": [
    "# # set random search params\n",
    "# clf_C = [0.09,1.0, 1.01]\n",
    "# clf_gamma = [0.001,0.01, 0.1]\n",
    "# clf_kernel = ['rbf', 'linear']\n",
    "\n",
    "# random_grid = {\n",
    "#                'C': clf_C,\n",
    "#                'gamma': clf_gamma,\n",
    "#                'kernel': clf_kernel\n",
    "#                }\n",
    "\n",
    "# # fit and search random param combinations\n",
    "# svm_random = RandomizedSearchCV(estimator = svm_model, param_distributions = random_grid\n",
    "#                                , n_iter = 30 , cv = 5, verbose=10\n",
    "#                                , scoring='f1_macro', random_state=3, n_jobs = -1)\n",
    "# # Fit the random search model\n",
    "# svm_random.fit(X_train, y_train)\n",
    "\n",
    "# print('best score: {:.4}%'.format(svm_random.best_score_ * 100));\n",
    "# print(svm_random.best_params_)"
   ]
  },
  {
   "cell_type": "markdown",
   "metadata": {},
   "source": [
    "___\n",
    "__grid search__"
   ]
  },
  {
   "cell_type": "code",
   "execution_count": null,
   "metadata": {
    "ExecuteTime": {
     "end_time": "2020-03-04T10:17:39.578957Z",
     "start_time": "2020-03-04T10:14:56.665Z"
    }
   },
   "outputs": [],
   "source": [
    "# Set grid search params\n",
    "param_grid_svm = [\n",
    "  {'C': [0.9,1.0, 1.1], 'gamma': [0.001, 0.01, 0.1]\n",
    "   , 'kernel': ['rbf', 'linear']\n",
    "  }]\n",
    " \n",
    "# Construct grid search\n",
    "gs_svm = GridSearchCV(estimator=svm_model,\n",
    "            param_grid=param_grid_svm, scoring='f1_macro'\n",
    "            , cv=3, verbose=2, return_train_score = True)\n",
    "\n",
    "# Fit using grid search\n",
    "gs_svm.fit(X_train, y_train)\n",
    "\n",
    "# Best accuracy\n",
    "print('best score: {:.4}%'.format(gs_svm.best_score_ * 100));\n",
    "print('\\nBest params:\\n', gs_svm.best_params_)"
   ]
  },
  {
   "cell_type": "code",
   "execution_count": null,
   "metadata": {
    "ExecuteTime": {
     "end_time": "2020-03-04T10:17:39.581672Z",
     "start_time": "2020-03-04T10:14:56.671Z"
    }
   },
   "outputs": [],
   "source": [
    "svm_gs_model = svm.SVC(C=0.5\n",
    "                       ,gamma=0.002\n",
    "                        ,kernel='linear'\n",
    "                             )\n",
    "svm_gs_model.fit(X_train, y_train)\n",
    "\n",
    "predictions = svm_gs_model.predict(X_test)"
   ]
  },
  {
   "cell_type": "markdown",
   "metadata": {},
   "source": [
    "#### final model"
   ]
  },
  {
   "cell_type": "markdown",
   "metadata": {},
   "source": [
    "___\n",
    "__best model__"
   ]
  },
  {
   "cell_type": "code",
   "execution_count": null,
   "metadata": {
    "ExecuteTime": {
     "end_time": "2020-03-04T10:17:39.584469Z",
     "start_time": "2020-03-04T10:14:56.679Z"
    },
    "scrolled": true
   },
   "outputs": [],
   "source": [
    "model_report(svm_gs_model)"
   ]
  },
  {
   "cell_type": "markdown",
   "metadata": {},
   "source": [
    "### XGBoost"
   ]
  },
  {
   "cell_type": "code",
   "execution_count": null,
   "metadata": {
    "ExecuteTime": {
     "end_time": "2020-03-04T10:17:39.587028Z",
     "start_time": "2020-03-04T10:14:56.686Z"
    }
   },
   "outputs": [],
   "source": [
    "# initiate model\n",
    "xgb_model = XGBClassifier(random_state=3)\n",
    "xgb_model.fit(X_train, y_train)\n",
    "\n",
    "predictions = xgb_model.predict(X_test)\n",
    "# actuals = y_test"
   ]
  },
  {
   "cell_type": "code",
   "execution_count": null,
   "metadata": {
    "ExecuteTime": {
     "end_time": "2020-03-04T10:17:39.612725Z",
     "start_time": "2020-03-04T10:14:56.692Z"
    }
   },
   "outputs": [],
   "source": [
    "model_report(xgb_model)"
   ]
  },
  {
   "cell_type": "markdown",
   "metadata": {},
   "source": [
    "#### grid searches"
   ]
  },
  {
   "cell_type": "code",
   "execution_count": null,
   "metadata": {
    "ExecuteTime": {
     "end_time": "2020-03-04T10:17:39.622071Z",
     "start_time": "2020-03-04T10:14:56.700Z"
    }
   },
   "outputs": [],
   "source": [
    "#set random search params\n",
    "learning_rate=[.009,.01,.25,.2,.15 ,.1]\n",
    "max_depth = [2,3,4,5,6,7,8,9]\n",
    "min_child_weight = [.8,1,1.5,1.9,2]\n",
    "n_estimators = [70,80,90,100, 110,150,200,250]\n",
    "min_weight_fraction_leaf = [0,0.0001,0.005, 0.01, 1]\n",
    "gamma = [0.0, 0.001,0.005, 0.01]\n",
    "\n",
    "random_grid = {\n",
    "               'learning_rate':learning_rate\n",
    "               ,'max_depth': max_depth\n",
    "               ,'min_child_weight':min_child_weight\n",
    "            ,'n_estimators': n_estimators\n",
    "                , 'gamma': gamma\n",
    "              }\n",
    "\n",
    "# searching random params\n",
    "xgb_random = RandomizedSearchCV(estimator = xgb_model, param_distributions = random_grid\n",
    "                               , n_iter = 150, cv = 5, verbose=5\n",
    "                               ,scoring='f1_macro', random_state=3, n_jobs = -1)\n",
    "# fit random search model\n",
    "xgb_random.fit(X_train, y_train)\n",
    "print('best score: {:.4}%'.format(xgb_random.best_score_ * 100));\n",
    "print(xgb_random.best_params_);"
   ]
  },
  {
   "cell_type": "code",
   "execution_count": null,
   "metadata": {
    "ExecuteTime": {
     "end_time": "2020-03-04T10:17:39.676411Z",
     "start_time": "2020-03-04T10:14:56.706Z"
    }
   },
   "outputs": [],
   "source": [
    "param_grid_xgb = [\n",
    "    {\n",
    "         'gamma':[0.1,0.01, 0.001],\n",
    "        'min_child_weight': [.9,1.0, 1.1, 1.3],\n",
    "    'learning_rate': [0.01,0.05,.1, 0.13],\n",
    "    'n_estimators': [70,80,90],\n",
    "    'max_depth': [8,9,10]\n",
    "    }\n",
    "]\n",
    "\n",
    "# Construct Grid Search\n",
    "gs_xgb = GridSearchCV(estimator=xgb_model,\n",
    "                    param_grid=param_grid_xgb,\n",
    "                    scoring='f1_macro',\n",
    "                    cv=3, n_jobs=-1, verbose=10)\n",
    "\n",
    "# Fit using grid search\n",
    "gs_xgb.fit(X, y)\n",
    "\n",
    "# Best accuracy and parameters\n",
    "print('best score: {:.3}%'.format(gs_xgb.best_score_ * 100))\n",
    "print('params:\\n', gs_xgb.best_params_);"
   ]
  },
  {
   "cell_type": "markdown",
   "metadata": {},
   "source": [
    "#### final model"
   ]
  },
  {
   "cell_type": "code",
   "execution_count": null,
   "metadata": {
    "ExecuteTime": {
     "end_time": "2020-03-04T10:17:39.683372Z",
     "start_time": "2020-03-04T10:14:56.715Z"
    },
    "scrolled": true
   },
   "outputs": [],
   "source": [
    "# fit using best params\n",
    "xgb_gs_model = XGBClassifier(learning_rate=0.01,\n",
    "                             gamma=0.01,\n",
    "                            max_depth=9,\n",
    "                             min_child_weight=.9,\n",
    "                             n_estimators=80)\n",
    "xgb_gs_model.fit(X_train, y_train)\n",
    "\n",
    "predictions = xgb_gs_model.predict(X_test)\n",
    "\n",
    "model_report(xgb_gs_model)"
   ]
  },
  {
   "cell_type": "code",
   "execution_count": null,
   "metadata": {},
   "outputs": [],
   "source": []
  },
  {
   "cell_type": "code",
   "execution_count": null,
   "metadata": {},
   "outputs": [],
   "source": []
  }
 ],
 "metadata": {
  "hide_input": false,
  "kernelspec": {
   "display_name": "Python 3",
   "language": "python",
   "name": "python3"
  },
  "language_info": {
   "codemirror_mode": {
    "name": "ipython",
    "version": 3
   },
   "file_extension": ".py",
   "mimetype": "text/x-python",
   "name": "python",
   "nbconvert_exporter": "python",
   "pygments_lexer": "ipython3",
   "version": "3.7.3"
  },
  "toc": {
   "base_numbering": 1,
   "nav_menu": {},
   "number_sections": true,
   "sideBar": true,
   "skip_h1_title": false,
   "title_cell": "Table of Contents",
   "title_sidebar": "Contents",
   "toc_cell": false,
   "toc_position": {
    "height": "calc(100% - 180px)",
    "left": "10px",
    "top": "150px",
    "width": "165px"
   },
   "toc_section_display": true,
   "toc_window_display": true
  }
 },
 "nbformat": 4,
 "nbformat_minor": 2
}
