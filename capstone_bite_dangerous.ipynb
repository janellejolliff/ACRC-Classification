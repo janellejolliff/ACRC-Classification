{
 "cells": [
  {
   "cell_type": "markdown",
   "metadata": {},
   "source": [
    "Using the animal control incident call log, I've selected the dog species as a target, using only color, breed, and size for predictive features in attempt to predict a dangerous/bite situation, or a non-dangerous situation. I would like to think that the color, size, and breed of a dog isn't as deterministic of it's risk/lack of risk of harming others, but I will approach this with the goal of finding otherwise."
   ]
  },
  {
   "cell_type": "markdown",
   "metadata": {},
   "source": [
    "## import libraries, packages, data"
   ]
  },
  {
   "cell_type": "markdown",
   "metadata": {},
   "source": [
    "### libraries, packages"
   ]
  },
  {
   "cell_type": "code",
   "execution_count": 1,
   "metadata": {
    "ExecuteTime": {
     "end_time": "2020-03-03T00:27:03.265804Z",
     "start_time": "2020-03-03T00:27:01.512590Z"
    },
    "code_folding": []
   },
   "outputs": [],
   "source": [
    "#import\n",
    "import pandas as pd\n",
    "import numpy as np\n",
    "# import seaborn as sns\n",
    "# sns.set(style='darkgrid')\n",
    "import matplotlib.pyplot as plt\n",
    "# %matplotlib inline\n",
    "# import pandas_profiling\n",
    "# import datetime\n",
    "# import re\n",
    "# import pprint\n",
    "# pp = pprint.PrettyPrinter(indent=4)\n",
    "# from collections import Counter\n",
    "import warnings\n",
    "warnings.filterwarnings('ignore')\n",
    "\n",
    "#display multiple outputs from cell \n",
    "from IPython.core.interactiveshell import InteractiveShell\n",
    "InteractiveShell.ast_node_interactivity = \"all\""
   ]
  },
  {
   "cell_type": "code",
   "execution_count": 73,
   "metadata": {
    "ExecuteTime": {
     "end_time": "2020-03-03T18:31:15.032007Z",
     "start_time": "2020-03-03T18:31:14.971270Z"
    },
    "code_folding": []
   },
   "outputs": [],
   "source": [
    "#importing libraries & packages\n",
    "import pandas as pd\n",
    "import numpy as np\n",
    "import warnings\n",
    "warnings.filterwarnings('ignore')\n",
    "\n",
    "#display multiple outputs from cell \n",
    "from IPython.core.interactiveshell import InteractiveShell\n",
    "InteractiveShell.ast_node_interactivity = \"all\"\n",
    "\n",
    "# machine learning\n",
    "import sklearn\n",
    "from sklearn.model_selection import train_test_split, GridSearchCV, cross_val_score, RandomizedSearchCV\n",
    "from sklearn.ensemble import RandomForestClassifier, AdaBoostClassifier, ExtraTreesClassifier, GradientBoostingClassifier\n",
    "from sklearn.pipeline import Pipeline, make_pipeline\n",
    "from sklearn.metrics import confusion_matrix, precision_score, recall_score, accuracy_score, f1_score, classification_report\n",
    "from sklearn.linear_model import LogisticRegression\n",
    "from sklearn.utils import resample\n",
    "from imblearn.over_sampling import ADASYN, SMOTE\n",
    "from sklearn.feature_selection import SelectKBest, chi2\n",
    "from sklearn import svm\n",
    "from imblearn.over_sampling import SMOTE\n",
    "from imblearn.under_sampling import RandomUnderSampler\n",
    "from imblearn.pipeline import Pipeline\n",
    "from xgboost import XGBClassifier\n",
    "from sklearn.tree import DecisionTreeClassifier\n",
    "from sklearn.metrics import plot_confusion_matrix"
   ]
  },
  {
   "cell_type": "markdown",
   "metadata": {},
   "source": [
    "### import clean data from part 1"
   ]
  },
  {
   "cell_type": "code",
   "execution_count": 3,
   "metadata": {
    "ExecuteTime": {
     "end_time": "2020-03-03T00:27:11.207442Z",
     "start_time": "2020-03-03T00:27:10.331785Z"
    }
   },
   "outputs": [],
   "source": [
    "# import Animal Control Incidents df\n",
    "df = pd.read_csv('a_control.csv')"
   ]
  },
  {
   "cell_type": "code",
   "execution_count": 4,
   "metadata": {
    "ExecuteTime": {
     "end_time": "2020-03-03T00:27:11.217660Z",
     "start_time": "2020-03-03T00:27:11.211785Z"
    }
   },
   "outputs": [],
   "source": [
    "#df.info()"
   ]
  },
  {
   "cell_type": "code",
   "execution_count": 5,
   "metadata": {
    "ExecuteTime": {
     "end_time": "2020-03-03T00:27:11.263704Z",
     "start_time": "2020-03-03T00:27:11.221477Z"
    }
   },
   "outputs": [],
   "source": [
    "df = df[df['species']=='dog']"
   ]
  },
  {
   "cell_type": "code",
   "execution_count": 6,
   "metadata": {
    "ExecuteTime": {
     "end_time": "2020-03-03T00:27:11.287192Z",
     "start_time": "2020-03-03T00:27:11.266706Z"
    }
   },
   "outputs": [
    {
     "data": {
      "text/plain": [
       "loose_stray       12511\n",
       "cruelty            1957\n",
       "bite_dangerous     1878\n",
       "sick_inj           1368\n",
       "owned              1321\n",
       "trapped_animal     1042\n",
       "patrol              712\n",
       "school_call         172\n",
       "other                93\n",
       "pit                   8\n",
       "snake                 4\n",
       "pick_up_trap          1\n",
       "Name: service_type, dtype: int64"
      ]
     },
     "execution_count": 6,
     "metadata": {},
     "output_type": "execute_result"
    }
   ],
   "source": [
    "df.service_type.value_counts()"
   ]
  },
  {
   "cell_type": "code",
   "execution_count": 7,
   "metadata": {
    "ExecuteTime": {
     "end_time": "2020-03-03T00:27:11.313564Z",
     "start_time": "2020-03-03T00:27:11.293180Z"
    }
   },
   "outputs": [],
   "source": [
    "df = df[['breed', 'size', 'color', 'service_type']]"
   ]
  },
  {
   "cell_type": "code",
   "execution_count": 8,
   "metadata": {
    "ExecuteTime": {
     "end_time": "2020-03-03T00:27:11.538869Z",
     "start_time": "2020-03-03T00:27:11.318393Z"
    }
   },
   "outputs": [],
   "source": [
    "for word in ('loose_stray', 'sick_inj', 'owned', 'trapped_animal', 'patrol', 'school_call'\n",
    "            ,'other', 'pit', 'snake', 'pick_up_trap', 'cruelty'):\n",
    "    df['service_type'] = df['service_type'].replace(word, 'not_bite/dang')"
   ]
  },
  {
   "cell_type": "code",
   "execution_count": 9,
   "metadata": {
    "ExecuteTime": {
     "end_time": "2020-03-03T00:27:11.565527Z",
     "start_time": "2020-03-03T00:27:11.543328Z"
    }
   },
   "outputs": [],
   "source": [
    "df=df.dropna()"
   ]
  },
  {
   "cell_type": "code",
   "execution_count": 10,
   "metadata": {
    "ExecuteTime": {
     "end_time": "2020-03-03T00:27:11.771737Z",
     "start_time": "2020-03-03T00:27:11.570586Z"
    },
    "code_folding": []
   },
   "outputs": [],
   "source": [
    "# # assign target\n",
    "y = df[\"service_type\"]\n",
    "\n",
    "#remove target from features\n",
    "df.drop(columns= ['service_type'], axis=1, inplace=True)\n",
    "\n",
    "# dummy categorical features\n",
    "#col_list = list(df.select_dtypes(include=['object']).columns)\n",
    "col_list = list(df.columns)\n",
    "\n",
    "# create dummies for categorical features, assign to X\n",
    "df = pd.DataFrame(pd.get_dummies(data=df, drop_first=True\n",
    "                   , prefix=col_list))\n",
    "X = df\n"
   ]
  },
  {
   "cell_type": "code",
   "execution_count": 11,
   "metadata": {
    "ExecuteTime": {
     "end_time": "2020-03-03T00:27:11.843736Z",
     "start_time": "2020-03-03T00:27:11.776164Z"
    }
   },
   "outputs": [],
   "source": [
    "\n",
    "# X_train_d and y_train_d = using original standard test train spit dad\n",
    "# that way, I can try out different resampling methods\n",
    "X_train, X_test, y_train, y_test = train_test_split(X, y, test_size=0.3, shuffle=True, stratify=y, random_state=33)"
   ]
  },
  {
   "cell_type": "markdown",
   "metadata": {},
   "source": [
    "### functions"
   ]
  },
  {
   "cell_type": "code",
   "execution_count": 12,
   "metadata": {
    "ExecuteTime": {
     "end_time": "2020-03-03T00:27:11.861618Z",
     "start_time": "2020-03-03T00:27:11.847074Z"
    },
    "code_folding": []
   },
   "outputs": [],
   "source": [
    "# print model report\n",
    "def model_report(model, cm = True): \n",
    "    \n",
    "    print('\\nCross Validation Scoring:\\n')\n",
    "    \n",
    "    train_score = model.score(X_train, y_train)\n",
    "    print(\"train score: {:.4}%\".format(train_score * 100))\n",
    "\n",
    "    test_score = model.score(X_test, y_test)\n",
    "    print(\"test score: {:.4}%\".format(test_score * 100))\n",
    "    \n",
    "    if cm :\n",
    "\n",
    "        cv_score = np.mean(cross_val_score(model, X, y, cv=3))\n",
    "        print(\"cross val score: {:.4}%\".format(cv_score * 100))\n",
    "\n",
    "        print(\"\\nClassification Report:\")\n",
    "        print(classification_report(actuals, predictions))\n",
    "\n",
    "        col_list = ['pred bite/dangerous', 'pred not_bite/not_dangerous']\n",
    "        ind_list = ['real bite/dangerous', 'real not_bite/not_dangerous']                     \n",
    "#         for x in y_test.unique():\n",
    "#             col_list.append('pred_'+ x)\n",
    "#             ind_list.append('real_'+x)\n",
    "\n",
    "\n",
    "        print('\\nConfusion matrix:'.format(accuracy_score))\n",
    "        display(pd.DataFrame(confusion_matrix(y_test, predictions)\n",
    "                             , columns=col_list, index=ind_list))\n",
    "\n",
    "\n",
    "    else:\n",
    "        pass"
   ]
  },
  {
   "cell_type": "code",
   "execution_count": 66,
   "metadata": {
    "ExecuteTime": {
     "end_time": "2020-03-03T18:23:42.555054Z",
     "start_time": "2020-03-03T18:23:42.536197Z"
    },
    "code_folding": []
   },
   "outputs": [],
   "source": [
    "def plot_feats(model):\n",
    "    n_features = X.shape[1]\n",
    "    plt.figure(figsize=(8,10))\n",
    "#     plt.barh(range(n_features), model.feature_importances_, align='center') \n",
    "#     plt.yticks(np.arange(n_features), (X.columns.values)) \n",
    "#     plt.xlabel(\"Feature importance\")\n",
    "#     plt.ylabel(\"Feature\")\n",
    "    feat_importances = pd.Series(model.feature_importances_, index=X.columns)\n",
    "    feat_importances.nlargest(25).plot(kind='barh');\n",
    "    plt.show();"
   ]
  },
  {
   "cell_type": "code",
   "execution_count": 88,
   "metadata": {
    "ExecuteTime": {
     "end_time": "2020-03-03T18:40:44.430155Z",
     "start_time": "2020-03-03T18:40:44.423740Z"
    }
   },
   "outputs": [],
   "source": [
    "def plot_matrix(classifier):\n",
    "\n",
    "    disp = plot_confusion_matrix(classifier, X_test, y_test,\n",
    "    #                                  display_labels=class_names,\n",
    "                                     cmap=plt.cm.Blues,\n",
    "                                     normalize=normalize)\n",
    "#     disp.ax_.set_title(title);\n",
    "    plt.show();\n",
    "#     np.set_printoptions(precision=2)\n",
    "\n",
    "#     # Plot non-normalized confusion matrix\n",
    "#     titles_options = [\n",
    "#                       (\"Normalized confusion matrix\", 'true')]\n",
    "#     for title, normalize in titles_options:\n",
    "#         disp = plot_confusion_matrix(classifier, X_test, y_test,\n",
    "#     #                                  display_labels=class_names,\n",
    "#                                      cmap=plt.cm.Blues,\n",
    "#                                      normalize=normalize)\n",
    "#         disp.ax_.set_title(title)\n",
    "\n",
    "# #         print(title)\n",
    "# #         print(disp.confusion_matrix)\n",
    "\n",
    "#     plt.show();"
   ]
  },
  {
   "cell_type": "markdown",
   "metadata": {},
   "source": [
    "### Feature importance accoring to chi2 and ExtraTrees"
   ]
  },
  {
   "cell_type": "code",
   "execution_count": 65,
   "metadata": {
    "ExecuteTime": {
     "end_time": "2020-03-03T18:22:44.811031Z",
     "start_time": "2020-03-03T18:22:43.837865Z"
    },
    "code_folding": []
   },
   "outputs": [],
   "source": [
    "# chi features\n",
    "from sklearn.feature_selection import SelectKBest\n",
    "from sklearn.feature_selection import chi2\n",
    "bestfeatures = SelectKBest(score_func=chi2, k=10)\n",
    "fit = bestfeatures.fit(X,y)\n",
    "dfscores = pd.DataFrame(fit.scores_)\n",
    "dfcolumns = pd.DataFrame(X.columns)\n",
    "featureScores = pd.concat([dfcolumns,dfscores],axis=1)\n",
    "featureScores.columns = ['Feats','Score']  #naming columns\n",
    "print(featureScores.nlargest(25,'Score'))  #print best features\n"
   ]
  },
  {
   "cell_type": "code",
   "execution_count": 15,
   "metadata": {
    "ExecuteTime": {
     "end_time": "2020-03-03T00:27:23.992570Z",
     "start_time": "2020-03-03T00:27:12.204916Z"
    },
    "code_folding": []
   },
   "outputs": [
    {
     "data": {
      "image/png": "[encoded data removed]",
      "text/plain": [
       "<Figure size 432x288 with 1 Axes>"
      ]
     },
     "metadata": {
      "needs_background": "light"
     },
     "output_type": "display_data"
    }
   ],
   "source": [
    "## extraTrees classifier feature importance\n",
    "# # using extratrees to look at feature importance\n",
    "from sklearn.ensemble import ExtraTreesClassifier\n",
    "model = ExtraTreesClassifier()\n",
    "model.fit(X,y)\n",
    "#print(model.feature_importances_) \n",
    "feat_importances = pd.Series(model.feature_importances_, index=X.columns)\n",
    "feat_importances.nlargest(25).plot(kind='barh');\n",
    "plt.show();"
   ]
  },
  {
   "cell_type": "markdown",
   "metadata": {},
   "source": [
    "## prep data"
   ]
  },
  {
   "cell_type": "markdown",
   "metadata": {},
   "source": [
    "### resampling"
   ]
  },
  {
   "cell_type": "markdown",
   "metadata": {},
   "source": [
    "Due to the imbalance of class data, it could be beneficial to resample to compensate for the missing data. Using smote to oversample, then random undersampling is a common practice in these circumstances\n",
    "\n"
   ]
  },
  {
   "cell_type": "code",
   "execution_count": 16,
   "metadata": {
    "ExecuteTime": {
     "end_time": "2020-03-03T00:27:24.117301Z",
     "start_time": "2020-03-03T00:27:23.997312Z"
    }
   },
   "outputs": [],
   "source": [
    "over = SMOTE(sampling_strategy='minority', random_state=3)\n",
    "under = RandomUnderSampler( sampling_strategy='majority',\n",
    "    random_state=3)\n",
    "steps = [('o', over), ('u', under)]\n",
    "pipeline = Pipeline(steps=steps)\n",
    "# # transform the dataset\n",
    "X_train, y_train = under.fit_resample(X_train, y_train)"
   ]
  },
  {
   "cell_type": "code",
   "execution_count": 100,
   "metadata": {
    "ExecuteTime": {
     "end_time": "2020-03-03T21:48:51.228071Z",
     "start_time": "2020-03-03T21:48:51.187405Z"
    }
   },
   "outputs": [
    {
     "name": "stdout",
     "output_type": "stream",
     "text": [
      "not_bite/dang     1261\n",
      "bite_dangerous    1261\n",
      "Name: service_type, dtype: int64\n"
     ]
    }
   ],
   "source": [
    "print (y_train.value_counts())"
   ]
  },
  {
   "cell_type": "markdown",
   "metadata": {},
   "source": [
    "## __modeling__"
   ]
  },
  {
   "cell_type": "markdown",
   "metadata": {},
   "source": [
    "Logistic Regression basic default model"
   ]
  },
  {
   "cell_type": "code",
   "execution_count": 101,
   "metadata": {
    "ExecuteTime": {
     "end_time": "2020-03-03T21:49:07.445272Z",
     "start_time": "2020-03-03T21:49:02.011191Z"
    },
    "scrolled": true
   },
   "outputs": [
    {
     "data": {
      "text/plain": [
       "LogisticRegression(C=1.0, class_weight=None, dual=False, fit_intercept=True,\n",
       "                   intercept_scaling=1, l1_ratio=None, max_iter=100,\n",
       "                   multi_class='auto', n_jobs=None, penalty='l2',\n",
       "                   random_state=3, solver='lbfgs', tol=0.0001, verbose=0,\n",
       "                   warm_start=False)"
      ]
     },
     "execution_count": 101,
     "metadata": {},
     "output_type": "execute_result"
    },
    {
     "name": "stdout",
     "output_type": "stream",
     "text": [
      "\n",
      "Cross Validation Scoring:\n",
      "\n",
      "train score: 62.13%\n",
      "test score: 62.1%\n",
      "cross val score: 91.04%\n",
      "\n",
      "Classification Report:\n",
      "                precision    recall  f1-score   support\n",
      "\n",
      "bite_dangerous       0.13      0.59      0.22       540\n",
      " not_bite/dang       0.94      0.62      0.75      5495\n",
      "\n",
      "      accuracy                           0.62      6035\n",
      "     macro avg       0.54      0.60      0.48      6035\n",
      "  weighted avg       0.87      0.62      0.70      6035\n",
      "\n",
      "\n",
      "Confusion matrix:\n"
     ]
    },
    {
     "data": {
      "text/html": [
       "<div>\n",
       "<style scoped>\n",
       "    .dataframe tbody tr th:only-of-type {\n",
       "        vertical-align: middle;\n",
       "    }\n",
       "\n",
       "    .dataframe tbody tr th {\n",
       "        vertical-align: top;\n",
       "    }\n",
       "\n",
       "    .dataframe thead th {\n",
       "        text-align: right;\n",
       "    }\n",
       "</style>\n",
       "<table border=\"1\" class=\"dataframe\">\n",
       "  <thead>\n",
       "    <tr style=\"text-align: right;\">\n",
       "      <th></th>\n",
       "      <th>pred bite/dangerous</th>\n",
       "      <th>pred not_bite/not_dangerous</th>\n",
       "    </tr>\n",
       "  </thead>\n",
       "  <tbody>\n",
       "    <tr>\n",
       "      <th>real bite/dangerous</th>\n",
       "      <td>316</td>\n",
       "      <td>224</td>\n",
       "    </tr>\n",
       "    <tr>\n",
       "      <th>real not_bite/not_dangerous</th>\n",
       "      <td>2063</td>\n",
       "      <td>3432</td>\n",
       "    </tr>\n",
       "  </tbody>\n",
       "</table>\n",
       "</div>"
      ],
      "text/plain": [
       "                             pred bite/dangerous  pred not_bite/not_dangerous\n",
       "real bite/dangerous                          316                          224\n",
       "real not_bite/not_dangerous                 2063                         3432"
      ]
     },
     "metadata": {},
     "output_type": "display_data"
    }
   ],
   "source": [
    "lr = LogisticRegression(random_state=3)\n",
    "lr.fit(X_train, y_train)\n",
    " \n",
    "# Predict on training set\n",
    "predictions = lr.predict(X_test)\n",
    "actuals = y_test\n",
    "\n",
    "model_report(lr)"
   ]
  },
  {
   "cell_type": "markdown",
   "metadata": {},
   "source": [
    "### decision tree"
   ]
  },
  {
   "cell_type": "markdown",
   "metadata": {},
   "source": [
    "__default model__"
   ]
  },
  {
   "cell_type": "code",
   "execution_count": 102,
   "metadata": {
    "ExecuteTime": {
     "end_time": "2020-03-03T21:49:12.732513Z",
     "start_time": "2020-03-03T21:49:09.916365Z"
    }
   },
   "outputs": [
    {
     "data": {
      "text/plain": [
       "DecisionTreeClassifier(ccp_alpha=0.0, class_weight=None, criterion='gini',\n",
       "                       max_depth=None, max_features=None, max_leaf_nodes=None,\n",
       "                       min_impurity_decrease=0.0, min_impurity_split=None,\n",
       "                       min_samples_leaf=1, min_samples_split=2,\n",
       "                       min_weight_fraction_leaf=0.0, presort='deprecated',\n",
       "                       random_state=3, splitter='best')"
      ]
     },
     "execution_count": 102,
     "metadata": {},
     "output_type": "execute_result"
    },
    {
     "name": "stdout",
     "output_type": "stream",
     "text": [
      "\n",
      "Cross Validation Scoring:\n",
      "\n",
      "train score: 72.44%\n",
      "test score: 52.34%\n",
      "cross val score: 89.92%\n",
      "\n",
      "Classification Report:\n",
      "                precision    recall  f1-score   support\n",
      "\n",
      "bite_dangerous       0.11      0.62      0.19       540\n",
      " not_bite/dang       0.93      0.51      0.66      5495\n",
      "\n",
      "      accuracy                           0.52      6035\n",
      "     macro avg       0.52      0.57      0.43      6035\n",
      "  weighted avg       0.86      0.52      0.62      6035\n",
      "\n",
      "\n",
      "Confusion matrix:\n"
     ]
    },
    {
     "data": {
      "text/html": [
       "<div>\n",
       "<style scoped>\n",
       "    .dataframe tbody tr th:only-of-type {\n",
       "        vertical-align: middle;\n",
       "    }\n",
       "\n",
       "    .dataframe tbody tr th {\n",
       "        vertical-align: top;\n",
       "    }\n",
       "\n",
       "    .dataframe thead th {\n",
       "        text-align: right;\n",
       "    }\n",
       "</style>\n",
       "<table border=\"1\" class=\"dataframe\">\n",
       "  <thead>\n",
       "    <tr style=\"text-align: right;\">\n",
       "      <th></th>\n",
       "      <th>pred bite/dangerous</th>\n",
       "      <th>pred not_bite/not_dangerous</th>\n",
       "    </tr>\n",
       "  </thead>\n",
       "  <tbody>\n",
       "    <tr>\n",
       "      <th>real bite/dangerous</th>\n",
       "      <td>333</td>\n",
       "      <td>207</td>\n",
       "    </tr>\n",
       "    <tr>\n",
       "      <th>real not_bite/not_dangerous</th>\n",
       "      <td>2669</td>\n",
       "      <td>2826</td>\n",
       "    </tr>\n",
       "  </tbody>\n",
       "</table>\n",
       "</div>"
      ],
      "text/plain": [
       "                             pred bite/dangerous  pred not_bite/not_dangerous\n",
       "real bite/dangerous                          333                          207\n",
       "real not_bite/not_dangerous                 2669                         2826"
      ]
     },
     "metadata": {},
     "output_type": "display_data"
    }
   ],
   "source": [
    "# initialize and fit default decision tree\n",
    "dt_model = DecisionTreeClassifier(random_state=3)\n",
    "dt_model.fit(X_train, y_train)\n",
    "predictions = dt_model.predict(X_test)\n",
    "#actuals = y_test\n",
    "\n",
    "model_report(dt_model)"
   ]
  },
  {
   "cell_type": "markdown",
   "metadata": {},
   "source": [
    "#### grid searches"
   ]
  },
  {
   "cell_type": "code",
   "execution_count": 103,
   "metadata": {
    "ExecuteTime": {
     "end_time": "2020-03-03T21:50:07.708454Z",
     "start_time": "2020-03-03T21:49:48.536902Z"
    }
   },
   "outputs": [
    {
     "name": "stdout",
     "output_type": "stream",
     "text": [
      "Fitting 5 folds for each of 100 candidates, totalling 500 fits\n"
     ]
    },
    {
     "name": "stderr",
     "output_type": "stream",
     "text": [
      "[Parallel(n_jobs=-1)]: Using backend LokyBackend with 4 concurrent workers.\n",
      "[Parallel(n_jobs=-1)]: Done  24 tasks      | elapsed:    5.9s\n",
      "[Parallel(n_jobs=-1)]: Done 296 tasks      | elapsed:   13.7s\n"
     ]
    },
    {
     "name": "stdout",
     "output_type": "stream",
     "text": [
      "best score: 60.08%\n",
      "{'min_samples_split': 2, 'min_samples_leaf': 8, 'max_leaf_nodes': None, 'max_features': 70, 'max_depth': 20, 'criterion': 'gini'}\n"
     ]
    },
    {
     "name": "stderr",
     "output_type": "stream",
     "text": [
      "[Parallel(n_jobs=-1)]: Done 500 out of 500 | elapsed:   19.1s finished\n"
     ]
    }
   ],
   "source": [
    "# set random search params\n",
    "criterion=['gini','entropy']\n",
    "max_leaf_nodes = [None]\n",
    "max_features = [50,60,65,70,80]\n",
    "max_depth = [5,10,15,20,25]\n",
    "min_samples_split = [1,2,3,4,5]\n",
    "min_samples_leaf = [6,8,10,12,15]\n",
    "\n",
    "random_grid = {'criterion':criterion,\n",
    "               'max_leaf_nodes': max_leaf_nodes,\n",
    "               'max_features': max_features,\n",
    "               'max_depth': max_depth,\n",
    "               'min_samples_split': min_samples_split,\n",
    "               'min_samples_leaf': min_samples_leaf\n",
    "               }\n",
    "\n",
    "# random grid search\n",
    "dt_random = RandomizedSearchCV(estimator = dt_model\n",
    "                               , param_distributions = random_grid\n",
    "                               , n_iter = 100, cv = 5, verbose=3, error_score=0\n",
    "                               , scoring=('f1_macro')\n",
    "                               , random_state=3, n_jobs = -1);\n",
    "# fit random search model\n",
    "dt_random.fit(X_train, y_train);\n",
    "\n",
    "print('best score: {:.4}%'.format(dt_random.best_score_ * 100));\n",
    "print(dt_random.best_params_);"
   ]
  },
  {
   "cell_type": "markdown",
   "metadata": {},
   "source": [
    "__grid search__"
   ]
  },
  {
   "cell_type": "code",
   "execution_count": 119,
   "metadata": {
    "ExecuteTime": {
     "end_time": "2020-03-03T22:02:25.079957Z",
     "start_time": "2020-03-03T22:00:35.928823Z"
    }
   },
   "outputs": [
    {
     "name": "stdout",
     "output_type": "stream",
     "text": [
      "Fitting 5 folds for each of 2100 candidates, totalling 10500 fits\n"
     ]
    },
    {
     "name": "stderr",
     "output_type": "stream",
     "text": [
      "[Parallel(n_jobs=-1)]: Using backend LokyBackend with 4 concurrent workers.\n",
      "[Parallel(n_jobs=-1)]: Done  34 tasks      | elapsed:    4.2s\n",
      "[Parallel(n_jobs=-1)]: Done 928 tasks      | elapsed:   13.0s\n",
      "[Parallel(n_jobs=-1)]: Done 2552 tasks      | elapsed:   29.0s\n",
      "[Parallel(n_jobs=-1)]: Done 4816 tasks      | elapsed:   51.2s\n",
      "[Parallel(n_jobs=-1)]: Done 7736 tasks      | elapsed:  1.3min\n",
      "[Parallel(n_jobs=-1)]: Done 10500 out of 10500 | elapsed:  1.8min finished\n"
     ]
    },
    {
     "data": {
      "text/plain": [
       "GridSearchCV(cv=5, error_score=0,\n",
       "             estimator=DecisionTreeClassifier(ccp_alpha=0.0, class_weight=None,\n",
       "                                              criterion='gini', max_depth=None,\n",
       "                                              max_features=None,\n",
       "                                              max_leaf_nodes=None,\n",
       "                                              min_impurity_decrease=0.0,\n",
       "                                              min_impurity_split=None,\n",
       "                                              min_samples_leaf=1,\n",
       "                                              min_samples_split=2,\n",
       "                                              min_weight_fraction_leaf=0.0,\n",
       "                                              presort='deprecated',\n",
       "                                              random_state=3, splitter='best'),\n",
       "             iid='deprecated', n_jobs=-1,\n",
       "             param_grid={'criterion': ['entropy', 'gini'],\n",
       "                         'max_depth': [14, 15, 16, 17, 18],\n",
       "                         'max_features': [65, 67, 69, 70, 72, 75],\n",
       "                         'max_leaf_nodes': [None],\n",
       "                         'min_samples_leaf': [4, 5, 6, 7, 8, 9, 10],\n",
       "                         'min_samples_split': [1, 2, 3, 4, 5]},\n",
       "             pre_dispatch='2*n_jobs', refit=True, return_train_score=False,\n",
       "             scoring='f1_macro', verbose=2)"
      ]
     },
     "execution_count": 119,
     "metadata": {},
     "output_type": "execute_result"
    },
    {
     "name": "stdout",
     "output_type": "stream",
     "text": [
      "Best score: 60.4%\n",
      "params:\n",
      " {'criterion': 'entropy', 'max_depth': 16, 'max_features': 65, 'max_leaf_nodes': None, 'min_samples_leaf': 9, 'min_samples_split': 2}\n"
     ]
    }
   ],
   "source": [
    "# grid search params\n",
    "param_grid_dt = {'criterion': ['entropy', 'gini'],\n",
    "    'max_depth': [15,16,17,18,20],\n",
    "    'min_samples_split': [1,2,3,4,5],\n",
    "    'min_samples_leaf': [7,8,9,10],\n",
    "     'max_features':[60,62,63,65,67],\n",
    "     'max_leaf_nodes':[None]\n",
    "        }\n",
    "\n",
    "# grid search\n",
    "gs_dt = GridSearchCV(estimator=dt_model,param_grid=param_grid_dt,\n",
    "                    error_score=0,scoring=('f1_macro'),\n",
    "                    cv=5, n_jobs=-1, verbose=2)\n",
    "\n",
    "# fitting grid search\n",
    "gs_dt.fit(X_train, y_train)\n",
    "\n",
    "# best parameters\n",
    "print('Best score: {:.3}%'.format(gs_dt.best_score_ * 100))\n",
    "print('params:\\n', gs_dt.best_params_)"
   ]
  },
  {
   "cell_type": "code",
   "execution_count": 128,
   "metadata": {
    "ExecuteTime": {
     "end_time": "2020-03-03T22:51:35.364368Z",
     "start_time": "2020-03-03T22:51:35.325283Z"
    }
   },
   "outputs": [
    {
     "data": {
      "text/plain": [
       "DecisionTreeClassifier(ccp_alpha=0.0, class_weight=None, criterion='entropy',\n",
       "                       max_depth=16, max_features=65, max_leaf_nodes=None,\n",
       "                       min_impurity_decrease=0.0, min_impurity_split=None,\n",
       "                       min_samples_leaf=9, min_samples_split=2,\n",
       "                       min_weight_fraction_leaf=0.0, presort='deprecated',\n",
       "                       random_state=None, splitter='best')"
      ]
     },
     "execution_count": 128,
     "metadata": {},
     "output_type": "execute_result"
    }
   ],
   "source": [
    "# using best params to fit model\n",
    "dt_gs_model = DecisionTreeClassifier(criterion='entropy',\n",
    "                              max_depth=16,\n",
    "                              max_features=65,\n",
    "                              max_leaf_nodes= None,\n",
    "                               min_samples_leaf=9,\n",
    "                               min_samples_split=2\n",
    "                                 )\n",
    "dt_gs_model.fit(X_train, y_train)\n",
    "\n",
    "predictions = dt_gs_model.predict(X_test)\n",
    "actuals = y_test"
   ]
  },
  {
   "cell_type": "markdown",
   "metadata": {},
   "source": [
    "#### final model"
   ]
  },
  {
   "cell_type": "code",
   "execution_count": 129,
   "metadata": {
    "ExecuteTime": {
     "end_time": "2020-03-03T22:51:40.735525Z",
     "start_time": "2020-03-03T22:51:39.255148Z"
    }
   },
   "outputs": [
    {
     "name": "stdout",
     "output_type": "stream",
     "text": [
      "\n",
      "Cross Validation Scoring:\n",
      "\n",
      "train score: 63.32%\n",
      "test score: 56.09%\n",
      "cross val score: 91.01%\n",
      "\n",
      "Classification Report:\n",
      "                precision    recall  f1-score   support\n",
      "\n",
      "bite_dangerous       0.12      0.61      0.20       540\n",
      " not_bite/dang       0.94      0.56      0.70      5495\n",
      "\n",
      "      accuracy                           0.56      6035\n",
      "     macro avg       0.53      0.58      0.45      6035\n",
      "  weighted avg       0.86      0.56      0.65      6035\n",
      "\n",
      "\n",
      "Confusion matrix:\n"
     ]
    },
    {
     "data": {
      "text/html": [
       "<div>\n",
       "<style scoped>\n",
       "    .dataframe tbody tr th:only-of-type {\n",
       "        vertical-align: middle;\n",
       "    }\n",
       "\n",
       "    .dataframe tbody tr th {\n",
       "        vertical-align: top;\n",
       "    }\n",
       "\n",
       "    .dataframe thead th {\n",
       "        text-align: right;\n",
       "    }\n",
       "</style>\n",
       "<table border=\"1\" class=\"dataframe\">\n",
       "  <thead>\n",
       "    <tr style=\"text-align: right;\">\n",
       "      <th></th>\n",
       "      <th>pred bite/dangerous</th>\n",
       "      <th>pred not_bite/not_dangerous</th>\n",
       "    </tr>\n",
       "  </thead>\n",
       "  <tbody>\n",
       "    <tr>\n",
       "      <th>real bite/dangerous</th>\n",
       "      <td>328</td>\n",
       "      <td>212</td>\n",
       "    </tr>\n",
       "    <tr>\n",
       "      <th>real not_bite/not_dangerous</th>\n",
       "      <td>2438</td>\n",
       "      <td>3057</td>\n",
       "    </tr>\n",
       "  </tbody>\n",
       "</table>\n",
       "</div>"
      ],
      "text/plain": [
       "                             pred bite/dangerous  pred not_bite/not_dangerous\n",
       "real bite/dangerous                          328                          212\n",
       "real not_bite/not_dangerous                 2438                         3057"
      ]
     },
     "metadata": {},
     "output_type": "display_data"
    }
   ],
   "source": [
    "model_report(dt_gs_model)"
   ]
  },
  {
   "cell_type": "code",
   "execution_count": null,
   "metadata": {},
   "outputs": [],
   "source": [
    "plot_matrix(dt_gs_model)"
   ]
  },
  {
   "cell_type": "code",
   "execution_count": 67,
   "metadata": {
    "ExecuteTime": {
     "end_time": "2020-03-03T18:23:49.571786Z",
     "start_time": "2020-03-03T18:23:47.913309Z"
    }
   },
   "outputs": [
    {
     "data": {
      "image/png": "[encoded data removed]",
      "text/plain": [
       "<Figure size 576x720 with 1 Axes>"
      ]
     },
     "metadata": {
      "needs_background": "light"
     },
     "output_type": "display_data"
    }
   ],
   "source": [
    "\n",
    "\n",
    "plot_feats(dt_gs_model)"
   ]
  },
  {
   "cell_type": "markdown",
   "metadata": {},
   "source": [
    "### Random Forest"
   ]
  },
  {
   "cell_type": "markdown",
   "metadata": {},
   "source": [
    "---\n",
    "__default model__"
   ]
  },
  {
   "cell_type": "code",
   "execution_count": 123,
   "metadata": {
    "ExecuteTime": {
     "end_time": "2020-03-03T22:19:16.284193Z",
     "start_time": "2020-03-03T22:19:05.208023Z"
    }
   },
   "outputs": [
    {
     "data": {
      "text/plain": [
       "RandomForestClassifier(bootstrap=True, ccp_alpha=0.0, class_weight=None,\n",
       "                       criterion='gini', max_depth=None, max_features='auto',\n",
       "                       max_leaf_nodes=None, max_samples=None,\n",
       "                       min_impurity_decrease=0.0, min_impurity_split=None,\n",
       "                       min_samples_leaf=1, min_samples_split=2,\n",
       "                       min_weight_fraction_leaf=0.0, n_estimators=100,\n",
       "                       n_jobs=None, oob_score=False, random_state=3, verbose=0,\n",
       "                       warm_start=False)"
      ]
     },
     "execution_count": 123,
     "metadata": {},
     "output_type": "execute_result"
    },
    {
     "name": "stdout",
     "output_type": "stream",
     "text": [
      "\n",
      "Cross Validation Scoring:\n",
      "\n",
      "train score: 72.44%\n",
      "test score: 56.32%\n",
      "cross val score: 90.58%\n",
      "\n",
      "Classification Report:\n",
      "                precision    recall  f1-score   support\n",
      "\n",
      "bite_dangerous       0.12      0.59      0.19       540\n",
      " not_bite/dang       0.93      0.56      0.70      5495\n",
      "\n",
      "      accuracy                           0.56      6035\n",
      "     macro avg       0.52      0.57      0.45      6035\n",
      "  weighted avg       0.86      0.56      0.66      6035\n",
      "\n",
      "\n",
      "Confusion matrix:\n"
     ]
    },
    {
     "data": {
      "text/html": [
       "<div>\n",
       "<style scoped>\n",
       "    .dataframe tbody tr th:only-of-type {\n",
       "        vertical-align: middle;\n",
       "    }\n",
       "\n",
       "    .dataframe tbody tr th {\n",
       "        vertical-align: top;\n",
       "    }\n",
       "\n",
       "    .dataframe thead th {\n",
       "        text-align: right;\n",
       "    }\n",
       "</style>\n",
       "<table border=\"1\" class=\"dataframe\">\n",
       "  <thead>\n",
       "    <tr style=\"text-align: right;\">\n",
       "      <th></th>\n",
       "      <th>pred bite/dangerous</th>\n",
       "      <th>pred not_bite/not_dangerous</th>\n",
       "    </tr>\n",
       "  </thead>\n",
       "  <tbody>\n",
       "    <tr>\n",
       "      <th>real bite/dangerous</th>\n",
       "      <td>317</td>\n",
       "      <td>223</td>\n",
       "    </tr>\n",
       "    <tr>\n",
       "      <th>real not_bite/not_dangerous</th>\n",
       "      <td>2413</td>\n",
       "      <td>3082</td>\n",
       "    </tr>\n",
       "  </tbody>\n",
       "</table>\n",
       "</div>"
      ],
      "text/plain": [
       "                             pred bite/dangerous  pred not_bite/not_dangerous\n",
       "real bite/dangerous                          317                          223\n",
       "real not_bite/not_dangerous                 2413                         3082"
      ]
     },
     "metadata": {},
     "output_type": "display_data"
    }
   ],
   "source": [
    "#initialize and fit random forest\n",
    "rf_model = RandomForestClassifier(random_state=3)\n",
    "rf_model.fit(X_train, y_train)\n",
    "\n",
    "predictions = rf_model.predict(X_test)\n",
    "#actuals = y_test\n",
    "\n",
    "model_report(rf_model)"
   ]
  },
  {
   "cell_type": "markdown",
   "metadata": {},
   "source": [
    "#### grid searches"
   ]
  },
  {
   "cell_type": "markdown",
   "metadata": {},
   "source": [
    "___\n",
    "__Random Grid Search__"
   ]
  },
  {
   "cell_type": "markdown",
   "metadata": {},
   "source": [
    "The default model is overfitting. Some ways to avoid overfitting with random forests are: increasing the n_estimators, reducing max features, limiting max depth, and increasing min leaf samples can help construct a more robust fit. Being that it did perform well despite the overfitting, I decided not to go crazy playing with the parameters."
   ]
  },
  {
   "cell_type": "code",
   "execution_count": 124,
   "metadata": {
    "ExecuteTime": {
     "end_time": "2020-03-03T22:38:19.529575Z",
     "start_time": "2020-03-03T22:19:16.287636Z"
    }
   },
   "outputs": [
    {
     "name": "stdout",
     "output_type": "stream",
     "text": [
      "Fitting 5 folds for each of 100 candidates, totalling 500 fits\n"
     ]
    },
    {
     "name": "stderr",
     "output_type": "stream",
     "text": [
      "[Parallel(n_jobs=-1)]: Using backend LokyBackend with 4 concurrent workers.\n",
      "[Parallel(n_jobs=-1)]: Done   5 tasks      | elapsed:    9.4s\n",
      "[Parallel(n_jobs=-1)]: Done  10 tasks      | elapsed:   11.7s\n",
      "[Parallel(n_jobs=-1)]: Done  17 tasks      | elapsed:   20.5s\n",
      "[Parallel(n_jobs=-1)]: Done  24 tasks      | elapsed:   28.6s\n",
      "[Parallel(n_jobs=-1)]: Done  33 tasks      | elapsed:   34.4s\n",
      "[Parallel(n_jobs=-1)]: Done  42 tasks      | elapsed:   41.4s\n",
      "[Parallel(n_jobs=-1)]: Done  53 tasks      | elapsed:   56.4s\n",
      "[Parallel(n_jobs=-1)]: Done  64 tasks      | elapsed:  1.3min\n",
      "[Parallel(n_jobs=-1)]: Done  77 tasks      | elapsed:  1.4min\n",
      "[Parallel(n_jobs=-1)]: Done  90 tasks      | elapsed:  1.6min\n",
      "[Parallel(n_jobs=-1)]: Done 105 tasks      | elapsed:  2.2min\n",
      "[Parallel(n_jobs=-1)]: Done 120 tasks      | elapsed:  2.5min\n",
      "[Parallel(n_jobs=-1)]: Done 137 tasks      | elapsed:  3.1min\n",
      "[Parallel(n_jobs=-1)]: Done 154 tasks      | elapsed:  3.4min\n",
      "[Parallel(n_jobs=-1)]: Done 173 tasks      | elapsed:  3.8min\n",
      "[Parallel(n_jobs=-1)]: Done 192 tasks      | elapsed:  4.4min\n",
      "[Parallel(n_jobs=-1)]: Done 213 tasks      | elapsed:  4.8min\n",
      "[Parallel(n_jobs=-1)]: Done 234 tasks      | elapsed:  5.1min\n",
      "[Parallel(n_jobs=-1)]: Done 257 tasks      | elapsed:  5.7min\n",
      "[Parallel(n_jobs=-1)]: Done 280 tasks      | elapsed:  7.2min\n",
      "[Parallel(n_jobs=-1)]: Done 305 tasks      | elapsed:  8.9min\n",
      "[Parallel(n_jobs=-1)]: Done 330 tasks      | elapsed: 10.0min\n",
      "[Parallel(n_jobs=-1)]: Done 357 tasks      | elapsed: 11.5min\n",
      "[Parallel(n_jobs=-1)]: Done 384 tasks      | elapsed: 12.7min\n",
      "[Parallel(n_jobs=-1)]: Done 413 tasks      | elapsed: 13.9min\n",
      "[Parallel(n_jobs=-1)]: Done 442 tasks      | elapsed: 15.0min\n",
      "[Parallel(n_jobs=-1)]: Done 473 tasks      | elapsed: 16.8min\n",
      "[Parallel(n_jobs=-1)]: Done 500 out of 500 | elapsed: 18.7min finished\n"
     ]
    },
    {
     "name": "stdout",
     "output_type": "stream",
     "text": [
      "best score: 59.67%\n",
      "{'n_estimators': 1500, 'min_weight_fraction_leaf': 0.0, 'min_samples_split': 6, 'min_samples_leaf': 1, 'min_impurity_split': 0.0, 'min_impurity_decrease': 0.0, 'max_samples': None, 'max_leaf_nodes': 15, 'max_features': 50, 'max_depth': 80, 'criterion': 'gini', 'bootstrap': False}\n"
     ]
    }
   ],
   "source": [
    "# set random search params\n",
    "\n",
    "n_estimators = [600,800,700,1000,1500]\n",
    "min_weight_fraction_leaf=[0.0, 0.0001, 0.00001]\n",
    "min_samples_split = [3,4,5,6,7,8]\n",
    "min_samples_leaf = [1]\n",
    "min_impurity_split = [0.0]\n",
    "min_impurity_decrease = [0.0, 0.0001, 0.01]\n",
    "max_samples = [None]\n",
    "max_leaf_nodes = [None, 3,10,15,20,25,30]\n",
    "max_features = ['auto', 3,5,6,8,10,50]\n",
    "max_depth = [10,30,60,70,80,100,130]\n",
    "criterion = ['entropy', 'gini']\n",
    "bootstrap = [True, False]\n",
    "\n",
    "# Create the random grid\n",
    "random_grid = { 'n_estimators': n_estimators,\n",
    "                 'min_weight_fraction_leaf': min_weight_fraction_leaf,\n",
    "                 'min_samples_split': min_samples_split,\n",
    "                 'min_samples_leaf': min_samples_leaf,\n",
    "                 'min_impurity_split': min_impurity_split,\n",
    "                 'min_impurity_decrease': min_impurity_decrease,\n",
    "                 'max_samples': max_samples,\n",
    "                 'max_leaf_nodes': max_leaf_nodes,\n",
    "                 'max_features': max_features,\n",
    "                  'max_depth': max_depth,\n",
    "                 'criterion': criterion,\n",
    "                 'bootstrap': bootstrap\n",
    "              }\n",
    "\n",
    "# fit and search random param combinations\n",
    "rf_random = RandomizedSearchCV(estimator = rf_model, param_distributions = random_grid\n",
    "                               , n_iter = 150, cv = 5, verbose=5\n",
    "                               , random_state=1, scoring='f1_macro', n_jobs = -1);\n",
    "# Fit the random search model\n",
    "rf_random.fit(X_train, y_train);\n",
    "\n",
    "# print best parameters\n",
    "print('best score: {:.4}%'.format(rf_random.best_score_ * 100));\n",
    "print(rf_random.best_params_);"
   ]
  },
  {
   "cell_type": "markdown",
   "metadata": {},
   "source": [
    "___\n",
    "__grid search__"
   ]
  },
  {
   "cell_type": "code",
   "execution_count": 130,
   "metadata": {
    "ExecuteTime": {
     "end_time": "2020-03-03T23:54:13.373320Z",
     "start_time": "2020-03-03T22:55:18.484763Z"
    }
   },
   "outputs": [
    {
     "name": "stdout",
     "output_type": "stream",
     "text": [
      "Fitting 5 folds for each of 216 candidates, totalling 1080 fits\n"
     ]
    },
    {
     "name": "stderr",
     "output_type": "stream",
     "text": [
      "[Parallel(n_jobs=-1)]: Using backend LokyBackend with 4 concurrent workers.\n",
      "[Parallel(n_jobs=-1)]: Done  10 tasks      | elapsed:   38.8s\n",
      "[Parallel(n_jobs=-1)]: Done  64 tasks      | elapsed:  3.4min\n",
      "[Parallel(n_jobs=-1)]: Done 154 tasks      | elapsed:  8.2min\n",
      "[Parallel(n_jobs=-1)]: Done 280 tasks      | elapsed: 14.8min\n",
      "[Parallel(n_jobs=-1)]: Done 442 tasks      | elapsed: 22.4min\n",
      "[Parallel(n_jobs=-1)]: Done 640 tasks      | elapsed: 32.6min\n",
      "[Parallel(n_jobs=-1)]: Done 874 tasks      | elapsed: 47.6min\n",
      "[Parallel(n_jobs=-1)]: Done 1080 out of 1080 | elapsed: 58.8min finished\n"
     ]
    },
    {
     "name": "stdout",
     "output_type": "stream",
     "text": [
      "best score: 58.14%\n",
      "params:\n",
      " {'bootstrap': False, 'criterion': 'gini', 'max_depth': 75, 'max_features': 'auto', 'max_leaf_nodes': 14, 'max_samples': None, 'min_samples_leaf': 1, 'min_samples_split': 7, 'n_estimators': 1400}\n"
     ]
    }
   ],
   "source": [
    "param_grid_rf = {\n",
    "        'n_estimators': [1350,1400,1450]\n",
    "         , 'min_samples_leaf': [1,2]\n",
    "         , 'min_samples_split':[6,7,8]\n",
    "        , 'max_samples': [None]\n",
    "       , 'max_leaf_nodes':[13,14,15]\n",
    "         , 'max_features': ['auto']\n",
    "         , 'max_depth': [70,75,80]\n",
    "         , 'criterion': [ 'entropy','gini']\n",
    "         , 'bootstrap': [False]\n",
    "}\n",
    "\n",
    "# grid search\n",
    "gs_rf = GridSearchCV(estimator=rf_model,param_grid=param_grid_rf\n",
    "                    ,cv=5,scoring='f1_macro',refit=True,error_score=0\n",
    "                    , n_jobs=-1, verbose=5)\n",
    "\n",
    "# fitting grid search\n",
    "gs_rf.fit(X_train, y_train);\n",
    "\n",
    "# best parameters\n",
    "print('best score: {:.4}%'.format(gs_rf.best_score_ * 100));\n",
    "print('params:\\n', gs_rf.best_params_);"
   ]
  },
  {
   "cell_type": "markdown",
   "metadata": {},
   "source": [
    "#### final model"
   ]
  },
  {
   "cell_type": "markdown",
   "metadata": {},
   "source": [
    "___\n",
    "__best model__"
   ]
  },
  {
   "cell_type": "code",
   "execution_count": 145,
   "metadata": {
    "ExecuteTime": {
     "end_time": "2020-03-04T01:47:53.002272Z",
     "start_time": "2020-03-04T01:46:01.642687Z"
    },
    "scrolled": false
   },
   "outputs": [
    {
     "data": {
      "text/plain": [
       "RandomForestClassifier(bootstrap=False, ccp_alpha=0.0, class_weight=None,\n",
       "                       criterion='gini', max_depth=75, max_features='auto',\n",
       "                       max_leaf_nodes=14, max_samples=None,\n",
       "                       min_impurity_decrease=0.0, min_impurity_split=None,\n",
       "                       min_samples_leaf=1, min_samples_split=7,\n",
       "                       min_weight_fraction_leaf=0.0, n_estimators=1400,\n",
       "                       n_jobs=None, oob_score=False, random_state=None,\n",
       "                       verbose=0, warm_start=False)"
      ]
     },
     "execution_count": 145,
     "metadata": {},
     "output_type": "execute_result"
    },
    {
     "name": "stdout",
     "output_type": "stream",
     "text": [
      "\n",
      "Cross Validation Scoring:\n",
      "\n",
      "train score: 61.5%\n",
      "test score: 60.35%\n",
      "cross val score: 91.05%\n",
      "\n",
      "Classification Report:\n",
      "                precision    recall  f1-score   support\n",
      "\n",
      "bite_dangerous       0.13      0.60      0.21       540\n",
      " not_bite/dang       0.94      0.60      0.73      5495\n",
      "\n",
      "      accuracy                           0.60      6035\n",
      "     macro avg       0.53      0.60      0.47      6035\n",
      "  weighted avg       0.87      0.60      0.69      6035\n",
      "\n",
      "\n",
      "Confusion matrix:\n"
     ]
    },
    {
     "data": {
      "text/html": [
       "<div>\n",
       "<style scoped>\n",
       "    .dataframe tbody tr th:only-of-type {\n",
       "        vertical-align: middle;\n",
       "    }\n",
       "\n",
       "    .dataframe tbody tr th {\n",
       "        vertical-align: top;\n",
       "    }\n",
       "\n",
       "    .dataframe thead th {\n",
       "        text-align: right;\n",
       "    }\n",
       "</style>\n",
       "<table border=\"1\" class=\"dataframe\">\n",
       "  <thead>\n",
       "    <tr style=\"text-align: right;\">\n",
       "      <th></th>\n",
       "      <th>pred bite/dangerous</th>\n",
       "      <th>pred not_bite/not_dangerous</th>\n",
       "    </tr>\n",
       "  </thead>\n",
       "  <tbody>\n",
       "    <tr>\n",
       "      <th>real bite/dangerous</th>\n",
       "      <td>325</td>\n",
       "      <td>215</td>\n",
       "    </tr>\n",
       "    <tr>\n",
       "      <th>real not_bite/not_dangerous</th>\n",
       "      <td>2178</td>\n",
       "      <td>3317</td>\n",
       "    </tr>\n",
       "  </tbody>\n",
       "</table>\n",
       "</div>"
      ],
      "text/plain": [
       "                             pred bite/dangerous  pred not_bite/not_dangerous\n",
       "real bite/dangerous                          325                          215\n",
       "real not_bite/not_dangerous                 2178                         3317"
      ]
     },
     "metadata": {},
     "output_type": "display_data"
    }
   ],
   "source": [
    "# fitting model using best params\n",
    "rf_gs_model = RandomForestClassifier(\n",
    "                                   bootstrap= False\n",
    "                                    ,criterion= 'gini'\n",
    "                                    , max_depth= 75\n",
    "                                   , max_features = 'auto'\n",
    "                                   , max_leaf_nodes = 14\n",
    "                                   , max_samples = None\n",
    "                                    , min_samples_leaf = 1\n",
    "                                   , min_samples_split = 7\n",
    "                                    , n_estimators = 1400\n",
    "                                    );\n",
    "rf_gs_model.fit(X_train, y_train);\n",
    "\n",
    "predictions = rf_gs_model.predict(X_test);\n",
    "\n",
    "# new model report\n",
    "model_report(rf_gs_model)"
   ]
  },
  {
   "cell_type": "code",
   "execution_count": 84,
   "metadata": {
    "ExecuteTime": {
     "end_time": "2020-03-03T18:38:06.471452Z",
     "start_time": "2020-03-03T18:37:57.218013Z"
    }
   },
   "outputs": [
    {
     "data": {
      "image/png": "[encoded data removed]",
      "text/plain": [
       "<Figure size 432x288 with 2 Axes>"
      ]
     },
     "metadata": {
      "needs_background": "light"
     },
     "output_type": "display_data"
    }
   ],
   "source": [
    "plot_matrix(rf_gs_model)"
   ]
  },
  {
   "cell_type": "code",
   "execution_count": 68,
   "metadata": {
    "ExecuteTime": {
     "end_time": "2020-03-03T18:25:08.491602Z",
     "start_time": "2020-03-03T18:25:04.997483Z"
    }
   },
   "outputs": [
    {
     "data": {
      "image/png": "[encoded data removed]",
      "text/plain": [
       "<Figure size 576x720 with 1 Axes>"
      ]
     },
     "metadata": {
      "needs_background": "light"
     },
     "output_type": "display_data"
    }
   ],
   "source": [
    "plot_feats(rf_gs_model)"
   ]
  },
  {
   "cell_type": "markdown",
   "metadata": {},
   "source": [
    "### XGBoost"
   ]
  },
  {
   "cell_type": "code",
   "execution_count": 125,
   "metadata": {
    "ExecuteTime": {
     "end_time": "2020-03-03T22:38:25.391344Z",
     "start_time": "2020-03-03T22:38:19.538285Z"
    }
   },
   "outputs": [
    {
     "data": {
      "text/plain": [
       "XGBClassifier(base_score=0.5, booster='gbtree', colsample_bylevel=1,\n",
       "              colsample_bynode=1, colsample_bytree=1, gamma=0,\n",
       "              learning_rate=0.1, max_delta_step=0, max_depth=3,\n",
       "              min_child_weight=1, missing=None, n_estimators=100, n_jobs=1,\n",
       "              nthread=None, objective='binary:logistic', random_state=3,\n",
       "              reg_alpha=0, reg_lambda=1, scale_pos_weight=1, seed=None,\n",
       "              silent=None, subsample=1, verbosity=1)"
      ]
     },
     "execution_count": 125,
     "metadata": {},
     "output_type": "execute_result"
    }
   ],
   "source": [
    "# initiate model\n",
    "xgb_model = XGBClassifier(random_state=3)\n",
    "xgb_model.fit(X_train, y_train)\n",
    "\n",
    "predictions = xgb_model.predict(X_test)\n",
    "# actuals = y_test"
   ]
  },
  {
   "cell_type": "code",
   "execution_count": 126,
   "metadata": {
    "ExecuteTime": {
     "end_time": "2020-03-03T22:39:42.755936Z",
     "start_time": "2020-03-03T22:38:25.397924Z"
    }
   },
   "outputs": [
    {
     "name": "stdout",
     "output_type": "stream",
     "text": [
      "\n",
      "Cross Validation Scoring:\n",
      "\n",
      "train score: 62.45%\n",
      "test score: 64.62%\n",
      "cross val score: 91.05%\n",
      "\n",
      "Classification Report:\n",
      "                precision    recall  f1-score   support\n",
      "\n",
      "bite_dangerous       0.14      0.55      0.22       540\n",
      " not_bite/dang       0.94      0.66      0.77      5495\n",
      "\n",
      "      accuracy                           0.65      6035\n",
      "     macro avg       0.54      0.60      0.50      6035\n",
      "  weighted avg       0.87      0.65      0.72      6035\n",
      "\n",
      "\n",
      "Confusion matrix:\n"
     ]
    },
    {
     "data": {
      "text/html": [
       "<div>\n",
       "<style scoped>\n",
       "    .dataframe tbody tr th:only-of-type {\n",
       "        vertical-align: middle;\n",
       "    }\n",
       "\n",
       "    .dataframe tbody tr th {\n",
       "        vertical-align: top;\n",
       "    }\n",
       "\n",
       "    .dataframe thead th {\n",
       "        text-align: right;\n",
       "    }\n",
       "</style>\n",
       "<table border=\"1\" class=\"dataframe\">\n",
       "  <thead>\n",
       "    <tr style=\"text-align: right;\">\n",
       "      <th></th>\n",
       "      <th>pred bite/dangerous</th>\n",
       "      <th>pred not_bite/not_dangerous</th>\n",
       "    </tr>\n",
       "  </thead>\n",
       "  <tbody>\n",
       "    <tr>\n",
       "      <th>real bite/dangerous</th>\n",
       "      <td>299</td>\n",
       "      <td>241</td>\n",
       "    </tr>\n",
       "    <tr>\n",
       "      <th>real not_bite/not_dangerous</th>\n",
       "      <td>1894</td>\n",
       "      <td>3601</td>\n",
       "    </tr>\n",
       "  </tbody>\n",
       "</table>\n",
       "</div>"
      ],
      "text/plain": [
       "                             pred bite/dangerous  pred not_bite/not_dangerous\n",
       "real bite/dangerous                          299                          241\n",
       "real not_bite/not_dangerous                 1894                         3601"
      ]
     },
     "metadata": {},
     "output_type": "display_data"
    }
   ],
   "source": [
    "model_report(xgb_model)"
   ]
  },
  {
   "cell_type": "markdown",
   "metadata": {},
   "source": [
    "#### grid searches"
   ]
  },
  {
   "cell_type": "code",
   "execution_count": 127,
   "metadata": {
    "ExecuteTime": {
     "end_time": "2020-03-03T22:50:38.180370Z",
     "start_time": "2020-03-03T22:39:42.760986Z"
    }
   },
   "outputs": [
    {
     "name": "stdout",
     "output_type": "stream",
     "text": [
      "Fitting 3 folds for each of 100 candidates, totalling 300 fits\n"
     ]
    },
    {
     "name": "stderr",
     "output_type": "stream",
     "text": [
      "[Parallel(n_jobs=-1)]: Using backend LokyBackend with 4 concurrent workers.\n",
      "[Parallel(n_jobs=-1)]: Done   5 tasks      | elapsed:   40.9s\n",
      "[Parallel(n_jobs=-1)]: Done  10 tasks      | elapsed:   48.8s\n",
      "[Parallel(n_jobs=-1)]: Done  17 tasks      | elapsed:  1.1min\n",
      "[Parallel(n_jobs=-1)]: Done  24 tasks      | elapsed:  1.3min\n",
      "[Parallel(n_jobs=-1)]: Done  33 tasks      | elapsed:  1.8min\n",
      "[Parallel(n_jobs=-1)]: Done  42 tasks      | elapsed:  2.3min\n",
      "[Parallel(n_jobs=-1)]: Done  53 tasks      | elapsed:  2.7min\n",
      "[Parallel(n_jobs=-1)]: Done  64 tasks      | elapsed:  3.1min\n",
      "[Parallel(n_jobs=-1)]: Done  77 tasks      | elapsed:  3.4min\n",
      "[Parallel(n_jobs=-1)]: Done  90 tasks      | elapsed:  3.9min\n",
      "[Parallel(n_jobs=-1)]: Done 105 tasks      | elapsed:  4.3min\n",
      "[Parallel(n_jobs=-1)]: Done 120 tasks      | elapsed:  4.7min\n",
      "[Parallel(n_jobs=-1)]: Done 137 tasks      | elapsed:  5.1min\n",
      "[Parallel(n_jobs=-1)]: Done 154 tasks      | elapsed:  5.5min\n",
      "[Parallel(n_jobs=-1)]: Done 173 tasks      | elapsed:  6.2min\n",
      "[Parallel(n_jobs=-1)]: Done 192 tasks      | elapsed:  6.7min\n",
      "[Parallel(n_jobs=-1)]: Done 213 tasks      | elapsed:  7.3min\n",
      "[Parallel(n_jobs=-1)]: Done 234 tasks      | elapsed:  8.1min\n",
      "[Parallel(n_jobs=-1)]: Done 257 tasks      | elapsed:  8.9min\n",
      "[Parallel(n_jobs=-1)]: Done 280 tasks      | elapsed: 10.0min\n",
      "[Parallel(n_jobs=-1)]: Done 300 out of 300 | elapsed: 10.6min finished\n"
     ]
    },
    {
     "name": "stdout",
     "output_type": "stream",
     "text": [
      "best score: 59.92%\n",
      "{'n_estimators': 200, 'min_child_weight': 2, 'max_depth': 8, 'learning_rate': 0.009, 'gamma': 0.001}\n"
     ]
    }
   ],
   "source": [
    "#set random search params\n",
    "learning_rate=[.009,.01,.25,.2,.15 ,.1]\n",
    "max_depth = [2,3,4,5,6,7,8,9]\n",
    "min_child_weight = [.8,1,1.5,1.9,2]\n",
    "n_estimators = [70,80,90,100, 110,150,200,250]\n",
    "min_weight_fraction_leaf = [0,0.0001,0.005, 0.01, 1]\n",
    "gamma = [0.0, 0.001,0.005, 0.01]\n",
    "\n",
    "random_grid = {\n",
    "               'learning_rate':learning_rate\n",
    "               ,'max_depth': max_depth\n",
    "               ,'min_child_weight':min_child_weight\n",
    "            ,'n_estimators': n_estimators\n",
    "                , 'gamma': gamma\n",
    "              }\n",
    "\n",
    "# searching random params\n",
    "xgb_random = RandomizedSearchCV(estimator = xgb_model, param_distributions = random_grid\n",
    "                               , n_iter = 150, cv = 5, verbose=5\n",
    "                               ,scoring='f1_macro', random_state=3, n_jobs = -1)\n",
    "# fit random search model\n",
    "xgb_random.fit(X_train, y_train)\n",
    "print('best score: {:.4}%'.format(xgb_random.best_score_ * 100));\n",
    "print(xgb_random.best_params_);"
   ]
  },
  {
   "cell_type": "code",
   "execution_count": 132,
   "metadata": {
    "ExecuteTime": {
     "end_time": "2020-03-04T00:22:07.313897Z",
     "start_time": "2020-03-04T00:00:09.673269Z"
    }
   },
   "outputs": [
    {
     "name": "stdout",
     "output_type": "stream",
     "text": [
      "Fitting 3 folds for each of 324 candidates, totalling 972 fits\n"
     ]
    },
    {
     "name": "stderr",
     "output_type": "stream",
     "text": [
      "[Parallel(n_jobs=-1)]: Using backend LokyBackend with 4 concurrent workers.\n",
      "[Parallel(n_jobs=-1)]: Done   5 tasks      | elapsed:  6.8min\n",
      "[Parallel(n_jobs=-1)]: Done  10 tasks      | elapsed: 10.5min\n",
      "[Parallel(n_jobs=-1)]: Done  17 tasks      | elapsed: 17.1min\n",
      "[Parallel(n_jobs=-1)]: Done  24 tasks      | elapsed: 19.9min\n"
     ]
    },
    {
     "ename": "KeyboardInterrupt",
     "evalue": "",
     "output_type": "error",
     "traceback": [
      "\u001b[0;31m---------------------------------------------------------------------------\u001b[0m",
      "\u001b[0;31mKeyboardInterrupt\u001b[0m                         Traceback (most recent call last)",
      "\u001b[0;32m<ipython-input-132-e8db4a2eeb1c>\u001b[0m in \u001b[0;36m<module>\u001b[0;34m\u001b[0m\n\u001b[1;32m     16\u001b[0m \u001b[0;34m\u001b[0m\u001b[0m\n\u001b[1;32m     17\u001b[0m \u001b[0;31m# Fit using grid search\u001b[0m\u001b[0;34m\u001b[0m\u001b[0;34m\u001b[0m\u001b[0;34m\u001b[0m\u001b[0m\n\u001b[0;32m---> 18\u001b[0;31m \u001b[0mgs_xgb\u001b[0m\u001b[0;34m.\u001b[0m\u001b[0mfit\u001b[0m\u001b[0;34m(\u001b[0m\u001b[0mX\u001b[0m\u001b[0;34m,\u001b[0m \u001b[0my\u001b[0m\u001b[0;34m)\u001b[0m\u001b[0;34m\u001b[0m\u001b[0;34m\u001b[0m\u001b[0m\n\u001b[0m\u001b[1;32m     19\u001b[0m \u001b[0;34m\u001b[0m\u001b[0m\n\u001b[1;32m     20\u001b[0m \u001b[0;31m# Best accuracy and parameters\u001b[0m\u001b[0;34m\u001b[0m\u001b[0;34m\u001b[0m\u001b[0;34m\u001b[0m\u001b[0m\n",
      "\u001b[0;32m~/anaconda3/lib/python3.7/site-packages/sklearn/model_selection/_search.py\u001b[0m in \u001b[0;36mfit\u001b[0;34m(self, X, y, groups, **fit_params)\u001b[0m\n\u001b[1;32m    708\u001b[0m                 \u001b[0;32mreturn\u001b[0m \u001b[0mresults\u001b[0m\u001b[0;34m\u001b[0m\u001b[0;34m\u001b[0m\u001b[0m\n\u001b[1;32m    709\u001b[0m \u001b[0;34m\u001b[0m\u001b[0m\n\u001b[0;32m--> 710\u001b[0;31m             \u001b[0mself\u001b[0m\u001b[0;34m.\u001b[0m\u001b[0m_run_search\u001b[0m\u001b[0;34m(\u001b[0m\u001b[0mevaluate_candidates\u001b[0m\u001b[0;34m)\u001b[0m\u001b[0;34m\u001b[0m\u001b[0;34m\u001b[0m\u001b[0m\n\u001b[0m\u001b[1;32m    711\u001b[0m \u001b[0;34m\u001b[0m\u001b[0m\n\u001b[1;32m    712\u001b[0m         \u001b[0;31m# For multi-metric evaluation, store the best_index_, best_params_ and\u001b[0m\u001b[0;34m\u001b[0m\u001b[0;34m\u001b[0m\u001b[0;34m\u001b[0m\u001b[0m\n",
      "\u001b[0;32m~/anaconda3/lib/python3.7/site-packages/sklearn/model_selection/_search.py\u001b[0m in \u001b[0;36m_run_search\u001b[0;34m(self, evaluate_candidates)\u001b[0m\n\u001b[1;32m   1149\u001b[0m     \u001b[0;32mdef\u001b[0m \u001b[0m_run_search\u001b[0m\u001b[0;34m(\u001b[0m\u001b[0mself\u001b[0m\u001b[0;34m,\u001b[0m \u001b[0mevaluate_candidates\u001b[0m\u001b[0;34m)\u001b[0m\u001b[0;34m:\u001b[0m\u001b[0;34m\u001b[0m\u001b[0;34m\u001b[0m\u001b[0m\n\u001b[1;32m   1150\u001b[0m         \u001b[0;34m\"\"\"Search all candidates in param_grid\"\"\"\u001b[0m\u001b[0;34m\u001b[0m\u001b[0;34m\u001b[0m\u001b[0m\n\u001b[0;32m-> 1151\u001b[0;31m         \u001b[0mevaluate_candidates\u001b[0m\u001b[0;34m(\u001b[0m\u001b[0mParameterGrid\u001b[0m\u001b[0;34m(\u001b[0m\u001b[0mself\u001b[0m\u001b[0;34m.\u001b[0m\u001b[0mparam_grid\u001b[0m\u001b[0;34m)\u001b[0m\u001b[0;34m)\u001b[0m\u001b[0;34m\u001b[0m\u001b[0;34m\u001b[0m\u001b[0m\n\u001b[0m\u001b[1;32m   1152\u001b[0m \u001b[0;34m\u001b[0m\u001b[0m\n\u001b[1;32m   1153\u001b[0m \u001b[0;34m\u001b[0m\u001b[0m\n",
      "\u001b[0;32m~/anaconda3/lib/python3.7/site-packages/sklearn/model_selection/_search.py\u001b[0m in \u001b[0;36mevaluate_candidates\u001b[0;34m(candidate_params)\u001b[0m\n\u001b[1;32m    687\u001b[0m                                \u001b[0;32mfor\u001b[0m \u001b[0mparameters\u001b[0m\u001b[0;34m,\u001b[0m \u001b[0;34m(\u001b[0m\u001b[0mtrain\u001b[0m\u001b[0;34m,\u001b[0m \u001b[0mtest\u001b[0m\u001b[0;34m)\u001b[0m\u001b[0;34m\u001b[0m\u001b[0;34m\u001b[0m\u001b[0m\n\u001b[1;32m    688\u001b[0m                                in product(candidate_params,\n\u001b[0;32m--> 689\u001b[0;31m                                           cv.split(X, y, groups)))\n\u001b[0m\u001b[1;32m    690\u001b[0m \u001b[0;34m\u001b[0m\u001b[0m\n\u001b[1;32m    691\u001b[0m                 \u001b[0;32mif\u001b[0m \u001b[0mlen\u001b[0m\u001b[0;34m(\u001b[0m\u001b[0mout\u001b[0m\u001b[0;34m)\u001b[0m \u001b[0;34m<\u001b[0m \u001b[0;36m1\u001b[0m\u001b[0;34m:\u001b[0m\u001b[0;34m\u001b[0m\u001b[0;34m\u001b[0m\u001b[0m\n",
      "\u001b[0;32m~/anaconda3/lib/python3.7/site-packages/joblib/parallel.py\u001b[0m in \u001b[0;36m__call__\u001b[0;34m(self, iterable)\u001b[0m\n\u001b[1;32m   1014\u001b[0m \u001b[0;34m\u001b[0m\u001b[0m\n\u001b[1;32m   1015\u001b[0m             \u001b[0;32mwith\u001b[0m \u001b[0mself\u001b[0m\u001b[0;34m.\u001b[0m\u001b[0m_backend\u001b[0m\u001b[0;34m.\u001b[0m\u001b[0mretrieval_context\u001b[0m\u001b[0;34m(\u001b[0m\u001b[0;34m)\u001b[0m\u001b[0;34m:\u001b[0m\u001b[0;34m\u001b[0m\u001b[0;34m\u001b[0m\u001b[0m\n\u001b[0;32m-> 1016\u001b[0;31m                 \u001b[0mself\u001b[0m\u001b[0;34m.\u001b[0m\u001b[0mretrieve\u001b[0m\u001b[0;34m(\u001b[0m\u001b[0;34m)\u001b[0m\u001b[0;34m\u001b[0m\u001b[0;34m\u001b[0m\u001b[0m\n\u001b[0m\u001b[1;32m   1017\u001b[0m             \u001b[0;31m# Make sure that we get a last message telling us we are done\u001b[0m\u001b[0;34m\u001b[0m\u001b[0;34m\u001b[0m\u001b[0;34m\u001b[0m\u001b[0m\n\u001b[1;32m   1018\u001b[0m             \u001b[0melapsed_time\u001b[0m \u001b[0;34m=\u001b[0m \u001b[0mtime\u001b[0m\u001b[0;34m.\u001b[0m\u001b[0mtime\u001b[0m\u001b[0;34m(\u001b[0m\u001b[0;34m)\u001b[0m \u001b[0;34m-\u001b[0m \u001b[0mself\u001b[0m\u001b[0;34m.\u001b[0m\u001b[0m_start_time\u001b[0m\u001b[0;34m\u001b[0m\u001b[0;34m\u001b[0m\u001b[0m\n",
      "\u001b[0;32m~/anaconda3/lib/python3.7/site-packages/joblib/parallel.py\u001b[0m in \u001b[0;36mretrieve\u001b[0;34m(self)\u001b[0m\n\u001b[1;32m    906\u001b[0m             \u001b[0;32mtry\u001b[0m\u001b[0;34m:\u001b[0m\u001b[0;34m\u001b[0m\u001b[0;34m\u001b[0m\u001b[0m\n\u001b[1;32m    907\u001b[0m                 \u001b[0;32mif\u001b[0m \u001b[0mgetattr\u001b[0m\u001b[0;34m(\u001b[0m\u001b[0mself\u001b[0m\u001b[0;34m.\u001b[0m\u001b[0m_backend\u001b[0m\u001b[0;34m,\u001b[0m \u001b[0;34m'supports_timeout'\u001b[0m\u001b[0;34m,\u001b[0m \u001b[0;32mFalse\u001b[0m\u001b[0;34m)\u001b[0m\u001b[0;34m:\u001b[0m\u001b[0;34m\u001b[0m\u001b[0;34m\u001b[0m\u001b[0m\n\u001b[0;32m--> 908\u001b[0;31m                     \u001b[0mself\u001b[0m\u001b[0;34m.\u001b[0m\u001b[0m_output\u001b[0m\u001b[0;34m.\u001b[0m\u001b[0mextend\u001b[0m\u001b[0;34m(\u001b[0m\u001b[0mjob\u001b[0m\u001b[0;34m.\u001b[0m\u001b[0mget\u001b[0m\u001b[0;34m(\u001b[0m\u001b[0mtimeout\u001b[0m\u001b[0;34m=\u001b[0m\u001b[0mself\u001b[0m\u001b[0;34m.\u001b[0m\u001b[0mtimeout\u001b[0m\u001b[0;34m)\u001b[0m\u001b[0;34m)\u001b[0m\u001b[0;34m\u001b[0m\u001b[0;34m\u001b[0m\u001b[0m\n\u001b[0m\u001b[1;32m    909\u001b[0m                 \u001b[0;32melse\u001b[0m\u001b[0;34m:\u001b[0m\u001b[0;34m\u001b[0m\u001b[0;34m\u001b[0m\u001b[0m\n\u001b[1;32m    910\u001b[0m                     \u001b[0mself\u001b[0m\u001b[0;34m.\u001b[0m\u001b[0m_output\u001b[0m\u001b[0;34m.\u001b[0m\u001b[0mextend\u001b[0m\u001b[0;34m(\u001b[0m\u001b[0mjob\u001b[0m\u001b[0;34m.\u001b[0m\u001b[0mget\u001b[0m\u001b[0;34m(\u001b[0m\u001b[0;34m)\u001b[0m\u001b[0;34m)\u001b[0m\u001b[0;34m\u001b[0m\u001b[0;34m\u001b[0m\u001b[0m\n",
      "\u001b[0;32m~/anaconda3/lib/python3.7/site-packages/joblib/_parallel_backends.py\u001b[0m in \u001b[0;36mwrap_future_result\u001b[0;34m(future, timeout)\u001b[0m\n\u001b[1;32m    552\u001b[0m         AsyncResults.get from multiprocessing.\"\"\"\n\u001b[1;32m    553\u001b[0m         \u001b[0;32mtry\u001b[0m\u001b[0;34m:\u001b[0m\u001b[0;34m\u001b[0m\u001b[0;34m\u001b[0m\u001b[0m\n\u001b[0;32m--> 554\u001b[0;31m             \u001b[0;32mreturn\u001b[0m \u001b[0mfuture\u001b[0m\u001b[0;34m.\u001b[0m\u001b[0mresult\u001b[0m\u001b[0;34m(\u001b[0m\u001b[0mtimeout\u001b[0m\u001b[0;34m=\u001b[0m\u001b[0mtimeout\u001b[0m\u001b[0;34m)\u001b[0m\u001b[0;34m\u001b[0m\u001b[0;34m\u001b[0m\u001b[0m\n\u001b[0m\u001b[1;32m    555\u001b[0m         \u001b[0;32mexcept\u001b[0m \u001b[0mLokyTimeoutError\u001b[0m\u001b[0;34m:\u001b[0m\u001b[0;34m\u001b[0m\u001b[0;34m\u001b[0m\u001b[0m\n\u001b[1;32m    556\u001b[0m             \u001b[0;32mraise\u001b[0m \u001b[0mTimeoutError\u001b[0m\u001b[0;34m(\u001b[0m\u001b[0;34m)\u001b[0m\u001b[0;34m\u001b[0m\u001b[0;34m\u001b[0m\u001b[0m\n",
      "\u001b[0;32m~/anaconda3/lib/python3.7/concurrent/futures/_base.py\u001b[0m in \u001b[0;36mresult\u001b[0;34m(self, timeout)\u001b[0m\n\u001b[1;32m    425\u001b[0m                 \u001b[0;32mreturn\u001b[0m \u001b[0mself\u001b[0m\u001b[0;34m.\u001b[0m\u001b[0m__get_result\u001b[0m\u001b[0;34m(\u001b[0m\u001b[0;34m)\u001b[0m\u001b[0;34m\u001b[0m\u001b[0;34m\u001b[0m\u001b[0m\n\u001b[1;32m    426\u001b[0m \u001b[0;34m\u001b[0m\u001b[0m\n\u001b[0;32m--> 427\u001b[0;31m             \u001b[0mself\u001b[0m\u001b[0;34m.\u001b[0m\u001b[0m_condition\u001b[0m\u001b[0;34m.\u001b[0m\u001b[0mwait\u001b[0m\u001b[0;34m(\u001b[0m\u001b[0mtimeout\u001b[0m\u001b[0;34m)\u001b[0m\u001b[0;34m\u001b[0m\u001b[0;34m\u001b[0m\u001b[0m\n\u001b[0m\u001b[1;32m    428\u001b[0m \u001b[0;34m\u001b[0m\u001b[0m\n\u001b[1;32m    429\u001b[0m             \u001b[0;32mif\u001b[0m \u001b[0mself\u001b[0m\u001b[0;34m.\u001b[0m\u001b[0m_state\u001b[0m \u001b[0;32min\u001b[0m \u001b[0;34m[\u001b[0m\u001b[0mCANCELLED\u001b[0m\u001b[0;34m,\u001b[0m \u001b[0mCANCELLED_AND_NOTIFIED\u001b[0m\u001b[0;34m]\u001b[0m\u001b[0;34m:\u001b[0m\u001b[0;34m\u001b[0m\u001b[0;34m\u001b[0m\u001b[0m\n",
      "\u001b[0;32m~/anaconda3/lib/python3.7/threading.py\u001b[0m in \u001b[0;36mwait\u001b[0;34m(self, timeout)\u001b[0m\n\u001b[1;32m    294\u001b[0m         \u001b[0;32mtry\u001b[0m\u001b[0;34m:\u001b[0m    \u001b[0;31m# restore state no matter what (e.g., KeyboardInterrupt)\u001b[0m\u001b[0;34m\u001b[0m\u001b[0;34m\u001b[0m\u001b[0m\n\u001b[1;32m    295\u001b[0m             \u001b[0;32mif\u001b[0m \u001b[0mtimeout\u001b[0m \u001b[0;32mis\u001b[0m \u001b[0;32mNone\u001b[0m\u001b[0;34m:\u001b[0m\u001b[0;34m\u001b[0m\u001b[0;34m\u001b[0m\u001b[0m\n\u001b[0;32m--> 296\u001b[0;31m                 \u001b[0mwaiter\u001b[0m\u001b[0;34m.\u001b[0m\u001b[0macquire\u001b[0m\u001b[0;34m(\u001b[0m\u001b[0;34m)\u001b[0m\u001b[0;34m\u001b[0m\u001b[0;34m\u001b[0m\u001b[0m\n\u001b[0m\u001b[1;32m    297\u001b[0m                 \u001b[0mgotit\u001b[0m \u001b[0;34m=\u001b[0m \u001b[0;32mTrue\u001b[0m\u001b[0;34m\u001b[0m\u001b[0;34m\u001b[0m\u001b[0m\n\u001b[1;32m    298\u001b[0m             \u001b[0;32melse\u001b[0m\u001b[0;34m:\u001b[0m\u001b[0;34m\u001b[0m\u001b[0;34m\u001b[0m\u001b[0m\n",
      "\u001b[0;31mKeyboardInterrupt\u001b[0m: "
     ]
    }
   ],
   "source": [
    "param_grid_xgb = [\n",
    "    {\n",
    "         'gamma':[0.0009, 0.001, 0.0011],\n",
    "        'min_child_weight': [1,2,3,4],\n",
    "    'learning_rate': [0.008,0.009,0.1],\n",
    "    'n_estimators': [175,200,225],\n",
    "    'max_depth': [7,8,9]\n",
    "    }\n",
    "]\n",
    "\n",
    "# Construct Grid Search\n",
    "gs_xgb = GridSearchCV(estimator=xgb_model,\n",
    "                    param_grid=param_grid_xgb,\n",
    "                    scoring='f1_macro',\n",
    "                    cv=3, n_jobs=-1, verbose=10)\n",
    "\n",
    "# Fit using grid search\n",
    "gs_xgb.fit(X, y)\n",
    "\n",
    "# Best accuracy and parameters\n",
    "print('best score: {:.3}%'.format(gs_xgb.best_score_ * 100))\n",
    "print('params:\\n', gs_xgb.best_params_);"
   ]
  },
  {
   "cell_type": "markdown",
   "metadata": {},
   "source": [
    "#### final model"
   ]
  },
  {
   "cell_type": "code",
   "execution_count": 32,
   "metadata": {
    "ExecuteTime": {
     "end_time": "2020-03-03T00:51:22.393000Z",
     "start_time": "2020-03-03T00:49:42.610925Z"
    }
   },
   "outputs": [
    {
     "data": {
      "text/plain": [
       "XGBClassifier(base_score=0.5, booster='gbtree', colsample_bylevel=1,\n",
       "              colsample_bynode=1, colsample_bytree=1, gamma=0,\n",
       "              learning_rate=0.008, max_delta_step=0, max_depth=3,\n",
       "              min_child_weight=0.9, missing=None, n_estimators=100, n_jobs=1,\n",
       "              nthread=None, objective='binary:logistic', random_state=0,\n",
       "              reg_alpha=0, reg_lambda=1, scale_pos_weight=1, seed=None,\n",
       "              silent=None, subsample=1, verbosity=1)"
      ]
     },
     "execution_count": 32,
     "metadata": {},
     "output_type": "execute_result"
    },
    {
     "name": "stdout",
     "output_type": "stream",
     "text": [
      "\n",
      "Cross Validation Scoring:\n",
      "\n",
      "train score: 58.33%\n",
      "test score: 66.76%\n",
      "cross val score: 91.05%\n",
      "\n",
      "Classification Report:\n",
      "                precision    recall  f1-score   support\n",
      "\n",
      "bite_dangerous       0.13      0.50      0.21       540\n",
      " not_bite/dang       0.93      0.68      0.79      5495\n",
      "\n",
      "      accuracy                           0.67      6035\n",
      "     macro avg       0.53      0.59      0.50      6035\n",
      "  weighted avg       0.86      0.67      0.74      6035\n",
      "\n",
      "\n",
      "Confusion matrix:\n"
     ]
    },
    {
     "data": {
      "text/html": [
       "<div>\n",
       "<style scoped>\n",
       "    .dataframe tbody tr th:only-of-type {\n",
       "        vertical-align: middle;\n",
       "    }\n",
       "\n",
       "    .dataframe tbody tr th {\n",
       "        vertical-align: top;\n",
       "    }\n",
       "\n",
       "    .dataframe thead th {\n",
       "        text-align: right;\n",
       "    }\n",
       "</style>\n",
       "<table border=\"1\" class=\"dataframe\">\n",
       "  <thead>\n",
       "    <tr style=\"text-align: right;\">\n",
       "      <th></th>\n",
       "      <th>pred bite/dangerous</th>\n",
       "      <th>pred not_bite/not_dangerous</th>\n",
       "    </tr>\n",
       "  </thead>\n",
       "  <tbody>\n",
       "    <tr>\n",
       "      <th>real bite/dangerous</th>\n",
       "      <td>269</td>\n",
       "      <td>271</td>\n",
       "    </tr>\n",
       "    <tr>\n",
       "      <th>real not_bite/not_dangerous</th>\n",
       "      <td>1735</td>\n",
       "      <td>3760</td>\n",
       "    </tr>\n",
       "  </tbody>\n",
       "</table>\n",
       "</div>"
      ],
      "text/plain": [
       "                             pred bite/dangerous  pred not_bite/not_dangerous\n",
       "real bite/dangerous                          269                          271\n",
       "real not_bite/not_dangerous                 1735                         3760"
      ]
     },
     "metadata": {},
     "output_type": "display_data"
    }
   ],
   "source": [
    "# fit using best params\n",
    "xgb_gs_model = XGBClassifier(learning_rate=0.008,\n",
    "                           #  max_depth=3,\n",
    "                             min_child_weight=.9)\n",
    "                          #   n_estimators=90)\n",
    "xgb_gs_model.fit(X_train, y_train)\n",
    "\n",
    "predictions = xgb_gs_model.predict(X_test)\n",
    "\n",
    "model_report(xgb_gs_model)"
   ]
  },
  {
   "cell_type": "markdown",
   "metadata": {},
   "source": [
    "### AdaBoost"
   ]
  },
  {
   "cell_type": "code",
   "execution_count": 108,
   "metadata": {
    "ExecuteTime": {
     "end_time": "2020-03-03T21:53:40.340204Z",
     "start_time": "2020-03-03T21:53:39.494089Z"
    }
   },
   "outputs": [
    {
     "data": {
      "text/plain": [
       "AdaBoostClassifier(algorithm='SAMME.R', base_estimator=None, learning_rate=1.0,\n",
       "                   n_estimators=50, random_state=3)"
      ]
     },
     "execution_count": 108,
     "metadata": {},
     "output_type": "execute_result"
    }
   ],
   "source": [
    "#initialize and fit default model\n",
    "ada_model = AdaBoostClassifier(random_state=3)\n",
    "ada_model.fit(X_train, y_train)\n",
    "\n",
    "predictions = ada_model.predict(X_test)\n",
    "# actuals = y_test"
   ]
  },
  {
   "cell_type": "markdown",
   "metadata": {},
   "source": [
    "___\n",
    "__Default Model__"
   ]
  },
  {
   "cell_type": "code",
   "execution_count": 109,
   "metadata": {
    "ExecuteTime": {
     "end_time": "2020-03-03T21:53:48.538251Z",
     "start_time": "2020-03-03T21:53:40.342923Z"
    }
   },
   "outputs": [
    {
     "name": "stdout",
     "output_type": "stream",
     "text": [
      "\n",
      "Cross Validation Scoring:\n",
      "\n",
      "train score: 61.7%\n",
      "test score: 65.72%\n",
      "cross val score: 91.02%\n",
      "\n",
      "Classification Report:\n",
      "                precision    recall  f1-score   support\n",
      "\n",
      "bite_dangerous       0.14      0.53      0.22       540\n",
      " not_bite/dang       0.94      0.67      0.78      5495\n",
      "\n",
      "      accuracy                           0.66      6035\n",
      "     macro avg       0.54      0.60      0.50      6035\n",
      "  weighted avg       0.86      0.66      0.73      6035\n",
      "\n",
      "\n",
      "Confusion matrix:\n"
     ]
    },
    {
     "data": {
      "text/html": [
       "<div>\n",
       "<style scoped>\n",
       "    .dataframe tbody tr th:only-of-type {\n",
       "        vertical-align: middle;\n",
       "    }\n",
       "\n",
       "    .dataframe tbody tr th {\n",
       "        vertical-align: top;\n",
       "    }\n",
       "\n",
       "    .dataframe thead th {\n",
       "        text-align: right;\n",
       "    }\n",
       "</style>\n",
       "<table border=\"1\" class=\"dataframe\">\n",
       "  <thead>\n",
       "    <tr style=\"text-align: right;\">\n",
       "      <th></th>\n",
       "      <th>pred bite/dangerous</th>\n",
       "      <th>pred not_bite/not_dangerous</th>\n",
       "    </tr>\n",
       "  </thead>\n",
       "  <tbody>\n",
       "    <tr>\n",
       "      <th>real bite/dangerous</th>\n",
       "      <td>288</td>\n",
       "      <td>252</td>\n",
       "    </tr>\n",
       "    <tr>\n",
       "      <th>real not_bite/not_dangerous</th>\n",
       "      <td>1817</td>\n",
       "      <td>3678</td>\n",
       "    </tr>\n",
       "  </tbody>\n",
       "</table>\n",
       "</div>"
      ],
      "text/plain": [
       "                             pred bite/dangerous  pred not_bite/not_dangerous\n",
       "real bite/dangerous                          288                          252\n",
       "real not_bite/not_dangerous                 1817                         3678"
      ]
     },
     "metadata": {},
     "output_type": "display_data"
    }
   ],
   "source": [
    "model_report(ada_model)"
   ]
  },
  {
   "cell_type": "markdown",
   "metadata": {},
   "source": [
    "#### grid searches"
   ]
  },
  {
   "cell_type": "markdown",
   "metadata": {},
   "source": [
    "__Random Grid Search__"
   ]
  },
  {
   "cell_type": "code",
   "execution_count": 110,
   "metadata": {
    "ExecuteTime": {
     "end_time": "2020-03-03T21:54:09.943161Z",
     "start_time": "2020-03-03T21:53:48.540985Z"
    }
   },
   "outputs": [
    {
     "name": "stdout",
     "output_type": "stream",
     "text": [
      "Fitting 3 folds for each of 20 candidates, totalling 60 fits\n"
     ]
    },
    {
     "name": "stderr",
     "output_type": "stream",
     "text": [
      "[Parallel(n_jobs=-1)]: Using backend LokyBackend with 4 concurrent workers.\n",
      "[Parallel(n_jobs=-1)]: Done   5 tasks      | elapsed:    4.3s\n",
      "[Parallel(n_jobs=-1)]: Done  10 tasks      | elapsed:    5.7s\n",
      "[Parallel(n_jobs=-1)]: Done  17 tasks      | elapsed:   10.0s\n",
      "[Parallel(n_jobs=-1)]: Done  24 tasks      | elapsed:   11.1s\n",
      "[Parallel(n_jobs=-1)]: Done  33 tasks      | elapsed:   15.0s\n",
      "[Parallel(n_jobs=-1)]: Done  42 tasks      | elapsed:   16.9s\n",
      "[Parallel(n_jobs=-1)]: Done  53 tasks      | elapsed:   18.8s\n",
      "[Parallel(n_jobs=-1)]: Done  60 out of  60 | elapsed:   19.1s remaining:    0.0s\n",
      "[Parallel(n_jobs=-1)]: Done  60 out of  60 | elapsed:   19.1s finished\n"
     ]
    },
    {
     "data": {
      "text/plain": [
       "RandomizedSearchCV(cv=3, error_score=nan,\n",
       "                   estimator=AdaBoostClassifier(algorithm='SAMME.R',\n",
       "                                                base_estimator=None,\n",
       "                                                learning_rate=1.0,\n",
       "                                                n_estimators=50,\n",
       "                                                random_state=3),\n",
       "                   iid='deprecated', n_iter=20, n_jobs=-1,\n",
       "                   param_distributions={'learning_rate': [1e-05, 0.001, 0.01,\n",
       "                                                          0.1, 1, 1.5],\n",
       "                                        'n_estimators': [1, 5, 10, 50, 100,\n",
       "                                                         200]},\n",
       "                   pre_dispatch='2*n_jobs', random_state=3, refit=True,\n",
       "                   return_train_score=False, scoring='recall_macro',\n",
       "                   verbose=10)"
      ]
     },
     "execution_count": 110,
     "metadata": {},
     "output_type": "execute_result"
    },
    {
     "data": {
      "text/plain": [
       "{'n_estimators': 200, 'learning_rate': 0.1}"
      ]
     },
     "execution_count": 110,
     "metadata": {},
     "output_type": "execute_result"
    }
   ],
   "source": [
    "#set random search params\n",
    "learning_rate= [.09,.1,1,1.5,2]\n",
    "\n",
    "n_estimators = [50,100,200,500]\n",
    "\n",
    "random_grid = {'learning_rate':learning_rate,\n",
    "               'n_estimators': n_estimators\n",
    "              }\n",
    "\n",
    "#random grid search\n",
    "ada_random = RandomizedSearchCV(estimator = ada_model\n",
    "                               , param_distributions = random_grid\n",
    "                               , n_iter = 10, cv = 5, verbose=7, scoring='f1_macro'\n",
    "                               , random_state=3, n_jobs = -1)\n",
    "# Fit the random search model\n",
    "ada_random.fit(X_train, y_train)\n",
    "\n",
    "ada_random.best_params_"
   ]
  },
  {
   "cell_type": "markdown",
   "metadata": {},
   "source": [
    "___\n",
    "__grid search__"
   ]
  },
  {
   "cell_type": "code",
   "execution_count": 134,
   "metadata": {
    "ExecuteTime": {
     "end_time": "2020-03-04T00:27:21.182230Z",
     "start_time": "2020-03-04T00:25:08.735773Z"
    }
   },
   "outputs": [
    {
     "name": "stdout",
     "output_type": "stream",
     "text": [
      "Fitting 5 folds for each of 20 candidates, totalling 100 fits\n"
     ]
    },
    {
     "name": "stderr",
     "output_type": "stream",
     "text": [
      "[Parallel(n_jobs=-1)]: Using backend LokyBackend with 4 concurrent workers.\n",
      "[Parallel(n_jobs=-1)]: Done   5 tasks      | elapsed:   11.2s\n",
      "[Parallel(n_jobs=-1)]: Done  10 tasks      | elapsed:   16.5s\n",
      "[Parallel(n_jobs=-1)]: Done  17 tasks      | elapsed:   24.9s\n",
      "[Parallel(n_jobs=-1)]: Done  24 tasks      | elapsed:   33.3s\n",
      "[Parallel(n_jobs=-1)]: Done  33 tasks      | elapsed:   42.9s\n",
      "[Parallel(n_jobs=-1)]: Done  42 tasks      | elapsed:   52.3s\n",
      "[Parallel(n_jobs=-1)]: Done  53 tasks      | elapsed:  1.1min\n",
      "[Parallel(n_jobs=-1)]: Done  64 tasks      | elapsed:  1.3min\n",
      "[Parallel(n_jobs=-1)]: Done  77 tasks      | elapsed:  1.6min\n",
      "[Parallel(n_jobs=-1)]: Done  90 tasks      | elapsed:  1.9min\n",
      "[Parallel(n_jobs=-1)]: Done 100 out of 100 | elapsed:  2.1min finished\n"
     ]
    },
    {
     "data": {
      "text/plain": [
       "GridSearchCV(cv=5, error_score=nan,\n",
       "             estimator=AdaBoostClassifier(algorithm='SAMME.R',\n",
       "                                          base_estimator=None,\n",
       "                                          learning_rate=1.0, n_estimators=50,\n",
       "                                          random_state=3),\n",
       "             iid='deprecated', n_jobs=-1,\n",
       "             param_grid=[{'learning_rate': [0.05, 0.1, 1, 2],\n",
       "                          'n_estimators': [150, 190, 200, 210, 250]}],\n",
       "             pre_dispatch='2*n_jobs', refit=True, return_train_score=False,\n",
       "             scoring='f1_macro', verbose=10)"
      ]
     },
     "execution_count": 134,
     "metadata": {},
     "output_type": "execute_result"
    },
    {
     "name": "stdout",
     "output_type": "stream",
     "text": [
      "best score: 58.56%\n",
      "params:\n",
      " {'learning_rate': 0.1, 'n_estimators': 200}\n"
     ]
    }
   ],
   "source": [
    "#grid search params and fitting grid search\n",
    "param_grid_ada = [\n",
    "    {'n_estimators': [195,197,200,202,205],\n",
    "    'learning_rate': [0.08, 0.09, 0.1, 0.11,0.12]}\n",
    "]\n",
    "\n",
    "# Construct Grid Search\n",
    "gs_ada = GridSearchCV(estimator=ada_model,\n",
    "                    param_grid=param_grid_ada,\n",
    "                    scoring='f1_macro',\n",
    "                    cv=5, n_jobs=-1, verbose=2)\n",
    "\n",
    "# Fit using grid search\n",
    "gs_ada.fit(X_train, y_train);\n",
    "\n",
    "# Best accuracy and parameters\n",
    "print('best score: {:.4}%'.format(gs_ada.best_score_ * 100))\n",
    "print('params:\\n', gs_ada.best_params_)"
   ]
  },
  {
   "cell_type": "code",
   "execution_count": 136,
   "metadata": {
    "ExecuteTime": {
     "end_time": "2020-03-04T01:20:12.985958Z",
     "start_time": "2020-03-04T01:20:10.828558Z"
    }
   },
   "outputs": [
    {
     "data": {
      "text/plain": [
       "AdaBoostClassifier(algorithm='SAMME.R', base_estimator=None, learning_rate=0.1,\n",
       "                   n_estimators=200, random_state=None)"
      ]
     },
     "execution_count": 136,
     "metadata": {},
     "output_type": "execute_result"
    }
   ],
   "source": [
    "# fit best params\n",
    "ada_gs_model = AdaBoostClassifier(n_estimators=200,\n",
    "                                   learning_rate=.1)\n",
    "ada_gs_model.fit(X_train, y_train);\n",
    "\n",
    "predictions = ada_gs_model.predict(X_test)"
   ]
  },
  {
   "cell_type": "markdown",
   "metadata": {},
   "source": [
    "#### final model"
   ]
  },
  {
   "cell_type": "markdown",
   "metadata": {},
   "source": [
    "__best model__"
   ]
  },
  {
   "cell_type": "code",
   "execution_count": 146,
   "metadata": {
    "ExecuteTime": {
     "end_time": "2020-03-04T01:49:48.261279Z",
     "start_time": "2020-03-04T01:48:45.096166Z"
    }
   },
   "outputs": [
    {
     "name": "stdout",
     "output_type": "stream",
     "text": [
      "\n",
      "Cross Validation Scoring:\n",
      "\n",
      "train score: 60.79%\n",
      "test score: 69.54%\n",
      "cross val score: 91.04%\n",
      "\n",
      "Classification Report:\n",
      "                precision    recall  f1-score   support\n",
      "\n",
      "bite_dangerous       0.13      0.60      0.21       540\n",
      " not_bite/dang       0.94      0.60      0.73      5495\n",
      "\n",
      "      accuracy                           0.60      6035\n",
      "     macro avg       0.53      0.60      0.47      6035\n",
      "  weighted avg       0.87      0.60      0.69      6035\n",
      "\n",
      "\n",
      "Confusion matrix:\n"
     ]
    },
    {
     "data": {
      "text/html": [
       "<div>\n",
       "<style scoped>\n",
       "    .dataframe tbody tr th:only-of-type {\n",
       "        vertical-align: middle;\n",
       "    }\n",
       "\n",
       "    .dataframe tbody tr th {\n",
       "        vertical-align: top;\n",
       "    }\n",
       "\n",
       "    .dataframe thead th {\n",
       "        text-align: right;\n",
       "    }\n",
       "</style>\n",
       "<table border=\"1\" class=\"dataframe\">\n",
       "  <thead>\n",
       "    <tr style=\"text-align: right;\">\n",
       "      <th></th>\n",
       "      <th>pred bite/dangerous</th>\n",
       "      <th>pred not_bite/not_dangerous</th>\n",
       "    </tr>\n",
       "  </thead>\n",
       "  <tbody>\n",
       "    <tr>\n",
       "      <th>real bite/dangerous</th>\n",
       "      <td>325</td>\n",
       "      <td>215</td>\n",
       "    </tr>\n",
       "    <tr>\n",
       "      <th>real not_bite/not_dangerous</th>\n",
       "      <td>2178</td>\n",
       "      <td>3317</td>\n",
       "    </tr>\n",
       "  </tbody>\n",
       "</table>\n",
       "</div>"
      ],
      "text/plain": [
       "                             pred bite/dangerous  pred not_bite/not_dangerous\n",
       "real bite/dangerous                          325                          215\n",
       "real not_bite/not_dangerous                 2178                         3317"
      ]
     },
     "metadata": {},
     "output_type": "display_data"
    }
   ],
   "source": [
    "model_report(ada_gs_model)"
   ]
  },
  {
   "cell_type": "markdown",
   "metadata": {},
   "source": [
    "### gradient boost"
   ]
  },
  {
   "cell_type": "code",
   "execution_count": 113,
   "metadata": {
    "ExecuteTime": {
     "end_time": "2020-03-03T21:54:39.165270Z",
     "start_time": "2020-03-03T21:54:38.563346Z"
    }
   },
   "outputs": [
    {
     "data": {
      "text/plain": [
       "GradientBoostingClassifier(ccp_alpha=0.0, criterion='friedman_mse', init=None,\n",
       "                           learning_rate=0.1, loss='deviance', max_depth=3,\n",
       "                           max_features=None, max_leaf_nodes=None,\n",
       "                           min_impurity_decrease=0.0, min_impurity_split=None,\n",
       "                           min_samples_leaf=1, min_samples_split=2,\n",
       "                           min_weight_fraction_leaf=0.0, n_estimators=100,\n",
       "                           n_iter_no_change=None, presort='deprecated',\n",
       "                           random_state=3, subsample=1.0, tol=0.0001,\n",
       "                           validation_fraction=0.1, verbose=0,\n",
       "                           warm_start=False)"
      ]
     },
     "execution_count": 113,
     "metadata": {},
     "output_type": "execute_result"
    }
   ],
   "source": [
    "#initialize and fit gradient boost\n",
    "gbt_model = GradientBoostingClassifier(random_state=3)\n",
    "gbt_model.fit(X_train, y_train)\n",
    "\n",
    "predictions = gbt_model.predict(X_test)\n",
    "# actuals = y_test"
   ]
  },
  {
   "cell_type": "markdown",
   "metadata": {},
   "source": [
    "__default model__"
   ]
  },
  {
   "cell_type": "code",
   "execution_count": 114,
   "metadata": {
    "ExecuteTime": {
     "end_time": "2020-03-03T21:54:51.433492Z",
     "start_time": "2020-03-03T21:54:40.149721Z"
    }
   },
   "outputs": [
    {
     "name": "stdout",
     "output_type": "stream",
     "text": [
      "\n",
      "Cross Validation Scoring:\n",
      "\n",
      "train score: 64.31%\n",
      "test score: 63.45%\n",
      "cross val score: 91.01%\n",
      "\n",
      "Classification Report:\n",
      "                precision    recall  f1-score   support\n",
      "\n",
      "bite_dangerous       0.13      0.56      0.22       540\n",
      " not_bite/dang       0.94      0.64      0.76      5495\n",
      "\n",
      "      accuracy                           0.63      6035\n",
      "     macro avg       0.54      0.60      0.49      6035\n",
      "  weighted avg       0.87      0.63      0.71      6035\n",
      "\n",
      "\n",
      "Confusion matrix:\n"
     ]
    },
    {
     "data": {
      "text/html": [
       "<div>\n",
       "<style scoped>\n",
       "    .dataframe tbody tr th:only-of-type {\n",
       "        vertical-align: middle;\n",
       "    }\n",
       "\n",
       "    .dataframe tbody tr th {\n",
       "        vertical-align: top;\n",
       "    }\n",
       "\n",
       "    .dataframe thead th {\n",
       "        text-align: right;\n",
       "    }\n",
       "</style>\n",
       "<table border=\"1\" class=\"dataframe\">\n",
       "  <thead>\n",
       "    <tr style=\"text-align: right;\">\n",
       "      <th></th>\n",
       "      <th>pred bite/dangerous</th>\n",
       "      <th>pred not_bite/not_dangerous</th>\n",
       "    </tr>\n",
       "  </thead>\n",
       "  <tbody>\n",
       "    <tr>\n",
       "      <th>real bite/dangerous</th>\n",
       "      <td>303</td>\n",
       "      <td>237</td>\n",
       "    </tr>\n",
       "    <tr>\n",
       "      <th>real not_bite/not_dangerous</th>\n",
       "      <td>1969</td>\n",
       "      <td>3526</td>\n",
       "    </tr>\n",
       "  </tbody>\n",
       "</table>\n",
       "</div>"
      ],
      "text/plain": [
       "                             pred bite/dangerous  pred not_bite/not_dangerous\n",
       "real bite/dangerous                          303                          237\n",
       "real not_bite/not_dangerous                 1969                         3526"
      ]
     },
     "metadata": {},
     "output_type": "display_data"
    }
   ],
   "source": [
    "#baseline model report\n",
    "model_report(gbt_model)"
   ]
  },
  {
   "cell_type": "markdown",
   "metadata": {},
   "source": [
    "#### grid searches"
   ]
  },
  {
   "cell_type": "markdown",
   "metadata": {},
   "source": [
    "__random grid search__"
   ]
  },
  {
   "cell_type": "code",
   "execution_count": 115,
   "metadata": {
    "ExecuteTime": {
     "end_time": "2020-03-03T21:56:14.402893Z",
     "start_time": "2020-03-03T21:54:51.437177Z"
    }
   },
   "outputs": [
    {
     "name": "stdout",
     "output_type": "stream",
     "text": [
      "Fitting 3 folds for each of 100 candidates, totalling 300 fits\n"
     ]
    },
    {
     "name": "stderr",
     "output_type": "stream",
     "text": [
      "[Parallel(n_jobs=-1)]: Using backend LokyBackend with 4 concurrent workers.\n",
      "[Parallel(n_jobs=-1)]: Done  24 tasks      | elapsed:   10.8s\n",
      "[Parallel(n_jobs=-1)]: Done 120 tasks      | elapsed:   30.4s\n",
      "[Parallel(n_jobs=-1)]: Done 280 tasks      | elapsed:  1.3min\n",
      "[Parallel(n_jobs=-1)]: Done 300 out of 300 | elapsed:  1.4min finished\n"
     ]
    },
    {
     "data": {
      "text/plain": [
       "RandomizedSearchCV(cv=3, error_score=nan,\n",
       "                   estimator=GradientBoostingClassifier(ccp_alpha=0.0,\n",
       "                                                        criterion='friedman_mse',\n",
       "                                                        init=None,\n",
       "                                                        learning_rate=0.1,\n",
       "                                                        loss='deviance',\n",
       "                                                        max_depth=3,\n",
       "                                                        max_features=None,\n",
       "                                                        max_leaf_nodes=None,\n",
       "                                                        min_impurity_decrease=0.0,\n",
       "                                                        min_impurity_split=None,\n",
       "                                                        min_samples_leaf=1,\n",
       "                                                        min_samples_split=2,\n",
       "                                                        min_weight_fraction_leaf=0.0,\n",
       "                                                        n_estimators=100,\n",
       "                                                        n_ite...\n",
       "                   param_distributions={'learning_rate': [0.2, 0.1, 0.09, 0.05,\n",
       "                                                          0.01],\n",
       "                                        'loss': ['deviance', 'exponential'],\n",
       "                                        'max_depth': [None, 2, 3, 4, 5, 6],\n",
       "                                        'min_samples_leaf': [1, 2, 3, 5, 6, 7,\n",
       "                                                             8, 10, 12, 15],\n",
       "                                        'min_samples_split': [1, 2, 3, 4, 6],\n",
       "                                        'min_weight_fraction_leaf': [0, 0.0001,\n",
       "                                                                     0.001,\n",
       "                                                                     1e-05],\n",
       "                                        'n_estimators': [10, 30, 50, 70, 100,\n",
       "                                                         130]},\n",
       "                   pre_dispatch='2*n_jobs', random_state=3, refit=True,\n",
       "                   return_train_score=False, scoring='recall_macro', verbose=3)"
      ]
     },
     "execution_count": 115,
     "metadata": {},
     "output_type": "execute_result"
    },
    {
     "name": "stdout",
     "output_type": "stream",
     "text": [
      "best score: 59.91%\n",
      "{'n_estimators': 10, 'min_weight_fraction_leaf': 0.001, 'min_samples_split': 6, 'min_samples_leaf': 2, 'max_depth': 5, 'loss': 'deviance', 'learning_rate': 0.1}\n"
     ]
    }
   ],
   "source": [
    "# setting parameters for random search\n",
    "learning_rate=[.2,.1, .09, 0.05, 0.01]\n",
    "loss = ['deviance', 'exponential']\n",
    "max_depth = [None,2,3,4,5,6] \n",
    "n_estimators = [10,30,50,70,100,130]\n",
    "min_samples_split = [1,2,3,4,6]\n",
    "min_samples_leaf = [1,2,3,5,6,7,8, 10, 12,15]\n",
    "min_weight_fraction_leaf = [0,0.0001, 0.001, 0.00001]\n",
    "\n",
    "random_grid = {'learning_rate':learning_rate,\n",
    "              'loss': loss,\n",
    "               'max_depth': max_depth,\n",
    "               'n_estimators': n_estimators,\n",
    "               'min_samples_split': min_samples_split,\n",
    "               'min_samples_leaf': min_samples_leaf\n",
    "               ,'min_weight_fraction_leaf': min_weight_fraction_leaf\n",
    "               }\n",
    "\n",
    "#searching random params\n",
    "gbt_random = RandomizedSearchCV(estimator = gbt_model, param_distributions = random_grid\n",
    "                               , n_iter = 100, cv = 5, verbose=3, scoring='f1_macro'\n",
    "                               , random_state=3, n_jobs = -1)\n",
    "# fit random search model\n",
    "gbt_random.fit(X_train, y_train)\n",
    "\n",
    "print('best score: {:.4}%'.format(gbt_random.best_score_ * 100));\n",
    "print(gbt_random.best_params_)"
   ]
  },
  {
   "cell_type": "markdown",
   "metadata": {},
   "source": [
    "__grid search__"
   ]
  },
  {
   "cell_type": "code",
   "execution_count": 135,
   "metadata": {
    "ExecuteTime": {
     "end_time": "2020-03-04T01:20:10.824534Z",
     "start_time": "2020-03-04T00:38:27.297899Z"
    }
   },
   "outputs": [
    {
     "name": "stdout",
     "output_type": "stream",
     "text": [
      "Fitting 5 folds for each of 7200 candidates, totalling 36000 fits\n"
     ]
    },
    {
     "name": "stderr",
     "output_type": "stream",
     "text": [
      "[Parallel(n_jobs=-1)]: Using backend LokyBackend with 4 concurrent workers.\n",
      "[Parallel(n_jobs=-1)]: Done  10 tasks      | elapsed:    2.4s\n",
      "[Parallel(n_jobs=-1)]: Done  92 tasks      | elapsed:    4.0s\n",
      "[Parallel(n_jobs=-1)]: Done 272 tasks      | elapsed:    7.7s\n",
      "[Parallel(n_jobs=-1)]: Done 524 tasks      | elapsed:   12.6s\n",
      "[Parallel(n_jobs=-1)]: Done 848 tasks      | elapsed:   19.1s\n",
      "[Parallel(n_jobs=-1)]: Done 1244 tasks      | elapsed:   27.2s\n",
      "[Parallel(n_jobs=-1)]: Done 1712 tasks      | elapsed:   38.6s\n",
      "[Parallel(n_jobs=-1)]: Done 2252 tasks      | elapsed:   52.4s\n",
      "[Parallel(n_jobs=-1)]: Done 2864 tasks      | elapsed:  1.2min\n",
      "[Parallel(n_jobs=-1)]: Done 3548 tasks      | elapsed:  2.0min\n",
      "[Parallel(n_jobs=-1)]: Done 4304 tasks      | elapsed:  3.0min\n",
      "[Parallel(n_jobs=-1)]: Done 4756 tasks      | elapsed:  4.0min\n",
      "[Parallel(n_jobs=-1)]: Done 5206 tasks      | elapsed:  5.2min\n",
      "[Parallel(n_jobs=-1)]: Done 5692 tasks      | elapsed:  6.5min\n",
      "[Parallel(n_jobs=-1)]: Done 6214 tasks      | elapsed:  7.8min\n",
      "[Parallel(n_jobs=-1)]: Done 6772 tasks      | elapsed:  8.9min\n",
      "[Parallel(n_jobs=-1)]: Done 7366 tasks      | elapsed:  9.9min\n",
      "[Parallel(n_jobs=-1)]: Done 7996 tasks      | elapsed: 11.2min\n",
      "[Parallel(n_jobs=-1)]: Done 8662 tasks      | elapsed: 12.1min\n",
      "[Parallel(n_jobs=-1)]: Done 9364 tasks      | elapsed: 13.4min\n",
      "[Parallel(n_jobs=-1)]: Done 10102 tasks      | elapsed: 14.4min\n",
      "[Parallel(n_jobs=-1)]: Done 10876 tasks      | elapsed: 16.2min\n",
      "[Parallel(n_jobs=-1)]: Done 11686 tasks      | elapsed: 18.5min\n",
      "[Parallel(n_jobs=-1)]: Done 12532 tasks      | elapsed: 20.2min\n",
      "[Parallel(n_jobs=-1)]: Done 13414 tasks      | elapsed: 21.6min\n",
      "[Parallel(n_jobs=-1)]: Done 14332 tasks      | elapsed: 23.0min\n",
      "[Parallel(n_jobs=-1)]: Done 15286 tasks      | elapsed: 24.8min\n",
      "[Parallel(n_jobs=-1)]: Done 16276 tasks      | elapsed: 26.1min\n",
      "[Parallel(n_jobs=-1)]: Done 17302 tasks      | elapsed: 27.5min\n",
      "[Parallel(n_jobs=-1)]: Done 18364 tasks      | elapsed: 28.8min\n",
      "[Parallel(n_jobs=-1)]: Done 19462 tasks      | elapsed: 29.6min\n",
      "[Parallel(n_jobs=-1)]: Done 20596 tasks      | elapsed: 30.6min\n",
      "[Parallel(n_jobs=-1)]: Done 21766 tasks      | elapsed: 31.9min\n",
      "[Parallel(n_jobs=-1)]: Done 22972 tasks      | elapsed: 33.4min\n",
      "[Parallel(n_jobs=-1)]: Done 24336 tasks      | elapsed: 34.5min\n",
      "[Parallel(n_jobs=-1)]: Done 26892 tasks      | elapsed: 35.8min\n",
      "[Parallel(n_jobs=-1)]: Done 29520 tasks      | elapsed: 37.7min\n",
      "[Parallel(n_jobs=-1)]: Done 32220 tasks      | elapsed: 39.2min\n",
      "[Parallel(n_jobs=-1)]: Done 34992 tasks      | elapsed: 41.0min\n",
      "[Parallel(n_jobs=-1)]: Done 35993 out of 36000 | elapsed: 41.7min remaining:    0.5s\n",
      "[Parallel(n_jobs=-1)]: Done 36000 out of 36000 | elapsed: 41.7min finished\n"
     ]
    },
    {
     "data": {
      "text/plain": [
       "GridSearchCV(cv=5, error_score=nan,\n",
       "             estimator=GradientBoostingClassifier(ccp_alpha=0.0,\n",
       "                                                  criterion='friedman_mse',\n",
       "                                                  init=None, learning_rate=0.1,\n",
       "                                                  loss='deviance', max_depth=3,\n",
       "                                                  max_features=None,\n",
       "                                                  max_leaf_nodes=None,\n",
       "                                                  min_impurity_decrease=0.0,\n",
       "                                                  min_impurity_split=None,\n",
       "                                                  min_samples_leaf=1,\n",
       "                                                  min_samples_split=2,\n",
       "                                                  min_weight_fraction_leaf=0.0,\n",
       "                                                  n_estimators=100,\n",
       "                                                  n_iter_no_c...\n",
       "             iid='deprecated', n_jobs=-1,\n",
       "             param_grid=[{'learning_rate': [0.09, 0.1, 0.11],\n",
       "                          'loss': ['deviance', 'exponential'],\n",
       "                          'max_depth': [2, 3, 4, 5, 6],\n",
       "                          'min_samples_leaf': [1, 2, 3],\n",
       "                          'min_samples_split': [4, 5, 6, 7],\n",
       "                          'min_weight_fraction_leaf': [0.0008, 0.0009, 0.001,\n",
       "                                                       0.0012],\n",
       "                          'n_estimators': [8, 9, 10, 11, 12]}],\n",
       "             pre_dispatch='2*n_jobs', refit=True, return_train_score=False,\n",
       "             scoring='f1_macro', verbose=5)"
      ]
     },
     "execution_count": 135,
     "metadata": {},
     "output_type": "execute_result"
    },
    {
     "name": "stdout",
     "output_type": "stream",
     "text": [
      "best score: 59.84%\n",
      "params:\n",
      " {'learning_rate': 0.09, 'loss': 'deviance', 'max_depth': 6, 'min_samples_leaf': 1, 'min_samples_split': 4, 'min_weight_fraction_leaf': 0.001, 'n_estimators': 11}\n"
     ]
    }
   ],
   "source": [
    "# grid search params and run search\n",
    "param_grid_gbt = [\n",
    "    {'n_estimators': [11,12],\n",
    "     'min_weight_fraction_leaf':[0, 0.001],\n",
    "    'learning_rate': [0.09,0.1],\n",
    "    'min_samples_split': [4,5],\n",
    "    'min_samples_leaf': [1],\n",
    "    'max_depth': [5,6,7],\n",
    "     'loss':['deviance', 'exponential']\n",
    "    }]\n",
    "# grid search\n",
    "gs_gbt = GridSearchCV(estimator=gbt_model,\n",
    "                    param_grid=param_grid_gbt,scoring='f1_macro',\n",
    "                    cv=5, n_jobs=-1, verbose=2)\n",
    "\n",
    "# fit grid search\n",
    "gs_gbt.fit(X_train, y_train)\n",
    "\n",
    "# best params\n",
    "print('best score: {:.4}%'.format(gs_gbt.best_score_ * 100))\n",
    "print('params:\\n', gs_gbt.best_params_)"
   ]
  },
  {
   "cell_type": "code",
   "execution_count": 141,
   "metadata": {
    "ExecuteTime": {
     "end_time": "2020-03-04T01:34:22.393384Z",
     "start_time": "2020-03-04T01:34:22.070815Z"
    }
   },
   "outputs": [
    {
     "data": {
      "text/plain": [
       "GradientBoostingClassifier(ccp_alpha=0.0, criterion='friedman_mse', init=None,\n",
       "                           learning_rate=0.09, loss='deviance', max_depth=6,\n",
       "                           max_features=None, max_leaf_nodes=None,\n",
       "                           min_impurity_decrease=0.0, min_impurity_split=None,\n",
       "                           min_samples_leaf=1, min_samples_split=4,\n",
       "                           min_weight_fraction_leaf=0.001, n_estimators=11,\n",
       "                           n_iter_no_change=None, presort='deprecated',\n",
       "                           random_state=None, subsample=1.0, tol=0.0001,\n",
       "                           validation_fraction=0.1, verbose=0,\n",
       "                           warm_start=False)"
      ]
     },
     "execution_count": 141,
     "metadata": {},
     "output_type": "execute_result"
    }
   ],
   "source": [
    "# fitting best params\n",
    "gbt_gs_model = GradientBoostingClassifier(learning_rate=0.09,\n",
    "                                          loss= 'deviance',\n",
    "                                         max_depth=6,\n",
    "                                         min_samples_leaf=1,\n",
    "                                         min_samples_split=4,\n",
    "                                         min_weight_fraction_leaf=0.001,\n",
    "                                         n_estimators=11)\n",
    "gbt_gs_model.fit(X_train, y_train)\n",
    "\n",
    "predictions = gbt_gs_model.predict(X_test)"
   ]
  },
  {
   "cell_type": "markdown",
   "metadata": {},
   "source": [
    "#### final model"
   ]
  },
  {
   "cell_type": "markdown",
   "metadata": {},
   "source": [
    "__best model__"
   ]
  },
  {
   "cell_type": "code",
   "execution_count": 142,
   "metadata": {
    "ExecuteTime": {
     "end_time": "2020-03-04T01:34:28.431281Z",
     "start_time": "2020-03-04T01:34:22.398085Z"
    }
   },
   "outputs": [
    {
     "name": "stdout",
     "output_type": "stream",
     "text": [
      "\n",
      "Cross Validation Scoring:\n",
      "\n",
      "train score: 63.16%\n",
      "test score: 63.3%\n",
      "cross val score: 91.05%\n",
      "\n",
      "Classification Report:\n",
      "                precision    recall  f1-score   support\n",
      "\n",
      "bite_dangerous       0.13      0.55      0.21       540\n",
      " not_bite/dang       0.94      0.64      0.76      5495\n",
      "\n",
      "      accuracy                           0.63      6035\n",
      "     macro avg       0.53      0.60      0.49      6035\n",
      "  weighted avg       0.86      0.63      0.71      6035\n",
      "\n",
      "\n",
      "Confusion matrix:\n"
     ]
    },
    {
     "data": {
      "text/html": [
       "<div>\n",
       "<style scoped>\n",
       "    .dataframe tbody tr th:only-of-type {\n",
       "        vertical-align: middle;\n",
       "    }\n",
       "\n",
       "    .dataframe tbody tr th {\n",
       "        vertical-align: top;\n",
       "    }\n",
       "\n",
       "    .dataframe thead th {\n",
       "        text-align: right;\n",
       "    }\n",
       "</style>\n",
       "<table border=\"1\" class=\"dataframe\">\n",
       "  <thead>\n",
       "    <tr style=\"text-align: right;\">\n",
       "      <th></th>\n",
       "      <th>pred bite/dangerous</th>\n",
       "      <th>pred not_bite/not_dangerous</th>\n",
       "    </tr>\n",
       "  </thead>\n",
       "  <tbody>\n",
       "    <tr>\n",
       "      <th>real bite/dangerous</th>\n",
       "      <td>298</td>\n",
       "      <td>242</td>\n",
       "    </tr>\n",
       "    <tr>\n",
       "      <th>real not_bite/not_dangerous</th>\n",
       "      <td>1973</td>\n",
       "      <td>3522</td>\n",
       "    </tr>\n",
       "  </tbody>\n",
       "</table>\n",
       "</div>"
      ],
      "text/plain": [
       "                             pred bite/dangerous  pred not_bite/not_dangerous\n",
       "real bite/dangerous                          298                          242\n",
       "real not_bite/not_dangerous                 1973                         3522"
      ]
     },
     "metadata": {},
     "output_type": "display_data"
    }
   ],
   "source": [
    "# new model report\n",
    "model_report(gbt_gs_model)"
   ]
  },
  {
   "cell_type": "markdown",
   "metadata": {},
   "source": [
    "### SVM"
   ]
  },
  {
   "cell_type": "code",
   "execution_count": 137,
   "metadata": {
    "ExecuteTime": {
     "end_time": "2020-03-04T01:20:16.644888Z",
     "start_time": "2020-03-04T01:20:12.988735Z"
    }
   },
   "outputs": [
    {
     "data": {
      "text/plain": [
       "SVC(C=1.0, break_ties=False, cache_size=200, class_weight=None, coef0=0.0,\n",
       "    decision_function_shape='ovr', degree=3, gamma='scale', kernel='rbf',\n",
       "    max_iter=-1, probability=False, random_state=3, shrinking=True, tol=0.001,\n",
       "    verbose=False)"
      ]
     },
     "execution_count": 137,
     "metadata": {},
     "output_type": "execute_result"
    }
   ],
   "source": [
    "svm_model = svm.SVC(random_state=3)\n",
    "svm_model.fit(X_train, y_train)\n",
    "\n",
    "predictions = svm_model.predict(X_test)\n",
    "# actuals = y_test"
   ]
  },
  {
   "cell_type": "markdown",
   "metadata": {},
   "source": [
    "___\n",
    "__default model__"
   ]
  },
  {
   "cell_type": "code",
   "execution_count": 149,
   "metadata": {
    "ExecuteTime": {
     "end_time": "2020-03-04T01:55:46.250555Z",
     "start_time": "2020-03-04T01:54:11.968861Z"
    }
   },
   "outputs": [
    {
     "name": "stdout",
     "output_type": "stream",
     "text": [
      "\n",
      "Cross Validation Scoring:\n",
      "\n",
      "train score: 67.17%\n",
      "test score: 57.85%\n",
      "cross val score: 91.05%\n",
      "\n",
      "Classification Report:\n",
      "                precision    recall  f1-score   support\n",
      "\n",
      "bite_dangerous       0.14      0.58      0.22       540\n",
      " not_bite/dang       0.94      0.64      0.76      5495\n",
      "\n",
      "      accuracy                           0.64      6035\n",
      "     macro avg       0.54      0.61      0.49      6035\n",
      "  weighted avg       0.87      0.64      0.72      6035\n",
      "\n",
      "\n",
      "Confusion matrix:\n"
     ]
    },
    {
     "data": {
      "text/html": [
       "<div>\n",
       "<style scoped>\n",
       "    .dataframe tbody tr th:only-of-type {\n",
       "        vertical-align: middle;\n",
       "    }\n",
       "\n",
       "    .dataframe tbody tr th {\n",
       "        vertical-align: top;\n",
       "    }\n",
       "\n",
       "    .dataframe thead th {\n",
       "        text-align: right;\n",
       "    }\n",
       "</style>\n",
       "<table border=\"1\" class=\"dataframe\">\n",
       "  <thead>\n",
       "    <tr style=\"text-align: right;\">\n",
       "      <th></th>\n",
       "      <th>pred bite/dangerous</th>\n",
       "      <th>pred not_bite/not_dangerous</th>\n",
       "    </tr>\n",
       "  </thead>\n",
       "  <tbody>\n",
       "    <tr>\n",
       "      <th>real bite/dangerous</th>\n",
       "      <td>313</td>\n",
       "      <td>227</td>\n",
       "    </tr>\n",
       "    <tr>\n",
       "      <th>real not_bite/not_dangerous</th>\n",
       "      <td>1957</td>\n",
       "      <td>3538</td>\n",
       "    </tr>\n",
       "  </tbody>\n",
       "</table>\n",
       "</div>"
      ],
      "text/plain": [
       "                             pred bite/dangerous  pred not_bite/not_dangerous\n",
       "real bite/dangerous                          313                          227\n",
       "real not_bite/not_dangerous                 1957                         3538"
      ]
     },
     "metadata": {},
     "output_type": "display_data"
    }
   ],
   "source": [
    "model_report(svm_model)"
   ]
  },
  {
   "cell_type": "markdown",
   "metadata": {},
   "source": [
    "#### grid searches"
   ]
  },
  {
   "cell_type": "markdown",
   "metadata": {},
   "source": [
    "___\n",
    "__random grid search__"
   ]
  },
  {
   "cell_type": "code",
   "execution_count": 139,
   "metadata": {
    "ExecuteTime": {
     "end_time": "2020-03-04T01:22:08.006767Z",
     "start_time": "2020-03-04T01:20:20.186782Z"
    }
   },
   "outputs": [
    {
     "name": "stdout",
     "output_type": "stream",
     "text": [
      "Fitting 5 folds for each of 48 candidates, totalling 240 fits\n"
     ]
    },
    {
     "name": "stderr",
     "output_type": "stream",
     "text": [
      "[Parallel(n_jobs=-1)]: Using backend LokyBackend with 4 concurrent workers.\n",
      "[Parallel(n_jobs=-1)]: Done   5 tasks      | elapsed:    7.8s\n",
      "[Parallel(n_jobs=-1)]: Done  10 tasks      | elapsed:    9.2s\n",
      "[Parallel(n_jobs=-1)]: Done  17 tasks      | elapsed:   12.7s\n",
      "[Parallel(n_jobs=-1)]: Done  24 tasks      | elapsed:   15.6s\n",
      "[Parallel(n_jobs=-1)]: Done  33 tasks      | elapsed:   21.1s\n",
      "[Parallel(n_jobs=-1)]: Done  42 tasks      | elapsed:   24.5s\n",
      "[Parallel(n_jobs=-1)]: Done  53 tasks      | elapsed:   29.8s\n",
      "[Parallel(n_jobs=-1)]: Done  64 tasks      | elapsed:   33.3s\n",
      "[Parallel(n_jobs=-1)]: Done  77 tasks      | elapsed:   39.1s\n",
      "[Parallel(n_jobs=-1)]: Done  90 tasks      | elapsed:   43.8s\n",
      "[Parallel(n_jobs=-1)]: Done 105 tasks      | elapsed:   50.8s\n",
      "[Parallel(n_jobs=-1)]: Done 120 tasks      | elapsed:   56.1s\n",
      "[Parallel(n_jobs=-1)]: Done 137 tasks      | elapsed:  1.1min\n",
      "[Parallel(n_jobs=-1)]: Done 154 tasks      | elapsed:  1.2min\n",
      "[Parallel(n_jobs=-1)]: Done 173 tasks      | elapsed:  1.3min\n",
      "[Parallel(n_jobs=-1)]: Done 192 tasks      | elapsed:  1.4min\n",
      "[Parallel(n_jobs=-1)]: Done 213 tasks      | elapsed:  1.6min\n",
      "[Parallel(n_jobs=-1)]: Done 240 out of 240 | elapsed:  1.8min finished\n"
     ]
    },
    {
     "data": {
      "text/plain": [
       "RandomizedSearchCV(cv=5, error_score=nan,\n",
       "                   estimator=SVC(C=1.0, break_ties=False, cache_size=200,\n",
       "                                 class_weight=None, coef0=0.0,\n",
       "                                 decision_function_shape='ovr', degree=3,\n",
       "                                 gamma='scale', kernel='rbf', max_iter=-1,\n",
       "                                 probability=False, random_state=3,\n",
       "                                 shrinking=True, tol=0.001, verbose=False),\n",
       "                   iid='deprecated', n_iter=50, n_jobs=-1,\n",
       "                   param_distributions={'C': [0.09, 0.1, 1.0, 1.01],\n",
       "                                        'gamma': [0.005, 0.001, 0.01, 0.1, 0.11,\n",
       "                                                  0.15],\n",
       "                                        'kernel': ['rbf', 'linear']},\n",
       "                   pre_dispatch='2*n_jobs', random_state=3, refit=True,\n",
       "                   return_train_score=False, scoring='f1_macro', verbose=10)"
      ]
     },
     "execution_count": 139,
     "metadata": {},
     "output_type": "execute_result"
    },
    {
     "name": "stdout",
     "output_type": "stream",
     "text": [
      "best score: 59.51%\n",
      "{'kernel': 'linear', 'gamma': 0.005, 'C': 1.0}\n"
     ]
    }
   ],
   "source": [
    "# set random search params\n",
    "clf_C = [0.09,0.1,1.0, 1.01]\n",
    "clf_gamma = [0.005,0.001,0.01, 0.1, 0.11, 0.15]\n",
    "clf_kernel = ['rbf', 'linear']\n",
    "\n",
    "random_grid = {\n",
    "               'C': clf_C,\n",
    "               'gamma': clf_gamma,\n",
    "               'kernel': clf_kernel\n",
    "               }\n",
    "\n",
    "# fit and search random param combinations\n",
    "svm_random = RandomizedSearchCV(estimator = svm_model, param_distributions = random_grid\n",
    "                               , n_iter = 50 , cv = 5, verbose=10\n",
    "                               , scoring='f1_macro', random_state=3, n_jobs = -1)\n",
    "# Fit the random search model\n",
    "svm_random.fit(X_train, y_train)\n",
    "\n",
    "print('best score: {:.4}%'.format(svm_random.best_score_ * 100));\n",
    "print(svm_random.best_params_)"
   ]
  },
  {
   "cell_type": "markdown",
   "metadata": {},
   "source": [
    "___\n",
    "__grid search__"
   ]
  },
  {
   "cell_type": "code",
   "execution_count": 140,
   "metadata": {
    "ExecuteTime": {
     "end_time": "2020-03-04T01:34:22.063965Z",
     "start_time": "2020-03-04T01:22:08.011197Z"
    }
   },
   "outputs": [
    {
     "name": "stdout",
     "output_type": "stream",
     "text": [
      "Fitting 5 folds for each of 50 candidates, totalling 250 fits\n",
      "[CV] C=0.08, gamma=0.002, kernel=rbf .................................\n"
     ]
    },
    {
     "name": "stderr",
     "output_type": "stream",
     "text": [
      "[Parallel(n_jobs=1)]: Using backend SequentialBackend with 1 concurrent workers.\n"
     ]
    },
    {
     "name": "stdout",
     "output_type": "stream",
     "text": [
      "[CV]  C=0.08, gamma=0.002, kernel=rbf, score=(train=0.333, test=0.333), total=   1.1s\n",
      "[CV] C=0.08, gamma=0.002, kernel=rbf .................................\n"
     ]
    },
    {
     "name": "stderr",
     "output_type": "stream",
     "text": [
      "[Parallel(n_jobs=1)]: Done   1 out of   1 | elapsed:    1.9s remaining:    0.0s\n"
     ]
    },
    {
     "name": "stdout",
     "output_type": "stream",
     "text": [
      "[CV]  C=0.08, gamma=0.002, kernel=rbf, score=(train=0.333, test=0.333), total=   1.0s\n",
      "[CV] C=0.08, gamma=0.002, kernel=rbf .................................\n"
     ]
    },
    {
     "name": "stderr",
     "output_type": "stream",
     "text": [
      "[Parallel(n_jobs=1)]: Done   2 out of   2 | elapsed:    3.7s remaining:    0.0s\n"
     ]
    },
    {
     "name": "stdout",
     "output_type": "stream",
     "text": [
      "[CV]  C=0.08, gamma=0.002, kernel=rbf, score=(train=0.580, test=0.601), total=   1.0s\n",
      "[CV] C=0.08, gamma=0.002, kernel=rbf .................................\n"
     ]
    },
    {
     "name": "stderr",
     "output_type": "stream",
     "text": [
      "[Parallel(n_jobs=1)]: Done   3 out of   3 | elapsed:    5.5s remaining:    0.0s\n"
     ]
    },
    {
     "name": "stdout",
     "output_type": "stream",
     "text": [
      "[CV]  C=0.08, gamma=0.002, kernel=rbf, score=(train=0.595, test=0.545), total=   1.0s\n",
      "[CV] C=0.08, gamma=0.002, kernel=rbf .................................\n"
     ]
    },
    {
     "name": "stderr",
     "output_type": "stream",
     "text": [
      "[Parallel(n_jobs=1)]: Done   4 out of   4 | elapsed:    7.4s remaining:    0.0s\n"
     ]
    },
    {
     "name": "stdout",
     "output_type": "stream",
     "text": [
      "[CV]  C=0.08, gamma=0.002, kernel=rbf, score=(train=0.587, test=0.570), total=   1.0s\n",
      "[CV] C=0.08, gamma=0.002, kernel=linear ..............................\n",
      "[CV]  C=0.08, gamma=0.002, kernel=linear, score=(train=0.589, test=0.616), total=   0.8s\n",
      "[CV] C=0.08, gamma=0.002, kernel=linear ..............................\n",
      "[CV]  C=0.08, gamma=0.002, kernel=linear, score=(train=0.593, test=0.603), total=   0.8s\n",
      "[CV] C=0.08, gamma=0.002, kernel=linear ..............................\n",
      "[CV]  C=0.08, gamma=0.002, kernel=linear, score=(train=0.591, test=0.610), total=   0.8s\n",
      "[CV] C=0.08, gamma=0.002, kernel=linear ..............................\n",
      "[CV]  C=0.08, gamma=0.002, kernel=linear, score=(train=0.602, test=0.564), total=   0.8s\n",
      "[CV] C=0.08, gamma=0.002, kernel=linear ..............................\n",
      "[CV]  C=0.08, gamma=0.002, kernel=linear, score=(train=0.598, test=0.581), total=   0.8s\n",
      "[CV] C=0.08, gamma=0.004, kernel=rbf .................................\n",
      "[CV]  C=0.08, gamma=0.004, kernel=rbf, score=(train=0.333, test=0.333), total=   1.2s\n",
      "[CV] C=0.08, gamma=0.004, kernel=rbf .................................\n",
      "[CV]  C=0.08, gamma=0.004, kernel=rbf, score=(train=0.333, test=0.333), total=   1.0s\n",
      "[CV] C=0.08, gamma=0.004, kernel=rbf .................................\n",
      "[CV]  C=0.08, gamma=0.004, kernel=rbf, score=(train=0.580, test=0.601), total=   1.0s\n",
      "[CV] C=0.08, gamma=0.004, kernel=rbf .................................\n",
      "[CV]  C=0.08, gamma=0.004, kernel=rbf, score=(train=0.595, test=0.545), total=   1.0s\n",
      "[CV] C=0.08, gamma=0.004, kernel=rbf .................................\n",
      "[CV]  C=0.08, gamma=0.004, kernel=rbf, score=(train=0.587, test=0.570), total=   1.1s\n",
      "[CV] C=0.08, gamma=0.004, kernel=linear ..............................\n",
      "[CV]  C=0.08, gamma=0.004, kernel=linear, score=(train=0.589, test=0.616), total=   0.9s\n",
      "[CV] C=0.08, gamma=0.004, kernel=linear ..............................\n",
      "[CV]  C=0.08, gamma=0.004, kernel=linear, score=(train=0.593, test=0.603), total=   0.9s\n",
      "[CV] C=0.08, gamma=0.004, kernel=linear ..............................\n",
      "[CV]  C=0.08, gamma=0.004, kernel=linear, score=(train=0.591, test=0.610), total=   0.8s\n",
      "[CV] C=0.08, gamma=0.004, kernel=linear ..............................\n",
      "[CV]  C=0.08, gamma=0.004, kernel=linear, score=(train=0.602, test=0.564), total=   0.8s\n",
      "[CV] C=0.08, gamma=0.004, kernel=linear ..............................\n",
      "[CV]  C=0.08, gamma=0.004, kernel=linear, score=(train=0.598, test=0.581), total=   0.9s\n",
      "[CV] C=0.08, gamma=0.005, kernel=rbf .................................\n",
      "[CV]  C=0.08, gamma=0.005, kernel=rbf, score=(train=0.333, test=0.333), total=   1.1s\n",
      "[CV] C=0.08, gamma=0.005, kernel=rbf .................................\n",
      "[CV]  C=0.08, gamma=0.005, kernel=rbf, score=(train=0.333, test=0.333), total=   1.2s\n",
      "[CV] C=0.08, gamma=0.005, kernel=rbf .................................\n",
      "[CV]  C=0.08, gamma=0.005, kernel=rbf, score=(train=0.580, test=0.601), total=   1.1s\n",
      "[CV] C=0.08, gamma=0.005, kernel=rbf .................................\n",
      "[CV]  C=0.08, gamma=0.005, kernel=rbf, score=(train=0.595, test=0.545), total=   1.0s\n",
      "[CV] C=0.08, gamma=0.005, kernel=rbf .................................\n",
      "[CV]  C=0.08, gamma=0.005, kernel=rbf, score=(train=0.587, test=0.570), total=   1.0s\n",
      "[CV] C=0.08, gamma=0.005, kernel=linear ..............................\n",
      "[CV]  C=0.08, gamma=0.005, kernel=linear, score=(train=0.589, test=0.616), total=   0.8s\n",
      "[CV] C=0.08, gamma=0.005, kernel=linear ..............................\n",
      "[CV]  C=0.08, gamma=0.005, kernel=linear, score=(train=0.593, test=0.603), total=   0.8s\n",
      "[CV] C=0.08, gamma=0.005, kernel=linear ..............................\n",
      "[CV]  C=0.08, gamma=0.005, kernel=linear, score=(train=0.591, test=0.610), total=   0.9s\n",
      "[CV] C=0.08, gamma=0.005, kernel=linear ..............................\n",
      "[CV]  C=0.08, gamma=0.005, kernel=linear, score=(train=0.602, test=0.564), total=   0.8s\n",
      "[CV] C=0.08, gamma=0.005, kernel=linear ..............................\n",
      "[CV]  C=0.08, gamma=0.005, kernel=linear, score=(train=0.598, test=0.581), total=   0.8s\n",
      "[CV] C=0.08, gamma=0.006, kernel=rbf .................................\n",
      "[CV]  C=0.08, gamma=0.006, kernel=rbf, score=(train=0.333, test=0.333), total=   1.0s\n",
      "[CV] C=0.08, gamma=0.006, kernel=rbf .................................\n",
      "[CV]  C=0.08, gamma=0.006, kernel=rbf, score=(train=0.333, test=0.333), total=   1.0s\n",
      "[CV] C=0.08, gamma=0.006, kernel=rbf .................................\n",
      "[CV]  C=0.08, gamma=0.006, kernel=rbf, score=(train=0.580, test=0.601), total=   1.1s\n",
      "[CV] C=0.08, gamma=0.006, kernel=rbf .................................\n",
      "[CV]  C=0.08, gamma=0.006, kernel=rbf, score=(train=0.595, test=0.545), total=   1.2s\n",
      "[CV] C=0.08, gamma=0.006, kernel=rbf .................................\n",
      "[CV]  C=0.08, gamma=0.006, kernel=rbf, score=(train=0.587, test=0.570), total=   1.1s\n",
      "[CV] C=0.08, gamma=0.006, kernel=linear ..............................\n",
      "[CV]  C=0.08, gamma=0.006, kernel=linear, score=(train=0.589, test=0.616), total=   0.9s\n",
      "[CV] C=0.08, gamma=0.006, kernel=linear ..............................\n",
      "[CV]  C=0.08, gamma=0.006, kernel=linear, score=(train=0.593, test=0.603), total=   0.8s\n",
      "[CV] C=0.08, gamma=0.006, kernel=linear ..............................\n",
      "[CV]  C=0.08, gamma=0.006, kernel=linear, score=(train=0.591, test=0.610), total=   0.8s\n",
      "[CV] C=0.08, gamma=0.006, kernel=linear ..............................\n",
      "[CV]  C=0.08, gamma=0.006, kernel=linear, score=(train=0.602, test=0.564), total=   0.8s\n",
      "[CV] C=0.08, gamma=0.006, kernel=linear ..............................\n",
      "[CV]  C=0.08, gamma=0.006, kernel=linear, score=(train=0.598, test=0.581), total=   1.0s\n",
      "[CV] C=0.08, gamma=0.008, kernel=rbf .................................\n",
      "[CV]  C=0.08, gamma=0.008, kernel=rbf, score=(train=0.333, test=0.333), total=   1.1s\n",
      "[CV] C=0.08, gamma=0.008, kernel=rbf .................................\n",
      "[CV]  C=0.08, gamma=0.008, kernel=rbf, score=(train=0.333, test=0.333), total=   1.1s\n",
      "[CV] C=0.08, gamma=0.008, kernel=rbf .................................\n",
      "[CV]  C=0.08, gamma=0.008, kernel=rbf, score=(train=0.580, test=0.601), total=   1.3s\n",
      "[CV] C=0.08, gamma=0.008, kernel=rbf .................................\n",
      "[CV]  C=0.08, gamma=0.008, kernel=rbf, score=(train=0.595, test=0.545), total=   1.2s\n",
      "[CV] C=0.08, gamma=0.008, kernel=rbf .................................\n",
      "[CV]  C=0.08, gamma=0.008, kernel=rbf, score=(train=0.587, test=0.570), total=   1.0s\n",
      "[CV] C=0.08, gamma=0.008, kernel=linear ..............................\n",
      "[CV]  C=0.08, gamma=0.008, kernel=linear, score=(train=0.589, test=0.616), total=   0.9s\n",
      "[CV] C=0.08, gamma=0.008, kernel=linear ..............................\n",
      "[CV]  C=0.08, gamma=0.008, kernel=linear, score=(train=0.593, test=0.603), total=   0.8s\n",
      "[CV] C=0.08, gamma=0.008, kernel=linear ..............................\n",
      "[CV]  C=0.08, gamma=0.008, kernel=linear, score=(train=0.591, test=0.610), total=   0.8s\n",
      "[CV] C=0.08, gamma=0.008, kernel=linear ..............................\n",
      "[CV]  C=0.08, gamma=0.008, kernel=linear, score=(train=0.602, test=0.564), total=   1.1s\n",
      "[CV] C=0.08, gamma=0.008, kernel=linear ..............................\n",
      "[CV]  C=0.08, gamma=0.008, kernel=linear, score=(train=0.598, test=0.581), total=   1.3s\n",
      "[CV] C=0.09, gamma=0.002, kernel=rbf .................................\n",
      "[CV]  C=0.09, gamma=0.002, kernel=rbf, score=(train=0.333, test=0.333), total=   1.2s\n",
      "[CV] C=0.09, gamma=0.002, kernel=rbf .................................\n",
      "[CV]  C=0.09, gamma=0.002, kernel=rbf, score=(train=0.333, test=0.333), total=   1.1s\n",
      "[CV] C=0.09, gamma=0.002, kernel=rbf .................................\n",
      "[CV]  C=0.09, gamma=0.002, kernel=rbf, score=(train=0.580, test=0.601), total=   1.1s\n",
      "[CV] C=0.09, gamma=0.002, kernel=rbf .................................\n",
      "[CV]  C=0.09, gamma=0.002, kernel=rbf, score=(train=0.595, test=0.545), total=   1.1s\n",
      "[CV] C=0.09, gamma=0.002, kernel=rbf .................................\n",
      "[CV]  C=0.09, gamma=0.002, kernel=rbf, score=(train=0.587, test=0.570), total=   1.1s\n",
      "[CV] C=0.09, gamma=0.002, kernel=linear ..............................\n",
      "[CV]  C=0.09, gamma=0.002, kernel=linear, score=(train=0.589, test=0.616), total=   0.9s\n",
      "[CV] C=0.09, gamma=0.002, kernel=linear ..............................\n"
     ]
    },
    {
     "name": "stdout",
     "output_type": "stream",
     "text": [
      "[CV]  C=0.09, gamma=0.002, kernel=linear, score=(train=0.593, test=0.603), total=   0.9s\n",
      "[CV] C=0.09, gamma=0.002, kernel=linear ..............................\n",
      "[CV]  C=0.09, gamma=0.002, kernel=linear, score=(train=0.591, test=0.610), total=   1.3s\n",
      "[CV] C=0.09, gamma=0.002, kernel=linear ..............................\n",
      "[CV]  C=0.09, gamma=0.002, kernel=linear, score=(train=0.602, test=0.564), total=   1.5s\n",
      "[CV] C=0.09, gamma=0.002, kernel=linear ..............................\n",
      "[CV]  C=0.09, gamma=0.002, kernel=linear, score=(train=0.598, test=0.581), total=   1.5s\n",
      "[CV] C=0.09, gamma=0.004, kernel=rbf .................................\n",
      "[CV]  C=0.09, gamma=0.004, kernel=rbf, score=(train=0.333, test=0.333), total=   2.2s\n",
      "[CV] C=0.09, gamma=0.004, kernel=rbf .................................\n",
      "[CV]  C=0.09, gamma=0.004, kernel=rbf, score=(train=0.333, test=0.333), total=   1.7s\n",
      "[CV] C=0.09, gamma=0.004, kernel=rbf .................................\n",
      "[CV]  C=0.09, gamma=0.004, kernel=rbf, score=(train=0.580, test=0.601), total=   2.2s\n",
      "[CV] C=0.09, gamma=0.004, kernel=rbf .................................\n",
      "[CV]  C=0.09, gamma=0.004, kernel=rbf, score=(train=0.595, test=0.545), total=   1.8s\n",
      "[CV] C=0.09, gamma=0.004, kernel=rbf .................................\n",
      "[CV]  C=0.09, gamma=0.004, kernel=rbf, score=(train=0.587, test=0.570), total=   2.2s\n",
      "[CV] C=0.09, gamma=0.004, kernel=linear ..............................\n",
      "[CV]  C=0.09, gamma=0.004, kernel=linear, score=(train=0.589, test=0.616), total=   1.5s\n",
      "[CV] C=0.09, gamma=0.004, kernel=linear ..............................\n",
      "[CV]  C=0.09, gamma=0.004, kernel=linear, score=(train=0.593, test=0.603), total=   1.6s\n",
      "[CV] C=0.09, gamma=0.004, kernel=linear ..............................\n",
      "[CV]  C=0.09, gamma=0.004, kernel=linear, score=(train=0.591, test=0.610), total=   1.7s\n",
      "[CV] C=0.09, gamma=0.004, kernel=linear ..............................\n",
      "[CV]  C=0.09, gamma=0.004, kernel=linear, score=(train=0.602, test=0.564), total=   1.9s\n",
      "[CV] C=0.09, gamma=0.004, kernel=linear ..............................\n",
      "[CV]  C=0.09, gamma=0.004, kernel=linear, score=(train=0.598, test=0.581), total=   1.7s\n",
      "[CV] C=0.09, gamma=0.005, kernel=rbf .................................\n",
      "[CV]  C=0.09, gamma=0.005, kernel=rbf, score=(train=0.333, test=0.333), total=   2.0s\n",
      "[CV] C=0.09, gamma=0.005, kernel=rbf .................................\n",
      "[CV]  C=0.09, gamma=0.005, kernel=rbf, score=(train=0.333, test=0.333), total=   2.5s\n",
      "[CV] C=0.09, gamma=0.005, kernel=rbf .................................\n",
      "[CV]  C=0.09, gamma=0.005, kernel=rbf, score=(train=0.580, test=0.601), total=   1.9s\n",
      "[CV] C=0.09, gamma=0.005, kernel=rbf .................................\n",
      "[CV]  C=0.09, gamma=0.005, kernel=rbf, score=(train=0.595, test=0.545), total=   1.9s\n",
      "[CV] C=0.09, gamma=0.005, kernel=rbf .................................\n",
      "[CV]  C=0.09, gamma=0.005, kernel=rbf, score=(train=0.587, test=0.570), total=   2.2s\n",
      "[CV] C=0.09, gamma=0.005, kernel=linear ..............................\n",
      "[CV]  C=0.09, gamma=0.005, kernel=linear, score=(train=0.589, test=0.616), total=   1.5s\n",
      "[CV] C=0.09, gamma=0.005, kernel=linear ..............................\n",
      "[CV]  C=0.09, gamma=0.005, kernel=linear, score=(train=0.593, test=0.603), total=   1.8s\n",
      "[CV] C=0.09, gamma=0.005, kernel=linear ..............................\n",
      "[CV]  C=0.09, gamma=0.005, kernel=linear, score=(train=0.591, test=0.610), total=   1.5s\n",
      "[CV] C=0.09, gamma=0.005, kernel=linear ..............................\n",
      "[CV]  C=0.09, gamma=0.005, kernel=linear, score=(train=0.602, test=0.564), total=   1.8s\n",
      "[CV] C=0.09, gamma=0.005, kernel=linear ..............................\n",
      "[CV]  C=0.09, gamma=0.005, kernel=linear, score=(train=0.598, test=0.581), total=   1.6s\n",
      "[CV] C=0.09, gamma=0.006, kernel=rbf .................................\n",
      "[CV]  C=0.09, gamma=0.006, kernel=rbf, score=(train=0.333, test=0.333), total=   1.8s\n",
      "[CV] C=0.09, gamma=0.006, kernel=rbf .................................\n",
      "[CV]  C=0.09, gamma=0.006, kernel=rbf, score=(train=0.333, test=0.333), total=   2.1s\n",
      "[CV] C=0.09, gamma=0.006, kernel=rbf .................................\n",
      "[CV]  C=0.09, gamma=0.006, kernel=rbf, score=(train=0.580, test=0.601), total=   1.7s\n",
      "[CV] C=0.09, gamma=0.006, kernel=rbf .................................\n",
      "[CV]  C=0.09, gamma=0.006, kernel=rbf, score=(train=0.595, test=0.545), total=   1.8s\n",
      "[CV] C=0.09, gamma=0.006, kernel=rbf .................................\n",
      "[CV]  C=0.09, gamma=0.006, kernel=rbf, score=(train=0.587, test=0.570), total=   2.5s\n",
      "[CV] C=0.09, gamma=0.006, kernel=linear ..............................\n",
      "[CV]  C=0.09, gamma=0.006, kernel=linear, score=(train=0.589, test=0.616), total=   1.5s\n",
      "[CV] C=0.09, gamma=0.006, kernel=linear ..............................\n",
      "[CV]  C=0.09, gamma=0.006, kernel=linear, score=(train=0.593, test=0.603), total=   1.5s\n",
      "[CV] C=0.09, gamma=0.006, kernel=linear ..............................\n",
      "[CV]  C=0.09, gamma=0.006, kernel=linear, score=(train=0.591, test=0.610), total=   1.5s\n",
      "[CV] C=0.09, gamma=0.006, kernel=linear ..............................\n",
      "[CV]  C=0.09, gamma=0.006, kernel=linear, score=(train=0.602, test=0.564), total=   1.6s\n",
      "[CV] C=0.09, gamma=0.006, kernel=linear ..............................\n",
      "[CV]  C=0.09, gamma=0.006, kernel=linear, score=(train=0.598, test=0.581), total=   1.7s\n",
      "[CV] C=0.09, gamma=0.008, kernel=rbf .................................\n",
      "[CV]  C=0.09, gamma=0.008, kernel=rbf, score=(train=0.333, test=0.333), total=   1.8s\n",
      "[CV] C=0.09, gamma=0.008, kernel=rbf .................................\n",
      "[CV]  C=0.09, gamma=0.008, kernel=rbf, score=(train=0.333, test=0.333), total=   2.4s\n",
      "[CV] C=0.09, gamma=0.008, kernel=rbf .................................\n",
      "[CV]  C=0.09, gamma=0.008, kernel=rbf, score=(train=0.580, test=0.601), total=   1.9s\n",
      "[CV] C=0.09, gamma=0.008, kernel=rbf .................................\n",
      "[CV]  C=0.09, gamma=0.008, kernel=rbf, score=(train=0.595, test=0.545), total=   1.8s\n",
      "[CV] C=0.09, gamma=0.008, kernel=rbf .................................\n",
      "[CV]  C=0.09, gamma=0.008, kernel=rbf, score=(train=0.587, test=0.570), total=   1.7s\n",
      "[CV] C=0.09, gamma=0.008, kernel=linear ..............................\n",
      "[CV]  C=0.09, gamma=0.008, kernel=linear, score=(train=0.589, test=0.616), total=   2.1s\n",
      "[CV] C=0.09, gamma=0.008, kernel=linear ..............................\n",
      "[CV]  C=0.09, gamma=0.008, kernel=linear, score=(train=0.593, test=0.603), total=   1.5s\n",
      "[CV] C=0.09, gamma=0.008, kernel=linear ..............................\n",
      "[CV]  C=0.09, gamma=0.008, kernel=linear, score=(train=0.591, test=0.610), total=   1.8s\n",
      "[CV] C=0.09, gamma=0.008, kernel=linear ..............................\n",
      "[CV]  C=0.09, gamma=0.008, kernel=linear, score=(train=0.602, test=0.564), total=   1.4s\n",
      "[CV] C=0.09, gamma=0.008, kernel=linear ..............................\n",
      "[CV]  C=0.09, gamma=0.008, kernel=linear, score=(train=0.598, test=0.581), total=   1.4s\n",
      "[CV] C=0.1, gamma=0.002, kernel=rbf ..................................\n",
      "[CV]  C=0.1, gamma=0.002, kernel=rbf, score=(train=0.333, test=0.333), total=   2.0s\n",
      "[CV] C=0.1, gamma=0.002, kernel=rbf ..................................\n",
      "[CV]  C=0.1, gamma=0.002, kernel=rbf, score=(train=0.333, test=0.333), total=   2.0s\n",
      "[CV] C=0.1, gamma=0.002, kernel=rbf ..................................\n",
      "[CV]  C=0.1, gamma=0.002, kernel=rbf, score=(train=0.580, test=0.601), total=   2.1s\n",
      "[CV] C=0.1, gamma=0.002, kernel=rbf ..................................\n",
      "[CV]  C=0.1, gamma=0.002, kernel=rbf, score=(train=0.595, test=0.545), total=   2.4s\n",
      "[CV] C=0.1, gamma=0.002, kernel=rbf ..................................\n",
      "[CV]  C=0.1, gamma=0.002, kernel=rbf, score=(train=0.587, test=0.570), total=   1.9s\n",
      "[CV] C=0.1, gamma=0.002, kernel=linear ...............................\n",
      "[CV]  C=0.1, gamma=0.002, kernel=linear, score=(train=0.589, test=0.616), total=   1.7s\n",
      "[CV] C=0.1, gamma=0.002, kernel=linear ...............................\n",
      "[CV]  C=0.1, gamma=0.002, kernel=linear, score=(train=0.593, test=0.603), total=   1.6s\n",
      "[CV] C=0.1, gamma=0.002, kernel=linear ...............................\n",
      "[CV]  C=0.1, gamma=0.002, kernel=linear, score=(train=0.597, test=0.610), total=   1.5s\n",
      "[CV] C=0.1, gamma=0.002, kernel=linear ...............................\n"
     ]
    },
    {
     "name": "stdout",
     "output_type": "stream",
     "text": [
      "[CV]  C=0.1, gamma=0.002, kernel=linear, score=(train=0.602, test=0.564), total=   1.9s\n",
      "[CV] C=0.1, gamma=0.002, kernel=linear ...............................\n",
      "[CV]  C=0.1, gamma=0.002, kernel=linear, score=(train=0.598, test=0.581), total=   1.6s\n",
      "[CV] C=0.1, gamma=0.004, kernel=rbf ..................................\n",
      "[CV]  C=0.1, gamma=0.004, kernel=rbf, score=(train=0.333, test=0.333), total=   1.8s\n",
      "[CV] C=0.1, gamma=0.004, kernel=rbf ..................................\n",
      "[CV]  C=0.1, gamma=0.004, kernel=rbf, score=(train=0.333, test=0.333), total=   2.2s\n",
      "[CV] C=0.1, gamma=0.004, kernel=rbf ..................................\n",
      "[CV]  C=0.1, gamma=0.004, kernel=rbf, score=(train=0.580, test=0.601), total=   2.0s\n",
      "[CV] C=0.1, gamma=0.004, kernel=rbf ..................................\n",
      "[CV]  C=0.1, gamma=0.004, kernel=rbf, score=(train=0.595, test=0.545), total=   2.0s\n",
      "[CV] C=0.1, gamma=0.004, kernel=rbf ..................................\n",
      "[CV]  C=0.1, gamma=0.004, kernel=rbf, score=(train=0.587, test=0.570), total=   2.1s\n",
      "[CV] C=0.1, gamma=0.004, kernel=linear ...............................\n",
      "[CV]  C=0.1, gamma=0.004, kernel=linear, score=(train=0.589, test=0.616), total=   1.8s\n",
      "[CV] C=0.1, gamma=0.004, kernel=linear ...............................\n",
      "[CV]  C=0.1, gamma=0.004, kernel=linear, score=(train=0.593, test=0.603), total=   2.2s\n",
      "[CV] C=0.1, gamma=0.004, kernel=linear ...............................\n",
      "[CV]  C=0.1, gamma=0.004, kernel=linear, score=(train=0.597, test=0.610), total=   1.5s\n",
      "[CV] C=0.1, gamma=0.004, kernel=linear ...............................\n",
      "[CV]  C=0.1, gamma=0.004, kernel=linear, score=(train=0.602, test=0.564), total=   1.8s\n",
      "[CV] C=0.1, gamma=0.004, kernel=linear ...............................\n",
      "[CV]  C=0.1, gamma=0.004, kernel=linear, score=(train=0.598, test=0.581), total=   2.0s\n",
      "[CV] C=0.1, gamma=0.005, kernel=rbf ..................................\n",
      "[CV]  C=0.1, gamma=0.005, kernel=rbf, score=(train=0.333, test=0.333), total=   2.4s\n",
      "[CV] C=0.1, gamma=0.005, kernel=rbf ..................................\n",
      "[CV]  C=0.1, gamma=0.005, kernel=rbf, score=(train=0.333, test=0.333), total=   2.2s\n",
      "[CV] C=0.1, gamma=0.005, kernel=rbf ..................................\n",
      "[CV]  C=0.1, gamma=0.005, kernel=rbf, score=(train=0.580, test=0.601), total=   2.0s\n",
      "[CV] C=0.1, gamma=0.005, kernel=rbf ..................................\n",
      "[CV]  C=0.1, gamma=0.005, kernel=rbf, score=(train=0.595, test=0.545), total=   1.9s\n",
      "[CV] C=0.1, gamma=0.005, kernel=rbf ..................................\n",
      "[CV]  C=0.1, gamma=0.005, kernel=rbf, score=(train=0.587, test=0.570), total=   1.8s\n",
      "[CV] C=0.1, gamma=0.005, kernel=linear ...............................\n",
      "[CV]  C=0.1, gamma=0.005, kernel=linear, score=(train=0.589, test=0.616), total=   1.7s\n",
      "[CV] C=0.1, gamma=0.005, kernel=linear ...............................\n",
      "[CV]  C=0.1, gamma=0.005, kernel=linear, score=(train=0.593, test=0.603), total=   1.6s\n",
      "[CV] C=0.1, gamma=0.005, kernel=linear ...............................\n",
      "[CV]  C=0.1, gamma=0.005, kernel=linear, score=(train=0.597, test=0.610), total=   2.1s\n",
      "[CV] C=0.1, gamma=0.005, kernel=linear ...............................\n",
      "[CV]  C=0.1, gamma=0.005, kernel=linear, score=(train=0.602, test=0.564), total=   1.5s\n",
      "[CV] C=0.1, gamma=0.005, kernel=linear ...............................\n",
      "[CV]  C=0.1, gamma=0.005, kernel=linear, score=(train=0.598, test=0.581), total=   1.9s\n",
      "[CV] C=0.1, gamma=0.006, kernel=rbf ..................................\n",
      "[CV]  C=0.1, gamma=0.006, kernel=rbf, score=(train=0.333, test=0.333), total=   1.8s\n",
      "[CV] C=0.1, gamma=0.006, kernel=rbf ..................................\n",
      "[CV]  C=0.1, gamma=0.006, kernel=rbf, score=(train=0.333, test=0.333), total=   2.0s\n",
      "[CV] C=0.1, gamma=0.006, kernel=rbf ..................................\n",
      "[CV]  C=0.1, gamma=0.006, kernel=rbf, score=(train=0.580, test=0.601), total=   2.0s\n",
      "[CV] C=0.1, gamma=0.006, kernel=rbf ..................................\n",
      "[CV]  C=0.1, gamma=0.006, kernel=rbf, score=(train=0.595, test=0.545), total=   2.1s\n",
      "[CV] C=0.1, gamma=0.006, kernel=rbf ..................................\n",
      "[CV]  C=0.1, gamma=0.006, kernel=rbf, score=(train=0.587, test=0.570), total=   2.1s\n",
      "[CV] C=0.1, gamma=0.006, kernel=linear ...............................\n",
      "[CV]  C=0.1, gamma=0.006, kernel=linear, score=(train=0.589, test=0.616), total=   1.5s\n",
      "[CV] C=0.1, gamma=0.006, kernel=linear ...............................\n",
      "[CV]  C=0.1, gamma=0.006, kernel=linear, score=(train=0.593, test=0.603), total=   1.6s\n",
      "[CV] C=0.1, gamma=0.006, kernel=linear ...............................\n",
      "[CV]  C=0.1, gamma=0.006, kernel=linear, score=(train=0.597, test=0.610), total=   1.8s\n",
      "[CV] C=0.1, gamma=0.006, kernel=linear ...............................\n",
      "[CV]  C=0.1, gamma=0.006, kernel=linear, score=(train=0.602, test=0.564), total=   1.5s\n",
      "[CV] C=0.1, gamma=0.006, kernel=linear ...............................\n",
      "[CV]  C=0.1, gamma=0.006, kernel=linear, score=(train=0.598, test=0.581), total=   1.5s\n",
      "[CV] C=0.1, gamma=0.008, kernel=rbf ..................................\n",
      "[CV]  C=0.1, gamma=0.008, kernel=rbf, score=(train=0.333, test=0.333), total=   2.2s\n",
      "[CV] C=0.1, gamma=0.008, kernel=rbf ..................................\n",
      "[CV]  C=0.1, gamma=0.008, kernel=rbf, score=(train=0.333, test=0.333), total=   2.1s\n",
      "[CV] C=0.1, gamma=0.008, kernel=rbf ..................................\n",
      "[CV]  C=0.1, gamma=0.008, kernel=rbf, score=(train=0.580, test=0.601), total=   1.8s\n",
      "[CV] C=0.1, gamma=0.008, kernel=rbf ..................................\n",
      "[CV]  C=0.1, gamma=0.008, kernel=rbf, score=(train=0.595, test=0.545), total=   2.2s\n",
      "[CV] C=0.1, gamma=0.008, kernel=rbf ..................................\n",
      "[CV]  C=0.1, gamma=0.008, kernel=rbf, score=(train=0.587, test=0.570), total=   1.9s\n",
      "[CV] C=0.1, gamma=0.008, kernel=linear ...............................\n",
      "[CV]  C=0.1, gamma=0.008, kernel=linear, score=(train=0.589, test=0.616), total=   1.8s\n",
      "[CV] C=0.1, gamma=0.008, kernel=linear ...............................\n",
      "[CV]  C=0.1, gamma=0.008, kernel=linear, score=(train=0.593, test=0.603), total=   1.6s\n",
      "[CV] C=0.1, gamma=0.008, kernel=linear ...............................\n",
      "[CV]  C=0.1, gamma=0.008, kernel=linear, score=(train=0.597, test=0.610), total=   1.8s\n",
      "[CV] C=0.1, gamma=0.008, kernel=linear ...............................\n",
      "[CV]  C=0.1, gamma=0.008, kernel=linear, score=(train=0.602, test=0.564), total=   1.9s\n",
      "[CV] C=0.1, gamma=0.008, kernel=linear ...............................\n",
      "[CV]  C=0.1, gamma=0.008, kernel=linear, score=(train=0.598, test=0.581), total=   1.6s\n",
      "[CV] C=0.11, gamma=0.002, kernel=rbf .................................\n",
      "[CV]  C=0.11, gamma=0.002, kernel=rbf, score=(train=0.333, test=0.333), total=   1.8s\n",
      "[CV] C=0.11, gamma=0.002, kernel=rbf .................................\n",
      "[CV]  C=0.11, gamma=0.002, kernel=rbf, score=(train=0.333, test=0.333), total=   1.9s\n",
      "[CV] C=0.11, gamma=0.002, kernel=rbf .................................\n",
      "[CV]  C=0.11, gamma=0.002, kernel=rbf, score=(train=0.580, test=0.601), total=   1.9s\n",
      "[CV] C=0.11, gamma=0.002, kernel=rbf .................................\n",
      "[CV]  C=0.11, gamma=0.002, kernel=rbf, score=(train=0.595, test=0.545), total=   2.5s\n",
      "[CV] C=0.11, gamma=0.002, kernel=rbf .................................\n",
      "[CV]  C=0.11, gamma=0.002, kernel=rbf, score=(train=0.587, test=0.570), total=   2.2s\n",
      "[CV] C=0.11, gamma=0.002, kernel=linear ..............................\n",
      "[CV]  C=0.11, gamma=0.002, kernel=linear, score=(train=0.589, test=0.616), total=   1.5s\n",
      "[CV] C=0.11, gamma=0.002, kernel=linear ..............................\n",
      "[CV]  C=0.11, gamma=0.002, kernel=linear, score=(train=0.593, test=0.603), total=   1.6s\n",
      "[CV] C=0.11, gamma=0.002, kernel=linear ..............................\n",
      "[CV]  C=0.11, gamma=0.002, kernel=linear, score=(train=0.597, test=0.608), total=   1.8s\n",
      "[CV] C=0.11, gamma=0.002, kernel=linear ..............................\n",
      "[CV]  C=0.11, gamma=0.002, kernel=linear, score=(train=0.602, test=0.564), total=   1.9s\n",
      "[CV] C=0.11, gamma=0.002, kernel=linear ..............................\n",
      "[CV]  C=0.11, gamma=0.002, kernel=linear, score=(train=0.598, test=0.581), total=   1.9s\n",
      "[CV] C=0.11, gamma=0.004, kernel=rbf .................................\n"
     ]
    },
    {
     "name": "stdout",
     "output_type": "stream",
     "text": [
      "[CV]  C=0.11, gamma=0.004, kernel=rbf, score=(train=0.333, test=0.333), total=   2.2s\n",
      "[CV] C=0.11, gamma=0.004, kernel=rbf .................................\n",
      "[CV]  C=0.11, gamma=0.004, kernel=rbf, score=(train=0.333, test=0.333), total=   1.9s\n",
      "[CV] C=0.11, gamma=0.004, kernel=rbf .................................\n",
      "[CV]  C=0.11, gamma=0.004, kernel=rbf, score=(train=0.580, test=0.601), total=   1.7s\n",
      "[CV] C=0.11, gamma=0.004, kernel=rbf .................................\n",
      "[CV]  C=0.11, gamma=0.004, kernel=rbf, score=(train=0.595, test=0.545), total=   2.5s\n",
      "[CV] C=0.11, gamma=0.004, kernel=rbf .................................\n",
      "[CV]  C=0.11, gamma=0.004, kernel=rbf, score=(train=0.587, test=0.570), total=   1.8s\n",
      "[CV] C=0.11, gamma=0.004, kernel=linear ..............................\n",
      "[CV]  C=0.11, gamma=0.004, kernel=linear, score=(train=0.589, test=0.616), total=   1.5s\n",
      "[CV] C=0.11, gamma=0.004, kernel=linear ..............................\n",
      "[CV]  C=0.11, gamma=0.004, kernel=linear, score=(train=0.593, test=0.603), total=   2.0s\n",
      "[CV] C=0.11, gamma=0.004, kernel=linear ..............................\n",
      "[CV]  C=0.11, gamma=0.004, kernel=linear, score=(train=0.597, test=0.608), total=   1.5s\n",
      "[CV] C=0.11, gamma=0.004, kernel=linear ..............................\n",
      "[CV]  C=0.11, gamma=0.004, kernel=linear, score=(train=0.602, test=0.564), total=   1.6s\n",
      "[CV] C=0.11, gamma=0.004, kernel=linear ..............................\n",
      "[CV]  C=0.11, gamma=0.004, kernel=linear, score=(train=0.598, test=0.581), total=   1.6s\n",
      "[CV] C=0.11, gamma=0.005, kernel=rbf .................................\n",
      "[CV]  C=0.11, gamma=0.005, kernel=rbf, score=(train=0.333, test=0.333), total=   2.2s\n",
      "[CV] C=0.11, gamma=0.005, kernel=rbf .................................\n",
      "[CV]  C=0.11, gamma=0.005, kernel=rbf, score=(train=0.333, test=0.333), total=   1.8s\n",
      "[CV] C=0.11, gamma=0.005, kernel=rbf .................................\n",
      "[CV]  C=0.11, gamma=0.005, kernel=rbf, score=(train=0.580, test=0.601), total=   1.8s\n",
      "[CV] C=0.11, gamma=0.005, kernel=rbf .................................\n",
      "[CV]  C=0.11, gamma=0.005, kernel=rbf, score=(train=0.595, test=0.545), total=   1.9s\n",
      "[CV] C=0.11, gamma=0.005, kernel=rbf .................................\n",
      "[CV]  C=0.11, gamma=0.005, kernel=rbf, score=(train=0.587, test=0.570), total=   1.9s\n",
      "[CV] C=0.11, gamma=0.005, kernel=linear ..............................\n",
      "[CV]  C=0.11, gamma=0.005, kernel=linear, score=(train=0.589, test=0.616), total=   1.6s\n",
      "[CV] C=0.11, gamma=0.005, kernel=linear ..............................\n",
      "[CV]  C=0.11, gamma=0.005, kernel=linear, score=(train=0.593, test=0.603), total=   1.7s\n",
      "[CV] C=0.11, gamma=0.005, kernel=linear ..............................\n",
      "[CV]  C=0.11, gamma=0.005, kernel=linear, score=(train=0.597, test=0.608), total=   1.7s\n",
      "[CV] C=0.11, gamma=0.005, kernel=linear ..............................\n",
      "[CV]  C=0.11, gamma=0.005, kernel=linear, score=(train=0.602, test=0.564), total=   1.5s\n",
      "[CV] C=0.11, gamma=0.005, kernel=linear ..............................\n",
      "[CV]  C=0.11, gamma=0.005, kernel=linear, score=(train=0.598, test=0.581), total=   2.2s\n",
      "[CV] C=0.11, gamma=0.006, kernel=rbf .................................\n",
      "[CV]  C=0.11, gamma=0.006, kernel=rbf, score=(train=0.333, test=0.333), total=   1.9s\n",
      "[CV] C=0.11, gamma=0.006, kernel=rbf .................................\n",
      "[CV]  C=0.11, gamma=0.006, kernel=rbf, score=(train=0.333, test=0.333), total=   1.9s\n",
      "[CV] C=0.11, gamma=0.006, kernel=rbf .................................\n",
      "[CV]  C=0.11, gamma=0.006, kernel=rbf, score=(train=0.580, test=0.601), total=   2.4s\n",
      "[CV] C=0.11, gamma=0.006, kernel=rbf .................................\n",
      "[CV]  C=0.11, gamma=0.006, kernel=rbf, score=(train=0.595, test=0.545), total=   2.5s\n",
      "[CV] C=0.11, gamma=0.006, kernel=rbf .................................\n",
      "[CV]  C=0.11, gamma=0.006, kernel=rbf, score=(train=0.587, test=0.570), total=   2.3s\n",
      "[CV] C=0.11, gamma=0.006, kernel=linear ..............................\n",
      "[CV]  C=0.11, gamma=0.006, kernel=linear, score=(train=0.589, test=0.616), total=   1.8s\n",
      "[CV] C=0.11, gamma=0.006, kernel=linear ..............................\n",
      "[CV]  C=0.11, gamma=0.006, kernel=linear, score=(train=0.593, test=0.603), total=   1.9s\n",
      "[CV] C=0.11, gamma=0.006, kernel=linear ..............................\n",
      "[CV]  C=0.11, gamma=0.006, kernel=linear, score=(train=0.597, test=0.608), total=   1.5s\n",
      "[CV] C=0.11, gamma=0.006, kernel=linear ..............................\n",
      "[CV]  C=0.11, gamma=0.006, kernel=linear, score=(train=0.602, test=0.564), total=   1.7s\n",
      "[CV] C=0.11, gamma=0.006, kernel=linear ..............................\n",
      "[CV]  C=0.11, gamma=0.006, kernel=linear, score=(train=0.598, test=0.581), total=   1.6s\n",
      "[CV] C=0.11, gamma=0.008, kernel=rbf .................................\n",
      "[CV]  C=0.11, gamma=0.008, kernel=rbf, score=(train=0.333, test=0.333), total=   1.8s\n",
      "[CV] C=0.11, gamma=0.008, kernel=rbf .................................\n",
      "[CV]  C=0.11, gamma=0.008, kernel=rbf, score=(train=0.333, test=0.333), total=   2.0s\n",
      "[CV] C=0.11, gamma=0.008, kernel=rbf .................................\n",
      "[CV]  C=0.11, gamma=0.008, kernel=rbf, score=(train=0.580, test=0.601), total=   1.8s\n",
      "[CV] C=0.11, gamma=0.008, kernel=rbf .................................\n",
      "[CV]  C=0.11, gamma=0.008, kernel=rbf, score=(train=0.595, test=0.545), total=   2.0s\n",
      "[CV] C=0.11, gamma=0.008, kernel=rbf .................................\n",
      "[CV]  C=0.11, gamma=0.008, kernel=rbf, score=(train=0.587, test=0.570), total=   1.8s\n",
      "[CV] C=0.11, gamma=0.008, kernel=linear ..............................\n",
      "[CV]  C=0.11, gamma=0.008, kernel=linear, score=(train=0.589, test=0.616), total=   1.9s\n",
      "[CV] C=0.11, gamma=0.008, kernel=linear ..............................\n",
      "[CV]  C=0.11, gamma=0.008, kernel=linear, score=(train=0.593, test=0.603), total=   1.8s\n",
      "[CV] C=0.11, gamma=0.008, kernel=linear ..............................\n",
      "[CV]  C=0.11, gamma=0.008, kernel=linear, score=(train=0.597, test=0.608), total=   1.7s\n",
      "[CV] C=0.11, gamma=0.008, kernel=linear ..............................\n",
      "[CV]  C=0.11, gamma=0.008, kernel=linear, score=(train=0.602, test=0.564), total=   1.7s\n",
      "[CV] C=0.11, gamma=0.008, kernel=linear ..............................\n",
      "[CV]  C=0.11, gamma=0.008, kernel=linear, score=(train=0.598, test=0.581), total=   1.4s\n",
      "[CV] C=0.5, gamma=0.002, kernel=rbf ..................................\n",
      "[CV]  C=0.5, gamma=0.002, kernel=rbf, score=(train=0.333, test=0.333), total=   1.8s\n",
      "[CV] C=0.5, gamma=0.002, kernel=rbf ..................................\n",
      "[CV]  C=0.5, gamma=0.002, kernel=rbf, score=(train=0.333, test=0.333), total=   2.3s\n",
      "[CV] C=0.5, gamma=0.002, kernel=rbf ..................................\n",
      "[CV]  C=0.5, gamma=0.002, kernel=rbf, score=(train=0.580, test=0.601), total=   2.3s\n",
      "[CV] C=0.5, gamma=0.002, kernel=rbf ..................................\n",
      "[CV]  C=0.5, gamma=0.002, kernel=rbf, score=(train=0.595, test=0.545), total=   1.8s\n",
      "[CV] C=0.5, gamma=0.002, kernel=rbf ..................................\n",
      "[CV]  C=0.5, gamma=0.002, kernel=rbf, score=(train=0.587, test=0.570), total=   2.0s\n",
      "[CV] C=0.5, gamma=0.002, kernel=linear ...............................\n",
      "[CV]  C=0.5, gamma=0.002, kernel=linear, score=(train=0.602, test=0.612), total=   1.6s\n",
      "[CV] C=0.5, gamma=0.002, kernel=linear ...............................\n",
      "[CV]  C=0.5, gamma=0.002, kernel=linear, score=(train=0.603, test=0.603), total=   1.6s\n",
      "[CV] C=0.5, gamma=0.002, kernel=linear ...............................\n",
      "[CV]  C=0.5, gamma=0.002, kernel=linear, score=(train=0.615, test=0.600), total=   1.5s\n",
      "[CV] C=0.5, gamma=0.002, kernel=linear ...............................\n",
      "[CV]  C=0.5, gamma=0.002, kernel=linear, score=(train=0.612, test=0.569), total=   1.5s\n",
      "[CV] C=0.5, gamma=0.002, kernel=linear ...............................\n",
      "[CV]  C=0.5, gamma=0.002, kernel=linear, score=(train=0.610, test=0.591), total=   1.5s\n",
      "[CV] C=0.5, gamma=0.004, kernel=rbf ..................................\n",
      "[CV]  C=0.5, gamma=0.004, kernel=rbf, score=(train=0.581, test=0.597), total=   1.9s\n",
      "[CV] C=0.5, gamma=0.004, kernel=rbf ..................................\n",
      "[CV]  C=0.5, gamma=0.004, kernel=rbf, score=(train=0.578, test=0.601), total=   1.8s\n",
      "[CV] C=0.5, gamma=0.004, kernel=rbf ..................................\n"
     ]
    },
    {
     "name": "stdout",
     "output_type": "stream",
     "text": [
      "[CV]  C=0.5, gamma=0.004, kernel=rbf, score=(train=0.580, test=0.601), total=   2.1s\n",
      "[CV] C=0.5, gamma=0.004, kernel=rbf ..................................\n",
      "[CV]  C=0.5, gamma=0.004, kernel=rbf, score=(train=0.595, test=0.545), total=   2.3s\n",
      "[CV] C=0.5, gamma=0.004, kernel=rbf ..................................\n",
      "[CV]  C=0.5, gamma=0.004, kernel=rbf, score=(train=0.587, test=0.570), total=   1.9s\n",
      "[CV] C=0.5, gamma=0.004, kernel=linear ...............................\n",
      "[CV]  C=0.5, gamma=0.004, kernel=linear, score=(train=0.602, test=0.612), total=   1.9s\n",
      "[CV] C=0.5, gamma=0.004, kernel=linear ...............................\n",
      "[CV]  C=0.5, gamma=0.004, kernel=linear, score=(train=0.603, test=0.603), total=   1.7s\n",
      "[CV] C=0.5, gamma=0.004, kernel=linear ...............................\n",
      "[CV]  C=0.5, gamma=0.004, kernel=linear, score=(train=0.615, test=0.600), total=   1.9s\n",
      "[CV] C=0.5, gamma=0.004, kernel=linear ...............................\n",
      "[CV]  C=0.5, gamma=0.004, kernel=linear, score=(train=0.612, test=0.569), total=   1.9s\n",
      "[CV] C=0.5, gamma=0.004, kernel=linear ...............................\n",
      "[CV]  C=0.5, gamma=0.004, kernel=linear, score=(train=0.610, test=0.591), total=   1.6s\n",
      "[CV] C=0.5, gamma=0.005, kernel=rbf ..................................\n",
      "[CV]  C=0.5, gamma=0.005, kernel=rbf, score=(train=0.579, test=0.605), total=   1.9s\n",
      "[CV] C=0.5, gamma=0.005, kernel=rbf ..................................\n",
      "[CV]  C=0.5, gamma=0.005, kernel=rbf, score=(train=0.580, test=0.603), total=   2.1s\n",
      "[CV] C=0.5, gamma=0.005, kernel=rbf ..................................\n",
      "[CV]  C=0.5, gamma=0.005, kernel=rbf, score=(train=0.581, test=0.600), total=   2.0s\n",
      "[CV] C=0.5, gamma=0.005, kernel=rbf ..................................\n",
      "[CV]  C=0.5, gamma=0.005, kernel=rbf, score=(train=0.595, test=0.545), total=   1.8s\n",
      "[CV] C=0.5, gamma=0.005, kernel=rbf ..................................\n",
      "[CV]  C=0.5, gamma=0.005, kernel=rbf, score=(train=0.589, test=0.570), total=   2.0s\n",
      "[CV] C=0.5, gamma=0.005, kernel=linear ...............................\n",
      "[CV]  C=0.5, gamma=0.005, kernel=linear, score=(train=0.602, test=0.612), total=   2.1s\n",
      "[CV] C=0.5, gamma=0.005, kernel=linear ...............................\n",
      "[CV]  C=0.5, gamma=0.005, kernel=linear, score=(train=0.603, test=0.603), total=   1.5s\n",
      "[CV] C=0.5, gamma=0.005, kernel=linear ...............................\n",
      "[CV]  C=0.5, gamma=0.005, kernel=linear, score=(train=0.615, test=0.600), total=   1.6s\n",
      "[CV] C=0.5, gamma=0.005, kernel=linear ...............................\n",
      "[CV]  C=0.5, gamma=0.005, kernel=linear, score=(train=0.612, test=0.569), total=   2.0s\n",
      "[CV] C=0.5, gamma=0.005, kernel=linear ...............................\n",
      "[CV]  C=0.5, gamma=0.005, kernel=linear, score=(train=0.610, test=0.591), total=   1.8s\n",
      "[CV] C=0.5, gamma=0.006, kernel=rbf ..................................\n",
      "[CV]  C=0.5, gamma=0.006, kernel=rbf, score=(train=0.579, test=0.605), total=   2.0s\n",
      "[CV] C=0.5, gamma=0.006, kernel=rbf ..................................\n",
      "[CV]  C=0.5, gamma=0.006, kernel=rbf, score=(train=0.580, test=0.603), total=   2.0s\n",
      "[CV] C=0.5, gamma=0.006, kernel=rbf ..................................\n",
      "[CV]  C=0.5, gamma=0.006, kernel=rbf, score=(train=0.581, test=0.600), total=   2.1s\n",
      "[CV] C=0.5, gamma=0.006, kernel=rbf ..................................\n",
      "[CV]  C=0.5, gamma=0.006, kernel=rbf, score=(train=0.595, test=0.545), total=   2.0s\n",
      "[CV] C=0.5, gamma=0.006, kernel=rbf ..................................\n",
      "[CV]  C=0.5, gamma=0.006, kernel=rbf, score=(train=0.589, test=0.570), total=   2.3s\n",
      "[CV] C=0.5, gamma=0.006, kernel=linear ...............................\n",
      "[CV]  C=0.5, gamma=0.006, kernel=linear, score=(train=0.602, test=0.612), total=   1.8s\n",
      "[CV] C=0.5, gamma=0.006, kernel=linear ...............................\n",
      "[CV]  C=0.5, gamma=0.006, kernel=linear, score=(train=0.603, test=0.603), total=   1.9s\n",
      "[CV] C=0.5, gamma=0.006, kernel=linear ...............................\n",
      "[CV]  C=0.5, gamma=0.006, kernel=linear, score=(train=0.615, test=0.600), total=   1.5s\n",
      "[CV] C=0.5, gamma=0.006, kernel=linear ...............................\n",
      "[CV]  C=0.5, gamma=0.006, kernel=linear, score=(train=0.612, test=0.569), total=   1.5s\n",
      "[CV] C=0.5, gamma=0.006, kernel=linear ...............................\n",
      "[CV]  C=0.5, gamma=0.006, kernel=linear, score=(train=0.610, test=0.591), total=   1.4s\n",
      "[CV] C=0.5, gamma=0.008, kernel=rbf ..................................\n",
      "[CV]  C=0.5, gamma=0.008, kernel=rbf, score=(train=0.579, test=0.605), total=   2.2s\n",
      "[CV] C=0.5, gamma=0.008, kernel=rbf ..................................\n",
      "[CV]  C=0.5, gamma=0.008, kernel=rbf, score=(train=0.580, test=0.603), total=   2.4s\n",
      "[CV] C=0.5, gamma=0.008, kernel=rbf ..................................\n",
      "[CV]  C=0.5, gamma=0.008, kernel=rbf, score=(train=0.581, test=0.600), total=   1.7s\n",
      "[CV] C=0.5, gamma=0.008, kernel=rbf ..................................\n",
      "[CV]  C=0.5, gamma=0.008, kernel=rbf, score=(train=0.595, test=0.545), total=   1.8s\n",
      "[CV] C=0.5, gamma=0.008, kernel=rbf ..................................\n",
      "[CV]  C=0.5, gamma=0.008, kernel=rbf, score=(train=0.589, test=0.570), total=   2.0s\n",
      "[CV] C=0.5, gamma=0.008, kernel=linear ...............................\n",
      "[CV]  C=0.5, gamma=0.008, kernel=linear, score=(train=0.602, test=0.612), total=   1.6s\n",
      "[CV] C=0.5, gamma=0.008, kernel=linear ...............................\n",
      "[CV]  C=0.5, gamma=0.008, kernel=linear, score=(train=0.603, test=0.603), total=   1.7s\n",
      "[CV] C=0.5, gamma=0.008, kernel=linear ...............................\n",
      "[CV]  C=0.5, gamma=0.008, kernel=linear, score=(train=0.615, test=0.600), total=   1.9s\n",
      "[CV] C=0.5, gamma=0.008, kernel=linear ...............................\n",
      "[CV]  C=0.5, gamma=0.008, kernel=linear, score=(train=0.612, test=0.569), total=   1.6s\n",
      "[CV] C=0.5, gamma=0.008, kernel=linear ...............................\n",
      "[CV]  C=0.5, gamma=0.008, kernel=linear, score=(train=0.610, test=0.591), total=   1.5s\n"
     ]
    },
    {
     "name": "stderr",
     "output_type": "stream",
     "text": [
      "[Parallel(n_jobs=1)]: Done 250 out of 250 | elapsed: 12.2min finished\n"
     ]
    },
    {
     "data": {
      "text/plain": [
       "GridSearchCV(cv=5, error_score=nan,\n",
       "             estimator=SVC(C=1.0, break_ties=False, cache_size=200,\n",
       "                           class_weight=None, coef0=0.0,\n",
       "                           decision_function_shape='ovr', degree=3,\n",
       "                           gamma='scale', kernel='rbf', max_iter=-1,\n",
       "                           probability=False, random_state=3, shrinking=True,\n",
       "                           tol=0.001, verbose=False),\n",
       "             iid='deprecated', n_jobs=None,\n",
       "             param_grid=[{'C': [0.08, 0.09, 0.1, 0.11, 0.5],\n",
       "                          'gamma': [0.002, 0.004, 0.005, 0.006, 0.008],\n",
       "                          'kernel': ['rbf', 'linear']}],\n",
       "             pre_dispatch='2*n_jobs', refit=True, return_train_score=True,\n",
       "             scoring='f1_macro', verbose=5)"
      ]
     },
     "execution_count": 140,
     "metadata": {},
     "output_type": "execute_result"
    },
    {
     "name": "stdout",
     "output_type": "stream",
     "text": [
      "best score: 59.5%\n",
      "\n",
      "Best params:\n",
      " {'C': 0.5, 'gamma': 0.002, 'kernel': 'linear'}\n"
     ]
    }
   ],
   "source": [
    "# Set grid search params\n",
    "param_grid_svm = [\n",
    "  {'C': [0.9,1.0, 1.1], 'gamma': [0.002, 0.004, 0.005, 0.006, 0.008]\n",
    "   , 'kernel': ['rbf', 'linear']\n",
    "  }]\n",
    " \n",
    "# Construct grid search\n",
    "gs_svm = GridSearchCV(estimator=svm_model,\n",
    "            param_grid=param_grid_svm, scoring='f1_macro'\n",
    "            , cv=5, verbose=2, return_train_score = True)\n",
    "\n",
    "# Fit using grid search\n",
    "gs_svm.fit(X_train, y_train)\n",
    "\n",
    "# Best accuracy\n",
    "print('best score: {:.4}%'.format(gs_svm.best_score_ * 100));\n",
    "print('\\nBest params:\\n', gs_svm.best_params_)"
   ]
  },
  {
   "cell_type": "code",
   "execution_count": 147,
   "metadata": {
    "ExecuteTime": {
     "end_time": "2020-03-04T01:52:47.300530Z",
     "start_time": "2020-03-04T01:52:40.147477Z"
    }
   },
   "outputs": [
    {
     "data": {
      "text/plain": [
       "SVC(C=0.5, break_ties=False, cache_size=200, class_weight=None, coef0=0.0,\n",
       "    decision_function_shape='ovr', degree=3, gamma=0.002, kernel='linear',\n",
       "    max_iter=-1, probability=False, random_state=None, shrinking=True,\n",
       "    tol=0.001, verbose=False)"
      ]
     },
     "execution_count": 147,
     "metadata": {},
     "output_type": "execute_result"
    }
   ],
   "source": [
    "svm_gs_model = svm.SVC(C=0.5\n",
    "                       ,gamma=0.002\n",
    "                        ,kernel='linear'\n",
    "                             )\n",
    "svm_gs_model.fit(X_train, y_train)\n",
    "\n",
    "predictions = svm_gs_model.predict(X_test)"
   ]
  },
  {
   "cell_type": "markdown",
   "metadata": {},
   "source": [
    "#### final model"
   ]
  },
  {
   "cell_type": "markdown",
   "metadata": {},
   "source": [
    "___\n",
    "__best model__"
   ]
  },
  {
   "cell_type": "code",
   "execution_count": 148,
   "metadata": {
    "ExecuteTime": {
     "end_time": "2020-03-04T01:53:54.296532Z",
     "start_time": "2020-03-04T01:52:47.303472Z"
    }
   },
   "outputs": [
    {
     "name": "stdout",
     "output_type": "stream",
     "text": [
      "\n",
      "Cross Validation Scoring:\n",
      "\n",
      "train score: 60.27%\n",
      "test score: 63.81%\n",
      "cross val score: 91.05%\n",
      "\n",
      "Classification Report:\n",
      "                precision    recall  f1-score   support\n",
      "\n",
      "bite_dangerous       0.14      0.58      0.22       540\n",
      " not_bite/dang       0.94      0.64      0.76      5495\n",
      "\n",
      "      accuracy                           0.64      6035\n",
      "     macro avg       0.54      0.61      0.49      6035\n",
      "  weighted avg       0.87      0.64      0.72      6035\n",
      "\n",
      "\n",
      "Confusion matrix:\n"
     ]
    },
    {
     "data": {
      "text/html": [
       "<div>\n",
       "<style scoped>\n",
       "    .dataframe tbody tr th:only-of-type {\n",
       "        vertical-align: middle;\n",
       "    }\n",
       "\n",
       "    .dataframe tbody tr th {\n",
       "        vertical-align: top;\n",
       "    }\n",
       "\n",
       "    .dataframe thead th {\n",
       "        text-align: right;\n",
       "    }\n",
       "</style>\n",
       "<table border=\"1\" class=\"dataframe\">\n",
       "  <thead>\n",
       "    <tr style=\"text-align: right;\">\n",
       "      <th></th>\n",
       "      <th>pred bite/dangerous</th>\n",
       "      <th>pred not_bite/not_dangerous</th>\n",
       "    </tr>\n",
       "  </thead>\n",
       "  <tbody>\n",
       "    <tr>\n",
       "      <th>real bite/dangerous</th>\n",
       "      <td>313</td>\n",
       "      <td>227</td>\n",
       "    </tr>\n",
       "    <tr>\n",
       "      <th>real not_bite/not_dangerous</th>\n",
       "      <td>1957</td>\n",
       "      <td>3538</td>\n",
       "    </tr>\n",
       "  </tbody>\n",
       "</table>\n",
       "</div>"
      ],
      "text/plain": [
       "                             pred bite/dangerous  pred not_bite/not_dangerous\n",
       "real bite/dangerous                          313                          227\n",
       "real not_bite/not_dangerous                 1957                         3538"
      ]
     },
     "metadata": {},
     "output_type": "display_data"
    }
   ],
   "source": [
    "model_report(svm_gs_model)"
   ]
  },
  {
   "cell_type": "code",
   "execution_count": null,
   "metadata": {},
   "outputs": [],
   "source": []
  },
  {
   "cell_type": "code",
   "execution_count": null,
   "metadata": {},
   "outputs": [],
   "source": []
  }
 ],
 "metadata": {
  "hide_input": false,
  "kernelspec": {
   "display_name": "Python 3",
   "language": "python",
   "name": "python3"
  },
  "language_info": {
   "codemirror_mode": {
    "name": "ipython",
    "version": 3
   },
   "file_extension": ".py",
   "mimetype": "text/x-python",
   "name": "python",
   "nbconvert_exporter": "python",
   "pygments_lexer": "ipython3",
   "version": "3.7.3"
  },
  "toc": {
   "base_numbering": 1,
   "nav_menu": {},
   "number_sections": true,
   "sideBar": true,
   "skip_h1_title": false,
   "title_cell": "Table of Contents",
   "title_sidebar": "Contents",
   "toc_cell": false,
   "toc_position": {
    "height": "calc(100% - 180px)",
    "left": "10px",
    "top": "150px",
    "width": "165px"
   },
   "toc_section_display": true,
   "toc_window_display": true
  }
 },
 "nbformat": 4,
 "nbformat_minor": 2
}
