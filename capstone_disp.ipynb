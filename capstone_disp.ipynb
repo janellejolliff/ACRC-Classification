{
 "cells": [
  {
   "cell_type": "markdown",
   "metadata": {},
   "source": [
    "## import libraries, packages, data"
   ]
  },
  {
   "cell_type": "markdown",
   "metadata": {},
   "source": [
    "### libraries, packages"
   ]
  },
  {
   "cell_type": "code",
   "execution_count": 113,
   "metadata": {
    "ExecuteTime": {
     "end_time": "2020-03-03T20:08:15.941423Z",
     "start_time": "2020-03-03T20:08:15.927976Z"
    },
    "code_folding": []
   },
   "outputs": [],
   "source": [
    "#importing libraries & packages\n",
    "import pandas as pd\n",
    "import numpy as np\n",
    "import warnings\n",
    "warnings.filterwarnings('ignore')\n",
    "import matplotlib.pyplot as plt\n",
    "#display multiple outputs from cell \n",
    "from IPython.core.interactiveshell import InteractiveShell\n",
    "InteractiveShell.ast_node_interactivity = \"all\"\n",
    "\n",
    "# machine learning\n",
    "import sklearn\n",
    "from sklearn.model_selection import train_test_split, GridSearchCV, cross_val_score, RandomizedSearchCV\n",
    "from sklearn.ensemble import RandomForestClassifier, AdaBoostClassifier, ExtraTreesClassifier, GradientBoostingClassifier\n",
    "from sklearn.pipeline import Pipeline, make_pipeline\n",
    "from sklearn.metrics import confusion_matrix, precision_score, recall_score, accuracy_score, f1_score, classification_report\n",
    "from sklearn.linear_model import LogisticRegression\n",
    "from sklearn.utils import resample\n",
    "from imblearn.over_sampling import ADASYN, SMOTE\n",
    "from sklearn.feature_selection import SelectKBest, chi2\n",
    "from sklearn import svm\n",
    "from imblearn.over_sampling import SMOTE\n",
    "from imblearn.under_sampling import RandomUnderSampler\n",
    "from imblearn.pipeline import Pipeline\n",
    "from xgboost import XGBClassifier\n",
    "from sklearn.tree import DecisionTreeClassifier\n",
    "import matplotlib.pyplot as plt\n",
    "from sklearn.metrics import plot_confusion_matrix"
   ]
  },
  {
   "cell_type": "markdown",
   "metadata": {},
   "source": [
    "### import clean data from part 1"
   ]
  },
  {
   "cell_type": "code",
   "execution_count": 135,
   "metadata": {
    "ExecuteTime": {
     "end_time": "2020-03-03T23:30:15.407062Z",
     "start_time": "2020-03-03T23:30:12.602782Z"
    }
   },
   "outputs": [],
   "source": [
    "# import Animal Control Incidents df\n",
    "df = pd.read_csv('a_control.csv')"
   ]
  },
  {
   "cell_type": "code",
   "execution_count": 136,
   "metadata": {
    "ExecuteTime": {
     "end_time": "2020-03-03T23:30:15.424224Z",
     "start_time": "2020-03-03T23:30:15.411760Z"
    }
   },
   "outputs": [
    {
     "data": {
      "text/plain": [
       "Index(['incident_date', 'incident_time', 'dispatched_time', 'call_taker',\n",
       "       'dispatcher', 'dispatched_other', 'dispatched_situation',\n",
       "       'arrival_time', 'available_time', 'complainant_street', 'officer',\n",
       "       'equipment_number', 'impound_number', 'impound_date', 'impound_time',\n",
       "       'location', 'municipality', 'zip_code', 'species', 'breed', 'sex',\n",
       "       'size', 'color', 'condition', 'temperment', 'disposition',\n",
       "       'disposition_date', 'disposition_officer', 'service_type', 'inc_dt',\n",
       "       'imp_dt', 'weekday', 'month'],\n",
       "      dtype='object')"
      ]
     },
     "execution_count": 136,
     "metadata": {},
     "output_type": "execute_result"
    }
   ],
   "source": [
    "df.columns"
   ]
  },
  {
   "cell_type": "code",
   "execution_count": 137,
   "metadata": {
    "ExecuteTime": {
     "end_time": "2020-03-03T23:30:15.697599Z",
     "start_time": "2020-03-03T23:30:15.427807Z"
    }
   },
   "outputs": [],
   "source": [
    "for col in ('month', 'weekday'):\n",
    "    df[col] = df[col].astype(str)"
   ]
  },
  {
   "cell_type": "code",
   "execution_count": 138,
   "metadata": {
    "ExecuteTime": {
     "end_time": "2020-03-03T23:30:16.249555Z",
     "start_time": "2020-03-03T23:30:15.701966Z"
    }
   },
   "outputs": [],
   "source": [
    "df = df[['breed', 'size', 'color', 'month', 'species','municipality'\n",
    "         , 'service_type', 'disposition']]"
   ]
  },
  {
   "cell_type": "code",
   "execution_count": 139,
   "metadata": {
    "ExecuteTime": {
     "end_time": "2020-03-03T23:30:17.927739Z",
     "start_time": "2020-03-03T23:30:16.253514Z"
    }
   },
   "outputs": [],
   "source": [
    "df.dropna(axis=0, inplace=True)"
   ]
  },
  {
   "cell_type": "code",
   "execution_count": 140,
   "metadata": {
    "ExecuteTime": {
     "end_time": "2020-03-03T23:30:17.951799Z",
     "start_time": "2020-03-03T23:30:17.936519Z"
    }
   },
   "outputs": [
    {
     "data": {
      "text/plain": [
       "39738"
      ]
     },
     "execution_count": 140,
     "metadata": {},
     "output_type": "execute_result"
    }
   ],
   "source": [
    "len(df)"
   ]
  },
  {
   "cell_type": "code",
   "execution_count": 141,
   "metadata": {
    "ExecuteTime": {
     "end_time": "2020-03-03T23:30:18.423804Z",
     "start_time": "2020-03-03T23:30:17.955858Z"
    },
    "code_folding": []
   },
   "outputs": [],
   "source": [
    "# # assign target\n",
    "y = df[\"disposition\"]\n",
    "\n",
    "#remove target from features\n",
    "df.drop(columns= ['disposition'], axis=1, inplace=True)\n",
    "\n",
    "# dummy categorical features\n",
    "#col_list = list(df.select_dtypes(include=['object']).columns)\n",
    "col_list = list(df.columns)\n",
    "\n",
    "# create dummies for categorical features, assign to X\n",
    "df = pd.DataFrame(pd.get_dummies(data=df, drop_first=True\n",
    "                   , prefix=col_list))\n",
    "X = df\n"
   ]
  },
  {
   "cell_type": "code",
   "execution_count": 142,
   "metadata": {
    "ExecuteTime": {
     "end_time": "2020-03-03T23:30:18.790330Z",
     "start_time": "2020-03-03T23:30:18.428745Z"
    }
   },
   "outputs": [],
   "source": [
    "\n",
    "# X_train_d and y_train_d = using original standard test train spit dad\n",
    "# that way, I can try out different resampling methods\n",
    "X_train, X_test, y_train, y_test = train_test_split(X, y, test_size=0.2, shuffle=True, stratify=y, random_state=3)"
   ]
  },
  {
   "cell_type": "markdown",
   "metadata": {},
   "source": [
    "### functions"
   ]
  },
  {
   "cell_type": "code",
   "execution_count": 143,
   "metadata": {
    "ExecuteTime": {
     "end_time": "2020-03-03T23:30:18.837811Z",
     "start_time": "2020-03-03T23:30:18.823507Z"
    },
    "code_folding": []
   },
   "outputs": [],
   "source": [
    "# print model report\n",
    "def model_report(model, cm = True): \n",
    "    \n",
    "    print('\\nCross Validation Scoring:\\n')\n",
    "    \n",
    "    train_score = model.score(X_train, y_train)\n",
    "    print(\"train score: {:.4}%\".format(train_score * 100))\n",
    "\n",
    "    test_score = model.score(X_test, y_test)\n",
    "    print(\"test score: {:.4}%\".format(test_score * 100))\n",
    "    \n",
    "    if cm :\n",
    "\n",
    "        cv_score = np.mean(cross_val_score(model, X, y, cv=3))\n",
    "        print(\"cross val score: {:.4}%\".format(cv_score * 100))\n",
    "\n",
    "        print(\"\\nClassification Report:\")\n",
    "        print(classification_report(actuals, predictions))\n",
    "\n",
    "#         col_list = []\n",
    "#         ind_list = []                     \n",
    "#         for x in y_test.unique():\n",
    "#             col_list.append('pred_'+ x)\n",
    "#             ind_list.append('real_'+x)\n",
    "\n",
    "\n",
    "        print('\\nConfusion matrix:'.format(accuracy_score))\n",
    "        display(pd.DataFrame(confusion_matrix(y_test, predictions)\n",
    "                             #, columns=col_list, index=ind_list))\n",
    "                ,columns=['pred doa','pred euth','pred spec_case', 'pred to owner','pred to wild', 'pred trans']\n",
    "              , index=['real doa', 'real euth','real spec_case', 'real to owner', 'real to wild', 'real trans']))\n",
    "\n",
    "    else:\n",
    "        pass"
   ]
  },
  {
   "cell_type": "code",
   "execution_count": 144,
   "metadata": {
    "ExecuteTime": {
     "end_time": "2020-03-03T23:30:18.849758Z",
     "start_time": "2020-03-03T23:30:18.841585Z"
    }
   },
   "outputs": [],
   "source": [
    "def plot_matrix(classifier):\n",
    "\n",
    "    disp = plot_confusion_matrix(classifier, X_test, y_test,\n",
    "    #                                  display_labels=class_names,\n",
    "                                     cmap=plt.cm.Blues,\n",
    "                                     normalize='true'\n",
    "                                )\n",
    "\n",
    "\n",
    "# def plot_matrix(model):\n",
    "\n",
    "#     class_names = ['dead on arrival', 'euthanized', 'special case/other'\n",
    "#                    , 'returned to owner', 'returned to wild', 'tranferred to CAA']\n",
    "\n",
    "#     fig, ax = plot_confusion_matrix(model\n",
    "# #                                     colorbar=True,\n",
    "# #                                     show_absolute=False,\n",
    "# #                                     show_normed=True,\n",
    "# #                                     class_names=class_names\n",
    "#                                    )\n",
    "#     plt.show()"
   ]
  },
  {
   "cell_type": "markdown",
   "metadata": {},
   "source": [
    "## feature importance according to chi2 and xtra trees"
   ]
  },
  {
   "cell_type": "code",
   "execution_count": null,
   "metadata": {},
   "outputs": [],
   "source": []
  },
  {
   "cell_type": "markdown",
   "metadata": {},
   "source": [
    "## prep data"
   ]
  },
  {
   "cell_type": "markdown",
   "metadata": {},
   "source": [
    "### resampling"
   ]
  },
  {
   "cell_type": "markdown",
   "metadata": {},
   "source": [
    "Due to the imbalance of class data, it could be beneficial to resample to compensate for the missing data. Using smote to oversample, then random undersampling is a common practice in these circumstances\n",
    "\n"
   ]
  },
  {
   "cell_type": "code",
   "execution_count": 147,
   "metadata": {
    "ExecuteTime": {
     "end_time": "2020-03-03T23:33:04.635986Z",
     "start_time": "2020-03-03T23:31:59.449309Z"
    }
   },
   "outputs": [],
   "source": [
    "over = SMOTE(\n",
    "   sampling_strategy='not majority'\n",
    "    , random_state=3)\n",
    "under = RandomUnderSampler(\n",
    "    sampling_strategy='not minority',\n",
    "    random_state=3)\n",
    "steps = [\n",
    "    ('o', over),\n",
    "     ('u', under)\n",
    "]\n",
    "pipeline = Pipeline(steps=steps)\n",
    "# # transform the dataset\n",
    "X_train, y_train = pipeline.fit_resample(X_train, y_train)"
   ]
  },
  {
   "cell_type": "code",
   "execution_count": 148,
   "metadata": {
    "ExecuteTime": {
     "end_time": "2020-03-03T23:33:04.832509Z",
     "start_time": "2020-03-03T23:33:04.640099Z"
    }
   },
   "outputs": [
    {
     "name": "stdout",
     "output_type": "stream",
     "text": [
      "special_caseother    23385\n",
      "euthanized           23385\n",
      "return_to_owner      23385\n",
      "dead_on_arrival      23385\n",
      "trans_caa            23385\n",
      "return_to_wild       23385\n",
      "Name: disposition, dtype: int64\n"
     ]
    }
   ],
   "source": [
    "print (y_train.value_counts())"
   ]
  },
  {
   "cell_type": "markdown",
   "metadata": {},
   "source": [
    "## __modeling__"
   ]
  },
  {
   "cell_type": "markdown",
   "metadata": {},
   "source": [
    "The most challenging obstacle I anticipate is overfitting, and poor recall for the minority groups. "
   ]
  },
  {
   "cell_type": "markdown",
   "metadata": {},
   "source": [
    "__basic base model__"
   ]
  },
  {
   "cell_type": "code",
   "execution_count": 149,
   "metadata": {
    "ExecuteTime": {
     "end_time": "2020-03-03T23:34:50.886212Z",
     "start_time": "2020-03-03T23:33:40.748362Z"
    },
    "scrolled": false
   },
   "outputs": [
    {
     "data": {
      "text/plain": [
       "LogisticRegression(C=1.0, class_weight=None, dual=False, fit_intercept=True,\n",
       "                   intercept_scaling=1, l1_ratio=None, max_iter=100,\n",
       "                   multi_class='auto', n_jobs=None, penalty='l2',\n",
       "                   random_state=3, solver='lbfgs', tol=0.0001, verbose=0,\n",
       "                   warm_start=False)"
      ]
     },
     "execution_count": 149,
     "metadata": {},
     "output_type": "execute_result"
    },
    {
     "name": "stdout",
     "output_type": "stream",
     "text": [
      "\n",
      "Cross Validation Scoring:\n",
      "\n",
      "train score: 64.88%\n",
      "test score: 91.26%\n",
      "cross val score: 92.51%\n",
      "\n",
      "Classification Report:\n",
      "                   precision    recall  f1-score   support\n",
      "\n",
      "  dead_on_arrival       0.00      0.00      0.00        13\n",
      "       euthanized       0.00      0.00      0.00        27\n",
      "  return_to_owner       0.00      0.00      0.00       305\n",
      "   return_to_wild       0.85      0.99      0.92      1608\n",
      "special_caseother       0.00      0.00      0.00       149\n",
      "        trans_caa       0.93      0.97      0.95      5846\n",
      "\n",
      "         accuracy                           0.91      7948\n",
      "        macro avg       0.30      0.33      0.31      7948\n",
      "     weighted avg       0.86      0.91      0.88      7948\n",
      "\n",
      "\n",
      "Confusion matrix:\n"
     ]
    },
    {
     "data": {
      "text/html": [
       "<div>\n",
       "<style scoped>\n",
       "    .dataframe tbody tr th:only-of-type {\n",
       "        vertical-align: middle;\n",
       "    }\n",
       "\n",
       "    .dataframe tbody tr th {\n",
       "        vertical-align: top;\n",
       "    }\n",
       "\n",
       "    .dataframe thead th {\n",
       "        text-align: right;\n",
       "    }\n",
       "</style>\n",
       "<table border=\"1\" class=\"dataframe\">\n",
       "  <thead>\n",
       "    <tr style=\"text-align: right;\">\n",
       "      <th></th>\n",
       "      <th>pred doa</th>\n",
       "      <th>pred euth</th>\n",
       "      <th>pred spec_case</th>\n",
       "      <th>pred to owner</th>\n",
       "      <th>pred to wild</th>\n",
       "      <th>pred trans</th>\n",
       "    </tr>\n",
       "  </thead>\n",
       "  <tbody>\n",
       "    <tr>\n",
       "      <th>real doa</th>\n",
       "      <td>0</td>\n",
       "      <td>0</td>\n",
       "      <td>0</td>\n",
       "      <td>4</td>\n",
       "      <td>0</td>\n",
       "      <td>9</td>\n",
       "    </tr>\n",
       "    <tr>\n",
       "      <th>real euth</th>\n",
       "      <td>0</td>\n",
       "      <td>0</td>\n",
       "      <td>0</td>\n",
       "      <td>9</td>\n",
       "      <td>0</td>\n",
       "      <td>18</td>\n",
       "    </tr>\n",
       "    <tr>\n",
       "      <th>real spec_case</th>\n",
       "      <td>0</td>\n",
       "      <td>0</td>\n",
       "      <td>0</td>\n",
       "      <td>13</td>\n",
       "      <td>0</td>\n",
       "      <td>292</td>\n",
       "    </tr>\n",
       "    <tr>\n",
       "      <th>real to owner</th>\n",
       "      <td>0</td>\n",
       "      <td>0</td>\n",
       "      <td>0</td>\n",
       "      <td>1598</td>\n",
       "      <td>0</td>\n",
       "      <td>10</td>\n",
       "    </tr>\n",
       "    <tr>\n",
       "      <th>real to wild</th>\n",
       "      <td>0</td>\n",
       "      <td>0</td>\n",
       "      <td>0</td>\n",
       "      <td>57</td>\n",
       "      <td>0</td>\n",
       "      <td>92</td>\n",
       "    </tr>\n",
       "    <tr>\n",
       "      <th>real trans</th>\n",
       "      <td>0</td>\n",
       "      <td>0</td>\n",
       "      <td>0</td>\n",
       "      <td>191</td>\n",
       "      <td>0</td>\n",
       "      <td>5655</td>\n",
       "    </tr>\n",
       "  </tbody>\n",
       "</table>\n",
       "</div>"
      ],
      "text/plain": [
       "                pred doa  pred euth  pred spec_case  pred to owner  \\\n",
       "real doa               0          0               0              4   \n",
       "real euth              0          0               0              9   \n",
       "real spec_case         0          0               0             13   \n",
       "real to owner          0          0               0           1598   \n",
       "real to wild           0          0               0             57   \n",
       "real trans             0          0               0            191   \n",
       "\n",
       "                pred to wild  pred trans  \n",
       "real doa                   0           9  \n",
       "real euth                  0          18  \n",
       "real spec_case             0         292  \n",
       "real to owner              0          10  \n",
       "real to wild               0          92  \n",
       "real trans                 0        5655  "
      ]
     },
     "metadata": {},
     "output_type": "display_data"
    }
   ],
   "source": [
    "lr = LogisticRegression(random_state=3)\n",
    "lr.fit(X_train, y_train)\n",
    " \n",
    "# Predict on training set\n",
    "predictions = lr.predict(X_test)\n",
    "actuals = y_test\n",
    "\n",
    "model_report(lr)"
   ]
  },
  {
   "cell_type": "markdown",
   "metadata": {},
   "source": [
    "### decision tree"
   ]
  },
  {
   "cell_type": "markdown",
   "metadata": {},
   "source": [
    "default model"
   ]
  },
  {
   "cell_type": "code",
   "execution_count": 150,
   "metadata": {
    "ExecuteTime": {
     "end_time": "2020-03-03T23:35:22.310058Z",
     "start_time": "2020-03-03T23:34:50.890111Z"
    }
   },
   "outputs": [
    {
     "data": {
      "text/plain": [
       "DecisionTreeClassifier(ccp_alpha=0.0, class_weight=None, criterion='gini',\n",
       "                       max_depth=None, max_features=None, max_leaf_nodes=None,\n",
       "                       min_impurity_decrease=0.0, min_impurity_split=None,\n",
       "                       min_samples_leaf=1, min_samples_split=2,\n",
       "                       min_weight_fraction_leaf=0.0, presort='deprecated',\n",
       "                       random_state=3, splitter='best')"
      ]
     },
     "execution_count": 150,
     "metadata": {},
     "output_type": "execute_result"
    },
    {
     "name": "stdout",
     "output_type": "stream",
     "text": [
      "\n",
      "Cross Validation Scoring:\n",
      "\n",
      "train score: 98.31%\n",
      "test score: 86.07%\n",
      "cross val score: 88.37%\n",
      "\n",
      "Classification Report:\n",
      "                   precision    recall  f1-score   support\n",
      "\n",
      "  dead_on_arrival       0.00      0.00      0.00        13\n",
      "       euthanized       0.07      0.11      0.08        27\n",
      "  return_to_owner       0.12      0.16      0.13       305\n",
      "   return_to_wild       0.93      0.96      0.95      1608\n",
      "special_caseother       0.19      0.26      0.22       149\n",
      "        trans_caa       0.93      0.89      0.91      5846\n",
      "\n",
      "         accuracy                           0.86      7948\n",
      "        macro avg       0.37      0.40      0.38      7948\n",
      "     weighted avg       0.88      0.86      0.87      7948\n",
      "\n",
      "\n",
      "Confusion matrix:\n"
     ]
    },
    {
     "data": {
      "text/html": [
       "<div>\n",
       "<style scoped>\n",
       "    .dataframe tbody tr th:only-of-type {\n",
       "        vertical-align: middle;\n",
       "    }\n",
       "\n",
       "    .dataframe tbody tr th {\n",
       "        vertical-align: top;\n",
       "    }\n",
       "\n",
       "    .dataframe thead th {\n",
       "        text-align: right;\n",
       "    }\n",
       "</style>\n",
       "<table border=\"1\" class=\"dataframe\">\n",
       "  <thead>\n",
       "    <tr style=\"text-align: right;\">\n",
       "      <th></th>\n",
       "      <th>pred doa</th>\n",
       "      <th>pred euth</th>\n",
       "      <th>pred spec_case</th>\n",
       "      <th>pred to owner</th>\n",
       "      <th>pred to wild</th>\n",
       "      <th>pred trans</th>\n",
       "    </tr>\n",
       "  </thead>\n",
       "  <tbody>\n",
       "    <tr>\n",
       "      <th>real doa</th>\n",
       "      <td>0</td>\n",
       "      <td>1</td>\n",
       "      <td>1</td>\n",
       "      <td>3</td>\n",
       "      <td>2</td>\n",
       "      <td>6</td>\n",
       "    </tr>\n",
       "    <tr>\n",
       "      <th>real euth</th>\n",
       "      <td>2</td>\n",
       "      <td>3</td>\n",
       "      <td>1</td>\n",
       "      <td>3</td>\n",
       "      <td>2</td>\n",
       "      <td>16</td>\n",
       "    </tr>\n",
       "    <tr>\n",
       "      <th>real spec_case</th>\n",
       "      <td>0</td>\n",
       "      <td>1</td>\n",
       "      <td>48</td>\n",
       "      <td>9</td>\n",
       "      <td>1</td>\n",
       "      <td>246</td>\n",
       "    </tr>\n",
       "    <tr>\n",
       "      <th>real to owner</th>\n",
       "      <td>4</td>\n",
       "      <td>3</td>\n",
       "      <td>9</td>\n",
       "      <td>1545</td>\n",
       "      <td>10</td>\n",
       "      <td>37</td>\n",
       "    </tr>\n",
       "    <tr>\n",
       "      <th>real to wild</th>\n",
       "      <td>0</td>\n",
       "      <td>1</td>\n",
       "      <td>2</td>\n",
       "      <td>9</td>\n",
       "      <td>39</td>\n",
       "      <td>98</td>\n",
       "    </tr>\n",
       "    <tr>\n",
       "      <th>real trans</th>\n",
       "      <td>13</td>\n",
       "      <td>36</td>\n",
       "      <td>346</td>\n",
       "      <td>89</td>\n",
       "      <td>156</td>\n",
       "      <td>5206</td>\n",
       "    </tr>\n",
       "  </tbody>\n",
       "</table>\n",
       "</div>"
      ],
      "text/plain": [
       "                pred doa  pred euth  pred spec_case  pred to owner  \\\n",
       "real doa               0          1               1              3   \n",
       "real euth              2          3               1              3   \n",
       "real spec_case         0          1              48              9   \n",
       "real to owner          4          3               9           1545   \n",
       "real to wild           0          1               2              9   \n",
       "real trans            13         36             346             89   \n",
       "\n",
       "                pred to wild  pred trans  \n",
       "real doa                   2           6  \n",
       "real euth                  2          16  \n",
       "real spec_case             1         246  \n",
       "real to owner             10          37  \n",
       "real to wild              39          98  \n",
       "real trans               156        5206  "
      ]
     },
     "metadata": {},
     "output_type": "display_data"
    }
   ],
   "source": [
    "# initialize and fit default decision tree\n",
    "dt_model = DecisionTreeClassifier(random_state=3)\n",
    "dt_model.fit(X_train, y_train)\n",
    "predictions = dt_model.predict(X_test)\n",
    "#actuals = y_test\n",
    "\n",
    "model_report(dt_model)"
   ]
  },
  {
   "cell_type": "markdown",
   "metadata": {},
   "source": [
    "#### grid searching"
   ]
  },
  {
   "cell_type": "code",
   "execution_count": 151,
   "metadata": {
    "ExecuteTime": {
     "end_time": "2020-03-03T23:45:49.299141Z",
     "start_time": "2020-03-03T23:35:22.314599Z"
    }
   },
   "outputs": [
    {
     "name": "stdout",
     "output_type": "stream",
     "text": [
      "Fitting 3 folds for each of 150 candidates, totalling 450 fits\n"
     ]
    },
    {
     "name": "stderr",
     "output_type": "stream",
     "text": [
      "[Parallel(n_jobs=-1)]: Using backend LokyBackend with 4 concurrent workers.\n",
      "[Parallel(n_jobs=-1)]: Done  24 tasks      | elapsed:   46.3s\n",
      "[Parallel(n_jobs=-1)]: Done 120 tasks      | elapsed:  2.9min\n",
      "[Parallel(n_jobs=-1)]: Done 280 tasks      | elapsed:  6.6min\n",
      "[Parallel(n_jobs=-1)]: Done 450 out of 450 | elapsed: 10.3min finished\n"
     ]
    },
    {
     "name": "stdout",
     "output_type": "stream",
     "text": [
      "best score: 94.29%\n",
      "{'min_samples_split': 3, 'min_samples_leaf': 2, 'max_leaf_nodes': None, 'max_features': 50, 'max_depth': 100, 'criterion': 'entropy'}\n"
     ]
    }
   ],
   "source": [
    "# set random search params\n",
    "criterion=['gini','entropy']\n",
    "max_leaf_nodes = [None,2,3,4,5,6,10,30]\n",
    "max_features = ['auto', 'sqrt',20,50]\n",
    "max_depth = [60,70,80,90,100,200]\n",
    "min_samples_split = [2,3,5,6,7,8]\n",
    "min_samples_leaf = [2]\n",
    "bootstrap = [True, False]\n",
    "\n",
    "random_grid = {'criterion':criterion,\n",
    "               'max_leaf_nodes': max_leaf_nodes,\n",
    "               'max_features': max_features,\n",
    "               'max_depth': max_depth,\n",
    "               'min_samples_split': min_samples_split,\n",
    "               'min_samples_leaf': min_samples_leaf\n",
    "               }\n",
    "\n",
    "# random grid search\n",
    "dt_random = RandomizedSearchCV(estimator = dt_model\n",
    "                               , param_distributions = random_grid\n",
    "                               , n_iter = 150, cv = 3, verbose=3, error_score=0\n",
    "                               , scoring=('recall_macro')\n",
    "                               , random_state=3, n_jobs = -1)\n",
    "# fit random search model\n",
    "dt_random.fit(X_train, y_train);\n",
    "\n",
    "print('best score: {:.4}%'.format(dt_random.best_score_ * 100));\n",
    "print(dt_random.best_params_);"
   ]
  },
  {
   "cell_type": "markdown",
   "metadata": {},
   "source": [
    "__grid search__"
   ]
  },
  {
   "cell_type": "code",
   "execution_count": null,
   "metadata": {
    "ExecuteTime": {
     "end_time": "2020-03-04T00:49:41.633492Z",
     "start_time": "2020-03-04T00:44:27.780Z"
    }
   },
   "outputs": [],
   "source": [
    "# grid search params\n",
    "param_grid_dt = {'criterion': ['gini', 'entropy'],\n",
    "    'max_depth': [75,80,100,110],\n",
    "    'min_samples_split': [2,3,4],\n",
    "    'min_samples_leaf': [1,2,3,4],\n",
    "     'max_features':['auto',30,40,50,60],\n",
    "     'max_leaf_nodes':[None]\n",
    "        }\n",
    "\n",
    "# grid search\n",
    "gs_dt = GridSearchCV(estimator=dt_model,\n",
    "                    param_grid=param_grid_dt,\n",
    "                     error_score=0,\n",
    "                    scoring=('recall_macro'),\n",
    "                    cv=5, n_jobs=-1, verbose=2)\n",
    "\n",
    "# fitting grid search\n",
    "gs_dt.fit(X_train, y_train);\n",
    "\n",
    "# best parameters\n",
    "print('Best score: {:.3}%'.format(gs_dt.best_score_ * 100));\n",
    "print('params:\\n', gs_dt.best_params_);"
   ]
  },
  {
   "cell_type": "code",
   "execution_count": 109,
   "metadata": {
    "ExecuteTime": {
     "end_time": "2020-03-03T20:06:32.699475Z",
     "start_time": "2020-03-03T20:06:29.656738Z"
    }
   },
   "outputs": [
    {
     "data": {
      "text/plain": [
       "DecisionTreeClassifier(ccp_alpha=0.0, class_weight=None, criterion='gini',\n",
       "                       max_depth=70, max_features='sqrt', max_leaf_nodes=None,\n",
       "                       min_impurity_decrease=0.0, min_impurity_split=None,\n",
       "                       min_samples_leaf=1, min_samples_split=2,\n",
       "                       min_weight_fraction_leaf=0.0, presort='deprecated',\n",
       "                       random_state=None, splitter='best')"
      ]
     },
     "execution_count": 109,
     "metadata": {},
     "output_type": "execute_result"
    }
   ],
   "source": [
    "# using best params to fit model\n",
    "dt_gs_model = DecisionTreeClassifier(criterion='gini',\n",
    "                              max_depth=70,\n",
    "                              max_features='sqrt',\n",
    "                              max_leaf_nodes= None,\n",
    "                               min_samples_leaf=1,\n",
    "                               min_samples_split=2\n",
    "                                \n",
    "                                    )\n",
    "dt_gs_model.fit(X_train, y_train)\n",
    "\n",
    "predictions = dt_gs_model.predict(X_test)\n",
    "actuals = y_test"
   ]
  },
  {
   "cell_type": "markdown",
   "metadata": {},
   "source": [
    "#### final model"
   ]
  },
  {
   "cell_type": "code",
   "execution_count": 110,
   "metadata": {
    "ExecuteTime": {
     "end_time": "2020-03-03T20:06:37.090004Z",
     "start_time": "2020-03-03T20:06:32.703262Z"
    }
   },
   "outputs": [
    {
     "name": "stdout",
     "output_type": "stream",
     "text": [
      "\n",
      "Cross Validation Scoring:\n",
      "\n",
      "train score: 96.33%\n",
      "test score: 86.12%\n",
      "cross val score: 88.18%\n",
      "\n",
      "Classification Report:\n",
      "                   precision    recall  f1-score   support\n",
      "\n",
      "  dead_on_arrival       0.00      0.00      0.00        13\n",
      "       euthanized       0.05      0.07      0.06        27\n",
      "  return_to_owner       0.15      0.28      0.20       305\n",
      "   return_to_wild       0.93      0.96      0.95      1608\n",
      "special_caseother       0.29      0.24      0.26       149\n",
      "        trans_caa       0.93      0.88      0.91      5846\n",
      "\n",
      "         accuracy                           0.86      7948\n",
      "        macro avg       0.39      0.41      0.40      7948\n",
      "     weighted avg       0.89      0.86      0.87      7948\n",
      "\n",
      "\n",
      "Confusion matrix:\n"
     ]
    },
    {
     "data": {
      "text/html": [
       "<div>\n",
       "<style scoped>\n",
       "    .dataframe tbody tr th:only-of-type {\n",
       "        vertical-align: middle;\n",
       "    }\n",
       "\n",
       "    .dataframe tbody tr th {\n",
       "        vertical-align: top;\n",
       "    }\n",
       "\n",
       "    .dataframe thead th {\n",
       "        text-align: right;\n",
       "    }\n",
       "</style>\n",
       "<table border=\"1\" class=\"dataframe\">\n",
       "  <thead>\n",
       "    <tr style=\"text-align: right;\">\n",
       "      <th></th>\n",
       "      <th>pred doa</th>\n",
       "      <th>pred euth</th>\n",
       "      <th>pred spec_case</th>\n",
       "      <th>pred to owner</th>\n",
       "      <th>pred to wild</th>\n",
       "      <th>pred trans</th>\n",
       "    </tr>\n",
       "  </thead>\n",
       "  <tbody>\n",
       "    <tr>\n",
       "      <th>real doa</th>\n",
       "      <td>0</td>\n",
       "      <td>1</td>\n",
       "      <td>2</td>\n",
       "      <td>3</td>\n",
       "      <td>1</td>\n",
       "      <td>6</td>\n",
       "    </tr>\n",
       "    <tr>\n",
       "      <th>real euth</th>\n",
       "      <td>2</td>\n",
       "      <td>2</td>\n",
       "      <td>2</td>\n",
       "      <td>5</td>\n",
       "      <td>1</td>\n",
       "      <td>15</td>\n",
       "    </tr>\n",
       "    <tr>\n",
       "      <th>real spec_case</th>\n",
       "      <td>1</td>\n",
       "      <td>2</td>\n",
       "      <td>86</td>\n",
       "      <td>9</td>\n",
       "      <td>2</td>\n",
       "      <td>205</td>\n",
       "    </tr>\n",
       "    <tr>\n",
       "      <th>real to owner</th>\n",
       "      <td>4</td>\n",
       "      <td>4</td>\n",
       "      <td>8</td>\n",
       "      <td>1548</td>\n",
       "      <td>8</td>\n",
       "      <td>36</td>\n",
       "    </tr>\n",
       "    <tr>\n",
       "      <th>real to wild</th>\n",
       "      <td>0</td>\n",
       "      <td>1</td>\n",
       "      <td>5</td>\n",
       "      <td>8</td>\n",
       "      <td>36</td>\n",
       "      <td>99</td>\n",
       "    </tr>\n",
       "    <tr>\n",
       "      <th>real trans</th>\n",
       "      <td>12</td>\n",
       "      <td>27</td>\n",
       "      <td>465</td>\n",
       "      <td>93</td>\n",
       "      <td>76</td>\n",
       "      <td>5173</td>\n",
       "    </tr>\n",
       "  </tbody>\n",
       "</table>\n",
       "</div>"
      ],
      "text/plain": [
       "                pred doa  pred euth  pred spec_case  pred to owner  \\\n",
       "real doa               0          1               2              3   \n",
       "real euth              2          2               2              5   \n",
       "real spec_case         1          2              86              9   \n",
       "real to owner          4          4               8           1548   \n",
       "real to wild           0          1               5              8   \n",
       "real trans            12         27             465             93   \n",
       "\n",
       "                pred to wild  pred trans  \n",
       "real doa                   1           6  \n",
       "real euth                  1          15  \n",
       "real spec_case             2         205  \n",
       "real to owner              8          36  \n",
       "real to wild              36          99  \n",
       "real trans                76        5173  "
      ]
     },
     "metadata": {},
     "output_type": "display_data"
    }
   ],
   "source": [
    "model_report(dt_gs_model)"
   ]
  },
  {
   "cell_type": "code",
   "execution_count": 129,
   "metadata": {
    "ExecuteTime": {
     "end_time": "2020-03-03T20:12:21.241586Z",
     "start_time": "2020-03-03T20:12:19.965786Z"
    }
   },
   "outputs": [
    {
     "data": {
      "image/png": "[encoded data removed]",
      "text/plain": [
       "<Figure size 432x288 with 2 Axes>"
      ]
     },
     "metadata": {
      "needs_background": "light"
     },
     "output_type": "display_data"
    }
   ],
   "source": [
    "plot_matrix(dt_gs_model)"
   ]
  },
  {
   "cell_type": "markdown",
   "metadata": {},
   "source": [
    "The test score didn't increase significantly, and the train score even decreased, but overfitting was avoided with the tuned model."
   ]
  },
  {
   "cell_type": "markdown",
   "metadata": {},
   "source": [
    "### Random Forest"
   ]
  },
  {
   "cell_type": "markdown",
   "metadata": {},
   "source": [
    "---\n",
    "__default model__"
   ]
  },
  {
   "cell_type": "code",
   "execution_count": 45,
   "metadata": {
    "ExecuteTime": {
     "end_time": "2020-03-03T06:40:56.933986Z",
     "start_time": "2020-03-03T06:33:04.536293Z"
    }
   },
   "outputs": [
    {
     "data": {
      "text/plain": [
       "RandomForestClassifier(bootstrap=True, ccp_alpha=0.0, class_weight=None,\n",
       "                       criterion='gini', max_depth=None, max_features='auto',\n",
       "                       max_leaf_nodes=None, max_samples=None,\n",
       "                       min_impurity_decrease=0.0, min_impurity_split=None,\n",
       "                       min_samples_leaf=1, min_samples_split=2,\n",
       "                       min_weight_fraction_leaf=0.0, n_estimators=100,\n",
       "                       n_jobs=None, oob_score=False, random_state=3, verbose=0,\n",
       "                       warm_start=False)"
      ]
     },
     "execution_count": 45,
     "metadata": {},
     "output_type": "execute_result"
    },
    {
     "name": "stdout",
     "output_type": "stream",
     "text": [
      "\n",
      "Cross Validation Scoring:\n",
      "\n",
      "train score: 98.31%\n",
      "test score: 89.04%\n",
      "cross val score: 91.46%\n",
      "\n",
      "Classification Report:\n",
      "                   precision    recall  f1-score   support\n",
      "\n",
      "  dead_on_arrival       0.00      0.00      0.00        13\n",
      "       euthanized       0.07      0.07      0.07        27\n",
      "  return_to_owner       0.13      0.10      0.11       305\n",
      "   return_to_wild       0.93      0.97      0.95      1608\n",
      "special_caseother       0.30      0.34      0.32       149\n",
      "        trans_caa       0.93      0.93      0.93      5846\n",
      "\n",
      "         accuracy                           0.89      7948\n",
      "        macro avg       0.39      0.40      0.40      7948\n",
      "     weighted avg       0.88      0.89      0.89      7948\n",
      "\n",
      "\n",
      "Confusion matrix:\n"
     ]
    },
    {
     "data": {
      "text/html": [
       "<div>\n",
       "<style scoped>\n",
       "    .dataframe tbody tr th:only-of-type {\n",
       "        vertical-align: middle;\n",
       "    }\n",
       "\n",
       "    .dataframe tbody tr th {\n",
       "        vertical-align: top;\n",
       "    }\n",
       "\n",
       "    .dataframe thead th {\n",
       "        text-align: right;\n",
       "    }\n",
       "</style>\n",
       "<table border=\"1\" class=\"dataframe\">\n",
       "  <thead>\n",
       "    <tr style=\"text-align: right;\">\n",
       "      <th></th>\n",
       "      <th>pred doa</th>\n",
       "      <th>pred euth</th>\n",
       "      <th>pred spec_case</th>\n",
       "      <th>pred to owner</th>\n",
       "      <th>pred to wild</th>\n",
       "      <th>pred trans</th>\n",
       "    </tr>\n",
       "  </thead>\n",
       "  <tbody>\n",
       "    <tr>\n",
       "      <th>real doa</th>\n",
       "      <td>0</td>\n",
       "      <td>1</td>\n",
       "      <td>0</td>\n",
       "      <td>3</td>\n",
       "      <td>1</td>\n",
       "      <td>8</td>\n",
       "    </tr>\n",
       "    <tr>\n",
       "      <th>real euth</th>\n",
       "      <td>1</td>\n",
       "      <td>2</td>\n",
       "      <td>0</td>\n",
       "      <td>4</td>\n",
       "      <td>1</td>\n",
       "      <td>19</td>\n",
       "    </tr>\n",
       "    <tr>\n",
       "      <th>real spec_case</th>\n",
       "      <td>0</td>\n",
       "      <td>1</td>\n",
       "      <td>30</td>\n",
       "      <td>9</td>\n",
       "      <td>3</td>\n",
       "      <td>262</td>\n",
       "    </tr>\n",
       "    <tr>\n",
       "      <th>real to owner</th>\n",
       "      <td>3</td>\n",
       "      <td>3</td>\n",
       "      <td>3</td>\n",
       "      <td>1562</td>\n",
       "      <td>9</td>\n",
       "      <td>28</td>\n",
       "    </tr>\n",
       "    <tr>\n",
       "      <th>real to wild</th>\n",
       "      <td>0</td>\n",
       "      <td>1</td>\n",
       "      <td>2</td>\n",
       "      <td>9</td>\n",
       "      <td>51</td>\n",
       "      <td>86</td>\n",
       "    </tr>\n",
       "    <tr>\n",
       "      <th>real trans</th>\n",
       "      <td>6</td>\n",
       "      <td>19</td>\n",
       "      <td>192</td>\n",
       "      <td>90</td>\n",
       "      <td>107</td>\n",
       "      <td>5432</td>\n",
       "    </tr>\n",
       "  </tbody>\n",
       "</table>\n",
       "</div>"
      ],
      "text/plain": [
       "                pred doa  pred euth  pred spec_case  pred to owner  \\\n",
       "real doa               0          1               0              3   \n",
       "real euth              1          2               0              4   \n",
       "real spec_case         0          1              30              9   \n",
       "real to owner          3          3               3           1562   \n",
       "real to wild           0          1               2              9   \n",
       "real trans             6         19             192             90   \n",
       "\n",
       "                pred to wild  pred trans  \n",
       "real doa                   1           8  \n",
       "real euth                  1          19  \n",
       "real spec_case             3         262  \n",
       "real to owner              9          28  \n",
       "real to wild              51          86  \n",
       "real trans               107        5432  "
      ]
     },
     "metadata": {},
     "output_type": "display_data"
    }
   ],
   "source": [
    "#initialize and fit random forest\n",
    "rf_model = RandomForestClassifier(random_state=3)\n",
    "rf_model.fit(X_train, y_train)\n",
    "\n",
    "predictions = rf_model.predict(X_test)\n",
    "#actuals = y_test\n",
    "\n",
    "model_report(rf_model)"
   ]
  },
  {
   "cell_type": "markdown",
   "metadata": {},
   "source": [
    "#### grid searching"
   ]
  },
  {
   "cell_type": "markdown",
   "metadata": {},
   "source": [
    "___\n",
    "__Random Grid Search__"
   ]
  },
  {
   "cell_type": "markdown",
   "metadata": {},
   "source": [
    "The default model is overfitting. Some ways to avoid overfitting with random forests are: increasing the n_estimators, reducing max features, limiting max depth, and increasing min leaf samples can help construct a more robust fit. Being that it did perform well despite the overfitting, I decided not to go crazy playing with the parameters."
   ]
  },
  {
   "cell_type": "code",
   "execution_count": 152,
   "metadata": {
    "ExecuteTime": {
     "end_time": "2020-03-03T23:53:53.238823Z",
     "start_time": "2020-03-03T23:53:53.230068Z"
    }
   },
   "outputs": [
    {
     "name": "stdout",
     "output_type": "stream",
     "text": [
      "best score: 81.6%\n",
      "{'n_estimators': 50, 'min_weight_fraction_leaf': 0.0001, 'min_samples_split': 4, 'min_samples_leaf': 4, 'min_impurity_split': 0.0, 'min_impurity_decrease': 0.0001, 'max_samples': 50, 'max_leaf_nodes': None, 'max_features': 8, 'max_depth': 40, 'criterion': 'gini', 'bootstrap': False}\n"
     ]
    }
   ],
   "source": [
    "# set random search params\n",
    "\n",
    "n_estimators = [20,30,40,50,60]\n",
    "min_weight_fraction_leaf=[0.0, 0.001, 0.0001]\n",
    "min_samples_split = [2,3,4,5,6]\n",
    "min_samples_leaf = [2,3,4,5,6]\n",
    "min_impurity_split = [None]\n",
    "min_impurity_decrease = [0.0,0.0001]\n",
    "max_samples = [None]\n",
    "max_leaf_nodes = [None]\n",
    "max_features = ['auto', 7,8,15,20,50]\n",
    "max_depth = [5,10,20,30,40,50,60]\n",
    "criterion = ['entropy', 'gini']\n",
    "bootstrap = [True, False]\n",
    "\n",
    "# Create the random grid\n",
    "random_grid = { 'n_estimators': n_estimators,\n",
    "                 'min_weight_fraction_leaf': min_weight_fraction_leaf,\n",
    "                 'min_samples_split': min_samples_split,\n",
    "                 'min_samples_leaf': min_samples_leaf,\n",
    "                 'min_impurity_split': min_impurity_split,\n",
    "                 'min_impurity_decrease': min_impurity_decrease,\n",
    "                 'max_samples': max_samples,\n",
    "                 'max_leaf_nodes': max_leaf_nodes,\n",
    "                 'max_features': max_features,\n",
    "                  'max_depth': max_depth,\n",
    "                 'criterion': criterion,\n",
    "                 'bootstrap': bootstrap\n",
    "              }\n",
    "\n",
    "# fit and search random param combinations\n",
    "rf_random = RandomizedSearchCV(estimator = rf_model\n",
    "                               , param_distributions = random_grid\n",
    "                               , n_iter = 150, cv = 3, verbose=10\n",
    "                               , scoring = 'recall_macro',random_state=1, n_jobs = -1);\n",
    "# Fit the random search model\n",
    "rf_random.fit(X_train, y_train);\n",
    "\n",
    "# print best parameters\n",
    "print('best score: {:.4}%'.format(rf_random.best_score_ * 100));\n",
    "print(rf_random.best_params_);"
   ]
  },
  {
   "cell_type": "markdown",
   "metadata": {},
   "source": [
    "___\n",
    "__grid search__"
   ]
  },
  {
   "cell_type": "code",
   "execution_count": 153,
   "metadata": {
    "ExecuteTime": {
     "end_time": "2020-03-04T00:19:00.954830Z",
     "start_time": "2020-03-03T23:55:11.030398Z"
    }
   },
   "outputs": [
    {
     "name": "stdout",
     "output_type": "stream",
     "text": [
      "Fitting 3 folds for each of 36 candidates, totalling 108 fits\n"
     ]
    },
    {
     "name": "stderr",
     "output_type": "stream",
     "text": [
      "[Parallel(n_jobs=-1)]: Using backend LokyBackend with 4 concurrent workers.\n",
      "[Parallel(n_jobs=-1)]: Done  10 tasks      | elapsed:  1.9min\n",
      "[Parallel(n_jobs=-1)]: Done  64 tasks      | elapsed: 12.9min\n",
      "[Parallel(n_jobs=-1)]: Done 108 out of 108 | elapsed: 22.7min finished\n"
     ]
    },
    {
     "name": "stdout",
     "output_type": "stream",
     "text": [
      "best score: 91.2%\n",
      "params:\n",
      " {'bootstrap': False, 'criterion': 'gini', 'max_depth': 50, 'max_features': 9, 'max_leaf_nodes': None, 'max_samples': 50, 'min_samples_leaf': 4, 'min_samples_split': 4, 'n_estimators': 50}\n"
     ]
    }
   ],
   "source": [
    "param_grid_rf = {\n",
    "        'n_estimators': [40,50]\n",
    "          , 'min_samples_leaf': [4]\n",
    "         , 'min_samples_split':[2,3,4]\n",
    "        , 'max_samples': [30,40,50]\n",
    "        , 'max_leaf_nodes':[None]\n",
    "           , 'max_features': [8,9,10,15]\n",
    "         , 'max_depth': [40,50]\n",
    "         , 'criterion': ['gini']\n",
    "          , 'bootstrap': [False]\n",
    "}\n",
    "\n",
    "# grid search\n",
    "gs_rf = GridSearchCV(estimator=rf_model\n",
    "                    ,param_grid=param_grid_rf\n",
    "                    ,cv=3,refit=True,error_score=0\n",
    "                     , scoring='recall_macro', n_jobs=-1, verbose=5\n",
    "                    )\n",
    "\n",
    "# fitting grid search\n",
    "gs_rf.fit(X_train, y_train);\n",
    "\n",
    "# best parameters\n",
    "print('best score: {:.4}%'.format(gs_rf.best_score_ * 100));\n",
    "print('params:\\n', gs_rf.best_params_);"
   ]
  },
  {
   "cell_type": "markdown",
   "metadata": {},
   "source": [
    "#### final model"
   ]
  },
  {
   "cell_type": "markdown",
   "metadata": {},
   "source": [
    "___\n",
    "__best model__"
   ]
  },
  {
   "cell_type": "code",
   "execution_count": 49,
   "metadata": {
    "ExecuteTime": {
     "end_time": "2020-03-03T08:19:30.811367Z",
     "start_time": "2020-03-03T08:18:43.937199Z"
    },
    "scrolled": true
   },
   "outputs": [
    {
     "data": {
      "text/plain": [
       "RandomForestClassifier(bootstrap=False, ccp_alpha=0.0, class_weight=None,\n",
       "                       criterion='gini', max_depth=150, max_features=9,\n",
       "                       max_leaf_nodes=17, max_samples=None,\n",
       "                       min_impurity_decrease=0.0, min_impurity_split=None,\n",
       "                       min_samples_leaf=3, min_samples_split=4,\n",
       "                       min_weight_fraction_leaf=0.0, n_estimators=100,\n",
       "                       n_jobs=None, oob_score=False, random_state=None,\n",
       "                       verbose=0, warm_start=False)"
      ]
     },
     "execution_count": 49,
     "metadata": {},
     "output_type": "execute_result"
    },
    {
     "name": "stdout",
     "output_type": "stream",
     "text": [
      "\n",
      "Cross Validation Scoring:\n",
      "\n",
      "train score: 62.73%\n",
      "test score: 46.83%\n",
      "cross val score: 91.15%\n",
      "\n",
      "Classification Report:\n",
      "                   precision    recall  f1-score   support\n",
      "\n",
      "  dead_on_arrival       0.00      0.00      0.00        13\n",
      "       euthanized       0.03      0.44      0.05        27\n",
      "  return_to_owner       0.07      0.87      0.13       305\n",
      "   return_to_wild       0.92      0.97      0.95      1608\n",
      "special_caseother       0.32      0.40      0.35       149\n",
      "        trans_caa       0.97      0.31      0.47      5846\n",
      "\n",
      "         accuracy                           0.47      7948\n",
      "        macro avg       0.39      0.50      0.33      7948\n",
      "     weighted avg       0.91      0.47      0.55      7948\n",
      "\n",
      "\n",
      "Confusion matrix:\n"
     ]
    },
    {
     "data": {
      "text/html": [
       "<div>\n",
       "<style scoped>\n",
       "    .dataframe tbody tr th:only-of-type {\n",
       "        vertical-align: middle;\n",
       "    }\n",
       "\n",
       "    .dataframe tbody tr th {\n",
       "        vertical-align: top;\n",
       "    }\n",
       "\n",
       "    .dataframe thead th {\n",
       "        text-align: right;\n",
       "    }\n",
       "</style>\n",
       "<table border=\"1\" class=\"dataframe\">\n",
       "  <thead>\n",
       "    <tr style=\"text-align: right;\">\n",
       "      <th></th>\n",
       "      <th>pred doa</th>\n",
       "      <th>pred euth</th>\n",
       "      <th>pred spec_case</th>\n",
       "      <th>pred to owner</th>\n",
       "      <th>pred to wild</th>\n",
       "      <th>pred trans</th>\n",
       "    </tr>\n",
       "  </thead>\n",
       "  <tbody>\n",
       "    <tr>\n",
       "      <th>real doa</th>\n",
       "      <td>0</td>\n",
       "      <td>5</td>\n",
       "      <td>4</td>\n",
       "      <td>3</td>\n",
       "      <td>1</td>\n",
       "      <td>0</td>\n",
       "    </tr>\n",
       "    <tr>\n",
       "      <th>real euth</th>\n",
       "      <td>2</td>\n",
       "      <td>12</td>\n",
       "      <td>7</td>\n",
       "      <td>4</td>\n",
       "      <td>1</td>\n",
       "      <td>1</td>\n",
       "    </tr>\n",
       "    <tr>\n",
       "      <th>real spec_case</th>\n",
       "      <td>4</td>\n",
       "      <td>9</td>\n",
       "      <td>265</td>\n",
       "      <td>9</td>\n",
       "      <td>1</td>\n",
       "      <td>17</td>\n",
       "    </tr>\n",
       "    <tr>\n",
       "      <th>real to owner</th>\n",
       "      <td>14</td>\n",
       "      <td>7</td>\n",
       "      <td>2</td>\n",
       "      <td>1555</td>\n",
       "      <td>29</td>\n",
       "      <td>1</td>\n",
       "    </tr>\n",
       "    <tr>\n",
       "      <th>real to wild</th>\n",
       "      <td>5</td>\n",
       "      <td>22</td>\n",
       "      <td>21</td>\n",
       "      <td>8</td>\n",
       "      <td>60</td>\n",
       "      <td>33</td>\n",
       "    </tr>\n",
       "    <tr>\n",
       "      <th>real trans</th>\n",
       "      <td>44</td>\n",
       "      <td>369</td>\n",
       "      <td>3402</td>\n",
       "      <td>103</td>\n",
       "      <td>98</td>\n",
       "      <td>1830</td>\n",
       "    </tr>\n",
       "  </tbody>\n",
       "</table>\n",
       "</div>"
      ],
      "text/plain": [
       "                pred doa  pred euth  pred spec_case  pred to owner  \\\n",
       "real doa               0          5               4              3   \n",
       "real euth              2         12               7              4   \n",
       "real spec_case         4          9             265              9   \n",
       "real to owner         14          7               2           1555   \n",
       "real to wild           5         22              21              8   \n",
       "real trans            44        369            3402            103   \n",
       "\n",
       "                pred to wild  pred trans  \n",
       "real doa                   1           0  \n",
       "real euth                  1           1  \n",
       "real spec_case             1          17  \n",
       "real to owner             29           1  \n",
       "real to wild              60          33  \n",
       "real trans                98        1830  "
      ]
     },
     "metadata": {},
     "output_type": "display_data"
    }
   ],
   "source": [
    "# fitting model using best params\n",
    "rf_gs_model = RandomForestClassifier(\n",
    "                                   bootstrap= False\n",
    "                                    ,criterion= 'gini'\n",
    "                                    , max_depth= 50\n",
    "                                   , max_features = 9\n",
    "                                   , max_leaf_nodes = None\n",
    "                                   , max_samples = 50\n",
    "                                     , min_samples_leaf = 4\n",
    "                                   , min_samples_split = 4\n",
    "                                    , n_estimators = 50\n",
    "                                    );\n",
    "rf_gs_model.fit(X_train, y_train);\n",
    "\n",
    "predictions = rf_gs_model.predict(X_test);\n",
    "\n",
    "# new model report\n",
    "model_report(rf_gs_model)"
   ]
  },
  {
   "cell_type": "markdown",
   "metadata": {},
   "source": [
    "Train score went down, but test score and cross val score went up, so at least the tuning constructed a more robust model."
   ]
  },
  {
   "cell_type": "markdown",
   "metadata": {},
   "source": [
    "### XGBoost"
   ]
  },
  {
   "cell_type": "code",
   "execution_count": 50,
   "metadata": {
    "ExecuteTime": {
     "end_time": "2020-03-03T09:05:39.675104Z",
     "start_time": "2020-03-03T08:19:30.820795Z"
    }
   },
   "outputs": [
    {
     "data": {
      "text/plain": [
       "XGBClassifier(base_score=0.5, booster='gbtree', colsample_bylevel=1,\n",
       "              colsample_bynode=1, colsample_bytree=1, gamma=0,\n",
       "              learning_rate=0.1, max_delta_step=0, max_depth=3,\n",
       "              min_child_weight=1, missing=None, n_estimators=100, n_jobs=1,\n",
       "              nthread=None, objective='multi:softprob', random_state=3,\n",
       "              reg_alpha=0, reg_lambda=1, scale_pos_weight=1, seed=None,\n",
       "              silent=None, subsample=1, verbosity=1)"
      ]
     },
     "execution_count": 50,
     "metadata": {},
     "output_type": "execute_result"
    }
   ],
   "source": [
    "# initiate model\n",
    "xgb_model = XGBClassifier(random_state=3)\n",
    "xgb_model.fit(X_train, y_train)\n",
    "\n",
    "predictions = xgb_model.predict(X_test)\n",
    "# actuals = y_test"
   ]
  },
  {
   "cell_type": "code",
   "execution_count": 51,
   "metadata": {
    "ExecuteTime": {
     "end_time": "2020-03-03T15:27:22.917297Z",
     "start_time": "2020-03-03T09:05:39.691077Z"
    }
   },
   "outputs": [
    {
     "name": "stdout",
     "output_type": "stream",
     "text": [
      "\n",
      "Cross Validation Scoring:\n",
      "\n",
      "train score: 77.2%\n",
      "test score: 70.52%\n",
      "cross val score: 92.48%\n",
      "\n",
      "Classification Report:\n",
      "                   precision    recall  f1-score   support\n",
      "\n",
      "  dead_on_arrival       0.00      0.00      0.00        13\n",
      "       euthanized       0.03      0.52      0.06        27\n",
      "  return_to_owner       0.11      0.61      0.18       305\n",
      "   return_to_wild       0.94      0.96      0.95      1608\n",
      "special_caseother       0.50      0.36      0.42       149\n",
      "        trans_caa       0.96      0.65      0.78      5846\n",
      "\n",
      "         accuracy                           0.71      7948\n",
      "        macro avg       0.42      0.52      0.40      7948\n",
      "     weighted avg       0.91      0.71      0.78      7948\n",
      "\n",
      "\n",
      "Confusion matrix:\n"
     ]
    },
    {
     "data": {
      "text/html": [
       "<div>\n",
       "<style scoped>\n",
       "    .dataframe tbody tr th:only-of-type {\n",
       "        vertical-align: middle;\n",
       "    }\n",
       "\n",
       "    .dataframe tbody tr th {\n",
       "        vertical-align: top;\n",
       "    }\n",
       "\n",
       "    .dataframe thead th {\n",
       "        text-align: right;\n",
       "    }\n",
       "</style>\n",
       "<table border=\"1\" class=\"dataframe\">\n",
       "  <thead>\n",
       "    <tr style=\"text-align: right;\">\n",
       "      <th></th>\n",
       "      <th>pred doa</th>\n",
       "      <th>pred euth</th>\n",
       "      <th>pred spec_case</th>\n",
       "      <th>pred to owner</th>\n",
       "      <th>pred to wild</th>\n",
       "      <th>pred trans</th>\n",
       "    </tr>\n",
       "  </thead>\n",
       "  <tbody>\n",
       "    <tr>\n",
       "      <th>real doa</th>\n",
       "      <td>0</td>\n",
       "      <td>5</td>\n",
       "      <td>4</td>\n",
       "      <td>3</td>\n",
       "      <td>1</td>\n",
       "      <td>0</td>\n",
       "    </tr>\n",
       "    <tr>\n",
       "      <th>real euth</th>\n",
       "      <td>4</td>\n",
       "      <td>14</td>\n",
       "      <td>4</td>\n",
       "      <td>1</td>\n",
       "      <td>0</td>\n",
       "      <td>4</td>\n",
       "    </tr>\n",
       "    <tr>\n",
       "      <th>real spec_case</th>\n",
       "      <td>1</td>\n",
       "      <td>8</td>\n",
       "      <td>186</td>\n",
       "      <td>9</td>\n",
       "      <td>2</td>\n",
       "      <td>99</td>\n",
       "    </tr>\n",
       "    <tr>\n",
       "      <th>real to owner</th>\n",
       "      <td>29</td>\n",
       "      <td>10</td>\n",
       "      <td>1</td>\n",
       "      <td>1550</td>\n",
       "      <td>14</td>\n",
       "      <td>4</td>\n",
       "    </tr>\n",
       "    <tr>\n",
       "      <th>real to wild</th>\n",
       "      <td>5</td>\n",
       "      <td>24</td>\n",
       "      <td>6</td>\n",
       "      <td>7</td>\n",
       "      <td>53</td>\n",
       "      <td>54</td>\n",
       "    </tr>\n",
       "    <tr>\n",
       "      <th>real trans</th>\n",
       "      <td>46</td>\n",
       "      <td>366</td>\n",
       "      <td>1514</td>\n",
       "      <td>83</td>\n",
       "      <td>35</td>\n",
       "      <td>3802</td>\n",
       "    </tr>\n",
       "  </tbody>\n",
       "</table>\n",
       "</div>"
      ],
      "text/plain": [
       "                pred doa  pred euth  pred spec_case  pred to owner  \\\n",
       "real doa               0          5               4              3   \n",
       "real euth              4         14               4              1   \n",
       "real spec_case         1          8             186              9   \n",
       "real to owner         29         10               1           1550   \n",
       "real to wild           5         24               6              7   \n",
       "real trans            46        366            1514             83   \n",
       "\n",
       "                pred to wild  pred trans  \n",
       "real doa                   1           0  \n",
       "real euth                  0           4  \n",
       "real spec_case             2          99  \n",
       "real to owner             14           4  \n",
       "real to wild              53          54  \n",
       "real trans                35        3802  "
      ]
     },
     "metadata": {},
     "output_type": "display_data"
    }
   ],
   "source": [
    "model_report(xgb_model)"
   ]
  },
  {
   "cell_type": "markdown",
   "metadata": {},
   "source": [
    "#### grid searching"
   ]
  },
  {
   "cell_type": "markdown",
   "metadata": {},
   "source": [
    "__random grid search__"
   ]
  },
  {
   "cell_type": "code",
   "execution_count": 52,
   "metadata": {
    "ExecuteTime": {
     "end_time": "2020-03-03T18:49:12.317646Z",
     "start_time": "2020-03-03T15:27:22.924386Z"
    }
   },
   "outputs": [
    {
     "name": "stdout",
     "output_type": "stream",
     "text": [
      "Fitting 3 folds for each of 5 candidates, totalling 15 fits\n"
     ]
    },
    {
     "name": "stderr",
     "output_type": "stream",
     "text": [
      "[Parallel(n_jobs=-1)]: Using backend LokyBackend with 4 concurrent workers.\n",
      "[Parallel(n_jobs=-1)]: Done   5 tasks      | elapsed: 201.8min\n",
      "[Parallel(n_jobs=-1)]: Done   6 tasks      | elapsed: 201.8min\n",
      "[Parallel(n_jobs=-1)]: Done   7 tasks      | elapsed: 201.8min\n",
      "[Parallel(n_jobs=-1)]: Done   8 tasks      | elapsed: 201.8min\n",
      "[Parallel(n_jobs=-1)]: Done   9 out of  12 | elapsed: 201.8min remaining: 67.3min\n"
     ]
    },
    {
     "ename": "KeyboardInterrupt",
     "evalue": "",
     "output_type": "error",
     "traceback": [
      "\u001b[0;31m---------------------------------------------------------------------------\u001b[0m",
      "\u001b[0;31mKeyboardInterrupt\u001b[0m                         Traceback (most recent call last)",
      "\u001b[0;32m<ipython-input-52-26e4548d819e>\u001b[0m in \u001b[0;36m<module>\u001b[0;34m\u001b[0m\n\u001b[1;32m     19\u001b[0m                                , random_state=3, n_jobs = -1)\n\u001b[1;32m     20\u001b[0m \u001b[0;31m# fit random search model\u001b[0m\u001b[0;34m\u001b[0m\u001b[0;34m\u001b[0m\u001b[0;34m\u001b[0m\u001b[0m\n\u001b[0;32m---> 21\u001b[0;31m \u001b[0mxgb_random\u001b[0m\u001b[0;34m.\u001b[0m\u001b[0mfit\u001b[0m\u001b[0;34m(\u001b[0m\u001b[0mX_train\u001b[0m\u001b[0;34m,\u001b[0m \u001b[0my_train\u001b[0m\u001b[0;34m)\u001b[0m\u001b[0;34m\u001b[0m\u001b[0;34m\u001b[0m\u001b[0m\n\u001b[0m\u001b[1;32m     22\u001b[0m \u001b[0mprint\u001b[0m\u001b[0;34m(\u001b[0m\u001b[0;34m'best accuracy: {:.4}%'\u001b[0m\u001b[0;34m.\u001b[0m\u001b[0mformat\u001b[0m\u001b[0;34m(\u001b[0m\u001b[0mxgb_random\u001b[0m\u001b[0;34m.\u001b[0m\u001b[0mbest_score_\u001b[0m \u001b[0;34m*\u001b[0m \u001b[0;36m100\u001b[0m\u001b[0;34m)\u001b[0m\u001b[0;34m)\u001b[0m\u001b[0;34m;\u001b[0m\u001b[0;34m\u001b[0m\u001b[0;34m\u001b[0m\u001b[0m\n\u001b[1;32m     23\u001b[0m \u001b[0mprint\u001b[0m\u001b[0;34m(\u001b[0m\u001b[0mxgb_random\u001b[0m\u001b[0;34m.\u001b[0m\u001b[0mbest_params_\u001b[0m\u001b[0;34m)\u001b[0m\u001b[0;34m;\u001b[0m\u001b[0;34m\u001b[0m\u001b[0;34m\u001b[0m\u001b[0m\n",
      "\u001b[0;32m~/anaconda3/lib/python3.7/site-packages/sklearn/model_selection/_search.py\u001b[0m in \u001b[0;36mfit\u001b[0;34m(self, X, y, groups, **fit_params)\u001b[0m\n\u001b[1;32m    708\u001b[0m                 \u001b[0;32mreturn\u001b[0m \u001b[0mresults\u001b[0m\u001b[0;34m\u001b[0m\u001b[0;34m\u001b[0m\u001b[0m\n\u001b[1;32m    709\u001b[0m \u001b[0;34m\u001b[0m\u001b[0m\n\u001b[0;32m--> 710\u001b[0;31m             \u001b[0mself\u001b[0m\u001b[0;34m.\u001b[0m\u001b[0m_run_search\u001b[0m\u001b[0;34m(\u001b[0m\u001b[0mevaluate_candidates\u001b[0m\u001b[0;34m)\u001b[0m\u001b[0;34m\u001b[0m\u001b[0;34m\u001b[0m\u001b[0m\n\u001b[0m\u001b[1;32m    711\u001b[0m \u001b[0;34m\u001b[0m\u001b[0m\n\u001b[1;32m    712\u001b[0m         \u001b[0;31m# For multi-metric evaluation, store the best_index_, best_params_ and\u001b[0m\u001b[0;34m\u001b[0m\u001b[0;34m\u001b[0m\u001b[0;34m\u001b[0m\u001b[0m\n",
      "\u001b[0;32m~/anaconda3/lib/python3.7/site-packages/sklearn/model_selection/_search.py\u001b[0m in \u001b[0;36m_run_search\u001b[0;34m(self, evaluate_candidates)\u001b[0m\n\u001b[1;32m   1482\u001b[0m         evaluate_candidates(ParameterSampler(\n\u001b[1;32m   1483\u001b[0m             \u001b[0mself\u001b[0m\u001b[0;34m.\u001b[0m\u001b[0mparam_distributions\u001b[0m\u001b[0;34m,\u001b[0m \u001b[0mself\u001b[0m\u001b[0;34m.\u001b[0m\u001b[0mn_iter\u001b[0m\u001b[0;34m,\u001b[0m\u001b[0;34m\u001b[0m\u001b[0;34m\u001b[0m\u001b[0m\n\u001b[0;32m-> 1484\u001b[0;31m             random_state=self.random_state))\n\u001b[0m",
      "\u001b[0;32m~/anaconda3/lib/python3.7/site-packages/sklearn/model_selection/_search.py\u001b[0m in \u001b[0;36mevaluate_candidates\u001b[0;34m(candidate_params)\u001b[0m\n\u001b[1;32m    687\u001b[0m                                \u001b[0;32mfor\u001b[0m \u001b[0mparameters\u001b[0m\u001b[0;34m,\u001b[0m \u001b[0;34m(\u001b[0m\u001b[0mtrain\u001b[0m\u001b[0;34m,\u001b[0m \u001b[0mtest\u001b[0m\u001b[0;34m)\u001b[0m\u001b[0;34m\u001b[0m\u001b[0;34m\u001b[0m\u001b[0m\n\u001b[1;32m    688\u001b[0m                                in product(candidate_params,\n\u001b[0;32m--> 689\u001b[0;31m                                           cv.split(X, y, groups)))\n\u001b[0m\u001b[1;32m    690\u001b[0m \u001b[0;34m\u001b[0m\u001b[0m\n\u001b[1;32m    691\u001b[0m                 \u001b[0;32mif\u001b[0m \u001b[0mlen\u001b[0m\u001b[0;34m(\u001b[0m\u001b[0mout\u001b[0m\u001b[0;34m)\u001b[0m \u001b[0;34m<\u001b[0m \u001b[0;36m1\u001b[0m\u001b[0;34m:\u001b[0m\u001b[0;34m\u001b[0m\u001b[0;34m\u001b[0m\u001b[0m\n",
      "\u001b[0;32m~/anaconda3/lib/python3.7/site-packages/joblib/parallel.py\u001b[0m in \u001b[0;36m__call__\u001b[0;34m(self, iterable)\u001b[0m\n\u001b[1;32m   1014\u001b[0m \u001b[0;34m\u001b[0m\u001b[0m\n\u001b[1;32m   1015\u001b[0m             \u001b[0;32mwith\u001b[0m \u001b[0mself\u001b[0m\u001b[0;34m.\u001b[0m\u001b[0m_backend\u001b[0m\u001b[0;34m.\u001b[0m\u001b[0mretrieval_context\u001b[0m\u001b[0;34m(\u001b[0m\u001b[0;34m)\u001b[0m\u001b[0;34m:\u001b[0m\u001b[0;34m\u001b[0m\u001b[0;34m\u001b[0m\u001b[0m\n\u001b[0;32m-> 1016\u001b[0;31m                 \u001b[0mself\u001b[0m\u001b[0;34m.\u001b[0m\u001b[0mretrieve\u001b[0m\u001b[0;34m(\u001b[0m\u001b[0;34m)\u001b[0m\u001b[0;34m\u001b[0m\u001b[0;34m\u001b[0m\u001b[0m\n\u001b[0m\u001b[1;32m   1017\u001b[0m             \u001b[0;31m# Make sure that we get a last message telling us we are done\u001b[0m\u001b[0;34m\u001b[0m\u001b[0;34m\u001b[0m\u001b[0;34m\u001b[0m\u001b[0m\n\u001b[1;32m   1018\u001b[0m             \u001b[0melapsed_time\u001b[0m \u001b[0;34m=\u001b[0m \u001b[0mtime\u001b[0m\u001b[0;34m.\u001b[0m\u001b[0mtime\u001b[0m\u001b[0;34m(\u001b[0m\u001b[0;34m)\u001b[0m \u001b[0;34m-\u001b[0m \u001b[0mself\u001b[0m\u001b[0;34m.\u001b[0m\u001b[0m_start_time\u001b[0m\u001b[0;34m\u001b[0m\u001b[0;34m\u001b[0m\u001b[0m\n",
      "\u001b[0;32m~/anaconda3/lib/python3.7/site-packages/joblib/parallel.py\u001b[0m in \u001b[0;36mretrieve\u001b[0;34m(self)\u001b[0m\n\u001b[1;32m    906\u001b[0m             \u001b[0;32mtry\u001b[0m\u001b[0;34m:\u001b[0m\u001b[0;34m\u001b[0m\u001b[0;34m\u001b[0m\u001b[0m\n\u001b[1;32m    907\u001b[0m                 \u001b[0;32mif\u001b[0m \u001b[0mgetattr\u001b[0m\u001b[0;34m(\u001b[0m\u001b[0mself\u001b[0m\u001b[0;34m.\u001b[0m\u001b[0m_backend\u001b[0m\u001b[0;34m,\u001b[0m \u001b[0;34m'supports_timeout'\u001b[0m\u001b[0;34m,\u001b[0m \u001b[0;32mFalse\u001b[0m\u001b[0;34m)\u001b[0m\u001b[0;34m:\u001b[0m\u001b[0;34m\u001b[0m\u001b[0;34m\u001b[0m\u001b[0m\n\u001b[0;32m--> 908\u001b[0;31m                     \u001b[0mself\u001b[0m\u001b[0;34m.\u001b[0m\u001b[0m_output\u001b[0m\u001b[0;34m.\u001b[0m\u001b[0mextend\u001b[0m\u001b[0;34m(\u001b[0m\u001b[0mjob\u001b[0m\u001b[0;34m.\u001b[0m\u001b[0mget\u001b[0m\u001b[0;34m(\u001b[0m\u001b[0mtimeout\u001b[0m\u001b[0;34m=\u001b[0m\u001b[0mself\u001b[0m\u001b[0;34m.\u001b[0m\u001b[0mtimeout\u001b[0m\u001b[0;34m)\u001b[0m\u001b[0;34m)\u001b[0m\u001b[0;34m\u001b[0m\u001b[0;34m\u001b[0m\u001b[0m\n\u001b[0m\u001b[1;32m    909\u001b[0m                 \u001b[0;32melse\u001b[0m\u001b[0;34m:\u001b[0m\u001b[0;34m\u001b[0m\u001b[0;34m\u001b[0m\u001b[0m\n\u001b[1;32m    910\u001b[0m                     \u001b[0mself\u001b[0m\u001b[0;34m.\u001b[0m\u001b[0m_output\u001b[0m\u001b[0;34m.\u001b[0m\u001b[0mextend\u001b[0m\u001b[0;34m(\u001b[0m\u001b[0mjob\u001b[0m\u001b[0;34m.\u001b[0m\u001b[0mget\u001b[0m\u001b[0;34m(\u001b[0m\u001b[0;34m)\u001b[0m\u001b[0;34m)\u001b[0m\u001b[0;34m\u001b[0m\u001b[0;34m\u001b[0m\u001b[0m\n",
      "\u001b[0;32m~/anaconda3/lib/python3.7/site-packages/joblib/_parallel_backends.py\u001b[0m in \u001b[0;36mwrap_future_result\u001b[0;34m(future, timeout)\u001b[0m\n\u001b[1;32m    552\u001b[0m         AsyncResults.get from multiprocessing.\"\"\"\n\u001b[1;32m    553\u001b[0m         \u001b[0;32mtry\u001b[0m\u001b[0;34m:\u001b[0m\u001b[0;34m\u001b[0m\u001b[0;34m\u001b[0m\u001b[0m\n\u001b[0;32m--> 554\u001b[0;31m             \u001b[0;32mreturn\u001b[0m \u001b[0mfuture\u001b[0m\u001b[0;34m.\u001b[0m\u001b[0mresult\u001b[0m\u001b[0;34m(\u001b[0m\u001b[0mtimeout\u001b[0m\u001b[0;34m=\u001b[0m\u001b[0mtimeout\u001b[0m\u001b[0;34m)\u001b[0m\u001b[0;34m\u001b[0m\u001b[0;34m\u001b[0m\u001b[0m\n\u001b[0m\u001b[1;32m    555\u001b[0m         \u001b[0;32mexcept\u001b[0m \u001b[0mLokyTimeoutError\u001b[0m\u001b[0;34m:\u001b[0m\u001b[0;34m\u001b[0m\u001b[0;34m\u001b[0m\u001b[0m\n\u001b[1;32m    556\u001b[0m             \u001b[0;32mraise\u001b[0m \u001b[0mTimeoutError\u001b[0m\u001b[0;34m(\u001b[0m\u001b[0;34m)\u001b[0m\u001b[0;34m\u001b[0m\u001b[0;34m\u001b[0m\u001b[0m\n",
      "\u001b[0;32m~/anaconda3/lib/python3.7/concurrent/futures/_base.py\u001b[0m in \u001b[0;36mresult\u001b[0;34m(self, timeout)\u001b[0m\n\u001b[1;32m    425\u001b[0m                 \u001b[0;32mreturn\u001b[0m \u001b[0mself\u001b[0m\u001b[0;34m.\u001b[0m\u001b[0m__get_result\u001b[0m\u001b[0;34m(\u001b[0m\u001b[0;34m)\u001b[0m\u001b[0;34m\u001b[0m\u001b[0;34m\u001b[0m\u001b[0m\n\u001b[1;32m    426\u001b[0m \u001b[0;34m\u001b[0m\u001b[0m\n\u001b[0;32m--> 427\u001b[0;31m             \u001b[0mself\u001b[0m\u001b[0;34m.\u001b[0m\u001b[0m_condition\u001b[0m\u001b[0;34m.\u001b[0m\u001b[0mwait\u001b[0m\u001b[0;34m(\u001b[0m\u001b[0mtimeout\u001b[0m\u001b[0;34m)\u001b[0m\u001b[0;34m\u001b[0m\u001b[0;34m\u001b[0m\u001b[0m\n\u001b[0m\u001b[1;32m    428\u001b[0m \u001b[0;34m\u001b[0m\u001b[0m\n\u001b[1;32m    429\u001b[0m             \u001b[0;32mif\u001b[0m \u001b[0mself\u001b[0m\u001b[0;34m.\u001b[0m\u001b[0m_state\u001b[0m \u001b[0;32min\u001b[0m \u001b[0;34m[\u001b[0m\u001b[0mCANCELLED\u001b[0m\u001b[0;34m,\u001b[0m \u001b[0mCANCELLED_AND_NOTIFIED\u001b[0m\u001b[0;34m]\u001b[0m\u001b[0;34m:\u001b[0m\u001b[0;34m\u001b[0m\u001b[0;34m\u001b[0m\u001b[0m\n",
      "\u001b[0;32m~/anaconda3/lib/python3.7/threading.py\u001b[0m in \u001b[0;36mwait\u001b[0;34m(self, timeout)\u001b[0m\n\u001b[1;32m    294\u001b[0m         \u001b[0;32mtry\u001b[0m\u001b[0;34m:\u001b[0m    \u001b[0;31m# restore state no matter what (e.g., KeyboardInterrupt)\u001b[0m\u001b[0;34m\u001b[0m\u001b[0;34m\u001b[0m\u001b[0m\n\u001b[1;32m    295\u001b[0m             \u001b[0;32mif\u001b[0m \u001b[0mtimeout\u001b[0m \u001b[0;32mis\u001b[0m \u001b[0;32mNone\u001b[0m\u001b[0;34m:\u001b[0m\u001b[0;34m\u001b[0m\u001b[0;34m\u001b[0m\u001b[0m\n\u001b[0;32m--> 296\u001b[0;31m                 \u001b[0mwaiter\u001b[0m\u001b[0;34m.\u001b[0m\u001b[0macquire\u001b[0m\u001b[0;34m(\u001b[0m\u001b[0;34m)\u001b[0m\u001b[0;34m\u001b[0m\u001b[0;34m\u001b[0m\u001b[0m\n\u001b[0m\u001b[1;32m    297\u001b[0m                 \u001b[0mgotit\u001b[0m \u001b[0;34m=\u001b[0m \u001b[0;32mTrue\u001b[0m\u001b[0;34m\u001b[0m\u001b[0;34m\u001b[0m\u001b[0m\n\u001b[1;32m    298\u001b[0m             \u001b[0;32melse\u001b[0m\u001b[0;34m:\u001b[0m\u001b[0;34m\u001b[0m\u001b[0;34m\u001b[0m\u001b[0m\n",
      "\u001b[0;31mKeyboardInterrupt\u001b[0m: "
     ]
    }
   ],
   "source": [
    "#set random search params\n",
    "learning_rate=[.15 ,.1,.05]\n",
    "max_depth = [3,4]\n",
    "min_child_weight = [.5, 1,1.5]\n",
    "n_estimators = [90,100, 110]\n",
    "\n",
    "\n",
    "random_grid = {\n",
    "               'learning_rate':learning_rate,\n",
    "               'max_depth': max_depth,\n",
    "               'min_child_weight':min_child_weight\n",
    "              'n_estimators': n_estimators\n",
    "              }\n",
    "\n",
    "# searching random params\n",
    "xgb_random = RandomizedSearchCV(estimator = xgb_model\n",
    "                               , param_distributions = random_grid\n",
    "                               , n_iter = 10, cv = 3, verbose=10, scoring='recall_macro'\n",
    "                               , random_state=3, n_jobs = -1)\n",
    "# fit random search model\n",
    "xgb_random.fit(X_train, y_train)\n",
    "print('best accuracy: {:.4}%'.format(xgb_random.best_score_ * 100));\n",
    "print(xgb_random.best_params_);"
   ]
  },
  {
   "cell_type": "markdown",
   "metadata": {},
   "source": [
    "#### grid search"
   ]
  },
  {
   "cell_type": "code",
   "execution_count": null,
   "metadata": {
    "ExecuteTime": {
     "end_time": "2020-03-03T18:49:12.351992Z",
     "start_time": "2020-03-03T06:32:55.236Z"
    }
   },
   "outputs": [],
   "source": [
    "param_grid_xgb = [\n",
    "    {\n",
    "#         'xgb_model__min_samples_split':[2,3],\n",
    "      #   'xbg_model__gamma':[0.01,0.1,.05],\n",
    "        'xgb_model__min_child_weight': [0.9, 1.0, 1.2],\n",
    "    'xgb_model__learning_rate': [0.009, 0.01, 0.011 ]\n",
    "    #'xgb_model__n_estimators': [150,200,250],\n",
    "    #'xgb_model__max_depth': [2,3]\n",
    "    }\n",
    "]\n",
    "\n",
    "# Construct Grid Search\n",
    "gs_xgb = GridSearchCV(estimator=xgb_model,\n",
    "                    param_grid=param_grid_xgb,\n",
    "                    scoring='recall_macro',random_state=3,\n",
    "                    cv=3, n_jobs=-1, verbose=10)\n",
    "\n",
    "# Fit using grid search\n",
    "gs_xgb.fit(X, y)\n",
    "\n",
    "# Best accuracy and parameters\n",
    "print('best score: {:.3}%'.format(gs_xgb.best_score_ * 100))\n",
    "print('params:\\n', gs_xgb.best_params_);"
   ]
  },
  {
   "cell_type": "code",
   "execution_count": 131,
   "metadata": {
    "ExecuteTime": {
     "end_time": "2020-03-03T21:24:44.235922Z",
     "start_time": "2020-03-03T20:38:18.454005Z"
    }
   },
   "outputs": [
    {
     "data": {
      "text/plain": [
       "XGBClassifier(base_score=0.5, booster='gbtree', colsample_bylevel=1,\n",
       "              colsample_bynode=1, colsample_bytree=1, gamma=0,\n",
       "              learning_rate=0.009, max_delta_step=0, max_depth=3,\n",
       "              min_child_weight=1, missing=None, n_estimators=100, n_jobs=1,\n",
       "              nthread=None, objective='multi:softprob', random_state=0,\n",
       "              reg_alpha=0, reg_lambda=1, scale_pos_weight=1, seed=None,\n",
       "              silent=None, subsample=1, verbosity=1)"
      ]
     },
     "execution_count": 131,
     "metadata": {},
     "output_type": "execute_result"
    },
    {
     "name": "stdout",
     "output_type": "stream",
     "text": [
      "\n",
      "Cross Validation Scoring:\n",
      "\n",
      "train score: 59.36%\n",
      "test score: 48.34%\n",
      "cross val score: 92.32%\n",
      "\n",
      "Classification Report:\n",
      "                   precision    recall  f1-score   support\n",
      "\n",
      "  dead_on_arrival       0.00      0.00      0.00        13\n",
      "       euthanized       0.03      0.56      0.06        27\n",
      "  return_to_owner       0.08      0.88      0.14       305\n",
      "   return_to_wild       0.94      0.96      0.95      1608\n",
      "special_caseother       0.62      0.30      0.41       149\n",
      "        trans_caa       0.96      0.34      0.50      5846\n",
      "\n",
      "         accuracy                           0.48      7948\n",
      "        macro avg       0.44      0.50      0.34      7948\n",
      "     weighted avg       0.91      0.48      0.57      7948\n",
      "\n",
      "\n",
      "Confusion matrix:\n"
     ]
    },
    {
     "data": {
      "text/html": [
       "<div>\n",
       "<style scoped>\n",
       "    .dataframe tbody tr th:only-of-type {\n",
       "        vertical-align: middle;\n",
       "    }\n",
       "\n",
       "    .dataframe tbody tr th {\n",
       "        vertical-align: top;\n",
       "    }\n",
       "\n",
       "    .dataframe thead th {\n",
       "        text-align: right;\n",
       "    }\n",
       "</style>\n",
       "<table border=\"1\" class=\"dataframe\">\n",
       "  <thead>\n",
       "    <tr style=\"text-align: right;\">\n",
       "      <th></th>\n",
       "      <th>pred doa</th>\n",
       "      <th>pred euth</th>\n",
       "      <th>pred spec_case</th>\n",
       "      <th>pred to owner</th>\n",
       "      <th>pred to wild</th>\n",
       "      <th>pred trans</th>\n",
       "    </tr>\n",
       "  </thead>\n",
       "  <tbody>\n",
       "    <tr>\n",
       "      <th>real doa</th>\n",
       "      <td>0</td>\n",
       "      <td>5</td>\n",
       "      <td>4</td>\n",
       "      <td>3</td>\n",
       "      <td>1</td>\n",
       "      <td>0</td>\n",
       "    </tr>\n",
       "    <tr>\n",
       "      <th>real euth</th>\n",
       "      <td>2</td>\n",
       "      <td>15</td>\n",
       "      <td>4</td>\n",
       "      <td>1</td>\n",
       "      <td>0</td>\n",
       "      <td>5</td>\n",
       "    </tr>\n",
       "    <tr>\n",
       "      <th>real spec_case</th>\n",
       "      <td>2</td>\n",
       "      <td>10</td>\n",
       "      <td>268</td>\n",
       "      <td>9</td>\n",
       "      <td>1</td>\n",
       "      <td>15</td>\n",
       "    </tr>\n",
       "    <tr>\n",
       "      <th>real to owner</th>\n",
       "      <td>39</td>\n",
       "      <td>10</td>\n",
       "      <td>2</td>\n",
       "      <td>1536</td>\n",
       "      <td>8</td>\n",
       "      <td>13</td>\n",
       "    </tr>\n",
       "    <tr>\n",
       "      <th>real to wild</th>\n",
       "      <td>3</td>\n",
       "      <td>36</td>\n",
       "      <td>16</td>\n",
       "      <td>6</td>\n",
       "      <td>45</td>\n",
       "      <td>43</td>\n",
       "    </tr>\n",
       "    <tr>\n",
       "      <th>real trans</th>\n",
       "      <td>63</td>\n",
       "      <td>431</td>\n",
       "      <td>3275</td>\n",
       "      <td>81</td>\n",
       "      <td>18</td>\n",
       "      <td>1978</td>\n",
       "    </tr>\n",
       "  </tbody>\n",
       "</table>\n",
       "</div>"
      ],
      "text/plain": [
       "                pred doa  pred euth  pred spec_case  pred to owner  \\\n",
       "real doa               0          5               4              3   \n",
       "real euth              2         15               4              1   \n",
       "real spec_case         2         10             268              9   \n",
       "real to owner         39         10               2           1536   \n",
       "real to wild           3         36              16              6   \n",
       "real trans            63        431            3275             81   \n",
       "\n",
       "                pred to wild  pred trans  \n",
       "real doa                   1           0  \n",
       "real euth                  0           5  \n",
       "real spec_case             1          15  \n",
       "real to owner              8          13  \n",
       "real to wild              45          43  \n",
       "real trans                18        1978  "
      ]
     },
     "metadata": {},
     "output_type": "display_data"
    }
   ],
   "source": [
    "# fit using best params\n",
    "xgb_gs_model = XGBClassifier(learning_rate=0.009,\n",
    "                           #  max_depth=3,\n",
    "                             min_child_weight=1\n",
    "                          #   n_estimators=90\n",
    "                            )\n",
    "xgb_gs_model.fit(X_train, y_train)\n",
    "\n",
    "predictions = xgb_gs_model.predict(X_test)\n",
    "\n",
    "model_report(xgb_gs_model)"
   ]
  },
  {
   "cell_type": "markdown",
   "metadata": {},
   "source": [
    "### AdaBoost"
   ]
  },
  {
   "cell_type": "code",
   "execution_count": 154,
   "metadata": {
    "ExecuteTime": {
     "end_time": "2020-03-04T00:37:28.932925Z",
     "start_time": "2020-03-04T00:36:38.482930Z"
    }
   },
   "outputs": [
    {
     "data": {
      "text/plain": [
       "AdaBoostClassifier(algorithm='SAMME.R', base_estimator=None, learning_rate=1.0,\n",
       "                   n_estimators=50, random_state=3)"
      ]
     },
     "execution_count": 154,
     "metadata": {},
     "output_type": "execute_result"
    }
   ],
   "source": [
    "#initialize and fit default model\n",
    "ada_model = AdaBoostClassifier(random_state=3)\n",
    "ada_model.fit(X_train, y_train)\n",
    "\n",
    "predictions = ada_model.predict(X_test)\n",
    "# actuals = y_test"
   ]
  },
  {
   "cell_type": "markdown",
   "metadata": {},
   "source": [
    "___\n",
    "__Default Model__"
   ]
  },
  {
   "cell_type": "code",
   "execution_count": 155,
   "metadata": {
    "ExecuteTime": {
     "end_time": "2020-03-04T00:37:58.850458Z",
     "start_time": "2020-03-04T00:37:28.936334Z"
    }
   },
   "outputs": [
    {
     "name": "stdout",
     "output_type": "stream",
     "text": [
      "\n",
      "Cross Validation Scoring:\n",
      "\n",
      "train score: 57.81%\n",
      "test score: 53.54%\n",
      "cross val score: 89.85%\n",
      "\n",
      "Classification Report:\n",
      "                   precision    recall  f1-score   support\n",
      "\n",
      "  dead_on_arrival       0.00      0.00      0.00        13\n",
      "       euthanized       0.04      0.22      0.07        27\n",
      "  return_to_owner       0.08      0.78      0.14       305\n",
      "   return_to_wild       0.93      0.96      0.95      1608\n",
      "special_caseother       0.13      0.43      0.20       149\n",
      "        trans_caa       0.96      0.41      0.58      5846\n",
      "\n",
      "         accuracy                           0.54      7948\n",
      "        macro avg       0.36      0.47      0.32      7948\n",
      "     weighted avg       0.90      0.54      0.62      7948\n",
      "\n",
      "\n",
      "Confusion matrix:\n"
     ]
    },
    {
     "data": {
      "text/html": [
       "<div>\n",
       "<style scoped>\n",
       "    .dataframe tbody tr th:only-of-type {\n",
       "        vertical-align: middle;\n",
       "    }\n",
       "\n",
       "    .dataframe tbody tr th {\n",
       "        vertical-align: top;\n",
       "    }\n",
       "\n",
       "    .dataframe thead th {\n",
       "        text-align: right;\n",
       "    }\n",
       "</style>\n",
       "<table border=\"1\" class=\"dataframe\">\n",
       "  <thead>\n",
       "    <tr style=\"text-align: right;\">\n",
       "      <th></th>\n",
       "      <th>pred doa</th>\n",
       "      <th>pred euth</th>\n",
       "      <th>pred spec_case</th>\n",
       "      <th>pred to owner</th>\n",
       "      <th>pred to wild</th>\n",
       "      <th>pred trans</th>\n",
       "    </tr>\n",
       "  </thead>\n",
       "  <tbody>\n",
       "    <tr>\n",
       "      <th>real doa</th>\n",
       "      <td>0</td>\n",
       "      <td>0</td>\n",
       "      <td>4</td>\n",
       "      <td>3</td>\n",
       "      <td>5</td>\n",
       "      <td>1</td>\n",
       "    </tr>\n",
       "    <tr>\n",
       "      <th>real euth</th>\n",
       "      <td>0</td>\n",
       "      <td>6</td>\n",
       "      <td>6</td>\n",
       "      <td>1</td>\n",
       "      <td>11</td>\n",
       "      <td>3</td>\n",
       "    </tr>\n",
       "    <tr>\n",
       "      <th>real spec_case</th>\n",
       "      <td>0</td>\n",
       "      <td>4</td>\n",
       "      <td>237</td>\n",
       "      <td>10</td>\n",
       "      <td>3</td>\n",
       "      <td>51</td>\n",
       "    </tr>\n",
       "    <tr>\n",
       "      <th>real to owner</th>\n",
       "      <td>7</td>\n",
       "      <td>27</td>\n",
       "      <td>2</td>\n",
       "      <td>1546</td>\n",
       "      <td>23</td>\n",
       "      <td>3</td>\n",
       "    </tr>\n",
       "    <tr>\n",
       "      <th>real to wild</th>\n",
       "      <td>3</td>\n",
       "      <td>4</td>\n",
       "      <td>15</td>\n",
       "      <td>16</td>\n",
       "      <td>64</td>\n",
       "      <td>47</td>\n",
       "    </tr>\n",
       "    <tr>\n",
       "      <th>real trans</th>\n",
       "      <td>15</td>\n",
       "      <td>109</td>\n",
       "      <td>2854</td>\n",
       "      <td>83</td>\n",
       "      <td>383</td>\n",
       "      <td>2402</td>\n",
       "    </tr>\n",
       "  </tbody>\n",
       "</table>\n",
       "</div>"
      ],
      "text/plain": [
       "                pred doa  pred euth  pred spec_case  pred to owner  \\\n",
       "real doa               0          0               4              3   \n",
       "real euth              0          6               6              1   \n",
       "real spec_case         0          4             237             10   \n",
       "real to owner          7         27               2           1546   \n",
       "real to wild           3          4              15             16   \n",
       "real trans            15        109            2854             83   \n",
       "\n",
       "                pred to wild  pred trans  \n",
       "real doa                   5           1  \n",
       "real euth                 11           3  \n",
       "real spec_case             3          51  \n",
       "real to owner             23           3  \n",
       "real to wild              64          47  \n",
       "real trans               383        2402  "
      ]
     },
     "metadata": {},
     "output_type": "display_data"
    }
   ],
   "source": [
    "model_report(ada_model)"
   ]
  },
  {
   "cell_type": "markdown",
   "metadata": {},
   "source": [
    "#### grid searching"
   ]
  },
  {
   "cell_type": "markdown",
   "metadata": {},
   "source": [
    "__Random Grid Search__"
   ]
  },
  {
   "cell_type": "code",
   "execution_count": 156,
   "metadata": {
    "ExecuteTime": {
     "end_time": "2020-03-04T00:37:58.860074Z",
     "start_time": "2020-03-04T00:37:58.854271Z"
    }
   },
   "outputs": [],
   "source": [
    "#set random search params\n",
    "learning_rate= [.00001,.001,.01,.1,1, 1.5]\n",
    "\n",
    "n_estimators = [1,5,10,50,100, 200]\n",
    "\n",
    "random_grid = {'learning_rate':learning_rate,\n",
    "               'n_estimators': n_estimators\n",
    "              }"
   ]
  },
  {
   "cell_type": "code",
   "execution_count": 158,
   "metadata": {
    "ExecuteTime": {
     "end_time": "2020-03-04T01:19:44.560757Z",
     "start_time": "2020-03-04T00:50:02.914857Z"
    }
   },
   "outputs": [
    {
     "name": "stdout",
     "output_type": "stream",
     "text": [
      "Fitting 3 folds for each of 10 candidates, totalling 30 fits\n"
     ]
    },
    {
     "name": "stderr",
     "output_type": "stream",
     "text": [
      "[Parallel(n_jobs=-1)]: Using backend LokyBackend with 4 concurrent workers.\n",
      "[Parallel(n_jobs=-1)]: Done  30 out of  30 | elapsed: 22.7min finished\n"
     ]
    },
    {
     "data": {
      "text/plain": [
       "RandomizedSearchCV(cv=3, error_score=nan,\n",
       "                   estimator=AdaBoostClassifier(algorithm='SAMME.R',\n",
       "                                                base_estimator=None,\n",
       "                                                learning_rate=1.0,\n",
       "                                                n_estimators=50,\n",
       "                                                random_state=3),\n",
       "                   iid='deprecated', n_iter=10, n_jobs=-1,\n",
       "                   param_distributions={'learning_rate': [1e-05, 0.001, 0.01,\n",
       "                                                          0.1, 1, 1.5],\n",
       "                                        'n_estimators': [1, 5, 10, 50, 100,\n",
       "                                                         200]},\n",
       "                   pre_dispatch='2*n_jobs', random_state=3, refit=True,\n",
       "                   return_train_score=False, scoring='recall_macro', verbose=2)"
      ]
     },
     "execution_count": 158,
     "metadata": {},
     "output_type": "execute_result"
    }
   ],
   "source": [
    "#random grid search\n",
    "ada_random = RandomizedSearchCV(estimator = ada_model\n",
    "                               , param_distributions = random_grid\n",
    "                               , n_iter = 10, cv = 3, verbose=2\n",
    "                               , scoring='recall_macro', random_state=3, n_jobs = -1)\n",
    "# Fit the random search model\n",
    "ada_random.fit(X_train, y_train)"
   ]
  },
  {
   "cell_type": "code",
   "execution_count": 159,
   "metadata": {
    "ExecuteTime": {
     "end_time": "2020-03-04T01:21:15.664784Z",
     "start_time": "2020-03-04T01:21:15.652101Z"
    }
   },
   "outputs": [
    {
     "data": {
      "text/plain": [
       "{'n_estimators': 200, 'learning_rate': 0.1}"
      ]
     },
     "execution_count": 159,
     "metadata": {},
     "output_type": "execute_result"
    }
   ],
   "source": [
    "ada_random.best_params_"
   ]
  },
  {
   "cell_type": "markdown",
   "metadata": {},
   "source": [
    "___\n",
    "__grid search__"
   ]
  },
  {
   "cell_type": "code",
   "execution_count": null,
   "metadata": {
    "ExecuteTime": {
     "start_time": "2020-03-04T01:23:46.321Z"
    }
   },
   "outputs": [
    {
     "name": "stdout",
     "output_type": "stream",
     "text": [
      "Fitting 5 folds for each of 9 candidates, totalling 45 fits\n"
     ]
    },
    {
     "name": "stderr",
     "output_type": "stream",
     "text": [
      "[Parallel(n_jobs=-1)]: Using backend LokyBackend with 4 concurrent workers.\n",
      "[Parallel(n_jobs=-1)]: Done   5 tasks      | elapsed: 11.1min\n",
      "[Parallel(n_jobs=-1)]: Done  10 tasks      | elapsed: 19.2min\n",
      "[Parallel(n_jobs=-1)]: Done  17 tasks      | elapsed: 28.5min\n",
      "[Parallel(n_jobs=-1)]: Done  24 tasks      | elapsed: 34.9min\n",
      "[Parallel(n_jobs=-1)]: Done  33 tasks      | elapsed: 55.6min\n",
      "[Parallel(n_jobs=-1)]: Done  43 out of  45 | elapsed: 82.9min remaining:  3.9min\n"
     ]
    }
   ],
   "source": [
    "#grid search params and fitting grid search\n",
    "param_grid_ada = [\n",
    "    {'n_estimators': [190,200,250],\n",
    "    'learning_rate': [0.09, 0.1, 0.11]}\n",
    "]\n",
    "\n",
    "# Construct Grid Search\n",
    "gs_ada = GridSearchCV(estimator=ada_model,\n",
    "                    param_grid=param_grid_ada,\n",
    "                    scoring='recall_macro',\n",
    "                    cv=5, n_jobs=-1, verbose=10)\n",
    "\n",
    "# Fit using grid search\n",
    "gs_ada.fit(X_train, y_train)\n",
    "\n",
    "# Best accuracy and parameters\n",
    "print('best recall: {:.4}%'.format(gs_ada.best_score_ * 100))\n",
    "print('params:\\n', gs_ada.best_params_)"
   ]
  },
  {
   "cell_type": "code",
   "execution_count": null,
   "metadata": {
    "ExecuteTime": {
     "end_time": "2020-03-03T18:49:12.396135Z",
     "start_time": "2020-03-03T06:32:55.305Z"
    }
   },
   "outputs": [],
   "source": [
    "# fit best params\n",
    "ada_gs_model = AdaBoostClassifier(n_estimators=100,\n",
    "                                   learning_rate=1.1)\n",
    "ada_gs_model.fit(X_train, y_train)\n",
    "\n",
    "predictions = ada_gs_model.predict(X_test)"
   ]
  },
  {
   "cell_type": "markdown",
   "metadata": {},
   "source": [
    "#### final model"
   ]
  },
  {
   "cell_type": "markdown",
   "metadata": {},
   "source": [
    "__best model__"
   ]
  },
  {
   "cell_type": "code",
   "execution_count": null,
   "metadata": {
    "ExecuteTime": {
     "end_time": "2020-03-03T18:49:12.398883Z",
     "start_time": "2020-03-03T06:32:55.345Z"
    }
   },
   "outputs": [],
   "source": [
    "model_report(ada_gs_model)"
   ]
  },
  {
   "cell_type": "markdown",
   "metadata": {},
   "source": [
    "### gradient boost"
   ]
  },
  {
   "cell_type": "code",
   "execution_count": null,
   "metadata": {
    "ExecuteTime": {
     "start_time": "2020-03-04T02:05:34.977Z"
    }
   },
   "outputs": [],
   "source": [
    "#initialize and fit gradient boost\n",
    "gbt_model = GradientBoostingClassifier(random_state=3)\n",
    "gbt_model.fit(X_train, y_train)\n",
    "\n",
    "predictions = gbt_model.predict(X_test)\n",
    "# actuals = y_test"
   ]
  },
  {
   "cell_type": "markdown",
   "metadata": {},
   "source": [
    "__default model__"
   ]
  },
  {
   "cell_type": "code",
   "execution_count": null,
   "metadata": {
    "ExecuteTime": {
     "start_time": "2020-03-04T02:05:35.593Z"
    }
   },
   "outputs": [],
   "source": [
    "#baseline model report\n",
    "model_report(gbt_model)"
   ]
  },
  {
   "cell_type": "markdown",
   "metadata": {},
   "source": [
    "__grid searching__"
   ]
  },
  {
   "cell_type": "markdown",
   "metadata": {},
   "source": [
    "__random grid search__"
   ]
  },
  {
   "cell_type": "code",
   "execution_count": null,
   "metadata": {
    "ExecuteTime": {
     "start_time": "2020-03-04T02:05:36.999Z"
    }
   },
   "outputs": [],
   "source": [
    "# setting parameters for random search\n",
    "learning_rate=[0.05,.1, .15]\n",
    "loss = ['deviance', 'exponential']\n",
    "max_depth = [None,2,3,4] \n",
    "n_estimators = [50,60,70]\n",
    "min_samples_split = [2,3,4]\n",
    "min_samples_leaf = [1,2,3]\n",
    "min_weight_fraction_leaf = [0,0.0001]\n",
    "\n",
    "random_grid = {'learning_rate':learning_rate,\n",
    "               'loss': loss,\n",
    "               'max_depth': max_depth,\n",
    "               'n_estimators': n_estimators,\n",
    "               'min_samples_split': min_samples_split,\n",
    "               'min_samples_leaf': min_samples_leaf,\n",
    "               'min_weight_fraction_leaf': min_weight_fraction_leaf\n",
    "               }\n",
    "\n",
    "#searching random params\n",
    "gbt_random = RandomizedSearchCV(estimator = gbt_model\n",
    "                               , param_distributions = random_grid\n",
    "                               , n_iter = 20, cv = 3, verbose=10\n",
    "                               , scoring='recall_macro', random_state=3, n_jobs = -1)\n",
    "# fit random search model\n",
    "gbt_random.fit(X_train, y_train)"
   ]
  },
  {
   "cell_type": "code",
   "execution_count": null,
   "metadata": {
    "ExecuteTime": {
     "start_time": "2020-03-04T02:05:40.935Z"
    }
   },
   "outputs": [],
   "source": [
    "print('best accuracy: {:.4}%'.format(gbt_random.best_score_ * 100));\n",
    "print(gbt)_random.best_params_)"
   ]
  },
  {
   "cell_type": "markdown",
   "metadata": {},
   "source": [
    "__grid search__"
   ]
  },
  {
   "cell_type": "code",
   "execution_count": null,
   "metadata": {
    "ExecuteTime": {
     "end_time": "2020-03-03T18:49:12.416172Z",
     "start_time": "2020-03-03T06:32:55.412Z"
    }
   },
   "outputs": [],
   "source": [
    "# grid search params and run search\n",
    "param_grid_gbt = [\n",
    "    {'n_estimators': [40,60,100,120],\n",
    "     'min_weight_fraction_leaf':[0.001, 0.01, 0.0001],\n",
    "    'learning_rate': [0.1, .001],\n",
    "    'min_samples_split': [2,3,4],\n",
    "    'min_samples_leaf': [2,3,5,6],\n",
    "    'max_depth': [2,3]\n",
    "    }\n",
    "]\n",
    "\n",
    "# grid search\n",
    "gs_gbt = GridSearchCV(estimator=gbt_model,\n",
    "                    param_grid=param_grid_gbt,\n",
    "                    scoring='recall_macro',\n",
    "                    cv=3, n_jobs=-1, verbose=10)\n",
    "\n",
    "# fit grid search\n",
    "gs_gbt.fit(X_train, y_train)\n",
    "\n",
    "# best params\n",
    "print('best accuracy: {:.4}%'.format(gs_gbt.best_score_ * 100))\n",
    "print('params:\\n', gs_gbt.best_params_)"
   ]
  },
  {
   "cell_type": "code",
   "execution_count": null,
   "metadata": {
    "ExecuteTime": {
     "end_time": "2020-03-03T18:49:12.421009Z",
     "start_time": "2020-03-03T06:32:55.418Z"
    }
   },
   "outputs": [],
   "source": [
    "# fitting best params\n",
    "gbt_gs_model = GradientBoostingClassifier(learning_rate=0.1,\n",
    "                                         max_depth=2,\n",
    "                                         min_samples_leaf=2,\n",
    "                                         min_samples_split=2,\n",
    "                                         min_weight_fraction_leaf=0.01,\n",
    "                                         n_estimators=60)\n",
    "gbt_gs_model.fit(X_train, y_train)\n",
    "\n",
    "predictions = gbt_gs_model.predict(X_test)"
   ]
  },
  {
   "cell_type": "markdown",
   "metadata": {},
   "source": [
    "#### final model"
   ]
  },
  {
   "cell_type": "markdown",
   "metadata": {},
   "source": [
    "__best model__"
   ]
  },
  {
   "cell_type": "code",
   "execution_count": null,
   "metadata": {
    "ExecuteTime": {
     "end_time": "2020-03-03T18:49:12.423805Z",
     "start_time": "2020-03-03T06:32:55.432Z"
    }
   },
   "outputs": [],
   "source": [
    "# new model report\n",
    "model_report(gbt_gs_model)"
   ]
  },
  {
   "cell_type": "markdown",
   "metadata": {},
   "source": [
    "### SVM"
   ]
  },
  {
   "cell_type": "code",
   "execution_count": null,
   "metadata": {
    "ExecuteTime": {
     "end_time": "2020-03-03T18:49:12.426557Z",
     "start_time": "2020-03-03T06:32:55.442Z"
    }
   },
   "outputs": [],
   "source": [
    "svm_model = svm.SVC(random_state=3)\n",
    "svm_model.fit(X_train, y_train)\n",
    "\n",
    "predictions = svm_model.predict(X_test)\n",
    "# actuals = y_test"
   ]
  },
  {
   "cell_type": "markdown",
   "metadata": {},
   "source": [
    "___\n",
    "__default model__"
   ]
  },
  {
   "cell_type": "code",
   "execution_count": null,
   "metadata": {
    "ExecuteTime": {
     "end_time": "2020-03-03T18:49:12.430059Z",
     "start_time": "2020-03-03T06:32:55.451Z"
    }
   },
   "outputs": [],
   "source": [
    "model_report(svm_model, cm=False)"
   ]
  },
  {
   "cell_type": "markdown",
   "metadata": {},
   "source": [
    "#### grid searching"
   ]
  },
  {
   "cell_type": "markdown",
   "metadata": {},
   "source": [
    "__random grid search__"
   ]
  },
  {
   "cell_type": "code",
   "execution_count": null,
   "metadata": {
    "ExecuteTime": {
     "end_time": "2020-03-03T18:49:12.436693Z",
     "start_time": "2020-03-03T06:32:55.462Z"
    }
   },
   "outputs": [],
   "source": [
    "# set random search params\n",
    "clf_C = [0.07,0.1,1.0, 1.03]\n",
    "clf_gamma = [0.005,0.001,0.01, 0.1]\n",
    "clf_kernel = ['rbf', 'linear']\n",
    "\n",
    "random_grid = {\n",
    "               'C': clf_C,\n",
    "               'gamma': clf_gamma,\n",
    "               'kernel': clf_kernel\n",
    "               }\n",
    "\n",
    "# fit and search random param combinations\n",
    "svm_random = RandomizedSearchCV(estimator = svm_model\n",
    "                               , param_distributions = random_grid\n",
    "                               , n_iter = 12 , cv = 3, verbose=10\n",
    "                               , scoring='recall_macro', random_state=3, n_jobs = -1)\n",
    "# Fit the random search model\n",
    "svm_random.fit(X_train, y_train)"
   ]
  },
  {
   "cell_type": "code",
   "execution_count": null,
   "metadata": {
    "ExecuteTime": {
     "end_time": "2020-03-03T18:49:12.440834Z",
     "start_time": "2020-03-03T06:32:55.470Z"
    }
   },
   "outputs": [],
   "source": [
    "print('best accuracy: {:.4}%'.format(svm_random.best_score_ * 100));\n",
    "print(svm_random.best_params_)"
   ]
  },
  {
   "cell_type": "markdown",
   "metadata": {},
   "source": [
    "___\n",
    "__grid search__"
   ]
  },
  {
   "cell_type": "code",
   "execution_count": null,
   "metadata": {
    "ExecuteTime": {
     "end_time": "2020-03-03T18:49:12.444122Z",
     "start_time": "2020-03-03T06:32:55.477Z"
    }
   },
   "outputs": [],
   "source": [
    "# Set grid search params\n",
    "param_grid_svm = [\n",
    " \n",
    "  {'C': [1.0, 1.01, 1.03], 'gamma': [0.008, 0.01, 0.012]\n",
    "   , 'kernel': ['rbf', 'linear']\n",
    "  }]\n",
    " \n",
    "\n",
    "# Construct grid search\n",
    "gs_svm = GridSearchCV(estimator=svm_model,\n",
    "            param_grid=param_grid_svm,scoring='recall_macro',\n",
    "            cv=5, verbose=10, return_train_score = True)\n",
    "\n",
    "# Fit using grid search\n",
    "gs_svm.fit(X_train, y_train)\n",
    "\n",
    "# Best accuracy\n",
    "print('best score: {:.4}%'.format(gs_svm.best_score_ * 100));\n",
    "print('\\nBest params:\\n', gs_svm.best_params_)"
   ]
  },
  {
   "cell_type": "code",
   "execution_count": null,
   "metadata": {
    "ExecuteTime": {
     "end_time": "2020-03-03T18:49:12.446560Z",
     "start_time": "2020-03-03T06:32:55.484Z"
    }
   },
   "outputs": [],
   "source": [
    "svm_gs_model = svm.SVC(C=1.03\n",
    "                       ,gamma=0.008\n",
    "                        ,kernel='rbf'\n",
    "                             )\n",
    "svm_gs_model.fit(X_train, y_train)\n",
    "\n",
    "predictions = svm_gs_model.predict(X_test)"
   ]
  },
  {
   "cell_type": "markdown",
   "metadata": {},
   "source": [
    "#### final model"
   ]
  },
  {
   "cell_type": "markdown",
   "metadata": {},
   "source": [
    "__best model__"
   ]
  },
  {
   "cell_type": "code",
   "execution_count": null,
   "metadata": {
    "ExecuteTime": {
     "end_time": "2020-03-03T18:49:12.449281Z",
     "start_time": "2020-03-03T06:32:55.558Z"
    }
   },
   "outputs": [],
   "source": [
    "model_report(svm_gs_model, cm=False)"
   ]
  }
 ],
 "metadata": {
  "hide_input": false,
  "kernelspec": {
   "display_name": "Python 3",
   "language": "python",
   "name": "python3"
  },
  "language_info": {
   "codemirror_mode": {
    "name": "ipython",
    "version": 3
   },
   "file_extension": ".py",
   "mimetype": "text/x-python",
   "name": "python",
   "nbconvert_exporter": "python",
   "pygments_lexer": "ipython3",
   "version": "3.7.3"
  },
  "toc": {
   "base_numbering": 1,
   "nav_menu": {},
   "number_sections": true,
   "sideBar": true,
   "skip_h1_title": false,
   "title_cell": "Table of Contents",
   "title_sidebar": "Contents",
   "toc_cell": false,
   "toc_position": {
    "height": "calc(100% - 180px)",
    "left": "10px",
    "top": "150px",
    "width": "165px"
   },
   "toc_section_display": true,
   "toc_window_display": true
  }
 },
 "nbformat": 4,
 "nbformat_minor": 2
}
