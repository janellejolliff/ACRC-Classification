{
 "cells": [
  {
   "cell_type": "markdown",
   "metadata": {},
   "source": [
    "## import libraries, packages, data"
   ]
  },
  {
   "cell_type": "markdown",
   "metadata": {},
   "source": [
    "### libraries, packages"
   ]
  },
  {
   "cell_type": "code",
   "execution_count": 1,
   "metadata": {
    "ExecuteTime": {
     "end_time": "2020-03-04T10:15:02.734162Z",
     "start_time": "2020-03-04T10:14:53.912327Z"
    },
    "code_folding": []
   },
   "outputs": [
    {
     "name": "stderr",
     "output_type": "stream",
     "text": [
      "Using TensorFlow backend.\n"
     ]
    }
   ],
   "source": [
    "#importing libraries & packages\n",
    "import pandas as pd\n",
    "import numpy as np\n",
    "import warnings\n",
    "warnings.filterwarnings('ignore')\n",
    "import matplotlib.pyplot as plt\n",
    "#display multiple outputs from cell \n",
    "from IPython.core.interactiveshell import InteractiveShell\n",
    "InteractiveShell.ast_node_interactivity = \"all\"\n",
    "\n",
    "# machine learning\n",
    "import sklearn\n",
    "from sklearn.model_selection import train_test_split, GridSearchCV, cross_val_score, RandomizedSearchCV\n",
    "from sklearn.ensemble import RandomForestClassifier, AdaBoostClassifier, ExtraTreesClassifier, GradientBoostingClassifier\n",
    "from sklearn.pipeline import Pipeline, make_pipeline\n",
    "from sklearn.metrics import confusion_matrix, precision_score, recall_score, accuracy_score, f1_score, classification_report\n",
    "from sklearn.linear_model import LogisticRegression\n",
    "from sklearn.utils import resample\n",
    "from imblearn.over_sampling import ADASYN, SMOTE\n",
    "from sklearn.feature_selection import SelectKBest, chi2\n",
    "from sklearn import svm\n",
    "from imblearn.over_sampling import SMOTE\n",
    "from imblearn.under_sampling import RandomUnderSampler\n",
    "from imblearn.pipeline import Pipeline\n",
    "from xgboost import XGBClassifier\n",
    "from sklearn.tree import DecisionTreeClassifier\n",
    "import matplotlib.pyplot as plt\n",
    "from sklearn.metrics import plot_confusion_matrix"
   ]
  },
  {
   "cell_type": "markdown",
   "metadata": {},
   "source": [
    "### import clean data from part 1"
   ]
  },
  {
   "cell_type": "code",
   "execution_count": 2,
   "metadata": {
    "ExecuteTime": {
     "end_time": "2020-03-04T10:15:03.722013Z",
     "start_time": "2020-03-04T10:15:02.737988Z"
    }
   },
   "outputs": [],
   "source": [
    "# import Animal Control Incidents df\n",
    "df = pd.read_csv('a_control.csv')"
   ]
  },
  {
   "cell_type": "code",
   "execution_count": 3,
   "metadata": {
    "ExecuteTime": {
     "end_time": "2020-03-04T10:15:03.738368Z",
     "start_time": "2020-03-04T10:15:03.726855Z"
    }
   },
   "outputs": [
    {
     "data": {
      "text/plain": [
       "Index(['incident_date', 'incident_time', 'dispatched_time', 'call_taker',\n",
       "       'dispatcher', 'dispatched_other', 'dispatched_situation',\n",
       "       'arrival_time', 'available_time', 'complainant_street', 'officer',\n",
       "       'equipment_number', 'impound_date', 'impound_time', 'location',\n",
       "       'municipality', 'zip_code', 'species', 'breed', 'sex', 'size', 'color',\n",
       "       'condition', 'temperment', 'disposition', 'disposition_date',\n",
       "       'disposition_officer', 'service_type', 'inc_dt', 'imp_dt', 'weekday',\n",
       "       'month'],\n",
       "      dtype='object')"
      ]
     },
     "execution_count": 3,
     "metadata": {},
     "output_type": "execute_result"
    }
   ],
   "source": [
    "df.columns"
   ]
  },
  {
   "cell_type": "code",
   "execution_count": 4,
   "metadata": {
    "ExecuteTime": {
     "end_time": "2020-03-04T10:15:03.951453Z",
     "start_time": "2020-03-04T10:15:03.743629Z"
    }
   },
   "outputs": [],
   "source": [
    "for col in ('month', 'weekday'):\n",
    "    df[col] = df[col].astype(str)"
   ]
  },
  {
   "cell_type": "code",
   "execution_count": 5,
   "metadata": {
    "ExecuteTime": {
     "end_time": "2020-03-04T10:15:04.255081Z",
     "start_time": "2020-03-04T10:15:03.955150Z"
    }
   },
   "outputs": [],
   "source": [
    "df = df[['breed', 'size', 'color', 'month', 'species','municipality'\n",
    "         , 'service_type', 'disposition']]"
   ]
  },
  {
   "cell_type": "code",
   "execution_count": 6,
   "metadata": {
    "ExecuteTime": {
     "end_time": "2020-03-04T10:15:04.706709Z",
     "start_time": "2020-03-04T10:15:04.258527Z"
    }
   },
   "outputs": [
    {
     "data": {
      "text/plain": [
       "39738"
      ]
     },
     "execution_count": 6,
     "metadata": {},
     "output_type": "execute_result"
    }
   ],
   "source": [
    "df.dropna(axis=0, inplace=True)\n",
    "\n",
    "len(df)\n",
    "\n",
    "# # assign target\n",
    "y = df[\"disposition\"]\n",
    "\n",
    "#remove target from features\n",
    "df.drop(columns= ['disposition'], axis=1, inplace=True)\n",
    "\n",
    "# dummy categorical features\n",
    "#col_list = list(df.select_dtypes(include=['object']).columns)\n",
    "col_list = list(df.columns)\n",
    "\n",
    "# create dummies for categorical features, assign to X\n",
    "df = pd.DataFrame(pd.get_dummies(data=df, drop_first=True\n",
    "                   , prefix=col_list))\n",
    "X = df\n"
   ]
  },
  {
   "cell_type": "code",
   "execution_count": 7,
   "metadata": {
    "ExecuteTime": {
     "end_time": "2020-03-04T10:15:04.894866Z",
     "start_time": "2020-03-04T10:15:04.710393Z"
    }
   },
   "outputs": [],
   "source": [
    "\n",
    "# X_train_d and y_train_d = using original standard test train spit dad\n",
    "# that way, I can try out different resampling methods\n",
    "X_train, X_test, y_train, y_test = train_test_split(X, y, test_size=0.2, shuffle=True, stratify=y, random_state=3)"
   ]
  },
  {
   "cell_type": "markdown",
   "metadata": {},
   "source": [
    "### functions"
   ]
  },
  {
   "cell_type": "code",
   "execution_count": 8,
   "metadata": {
    "ExecuteTime": {
     "end_time": "2020-03-04T10:15:04.920978Z",
     "start_time": "2020-03-04T10:15:04.905490Z"
    },
    "code_folding": []
   },
   "outputs": [],
   "source": [
    "# print model report\n",
    "def model_report(model, cm = True): \n",
    "    \n",
    "    print('\\nCross Validation Scoring:\\n')\n",
    "    \n",
    "    train_score = model.score(X_train, y_train)\n",
    "    print(\"train score: {:.4}%\".format(train_score * 100))\n",
    "\n",
    "    test_score = model.score(X_test, y_test)\n",
    "    print(\"test score: {:.4}%\".format(test_score * 100))\n",
    "    \n",
    "    if cm :\n",
    "\n",
    "        cv_score = np.mean(cross_val_score(model, X, y, cv=3))\n",
    "        print(\"cross val score: {:.4}%\".format(cv_score * 100))\n",
    "\n",
    "        print(\"\\nClassification Report:\")\n",
    "        print(classification_report(actuals, predictions))\n",
    "\n",
    "#         col_list = []\n",
    "#         ind_list = []                     \n",
    "#         for x in y_test.unique():\n",
    "#             col_list.append('pred_'+ x)\n",
    "#             ind_list.append('real_'+x)\n",
    "\n",
    "\n",
    "        print('\\nConfusion matrix:'.format(accuracy_score))\n",
    "        display(pd.DataFrame(confusion_matrix(y_test, predictions)\n",
    "                             #, columns=col_list, index=ind_list))\n",
    "                ,columns=['pred doa','pred euth','pred spec_case', 'pred to owner','pred to wild', 'pred trans']\n",
    "              , index=['real doa', 'real euth','real spec_case', 'real to owner', 'real to wild', 'real trans']))\n",
    "\n",
    "    else:\n",
    "        pass"
   ]
  },
  {
   "cell_type": "code",
   "execution_count": 9,
   "metadata": {
    "ExecuteTime": {
     "end_time": "2020-03-04T10:15:04.937737Z",
     "start_time": "2020-03-04T10:15:04.929701Z"
    }
   },
   "outputs": [],
   "source": [
    "def plot_matrix(classifier):\n",
    "\n",
    "    disp = plot_confusion_matrix(classifier, X_test, y_test,\n",
    "    #                                  display_labels=class_names,\n",
    "                                     cmap=plt.cm.Blues,\n",
    "                                     normalize='true'\n",
    "                                )\n",
    "\n",
    "\n",
    "# def plot_matrix(model):\n",
    "\n",
    "#     class_names = ['dead on arrival', 'euthanized', 'special case/other'\n",
    "#                    , 'returned to owner', 'returned to wild', 'tranferred to CAA']\n",
    "\n",
    "#     fig, ax = plot_confusion_matrix(model\n",
    "# #                                     colorbar=True,\n",
    "# #                                     show_absolute=False,\n",
    "# #                                     show_normed=True,\n",
    "# #                                     class_names=class_names\n",
    "#                                    )\n",
    "#     plt.show()"
   ]
  },
  {
   "cell_type": "markdown",
   "metadata": {},
   "source": [
    "## feature importance according to chi2 and xtra trees"
   ]
  },
  {
   "cell_type": "code",
   "execution_count": null,
   "metadata": {},
   "outputs": [],
   "source": []
  },
  {
   "cell_type": "markdown",
   "metadata": {},
   "source": [
    "## prep data"
   ]
  },
  {
   "cell_type": "markdown",
   "metadata": {},
   "source": [
    "### resampling"
   ]
  },
  {
   "cell_type": "markdown",
   "metadata": {},
   "source": [
    "Due to the imbalance of class data, it could be beneficial to resample to compensate for the missing data. Using smote to oversample, then random undersampling is a common practice in these circumstances\n",
    "\n"
   ]
  },
  {
   "cell_type": "code",
   "execution_count": 10,
   "metadata": {
    "ExecuteTime": {
     "end_time": "2020-03-04T10:16:00.304348Z",
     "start_time": "2020-03-04T10:15:04.941066Z"
    }
   },
   "outputs": [],
   "source": [
    "over = SMOTE(\n",
    "   sampling_strategy='not majority'\n",
    "    , random_state=3)\n",
    "under = RandomUnderSampler(\n",
    "    sampling_strategy='not minority',\n",
    "    random_state=3)\n",
    "steps = [\n",
    "    ('o', over),\n",
    "     ('u', under)\n",
    "]\n",
    "pipeline = Pipeline(steps=steps)\n",
    "# # transform the dataset\n",
    "X_train, y_train = pipeline.fit_resample(X_train, y_train)"
   ]
  },
  {
   "cell_type": "code",
   "execution_count": 11,
   "metadata": {
    "ExecuteTime": {
     "end_time": "2020-03-04T10:16:00.440657Z",
     "start_time": "2020-03-04T10:16:00.307387Z"
    }
   },
   "outputs": [
    {
     "name": "stdout",
     "output_type": "stream",
     "text": [
      "return_to_wild       23385\n",
      "return_to_owner      23385\n",
      "trans_caa            23385\n",
      "dead_on_arrival      23385\n",
      "special_caseother    23385\n",
      "euthanized           23385\n",
      "Name: disposition, dtype: int64\n"
     ]
    }
   ],
   "source": [
    "print (y_train.value_counts())"
   ]
  },
  {
   "cell_type": "markdown",
   "metadata": {},
   "source": [
    "## __modeling__"
   ]
  },
  {
   "cell_type": "markdown",
   "metadata": {},
   "source": [
    "The most challenging obstacle I anticipate is overfitting, and poor recall for the minority groups. "
   ]
  },
  {
   "cell_type": "markdown",
   "metadata": {},
   "source": [
    "__basic base model__"
   ]
  },
  {
   "cell_type": "code",
   "execution_count": 12,
   "metadata": {
    "ExecuteTime": {
     "end_time": "2020-03-04T10:17:21.804065Z",
     "start_time": "2020-03-04T10:16:00.447483Z"
    },
    "scrolled": false
   },
   "outputs": [
    {
     "data": {
      "text/plain": [
       "LogisticRegression(C=1.0, class_weight=None, dual=False, fit_intercept=True,\n",
       "                   intercept_scaling=1, l1_ratio=None, max_iter=100,\n",
       "                   multi_class='auto', n_jobs=None, penalty='l2',\n",
       "                   random_state=3, solver='lbfgs', tol=0.0001, verbose=0,\n",
       "                   warm_start=False)"
      ]
     },
     "execution_count": 12,
     "metadata": {},
     "output_type": "execute_result"
    },
    {
     "name": "stdout",
     "output_type": "stream",
     "text": [
      "\n",
      "Cross Validation Scoring:\n",
      "\n",
      "train score: 66.32%\n",
      "test score: 90.99%\n",
      "cross val score: 92.51%\n",
      "\n",
      "Classification Report:\n",
      "                   precision    recall  f1-score   support\n",
      "\n",
      "  dead_on_arrival       0.00      0.00      0.00        13\n",
      "       euthanized       0.00      0.00      0.00        27\n",
      "  return_to_owner       0.00      0.00      0.00       305\n",
      "   return_to_wild       0.84      1.00      0.91      1608\n",
      "special_caseother       0.00      0.00      0.00       149\n",
      "        trans_caa       0.93      0.96      0.95      5846\n",
      "\n",
      "         accuracy                           0.91      7948\n",
      "        macro avg       0.30      0.33      0.31      7948\n",
      "     weighted avg       0.86      0.91      0.88      7948\n",
      "\n",
      "\n",
      "Confusion matrix:\n"
     ]
    },
    {
     "data": {
      "text/html": [
       "<div>\n",
       "<style scoped>\n",
       "    .dataframe tbody tr th:only-of-type {\n",
       "        vertical-align: middle;\n",
       "    }\n",
       "\n",
       "    .dataframe tbody tr th {\n",
       "        vertical-align: top;\n",
       "    }\n",
       "\n",
       "    .dataframe thead th {\n",
       "        text-align: right;\n",
       "    }\n",
       "</style>\n",
       "<table border=\"1\" class=\"dataframe\">\n",
       "  <thead>\n",
       "    <tr style=\"text-align: right;\">\n",
       "      <th></th>\n",
       "      <th>pred doa</th>\n",
       "      <th>pred euth</th>\n",
       "      <th>pred spec_case</th>\n",
       "      <th>pred to owner</th>\n",
       "      <th>pred to wild</th>\n",
       "      <th>pred trans</th>\n",
       "    </tr>\n",
       "  </thead>\n",
       "  <tbody>\n",
       "    <tr>\n",
       "      <th>real doa</th>\n",
       "      <td>0</td>\n",
       "      <td>0</td>\n",
       "      <td>0</td>\n",
       "      <td>4</td>\n",
       "      <td>0</td>\n",
       "      <td>9</td>\n",
       "    </tr>\n",
       "    <tr>\n",
       "      <th>real euth</th>\n",
       "      <td>0</td>\n",
       "      <td>0</td>\n",
       "      <td>0</td>\n",
       "      <td>9</td>\n",
       "      <td>0</td>\n",
       "      <td>18</td>\n",
       "    </tr>\n",
       "    <tr>\n",
       "      <th>real spec_case</th>\n",
       "      <td>0</td>\n",
       "      <td>0</td>\n",
       "      <td>0</td>\n",
       "      <td>17</td>\n",
       "      <td>0</td>\n",
       "      <td>288</td>\n",
       "    </tr>\n",
       "    <tr>\n",
       "      <th>real to owner</th>\n",
       "      <td>0</td>\n",
       "      <td>0</td>\n",
       "      <td>0</td>\n",
       "      <td>1602</td>\n",
       "      <td>0</td>\n",
       "      <td>6</td>\n",
       "    </tr>\n",
       "    <tr>\n",
       "      <th>real to wild</th>\n",
       "      <td>0</td>\n",
       "      <td>0</td>\n",
       "      <td>0</td>\n",
       "      <td>61</td>\n",
       "      <td>0</td>\n",
       "      <td>88</td>\n",
       "    </tr>\n",
       "    <tr>\n",
       "      <th>real trans</th>\n",
       "      <td>0</td>\n",
       "      <td>0</td>\n",
       "      <td>0</td>\n",
       "      <td>216</td>\n",
       "      <td>0</td>\n",
       "      <td>5630</td>\n",
       "    </tr>\n",
       "  </tbody>\n",
       "</table>\n",
       "</div>"
      ],
      "text/plain": [
       "                pred doa  pred euth  pred spec_case  pred to owner  \\\n",
       "real doa               0          0               0              4   \n",
       "real euth              0          0               0              9   \n",
       "real spec_case         0          0               0             17   \n",
       "real to owner          0          0               0           1602   \n",
       "real to wild           0          0               0             61   \n",
       "real trans             0          0               0            216   \n",
       "\n",
       "                pred to wild  pred trans  \n",
       "real doa                   0           9  \n",
       "real euth                  0          18  \n",
       "real spec_case             0         288  \n",
       "real to owner              0           6  \n",
       "real to wild               0          88  \n",
       "real trans                 0        5630  "
      ]
     },
     "metadata": {},
     "output_type": "display_data"
    }
   ],
   "source": [
    "lr = LogisticRegression(random_state=3)\n",
    "lr.fit(X_train, y_train)\n",
    " \n",
    "# Predict on training set\n",
    "predictions = lr.predict(X_test)\n",
    "actuals = y_test\n",
    "\n",
    "model_report(lr)"
   ]
  },
  {
   "cell_type": "markdown",
   "metadata": {},
   "source": [
    "### decision tree"
   ]
  },
  {
   "cell_type": "markdown",
   "metadata": {},
   "source": [
    "default model"
   ]
  },
  {
   "cell_type": "code",
   "execution_count": 13,
   "metadata": {
    "ExecuteTime": {
     "end_time": "2020-03-04T10:17:50.682855Z",
     "start_time": "2020-03-04T10:17:21.807354Z"
    }
   },
   "outputs": [
    {
     "data": {
      "text/plain": [
       "DecisionTreeClassifier(ccp_alpha=0.0, class_weight=None, criterion='gini',\n",
       "                       max_depth=None, max_features=None, max_leaf_nodes=None,\n",
       "                       min_impurity_decrease=0.0, min_impurity_split=None,\n",
       "                       min_samples_leaf=1, min_samples_split=2,\n",
       "                       min_weight_fraction_leaf=0.0, presort='deprecated',\n",
       "                       random_state=3, splitter='best')"
      ]
     },
     "execution_count": 13,
     "metadata": {},
     "output_type": "execute_result"
    },
    {
     "name": "stdout",
     "output_type": "stream",
     "text": [
      "\n",
      "Cross Validation Scoring:\n",
      "\n",
      "train score: 98.52%\n",
      "test score: 86.7%\n",
      "cross val score: 88.68%\n",
      "\n",
      "Classification Report:\n",
      "                   precision    recall  f1-score   support\n",
      "\n",
      "  dead_on_arrival       0.00      0.00      0.00        13\n",
      "       euthanized       0.04      0.07      0.05        27\n",
      "  return_to_owner       0.12      0.15      0.13       305\n",
      "   return_to_wild       0.91      0.96      0.94      1608\n",
      "special_caseother       0.29      0.38      0.33       149\n",
      "        trans_caa       0.93      0.90      0.91      5846\n",
      "\n",
      "         accuracy                           0.87      7948\n",
      "        macro avg       0.38      0.41      0.39      7948\n",
      "     weighted avg       0.88      0.87      0.87      7948\n",
      "\n",
      "\n",
      "Confusion matrix:\n"
     ]
    },
    {
     "data": {
      "text/html": [
       "<div>\n",
       "<style scoped>\n",
       "    .dataframe tbody tr th:only-of-type {\n",
       "        vertical-align: middle;\n",
       "    }\n",
       "\n",
       "    .dataframe tbody tr th {\n",
       "        vertical-align: top;\n",
       "    }\n",
       "\n",
       "    .dataframe thead th {\n",
       "        text-align: right;\n",
       "    }\n",
       "</style>\n",
       "<table border=\"1\" class=\"dataframe\">\n",
       "  <thead>\n",
       "    <tr style=\"text-align: right;\">\n",
       "      <th></th>\n",
       "      <th>pred doa</th>\n",
       "      <th>pred euth</th>\n",
       "      <th>pred spec_case</th>\n",
       "      <th>pred to owner</th>\n",
       "      <th>pred to wild</th>\n",
       "      <th>pred trans</th>\n",
       "    </tr>\n",
       "  </thead>\n",
       "  <tbody>\n",
       "    <tr>\n",
       "      <th>real doa</th>\n",
       "      <td>0</td>\n",
       "      <td>1</td>\n",
       "      <td>0</td>\n",
       "      <td>3</td>\n",
       "      <td>0</td>\n",
       "      <td>9</td>\n",
       "    </tr>\n",
       "    <tr>\n",
       "      <th>real euth</th>\n",
       "      <td>2</td>\n",
       "      <td>2</td>\n",
       "      <td>1</td>\n",
       "      <td>2</td>\n",
       "      <td>1</td>\n",
       "      <td>19</td>\n",
       "    </tr>\n",
       "    <tr>\n",
       "      <th>real spec_case</th>\n",
       "      <td>0</td>\n",
       "      <td>0</td>\n",
       "      <td>45</td>\n",
       "      <td>17</td>\n",
       "      <td>4</td>\n",
       "      <td>239</td>\n",
       "    </tr>\n",
       "    <tr>\n",
       "      <th>real to owner</th>\n",
       "      <td>5</td>\n",
       "      <td>7</td>\n",
       "      <td>9</td>\n",
       "      <td>1542</td>\n",
       "      <td>11</td>\n",
       "      <td>34</td>\n",
       "    </tr>\n",
       "    <tr>\n",
       "      <th>real to wild</th>\n",
       "      <td>1</td>\n",
       "      <td>1</td>\n",
       "      <td>3</td>\n",
       "      <td>11</td>\n",
       "      <td>56</td>\n",
       "      <td>77</td>\n",
       "    </tr>\n",
       "    <tr>\n",
       "      <th>real trans</th>\n",
       "      <td>12</td>\n",
       "      <td>35</td>\n",
       "      <td>318</td>\n",
       "      <td>114</td>\n",
       "      <td>121</td>\n",
       "      <td>5246</td>\n",
       "    </tr>\n",
       "  </tbody>\n",
       "</table>\n",
       "</div>"
      ],
      "text/plain": [
       "                pred doa  pred euth  pred spec_case  pred to owner  \\\n",
       "real doa               0          1               0              3   \n",
       "real euth              2          2               1              2   \n",
       "real spec_case         0          0              45             17   \n",
       "real to owner          5          7               9           1542   \n",
       "real to wild           1          1               3             11   \n",
       "real trans            12         35             318            114   \n",
       "\n",
       "                pred to wild  pred trans  \n",
       "real doa                   0           9  \n",
       "real euth                  1          19  \n",
       "real spec_case             4         239  \n",
       "real to owner             11          34  \n",
       "real to wild              56          77  \n",
       "real trans               121        5246  "
      ]
     },
     "metadata": {},
     "output_type": "display_data"
    }
   ],
   "source": [
    "# initialize and fit default decision tree\n",
    "dt_model = DecisionTreeClassifier(random_state=3)\n",
    "dt_model.fit(X_train, y_train)\n",
    "predictions = dt_model.predict(X_test)\n",
    "#actuals = y_test\n",
    "\n",
    "model_report(dt_model)"
   ]
  },
  {
   "cell_type": "markdown",
   "metadata": {},
   "source": [
    "#### grid searching"
   ]
  },
  {
   "cell_type": "code",
   "execution_count": 14,
   "metadata": {
    "ExecuteTime": {
     "end_time": "2020-03-04T10:20:47.426544Z",
     "start_time": "2020-03-04T10:17:50.686124Z"
    }
   },
   "outputs": [
    {
     "name": "stdout",
     "output_type": "stream",
     "text": [
      "Fitting 3 folds for each of 50 candidates, totalling 150 fits\n"
     ]
    },
    {
     "name": "stderr",
     "output_type": "stream",
     "text": [
      "[Parallel(n_jobs=-1)]: Using backend LokyBackend with 4 concurrent workers.\n",
      "[Parallel(n_jobs=-1)]: Done  24 tasks      | elapsed:   49.3s\n",
      "[Parallel(n_jobs=-1)]: Done 120 tasks      | elapsed:  2.5min\n",
      "[Parallel(n_jobs=-1)]: Done 150 out of 150 | elapsed:  2.9min finished\n"
     ]
    },
    {
     "name": "stdout",
     "output_type": "stream",
     "text": [
      "best score: 94.51%\n",
      "{'min_samples_split': 5, 'min_samples_leaf': 2, 'max_leaf_nodes': None, 'max_features': 55, 'max_depth': 100, 'criterion': 'entropy'}\n"
     ]
    }
   ],
   "source": [
    "# set random search params\n",
    "criterion=['gini','entropy']\n",
    "max_leaf_nodes = [None]\n",
    "max_features = [45,50,55]\n",
    "max_depth = [60,80,100]\n",
    "min_samples_split = [2,3,5]\n",
    "min_samples_leaf = [2]\n",
    "bootstrap = [True, False]\n",
    "\n",
    "random_grid = {'criterion':criterion,\n",
    "               'max_leaf_nodes': max_leaf_nodes,\n",
    "               'max_features': max_features,\n",
    "               'max_depth': max_depth,\n",
    "               'min_samples_split': min_samples_split,\n",
    "               'min_samples_leaf': min_samples_leaf\n",
    "               }\n",
    "\n",
    "# random grid search\n",
    "dt_random = RandomizedSearchCV(estimator = dt_model\n",
    "                               , param_distributions = random_grid\n",
    "                               , n_iter = 50, cv = 3, verbose=3, error_score=0\n",
    "                               , scoring=('recall_macro')\n",
    "                               , random_state=3, n_jobs = -1)\n",
    "# fit random search model\n",
    "dt_random.fit(X_train, y_train);\n",
    "\n",
    "print('best score: {:.4}%'.format(dt_random.best_score_ * 100));\n",
    "print(dt_random.best_params_);"
   ]
  },
  {
   "cell_type": "markdown",
   "metadata": {},
   "source": [
    "__grid search__"
   ]
  },
  {
   "cell_type": "code",
   "execution_count": 15,
   "metadata": {
    "ExecuteTime": {
     "end_time": "2020-03-04T10:23:30.319292Z",
     "start_time": "2020-03-04T10:20:47.433266Z"
    }
   },
   "outputs": [
    {
     "name": "stdout",
     "output_type": "stream",
     "text": [
      "Fitting 3 folds for each of 60 candidates, totalling 180 fits\n"
     ]
    },
    {
     "name": "stderr",
     "output_type": "stream",
     "text": [
      "[Parallel(n_jobs=-1)]: Using backend LokyBackend with 4 concurrent workers.\n",
      "[Parallel(n_jobs=-1)]: Done  33 tasks      | elapsed:   35.6s\n",
      "[Parallel(n_jobs=-1)]: Done 154 tasks      | elapsed:  2.3min\n",
      "[Parallel(n_jobs=-1)]: Done 180 out of 180 | elapsed:  2.7min finished\n"
     ]
    },
    {
     "name": "stdout",
     "output_type": "stream",
     "text": [
      "Best score: 94.6%\n",
      "params:\n",
      " {'criterion': 'entropy', 'max_depth': 100, 'max_features': 60, 'max_leaf_nodes': None, 'min_samples_leaf': 2, 'min_samples_split': 2}\n"
     ]
    }
   ],
   "source": [
    "# grid search params\n",
    "param_grid_dt = {'criterion': ['gini', 'entropy'],\n",
    "    'max_depth': [75,100,110],\n",
    "    'min_samples_split': [2,3],\n",
    "    'min_samples_leaf': [2],\n",
    "     'max_features':['auto','sqrt',45,50,60],\n",
    "     'max_leaf_nodes':[None]\n",
    "        }\n",
    "\n",
    "# grid search\n",
    "gs_dt = GridSearchCV(estimator=dt_model,\n",
    "                    param_grid=param_grid_dt,\n",
    "                     error_score=0,\n",
    "                    scoring=('recall_macro'),\n",
    "                    cv=3, n_jobs=-1, verbose=2)\n",
    "\n",
    "# fitting grid search\n",
    "gs_dt.fit(X_train, y_train);\n",
    "\n",
    "# best parameters\n",
    "print('Best score: {:.3}%'.format(gs_dt.best_score_ * 100));\n",
    "print('params:\\n', gs_dt.best_params_);"
   ]
  },
  {
   "cell_type": "code",
   "execution_count": 16,
   "metadata": {
    "ExecuteTime": {
     "end_time": "2020-03-04T10:23:31.667211Z",
     "start_time": "2020-03-04T10:23:30.322778Z"
    }
   },
   "outputs": [
    {
     "data": {
      "text/plain": [
       "DecisionTreeClassifier(ccp_alpha=0.0, class_weight=None, criterion='gini',\n",
       "                       max_depth=70, max_features='sqrt', max_leaf_nodes=None,\n",
       "                       min_impurity_decrease=0.0, min_impurity_split=None,\n",
       "                       min_samples_leaf=1, min_samples_split=2,\n",
       "                       min_weight_fraction_leaf=0.0, presort='deprecated',\n",
       "                       random_state=None, splitter='best')"
      ]
     },
     "execution_count": 16,
     "metadata": {},
     "output_type": "execute_result"
    }
   ],
   "source": [
    "# using best params to fit model\n",
    "dt_gs_model = DecisionTreeClassifier(criterion='gini',\n",
    "                              max_depth=70,\n",
    "                              max_features='sqrt',\n",
    "                              max_leaf_nodes= None,\n",
    "                               min_samples_leaf=1,\n",
    "                               min_samples_split=2\n",
    "                                \n",
    "                                    )\n",
    "dt_gs_model.fit(X_train, y_train)\n",
    "\n",
    "predictions = dt_gs_model.predict(X_test)\n",
    "actuals = y_test"
   ]
  },
  {
   "cell_type": "markdown",
   "metadata": {},
   "source": [
    "#### final model"
   ]
  },
  {
   "cell_type": "code",
   "execution_count": 17,
   "metadata": {
    "ExecuteTime": {
     "end_time": "2020-03-04T10:23:33.643113Z",
     "start_time": "2020-03-04T10:23:31.670219Z"
    }
   },
   "outputs": [
    {
     "name": "stdout",
     "output_type": "stream",
     "text": [
      "\n",
      "Cross Validation Scoring:\n",
      "\n",
      "train score: 97.45%\n",
      "test score: 85.54%\n",
      "cross val score: 88.11%\n",
      "\n",
      "Classification Report:\n",
      "                   precision    recall  f1-score   support\n",
      "\n",
      "  dead_on_arrival       0.00      0.00      0.00        13\n",
      "       euthanized       0.04      0.07      0.06        27\n",
      "  return_to_owner       0.13      0.21      0.16       305\n",
      "   return_to_wild       0.91      0.95      0.93      1608\n",
      "special_caseother       0.23      0.26      0.24       149\n",
      "        trans_caa       0.93      0.88      0.91      5846\n",
      "\n",
      "         accuracy                           0.86      7948\n",
      "        macro avg       0.37      0.40      0.38      7948\n",
      "     weighted avg       0.88      0.86      0.87      7948\n",
      "\n",
      "\n",
      "Confusion matrix:\n"
     ]
    },
    {
     "data": {
      "text/html": [
       "<div>\n",
       "<style scoped>\n",
       "    .dataframe tbody tr th:only-of-type {\n",
       "        vertical-align: middle;\n",
       "    }\n",
       "\n",
       "    .dataframe tbody tr th {\n",
       "        vertical-align: top;\n",
       "    }\n",
       "\n",
       "    .dataframe thead th {\n",
       "        text-align: right;\n",
       "    }\n",
       "</style>\n",
       "<table border=\"1\" class=\"dataframe\">\n",
       "  <thead>\n",
       "    <tr style=\"text-align: right;\">\n",
       "      <th></th>\n",
       "      <th>pred doa</th>\n",
       "      <th>pred euth</th>\n",
       "      <th>pred spec_case</th>\n",
       "      <th>pred to owner</th>\n",
       "      <th>pred to wild</th>\n",
       "      <th>pred trans</th>\n",
       "    </tr>\n",
       "  </thead>\n",
       "  <tbody>\n",
       "    <tr>\n",
       "      <th>real doa</th>\n",
       "      <td>0</td>\n",
       "      <td>1</td>\n",
       "      <td>3</td>\n",
       "      <td>3</td>\n",
       "      <td>0</td>\n",
       "      <td>6</td>\n",
       "    </tr>\n",
       "    <tr>\n",
       "      <th>real euth</th>\n",
       "      <td>1</td>\n",
       "      <td>2</td>\n",
       "      <td>3</td>\n",
       "      <td>3</td>\n",
       "      <td>0</td>\n",
       "      <td>18</td>\n",
       "    </tr>\n",
       "    <tr>\n",
       "      <th>real spec_case</th>\n",
       "      <td>0</td>\n",
       "      <td>0</td>\n",
       "      <td>63</td>\n",
       "      <td>17</td>\n",
       "      <td>2</td>\n",
       "      <td>223</td>\n",
       "    </tr>\n",
       "    <tr>\n",
       "      <th>real to owner</th>\n",
       "      <td>8</td>\n",
       "      <td>10</td>\n",
       "      <td>9</td>\n",
       "      <td>1535</td>\n",
       "      <td>12</td>\n",
       "      <td>34</td>\n",
       "    </tr>\n",
       "    <tr>\n",
       "      <th>real to wild</th>\n",
       "      <td>0</td>\n",
       "      <td>3</td>\n",
       "      <td>4</td>\n",
       "      <td>9</td>\n",
       "      <td>38</td>\n",
       "      <td>95</td>\n",
       "    </tr>\n",
       "    <tr>\n",
       "      <th>real trans</th>\n",
       "      <td>7</td>\n",
       "      <td>29</td>\n",
       "      <td>416</td>\n",
       "      <td>122</td>\n",
       "      <td>111</td>\n",
       "      <td>5161</td>\n",
       "    </tr>\n",
       "  </tbody>\n",
       "</table>\n",
       "</div>"
      ],
      "text/plain": [
       "                pred doa  pred euth  pred spec_case  pred to owner  \\\n",
       "real doa               0          1               3              3   \n",
       "real euth              1          2               3              3   \n",
       "real spec_case         0          0              63             17   \n",
       "real to owner          8         10               9           1535   \n",
       "real to wild           0          3               4              9   \n",
       "real trans             7         29             416            122   \n",
       "\n",
       "                pred to wild  pred trans  \n",
       "real doa                   0           6  \n",
       "real euth                  0          18  \n",
       "real spec_case             2         223  \n",
       "real to owner             12          34  \n",
       "real to wild              38          95  \n",
       "real trans               111        5161  "
      ]
     },
     "metadata": {},
     "output_type": "display_data"
    }
   ],
   "source": [
    "model_report(dt_gs_model)"
   ]
  },
  {
   "cell_type": "code",
   "execution_count": 18,
   "metadata": {
    "ExecuteTime": {
     "end_time": "2020-03-04T10:23:34.257528Z",
     "start_time": "2020-03-04T10:23:33.646578Z"
    }
   },
   "outputs": [
    {
     "data": {
      "image/png": "[encoded data removed]",
      "text/plain": [
       "<Figure size 432x288 with 2 Axes>"
      ]
     },
     "metadata": {
      "needs_background": "light"
     },
     "output_type": "display_data"
    }
   ],
   "source": [
    "plot_matrix(dt_gs_model)"
   ]
  },
  {
   "cell_type": "markdown",
   "metadata": {},
   "source": [
    "The test score didn't increase significantly, and the train score even decreased, but overfitting was avoided with the tuned model."
   ]
  },
  {
   "cell_type": "markdown",
   "metadata": {},
   "source": [
    "### Random Forest"
   ]
  },
  {
   "cell_type": "markdown",
   "metadata": {},
   "source": [
    "---\n",
    "__default model__"
   ]
  },
  {
   "cell_type": "code",
   "execution_count": 19,
   "metadata": {
    "ExecuteTime": {
     "end_time": "2020-03-04T10:25:13.735531Z",
     "start_time": "2020-03-04T10:23:34.261383Z"
    }
   },
   "outputs": [
    {
     "data": {
      "text/plain": [
       "RandomForestClassifier(bootstrap=True, ccp_alpha=0.0, class_weight=None,\n",
       "                       criterion='gini', max_depth=None, max_features='auto',\n",
       "                       max_leaf_nodes=None, max_samples=None,\n",
       "                       min_impurity_decrease=0.0, min_impurity_split=None,\n",
       "                       min_samples_leaf=1, min_samples_split=2,\n",
       "                       min_weight_fraction_leaf=0.0, n_estimators=100,\n",
       "                       n_jobs=None, oob_score=False, random_state=3, verbose=0,\n",
       "                       warm_start=False)"
      ]
     },
     "execution_count": 19,
     "metadata": {},
     "output_type": "execute_result"
    },
    {
     "name": "stdout",
     "output_type": "stream",
     "text": [
      "\n",
      "Cross Validation Scoring:\n",
      "\n",
      "train score: 98.52%\n",
      "test score: 89.32%\n",
      "cross val score: 91.48%\n",
      "\n",
      "Classification Report:\n",
      "                   precision    recall  f1-score   support\n",
      "\n",
      "  dead_on_arrival       0.00      0.00      0.00        13\n",
      "       euthanized       0.04      0.04      0.04        27\n",
      "  return_to_owner       0.14      0.10      0.12       305\n",
      "   return_to_wild       0.91      0.97      0.94      1608\n",
      "special_caseother       0.38      0.38      0.38       149\n",
      "        trans_caa       0.93      0.93      0.93      5846\n",
      "\n",
      "         accuracy                           0.89      7948\n",
      "        macro avg       0.40      0.40      0.40      7948\n",
      "     weighted avg       0.88      0.89      0.89      7948\n",
      "\n",
      "\n",
      "Confusion matrix:\n"
     ]
    },
    {
     "data": {
      "text/html": [
       "<div>\n",
       "<style scoped>\n",
       "    .dataframe tbody tr th:only-of-type {\n",
       "        vertical-align: middle;\n",
       "    }\n",
       "\n",
       "    .dataframe tbody tr th {\n",
       "        vertical-align: top;\n",
       "    }\n",
       "\n",
       "    .dataframe thead th {\n",
       "        text-align: right;\n",
       "    }\n",
       "</style>\n",
       "<table border=\"1\" class=\"dataframe\">\n",
       "  <thead>\n",
       "    <tr style=\"text-align: right;\">\n",
       "      <th></th>\n",
       "      <th>pred doa</th>\n",
       "      <th>pred euth</th>\n",
       "      <th>pred spec_case</th>\n",
       "      <th>pred to owner</th>\n",
       "      <th>pred to wild</th>\n",
       "      <th>pred trans</th>\n",
       "    </tr>\n",
       "  </thead>\n",
       "  <tbody>\n",
       "    <tr>\n",
       "      <th>real doa</th>\n",
       "      <td>0</td>\n",
       "      <td>1</td>\n",
       "      <td>0</td>\n",
       "      <td>3</td>\n",
       "      <td>1</td>\n",
       "      <td>8</td>\n",
       "    </tr>\n",
       "    <tr>\n",
       "      <th>real euth</th>\n",
       "      <td>1</td>\n",
       "      <td>1</td>\n",
       "      <td>0</td>\n",
       "      <td>4</td>\n",
       "      <td>1</td>\n",
       "      <td>20</td>\n",
       "    </tr>\n",
       "    <tr>\n",
       "      <th>real spec_case</th>\n",
       "      <td>0</td>\n",
       "      <td>0</td>\n",
       "      <td>30</td>\n",
       "      <td>17</td>\n",
       "      <td>3</td>\n",
       "      <td>255</td>\n",
       "    </tr>\n",
       "    <tr>\n",
       "      <th>real to owner</th>\n",
       "      <td>5</td>\n",
       "      <td>7</td>\n",
       "      <td>5</td>\n",
       "      <td>1555</td>\n",
       "      <td>9</td>\n",
       "      <td>27</td>\n",
       "    </tr>\n",
       "    <tr>\n",
       "      <th>real to wild</th>\n",
       "      <td>0</td>\n",
       "      <td>0</td>\n",
       "      <td>1</td>\n",
       "      <td>10</td>\n",
       "      <td>57</td>\n",
       "      <td>81</td>\n",
       "    </tr>\n",
       "    <tr>\n",
       "      <th>real trans</th>\n",
       "      <td>2</td>\n",
       "      <td>14</td>\n",
       "      <td>179</td>\n",
       "      <td>114</td>\n",
       "      <td>81</td>\n",
       "      <td>5456</td>\n",
       "    </tr>\n",
       "  </tbody>\n",
       "</table>\n",
       "</div>"
      ],
      "text/plain": [
       "                pred doa  pred euth  pred spec_case  pred to owner  \\\n",
       "real doa               0          1               0              3   \n",
       "real euth              1          1               0              4   \n",
       "real spec_case         0          0              30             17   \n",
       "real to owner          5          7               5           1555   \n",
       "real to wild           0          0               1             10   \n",
       "real trans             2         14             179            114   \n",
       "\n",
       "                pred to wild  pred trans  \n",
       "real doa                   1           8  \n",
       "real euth                  1          20  \n",
       "real spec_case             3         255  \n",
       "real to owner              9          27  \n",
       "real to wild              57          81  \n",
       "real trans                81        5456  "
      ]
     },
     "metadata": {},
     "output_type": "display_data"
    }
   ],
   "source": [
    "#initialize and fit random forest\n",
    "rf_model = RandomForestClassifier(random_state=3)\n",
    "rf_model.fit(X_train, y_train)\n",
    "\n",
    "predictions = rf_model.predict(X_test)\n",
    "#actuals = y_test\n",
    "\n",
    "model_report(rf_model)"
   ]
  },
  {
   "cell_type": "markdown",
   "metadata": {},
   "source": [
    "#### grid searching"
   ]
  },
  {
   "cell_type": "markdown",
   "metadata": {},
   "source": [
    "___\n",
    "__Random Grid Search__"
   ]
  },
  {
   "cell_type": "markdown",
   "metadata": {},
   "source": [
    "The default model is overfitting. Some ways to avoid overfitting with random forests are: increasing the n_estimators, reducing max features, limiting max depth, and increasing min leaf samples can help construct a more robust fit. Being that it did perform well despite the overfitting, I decided not to go crazy playing with the parameters."
   ]
  },
  {
   "cell_type": "code",
   "execution_count": 20,
   "metadata": {
    "ExecuteTime": {
     "end_time": "2020-03-04T11:28:48.838817Z",
     "start_time": "2020-03-04T10:25:13.738955Z"
    }
   },
   "outputs": [
    {
     "name": "stdout",
     "output_type": "stream",
     "text": [
      "Fitting 3 folds for each of 150 candidates, totalling 450 fits\n"
     ]
    },
    {
     "name": "stderr",
     "output_type": "stream",
     "text": [
      "[Parallel(n_jobs=-1)]: Using backend LokyBackend with 4 concurrent workers.\n",
      "[Parallel(n_jobs=-1)]: Done   5 tasks      | elapsed:   30.3s\n",
      "[Parallel(n_jobs=-1)]: Done  10 tasks      | elapsed:   42.9s\n",
      "[Parallel(n_jobs=-1)]: Done  17 tasks      | elapsed:  1.4min\n",
      "[Parallel(n_jobs=-1)]: Done  24 tasks      | elapsed:  2.3min\n",
      "[Parallel(n_jobs=-1)]: Done  33 tasks      | elapsed:  3.3min\n",
      "[Parallel(n_jobs=-1)]: Done  42 tasks      | elapsed:  4.0min\n",
      "[Parallel(n_jobs=-1)]: Done  53 tasks      | elapsed:  5.7min\n",
      "[Parallel(n_jobs=-1)]: Done  64 tasks      | elapsed:  7.3min\n",
      "[Parallel(n_jobs=-1)]: Done  77 tasks      | elapsed:  8.1min\n",
      "[Parallel(n_jobs=-1)]: Done  90 tasks      | elapsed:  9.1min\n",
      "[Parallel(n_jobs=-1)]: Done 105 tasks      | elapsed: 10.1min\n",
      "[Parallel(n_jobs=-1)]: Done 120 tasks      | elapsed: 11.0min\n",
      "[Parallel(n_jobs=-1)]: Done 137 tasks      | elapsed: 13.3min\n",
      "[Parallel(n_jobs=-1)]: Done 154 tasks      | elapsed: 14.8min\n",
      "[Parallel(n_jobs=-1)]: Done 173 tasks      | elapsed: 16.7min\n",
      "[Parallel(n_jobs=-1)]: Done 192 tasks      | elapsed: 20.3min\n",
      "[Parallel(n_jobs=-1)]: Done 213 tasks      | elapsed: 24.7min\n",
      "[Parallel(n_jobs=-1)]: Done 234 tasks      | elapsed: 27.7min\n",
      "[Parallel(n_jobs=-1)]: Done 257 tasks      | elapsed: 30.7min\n",
      "[Parallel(n_jobs=-1)]: Done 280 tasks      | elapsed: 35.3min\n",
      "[Parallel(n_jobs=-1)]: Done 305 tasks      | elapsed: 38.3min\n",
      "[Parallel(n_jobs=-1)]: Done 330 tasks      | elapsed: 41.7min\n",
      "[Parallel(n_jobs=-1)]: Done 357 tasks      | elapsed: 45.4min\n",
      "[Parallel(n_jobs=-1)]: Done 384 tasks      | elapsed: 51.1min\n",
      "[Parallel(n_jobs=-1)]: Done 413 tasks      | elapsed: 57.9min\n",
      "[Parallel(n_jobs=-1)]: Done 442 tasks      | elapsed: 62.0min\n",
      "[Parallel(n_jobs=-1)]: Done 450 out of 450 | elapsed: 62.8min finished\n"
     ]
    },
    {
     "name": "stdout",
     "output_type": "stream",
     "text": [
      "best score: 94.85%\n",
      "{'n_estimators': 40, 'min_weight_fraction_leaf': 0.0, 'min_samples_split': 5, 'min_samples_leaf': 2, 'min_impurity_split': None, 'min_impurity_decrease': 0.0, 'max_samples': None, 'max_leaf_nodes': None, 'max_features': 15, 'max_depth': 60, 'criterion': 'gini', 'bootstrap': True}\n"
     ]
    }
   ],
   "source": [
    "# set random search params\n",
    "\n",
    "n_estimators = [20,30,40,50,60]\n",
    "min_weight_fraction_leaf=[0.0, 0.001, 0.0001]\n",
    "min_samples_split = [2,3,4,5,6]\n",
    "min_samples_leaf = [2,3,4,5,6]\n",
    "min_impurity_split = [None]\n",
    "min_impurity_decrease = [0.0,0.0001]\n",
    "max_samples = [None]\n",
    "max_leaf_nodes = [None]\n",
    "max_features = ['auto', 7,8,15,20,50]\n",
    "max_depth = [5,10,20,30,40,50,60]\n",
    "criterion = ['entropy', 'gini']\n",
    "bootstrap = [True, False]\n",
    "\n",
    "# Create the random grid\n",
    "random_grid = { 'n_estimators': n_estimators,\n",
    "                 'min_weight_fraction_leaf': min_weight_fraction_leaf,\n",
    "                 'min_samples_split': min_samples_split,\n",
    "                 'min_samples_leaf': min_samples_leaf,\n",
    "                 'min_impurity_split': min_impurity_split,\n",
    "                 'min_impurity_decrease': min_impurity_decrease,\n",
    "                 'max_samples': max_samples,\n",
    "                 'max_leaf_nodes': max_leaf_nodes,\n",
    "                 'max_features': max_features,\n",
    "                  'max_depth': max_depth,\n",
    "                 'criterion': criterion,\n",
    "                 'bootstrap': bootstrap\n",
    "              }\n",
    "\n",
    "# fit and search random param combinations\n",
    "rf_random = RandomizedSearchCV(estimator = rf_model\n",
    "                               , param_distributions = random_grid\n",
    "                               , n_iter = 150, cv = 3, verbose=10\n",
    "                               , scoring = 'recall_macro',random_state=1, n_jobs = -1);\n",
    "# Fit the random search model\n",
    "rf_random.fit(X_train, y_train);\n",
    "\n",
    "# print best parameters\n",
    "print('best score: {:.4}%'.format(rf_random.best_score_ * 100));\n",
    "print(rf_random.best_params_);"
   ]
  },
  {
   "cell_type": "markdown",
   "metadata": {},
   "source": [
    "___\n",
    "__grid search__"
   ]
  },
  {
   "cell_type": "code",
   "execution_count": 21,
   "metadata": {
    "ExecuteTime": {
     "end_time": "2020-03-04T11:47:10.839987Z",
     "start_time": "2020-03-04T11:28:48.845282Z"
    }
   },
   "outputs": [
    {
     "name": "stdout",
     "output_type": "stream",
     "text": [
      "Fitting 3 folds for each of 32 candidates, totalling 96 fits\n"
     ]
    },
    {
     "name": "stderr",
     "output_type": "stream",
     "text": [
      "[Parallel(n_jobs=-1)]: Using backend LokyBackend with 4 concurrent workers.\n",
      "[Parallel(n_jobs=-1)]: Done  10 tasks      | elapsed:  2.4min\n",
      "[Parallel(n_jobs=-1)]: Done  64 tasks      | elapsed: 12.1min\n",
      "[Parallel(n_jobs=-1)]: Done  96 out of  96 | elapsed: 17.6min finished\n"
     ]
    },
    {
     "name": "stdout",
     "output_type": "stream",
     "text": [
      "best score: 91.42%\n",
      "params:\n",
      " {'bootstrap': False, 'criterion': 'gini', 'max_depth': 50, 'max_features': 10, 'max_leaf_nodes': None, 'max_samples': 40, 'min_samples_leaf': 4, 'min_samples_split': 3, 'n_estimators': 50}\n"
     ]
    }
   ],
   "source": [
    "param_grid_rf = {\n",
    "        'n_estimators': [40,50]\n",
    "          , 'min_samples_leaf': [4]\n",
    "         , 'min_samples_split':[3,4]\n",
    "        , 'max_samples': [40,50]\n",
    "        , 'max_leaf_nodes':[None]\n",
    "           , 'max_features': [9,10]\n",
    "         , 'max_depth': [40,50]\n",
    "         , 'criterion': ['gini']\n",
    "          , 'bootstrap': [False]\n",
    "}\n",
    "\n",
    "# grid search\n",
    "gs_rf = GridSearchCV(estimator=rf_model\n",
    "                    ,param_grid=param_grid_rf\n",
    "                    ,cv=3,refit=True,error_score=0\n",
    "                     , scoring='recall_macro', n_jobs=-1, verbose=5\n",
    "                    )\n",
    "\n",
    "# fitting grid search\n",
    "gs_rf.fit(X_train, y_train);\n",
    "\n",
    "# best parameters\n",
    "print('best score: {:.4}%'.format(gs_rf.best_score_ * 100));\n",
    "print('params:\\n', gs_rf.best_params_);"
   ]
  },
  {
   "cell_type": "markdown",
   "metadata": {},
   "source": [
    "#### final model"
   ]
  },
  {
   "cell_type": "markdown",
   "metadata": {},
   "source": [
    "___\n",
    "__best model__"
   ]
  },
  {
   "cell_type": "code",
   "execution_count": 22,
   "metadata": {
    "ExecuteTime": {
     "end_time": "2020-03-04T11:48:15.040324Z",
     "start_time": "2020-03-04T11:47:10.844476Z"
    },
    "scrolled": true
   },
   "outputs": [
    {
     "data": {
      "text/plain": [
       "RandomForestClassifier(bootstrap=False, ccp_alpha=0.0, class_weight=None,\n",
       "                       criterion='gini', max_depth=50, max_features=9,\n",
       "                       max_leaf_nodes=None, max_samples=50,\n",
       "                       min_impurity_decrease=0.0, min_impurity_split=None,\n",
       "                       min_samples_leaf=4, min_samples_split=4,\n",
       "                       min_weight_fraction_leaf=0.0, n_estimators=50,\n",
       "                       n_jobs=None, oob_score=False, random_state=None,\n",
       "                       verbose=0, warm_start=False)"
      ]
     },
     "execution_count": 22,
     "metadata": {},
     "output_type": "execute_result"
    },
    {
     "name": "stdout",
     "output_type": "stream",
     "text": [
      "\n",
      "Cross Validation Scoring:\n",
      "\n",
      "train score: 92.44%\n",
      "test score: 80.62%\n",
      "cross val score: 91.82%\n",
      "\n",
      "Classification Report:\n",
      "                   precision    recall  f1-score   support\n",
      "\n",
      "  dead_on_arrival       0.00      0.00      0.00        13\n",
      "       euthanized       0.04      0.33      0.07        27\n",
      "  return_to_owner       0.15      0.43      0.23       305\n",
      "   return_to_wild       0.91      0.97      0.94      1608\n",
      "special_caseother       0.28      0.48      0.35       149\n",
      "        trans_caa       0.96      0.79      0.87      5846\n",
      "\n",
      "         accuracy                           0.81      7948\n",
      "        macro avg       0.39      0.50      0.41      7948\n",
      "     weighted avg       0.90      0.81      0.84      7948\n",
      "\n",
      "\n",
      "Confusion matrix:\n"
     ]
    },
    {
     "data": {
      "text/html": [
       "<div>\n",
       "<style scoped>\n",
       "    .dataframe tbody tr th:only-of-type {\n",
       "        vertical-align: middle;\n",
       "    }\n",
       "\n",
       "    .dataframe tbody tr th {\n",
       "        vertical-align: top;\n",
       "    }\n",
       "\n",
       "    .dataframe thead th {\n",
       "        text-align: right;\n",
       "    }\n",
       "</style>\n",
       "<table border=\"1\" class=\"dataframe\">\n",
       "  <thead>\n",
       "    <tr style=\"text-align: right;\">\n",
       "      <th></th>\n",
       "      <th>pred doa</th>\n",
       "      <th>pred euth</th>\n",
       "      <th>pred spec_case</th>\n",
       "      <th>pred to owner</th>\n",
       "      <th>pred to wild</th>\n",
       "      <th>pred trans</th>\n",
       "    </tr>\n",
       "  </thead>\n",
       "  <tbody>\n",
       "    <tr>\n",
       "      <th>real doa</th>\n",
       "      <td>0</td>\n",
       "      <td>4</td>\n",
       "      <td>4</td>\n",
       "      <td>3</td>\n",
       "      <td>2</td>\n",
       "      <td>0</td>\n",
       "    </tr>\n",
       "    <tr>\n",
       "      <th>real euth</th>\n",
       "      <td>1</td>\n",
       "      <td>9</td>\n",
       "      <td>4</td>\n",
       "      <td>5</td>\n",
       "      <td>2</td>\n",
       "      <td>6</td>\n",
       "    </tr>\n",
       "    <tr>\n",
       "      <th>real spec_case</th>\n",
       "      <td>1</td>\n",
       "      <td>2</td>\n",
       "      <td>132</td>\n",
       "      <td>17</td>\n",
       "      <td>1</td>\n",
       "      <td>152</td>\n",
       "    </tr>\n",
       "    <tr>\n",
       "      <th>real to owner</th>\n",
       "      <td>0</td>\n",
       "      <td>12</td>\n",
       "      <td>1</td>\n",
       "      <td>1567</td>\n",
       "      <td>25</td>\n",
       "      <td>3</td>\n",
       "    </tr>\n",
       "    <tr>\n",
       "      <th>real to wild</th>\n",
       "      <td>1</td>\n",
       "      <td>12</td>\n",
       "      <td>4</td>\n",
       "      <td>5</td>\n",
       "      <td>72</td>\n",
       "      <td>55</td>\n",
       "    </tr>\n",
       "    <tr>\n",
       "      <th>real trans</th>\n",
       "      <td>41</td>\n",
       "      <td>183</td>\n",
       "      <td>717</td>\n",
       "      <td>122</td>\n",
       "      <td>155</td>\n",
       "      <td>4628</td>\n",
       "    </tr>\n",
       "  </tbody>\n",
       "</table>\n",
       "</div>"
      ],
      "text/plain": [
       "                pred doa  pred euth  pred spec_case  pred to owner  \\\n",
       "real doa               0          4               4              3   \n",
       "real euth              1          9               4              5   \n",
       "real spec_case         1          2             132             17   \n",
       "real to owner          0         12               1           1567   \n",
       "real to wild           1         12               4              5   \n",
       "real trans            41        183             717            122   \n",
       "\n",
       "                pred to wild  pred trans  \n",
       "real doa                   2           0  \n",
       "real euth                  2           6  \n",
       "real spec_case             1         152  \n",
       "real to owner             25           3  \n",
       "real to wild              72          55  \n",
       "real trans               155        4628  "
      ]
     },
     "metadata": {},
     "output_type": "display_data"
    }
   ],
   "source": [
    "# fitting model using best params\n",
    "rf_gs_model = RandomForestClassifier(\n",
    "                                   bootstrap= False\n",
    "                                    ,criterion= 'gini'\n",
    "                                    , max_depth= 50\n",
    "                                   , max_features = 9\n",
    "                                   , max_leaf_nodes = None\n",
    "                                   , max_samples = 50\n",
    "                                     , min_samples_leaf = 4\n",
    "                                   , min_samples_split = 4\n",
    "                                    , n_estimators = 50\n",
    "                                    );\n",
    "rf_gs_model.fit(X_train, y_train);\n",
    "\n",
    "predictions = rf_gs_model.predict(X_test);\n",
    "\n",
    "# new model report\n",
    "model_report(rf_gs_model)"
   ]
  },
  {
   "cell_type": "markdown",
   "metadata": {},
   "source": [
    "Train score went down, but test score and cross val score went up, so at least the tuning constructed a more robust model."
   ]
  },
  {
   "cell_type": "markdown",
   "metadata": {},
   "source": [
    "### AdaBoost"
   ]
  },
  {
   "cell_type": "code",
   "execution_count": 23,
   "metadata": {
    "ExecuteTime": {
     "end_time": "2020-03-04T11:50:14.194245Z",
     "start_time": "2020-03-04T11:48:15.054687Z"
    }
   },
   "outputs": [
    {
     "data": {
      "text/plain": [
       "AdaBoostClassifier(algorithm='SAMME.R', base_estimator=None, learning_rate=1.0,\n",
       "                   n_estimators=50, random_state=3)"
      ]
     },
     "execution_count": 23,
     "metadata": {},
     "output_type": "execute_result"
    }
   ],
   "source": [
    "#initialize and fit default model\n",
    "ada_model = AdaBoostClassifier(random_state=3)\n",
    "ada_model.fit(X_train, y_train)\n",
    "\n",
    "predictions = ada_model.predict(X_test)\n",
    "# actuals = y_test"
   ]
  },
  {
   "cell_type": "markdown",
   "metadata": {},
   "source": [
    "___\n",
    "__Default Model__"
   ]
  },
  {
   "cell_type": "code",
   "execution_count": null,
   "metadata": {
    "ExecuteTime": {
     "start_time": "2020-03-04T10:14:54.090Z"
    }
   },
   "outputs": [
    {
     "name": "stdout",
     "output_type": "stream",
     "text": [
      "\n",
      "Cross Validation Scoring:\n",
      "\n",
      "train score: 53.06%\n",
      "test score: 61.8%\n",
      "cross val score: 89.75%\n",
      "\n",
      "Classification Report:\n",
      "                   precision    recall  f1-score   support\n",
      "\n",
      "  dead_on_arrival       0.00      0.00      0.00        13\n",
      "       euthanized       0.04      0.07      0.05        27\n",
      "  return_to_owner       0.07      0.51      0.13       305\n",
      "   return_to_wild       0.92      0.96      0.94      1608\n",
      "special_caseother       0.08      0.37      0.13       149\n",
      "        trans_caa       0.94      0.54      0.68      5846\n",
      "\n",
      "         accuracy                           0.62      7948\n",
      "        macro avg       0.34      0.41      0.32      7948\n",
      "     weighted avg       0.88      0.62      0.70      7948\n",
      "\n",
      "\n",
      "Confusion matrix:\n"
     ]
    },
    {
     "data": {
      "text/html": [
       "<div>\n",
       "<style scoped>\n",
       "    .dataframe tbody tr th:only-of-type {\n",
       "        vertical-align: middle;\n",
       "    }\n",
       "\n",
       "    .dataframe tbody tr th {\n",
       "        vertical-align: top;\n",
       "    }\n",
       "\n",
       "    .dataframe thead th {\n",
       "        text-align: right;\n",
       "    }\n",
       "</style>\n",
       "<table border=\"1\" class=\"dataframe\">\n",
       "  <thead>\n",
       "    <tr style=\"text-align: right;\">\n",
       "      <th></th>\n",
       "      <th>pred doa</th>\n",
       "      <th>pred euth</th>\n",
       "      <th>pred spec_case</th>\n",
       "      <th>pred to owner</th>\n",
       "      <th>pred to wild</th>\n",
       "      <th>pred trans</th>\n",
       "    </tr>\n",
       "  </thead>\n",
       "  <tbody>\n",
       "    <tr>\n",
       "      <th>real doa</th>\n",
       "      <td>0</td>\n",
       "      <td>0</td>\n",
       "      <td>0</td>\n",
       "      <td>3</td>\n",
       "      <td>4</td>\n",
       "      <td>6</td>\n",
       "    </tr>\n",
       "    <tr>\n",
       "      <th>real euth</th>\n",
       "      <td>0</td>\n",
       "      <td>2</td>\n",
       "      <td>1</td>\n",
       "      <td>1</td>\n",
       "      <td>16</td>\n",
       "      <td>7</td>\n",
       "    </tr>\n",
       "    <tr>\n",
       "      <th>real spec_case</th>\n",
       "      <td>0</td>\n",
       "      <td>1</td>\n",
       "      <td>157</td>\n",
       "      <td>16</td>\n",
       "      <td>1</td>\n",
       "      <td>130</td>\n",
       "    </tr>\n",
       "    <tr>\n",
       "      <th>real to owner</th>\n",
       "      <td>1</td>\n",
       "      <td>1</td>\n",
       "      <td>4</td>\n",
       "      <td>1550</td>\n",
       "      <td>51</td>\n",
       "      <td>1</td>\n",
       "    </tr>\n",
       "    <tr>\n",
       "      <th>real to wild</th>\n",
       "      <td>3</td>\n",
       "      <td>2</td>\n",
       "      <td>5</td>\n",
       "      <td>12</td>\n",
       "      <td>55</td>\n",
       "      <td>72</td>\n",
       "    </tr>\n",
       "    <tr>\n",
       "      <th>real trans</th>\n",
       "      <td>21</td>\n",
       "      <td>41</td>\n",
       "      <td>1931</td>\n",
       "      <td>105</td>\n",
       "      <td>600</td>\n",
       "      <td>3148</td>\n",
       "    </tr>\n",
       "  </tbody>\n",
       "</table>\n",
       "</div>"
      ],
      "text/plain": [
       "                pred doa  pred euth  pred spec_case  pred to owner  \\\n",
       "real doa               0          0               0              3   \n",
       "real euth              0          2               1              1   \n",
       "real spec_case         0          1             157             16   \n",
       "real to owner          1          1               4           1550   \n",
       "real to wild           3          2               5             12   \n",
       "real trans            21         41            1931            105   \n",
       "\n",
       "                pred to wild  pred trans  \n",
       "real doa                   4           6  \n",
       "real euth                 16           7  \n",
       "real spec_case             1         130  \n",
       "real to owner             51           1  \n",
       "real to wild              55          72  \n",
       "real trans               600        3148  "
      ]
     },
     "metadata": {},
     "output_type": "display_data"
    }
   ],
   "source": [
    "model_report(ada_model)"
   ]
  },
  {
   "cell_type": "markdown",
   "metadata": {},
   "source": [
    "#### grid searching"
   ]
  },
  {
   "cell_type": "markdown",
   "metadata": {},
   "source": [
    "__Random Grid Search__"
   ]
  },
  {
   "cell_type": "code",
   "execution_count": null,
   "metadata": {
    "ExecuteTime": {
     "start_time": "2020-03-04T10:14:54.098Z"
    }
   },
   "outputs": [],
   "source": [
    "#set random search params\n",
    "learning_rate= [.5, 1.0, 1.5]\n",
    "\n",
    "n_estimators = [50,100, 200]\n",
    "\n",
    "random_grid = {'learning_rate':learning_rate,\n",
    "               'n_estimators': n_estimators\n",
    "              }"
   ]
  },
  {
   "cell_type": "code",
   "execution_count": null,
   "metadata": {
    "ExecuteTime": {
     "start_time": "2020-03-04T10:14:54.104Z"
    }
   },
   "outputs": [
    {
     "name": "stdout",
     "output_type": "stream",
     "text": [
      "Fitting 3 folds for each of 5 candidates, totalling 15 fits\n"
     ]
    },
    {
     "name": "stderr",
     "output_type": "stream",
     "text": [
      "[Parallel(n_jobs=-1)]: Using backend LokyBackend with 4 concurrent workers.\n",
      "[Parallel(n_jobs=-1)]: Done  15 out of  15 | elapsed: 344.4min finished\n"
     ]
    },
    {
     "data": {
      "text/plain": [
       "RandomizedSearchCV(cv=3, error_score=nan,\n",
       "                   estimator=AdaBoostClassifier(algorithm='SAMME.R',\n",
       "                                                base_estimator=None,\n",
       "                                                learning_rate=1.0,\n",
       "                                                n_estimators=50,\n",
       "                                                random_state=3),\n",
       "                   iid='deprecated', n_iter=5, n_jobs=-1,\n",
       "                   param_distributions={'learning_rate': [0.5, 1.0, 1.5],\n",
       "                                        'n_estimators': [50, 100, 200]},\n",
       "                   pre_dispatch='2*n_jobs', random_state=3, refit=True,\n",
       "                   return_train_score=False, scoring='recall_macro', verbose=2)"
      ]
     },
     "execution_count": 26,
     "metadata": {},
     "output_type": "execute_result"
    }
   ],
   "source": [
    "#random grid search\n",
    "ada_random = RandomizedSearchCV(estimator = ada_model\n",
    "                               , param_distributions = random_grid\n",
    "                               , n_iter = 5, cv = 3, verbose=2\n",
    "                               , scoring='recall_macro', random_state=3, n_jobs = -1)\n",
    "# Fit the random search model\n",
    "ada_random.fit(X_train, y_train)"
   ]
  },
  {
   "cell_type": "code",
   "execution_count": null,
   "metadata": {
    "ExecuteTime": {
     "start_time": "2020-03-04T10:14:54.110Z"
    }
   },
   "outputs": [
    {
     "data": {
      "text/plain": [
       "{'n_estimators': 200, 'learning_rate': 0.5}"
      ]
     },
     "execution_count": 27,
     "metadata": {},
     "output_type": "execute_result"
    }
   ],
   "source": [
    "ada_random.best_params_"
   ]
  },
  {
   "cell_type": "markdown",
   "metadata": {},
   "source": [
    "___\n",
    "__grid search__"
   ]
  },
  {
   "cell_type": "code",
   "execution_count": null,
   "metadata": {
    "ExecuteTime": {
     "start_time": "2020-03-04T10:14:54.117Z"
    }
   },
   "outputs": [
    {
     "name": "stdout",
     "output_type": "stream",
     "text": [
      "Fitting 3 folds for each of 6 candidates, totalling 18 fits\n"
     ]
    },
    {
     "name": "stderr",
     "output_type": "stream",
     "text": [
      "[Parallel(n_jobs=-1)]: Using backend LokyBackend with 4 concurrent workers.\n",
      "[Parallel(n_jobs=-1)]: Done   5 tasks      | elapsed: 10.3min\n",
      "[Parallel(n_jobs=-1)]: Done  10 tasks      | elapsed: 15.2min\n",
      "[Parallel(n_jobs=-1)]: Done  13 out of  18 | elapsed: 25.1min remaining:  9.7min\n"
     ]
    }
   ],
   "source": [
    "#grid search params and fitting grid search\n",
    "param_grid_ada = [\n",
    "    {'n_estimators': [195,200,205],\n",
    "    'learning_rate': [0.1, .9]}\n",
    "]\n",
    "\n",
    "# Construct Grid Search\n",
    "gs_ada = GridSearchCV(estimator=ada_model,\n",
    "                    param_grid=param_grid_ada,\n",
    "                    scoring='recall_macro',\n",
    "                    cv=3, n_jobs=-1, verbose=10)\n",
    "\n",
    "# Fit using grid search\n",
    "gs_ada.fit(X_train, y_train)\n",
    "\n",
    "# Best accuracy and parameters\n",
    "print('best recall: {:.4}%'.format(gs_ada.best_score_ * 100))\n",
    "print('params:\\n', gs_ada.best_params_)"
   ]
  },
  {
   "cell_type": "code",
   "execution_count": null,
   "metadata": {
    "ExecuteTime": {
     "start_time": "2020-03-04T10:14:54.122Z"
    }
   },
   "outputs": [],
   "source": [
    "# fit best params\n",
    "ada_gs_model = AdaBoostClassifier(n_estimators=250,\n",
    "                                   learning_rate=.11)\n",
    "ada_gs_model.fit(X_train, y_train)\n",
    "\n",
    "predictions = ada_gs_model.predict(X_test)"
   ]
  },
  {
   "cell_type": "markdown",
   "metadata": {},
   "source": [
    "#### final model"
   ]
  },
  {
   "cell_type": "markdown",
   "metadata": {},
   "source": [
    "__best model__"
   ]
  },
  {
   "cell_type": "code",
   "execution_count": null,
   "metadata": {
    "ExecuteTime": {
     "start_time": "2020-03-04T10:14:54.128Z"
    }
   },
   "outputs": [],
   "source": [
    "model_report(ada_gs_model)"
   ]
  },
  {
   "cell_type": "markdown",
   "metadata": {},
   "source": [
    "### gradient boost"
   ]
  },
  {
   "cell_type": "code",
   "execution_count": null,
   "metadata": {
    "ExecuteTime": {
     "start_time": "2020-03-04T10:14:54.136Z"
    }
   },
   "outputs": [],
   "source": [
    "#initialize and fit gradient boost\n",
    "gbt_model = GradientBoostingClassifier(random_state=3)\n",
    "gbt_model.fit(X_train, y_train)\n",
    "\n",
    "predictions = gbt_model.predict(X_test)\n",
    "# actuals = y_test"
   ]
  },
  {
   "cell_type": "markdown",
   "metadata": {},
   "source": [
    "__default model__"
   ]
  },
  {
   "cell_type": "code",
   "execution_count": null,
   "metadata": {
    "ExecuteTime": {
     "start_time": "2020-03-04T10:14:54.142Z"
    }
   },
   "outputs": [],
   "source": [
    "#baseline model report\n",
    "model_report(gbt_model)"
   ]
  },
  {
   "cell_type": "markdown",
   "metadata": {},
   "source": [
    "__grid searching__"
   ]
  },
  {
   "cell_type": "markdown",
   "metadata": {},
   "source": [
    "__random grid search__"
   ]
  },
  {
   "cell_type": "code",
   "execution_count": null,
   "metadata": {
    "ExecuteTime": {
     "start_time": "2020-03-04T10:14:54.148Z"
    }
   },
   "outputs": [],
   "source": [
    "# setting parameters for random search\n",
    "learning_rate=[0.05,.1, .15]\n",
    "loss = ['deviance', 'exponential']\n",
    "max_depth = [None] \n",
    "n_estimators = [90,100,110]\n",
    "min_samples_split = [2,3]\n",
    "min_samples_leaf = [1,2]\n",
    "min_weight_fraction_leaf = [0,0.0001]\n",
    "\n",
    "random_grid = {'learning_rate':learning_rate,\n",
    "               'loss': loss,\n",
    "               'max_depth': max_depth,\n",
    "               'n_estimators': n_estimators,\n",
    "               'min_samples_split': min_samples_split,\n",
    "               'min_samples_leaf': min_samples_leaf,\n",
    "               'min_weight_fraction_leaf': min_weight_fraction_leaf\n",
    "               }\n",
    "\n",
    "#searching random params\n",
    "gbt_random = RandomizedSearchCV(estimator = gbt_model\n",
    "                               , param_distributions = random_grid\n",
    "                               , n_iter = 15, cv = 3, verbose=10\n",
    "                               , scoring='recall_macro', random_state=3, n_jobs = -1)\n",
    "# fit random search model\n",
    "gbt_random.fit(X_train, y_train)"
   ]
  },
  {
   "cell_type": "code",
   "execution_count": null,
   "metadata": {
    "ExecuteTime": {
     "start_time": "2020-03-04T10:14:54.155Z"
    }
   },
   "outputs": [],
   "source": [
    "print('best accuracy: {:.4}%'.format(gbt_random.best_score_ * 100));\n",
    "print(gbt_random.best_params_)"
   ]
  },
  {
   "cell_type": "markdown",
   "metadata": {},
   "source": [
    "__grid search__"
   ]
  },
  {
   "cell_type": "code",
   "execution_count": null,
   "metadata": {
    "ExecuteTime": {
     "start_time": "2020-03-04T10:14:54.161Z"
    }
   },
   "outputs": [],
   "source": [
    "# grid search params and run search\n",
    "param_grid_gbt = [\n",
    "    {'n_estimators': [50,55],\n",
    "     'min_weight_fraction_leaf':[0.001, 0.0001],\n",
    "    'learning_rate': [0.1, .005],\n",
    "    'min_samples_split': [2,3],\n",
    "    'min_samples_leaf': [1,2],\n",
    "    'max_depth': [None]\n",
    "    }\n",
    "]\n",
    "\n",
    "# grid search\n",
    "gs_gbt = GridSearchCV(estimator=gbt_model,\n",
    "                    param_grid=param_grid_gbt,\n",
    "                    scoring='recall_macro',\n",
    "                    cv=3, n_jobs=-1, verbose=10)\n",
    "\n",
    "# fit grid search\n",
    "gs_gbt.fit(X_train, y_train)\n",
    "\n",
    "# best params\n",
    "print('best accuracy: {:.4}%'.format(gs_gbt.best_score_ * 100))\n",
    "print('params:\\n', gs_gbt.best_params_)"
   ]
  },
  {
   "cell_type": "code",
   "execution_count": null,
   "metadata": {
    "ExecuteTime": {
     "start_time": "2020-03-04T10:14:54.166Z"
    }
   },
   "outputs": [],
   "source": [
    "# fitting best params\n",
    "gbt_gs_model = GradientBoostingClassifier(learning_rate=0.1,\n",
    "                                         max_depth=2,\n",
    "                                         min_samples_leaf=2,\n",
    "                                         min_samples_split=2,\n",
    "                                         min_weight_fraction_leaf=0.01,\n",
    "                                         n_estimators=60)\n",
    "gbt_gs_model.fit(X_train, y_train)\n",
    "\n",
    "predictions = gbt_gs_model.predict(X_test)"
   ]
  },
  {
   "cell_type": "markdown",
   "metadata": {},
   "source": [
    "#### final model"
   ]
  },
  {
   "cell_type": "markdown",
   "metadata": {},
   "source": [
    "__best model__"
   ]
  },
  {
   "cell_type": "code",
   "execution_count": null,
   "metadata": {
    "ExecuteTime": {
     "start_time": "2020-03-04T10:14:54.174Z"
    }
   },
   "outputs": [],
   "source": [
    "# new model report\n",
    "model_report(gbt_gs_model)"
   ]
  },
  {
   "cell_type": "markdown",
   "metadata": {},
   "source": [
    "### SVM"
   ]
  },
  {
   "cell_type": "code",
   "execution_count": null,
   "metadata": {
    "ExecuteTime": {
     "start_time": "2020-03-04T10:14:54.181Z"
    }
   },
   "outputs": [],
   "source": [
    "svm_model = svm.SVC(random_state=3)\n",
    "svm_model.fit(X_train, y_train)\n",
    "\n",
    "predictions = svm_model.predict(X_test)\n",
    "# actuals = y_test"
   ]
  },
  {
   "cell_type": "markdown",
   "metadata": {},
   "source": [
    "___\n",
    "__default model__"
   ]
  },
  {
   "cell_type": "code",
   "execution_count": null,
   "metadata": {
    "ExecuteTime": {
     "start_time": "2020-03-04T10:14:54.188Z"
    }
   },
   "outputs": [],
   "source": [
    "model_report(svm_model, cm=False)"
   ]
  },
  {
   "cell_type": "markdown",
   "metadata": {},
   "source": [
    "#### grid searching"
   ]
  },
  {
   "cell_type": "markdown",
   "metadata": {},
   "source": [
    "__random grid search__"
   ]
  },
  {
   "cell_type": "code",
   "execution_count": null,
   "metadata": {
    "ExecuteTime": {
     "start_time": "2020-03-04T10:14:54.197Z"
    }
   },
   "outputs": [],
   "source": [
    "# set random search params\n",
    "clf_C = [0.07,0.1,1.0, 1.03]\n",
    "clf_gamma = [0.005,0.001,0.01, 0.1]\n",
    "clf_kernel = ['rbf', 'linear']\n",
    "\n",
    "random_grid = {\n",
    "               'C': clf_C,\n",
    "               'gamma': clf_gamma,\n",
    "               'kernel': clf_kernel\n",
    "               }\n",
    "\n",
    "# fit and search random param combinations\n",
    "svm_random = RandomizedSearchCV(estimator = svm_model\n",
    "                               , param_distributions = random_grid\n",
    "                               , n_iter = 8 , cv = 3, verbose=10\n",
    "                               , scoring='recall_macro', random_state=3, n_jobs = -1)\n",
    "# Fit the random search model\n",
    "svm_random.fit(X_train, y_train)"
   ]
  },
  {
   "cell_type": "code",
   "execution_count": null,
   "metadata": {
    "ExecuteTime": {
     "start_time": "2020-03-04T10:14:54.203Z"
    }
   },
   "outputs": [],
   "source": [
    "print('best accuracy: {:.4}%'.format(svm_random.best_score_ * 100));\n",
    "print(svm_random.best_params_)"
   ]
  },
  {
   "cell_type": "markdown",
   "metadata": {},
   "source": [
    "___\n",
    "__grid search__"
   ]
  },
  {
   "cell_type": "code",
   "execution_count": null,
   "metadata": {
    "ExecuteTime": {
     "start_time": "2020-03-04T10:14:54.211Z"
    }
   },
   "outputs": [],
   "source": [
    "# Set grid search params\n",
    "param_grid_svm = [\n",
    " \n",
    "  {'C': [1.0, 1.01, 1.03], 'gamma': [0.008, 0.01, 0.012]\n",
    "   , 'kernel': ['rbf', 'linear']\n",
    "  }]\n",
    " \n",
    "\n",
    "# Construct grid search\n",
    "gs_svm = GridSearchCV(estimator=svm_model,\n",
    "            param_grid=param_grid_svm,scoring='recall_macro',\n",
    "            cv=5, verbose=10, return_train_score = True)\n",
    "\n",
    "# Fit using grid search\n",
    "gs_svm.fit(X_train, y_train)\n",
    "\n",
    "# Best accuracy\n",
    "print('best score: {:.4}%'.format(gs_svm.best_score_ * 100));\n",
    "print('\\nBest params:\\n', gs_svm.best_params_)"
   ]
  },
  {
   "cell_type": "code",
   "execution_count": null,
   "metadata": {
    "ExecuteTime": {
     "start_time": "2020-03-04T10:14:54.218Z"
    }
   },
   "outputs": [],
   "source": [
    "svm_gs_model = svm.SVC(C=1.03\n",
    "                       ,gamma=0.008\n",
    "                        ,kernel='rbf'\n",
    "                             )\n",
    "svm_gs_model.fit(X_train, y_train)\n",
    "\n",
    "predictions = svm_gs_model.predict(X_test)"
   ]
  },
  {
   "cell_type": "markdown",
   "metadata": {},
   "source": [
    "#### final model"
   ]
  },
  {
   "cell_type": "markdown",
   "metadata": {},
   "source": [
    "__best model__"
   ]
  },
  {
   "cell_type": "code",
   "execution_count": null,
   "metadata": {
    "ExecuteTime": {
     "start_time": "2020-03-04T10:14:54.228Z"
    }
   },
   "outputs": [],
   "source": [
    "model_report(svm_gs_model, cm=False)"
   ]
  },
  {
   "cell_type": "markdown",
   "metadata": {},
   "source": [
    "### XGBoost"
   ]
  },
  {
   "cell_type": "code",
   "execution_count": null,
   "metadata": {
    "ExecuteTime": {
     "start_time": "2020-03-04T10:14:54.234Z"
    }
   },
   "outputs": [],
   "source": [
    "# initiate model\n",
    "xgb_model = XGBClassifier(random_state=3)\n",
    "xgb_model.fit(X_train, y_train)\n",
    "\n",
    "predictions = xgb_model.predict(X_test)\n",
    "# actuals = y_test"
   ]
  },
  {
   "cell_type": "code",
   "execution_count": null,
   "metadata": {
    "ExecuteTime": {
     "start_time": "2020-03-04T10:14:54.242Z"
    }
   },
   "outputs": [],
   "source": [
    "model_report(xgb_model)"
   ]
  },
  {
   "cell_type": "markdown",
   "metadata": {},
   "source": [
    "#### grid searching"
   ]
  },
  {
   "cell_type": "markdown",
   "metadata": {},
   "source": [
    "__random grid search__"
   ]
  },
  {
   "cell_type": "code",
   "execution_count": null,
   "metadata": {
    "ExecuteTime": {
     "start_time": "2020-03-04T10:14:54.252Z"
    }
   },
   "outputs": [],
   "source": [
    "#set random search params\n",
    "learning_rate=[.1,.11]\n",
    "max_depth = [3]\n",
    "min_child_weight = [1, 1.1]\n",
    "n_estimators = [90,100,110]\n",
    "\n",
    "\n",
    "random_grid = {\n",
    "               'learning_rate':learning_rate,\n",
    "               'max_depth': max_depth,\n",
    "               'min_child_weight':min_child_weight\n",
    "              'n_estimators': n_estimators\n",
    "              }\n",
    "\n",
    "# searching random params\n",
    "xgb_random = RandomizedSearchCV(estimator = xgb_model\n",
    "                               , param_distributions = random_grid\n",
    "                               , n_iter = 5, cv = 3, verbose=10, scoring='recall_macro'\n",
    "                               , random_state=3, n_jobs = -1)\n",
    "# fit random search model\n",
    "xgb_random.fit(X_train, y_train)\n",
    "print('best accuracy: {:.4}%'.format(xgb_random.best_score_ * 100));\n",
    "print(xgb_random.best_params_);"
   ]
  },
  {
   "cell_type": "markdown",
   "metadata": {},
   "source": [
    "#### grid search"
   ]
  },
  {
   "cell_type": "code",
   "execution_count": null,
   "metadata": {
    "ExecuteTime": {
     "start_time": "2020-03-04T10:14:54.260Z"
    }
   },
   "outputs": [],
   "source": [
    "param_grid_xgb = [\n",
    "    {\n",
    "        'xgb_model__min_child_weight': [0.9, 1.0, 1.1],\n",
    "    'xgb_model__learning_rate': [.09,.1],\n",
    "    'xgb_model__n_estimators': [90,95]\n",
    " }\n",
    "]\n",
    "\n",
    "# Construct Grid Search\n",
    "gs_xgb = GridSearchCV(estimator=xgb_model,\n",
    "                    param_grid=param_grid_xgb,\n",
    "                    scoring='recall_macro',random_state=3,\n",
    "                    cv=3, n_jobs=-1, verbose=10)\n",
    "\n",
    "# Fit using grid search\n",
    "gs_xgb.fit(X, y)\n",
    "\n",
    "# Best accuracy and parameters\n",
    "print('best score: {:.3}%'.format(gs_xgb.best_score_ * 100))\n",
    "print('params:\\n', gs_xgb.best_params_);"
   ]
  },
  {
   "cell_type": "code",
   "execution_count": null,
   "metadata": {
    "ExecuteTime": {
     "start_time": "2020-03-04T10:14:54.268Z"
    },
    "scrolled": true
   },
   "outputs": [],
   "source": [
    "# fit using best params\n",
    "xgb_gs_model = XGBClassifier(learning_rate=0.009,\n",
    "                           #  max_depth=3,\n",
    "                             min_child_weight=1\n",
    "                          #   n_estimators=90\n",
    "                            )\n",
    "xgb_gs_model.fit(X_train, y_train)\n",
    "\n",
    "predictions = xgb_gs_model.predict(X_test)\n",
    "\n",
    "model_report(xgb_gs_model)"
   ]
  }
 ],
 "metadata": {
  "hide_input": false,
  "kernelspec": {
   "display_name": "Python 3",
   "language": "python",
   "name": "python3"
  },
  "language_info": {
   "codemirror_mode": {
    "name": "ipython",
    "version": 3
   },
   "file_extension": ".py",
   "mimetype": "text/x-python",
   "name": "python",
   "nbconvert_exporter": "python",
   "pygments_lexer": "ipython3",
   "version": "3.7.3"
  },
  "toc": {
   "base_numbering": 1,
   "nav_menu": {},
   "number_sections": true,
   "sideBar": true,
   "skip_h1_title": false,
   "title_cell": "Table of Contents",
   "title_sidebar": "Contents",
   "toc_cell": false,
   "toc_position": {
    "height": "calc(100% - 180px)",
    "left": "10px",
    "top": "150px",
    "width": "165px"
   },
   "toc_section_display": true,
   "toc_window_display": false
  }
 },
 "nbformat": 4,
 "nbformat_minor": 2
}
