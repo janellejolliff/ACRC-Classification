{
 "cells": [
  {
   "cell_type": "markdown",
   "metadata": {},
   "source": [
    "## import libraries, packages, data"
   ]
  },
  {
   "cell_type": "markdown",
   "metadata": {},
   "source": [
    "### libraries, packages"
   ]
  },
  {
   "cell_type": "code",
   "execution_count": 35,
   "metadata": {
    "ExecuteTime": {
     "end_time": "2020-03-01T10:44:52.135313Z",
     "start_time": "2020-03-01T10:44:52.127271Z"
    },
    "code_folding": []
   },
   "outputs": [],
   "source": [
    "#importing libraries & packages\n",
    "import pandas as pd\n",
    "import numpy as np\n",
    "import warnings\n",
    "warnings.filterwarnings('ignore')\n",
    "\n",
    "#display multiple outputs from cell \n",
    "from IPython.core.interactiveshell import InteractiveShell\n",
    "InteractiveShell.ast_node_interactivity = \"all\"\n",
    "\n",
    "# machine learning\n",
    "import sklearn\n",
    "from sklearn.model_selection import train_test_split, GridSearchCV, cross_val_score, RandomizedSearchCV\n",
    "from sklearn.ensemble import RandomForestClassifier, AdaBoostClassifier, ExtraTreesClassifier, GradientBoostingClassifier\n",
    "from sklearn.pipeline import Pipeline, make_pipeline\n",
    "from sklearn.metrics import confusion_matrix, precision_score, recall_score, accuracy_score, f1_score, classification_report\n",
    "from sklearn.linear_model import LogisticRegression\n",
    "from sklearn.utils import resample\n",
    "from imblearn.over_sampling import ADASYN, SMOTE\n",
    "from sklearn.feature_selection import SelectKBest, chi2\n",
    "from sklearn import svm\n",
    "from imblearn.over_sampling import SMOTE\n",
    "from imblearn.under_sampling import RandomUnderSampler\n",
    "from imblearn.pipeline import Pipeline\n",
    "from xgboost import XGBClassifier\n",
    "from sklearn.tree import DecisionTreeClassifier"
   ]
  },
  {
   "cell_type": "code",
   "execution_count": 3,
   "metadata": {
    "ExecuteTime": {
     "end_time": "2020-03-01T05:14:07.872856Z",
     "start_time": "2020-03-01T05:14:07.864798Z"
    },
    "code_folding": [
     0
    ]
   },
   "outputs": [],
   "source": [
    "# keras\n",
    "import keras\n",
    "from keras.models import Sequential \n",
    "from keras.utils import np_utils\n",
    "from sklearn.preprocessing import LabelEncoder\n",
    "from keras.utils.np_utils import to_categorical\n",
    "from sklearn.utils import shuffle\n",
    "from sklearn import preprocessing, model_selection\n",
    "from keras.layers import Dense, Dropout, Activation\n",
    "from keras.optimizers import SGD"
   ]
  },
  {
   "cell_type": "markdown",
   "metadata": {},
   "source": [
    "### import clean data from part 1"
   ]
  },
  {
   "cell_type": "code",
   "execution_count": 101,
   "metadata": {
    "ExecuteTime": {
     "end_time": "2020-03-01T11:26:50.558049Z",
     "start_time": "2020-03-01T11:26:50.452039Z"
    }
   },
   "outputs": [],
   "source": [
    "# import Animal Control Incidents df\n",
    "df = pd.read_csv('a_control.csv')"
   ]
  },
  {
   "cell_type": "code",
   "execution_count": 102,
   "metadata": {
    "ExecuteTime": {
     "end_time": "2020-03-01T11:26:50.834563Z",
     "start_time": "2020-03-01T11:26:50.800005Z"
    }
   },
   "outputs": [
    {
     "name": "stdout",
     "output_type": "stream",
     "text": [
      "<class 'pandas.core.frame.DataFrame'>\n",
      "RangeIndex: 37902 entries, 0 to 37901\n",
      "Data columns (total 11 columns):\n",
      "species         37902 non-null object\n",
      "breed           37902 non-null object\n",
      "size            37902 non-null object\n",
      "color           37902 non-null object\n",
      "condition       37902 non-null object\n",
      "temperment      37902 non-null object\n",
      "weekday         37902 non-null float64\n",
      "month           37902 non-null float64\n",
      "service_type    37902 non-null object\n",
      "disposition     37902 non-null object\n",
      "municipality    37902 non-null object\n",
      "dtypes: float64(2), object(9)\n",
      "memory usage: 3.2+ MB\n"
     ]
    }
   ],
   "source": [
    "df.info()"
   ]
  },
  {
   "cell_type": "code",
   "execution_count": 103,
   "metadata": {
    "ExecuteTime": {
     "end_time": "2020-03-01T11:26:51.165610Z",
     "start_time": "2020-03-01T11:26:51.129840Z"
    }
   },
   "outputs": [],
   "source": [
    "for col in ('month', 'weekday'):\n",
    "    df[col] = df[col].astype(str)"
   ]
  },
  {
   "cell_type": "code",
   "execution_count": 104,
   "metadata": {
    "ExecuteTime": {
     "end_time": "2020-03-01T11:26:51.460064Z",
     "start_time": "2020-03-01T11:26:51.421544Z"
    }
   },
   "outputs": [],
   "source": [
    "df = df[['species', 'breed', 'size', 'condition', 'temperment', 'weekday', 'service_type', 'disposition']]"
   ]
  },
  {
   "cell_type": "code",
   "execution_count": 105,
   "metadata": {
    "ExecuteTime": {
     "end_time": "2020-03-01T11:26:52.062328Z",
     "start_time": "2020-03-01T11:26:51.787795Z"
    },
    "code_folding": []
   },
   "outputs": [],
   "source": [
    "# # assign target\n",
    "y = df[\"disposition\"]\n",
    "\n",
    "#remove target from features\n",
    "df.drop(columns= ['disposition'], axis=1, inplace=True)\n",
    "\n",
    "# dummy categorical features\n",
    "#col_list = list(df.select_dtypes(include=['object']).columns)\n",
    "col_list = list(df.columns)\n",
    "\n",
    "# create dummies for categorical features, assign to X\n",
    "df = pd.DataFrame(pd.get_dummies(data=df, drop_first=True\n",
    "                   , prefix=col_list))\n",
    "X = df\n",
    "\n",
    "# X_train_d and y_train_d = using original standard test train spit dad\n",
    "# that way, I can try out different resampling methods\n",
    "X_train, X_test, y_train, y_test = train_test_split(X, y, test_size=0.2, shuffle=True, stratify=y, random_state=33)"
   ]
  },
  {
   "cell_type": "markdown",
   "metadata": {},
   "source": [
    "### functions"
   ]
  },
  {
   "cell_type": "code",
   "execution_count": 106,
   "metadata": {
    "ExecuteTime": {
     "end_time": "2020-03-01T11:26:52.462173Z",
     "start_time": "2020-03-01T11:26:52.452749Z"
    },
    "code_folding": []
   },
   "outputs": [],
   "source": [
    "# print model report\n",
    "def model_report(model, cm = True): \n",
    "    \n",
    "    print('\\nCross Validation Scoring:\\n')\n",
    "    \n",
    "    train_score = model.score(X_train, y_train)\n",
    "    print(\"train score: {:.4}%\".format(train_score * 100))\n",
    "\n",
    "    test_score = model.score(X_test, y_test)\n",
    "    print(\"test score: {:.4}%\".format(test_score * 100))\n",
    "    \n",
    "    if cm :\n",
    "\n",
    "        cv_score = np.mean(cross_val_score(model, X, y, cv=3))\n",
    "        print(\"cross val score: {:.4}%\".format(cv_score * 100))\n",
    "\n",
    "        print(\"\\nClassification Report:\")\n",
    "        print(classification_report(actuals, predictions))\n",
    "\n",
    "#         col_list = []\n",
    "#         ind_list = []                     \n",
    "#         for x in y_test.unique():\n",
    "#             col_list.append('pred_'+ x)\n",
    "#             ind_list.append('real_'+x)\n",
    "\n",
    "\n",
    "        print('\\nConfusion matrix:'.format(accuracy_score))\n",
    "        display(pd.DataFrame(confusion_matrix(y_test, predictions)\n",
    "                             #, columns=col_list, index=ind_list))\n",
    "                ,columns=['pred doa','pred euth', 'pred to owner/wild', 'pred spec_case', 'pred trans']\n",
    "              , index=['real euth', 'real doa', 'real to owner/wild', 'real spec_case', 'real trans']))\n",
    "\n",
    "    else:\n",
    "        pass"
   ]
  },
  {
   "cell_type": "markdown",
   "metadata": {},
   "source": [
    "## prep data"
   ]
  },
  {
   "cell_type": "markdown",
   "metadata": {},
   "source": [
    "### resampling"
   ]
  },
  {
   "cell_type": "markdown",
   "metadata": {},
   "source": [
    "Due to the imbalance of class data, it could be beneficial to resample to compensate for the missing data. Using smote to oversample, then random undersampling is a common practice in these circumstances\n",
    "\n"
   ]
  },
  {
   "cell_type": "code",
   "execution_count": 107,
   "metadata": {
    "ExecuteTime": {
     "end_time": "2020-03-01T11:26:53.568097Z",
     "start_time": "2020-03-01T11:26:53.564777Z"
    }
   },
   "outputs": [],
   "source": [
    "# over = SMOTE(sampling_strategy='not majority', random_state=3)\n",
    "# under = RandomUnderSampler(sampling_strategy='not minority', random_state=3)\n",
    "# steps = [('o', over), ('u', under)]\n",
    "# pipeline = Pipeline(steps=steps)\n",
    "# # # transform the dataset\n",
    "# X_train, y_train = pipeline.fit_resample(X_train_d, y_train_d)"
   ]
  },
  {
   "cell_type": "code",
   "execution_count": 108,
   "metadata": {
    "ExecuteTime": {
     "end_time": "2020-03-01T11:26:53.850772Z",
     "start_time": "2020-03-01T11:26:53.844677Z"
    }
   },
   "outputs": [
    {
     "name": "stdout",
     "output_type": "stream",
     "text": [
      "['trans_caa' 'return_to_wild/owner' 'special_caseother' 'dead_on_arrival'\n",
      " 'euthanized']\n"
     ]
    }
   ],
   "source": [
    "print (y_test.unique())"
   ]
  },
  {
   "cell_type": "markdown",
   "metadata": {},
   "source": [
    "## __modeling__"
   ]
  },
  {
   "cell_type": "code",
   "execution_count": 109,
   "metadata": {
    "ExecuteTime": {
     "end_time": "2020-03-01T11:26:58.111885Z",
     "start_time": "2020-03-01T11:26:54.417533Z"
    },
    "scrolled": true
   },
   "outputs": [
    {
     "data": {
      "text/plain": [
       "LogisticRegression(C=1.0, class_weight=None, dual=False, fit_intercept=True,\n",
       "                   intercept_scaling=1, l1_ratio=None, max_iter=100,\n",
       "                   multi_class='auto', n_jobs=None, penalty='l2',\n",
       "                   random_state=3, solver='lbfgs', tol=0.0001, verbose=0,\n",
       "                   warm_start=False)"
      ]
     },
     "execution_count": 109,
     "metadata": {},
     "output_type": "execute_result"
    },
    {
     "name": "stdout",
     "output_type": "stream",
     "text": [
      "\n",
      "Cross Validation Scoring:\n",
      "\n",
      "train score: 93.73%\n",
      "test score: 89.59%\n",
      "cross val score: 89.54%\n",
      "\n",
      "Classification Report:\n",
      "                      precision    recall  f1-score   support\n",
      "\n",
      "     dead_on_arrival       0.00      0.00      0.00        11\n",
      "          euthanized       0.00      0.00      0.00        24\n",
      "return_to_wild/owner       0.93      0.84      0.88      1814\n",
      "   special_caseother       0.69      0.33      0.45       141\n",
      "           trans_caa       0.93      0.98      0.96      5591\n",
      "\n",
      "            accuracy                           0.93      7581\n",
      "           macro avg       0.51      0.43      0.46      7581\n",
      "        weighted avg       0.92      0.93      0.92      7581\n",
      "\n",
      "\n",
      "Confusion matrix:\n"
     ]
    },
    {
     "data": {
      "text/html": [
       "<div>\n",
       "<style scoped>\n",
       "    .dataframe tbody tr th:only-of-type {\n",
       "        vertical-align: middle;\n",
       "    }\n",
       "\n",
       "    .dataframe tbody tr th {\n",
       "        vertical-align: top;\n",
       "    }\n",
       "\n",
       "    .dataframe thead th {\n",
       "        text-align: right;\n",
       "    }\n",
       "</style>\n",
       "<table border=\"1\" class=\"dataframe\">\n",
       "  <thead>\n",
       "    <tr style=\"text-align: right;\">\n",
       "      <th></th>\n",
       "      <th>pred doa</th>\n",
       "      <th>pred euth</th>\n",
       "      <th>pred to owner/wild</th>\n",
       "      <th>pred spec_case</th>\n",
       "      <th>pred trans</th>\n",
       "    </tr>\n",
       "  </thead>\n",
       "  <tbody>\n",
       "    <tr>\n",
       "      <th>real euth</th>\n",
       "      <td>0</td>\n",
       "      <td>0</td>\n",
       "      <td>1</td>\n",
       "      <td>0</td>\n",
       "      <td>10</td>\n",
       "    </tr>\n",
       "    <tr>\n",
       "      <th>real doa</th>\n",
       "      <td>0</td>\n",
       "      <td>0</td>\n",
       "      <td>1</td>\n",
       "      <td>0</td>\n",
       "      <td>23</td>\n",
       "    </tr>\n",
       "    <tr>\n",
       "      <th>real to owner/wild</th>\n",
       "      <td>0</td>\n",
       "      <td>0</td>\n",
       "      <td>1517</td>\n",
       "      <td>3</td>\n",
       "      <td>294</td>\n",
       "    </tr>\n",
       "    <tr>\n",
       "      <th>real spec_case</th>\n",
       "      <td>0</td>\n",
       "      <td>0</td>\n",
       "      <td>19</td>\n",
       "      <td>47</td>\n",
       "      <td>75</td>\n",
       "    </tr>\n",
       "    <tr>\n",
       "      <th>real trans</th>\n",
       "      <td>0</td>\n",
       "      <td>0</td>\n",
       "      <td>92</td>\n",
       "      <td>18</td>\n",
       "      <td>5481</td>\n",
       "    </tr>\n",
       "  </tbody>\n",
       "</table>\n",
       "</div>"
      ],
      "text/plain": [
       "                    pred doa  pred euth  pred to owner/wild  pred spec_case  \\\n",
       "real euth                  0          0                   1               0   \n",
       "real doa                   0          0                   1               0   \n",
       "real to owner/wild         0          0                1517               3   \n",
       "real spec_case             0          0                  19              47   \n",
       "real trans                 0          0                  92              18   \n",
       "\n",
       "                    pred trans  \n",
       "real euth                   10  \n",
       "real doa                    23  \n",
       "real to owner/wild         294  \n",
       "real spec_case              75  \n",
       "real trans                5481  "
      ]
     },
     "metadata": {},
     "output_type": "display_data"
    }
   ],
   "source": [
    "lr = LogisticRegression(random_state=3)\n",
    "lr.fit(X_train, y_train)\n",
    " \n",
    "# Predict on training set\n",
    "predictions = lr.predict(X_test)\n",
    "actuals = y_test\n",
    "\n",
    "model_report(dt_model)"
   ]
  },
  {
   "cell_type": "markdown",
   "metadata": {},
   "source": [
    "### decision tree"
   ]
  },
  {
   "cell_type": "markdown",
   "metadata": {},
   "source": [
    "__default model__"
   ]
  },
  {
   "cell_type": "code",
   "execution_count": 111,
   "metadata": {
    "ExecuteTime": {
     "end_time": "2020-03-01T11:28:01.249517Z",
     "start_time": "2020-03-01T11:27:58.892725Z"
    }
   },
   "outputs": [
    {
     "data": {
      "text/plain": [
       "DecisionTreeClassifier(ccp_alpha=0.0, class_weight=None, criterion='gini',\n",
       "                       max_depth=None, max_features=None, max_leaf_nodes=None,\n",
       "                       min_impurity_decrease=0.0, min_impurity_split=None,\n",
       "                       min_samples_leaf=1, min_samples_split=2,\n",
       "                       min_weight_fraction_leaf=0.0, presort='deprecated',\n",
       "                       random_state=3, splitter='best')"
      ]
     },
     "execution_count": 111,
     "metadata": {},
     "output_type": "execute_result"
    },
    {
     "name": "stdout",
     "output_type": "stream",
     "text": [
      "\n",
      "Cross Validation Scoring:\n",
      "\n",
      "train score: 95.78%\n",
      "test score: 89.87%\n",
      "cross val score: 89.54%\n",
      "\n",
      "Classification Report:\n",
      "                      precision    recall  f1-score   support\n",
      "\n",
      "     dead_on_arrival       0.00      0.00      0.00        11\n",
      "          euthanized       0.09      0.08      0.09        24\n",
      "return_to_wild/owner       0.84      0.84      0.84      1814\n",
      "   special_caseother       0.38      0.28      0.33       141\n",
      "           trans_caa       0.93      0.94      0.94      5591\n",
      "\n",
      "            accuracy                           0.90      7581\n",
      "           macro avg       0.45      0.43      0.44      7581\n",
      "        weighted avg       0.90      0.90      0.90      7581\n",
      "\n",
      "\n",
      "Confusion matrix:\n"
     ]
    },
    {
     "data": {
      "text/html": [
       "<div>\n",
       "<style scoped>\n",
       "    .dataframe tbody tr th:only-of-type {\n",
       "        vertical-align: middle;\n",
       "    }\n",
       "\n",
       "    .dataframe tbody tr th {\n",
       "        vertical-align: top;\n",
       "    }\n",
       "\n",
       "    .dataframe thead th {\n",
       "        text-align: right;\n",
       "    }\n",
       "</style>\n",
       "<table border=\"1\" class=\"dataframe\">\n",
       "  <thead>\n",
       "    <tr style=\"text-align: right;\">\n",
       "      <th></th>\n",
       "      <th>pred doa</th>\n",
       "      <th>pred euth</th>\n",
       "      <th>pred to owner/wild</th>\n",
       "      <th>pred spec_case</th>\n",
       "      <th>pred trans</th>\n",
       "    </tr>\n",
       "  </thead>\n",
       "  <tbody>\n",
       "    <tr>\n",
       "      <th>real euth</th>\n",
       "      <td>0</td>\n",
       "      <td>1</td>\n",
       "      <td>2</td>\n",
       "      <td>0</td>\n",
       "      <td>8</td>\n",
       "    </tr>\n",
       "    <tr>\n",
       "      <th>real doa</th>\n",
       "      <td>0</td>\n",
       "      <td>2</td>\n",
       "      <td>1</td>\n",
       "      <td>0</td>\n",
       "      <td>21</td>\n",
       "    </tr>\n",
       "    <tr>\n",
       "      <th>real to owner/wild</th>\n",
       "      <td>1</td>\n",
       "      <td>3</td>\n",
       "      <td>1531</td>\n",
       "      <td>7</td>\n",
       "      <td>272</td>\n",
       "    </tr>\n",
       "    <tr>\n",
       "      <th>real spec_case</th>\n",
       "      <td>0</td>\n",
       "      <td>2</td>\n",
       "      <td>25</td>\n",
       "      <td>40</td>\n",
       "      <td>74</td>\n",
       "    </tr>\n",
       "    <tr>\n",
       "      <th>real trans</th>\n",
       "      <td>14</td>\n",
       "      <td>14</td>\n",
       "      <td>265</td>\n",
       "      <td>58</td>\n",
       "      <td>5240</td>\n",
       "    </tr>\n",
       "  </tbody>\n",
       "</table>\n",
       "</div>"
      ],
      "text/plain": [
       "                    pred doa  pred euth  pred to owner/wild  pred spec_case  \\\n",
       "real euth                  0          1                   2               0   \n",
       "real doa                   0          2                   1               0   \n",
       "real to owner/wild         1          3                1531               7   \n",
       "real spec_case             0          2                  25              40   \n",
       "real trans                14         14                 265              58   \n",
       "\n",
       "                    pred trans  \n",
       "real euth                    8  \n",
       "real doa                    21  \n",
       "real to owner/wild         272  \n",
       "real spec_case              74  \n",
       "real trans                5240  "
      ]
     },
     "metadata": {},
     "output_type": "display_data"
    }
   ],
   "source": [
    "# initialize and fit default decision tree\n",
    "dt_model = DecisionTreeClassifier(random_state=3)\n",
    "dt_model.fit(X_train, y_train)\n",
    "predictions = dt_model.predict(X_test)\n",
    "#actuals = y_test\n",
    "\n",
    "model_report(dt_model)"
   ]
  },
  {
   "cell_type": "code",
   "execution_count": 112,
   "metadata": {
    "ExecuteTime": {
     "end_time": "2020-03-01T11:28:20.735022Z",
     "start_time": "2020-03-01T11:28:01.253985Z"
    }
   },
   "outputs": [
    {
     "name": "stdout",
     "output_type": "stream",
     "text": [
      "Fitting 3 folds for each of 100 candidates, totalling 300 fits\n"
     ]
    },
    {
     "name": "stderr",
     "output_type": "stream",
     "text": [
      "[Parallel(n_jobs=-1)]: Using backend LokyBackend with 4 concurrent workers.\n",
      "[Parallel(n_jobs=-1)]: Done  24 tasks      | elapsed:    4.0s\n",
      "[Parallel(n_jobs=-1)]: Done 120 tasks      | elapsed:    9.8s\n",
      "[Parallel(n_jobs=-1)]: Done 280 tasks      | elapsed:   18.2s\n"
     ]
    },
    {
     "name": "stdout",
     "output_type": "stream",
     "text": [
      "best accuracy: 92.58%\n",
      "{'min_samples_split': 20, 'min_samples_leaf': 5, 'max_leaf_nodes': None, 'max_features': 'auto', 'max_depth': 15, 'criterion': 'entropy'}\n"
     ]
    },
    {
     "name": "stderr",
     "output_type": "stream",
     "text": [
      "[Parallel(n_jobs=-1)]: Done 300 out of 300 | elapsed:   19.3s finished\n"
     ]
    }
   ],
   "source": [
    "# set random search params\n",
    "criterion=['gini','entropy']\n",
    "max_leaf_nodes = [None]\n",
    "max_features = ['auto', 'sqrt']\n",
    "max_depth = [5,10,15,17,20]\n",
    "min_samples_split = [10,20,30,50,100]\n",
    "min_samples_leaf = [3,5,7,10,20]\n",
    "bootstrap = [True, False]\n",
    "\n",
    "random_grid = {'criterion':criterion,\n",
    "               'max_leaf_nodes': max_leaf_nodes,\n",
    "               'max_features': max_features,\n",
    "               'max_depth': max_depth,\n",
    "               'min_samples_split': min_samples_split,\n",
    "               'min_samples_leaf': min_samples_leaf\n",
    "               }\n",
    "\n",
    "# random grid search\n",
    "dt_random = RandomizedSearchCV(estimator = dt_model\n",
    "                               , param_distributions = random_grid\n",
    "                               , n_iter = 100, cv = 3, verbose=3, error_score=0\n",
    "                               , scoring=('accuracy')\n",
    "                               , random_state=3, n_jobs = -1)\n",
    "# fit random search model\n",
    "dt_random.fit(X_train, y_train);\n",
    "\n",
    "print('best accuracy: {:.4}%'.format(dt_random.best_score_ * 100));\n",
    "print(dt_random.best_params_);"
   ]
  },
  {
   "cell_type": "markdown",
   "metadata": {},
   "source": [
    "__grid search__"
   ]
  },
  {
   "cell_type": "code",
   "execution_count": 119,
   "metadata": {
    "ExecuteTime": {
     "end_time": "2020-03-01T11:40:34.280590Z",
     "start_time": "2020-03-01T11:39:53.724913Z"
    }
   },
   "outputs": [
    {
     "name": "stdout",
     "output_type": "stream",
     "text": [
      "Fitting 5 folds for each of 72 candidates, totalling 360 fits\n"
     ]
    },
    {
     "name": "stderr",
     "output_type": "stream",
     "text": [
      "[Parallel(n_jobs=-1)]: Using backend LokyBackend with 4 concurrent workers.\n",
      "[Parallel(n_jobs=-1)]: Done  33 tasks      | elapsed:    5.3s\n",
      "[Parallel(n_jobs=-1)]: Done 154 tasks      | elapsed:   17.3s\n"
     ]
    },
    {
     "name": "stdout",
     "output_type": "stream",
     "text": [
      "Best score: 92.7%\n",
      "params:\n",
      " {'criterion': 'gini', 'max_depth': 15, 'max_features': 40, 'max_leaf_nodes': None, 'min_samples_leaf': 7, 'min_samples_split': 2}\n"
     ]
    },
    {
     "name": "stderr",
     "output_type": "stream",
     "text": [
      "[Parallel(n_jobs=-1)]: Done 360 out of 360 | elapsed:   40.0s finished\n"
     ]
    }
   ],
   "source": [
    "# grid search params\n",
    "param_grid_dt = {'criterion': ['entropy','gini'],\n",
    "    'max_depth': [15,17,20],\n",
    "    'min_samples_split': [2],\n",
    "    'min_samples_leaf': [6,7,8],\n",
    "     'max_features':[40,50,60],\n",
    "     'max_leaf_nodes':[None]\n",
    "        }\n",
    "\n",
    "# grid search\n",
    "gs_dt = GridSearchCV(estimator=dt_model,\n",
    "                    param_grid=param_grid_dt,\n",
    "                     error_score=0,\n",
    "                    scoring=('accuracy'),\n",
    "                    cv=5, n_jobs=-1, verbose=2)\n",
    "\n",
    "# fitting grid search\n",
    "gs_dt.fit(X_train, y_train);\n",
    "\n",
    "# best parameters\n",
    "print('Best score: {:.3}%'.format(gs_dt.best_score_ * 100));\n",
    "print('params:\\n', gs_dt.best_params_);"
   ]
  },
  {
   "cell_type": "code",
   "execution_count": 120,
   "metadata": {
    "ExecuteTime": {
     "end_time": "2020-03-01T11:43:02.054273Z",
     "start_time": "2020-03-01T11:43:01.880550Z"
    }
   },
   "outputs": [
    {
     "data": {
      "text/plain": [
       "DecisionTreeClassifier(ccp_alpha=0.0, class_weight=None, criterion='gini',\n",
       "                       max_depth=15, max_features=40, max_leaf_nodes=None,\n",
       "                       min_impurity_decrease=0.0, min_impurity_split=None,\n",
       "                       min_samples_leaf=7, min_samples_split=2,\n",
       "                       min_weight_fraction_leaf=0.0, presort='deprecated',\n",
       "                       random_state=None, splitter='best')"
      ]
     },
     "execution_count": 120,
     "metadata": {},
     "output_type": "execute_result"
    }
   ],
   "source": [
    "# using best params to fit model\n",
    "dt_gs_model = DecisionTreeClassifier(criterion='gini',\n",
    "                              max_depth=15,\n",
    "                              max_features=40,\n",
    "                              max_leaf_nodes= None,\n",
    "                               min_samples_leaf=7,\n",
    "                               min_samples_split=2\n",
    "                                \n",
    "                                    )\n",
    "dt_gs_model.fit(X_train, y_train)\n",
    "\n",
    "predictions = dt_gs_model.predict(X_test)\n",
    "actuals = y_test"
   ]
  },
  {
   "cell_type": "code",
   "execution_count": 121,
   "metadata": {
    "ExecuteTime": {
     "end_time": "2020-03-01T11:43:04.310967Z",
     "start_time": "2020-03-01T11:43:03.432302Z"
    }
   },
   "outputs": [
    {
     "name": "stdout",
     "output_type": "stream",
     "text": [
      "\n",
      "Cross Validation Scoring:\n",
      "\n",
      "train score: 92.77%\n",
      "test score: 92.44%\n",
      "cross val score: 92.62%\n",
      "\n",
      "Classification Report:\n",
      "                      precision    recall  f1-score   support\n",
      "\n",
      "     dead_on_arrival       0.00      0.00      0.00        11\n",
      "          euthanized       0.00      0.00      0.00        24\n",
      "return_to_wild/owner       0.93      0.82      0.87      1814\n",
      "   special_caseother       0.63      0.28      0.39       141\n",
      "           trans_caa       0.93      0.98      0.95      5591\n",
      "\n",
      "            accuracy                           0.92      7581\n",
      "           macro avg       0.50      0.42      0.44      7581\n",
      "        weighted avg       0.92      0.92      0.92      7581\n",
      "\n",
      "\n",
      "Confusion matrix:\n"
     ]
    },
    {
     "data": {
      "text/html": [
       "<div>\n",
       "<style scoped>\n",
       "    .dataframe tbody tr th:only-of-type {\n",
       "        vertical-align: middle;\n",
       "    }\n",
       "\n",
       "    .dataframe tbody tr th {\n",
       "        vertical-align: top;\n",
       "    }\n",
       "\n",
       "    .dataframe thead th {\n",
       "        text-align: right;\n",
       "    }\n",
       "</style>\n",
       "<table border=\"1\" class=\"dataframe\">\n",
       "  <thead>\n",
       "    <tr style=\"text-align: right;\">\n",
       "      <th></th>\n",
       "      <th>pred doa</th>\n",
       "      <th>pred euth</th>\n",
       "      <th>pred to owner/wild</th>\n",
       "      <th>pred spec_case</th>\n",
       "      <th>pred trans</th>\n",
       "    </tr>\n",
       "  </thead>\n",
       "  <tbody>\n",
       "    <tr>\n",
       "      <th>real euth</th>\n",
       "      <td>0</td>\n",
       "      <td>0</td>\n",
       "      <td>1</td>\n",
       "      <td>0</td>\n",
       "      <td>10</td>\n",
       "    </tr>\n",
       "    <tr>\n",
       "      <th>real doa</th>\n",
       "      <td>0</td>\n",
       "      <td>0</td>\n",
       "      <td>1</td>\n",
       "      <td>0</td>\n",
       "      <td>23</td>\n",
       "    </tr>\n",
       "    <tr>\n",
       "      <th>real to owner/wild</th>\n",
       "      <td>0</td>\n",
       "      <td>0</td>\n",
       "      <td>1495</td>\n",
       "      <td>6</td>\n",
       "      <td>313</td>\n",
       "    </tr>\n",
       "    <tr>\n",
       "      <th>real spec_case</th>\n",
       "      <td>0</td>\n",
       "      <td>0</td>\n",
       "      <td>18</td>\n",
       "      <td>40</td>\n",
       "      <td>83</td>\n",
       "    </tr>\n",
       "    <tr>\n",
       "      <th>real trans</th>\n",
       "      <td>0</td>\n",
       "      <td>0</td>\n",
       "      <td>101</td>\n",
       "      <td>17</td>\n",
       "      <td>5473</td>\n",
       "    </tr>\n",
       "  </tbody>\n",
       "</table>\n",
       "</div>"
      ],
      "text/plain": [
       "                    pred doa  pred euth  pred to owner/wild  pred spec_case  \\\n",
       "real euth                  0          0                   1               0   \n",
       "real doa                   0          0                   1               0   \n",
       "real to owner/wild         0          0                1495               6   \n",
       "real spec_case             0          0                  18              40   \n",
       "real trans                 0          0                 101              17   \n",
       "\n",
       "                    pred trans  \n",
       "real euth                   10  \n",
       "real doa                    23  \n",
       "real to owner/wild         313  \n",
       "real spec_case              83  \n",
       "real trans                5473  "
      ]
     },
     "metadata": {},
     "output_type": "display_data"
    }
   ],
   "source": [
    "model_report(dt_gs_model)"
   ]
  },
  {
   "cell_type": "markdown",
   "metadata": {},
   "source": [
    "### Random Forest"
   ]
  },
  {
   "cell_type": "markdown",
   "metadata": {},
   "source": [
    "---\n",
    "__default model__"
   ]
  },
  {
   "cell_type": "code",
   "execution_count": 122,
   "metadata": {
    "ExecuteTime": {
     "end_time": "2020-03-01T11:43:37.256403Z",
     "start_time": "2020-03-01T11:43:10.274903Z"
    }
   },
   "outputs": [
    {
     "data": {
      "text/plain": [
       "RandomForestClassifier(bootstrap=True, ccp_alpha=0.0, class_weight=None,\n",
       "                       criterion='gini', max_depth=None, max_features='auto',\n",
       "                       max_leaf_nodes=None, max_samples=None,\n",
       "                       min_impurity_decrease=0.0, min_impurity_split=None,\n",
       "                       min_samples_leaf=1, min_samples_split=2,\n",
       "                       min_weight_fraction_leaf=0.0, n_estimators=100,\n",
       "                       n_jobs=None, oob_score=False, random_state=3, verbose=0,\n",
       "                       warm_start=False)"
      ]
     },
     "execution_count": 122,
     "metadata": {},
     "output_type": "execute_result"
    },
    {
     "name": "stdout",
     "output_type": "stream",
     "text": [
      "\n",
      "Cross Validation Scoring:\n",
      "\n",
      "train score: 95.78%\n",
      "test score: 91.82%\n",
      "cross val score: 91.95%\n",
      "\n",
      "Classification Report:\n",
      "                      precision    recall  f1-score   support\n",
      "\n",
      "     dead_on_arrival       0.00      0.00      0.00        11\n",
      "          euthanized       0.00      0.00      0.00        24\n",
      "return_to_wild/owner       0.90      0.83      0.87      1814\n",
      "   special_caseother       0.53      0.27      0.36       141\n",
      "           trans_caa       0.93      0.97      0.95      5591\n",
      "\n",
      "            accuracy                           0.92      7581\n",
      "           macro avg       0.47      0.41      0.43      7581\n",
      "        weighted avg       0.91      0.92      0.91      7581\n",
      "\n",
      "\n",
      "Confusion matrix:\n"
     ]
    },
    {
     "data": {
      "text/html": [
       "<div>\n",
       "<style scoped>\n",
       "    .dataframe tbody tr th:only-of-type {\n",
       "        vertical-align: middle;\n",
       "    }\n",
       "\n",
       "    .dataframe tbody tr th {\n",
       "        vertical-align: top;\n",
       "    }\n",
       "\n",
       "    .dataframe thead th {\n",
       "        text-align: right;\n",
       "    }\n",
       "</style>\n",
       "<table border=\"1\" class=\"dataframe\">\n",
       "  <thead>\n",
       "    <tr style=\"text-align: right;\">\n",
       "      <th></th>\n",
       "      <th>pred doa</th>\n",
       "      <th>pred euth</th>\n",
       "      <th>pred to owner/wild</th>\n",
       "      <th>pred spec_case</th>\n",
       "      <th>pred trans</th>\n",
       "    </tr>\n",
       "  </thead>\n",
       "  <tbody>\n",
       "    <tr>\n",
       "      <th>real euth</th>\n",
       "      <td>0</td>\n",
       "      <td>0</td>\n",
       "      <td>3</td>\n",
       "      <td>0</td>\n",
       "      <td>8</td>\n",
       "    </tr>\n",
       "    <tr>\n",
       "      <th>real doa</th>\n",
       "      <td>0</td>\n",
       "      <td>0</td>\n",
       "      <td>0</td>\n",
       "      <td>0</td>\n",
       "      <td>24</td>\n",
       "    </tr>\n",
       "    <tr>\n",
       "      <th>real to owner/wild</th>\n",
       "      <td>0</td>\n",
       "      <td>2</td>\n",
       "      <td>1507</td>\n",
       "      <td>4</td>\n",
       "      <td>301</td>\n",
       "    </tr>\n",
       "    <tr>\n",
       "      <th>real spec_case</th>\n",
       "      <td>0</td>\n",
       "      <td>2</td>\n",
       "      <td>21</td>\n",
       "      <td>38</td>\n",
       "      <td>80</td>\n",
       "    </tr>\n",
       "    <tr>\n",
       "      <th>real trans</th>\n",
       "      <td>2</td>\n",
       "      <td>7</td>\n",
       "      <td>136</td>\n",
       "      <td>30</td>\n",
       "      <td>5416</td>\n",
       "    </tr>\n",
       "  </tbody>\n",
       "</table>\n",
       "</div>"
      ],
      "text/plain": [
       "                    pred doa  pred euth  pred to owner/wild  pred spec_case  \\\n",
       "real euth                  0          0                   3               0   \n",
       "real doa                   0          0                   0               0   \n",
       "real to owner/wild         0          2                1507               4   \n",
       "real spec_case             0          2                  21              38   \n",
       "real trans                 2          7                 136              30   \n",
       "\n",
       "                    pred trans  \n",
       "real euth                    8  \n",
       "real doa                    24  \n",
       "real to owner/wild         301  \n",
       "real spec_case              80  \n",
       "real trans                5416  "
      ]
     },
     "metadata": {},
     "output_type": "display_data"
    }
   ],
   "source": [
    "#initialize and fit random forest\n",
    "rf_model = RandomForestClassifier(random_state=3)\n",
    "rf_model.fit(X_train, y_train)\n",
    "\n",
    "predictions = rf_model.predict(X_test)\n",
    "#actuals = y_test\n",
    "\n",
    "model_report(rf_model)"
   ]
  },
  {
   "cell_type": "markdown",
   "metadata": {},
   "source": [
    "___\n",
    "__Random Grid Search__"
   ]
  },
  {
   "cell_type": "markdown",
   "metadata": {},
   "source": [
    "The default model is overfitting. Some ways to avoid overfitting with random forests are: increasing the n_estimators, reducing max features, limiting max depth, and increasing min leaf samples can help construct a more robust fit. Being that it did perform well despite the overfitting, I decided not to go crazy playing with the parameters."
   ]
  },
  {
   "cell_type": "code",
   "execution_count": 123,
   "metadata": {
    "ExecuteTime": {
     "end_time": "2020-03-01T11:57:02.732299Z",
     "start_time": "2020-03-01T11:43:37.260110Z"
    },
    "code_folding": []
   },
   "outputs": [
    {
     "name": "stdout",
     "output_type": "stream",
     "text": [
      "Fitting 3 folds for each of 25 candidates, totalling 75 fits\n"
     ]
    },
    {
     "name": "stderr",
     "output_type": "stream",
     "text": [
      "[Parallel(n_jobs=-1)]: Using backend LokyBackend with 4 concurrent workers.\n",
      "[Parallel(n_jobs=-1)]: Done   5 tasks      | elapsed:   34.1s\n",
      "[Parallel(n_jobs=-1)]: Done  10 tasks      | elapsed:  1.2min\n",
      "[Parallel(n_jobs=-1)]: Done  17 tasks      | elapsed:  3.0min\n",
      "[Parallel(n_jobs=-1)]: Done  24 tasks      | elapsed:  4.6min\n",
      "[Parallel(n_jobs=-1)]: Done  33 tasks      | elapsed:  6.0min\n",
      "[Parallel(n_jobs=-1)]: Done  42 tasks      | elapsed:  8.6min\n",
      "[Parallel(n_jobs=-1)]: Done  53 tasks      | elapsed:  9.7min\n",
      "[Parallel(n_jobs=-1)]: Done  64 tasks      | elapsed: 10.7min\n",
      "[Parallel(n_jobs=-1)]: Done  75 out of  75 | elapsed: 12.7min finished\n"
     ]
    }
   ],
   "source": [
    "# set random search params\n",
    "\n",
    "n_estimators = [250,500,750,1000]\n",
    "# min_weight_fraction_leaf=[0.0, 0.001, 0.0001]\n",
    "# min_samples_split = [3,4,5,6]\n",
    "# min_samples_leaf = [2,3]\n",
    "# min_impurity_split = [0.0]\n",
    "# min_impurity_decrease = [0.0, 0.0001]\n",
    "# max_samples = [None, 20,25,30,35,40,50]\n",
    "# max_leaf_nodes = [None, 3,5,8,10,15,20,25]\n",
    "# max_features = ['auto', 3,5,6,8]\n",
    "max_depth = [2,3,5,10,20,30,35,40]\n",
    "criterion = ['entropy', 'gini']\n",
    "# bootstrap = [True, False]\n",
    "\n",
    "# Create the random grid\n",
    "random_grid = { 'n_estimators': n_estimators,\n",
    "#                  'min_weight_fraction_leaf': min_weight_fraction_leaf,\n",
    "#                  'min_samples_split': min_samples_split,\n",
    "#                  'min_samples_leaf': min_samples_leaf,\n",
    "#                  'min_impurity_split': min_impurity_split,\n",
    "#                  'min_impurity_decrease': min_impurity_decrease,\n",
    "#                  'max_samples': max_samples,\n",
    "#                  'max_leaf_nodes': max_leaf_nodes,\n",
    "#                  'max_features': max_features,\n",
    "                  'max_depth': max_depth,\n",
    "                 'criterion': criterion,\n",
    "#                  'bootstrap': bootstrap\n",
    "              }\n",
    "\n",
    "# fit and search random param combinations\n",
    "rf_random = RandomizedSearchCV(estimator = rf_model\n",
    "                               , param_distributions = random_grid\n",
    "                               , n_iter = 25\n",
    "                               , cv = 3\n",
    "                               , verbose=10\n",
    "                               , random_state=1\n",
    "                               , n_jobs = -1);\n",
    "# Fit the random search model\n",
    "rf_random.fit(X_train, y_train);"
   ]
  },
  {
   "cell_type": "code",
   "execution_count": 124,
   "metadata": {
    "ExecuteTime": {
     "end_time": "2020-03-01T11:57:02.747809Z",
     "start_time": "2020-03-01T11:57:02.736974Z"
    }
   },
   "outputs": [
    {
     "name": "stdout",
     "output_type": "stream",
     "text": [
      "best accuracy: 92.77%\n",
      "{'n_estimators': 750, 'max_depth': 20, 'criterion': 'gini'}\n"
     ]
    }
   ],
   "source": [
    "# print best parameters\n",
    "print('best accuracy: {:.4}%'.format(rf_random.best_score_ * 100));\n",
    "print(rf_random.best_params_);"
   ]
  },
  {
   "cell_type": "markdown",
   "metadata": {},
   "source": [
    "___\n",
    "__grid search__"
   ]
  },
  {
   "cell_type": "code",
   "execution_count": 125,
   "metadata": {
    "ExecuteTime": {
     "end_time": "2020-03-01T12:06:00.963647Z",
     "start_time": "2020-03-01T11:57:02.753836Z"
    }
   },
   "outputs": [
    {
     "name": "stdout",
     "output_type": "stream",
     "text": [
      "Fitting 3 folds for each of 16 candidates, totalling 48 fits\n"
     ]
    },
    {
     "name": "stderr",
     "output_type": "stream",
     "text": [
      "[Parallel(n_jobs=-1)]: Using backend LokyBackend with 4 concurrent workers.\n",
      "[Parallel(n_jobs=-1)]: Done   5 tasks      | elapsed:   34.3s\n",
      "[Parallel(n_jobs=-1)]: Done  10 tasks      | elapsed:   56.3s\n",
      "[Parallel(n_jobs=-1)]: Done  17 tasks      | elapsed:  2.2min\n",
      "[Parallel(n_jobs=-1)]: Done  24 tasks      | elapsed:  4.0min\n",
      "[Parallel(n_jobs=-1)]: Done  33 tasks      | elapsed:  4.8min\n",
      "[Parallel(n_jobs=-1)]: Done  46 out of  48 | elapsed:  7.9min remaining:   20.6s\n",
      "[Parallel(n_jobs=-1)]: Done  48 out of  48 | elapsed:  8.2min finished\n"
     ]
    },
    {
     "name": "stdout",
     "output_type": "stream",
     "text": [
      "best accuracy: 92.77%\n",
      "params:\n",
      " {'criterion': 'gini', 'max_depth': 20, 'n_estimators': 750}\n"
     ]
    }
   ],
   "source": [
    "param_grid_rf = {\n",
    "        'n_estimators': [750,1100]\n",
    "#          , 'min_samples_leaf': [3,4]\n",
    "#          , 'min_samples_split':[3,4,5,6]\n",
    "#         , 'max_samples': [20,25,30]\n",
    "#         , 'max_leaf_nodes':[7,13,20]\n",
    "#           , 'max_features': [5,6,7]\n",
    "         , 'max_depth': [3,5,10,20]\n",
    "         , 'criterion': ['entropy', 'gini']\n",
    "#          , 'bootstrap': [False, True]\n",
    "}\n",
    "\n",
    "# grid search\n",
    "gs_rf = GridSearchCV(estimator=rf_model\n",
    "                    ,param_grid=param_grid_rf\n",
    "                    ,cv=3\n",
    "                     ,refit=True\n",
    "                     ,error_score=0\n",
    "                     , n_jobs=-1\n",
    "                     , verbose=10\n",
    "                    )\n",
    "\n",
    "# fitting grid search\n",
    "gs_rf.fit(X_train, y_train);\n",
    "\n",
    "# best parameters\n",
    "print('best accuracy: {:.4}%'.format(gs_rf.best_score_ * 100));\n",
    "print('params:\\n', gs_rf.best_params_);"
   ]
  },
  {
   "cell_type": "markdown",
   "metadata": {},
   "source": [
    "___\n",
    "__best model__"
   ]
  },
  {
   "cell_type": "code",
   "execution_count": 127,
   "metadata": {
    "ExecuteTime": {
     "end_time": "2020-03-01T12:24:20.013099Z",
     "start_time": "2020-03-01T12:21:26.602880Z"
    },
    "scrolled": true
   },
   "outputs": [
    {
     "data": {
      "text/plain": [
       "RandomForestClassifier(bootstrap=True, ccp_alpha=0.0, class_weight=None,\n",
       "                       criterion='gini', max_depth=20, max_features='auto',\n",
       "                       max_leaf_nodes=None, max_samples=None,\n",
       "                       min_impurity_decrease=0.0, min_impurity_split=None,\n",
       "                       min_samples_leaf=1, min_samples_split=2,\n",
       "                       min_weight_fraction_leaf=0.0, n_estimators=750,\n",
       "                       n_jobs=None, oob_score=False, random_state=None,\n",
       "                       verbose=0, warm_start=False)"
      ]
     },
     "execution_count": 127,
     "metadata": {},
     "output_type": "execute_result"
    },
    {
     "name": "stdout",
     "output_type": "stream",
     "text": [
      "\n",
      "Cross Validation Scoring:\n",
      "\n",
      "train score: 93.87%\n",
      "test score: 92.63%\n",
      "cross val score: 92.66%\n",
      "\n",
      "Classification Report:\n",
      "                      precision    recall  f1-score   support\n",
      "\n",
      "     dead_on_arrival       0.00      0.00      0.00        11\n",
      "          euthanized       0.00      0.00      0.00        24\n",
      "return_to_wild/owner       0.93      0.83      0.88      1814\n",
      "   special_caseother       0.65      0.23      0.34       141\n",
      "           trans_caa       0.93      0.98      0.95      5591\n",
      "\n",
      "            accuracy                           0.93      7581\n",
      "           macro avg       0.50      0.41      0.43      7581\n",
      "        weighted avg       0.92      0.93      0.92      7581\n",
      "\n",
      "\n",
      "Confusion matrix:\n"
     ]
    },
    {
     "data": {
      "text/html": [
       "<div>\n",
       "<style scoped>\n",
       "    .dataframe tbody tr th:only-of-type {\n",
       "        vertical-align: middle;\n",
       "    }\n",
       "\n",
       "    .dataframe tbody tr th {\n",
       "        vertical-align: top;\n",
       "    }\n",
       "\n",
       "    .dataframe thead th {\n",
       "        text-align: right;\n",
       "    }\n",
       "</style>\n",
       "<table border=\"1\" class=\"dataframe\">\n",
       "  <thead>\n",
       "    <tr style=\"text-align: right;\">\n",
       "      <th></th>\n",
       "      <th>pred doa</th>\n",
       "      <th>pred euth</th>\n",
       "      <th>pred to owner/wild</th>\n",
       "      <th>pred spec_case</th>\n",
       "      <th>pred trans</th>\n",
       "    </tr>\n",
       "  </thead>\n",
       "  <tbody>\n",
       "    <tr>\n",
       "      <th>real euth</th>\n",
       "      <td>0</td>\n",
       "      <td>0</td>\n",
       "      <td>3</td>\n",
       "      <td>0</td>\n",
       "      <td>8</td>\n",
       "    </tr>\n",
       "    <tr>\n",
       "      <th>real doa</th>\n",
       "      <td>0</td>\n",
       "      <td>0</td>\n",
       "      <td>0</td>\n",
       "      <td>0</td>\n",
       "      <td>24</td>\n",
       "    </tr>\n",
       "    <tr>\n",
       "      <th>real to owner/wild</th>\n",
       "      <td>0</td>\n",
       "      <td>1</td>\n",
       "      <td>1506</td>\n",
       "      <td>2</td>\n",
       "      <td>305</td>\n",
       "    </tr>\n",
       "    <tr>\n",
       "      <th>real spec_case</th>\n",
       "      <td>0</td>\n",
       "      <td>1</td>\n",
       "      <td>21</td>\n",
       "      <td>33</td>\n",
       "      <td>86</td>\n",
       "    </tr>\n",
       "    <tr>\n",
       "      <th>real trans</th>\n",
       "      <td>0</td>\n",
       "      <td>2</td>\n",
       "      <td>90</td>\n",
       "      <td>16</td>\n",
       "      <td>5483</td>\n",
       "    </tr>\n",
       "  </tbody>\n",
       "</table>\n",
       "</div>"
      ],
      "text/plain": [
       "                    pred doa  pred euth  pred to owner/wild  pred spec_case  \\\n",
       "real euth                  0          0                   3               0   \n",
       "real doa                   0          0                   0               0   \n",
       "real to owner/wild         0          1                1506               2   \n",
       "real spec_case             0          1                  21              33   \n",
       "real trans                 0          2                  90              16   \n",
       "\n",
       "                    pred trans  \n",
       "real euth                    8  \n",
       "real doa                    24  \n",
       "real to owner/wild         305  \n",
       "real spec_case              86  \n",
       "real trans                5483  "
      ]
     },
     "metadata": {},
     "output_type": "display_data"
    }
   ],
   "source": [
    "# fitting model using best params\n",
    "rf_gs_model = RandomForestClassifier(\n",
    "                                   # bootstrap= False\n",
    "                                    criterion= 'gini'\n",
    "                                    , max_depth= 20\n",
    "                                   # , max_features = 'auto'\n",
    "                                   # , max_leaf_nodes = None\n",
    "                                   # , max_samples = None\n",
    "#                                     , min_samples_leaf = 3\n",
    "                                   # , min_samples_split = 8\n",
    "                                    , n_estimators = 750\n",
    "                                    );\n",
    "rf_gs_model.fit(X_train, y_train);\n",
    "\n",
    "predictions = rf_gs_model.predict(X_test);\n",
    "\n",
    "# new model report\n",
    "model_report(rf_gs_model)"
   ]
  },
  {
   "cell_type": "markdown",
   "metadata": {},
   "source": [
    "### XGBoost"
   ]
  },
  {
   "cell_type": "code",
   "execution_count": 128,
   "metadata": {
    "ExecuteTime": {
     "end_time": "2020-03-01T12:27:09.908581Z",
     "start_time": "2020-03-01T12:24:20.018140Z"
    }
   },
   "outputs": [
    {
     "data": {
      "text/plain": [
       "XGBClassifier(base_score=0.5, booster='gbtree', colsample_bylevel=1,\n",
       "              colsample_bynode=1, colsample_bytree=1, gamma=0,\n",
       "              learning_rate=0.1, max_delta_step=0, max_depth=3,\n",
       "              min_child_weight=1, missing=None, n_estimators=100, n_jobs=1,\n",
       "              nthread=None, objective='multi:softprob', random_state=3,\n",
       "              reg_alpha=0, reg_lambda=1, scale_pos_weight=1, seed=None,\n",
       "              silent=None, subsample=1, verbosity=1)"
      ]
     },
     "execution_count": 128,
     "metadata": {},
     "output_type": "execute_result"
    }
   ],
   "source": [
    "# initiate model\n",
    "xgb_model = XGBClassifier(random_state=3)\n",
    "xgb_model.fit(X_train, y_train)\n",
    "\n",
    "predictions = xgb_model.predict(X_test)\n",
    "# actuals = y_test"
   ]
  },
  {
   "cell_type": "code",
   "execution_count": 129,
   "metadata": {
    "ExecuteTime": {
     "end_time": "2020-03-01T12:33:52.744979Z",
     "start_time": "2020-03-01T12:27:09.911744Z"
    }
   },
   "outputs": [
    {
     "name": "stdout",
     "output_type": "stream",
     "text": [
      "\n",
      "Cross Validation Scoring:\n",
      "\n",
      "train score: 92.96%\n",
      "test score: 92.94%\n",
      "cross val score: 92.78%\n",
      "\n",
      "Classification Report:\n",
      "                      precision    recall  f1-score   support\n",
      "\n",
      "     dead_on_arrival       0.00      0.00      0.00        11\n",
      "          euthanized       0.00      0.00      0.00        24\n",
      "return_to_wild/owner       0.93      0.84      0.88      1814\n",
      "   special_caseother       0.73      0.25      0.37       141\n",
      "           trans_caa       0.93      0.98      0.96      5591\n",
      "\n",
      "            accuracy                           0.93      7581\n",
      "           macro avg       0.52      0.41      0.44      7581\n",
      "        weighted avg       0.92      0.93      0.92      7581\n",
      "\n",
      "\n",
      "Confusion matrix:\n"
     ]
    },
    {
     "data": {
      "text/html": [
       "<div>\n",
       "<style scoped>\n",
       "    .dataframe tbody tr th:only-of-type {\n",
       "        vertical-align: middle;\n",
       "    }\n",
       "\n",
       "    .dataframe tbody tr th {\n",
       "        vertical-align: top;\n",
       "    }\n",
       "\n",
       "    .dataframe thead th {\n",
       "        text-align: right;\n",
       "    }\n",
       "</style>\n",
       "<table border=\"1\" class=\"dataframe\">\n",
       "  <thead>\n",
       "    <tr style=\"text-align: right;\">\n",
       "      <th></th>\n",
       "      <th>pred doa</th>\n",
       "      <th>pred euth</th>\n",
       "      <th>pred to owner/wild</th>\n",
       "      <th>pred spec_case</th>\n",
       "      <th>pred trans</th>\n",
       "    </tr>\n",
       "  </thead>\n",
       "  <tbody>\n",
       "    <tr>\n",
       "      <th>real euth</th>\n",
       "      <td>0</td>\n",
       "      <td>0</td>\n",
       "      <td>1</td>\n",
       "      <td>0</td>\n",
       "      <td>10</td>\n",
       "    </tr>\n",
       "    <tr>\n",
       "      <th>real doa</th>\n",
       "      <td>0</td>\n",
       "      <td>0</td>\n",
       "      <td>1</td>\n",
       "      <td>0</td>\n",
       "      <td>23</td>\n",
       "    </tr>\n",
       "    <tr>\n",
       "      <th>real to owner/wild</th>\n",
       "      <td>0</td>\n",
       "      <td>0</td>\n",
       "      <td>1519</td>\n",
       "      <td>1</td>\n",
       "      <td>294</td>\n",
       "    </tr>\n",
       "    <tr>\n",
       "      <th>real spec_case</th>\n",
       "      <td>0</td>\n",
       "      <td>0</td>\n",
       "      <td>23</td>\n",
       "      <td>35</td>\n",
       "      <td>83</td>\n",
       "    </tr>\n",
       "    <tr>\n",
       "      <th>real trans</th>\n",
       "      <td>0</td>\n",
       "      <td>0</td>\n",
       "      <td>87</td>\n",
       "      <td>12</td>\n",
       "      <td>5492</td>\n",
       "    </tr>\n",
       "  </tbody>\n",
       "</table>\n",
       "</div>"
      ],
      "text/plain": [
       "                    pred doa  pred euth  pred to owner/wild  pred spec_case  \\\n",
       "real euth                  0          0                   1               0   \n",
       "real doa                   0          0                   1               0   \n",
       "real to owner/wild         0          0                1519               1   \n",
       "real spec_case             0          0                  23              35   \n",
       "real trans                 0          0                  87              12   \n",
       "\n",
       "                    pred trans  \n",
       "real euth                   10  \n",
       "real doa                    23  \n",
       "real to owner/wild         294  \n",
       "real spec_case              83  \n",
       "real trans                5492  "
      ]
     },
     "metadata": {},
     "output_type": "display_data"
    }
   ],
   "source": [
    "model_report(xgb_model)"
   ]
  },
  {
   "cell_type": "code",
   "execution_count": 133,
   "metadata": {
    "ExecuteTime": {
     "end_time": "2020-03-01T18:11:56.223910Z",
     "start_time": "2020-03-01T18:01:03.219898Z"
    }
   },
   "outputs": [
    {
     "name": "stdout",
     "output_type": "stream",
     "text": [
      "Fitting 3 folds for each of 4 candidates, totalling 12 fits\n"
     ]
    },
    {
     "name": "stderr",
     "output_type": "stream",
     "text": [
      "[Parallel(n_jobs=-1)]: Using backend LokyBackend with 4 concurrent workers.\n",
      "[Parallel(n_jobs=-1)]: Done   5 tasks      | elapsed:  5.6min\n",
      "[Parallel(n_jobs=-1)]: Done   7 out of  12 | elapsed:  5.6min remaining:  4.0min\n",
      "[Parallel(n_jobs=-1)]: Done   9 out of  12 | elapsed:  8.4min remaining:  2.8min\n",
      "[Parallel(n_jobs=-1)]: Done  12 out of  12 | elapsed:  8.4min finished\n"
     ]
    },
    {
     "data": {
      "text/plain": [
       "RandomizedSearchCV(cv=3, error_score=nan,\n",
       "                   estimator=XGBClassifier(base_score=0.5, booster='gbtree',\n",
       "                                           colsample_bylevel=1,\n",
       "                                           colsample_bynode=1,\n",
       "                                           colsample_bytree=1, gamma=0,\n",
       "                                           learning_rate=0.1, max_delta_step=0,\n",
       "                                           max_depth=3, min_child_weight=1,\n",
       "                                           missing=None, n_estimators=100,\n",
       "                                           n_jobs=1, nthread=None,\n",
       "                                           objective='multi:softprob',\n",
       "                                           random_state=3, reg_alpha=0,\n",
       "                                           reg_lambda=1, scale_pos_weight=1,\n",
       "                                           seed=None, silent=None, subsample=1,\n",
       "                                           verbosity=1),\n",
       "                   iid='deprecated', n_iter=4, n_jobs=-1,\n",
       "                   param_distributions={'learning_rate': [0.15, 0.1, 0.05],\n",
       "                                        'min_child_weight': [0.5, 1, 1.5]},\n",
       "                   pre_dispatch='2*n_jobs', random_state=3, refit=True,\n",
       "                   return_train_score=False, scoring=None, verbose=10)"
      ]
     },
     "execution_count": 133,
     "metadata": {},
     "output_type": "execute_result"
    },
    {
     "name": "stdout",
     "output_type": "stream",
     "text": [
      "best accuracy: 92.89%\n",
      "{'min_child_weight': 1.5, 'learning_rate': 0.15}\n"
     ]
    }
   ],
   "source": [
    "#set random search params\n",
    "learning_rate=[.15 ,.1,  .05]\n",
    "#max_depth = [2,3,4,5,6]\n",
    "min_child_weight = [.5, 1,1.5]\n",
    "n_estimators = [90,100, 110]\n",
    "#min_weight_fraction_leaf = [0,0.0001, 0.01, 1]\n",
    "\n",
    "random_grid = {\n",
    "               'learning_rate':learning_rate,\n",
    "               #'max_depth': max_depth,\n",
    "               'min_child_weight':min_child_weight\n",
    "              # 'n_estimators': n_estimators\n",
    "              }\n",
    "\n",
    "# searching random params\n",
    "xgb_random = RandomizedSearchCV(estimator = xgb_model\n",
    "                               , param_distributions = random_grid\n",
    "                               , n_iter = 5, cv = 3, verbose=10\n",
    "                               , random_state=3, n_jobs = -1)\n",
    "# fit random search model\n",
    "xgb_random.fit(X_train, y_train)\n",
    "print('best accuracy: {:.4}%'.format(xgb_random.best_score_ * 100));\n",
    "print(xgb_random.best_params_);"
   ]
  },
  {
   "cell_type": "code",
   "execution_count": 139,
   "metadata": {
    "ExecuteTime": {
     "end_time": "2020-03-01T18:58:54.319292Z",
     "start_time": "2020-03-01T18:44:06.585136Z"
    }
   },
   "outputs": [
    {
     "name": "stdout",
     "output_type": "stream",
     "text": [
      "Fitting 3 folds for each of 4 candidates, totalling 12 fits\n"
     ]
    },
    {
     "name": "stderr",
     "output_type": "stream",
     "text": [
      "[Parallel(n_jobs=-1)]: Using backend LokyBackend with 4 concurrent workers.\n",
      "[Parallel(n_jobs=-1)]: Done   5 tasks      | elapsed:  8.0min\n",
      "[Parallel(n_jobs=-1)]: Done   7 out of  12 | elapsed:  8.0min remaining:  5.7min\n",
      "[Parallel(n_jobs=-1)]: Done   9 out of  12 | elapsed: 11.6min remaining:  3.9min\n",
      "[Parallel(n_jobs=-1)]: Done  12 out of  12 | elapsed: 11.7min finished\n"
     ]
    },
    {
     "name": "stdout",
     "output_type": "stream",
     "text": [
      "best score: 92.8%\n",
      "params:\n",
      " {'xgb_model__learning_rate': 0.009, 'xgb_model__min_child_weight': 1}\n"
     ]
    }
   ],
   "source": [
    "param_grid_xgb = [\n",
    "    {\n",
    "#         'xgb_model__min_samples_split':[2,3],\n",
    "      #   'xbg_model__gamma':[0.01,0.1,.05],\n",
    "        'xgb_model__min_child_weight': [1,1.2],\n",
    "    'xgb_model__learning_rate': [0.009,0.1]\n",
    "    #'xgb_model__n_estimators': [150,200,250],\n",
    "    #'xgb_model__max_depth': [2,3]\n",
    "    }\n",
    "]\n",
    "\n",
    "# Construct Grid Search\n",
    "gs_xgb = GridSearchCV(estimator=xgb_model,\n",
    "                    param_grid=param_grid_xgb,\n",
    "                    scoring='accuracy',random_state=3,\n",
    "                    cv=3, n_jobs=-1, verbose=10)\n",
    "\n",
    "# Fit using grid search\n",
    "gs_xgb.fit(X, y)\n",
    "\n",
    "# Best accuracy and parameters\n",
    "print('best score: {:.3}%'.format(gs_xgb.best_score_ * 100))\n",
    "print('params:\\n', gs_xgb.best_params_);"
   ]
  },
  {
   "cell_type": "code",
   "execution_count": 140,
   "metadata": {
    "ExecuteTime": {
     "end_time": "2020-03-01T19:07:54.630864Z",
     "start_time": "2020-03-01T19:00:03.240649Z"
    }
   },
   "outputs": [
    {
     "data": {
      "text/plain": [
       "XGBClassifier(base_score=0.5, booster='gbtree', colsample_bylevel=1,\n",
       "              colsample_bynode=1, colsample_bytree=1, gamma=0,\n",
       "              learning_rate=0.009, max_delta_step=0, max_depth=3,\n",
       "              min_child_weight=1, missing=None, n_estimators=90, n_jobs=1,\n",
       "              nthread=None, objective='multi:softprob', random_state=0,\n",
       "              reg_alpha=0, reg_lambda=1, scale_pos_weight=1, seed=None,\n",
       "              silent=None, subsample=1, verbosity=1)"
      ]
     },
     "execution_count": 140,
     "metadata": {},
     "output_type": "execute_result"
    },
    {
     "name": "stdout",
     "output_type": "stream",
     "text": [
      "\n",
      "Cross Validation Scoring:\n",
      "\n",
      "train score: 92.62%\n",
      "test score: 92.67%\n",
      "cross val score: 92.38%\n",
      "\n",
      "Classification Report:\n",
      "                      precision    recall  f1-score   support\n",
      "\n",
      "     dead_on_arrival       0.00      0.00      0.00        11\n",
      "          euthanized       0.00      0.00      0.00        24\n",
      "return_to_wild/owner       0.92      0.84      0.88      1814\n",
      "   special_caseother       0.72      0.09      0.16       141\n",
      "           trans_caa       0.93      0.98      0.95      5591\n",
      "\n",
      "            accuracy                           0.93      7581\n",
      "           macro avg       0.51      0.38      0.40      7581\n",
      "        weighted avg       0.92      0.93      0.92      7581\n",
      "\n",
      "\n",
      "Confusion matrix:\n"
     ]
    },
    {
     "data": {
      "text/html": [
       "<div>\n",
       "<style scoped>\n",
       "    .dataframe tbody tr th:only-of-type {\n",
       "        vertical-align: middle;\n",
       "    }\n",
       "\n",
       "    .dataframe tbody tr th {\n",
       "        vertical-align: top;\n",
       "    }\n",
       "\n",
       "    .dataframe thead th {\n",
       "        text-align: right;\n",
       "    }\n",
       "</style>\n",
       "<table border=\"1\" class=\"dataframe\">\n",
       "  <thead>\n",
       "    <tr style=\"text-align: right;\">\n",
       "      <th></th>\n",
       "      <th>pred doa</th>\n",
       "      <th>pred euth</th>\n",
       "      <th>pred to owner/wild</th>\n",
       "      <th>pred spec_case</th>\n",
       "      <th>pred trans</th>\n",
       "    </tr>\n",
       "  </thead>\n",
       "  <tbody>\n",
       "    <tr>\n",
       "      <th>real euth</th>\n",
       "      <td>0</td>\n",
       "      <td>0</td>\n",
       "      <td>1</td>\n",
       "      <td>0</td>\n",
       "      <td>10</td>\n",
       "    </tr>\n",
       "    <tr>\n",
       "      <th>real doa</th>\n",
       "      <td>0</td>\n",
       "      <td>0</td>\n",
       "      <td>1</td>\n",
       "      <td>0</td>\n",
       "      <td>23</td>\n",
       "    </tr>\n",
       "    <tr>\n",
       "      <th>real to owner/wild</th>\n",
       "      <td>0</td>\n",
       "      <td>0</td>\n",
       "      <td>1520</td>\n",
       "      <td>0</td>\n",
       "      <td>294</td>\n",
       "    </tr>\n",
       "    <tr>\n",
       "      <th>real spec_case</th>\n",
       "      <td>0</td>\n",
       "      <td>0</td>\n",
       "      <td>29</td>\n",
       "      <td>13</td>\n",
       "      <td>99</td>\n",
       "    </tr>\n",
       "    <tr>\n",
       "      <th>real trans</th>\n",
       "      <td>0</td>\n",
       "      <td>0</td>\n",
       "      <td>94</td>\n",
       "      <td>5</td>\n",
       "      <td>5492</td>\n",
       "    </tr>\n",
       "  </tbody>\n",
       "</table>\n",
       "</div>"
      ],
      "text/plain": [
       "                    pred doa  pred euth  pred to owner/wild  pred spec_case  \\\n",
       "real euth                  0          0                   1               0   \n",
       "real doa                   0          0                   1               0   \n",
       "real to owner/wild         0          0                1520               0   \n",
       "real spec_case             0          0                  29              13   \n",
       "real trans                 0          0                  94               5   \n",
       "\n",
       "                    pred trans  \n",
       "real euth                   10  \n",
       "real doa                    23  \n",
       "real to owner/wild         294  \n",
       "real spec_case              99  \n",
       "real trans                5492  "
      ]
     },
     "metadata": {},
     "output_type": "display_data"
    }
   ],
   "source": [
    "# fit using best params\n",
    "xgb_gs_model = XGBClassifier(learning_rate=0.009,\n",
    "                           #  max_depth=3,\n",
    "                             min_child_weight=1,\n",
    "                          #   n_estimators=90)\n",
    "xgb_gs_model.fit(X_train, y_train)\n",
    "\n",
    "predictions = xgb_gs_model.predict(X_test)\n",
    "\n",
    "model_report(xgb_gs_model)"
   ]
  },
  {
   "cell_type": "markdown",
   "metadata": {},
   "source": [
    "### AdaBoost"
   ]
  },
  {
   "cell_type": "code",
   "execution_count": 141,
   "metadata": {
    "ExecuteTime": {
     "end_time": "2020-03-01T19:21:03.468693Z",
     "start_time": "2020-03-01T19:20:58.193850Z"
    }
   },
   "outputs": [
    {
     "data": {
      "text/plain": [
       "AdaBoostClassifier(algorithm='SAMME.R', base_estimator=None, learning_rate=1.0,\n",
       "                   n_estimators=50, random_state=3)"
      ]
     },
     "execution_count": 141,
     "metadata": {},
     "output_type": "execute_result"
    }
   ],
   "source": [
    "#initialize and fit default model\n",
    "ada_model = AdaBoostClassifier(random_state=3)\n",
    "ada_model.fit(X_train, y_train)\n",
    "\n",
    "predictions = ada_model.predict(X_test)\n",
    "# actuals = y_test"
   ]
  },
  {
   "cell_type": "markdown",
   "metadata": {},
   "source": [
    "___\n",
    "__Default Model__"
   ]
  },
  {
   "cell_type": "code",
   "execution_count": 143,
   "metadata": {
    "ExecuteTime": {
     "end_time": "2020-03-01T19:22:30.318676Z",
     "start_time": "2020-03-01T19:22:13.218052Z"
    }
   },
   "outputs": [
    {
     "name": "stdout",
     "output_type": "stream",
     "text": [
      "\n",
      "Cross Validation Scoring:\n",
      "\n",
      "train score: 92.55%\n",
      "test score: 92.47%\n",
      "cross val score: 89.48%\n",
      "\n",
      "Classification Report:\n",
      "                      precision    recall  f1-score   support\n",
      "\n",
      "     dead_on_arrival       0.00      0.00      0.00        11\n",
      "          euthanized       0.00      0.00      0.00        24\n",
      "return_to_wild/owner       0.91      0.84      0.87      1814\n",
      "   special_caseother       0.66      0.16      0.26       141\n",
      "           trans_caa       0.93      0.98      0.95      5591\n",
      "\n",
      "            accuracy                           0.92      7581\n",
      "           macro avg       0.50      0.40      0.42      7581\n",
      "        weighted avg       0.92      0.92      0.92      7581\n",
      "\n",
      "\n",
      "Confusion matrix:\n"
     ]
    },
    {
     "data": {
      "text/html": [
       "<div>\n",
       "<style scoped>\n",
       "    .dataframe tbody tr th:only-of-type {\n",
       "        vertical-align: middle;\n",
       "    }\n",
       "\n",
       "    .dataframe tbody tr th {\n",
       "        vertical-align: top;\n",
       "    }\n",
       "\n",
       "    .dataframe thead th {\n",
       "        text-align: right;\n",
       "    }\n",
       "</style>\n",
       "<table border=\"1\" class=\"dataframe\">\n",
       "  <thead>\n",
       "    <tr style=\"text-align: right;\">\n",
       "      <th></th>\n",
       "      <th>pred doa</th>\n",
       "      <th>pred euth</th>\n",
       "      <th>pred to owner/wild</th>\n",
       "      <th>pred spec_case</th>\n",
       "      <th>pred trans</th>\n",
       "    </tr>\n",
       "  </thead>\n",
       "  <tbody>\n",
       "    <tr>\n",
       "      <th>real euth</th>\n",
       "      <td>0</td>\n",
       "      <td>0</td>\n",
       "      <td>1</td>\n",
       "      <td>0</td>\n",
       "      <td>10</td>\n",
       "    </tr>\n",
       "    <tr>\n",
       "      <th>real doa</th>\n",
       "      <td>0</td>\n",
       "      <td>0</td>\n",
       "      <td>2</td>\n",
       "      <td>0</td>\n",
       "      <td>22</td>\n",
       "    </tr>\n",
       "    <tr>\n",
       "      <th>real to owner/wild</th>\n",
       "      <td>0</td>\n",
       "      <td>0</td>\n",
       "      <td>1517</td>\n",
       "      <td>2</td>\n",
       "      <td>295</td>\n",
       "    </tr>\n",
       "    <tr>\n",
       "      <th>real spec_case</th>\n",
       "      <td>0</td>\n",
       "      <td>0</td>\n",
       "      <td>27</td>\n",
       "      <td>23</td>\n",
       "      <td>91</td>\n",
       "    </tr>\n",
       "    <tr>\n",
       "      <th>real trans</th>\n",
       "      <td>0</td>\n",
       "      <td>0</td>\n",
       "      <td>111</td>\n",
       "      <td>10</td>\n",
       "      <td>5470</td>\n",
       "    </tr>\n",
       "  </tbody>\n",
       "</table>\n",
       "</div>"
      ],
      "text/plain": [
       "                    pred doa  pred euth  pred to owner/wild  pred spec_case  \\\n",
       "real euth                  0          0                   1               0   \n",
       "real doa                   0          0                   2               0   \n",
       "real to owner/wild         0          0                1517               2   \n",
       "real spec_case             0          0                  27              23   \n",
       "real trans                 0          0                 111              10   \n",
       "\n",
       "                    pred trans  \n",
       "real euth                   10  \n",
       "real doa                    22  \n",
       "real to owner/wild         295  \n",
       "real spec_case              91  \n",
       "real trans                5470  "
      ]
     },
     "metadata": {},
     "output_type": "display_data"
    }
   ],
   "source": [
    "model_report(ada_model)"
   ]
  },
  {
   "cell_type": "markdown",
   "metadata": {},
   "source": [
    "__Random Grid Search__"
   ]
  },
  {
   "cell_type": "code",
   "execution_count": 144,
   "metadata": {
    "ExecuteTime": {
     "end_time": "2020-03-01T19:22:30.329306Z",
     "start_time": "2020-03-01T19:22:30.323607Z"
    }
   },
   "outputs": [],
   "source": [
    "#set random search params\n",
    "learning_rate= [.8,.9, 1, 1.1, 1.2]\n",
    "\n",
    "n_estimators = [5,7,10,,12,15]\n",
    "\n",
    "random_grid = {'learning_rate':learning_rate,\n",
    "               'n_estimators': n_estimators\n",
    "              }"
   ]
  },
  {
   "cell_type": "code",
   "execution_count": 150,
   "metadata": {
    "ExecuteTime": {
     "end_time": "2020-03-01T19:31:37.250210Z",
     "start_time": "2020-03-01T19:29:00.418268Z"
    }
   },
   "outputs": [
    {
     "name": "stdout",
     "output_type": "stream",
     "text": [
      "Fitting 3 folds for each of 20 candidates, totalling 60 fits\n"
     ]
    },
    {
     "name": "stderr",
     "output_type": "stream",
     "text": [
      "[Parallel(n_jobs=-1)]: Using backend LokyBackend with 4 concurrent workers.\n",
      "[Parallel(n_jobs=-1)]: Done   5 tasks      | elapsed:    7.0s\n",
      "[Parallel(n_jobs=-1)]: Done  10 tasks      | elapsed:   20.3s\n",
      "[Parallel(n_jobs=-1)]: Done  17 tasks      | elapsed:  1.1min\n",
      "[Parallel(n_jobs=-1)]: Done  24 tasks      | elapsed:  1.2min\n",
      "[Parallel(n_jobs=-1)]: Done  33 tasks      | elapsed:  1.9min\n",
      "[Parallel(n_jobs=-1)]: Done  42 tasks      | elapsed:  2.2min\n",
      "[Parallel(n_jobs=-1)]: Done  53 tasks      | elapsed:  2.5min\n",
      "[Parallel(n_jobs=-1)]: Done  60 out of  60 | elapsed:  2.6min remaining:    0.0s\n",
      "[Parallel(n_jobs=-1)]: Done  60 out of  60 | elapsed:  2.6min finished\n"
     ]
    }
   ],
   "source": [
    "#random grid search\n",
    "ada_random = RandomizedSearchCV(estimator = ada_model\n",
    "                               , param_distributions = random_grid\n",
    "                               , n_iter = 20, cv = 3, verbose=10\n",
    "                               , random_state=3, n_jobs = -1);\n",
    "# Fit the random search model\n",
    "ada_random.fit(X_train, y_train);"
   ]
  },
  {
   "cell_type": "code",
   "execution_count": 151,
   "metadata": {
    "ExecuteTime": {
     "end_time": "2020-03-01T19:31:37.259880Z",
     "start_time": "2020-03-01T19:31:37.253983Z"
    }
   },
   "outputs": [
    {
     "name": "stdout",
     "output_type": "stream",
     "text": [
      "best recall: 92.3%\n",
      "params:\n",
      " {'n_estimators': 10, 'learning_rate': 1}\n"
     ]
    }
   ],
   "source": [
    "print('best recall: {:.4}%'.format(ada_random.best_score_ * 100))\n",
    "print('params:\\n', ada_random.best_params_)"
   ]
  },
  {
   "cell_type": "markdown",
   "metadata": {},
   "source": [
    "___\n",
    "__grid search__"
   ]
  },
  {
   "cell_type": "code",
   "execution_count": 152,
   "metadata": {
    "ExecuteTime": {
     "end_time": "2020-03-01T19:32:55.934826Z",
     "start_time": "2020-03-01T19:32:33.715912Z"
    }
   },
   "outputs": [
    {
     "name": "stdout",
     "output_type": "stream",
     "text": [
      "Fitting 5 folds for each of 9 candidates, totalling 45 fits\n"
     ]
    },
    {
     "name": "stderr",
     "output_type": "stream",
     "text": [
      "[Parallel(n_jobs=-1)]: Using backend LokyBackend with 4 concurrent workers.\n",
      "[Parallel(n_jobs=-1)]: Done   5 tasks      | elapsed:    5.0s\n",
      "[Parallel(n_jobs=-1)]: Done  10 tasks      | elapsed:    7.1s\n",
      "[Parallel(n_jobs=-1)]: Done  17 tasks      | elapsed:   10.3s\n",
      "[Parallel(n_jobs=-1)]: Done  24 tasks      | elapsed:   12.2s\n",
      "[Parallel(n_jobs=-1)]: Done  33 tasks      | elapsed:   16.4s\n",
      "[Parallel(n_jobs=-1)]: Done  43 out of  45 | elapsed:   19.8s remaining:    0.9s\n",
      "[Parallel(n_jobs=-1)]: Done  45 out of  45 | elapsed:   20.7s finished\n"
     ]
    },
    {
     "data": {
      "text/plain": [
       "GridSearchCV(cv=5, error_score=nan,\n",
       "             estimator=AdaBoostClassifier(algorithm='SAMME.R',\n",
       "                                          base_estimator=None,\n",
       "                                          learning_rate=1.0, n_estimators=50,\n",
       "                                          random_state=3),\n",
       "             iid='deprecated', n_jobs=-1,\n",
       "             param_grid=[{'learning_rate': [0.9, 1, 1.1],\n",
       "                          'n_estimators': [9, 10, 11]}],\n",
       "             pre_dispatch='2*n_jobs', refit=True, return_train_score=False,\n",
       "             scoring='accuracy', verbose=10)"
      ]
     },
     "execution_count": 152,
     "metadata": {},
     "output_type": "execute_result"
    },
    {
     "name": "stdout",
     "output_type": "stream",
     "text": [
      "best recall: 92.37%\n",
      "params:\n",
      " {'learning_rate': 1, 'n_estimators': 11}\n"
     ]
    }
   ],
   "source": [
    "#grid search params and fitting grid search\n",
    "param_grid_ada = [\n",
    "    {'n_estimators': [9,10,11],\n",
    "    'learning_rate': [.9,1,1.1]}\n",
    "]\n",
    "\n",
    "# Construct Grid Search\n",
    "gs_ada = GridSearchCV(estimator=ada_model,\n",
    "                    param_grid=param_grid_ada,\n",
    "                    scoring='accuracy',\n",
    "                    cv=5, n_jobs=-1, verbose=10)\n",
    "\n",
    "# Fit using grid search\n",
    "gs_ada.fit(X_train, y_train);\n",
    "\n",
    "# Best accuracy and parameters\n",
    "print('best recall: {:.4}%'.format(gs_ada.best_score_ * 100))\n",
    "print('params:\\n', gs_ada.best_params_)"
   ]
  },
  {
   "cell_type": "code",
   "execution_count": 153,
   "metadata": {
    "ExecuteTime": {
     "end_time": "2020-03-01T19:33:08.401176Z",
     "start_time": "2020-03-01T19:33:07.043133Z"
    }
   },
   "outputs": [],
   "source": [
    "# fit best params\n",
    "ada_gs_model = AdaBoostClassifier(n_estimators=11,\n",
    "                                   learning_rate=1)\n",
    "ada_gs_model.fit(X_train, y_train);\n",
    "\n",
    "predictions = ada_gs_model.predict(X_test);"
   ]
  },
  {
   "cell_type": "markdown",
   "metadata": {},
   "source": [
    "__best model__"
   ]
  },
  {
   "cell_type": "code",
   "execution_count": 155,
   "metadata": {
    "ExecuteTime": {
     "end_time": "2020-03-01T19:33:36.531972Z",
     "start_time": "2020-03-01T19:33:32.622823Z"
    }
   },
   "outputs": [
    {
     "name": "stdout",
     "output_type": "stream",
     "text": [
      "\n",
      "Cross Validation Scoring:\n",
      "\n",
      "train score: 92.43%\n",
      "test score: 92.44%\n",
      "cross val score: 91.68%\n",
      "\n",
      "Classification Report:\n",
      "                      precision    recall  f1-score   support\n",
      "\n",
      "     dead_on_arrival       0.00      0.00      0.00        11\n",
      "          euthanized       0.00      0.00      0.00        24\n",
      "return_to_wild/owner       0.92      0.84      0.88      1814\n",
      "   special_caseother       0.34      0.14      0.20       141\n",
      "           trans_caa       0.93      0.98      0.95      5591\n",
      "\n",
      "            accuracy                           0.92      7581\n",
      "           macro avg       0.44      0.39      0.41      7581\n",
      "        weighted avg       0.91      0.92      0.92      7581\n",
      "\n",
      "\n",
      "Confusion matrix:\n"
     ]
    },
    {
     "data": {
      "text/html": [
       "<div>\n",
       "<style scoped>\n",
       "    .dataframe tbody tr th:only-of-type {\n",
       "        vertical-align: middle;\n",
       "    }\n",
       "\n",
       "    .dataframe tbody tr th {\n",
       "        vertical-align: top;\n",
       "    }\n",
       "\n",
       "    .dataframe thead th {\n",
       "        text-align: right;\n",
       "    }\n",
       "</style>\n",
       "<table border=\"1\" class=\"dataframe\">\n",
       "  <thead>\n",
       "    <tr style=\"text-align: right;\">\n",
       "      <th></th>\n",
       "      <th>pred doa</th>\n",
       "      <th>pred euth</th>\n",
       "      <th>pred to owner/wild</th>\n",
       "      <th>pred spec_case</th>\n",
       "      <th>pred trans</th>\n",
       "    </tr>\n",
       "  </thead>\n",
       "  <tbody>\n",
       "    <tr>\n",
       "      <th>real euth</th>\n",
       "      <td>0</td>\n",
       "      <td>0</td>\n",
       "      <td>1</td>\n",
       "      <td>3</td>\n",
       "      <td>7</td>\n",
       "    </tr>\n",
       "    <tr>\n",
       "      <th>real doa</th>\n",
       "      <td>0</td>\n",
       "      <td>0</td>\n",
       "      <td>1</td>\n",
       "      <td>2</td>\n",
       "      <td>21</td>\n",
       "    </tr>\n",
       "    <tr>\n",
       "      <th>real to owner/wild</th>\n",
       "      <td>0</td>\n",
       "      <td>0</td>\n",
       "      <td>1520</td>\n",
       "      <td>5</td>\n",
       "      <td>289</td>\n",
       "    </tr>\n",
       "    <tr>\n",
       "      <th>real spec_case</th>\n",
       "      <td>0</td>\n",
       "      <td>0</td>\n",
       "      <td>29</td>\n",
       "      <td>20</td>\n",
       "      <td>92</td>\n",
       "    </tr>\n",
       "    <tr>\n",
       "      <th>real trans</th>\n",
       "      <td>0</td>\n",
       "      <td>0</td>\n",
       "      <td>94</td>\n",
       "      <td>29</td>\n",
       "      <td>5468</td>\n",
       "    </tr>\n",
       "  </tbody>\n",
       "</table>\n",
       "</div>"
      ],
      "text/plain": [
       "                    pred doa  pred euth  pred to owner/wild  pred spec_case  \\\n",
       "real euth                  0          0                   1               3   \n",
       "real doa                   0          0                   1               2   \n",
       "real to owner/wild         0          0                1520               5   \n",
       "real spec_case             0          0                  29              20   \n",
       "real trans                 0          0                  94              29   \n",
       "\n",
       "                    pred trans  \n",
       "real euth                    7  \n",
       "real doa                    21  \n",
       "real to owner/wild         289  \n",
       "real spec_case              92  \n",
       "real trans                5468  "
      ]
     },
     "metadata": {},
     "output_type": "display_data"
    }
   ],
   "source": [
    "model_report(ada_gs_model)"
   ]
  },
  {
   "cell_type": "markdown",
   "metadata": {},
   "source": [
    "### gradient boost"
   ]
  },
  {
   "cell_type": "code",
   "execution_count": 156,
   "metadata": {
    "ExecuteTime": {
     "end_time": "2020-03-01T19:34:18.844124Z",
     "start_time": "2020-03-01T19:33:36.535841Z"
    }
   },
   "outputs": [
    {
     "data": {
      "text/plain": [
       "GradientBoostingClassifier(ccp_alpha=0.0, criterion='friedman_mse', init=None,\n",
       "                           learning_rate=0.1, loss='deviance', max_depth=3,\n",
       "                           max_features=None, max_leaf_nodes=None,\n",
       "                           min_impurity_decrease=0.0, min_impurity_split=None,\n",
       "                           min_samples_leaf=1, min_samples_split=2,\n",
       "                           min_weight_fraction_leaf=0.0, n_estimators=100,\n",
       "                           n_iter_no_change=None, presort='deprecated',\n",
       "                           random_state=3, subsample=1.0, tol=0.0001,\n",
       "                           validation_fraction=0.1, verbose=0,\n",
       "                           warm_start=False)"
      ]
     },
     "execution_count": 156,
     "metadata": {},
     "output_type": "execute_result"
    }
   ],
   "source": [
    "#initialize and fit gradient boost\n",
    "gbt_model = GradientBoostingClassifier(random_state=3)\n",
    "gbt_model.fit(X_train, y_train)\n",
    "\n",
    "predictions = gbt_model.predict(X_test)\n",
    "# actuals = y_test"
   ]
  },
  {
   "cell_type": "markdown",
   "metadata": {},
   "source": [
    "__default model__"
   ]
  },
  {
   "cell_type": "code",
   "execution_count": 157,
   "metadata": {
    "ExecuteTime": {
     "end_time": "2020-03-01T19:36:02.974085Z",
     "start_time": "2020-03-01T19:34:18.846607Z"
    }
   },
   "outputs": [
    {
     "name": "stdout",
     "output_type": "stream",
     "text": [
      "\n",
      "Cross Validation Scoring:\n",
      "\n",
      "train score: 93.17%\n",
      "test score: 92.84%\n",
      "cross val score: 92.68%\n",
      "\n",
      "Classification Report:\n",
      "                      precision    recall  f1-score   support\n",
      "\n",
      "     dead_on_arrival       0.00      0.00      0.00        11\n",
      "          euthanized       0.00      0.00      0.00        24\n",
      "return_to_wild/owner       0.93      0.84      0.88      1814\n",
      "   special_caseother       0.65      0.31      0.42       141\n",
      "           trans_caa       0.93      0.98      0.95      5591\n",
      "\n",
      "            accuracy                           0.93      7581\n",
      "           macro avg       0.50      0.43      0.45      7581\n",
      "        weighted avg       0.92      0.93      0.92      7581\n",
      "\n",
      "\n",
      "Confusion matrix:\n"
     ]
    },
    {
     "data": {
      "text/html": [
       "<div>\n",
       "<style scoped>\n",
       "    .dataframe tbody tr th:only-of-type {\n",
       "        vertical-align: middle;\n",
       "    }\n",
       "\n",
       "    .dataframe tbody tr th {\n",
       "        vertical-align: top;\n",
       "    }\n",
       "\n",
       "    .dataframe thead th {\n",
       "        text-align: right;\n",
       "    }\n",
       "</style>\n",
       "<table border=\"1\" class=\"dataframe\">\n",
       "  <thead>\n",
       "    <tr style=\"text-align: right;\">\n",
       "      <th></th>\n",
       "      <th>pred doa</th>\n",
       "      <th>pred euth</th>\n",
       "      <th>pred to owner/wild</th>\n",
       "      <th>pred spec_case</th>\n",
       "      <th>pred trans</th>\n",
       "    </tr>\n",
       "  </thead>\n",
       "  <tbody>\n",
       "    <tr>\n",
       "      <th>real euth</th>\n",
       "      <td>0</td>\n",
       "      <td>0</td>\n",
       "      <td>1</td>\n",
       "      <td>0</td>\n",
       "      <td>10</td>\n",
       "    </tr>\n",
       "    <tr>\n",
       "      <th>real doa</th>\n",
       "      <td>0</td>\n",
       "      <td>0</td>\n",
       "      <td>1</td>\n",
       "      <td>0</td>\n",
       "      <td>23</td>\n",
       "    </tr>\n",
       "    <tr>\n",
       "      <th>real to owner/wild</th>\n",
       "      <td>0</td>\n",
       "      <td>0</td>\n",
       "      <td>1516</td>\n",
       "      <td>5</td>\n",
       "      <td>293</td>\n",
       "    </tr>\n",
       "    <tr>\n",
       "      <th>real spec_case</th>\n",
       "      <td>0</td>\n",
       "      <td>0</td>\n",
       "      <td>17</td>\n",
       "      <td>44</td>\n",
       "      <td>80</td>\n",
       "    </tr>\n",
       "    <tr>\n",
       "      <th>real trans</th>\n",
       "      <td>1</td>\n",
       "      <td>4</td>\n",
       "      <td>89</td>\n",
       "      <td>19</td>\n",
       "      <td>5478</td>\n",
       "    </tr>\n",
       "  </tbody>\n",
       "</table>\n",
       "</div>"
      ],
      "text/plain": [
       "                    pred doa  pred euth  pred to owner/wild  pred spec_case  \\\n",
       "real euth                  0          0                   1               0   \n",
       "real doa                   0          0                   1               0   \n",
       "real to owner/wild         0          0                1516               5   \n",
       "real spec_case             0          0                  17              44   \n",
       "real trans                 1          4                  89              19   \n",
       "\n",
       "                    pred trans  \n",
       "real euth                   10  \n",
       "real doa                    23  \n",
       "real to owner/wild         293  \n",
       "real spec_case              80  \n",
       "real trans                5478  "
      ]
     },
     "metadata": {},
     "output_type": "display_data"
    }
   ],
   "source": [
    "#baseline model report\n",
    "model_report(gbt_model)"
   ]
  },
  {
   "cell_type": "code",
   "execution_count": null,
   "metadata": {},
   "outputs": [],
   "source": [
    "GradientBoostingClassifier(ccp_alpha=0.0, criterion='friedman_mse', init=None,\n",
    "                           learning_rate=0.1, loss='deviance', max_depth=3,\n",
    "                           max_features=None, max_leaf_nodes=None,\n",
    "                           min_impurity_decrease=0.0, min_impurity_split=None,\n",
    "                           min_samples_leaf=1, min_samples_split=2,\n",
    "                           min_weight_fraction_leaf=0.0, n_estimators=100,\n",
    "                           n_iter_no_change=None, presort='deprecated',\n",
    "                           random_state=3, subsample=1.0, tol=0.0001,\n",
    "                           validation_fraction=0.1, verbose=0,\n",
    "                           warm_start=False)"
   ]
  },
  {
   "cell_type": "markdown",
   "metadata": {},
   "source": [
    "__random grid search__"
   ]
  },
  {
   "cell_type": "code",
   "execution_count": 158,
   "metadata": {
    "ExecuteTime": {
     "end_time": "2020-03-01T19:39:38.677735Z",
     "start_time": "2020-03-01T19:36:02.977597Z"
    }
   },
   "outputs": [
    {
     "name": "stdout",
     "output_type": "stream",
     "text": [
      "Fitting 3 folds for each of 20 candidates, totalling 60 fits\n"
     ]
    },
    {
     "name": "stderr",
     "output_type": "stream",
     "text": [
      "[Parallel(n_jobs=-1)]: Using backend LokyBackend with 4 concurrent workers.\n",
      "[Parallel(n_jobs=-1)]: Done   5 tasks      | elapsed:   20.2s\n",
      "[Parallel(n_jobs=-1)]: Done  10 tasks      | elapsed:   52.7s\n",
      "[Parallel(n_jobs=-1)]: Done  17 tasks      | elapsed:  2.0min\n",
      "[Parallel(n_jobs=-1)]: Done  24 tasks      | elapsed:  2.0min\n",
      "[Parallel(n_jobs=-1)]: Done  33 tasks      | elapsed:  2.0min\n",
      "[Parallel(n_jobs=-1)]: Done  42 tasks      | elapsed:  2.9min\n",
      "[Parallel(n_jobs=-1)]: Done  53 tasks      | elapsed:  2.9min\n",
      "[Parallel(n_jobs=-1)]: Done  60 out of  60 | elapsed:  3.1min remaining:    0.0s\n",
      "[Parallel(n_jobs=-1)]: Done  60 out of  60 | elapsed:  3.1min finished\n"
     ]
    },
    {
     "data": {
      "text/plain": [
       "RandomizedSearchCV(cv=3, error_score=nan,\n",
       "                   estimator=GradientBoostingClassifier(ccp_alpha=0.0,\n",
       "                                                        criterion='friedman_mse',\n",
       "                                                        init=None,\n",
       "                                                        learning_rate=0.1,\n",
       "                                                        loss='deviance',\n",
       "                                                        max_depth=3,\n",
       "                                                        max_features=None,\n",
       "                                                        max_leaf_nodes=None,\n",
       "                                                        min_impurity_decrease=0.0,\n",
       "                                                        min_impurity_split=None,\n",
       "                                                        min_samples_leaf=1,\n",
       "                                                        min_samples_split=2,\n",
       "                                                        min_weight_fraction_leaf=0.0,\n",
       "                                                        n_estimators=100,\n",
       "                                                        n_ite...\n",
       "                   iid='deprecated', n_iter=20, n_jobs=-1,\n",
       "                   param_distributions={'learning_rate': [0.1],\n",
       "                                        'loss': ['deviance', 'exponential'],\n",
       "                                        'max_depth': [None, 2, 3, 4],\n",
       "                                        'min_samples_leaf': [1, 2, 3],\n",
       "                                        'min_samples_split': [2, 3, 4],\n",
       "                                        'min_weight_fraction_leaf': [0, 0.0001,\n",
       "                                                                     0.001],\n",
       "                                        'n_estimators': [50, 100, 200]},\n",
       "                   pre_dispatch='2*n_jobs', random_state=3, refit=True,\n",
       "                   return_train_score=False, scoring=None, verbose=10)"
      ]
     },
     "execution_count": 158,
     "metadata": {},
     "output_type": "execute_result"
    }
   ],
   "source": [
    "# setting parameters for random search\n",
    "learning_rate=[.09,.1, .11]\n",
    "loss = ['deviance', 'exponential']\n",
    "max_depth = [None,2,3,4] \n",
    "n_estimators = [50,100,200]\n",
    "min_samples_split = [2,3,4]\n",
    "min_samples_leaf = [1,2,3]\n",
    "min_weight_fraction_leaf = [0,0.0001, 0.001]\n",
    "\n",
    "random_grid = {'learning_rate':learning_rate,\n",
    "               'loss': loss,\n",
    "               'max_depth': max_depth,\n",
    "               'n_estimators': n_estimators,\n",
    "               'min_samples_split': min_samples_split,\n",
    "               'min_samples_leaf': min_samples_leaf,\n",
    "               'min_weight_fraction_leaf': min_weight_fraction_leaf\n",
    "               }\n",
    "\n",
    "#searching random params\n",
    "gbt_random = RandomizedSearchCV(estimator = gbt_model\n",
    "                               , param_distributions = random_grid\n",
    "                               , n_iter = 20, cv = 3, verbose=10\n",
    "                               , random_state=3, n_jobs = -1)\n",
    "# fit random search model\n",
    "gbt_random.fit(X_train, y_train)"
   ]
  },
  {
   "cell_type": "code",
   "execution_count": 160,
   "metadata": {
    "ExecuteTime": {
     "end_time": "2020-03-01T20:01:17.364667Z",
     "start_time": "2020-03-01T20:01:17.358604Z"
    }
   },
   "outputs": [
    {
     "name": "stdout",
     "output_type": "stream",
     "text": [
      "best accuracy: 92.87%\n",
      "{'n_estimators': 100, 'min_weight_fraction_leaf': 0, 'min_samples_split': 4, 'min_samples_leaf': 2, 'max_depth': 2, 'loss': 'deviance', 'learning_rate': 0.1}\n"
     ]
    }
   ],
   "source": [
    "print('best accuracy: {:.4}%'.format(gbt_random.best_score_ * 100));\n",
    "print(gbt_random.best_params_)"
   ]
  },
  {
   "cell_type": "markdown",
   "metadata": {},
   "source": [
    "__grid search__"
   ]
  },
  {
   "cell_type": "code",
   "execution_count": null,
   "metadata": {
    "ExecuteTime": {
     "start_time": "2020-03-01T20:05:17.409Z"
    }
   },
   "outputs": [
    {
     "name": "stdout",
     "output_type": "stream",
     "text": [
      "Fitting 3 folds for each of 36 candidates, totalling 108 fits\n"
     ]
    },
    {
     "name": "stderr",
     "output_type": "stream",
     "text": [
      "[Parallel(n_jobs=-1)]: Using backend LokyBackend with 4 concurrent workers.\n",
      "[Parallel(n_jobs=-1)]: Done   5 tasks      | elapsed:  1.7min\n",
      "[Parallel(n_jobs=-1)]: Done  10 tasks      | elapsed:  2.4min\n",
      "[Parallel(n_jobs=-1)]: Done  17 tasks      | elapsed:  3.8min\n",
      "[Parallel(n_jobs=-1)]: Done  24 tasks      | elapsed:  5.1min\n",
      "[Parallel(n_jobs=-1)]: Done  33 tasks      | elapsed:  7.5min\n",
      "[Parallel(n_jobs=-1)]: Done  42 tasks      | elapsed:  9.1min\n",
      "[Parallel(n_jobs=-1)]: Done  53 tasks      | elapsed: 11.0min\n",
      "[Parallel(n_jobs=-1)]: Done  64 tasks      | elapsed: 13.9min\n",
      "[Parallel(n_jobs=-1)]: Done  77 tasks      | elapsed: 16.2min\n",
      "[Parallel(n_jobs=-1)]: Done  90 tasks      | elapsed: 18.1min\n"
     ]
    }
   ],
   "source": [
    "# grid search params and run search\n",
    "param_grid_gbt = [\n",
    "    {'n_estimators': [90,100,110],\n",
    "     'min_weight_fraction_leaf':[0.0001, 0],\n",
    "    'learning_rate': [0.11,0.1, .009],\n",
    "    'min_samples_split': [2],\n",
    "    'min_samples_leaf': [2],\n",
    "    'max_depth': [2,3]\n",
    "    }\n",
    "]\n",
    "\n",
    "# grid search\n",
    "gs_gbt = GridSearchCV(estimator=gbt_model,\n",
    "                    param_grid=param_grid_gbt,\n",
    "                    scoring='accuracy',\n",
    "                    cv=3, n_jobs=-1, verbose=10)\n",
    "\n",
    "# fit grid search\n",
    "gs_gbt.fit(X_train, y_train)\n",
    "\n",
    "# best params\n",
    "print('best accuracy: {:.4}%'.format(gs_gbt.best_score_ * 100))\n",
    "print('params:\\n', gs_gbt.best_params_)"
   ]
  },
  {
   "cell_type": "code",
   "execution_count": null,
   "metadata": {
    "ExecuteTime": {
     "end_time": "2020-03-01T19:39:38.695018Z",
     "start_time": "2020-03-01T19:33:32.649Z"
    }
   },
   "outputs": [],
   "source": [
    "# fitting best params\n",
    "gbt_gs_model = GradientBoostingClassifier(learning_rate=0.1,\n",
    "                                         max_depth=2,\n",
    "                                         min_samples_leaf=2,\n",
    "                                         min_samples_split=2,\n",
    "                                         min_weight_fraction_leaf=0.01,\n",
    "                                         n_estimators=60)\n",
    "gbt_gs_model.fit(X_train, y_train)\n",
    "\n",
    "predictions = gbt_gs_model.predict(X_test)"
   ]
  },
  {
   "cell_type": "markdown",
   "metadata": {},
   "source": [
    "__best model__"
   ]
  },
  {
   "cell_type": "code",
   "execution_count": null,
   "metadata": {
    "ExecuteTime": {
     "end_time": "2020-03-01T19:39:38.697270Z",
     "start_time": "2020-03-01T19:33:32.653Z"
    }
   },
   "outputs": [],
   "source": [
    "# new model report\n",
    "model_report(gbt_gs_model)"
   ]
  },
  {
   "cell_type": "markdown",
   "metadata": {},
   "source": [
    "### SVM"
   ]
  },
  {
   "cell_type": "code",
   "execution_count": null,
   "metadata": {
    "ExecuteTime": {
     "end_time": "2020-03-01T19:39:38.699747Z",
     "start_time": "2020-03-01T19:33:32.660Z"
    }
   },
   "outputs": [],
   "source": [
    "svm_model = svm.SVC(random_state=3)\n",
    "svm_model.fit(X_train, y_train)\n",
    "\n",
    "predictions = svm_model.predict(X_test)\n",
    "# actuals = y_test"
   ]
  },
  {
   "cell_type": "markdown",
   "metadata": {},
   "source": [
    "___\n",
    "__default model__"
   ]
  },
  {
   "cell_type": "code",
   "execution_count": null,
   "metadata": {
    "ExecuteTime": {
     "end_time": "2020-03-01T19:39:38.702141Z",
     "start_time": "2020-03-01T19:33:32.667Z"
    }
   },
   "outputs": [],
   "source": [
    "model_report(svm_model, cm=False)"
   ]
  },
  {
   "cell_type": "markdown",
   "metadata": {},
   "source": [
    "___\n",
    "__random grid search__"
   ]
  },
  {
   "cell_type": "code",
   "execution_count": null,
   "metadata": {
    "ExecuteTime": {
     "end_time": "2020-03-01T19:39:38.705849Z",
     "start_time": "2020-03-01T19:33:32.672Z"
    }
   },
   "outputs": [],
   "source": [
    "# set random search params\n",
    "clf_C = [0.07,0.1,1.0, 1.03]\n",
    "clf_gamma = [0.005,0.001,0.01, 0.1]\n",
    "clf_kernel = ['rbf', 'linear']\n",
    "\n",
    "random_grid = {\n",
    "               'C': clf_C,\n",
    "               'gamma': clf_gamma,\n",
    "               'kernel': clf_kernel\n",
    "               }\n",
    "\n",
    "# fit and search random param combinations\n",
    "svm_random = RandomizedSearchCV(estimator = svm_model\n",
    "                               , param_distributions = random_grid\n",
    "                               , n_iter = 12 , cv = 3, verbose=10\n",
    "                               , random_state=3, n_jobs = -1)\n",
    "# Fit the random search model\n",
    "svm_random.fit(X_train, y_train)"
   ]
  },
  {
   "cell_type": "code",
   "execution_count": null,
   "metadata": {
    "ExecuteTime": {
     "end_time": "2020-03-01T19:39:38.708001Z",
     "start_time": "2020-03-01T19:33:32.676Z"
    }
   },
   "outputs": [],
   "source": [
    "print('best accuracy: {:.4}%'.format(svm_random.best_score_ * 100));\n",
    "print(svm_random.best_params_)"
   ]
  },
  {
   "cell_type": "markdown",
   "metadata": {},
   "source": [
    "___\n",
    "__grid search__"
   ]
  },
  {
   "cell_type": "code",
   "execution_count": null,
   "metadata": {
    "ExecuteTime": {
     "end_time": "2020-03-01T19:39:38.710268Z",
     "start_time": "2020-03-01T19:33:32.681Z"
    }
   },
   "outputs": [],
   "source": [
    "# Set grid search params\n",
    "param_grid_svm = [\n",
    " \n",
    "  {'C': [1.0, 1.01, 1.03], 'gamma': [0.008, 0.01, 0.012]\n",
    "   , 'kernel': ['rbf', 'linear']\n",
    "  }]\n",
    " \n",
    "\n",
    "# Construct grid search\n",
    "gs_svm = GridSearchCV(estimator=svm_model,\n",
    "            param_grid=param_grid_svm,\n",
    "            cv=5, verbose=10, return_train_score = True)\n",
    "\n",
    "# Fit using grid search\n",
    "gs_svm.fit(X_train, y_train)\n",
    "\n",
    "# Best accuracy\n",
    "print('best score: {:.4}%'.format(gs_svm.best_score_ * 100));\n",
    "print('\\nBest params:\\n', gs_svm.best_params_)"
   ]
  },
  {
   "cell_type": "code",
   "execution_count": null,
   "metadata": {
    "ExecuteTime": {
     "end_time": "2020-03-01T19:39:38.713342Z",
     "start_time": "2020-03-01T19:33:32.687Z"
    }
   },
   "outputs": [],
   "source": [
    "svm_gs_model = svm.SVC(C=1.03\n",
    "                       ,gamma=0.008\n",
    "                        ,kernel='rbf'\n",
    "                             )\n",
    "svm_gs_model.fit(X_train, y_train)\n",
    "\n",
    "predictions = svm_gs_model.predict(X_test)"
   ]
  },
  {
   "cell_type": "markdown",
   "metadata": {},
   "source": [
    "___\n",
    "__best model__"
   ]
  },
  {
   "cell_type": "code",
   "execution_count": null,
   "metadata": {
    "ExecuteTime": {
     "end_time": "2020-03-01T19:39:38.715628Z",
     "start_time": "2020-03-01T19:33:32.693Z"
    }
   },
   "outputs": [],
   "source": [
    "model_report(svm_gs_model, cm=False)"
   ]
  }
 ],
 "metadata": {
  "hide_input": false,
  "kernelspec": {
   "display_name": "Python 3",
   "language": "python",
   "name": "python3"
  },
  "language_info": {
   "codemirror_mode": {
    "name": "ipython",
    "version": 3
   },
   "file_extension": ".py",
   "mimetype": "text/x-python",
   "name": "python",
   "nbconvert_exporter": "python",
   "pygments_lexer": "ipython3",
   "version": "3.7.3"
  },
  "toc": {
   "base_numbering": 1,
   "nav_menu": {},
   "number_sections": true,
   "sideBar": true,
   "skip_h1_title": false,
   "title_cell": "Table of Contents",
   "title_sidebar": "Contents",
   "toc_cell": false,
   "toc_position": {
    "height": "calc(100% - 180px)",
    "left": "10px",
    "top": "150px",
    "width": "165px"
   },
   "toc_section_display": true,
   "toc_window_display": true
  }
 },
 "nbformat": 4,
 "nbformat_minor": 2
}
