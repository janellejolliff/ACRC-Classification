{
 "cells": [
  {
   "cell_type": "markdown",
   "metadata": {},
   "source": [
    "Predicting temperment to maybe make more specialized training classes for dogs based on predicted tendencies"
   ]
  },
  {
   "cell_type": "markdown",
   "metadata": {},
   "source": [
    "## import libraries, packages, data"
   ]
  },
  {
   "cell_type": "markdown",
   "metadata": {},
   "source": [
    "### libraries, packages"
   ]
  },
  {
   "cell_type": "code",
   "execution_count": 1,
   "metadata": {
    "ExecuteTime": {
     "end_time": "2020-03-04T10:15:08.856212Z",
     "start_time": "2020-03-04T10:15:07.380950Z"
    },
    "code_folding": []
   },
   "outputs": [],
   "source": [
    "#import\n",
    "import pandas as pd\n",
    "import numpy as np\n",
    "# import seaborn as sns\n",
    "# sns.set(style='darkgrid')\n",
    "import matplotlib.pyplot as plt\n",
    "# %matplotlib inline\n",
    "# import pandas_profiling\n",
    "# import datetime\n",
    "# import re\n",
    "# import pprint\n",
    "# pp = pprint.PrettyPrinter(indent=4)\n",
    "# from collections import Counter\n",
    "import warnings\n",
    "warnings.filterwarnings('ignore')\n",
    "\n",
    "#display multiple outputs from cell \n",
    "from IPython.core.interactiveshell import InteractiveShell\n",
    "InteractiveShell.ast_node_interactivity = \"all\""
   ]
  },
  {
   "cell_type": "code",
   "execution_count": 2,
   "metadata": {
    "ExecuteTime": {
     "end_time": "2020-03-04T10:15:17.153664Z",
     "start_time": "2020-03-04T10:15:08.860277Z"
    },
    "code_folding": []
   },
   "outputs": [
    {
     "name": "stderr",
     "output_type": "stream",
     "text": [
      "Using TensorFlow backend.\n"
     ]
    }
   ],
   "source": [
    "#importing libraries & packages\n",
    "import pandas as pd\n",
    "import numpy as np\n",
    "import warnings\n",
    "warnings.filterwarnings('ignore')\n",
    "\n",
    "#display multiple outputs from cell \n",
    "from IPython.core.interactiveshell import InteractiveShell\n",
    "InteractiveShell.ast_node_interactivity = \"all\"\n",
    "\n",
    "# machine learning\n",
    "import sklearn\n",
    "from sklearn.model_selection import train_test_split, GridSearchCV, cross_val_score, RandomizedSearchCV\n",
    "from sklearn.ensemble import RandomForestClassifier, AdaBoostClassifier, ExtraTreesClassifier, GradientBoostingClassifier\n",
    "from sklearn.pipeline import Pipeline, make_pipeline\n",
    "from sklearn.metrics import confusion_matrix, precision_score, recall_score, accuracy_score, f1_score, classification_report\n",
    "from sklearn.linear_model import LogisticRegression\n",
    "from sklearn.utils import resample\n",
    "from imblearn.over_sampling import ADASYN, SMOTE\n",
    "from sklearn.feature_selection import SelectKBest, chi2\n",
    "from sklearn import svm\n",
    "from imblearn.over_sampling import SMOTE\n",
    "from imblearn.under_sampling import RandomUnderSampler\n",
    "from imblearn.pipeline import Pipeline\n",
    "from xgboost import XGBClassifier\n",
    "from sklearn.tree import DecisionTreeClassifier\n",
    "from sklearn.metrics import plot_confusion_matrix"
   ]
  },
  {
   "cell_type": "markdown",
   "metadata": {},
   "source": [
    "### import clean data from part 1"
   ]
  },
  {
   "cell_type": "code",
   "execution_count": 3,
   "metadata": {
    "ExecuteTime": {
     "end_time": "2020-03-04T10:15:17.162842Z",
     "start_time": "2020-03-04T10:15:17.158020Z"
    }
   },
   "outputs": [],
   "source": [
    "#df.info()"
   ]
  },
  {
   "cell_type": "code",
   "execution_count": 4,
   "metadata": {
    "ExecuteTime": {
     "end_time": "2020-03-04T10:15:19.155710Z",
     "start_time": "2020-03-04T10:15:17.167881Z"
    }
   },
   "outputs": [
    {
     "data": {
      "text/plain": [
       "friendly     9078\n",
       "normal       6240\n",
       "nervous      4550\n",
       "dangerous     613\n",
       "Name: temperment, dtype: int64"
      ]
     },
     "execution_count": 4,
     "metadata": {},
     "output_type": "execute_result"
    }
   ],
   "source": [
    "# import Animal Control Incidents df\n",
    "df = pd.read_csv('a_control.csv')\n",
    "\n",
    "df = df[df['species']=='dog']\n",
    "\n",
    "df.temperment.value_counts()\n",
    "\n",
    "df = df[['breed', 'size', 'color', 'temperment' ]]\n",
    "\n",
    "df=df.dropna()\n",
    "\n",
    "# # assign target\n",
    "y = df[\"temperment\"]\n",
    "\n",
    "#remove target from features\n",
    "df.drop(columns= ['temperment'], axis=1, inplace=True)\n",
    "\n",
    "# dummy categorical features\n",
    "#col_list = list(df.select_dtypes(include=['object']).columns)\n",
    "col_list = list(df.columns)\n",
    "\n",
    "# create dummies for categorical features, assign to X\n",
    "df = pd.DataFrame(pd.get_dummies(data=df, drop_first=True\n",
    "                   , prefix=col_list))\n",
    "X = df\n"
   ]
  },
  {
   "cell_type": "code",
   "execution_count": 5,
   "metadata": {
    "ExecuteTime": {
     "end_time": "2020-03-04T10:15:19.266338Z",
     "start_time": "2020-03-04T10:15:19.158916Z"
    }
   },
   "outputs": [],
   "source": [
    "\n",
    "# X_train_d and y_train_d = using original standard test train spit dad\n",
    "# that way, I can try out different resampling methods\n",
    "X_train, X_test, y_train, y_test = train_test_split(X, y, test_size=0.3, shuffle=True, stratify=y, random_state=33)"
   ]
  },
  {
   "cell_type": "markdown",
   "metadata": {
    "heading_collapsed": true
   },
   "source": [
    "### functions"
   ]
  },
  {
   "cell_type": "code",
   "execution_count": 6,
   "metadata": {
    "ExecuteTime": {
     "end_time": "2020-03-04T10:15:19.299929Z",
     "start_time": "2020-03-04T10:15:19.283995Z"
    },
    "code_folding": [],
    "hidden": true
   },
   "outputs": [],
   "source": [
    "# print model report\n",
    "def model_report(model, cm = True): \n",
    "    \n",
    "    print('\\nCross Validation Scoring:\\n')\n",
    "    \n",
    "    train_score = model.score(X_train, y_train)\n",
    "    print(\"train score: {:.4}%\".format(train_score * 100))\n",
    "\n",
    "    test_score = model.score(X_test, y_test)\n",
    "    print(\"test score: {:.4}%\".format(test_score * 100))\n",
    "    \n",
    "    if cm :\n",
    "\n",
    "        cv_score = np.mean(cross_val_score(model, X, y, cv=3))\n",
    "        print(\"cross val score: {:.4}%\".format(cv_score * 100))\n",
    "\n",
    "        print(\"\\nClassification Report:\")\n",
    "        print(classification_report(actuals, predictions))\n",
    "\n",
    "#         col_list = ['pred bite/dangerous', 'pred not_bite/not_dangerous']\n",
    "#         ind_list = ['real bite/dangerous', 'real not_bite/not_dangerous']                     \n",
    "# #         for x in y_test.unique():\n",
    "# #             col_list.append('pred_'+ x)\n",
    "# #             ind_list.append('real_'+x)\n",
    "\n",
    "\n",
    "        print('\\nConfusion matrix:'.format(accuracy_score))\n",
    "        display(pd.DataFrame(confusion_matrix(y_test, predictions)\n",
    "                             \n",
    "#                              , columns=col_list, index=ind_list\n",
    "                            ))\n",
    "\n",
    "\n",
    "    else:\n",
    "        pass"
   ]
  },
  {
   "cell_type": "code",
   "execution_count": 7,
   "metadata": {
    "ExecuteTime": {
     "end_time": "2020-03-04T10:15:19.312771Z",
     "start_time": "2020-03-04T10:15:19.303516Z"
    },
    "code_folding": [],
    "hidden": true
   },
   "outputs": [],
   "source": [
    "def plot_feats(model):\n",
    "    n_features = X.shape[1]\n",
    "    plt.figure(figsize=(8,10))\n",
    "#     plt.barh(range(n_features), model.feature_importances_, align='center') \n",
    "#     plt.yticks(np.arange(n_features), (X.columns.values)) \n",
    "#     plt.xlabel(\"Feature importance\")\n",
    "#     plt.ylabel(\"Feature\")\n",
    "    feat_importances = pd.Series(model.feature_importances_, index=X.columns)\n",
    "    feat_importances.nlargest(25).plot(kind='barh');\n",
    "    plt.show();"
   ]
  },
  {
   "cell_type": "code",
   "execution_count": 8,
   "metadata": {
    "ExecuteTime": {
     "end_time": "2020-03-04T10:15:19.326615Z",
     "start_time": "2020-03-04T10:15:19.318717Z"
    },
    "hidden": true
   },
   "outputs": [],
   "source": [
    "def plot_matrix(classifier):\n",
    "\n",
    "    disp = plot_confusion_matrix(classifier, X_test, y_test,\n",
    "    #                                  display_labels=class_names,\n",
    "                                     cmap=plt.cm.Blues,\n",
    "                                     normalize=normalize)\n",
    "#     disp.ax_.set_title(title);\n",
    "    plt.show();\n",
    "#     np.set_printoptions(precision=2)\n",
    "\n",
    "#     # Plot non-normalized confusion matrix\n",
    "#     titles_options = [\n",
    "#                       (\"Normalized confusion matrix\", 'true')]\n",
    "#     for title, normalize in titles_options:\n",
    "#         disp = plot_confusion_matrix(classifier, X_test, y_test,\n",
    "#     #                                  display_labels=class_names,\n",
    "#                                      cmap=plt.cm.Blues,\n",
    "#                                      normalize=normalize)\n",
    "#         disp.ax_.set_title(title)\n",
    "\n",
    "# #         print(title)\n",
    "# #         print(disp.confusion_matrix)\n",
    "\n",
    "#     plt.show();"
   ]
  },
  {
   "cell_type": "markdown",
   "metadata": {},
   "source": [
    "## prep data"
   ]
  },
  {
   "cell_type": "markdown",
   "metadata": {},
   "source": [
    "### resampling"
   ]
  },
  {
   "cell_type": "markdown",
   "metadata": {},
   "source": [
    "Due to the imbalance of class data, it could be beneficial to resample to compensate for the missing data. Using SMOTE to oversample, then random undersampling."
   ]
  },
  {
   "cell_type": "code",
   "execution_count": 9,
   "metadata": {
    "ExecuteTime": {
     "end_time": "2020-03-04T10:15:20.237938Z",
     "start_time": "2020-03-04T10:15:19.332624Z"
    }
   },
   "outputs": [
    {
     "name": "stdout",
     "output_type": "stream",
     "text": [
      "normal       1500\n",
      "friendly     1500\n",
      "dangerous    1500\n",
      "nervous      1500\n",
      "Name: temperment, dtype: int64\n"
     ]
    }
   ],
   "source": [
    "over = SMOTE({'dangerous':1500},random_state=3)\n",
    "under = RandomUnderSampler({'nervous':1500, 'normal':1500, 'friendly':1500},random_state=3)\n",
    "steps = [('o', over), ('u', under)]\n",
    "pipeline = Pipeline(steps=steps)\n",
    "X_train, y_train = pipeline.fit_resample(X_train, y_train)\n",
    "\n",
    "print (y_train.value_counts())"
   ]
  },
  {
   "cell_type": "markdown",
   "metadata": {},
   "source": [
    "## __modeling__"
   ]
  },
  {
   "cell_type": "markdown",
   "metadata": {},
   "source": [
    "Logistic Regression basic default model"
   ]
  },
  {
   "cell_type": "code",
   "execution_count": 10,
   "metadata": {
    "ExecuteTime": {
     "end_time": "2020-03-04T10:15:31.450519Z",
     "start_time": "2020-03-04T10:15:20.254408Z"
    },
    "scrolled": true
   },
   "outputs": [
    {
     "data": {
      "text/plain": [
       "LogisticRegression(C=1.0, class_weight=None, dual=False, fit_intercept=True,\n",
       "                   intercept_scaling=1, l1_ratio=None, max_iter=100,\n",
       "                   multi_class='auto', n_jobs=None, penalty='l2',\n",
       "                   random_state=3, solver='lbfgs', tol=0.0001, verbose=0,\n",
       "                   warm_start=False)"
      ]
     },
     "execution_count": 10,
     "metadata": {},
     "output_type": "execute_result"
    },
    {
     "name": "stdout",
     "output_type": "stream",
     "text": [
      "\n",
      "Cross Validation Scoring:\n",
      "\n",
      "train score: 44.67%\n",
      "test score: 32.73%\n",
      "cross val score: 44.21%\n",
      "\n",
      "Classification Report:\n",
      "              precision    recall  f1-score   support\n",
      "\n",
      "   dangerous       0.07      0.40      0.11       177\n",
      "    friendly       0.53      0.34      0.41      2634\n",
      "     nervous       0.28      0.31      0.30      1326\n",
      "      normal       0.33      0.32      0.32      1812\n",
      "\n",
      "    accuracy                           0.33      5949\n",
      "   macro avg       0.30      0.34      0.29      5949\n",
      "weighted avg       0.40      0.33      0.35      5949\n",
      "\n",
      "\n",
      "Confusion matrix:\n"
     ]
    },
    {
     "data": {
      "text/html": [
       "<div>\n",
       "<style scoped>\n",
       "    .dataframe tbody tr th:only-of-type {\n",
       "        vertical-align: middle;\n",
       "    }\n",
       "\n",
       "    .dataframe tbody tr th {\n",
       "        vertical-align: top;\n",
       "    }\n",
       "\n",
       "    .dataframe thead th {\n",
       "        text-align: right;\n",
       "    }\n",
       "</style>\n",
       "<table border=\"1\" class=\"dataframe\">\n",
       "  <thead>\n",
       "    <tr style=\"text-align: right;\">\n",
       "      <th></th>\n",
       "      <th>0</th>\n",
       "      <th>1</th>\n",
       "      <th>2</th>\n",
       "      <th>3</th>\n",
       "    </tr>\n",
       "  </thead>\n",
       "  <tbody>\n",
       "    <tr>\n",
       "      <th>0</th>\n",
       "      <td>70</td>\n",
       "      <td>26</td>\n",
       "      <td>43</td>\n",
       "      <td>38</td>\n",
       "    </tr>\n",
       "    <tr>\n",
       "      <th>1</th>\n",
       "      <td>411</td>\n",
       "      <td>888</td>\n",
       "      <td>562</td>\n",
       "      <td>773</td>\n",
       "    </tr>\n",
       "    <tr>\n",
       "      <th>2</th>\n",
       "      <td>258</td>\n",
       "      <td>276</td>\n",
       "      <td>413</td>\n",
       "      <td>379</td>\n",
       "    </tr>\n",
       "    <tr>\n",
       "      <th>3</th>\n",
       "      <td>314</td>\n",
       "      <td>488</td>\n",
       "      <td>434</td>\n",
       "      <td>576</td>\n",
       "    </tr>\n",
       "  </tbody>\n",
       "</table>\n",
       "</div>"
      ],
      "text/plain": [
       "     0    1    2    3\n",
       "0   70   26   43   38\n",
       "1  411  888  562  773\n",
       "2  258  276  413  379\n",
       "3  314  488  434  576"
      ]
     },
     "metadata": {},
     "output_type": "display_data"
    }
   ],
   "source": [
    "lr = LogisticRegression(random_state=3)\n",
    "lr.fit(X_train, y_train)\n",
    " \n",
    "# Predict on training set\n",
    "predictions = lr.predict(X_test)\n",
    "actuals = y_test\n",
    "\n",
    "model_report(lr)"
   ]
  },
  {
   "cell_type": "markdown",
   "metadata": {},
   "source": [
    "### decision tree"
   ]
  },
  {
   "cell_type": "markdown",
   "metadata": {},
   "source": [
    "__default model__"
   ]
  },
  {
   "cell_type": "code",
   "execution_count": 11,
   "metadata": {
    "ExecuteTime": {
     "end_time": "2020-03-04T10:15:36.204805Z",
     "start_time": "2020-03-04T10:15:31.455958Z"
    }
   },
   "outputs": [
    {
     "data": {
      "text/plain": [
       "DecisionTreeClassifier(ccp_alpha=0.0, class_weight=None, criterion='gini',\n",
       "                       max_depth=None, max_features=None, max_leaf_nodes=None,\n",
       "                       min_impurity_decrease=0.0, min_impurity_split=None,\n",
       "                       min_samples_leaf=1, min_samples_split=2,\n",
       "                       min_weight_fraction_leaf=0.0, presort='deprecated',\n",
       "                       random_state=3, splitter='best')"
      ]
     },
     "execution_count": 11,
     "metadata": {},
     "output_type": "execute_result"
    },
    {
     "name": "stdout",
     "output_type": "stream",
     "text": [
      "\n",
      "Cross Validation Scoring:\n",
      "\n",
      "train score: 54.52%\n",
      "test score: 30.86%\n",
      "cross val score: 42.21%\n",
      "\n",
      "Classification Report:\n",
      "              precision    recall  f1-score   support\n",
      "\n",
      "   dangerous       0.07      0.53      0.12       177\n",
      "    friendly       0.50      0.38      0.43      2634\n",
      "     nervous       0.26      0.23      0.24      1326\n",
      "      normal       0.32      0.25      0.28      1812\n",
      "\n",
      "    accuracy                           0.31      5949\n",
      "   macro avg       0.29      0.34      0.27      5949\n",
      "weighted avg       0.38      0.31      0.33      5949\n",
      "\n",
      "\n",
      "Confusion matrix:\n"
     ]
    },
    {
     "data": {
      "text/html": [
       "<div>\n",
       "<style scoped>\n",
       "    .dataframe tbody tr th:only-of-type {\n",
       "        vertical-align: middle;\n",
       "    }\n",
       "\n",
       "    .dataframe tbody tr th {\n",
       "        vertical-align: top;\n",
       "    }\n",
       "\n",
       "    .dataframe thead th {\n",
       "        text-align: right;\n",
       "    }\n",
       "</style>\n",
       "<table border=\"1\" class=\"dataframe\">\n",
       "  <thead>\n",
       "    <tr style=\"text-align: right;\">\n",
       "      <th></th>\n",
       "      <th>0</th>\n",
       "      <th>1</th>\n",
       "      <th>2</th>\n",
       "      <th>3</th>\n",
       "    </tr>\n",
       "  </thead>\n",
       "  <tbody>\n",
       "    <tr>\n",
       "      <th>0</th>\n",
       "      <td>93</td>\n",
       "      <td>25</td>\n",
       "      <td>31</td>\n",
       "      <td>28</td>\n",
       "    </tr>\n",
       "    <tr>\n",
       "      <th>1</th>\n",
       "      <td>552</td>\n",
       "      <td>990</td>\n",
       "      <td>478</td>\n",
       "      <td>614</td>\n",
       "    </tr>\n",
       "    <tr>\n",
       "      <th>2</th>\n",
       "      <td>358</td>\n",
       "      <td>373</td>\n",
       "      <td>304</td>\n",
       "      <td>291</td>\n",
       "    </tr>\n",
       "    <tr>\n",
       "      <th>3</th>\n",
       "      <td>416</td>\n",
       "      <td>600</td>\n",
       "      <td>347</td>\n",
       "      <td>449</td>\n",
       "    </tr>\n",
       "  </tbody>\n",
       "</table>\n",
       "</div>"
      ],
      "text/plain": [
       "     0    1    2    3\n",
       "0   93   25   31   28\n",
       "1  552  990  478  614\n",
       "2  358  373  304  291\n",
       "3  416  600  347  449"
      ]
     },
     "metadata": {},
     "output_type": "display_data"
    }
   ],
   "source": [
    "# initialize and fit default decision tree\n",
    "dt_model = DecisionTreeClassifier(random_state=3)\n",
    "dt_model.fit(X_train, y_train)\n",
    "predictions = dt_model.predict(X_test)\n",
    "#actuals = y_test\n",
    "\n",
    "model_report(dt_model)"
   ]
  },
  {
   "cell_type": "markdown",
   "metadata": {},
   "source": [
    "#### grid searches"
   ]
  },
  {
   "cell_type": "code",
   "execution_count": 19,
   "metadata": {
    "ExecuteTime": {
     "end_time": "2020-03-04T11:06:16.512265Z",
     "start_time": "2020-03-04T11:05:11.757336Z"
    },
    "scrolled": true
   },
   "outputs": [
    {
     "name": "stdout",
     "output_type": "stream",
     "text": [
      "Fitting 5 folds for each of 100 candidates, totalling 500 fits\n"
     ]
    },
    {
     "name": "stderr",
     "output_type": "stream",
     "text": [
      "[Parallel(n_jobs=-1)]: Using backend LokyBackend with 4 concurrent workers.\n",
      "[Parallel(n_jobs=-1)]: Done  24 tasks      | elapsed:    9.7s\n",
      "[Parallel(n_jobs=-1)]: Done 120 tasks      | elapsed:   18.3s\n",
      "[Parallel(n_jobs=-1)]: Done 280 tasks      | elapsed:   41.0s\n",
      "[Parallel(n_jobs=-1)]: Done 500 out of 500 | elapsed:  1.1min finished\n"
     ]
    },
    {
     "name": "stdout",
     "output_type": "stream",
     "text": [
      "best score: 40.57%\n",
      "{'min_samples_split': 2, 'min_samples_leaf': 1, 'max_leaf_nodes': 200, 'max_features': 140, 'max_depth': 175, 'criterion': 'entropy'}\n"
     ]
    }
   ],
   "source": [
    "# set random search params\n",
    "criterion=['gini','entropy']\n",
    "max_leaf_nodes = [None,200,300,500]\n",
    "max_features = [100,140,170,200,225]\n",
    "max_depth = [None,100,125,150,175,200]\n",
    "min_samples_split = [1,2,3,4,5,6]\n",
    "min_samples_leaf = [1]\n",
    "\n",
    "random_grid = {'criterion':criterion,\n",
    "               'max_leaf_nodes': max_leaf_nodes,\n",
    "               'max_features': max_features,\n",
    "               'max_depth': max_depth,\n",
    "               'min_samples_split': min_samples_split,\n",
    "               'min_samples_leaf': min_samples_leaf\n",
    "               }\n",
    "\n",
    "# random grid search\n",
    "dt_random = RandomizedSearchCV(estimator = dt_model\n",
    "                               , param_distributions = random_grid\n",
    "                               , n_iter = 100, cv = 5, verbose=3, error_score=0\n",
    "                               , random_state=3, n_jobs = -1);\n",
    "# fit random search model\n",
    "dt_random.fit(X_train, y_train);\n",
    "\n",
    "print('best score: {:.4}%'.format(dt_random.best_score_ * 100));\n",
    "print(dt_random.best_params_);"
   ]
  },
  {
   "cell_type": "markdown",
   "metadata": {},
   "source": [
    "__grid search__"
   ]
  },
  {
   "cell_type": "code",
   "execution_count": 22,
   "metadata": {
    "ExecuteTime": {
     "end_time": "2020-03-04T11:23:29.318605Z",
     "start_time": "2020-03-04T11:10:04.056860Z"
    }
   },
   "outputs": [
    {
     "name": "stdout",
     "output_type": "stream",
     "text": [
      "Fitting 5 folds for each of 960 candidates, totalling 4800 fits\n"
     ]
    },
    {
     "name": "stderr",
     "output_type": "stream",
     "text": [
      "[Parallel(n_jobs=-1)]: Using backend LokyBackend with 4 concurrent workers.\n",
      "[Parallel(n_jobs=-1)]: Done  33 tasks      | elapsed:   10.4s\n",
      "[Parallel(n_jobs=-1)]: Done 154 tasks      | elapsed:   32.3s\n",
      "[Parallel(n_jobs=-1)]: Done 357 tasks      | elapsed:  1.2min\n",
      "[Parallel(n_jobs=-1)]: Done 712 tasks      | elapsed:  2.1min\n",
      "[Parallel(n_jobs=-1)]: Done 1077 tasks      | elapsed:  3.4min\n",
      "[Parallel(n_jobs=-1)]: Done 1522 tasks      | elapsed:  4.5min\n",
      "[Parallel(n_jobs=-1)]: Done 2125 tasks      | elapsed:  6.2min\n",
      "[Parallel(n_jobs=-1)]: Done 2732 tasks      | elapsed:  7.9min\n",
      "[Parallel(n_jobs=-1)]: Done 3421 tasks      | elapsed: 10.2min\n",
      "[Parallel(n_jobs=-1)]: Done 4220 tasks      | elapsed: 12.0min\n",
      "[Parallel(n_jobs=-1)]: Done 4800 out of 4800 | elapsed: 13.4min finished\n"
     ]
    },
    {
     "data": {
      "text/plain": [
       "GridSearchCV(cv=5, error_score=0,\n",
       "             estimator=DecisionTreeClassifier(ccp_alpha=0.0, class_weight=None,\n",
       "                                              criterion='gini', max_depth=None,\n",
       "                                              max_features=None,\n",
       "                                              max_leaf_nodes=None,\n",
       "                                              min_impurity_decrease=0.0,\n",
       "                                              min_impurity_split=None,\n",
       "                                              min_samples_leaf=1,\n",
       "                                              min_samples_split=2,\n",
       "                                              min_weight_fraction_leaf=0.0,\n",
       "                                              presort='deprecated',\n",
       "                                              random_state=3, splitter='best'),\n",
       "             iid='deprecated', n_jobs=-1,\n",
       "             param_grid={'criterion': ['entropy', 'gini'],\n",
       "                         'max_depth': [140, 175, 200, None],\n",
       "                         'max_features': [120, 140, 170, 190],\n",
       "                         'max_leaf_nodes': [None, 150, 200, 250, 290],\n",
       "                         'min_samples_leaf': [1, 2],\n",
       "                         'min_samples_split': [2, 3, 4]},\n",
       "             pre_dispatch='2*n_jobs', refit=True, return_train_score=False,\n",
       "             scoring=None, verbose=2)"
      ]
     },
     "execution_count": 22,
     "metadata": {},
     "output_type": "execute_result"
    },
    {
     "name": "stdout",
     "output_type": "stream",
     "text": [
      "Best score: 40.8%\n",
      "params:\n",
      " {'criterion': 'entropy', 'max_depth': 140, 'max_features': 140, 'max_leaf_nodes': 290, 'min_samples_leaf': 1, 'min_samples_split': 2}\n"
     ]
    }
   ],
   "source": [
    "# grid search params\n",
    "param_grid_dt = {'criterion': ['entropy', 'gini'],\n",
    "    'max_depth': [140,175,200, None],\n",
    "    'min_samples_split': [2,3,4],\n",
    "    'min_samples_leaf': [1,2],\n",
    "     'max_features':[120,140,170,190],\n",
    "     'max_leaf_nodes':[None,150,200,250,290]\n",
    "        }\n",
    "\n",
    "# grid search\n",
    "gs_dt = GridSearchCV(estimator=dt_model,param_grid=param_grid_dt,error_score=0,\n",
    "                    cv=5, n_jobs=-1, verbose=2)\n",
    "\n",
    "# fitting grid search\n",
    "gs_dt.fit(X_train, y_train)\n",
    "\n",
    "# best parameters\n",
    "print('Best score: {:.3}%'.format(gs_dt.best_score_ * 100))\n",
    "print('params:\\n', gs_dt.best_params_)"
   ]
  },
  {
   "cell_type": "code",
   "execution_count": 14,
   "metadata": {
    "ExecuteTime": {
     "end_time": "2020-03-04T10:18:53.951163Z",
     "start_time": "2020-03-04T10:18:53.724646Z"
    }
   },
   "outputs": [
    {
     "data": {
      "text/plain": [
       "DecisionTreeClassifier(ccp_alpha=0.0, class_weight=None, criterion='gini',\n",
       "                       max_depth=130, max_features=110, max_leaf_nodes=None,\n",
       "                       min_impurity_decrease=0.0, min_impurity_split=None,\n",
       "                       min_samples_leaf=1, min_samples_split=5,\n",
       "                       min_weight_fraction_leaf=0.0, presort='deprecated',\n",
       "                       random_state=None, splitter='best')"
      ]
     },
     "execution_count": 14,
     "metadata": {},
     "output_type": "execute_result"
    }
   ],
   "source": [
    "# using best params to fit model\n",
    "dt_gs_model = DecisionTreeClassifier(criterion='gini',\n",
    "                              max_depth=130,\n",
    "                              max_features=110,\n",
    "                              max_leaf_nodes= None,\n",
    "                               min_samples_leaf=1,\n",
    "                               min_samples_split=5\n",
    "                                 )\n",
    "dt_gs_model.fit(X_train, y_train)\n",
    "\n",
    "predictions = dt_gs_model.predict(X_test)\n",
    "actuals = y_test"
   ]
  },
  {
   "cell_type": "markdown",
   "metadata": {},
   "source": [
    "#### final model"
   ]
  },
  {
   "cell_type": "code",
   "execution_count": 15,
   "metadata": {
    "ExecuteTime": {
     "end_time": "2020-03-04T10:18:56.690084Z",
     "start_time": "2020-03-04T10:18:53.954974Z"
    }
   },
   "outputs": [
    {
     "name": "stdout",
     "output_type": "stream",
     "text": [
      "\n",
      "Cross Validation Scoring:\n",
      "\n",
      "train score: 53.9%\n",
      "test score: 30.58%\n",
      "cross val score: 42.04%\n",
      "\n",
      "Classification Report:\n",
      "              precision    recall  f1-score   support\n",
      "\n",
      "   dangerous       0.07      0.52      0.12       177\n",
      "    friendly       0.49      0.37      0.42      2634\n",
      "     nervous       0.26      0.22      0.24      1326\n",
      "      normal       0.32      0.25      0.28      1812\n",
      "\n",
      "    accuracy                           0.31      5949\n",
      "   macro avg       0.28      0.34      0.26      5949\n",
      "weighted avg       0.37      0.31      0.33      5949\n",
      "\n",
      "\n",
      "Confusion matrix:\n"
     ]
    },
    {
     "data": {
      "text/html": [
       "<div>\n",
       "<style scoped>\n",
       "    .dataframe tbody tr th:only-of-type {\n",
       "        vertical-align: middle;\n",
       "    }\n",
       "\n",
       "    .dataframe tbody tr th {\n",
       "        vertical-align: top;\n",
       "    }\n",
       "\n",
       "    .dataframe thead th {\n",
       "        text-align: right;\n",
       "    }\n",
       "</style>\n",
       "<table border=\"1\" class=\"dataframe\">\n",
       "  <thead>\n",
       "    <tr style=\"text-align: right;\">\n",
       "      <th></th>\n",
       "      <th>0</th>\n",
       "      <th>1</th>\n",
       "      <th>2</th>\n",
       "      <th>3</th>\n",
       "    </tr>\n",
       "  </thead>\n",
       "  <tbody>\n",
       "    <tr>\n",
       "      <th>0</th>\n",
       "      <td>92</td>\n",
       "      <td>27</td>\n",
       "      <td>30</td>\n",
       "      <td>28</td>\n",
       "    </tr>\n",
       "    <tr>\n",
       "      <th>1</th>\n",
       "      <td>546</td>\n",
       "      <td>980</td>\n",
       "      <td>474</td>\n",
       "      <td>634</td>\n",
       "    </tr>\n",
       "    <tr>\n",
       "      <th>2</th>\n",
       "      <td>356</td>\n",
       "      <td>380</td>\n",
       "      <td>291</td>\n",
       "      <td>299</td>\n",
       "    </tr>\n",
       "    <tr>\n",
       "      <th>3</th>\n",
       "      <td>410</td>\n",
       "      <td>607</td>\n",
       "      <td>339</td>\n",
       "      <td>456</td>\n",
       "    </tr>\n",
       "  </tbody>\n",
       "</table>\n",
       "</div>"
      ],
      "text/plain": [
       "     0    1    2    3\n",
       "0   92   27   30   28\n",
       "1  546  980  474  634\n",
       "2  356  380  291  299\n",
       "3  410  607  339  456"
      ]
     },
     "metadata": {},
     "output_type": "display_data"
    }
   ],
   "source": [
    "model_report(dt_gs_model)"
   ]
  },
  {
   "cell_type": "code",
   "execution_count": 23,
   "metadata": {
    "ExecuteTime": {
     "end_time": "2020-03-04T18:05:28.050724Z",
     "start_time": "2020-03-04T18:05:27.443795Z"
    }
   },
   "outputs": [
    {
     "ename": "NameError",
     "evalue": "name 'normalize' is not defined",
     "output_type": "error",
     "traceback": [
      "\u001b[0;31m---------------------------------------------------------------------------\u001b[0m",
      "\u001b[0;31mNameError\u001b[0m                                 Traceback (most recent call last)",
      "\u001b[0;32m<ipython-input-23-61b2ea0b11d5>\u001b[0m in \u001b[0;36m<module>\u001b[0;34m\u001b[0m\n\u001b[0;32m----> 1\u001b[0;31m \u001b[0mplot_matrix\u001b[0m\u001b[0;34m(\u001b[0m\u001b[0mdt_gs_model\u001b[0m\u001b[0;34m)\u001b[0m\u001b[0;34m\u001b[0m\u001b[0;34m\u001b[0m\u001b[0m\n\u001b[0m",
      "\u001b[0;32m<ipython-input-8-a798fdf9bcde>\u001b[0m in \u001b[0;36mplot_matrix\u001b[0;34m(classifier)\u001b[0m\n\u001b[1;32m      4\u001b[0m     \u001b[0;31m#                                  display_labels=class_names,\u001b[0m\u001b[0;34m\u001b[0m\u001b[0;34m\u001b[0m\u001b[0;34m\u001b[0m\u001b[0m\n\u001b[1;32m      5\u001b[0m                                      \u001b[0mcmap\u001b[0m\u001b[0;34m=\u001b[0m\u001b[0mplt\u001b[0m\u001b[0;34m.\u001b[0m\u001b[0mcm\u001b[0m\u001b[0;34m.\u001b[0m\u001b[0mBlues\u001b[0m\u001b[0;34m,\u001b[0m\u001b[0;34m\u001b[0m\u001b[0;34m\u001b[0m\u001b[0m\n\u001b[0;32m----> 6\u001b[0;31m                                      normalize=normalize)\n\u001b[0m\u001b[1;32m      7\u001b[0m \u001b[0;31m#     disp.ax_.set_title(title);\u001b[0m\u001b[0;34m\u001b[0m\u001b[0;34m\u001b[0m\u001b[0;34m\u001b[0m\u001b[0m\n\u001b[1;32m      8\u001b[0m     \u001b[0mplt\u001b[0m\u001b[0;34m.\u001b[0m\u001b[0mshow\u001b[0m\u001b[0;34m(\u001b[0m\u001b[0;34m)\u001b[0m\u001b[0;34m;\u001b[0m\u001b[0;34m\u001b[0m\u001b[0;34m\u001b[0m\u001b[0m\n",
      "\u001b[0;31mNameError\u001b[0m: name 'normalize' is not defined"
     ]
    }
   ],
   "source": [
    "plot_matrix(dt_gs_model)"
   ]
  },
  {
   "cell_type": "markdown",
   "metadata": {},
   "source": []
  },
  {
   "cell_type": "code",
   "execution_count": 24,
   "metadata": {
    "ExecuteTime": {
     "end_time": "2020-03-04T18:06:07.991331Z",
     "start_time": "2020-03-04T18:06:05.151192Z"
    }
   },
   "outputs": [
    {
     "data": {
      "image/png": "[encoded data removed]",
      "text/plain": [
       "<Figure size 576x720 with 1 Axes>"
      ]
     },
     "metadata": {
      "needs_background": "light"
     },
     "output_type": "display_data"
    }
   ],
   "source": [
    "plot_feats(dt_gs_model)"
   ]
  },
  {
   "cell_type": "markdown",
   "metadata": {},
   "source": [
    "### Random Forest"
   ]
  },
  {
   "cell_type": "markdown",
   "metadata": {},
   "source": [
    "---\n",
    "__default model__"
   ]
  },
  {
   "cell_type": "code",
   "execution_count": null,
   "metadata": {
    "ExecuteTime": {
     "start_time": "2020-03-04T18:06:13.653Z"
    }
   },
   "outputs": [
    {
     "data": {
      "text/plain": [
       "RandomForestClassifier(bootstrap=True, ccp_alpha=0.0, class_weight=None,\n",
       "                       criterion='gini', max_depth=None, max_features='auto',\n",
       "                       max_leaf_nodes=None, max_samples=None,\n",
       "                       min_impurity_decrease=0.0, min_impurity_split=None,\n",
       "                       min_samples_leaf=1, min_samples_split=2,\n",
       "                       min_weight_fraction_leaf=0.0, n_estimators=100,\n",
       "                       n_jobs=None, oob_score=False, random_state=3, verbose=0,\n",
       "                       warm_start=False)"
      ]
     },
     "execution_count": 25,
     "metadata": {},
     "output_type": "execute_result"
    },
    {
     "name": "stdout",
     "output_type": "stream",
     "text": [
      "\n",
      "Cross Validation Scoring:\n",
      "\n",
      "train score: 54.5%\n",
      "test score: 29.32%\n"
     ]
    }
   ],
   "source": [
    "#initialize and fit random forest\n",
    "rf_model = RandomForestClassifier(random_state=3)\n",
    "rf_model.fit(X_train, y_train)\n",
    "\n",
    "predictions = rf_model.predict(X_test)\n",
    "#actuals = y_test\n",
    "\n",
    "model_report(rf_model)"
   ]
  },
  {
   "cell_type": "markdown",
   "metadata": {},
   "source": [
    "#### grid searches"
   ]
  },
  {
   "cell_type": "markdown",
   "metadata": {},
   "source": [
    "___\n",
    "__Random Grid Search__"
   ]
  },
  {
   "cell_type": "markdown",
   "metadata": {},
   "source": [
    "The default model is overfitting. Some ways to avoid overfitting with random forests are: increasing the n_estimators, reducing max features, limiting max depth, and increasing min leaf samples can help construct a more robust fit. Being that it did perform well despite the overfitting, I decided not to go crazy playing with the parameters."
   ]
  },
  {
   "cell_type": "code",
   "execution_count": null,
   "metadata": {
    "ExecuteTime": {
     "end_time": "2020-03-04T10:18:59.068889Z",
     "start_time": "2020-03-04T10:15:07.652Z"
    }
   },
   "outputs": [],
   "source": [
    "# set random search params\n",
    "\n",
    "n_estimators = [100,300,500,700,900,1000]\n",
    "min_weight_fraction_leaf=[0.0, 0.001, 0.0001]\n",
    "min_samples_split = [3,4,5,6,7,8,9]\n",
    "min_samples_leaf = [2,3,5,10]\n",
    "min_impurity_split = [0.0, 0.00001,1,2]\n",
    "min_impurity_decrease = [0.0, 0.0001,1,2]\n",
    "max_samples = [None, 20,30,40,50,60]\n",
    "max_leaf_nodes = [None, 3,5,8,10,15,20,25]\n",
    "max_features = ['auto', 3,5,6,8,20,50,70]\n",
    "max_depth = [10,20,40,50,60,80,100,150]\n",
    "criterion = ['entropy', 'gini']\n",
    "bootstrap = [True, False]\n",
    "\n",
    "# Create the random grid\n",
    "random_grid = { 'n_estimators': n_estimators,\n",
    "                 'min_weight_fraction_leaf': min_weight_fraction_leaf,\n",
    "                 'min_samples_split': min_samples_split,\n",
    "                 'min_samples_leaf': min_samples_leaf,\n",
    "                 'min_impurity_split': min_impurity_split,\n",
    "                 'min_impurity_decrease': min_impurity_decrease,\n",
    "                 'max_samples': max_samples,\n",
    "                 'max_leaf_nodes': max_leaf_nodes,\n",
    "                 'max_features': max_features,\n",
    "                  'max_depth': max_depth,\n",
    "                 'criterion': criterion,\n",
    "                 'bootstrap': bootstrap\n",
    "              }\n",
    "\n",
    "# fit and search random param combinations\n",
    "rf_random = RandomizedSearchCV(estimator = rf_model, param_distributions = random_grid\n",
    "                               , n_iter = 150, cv = 5, verbose=5\n",
    "                               , random_state=1,  n_jobs = -1);\n",
    "# Fit the random search model\n",
    "rf_random.fit(X_train, y_train);\n",
    "\n",
    "# print best parameters\n",
    "print('best score: {:.4}%'.format(rf_random.best_score_ * 100));\n",
    "print(rf_random.best_params_);"
   ]
  },
  {
   "cell_type": "markdown",
   "metadata": {},
   "source": [
    "___\n",
    "__grid search__"
   ]
  },
  {
   "cell_type": "code",
   "execution_count": null,
   "metadata": {
    "ExecuteTime": {
     "end_time": "2020-03-04T10:18:59.071810Z",
     "start_time": "2020-03-04T10:15:07.662Z"
    }
   },
   "outputs": [],
   "source": [
    "param_grid_rf = {\n",
    "        'n_estimators': [500,550]\n",
    "         , 'min_samples_leaf': [4,5,6]\n",
    "         , 'min_samples_split':[4,5,6]\n",
    "        , 'max_samples': [None]\n",
    "       , 'max_leaf_nodes':[None]\n",
    "         , 'max_features': ['auto', 70,80]\n",
    "         , 'max_depth': [25,45]\n",
    "         , 'criterion': ['gini']\n",
    "         , 'bootstrap': [False]\n",
    "}\n",
    "\n",
    "# grid search\n",
    "gs_rf = GridSearchCV(estimator=rf_model,param_grid=param_grid_rf\n",
    "                    ,cv=5,refit=True,error_score=0\n",
    "                    , n_jobs=-1, verbose=7)\n",
    "\n",
    "# fitting grid search\n",
    "gs_rf.fit(X_train, y_train);\n",
    "\n",
    "# best parameters\n",
    "print('best score: {:.4}%'.format(gs_rf.best_score_ * 100));\n",
    "print('params:\\n', gs_rf.best_params_);"
   ]
  },
  {
   "cell_type": "markdown",
   "metadata": {},
   "source": [
    "#### final model"
   ]
  },
  {
   "cell_type": "markdown",
   "metadata": {},
   "source": [
    "___\n",
    "__best model__"
   ]
  },
  {
   "cell_type": "code",
   "execution_count": null,
   "metadata": {
    "ExecuteTime": {
     "end_time": "2020-03-04T10:18:59.074753Z",
     "start_time": "2020-03-04T10:15:07.670Z"
    },
    "scrolled": false
   },
   "outputs": [],
   "source": [
    "# fitting model using best params\n",
    "rf_gs_model = RandomForestClassifier(\n",
    "                                   bootstrap= False\n",
    "                                    ,criterion= 'gini'\n",
    "                                    , max_depth= 25\n",
    "                                   , max_features = 'auto'\n",
    "                                   , max_leaf_nodes = None\n",
    "                                   , max_samples = None\n",
    "                                    , min_samples_leaf = 5\n",
    "                                   , min_samples_split = 5\n",
    "                                    , n_estimators = 500\n",
    "                                    );\n",
    "rf_gs_model.fit(X_train, y_train);\n",
    "\n",
    "predictions = rf_gs_model.predict(X_test);\n",
    "\n",
    "# new model report\n",
    "model_report(rf_gs_model)"
   ]
  },
  {
   "cell_type": "code",
   "execution_count": null,
   "metadata": {
    "ExecuteTime": {
     "end_time": "2020-03-04T10:18:59.077395Z",
     "start_time": "2020-03-04T10:15:07.677Z"
    }
   },
   "outputs": [],
   "source": [
    "plot_matrix(rf_gs_model)"
   ]
  },
  {
   "cell_type": "code",
   "execution_count": null,
   "metadata": {
    "ExecuteTime": {
     "end_time": "2020-03-04T10:18:59.080342Z",
     "start_time": "2020-03-04T10:15:07.684Z"
    }
   },
   "outputs": [],
   "source": [
    "plot_feats(rf_gs_model)"
   ]
  },
  {
   "cell_type": "markdown",
   "metadata": {},
   "source": [
    "### AdaBoost"
   ]
  },
  {
   "cell_type": "code",
   "execution_count": null,
   "metadata": {
    "ExecuteTime": {
     "end_time": "2020-03-04T10:18:59.083150Z",
     "start_time": "2020-03-04T10:15:07.692Z"
    }
   },
   "outputs": [],
   "source": [
    "#initialize and fit default model\n",
    "ada_model = AdaBoostClassifier(random_state=3)\n",
    "ada_model.fit(X_train, y_train)\n",
    "\n",
    "predictions = ada_model.predict(X_test)\n",
    "# actuals = y_test"
   ]
  },
  {
   "cell_type": "markdown",
   "metadata": {},
   "source": [
    "___\n",
    "__Default Model__"
   ]
  },
  {
   "cell_type": "code",
   "execution_count": null,
   "metadata": {
    "ExecuteTime": {
     "end_time": "2020-03-04T10:18:59.085885Z",
     "start_time": "2020-03-04T10:15:07.700Z"
    }
   },
   "outputs": [],
   "source": [
    "model_report(ada_model)"
   ]
  },
  {
   "cell_type": "markdown",
   "metadata": {},
   "source": [
    "#### grid searches"
   ]
  },
  {
   "cell_type": "markdown",
   "metadata": {},
   "source": [
    "__Random Grid Search__"
   ]
  },
  {
   "cell_type": "code",
   "execution_count": null,
   "metadata": {
    "ExecuteTime": {
     "end_time": "2020-03-04T10:18:59.089189Z",
     "start_time": "2020-03-04T10:15:07.711Z"
    }
   },
   "outputs": [],
   "source": [
    "#set random search params\n",
    "learning_rate= [.9, 1,1.3, 1.5,1.8]\n",
    "\n",
    "n_estimators = [50,100,200,300]\n",
    "\n",
    "random_grid = {'learning_rate':learning_rate,\n",
    "               'n_estimators': n_estimators\n",
    "              }\n",
    "\n",
    "#random grid search\n",
    "ada_random = RandomizedSearchCV(estimator = ada_model\n",
    "                               , param_distributions = random_grid\n",
    "                               , n_iter = 15, cv = 3, verbose=2\n",
    "                               , random_state=3, n_jobs = -1)\n",
    "# Fit the random search model\n",
    "ada_random.fit(X_train, y_train)\n",
    "\n",
    "ada_random.best_params_"
   ]
  },
  {
   "cell_type": "markdown",
   "metadata": {},
   "source": [
    "___\n",
    "__grid search__"
   ]
  },
  {
   "cell_type": "code",
   "execution_count": null,
   "metadata": {
    "ExecuteTime": {
     "end_time": "2020-03-04T10:18:59.092186Z",
     "start_time": "2020-03-04T10:15:07.721Z"
    }
   },
   "outputs": [],
   "source": [
    "#grid search params and fitting grid search\n",
    "param_grid_ada = [\n",
    "    {'n_estimators': [260,280,300],\n",
    "    'learning_rate': [1.3,1.4,1.5, 1.6]}\n",
    "]\n",
    "\n",
    "# Construct Grid Search\n",
    "gs_ada = GridSearchCV(estimator=ada_model,param_grid=param_grid_ada,\n",
    "                    cv=3, n_jobs=-1, verbose=5)\n",
    "\n",
    "# Fit using grid search\n",
    "gs_ada.fit(X_train, y_train);\n",
    "\n",
    "# Best accuracy and parameters\n",
    "print('best score: {:.4}%'.format(gs_ada.best_score_ * 100))\n",
    "print('params:\\n', gs_ada.best_params_)"
   ]
  },
  {
   "cell_type": "code",
   "execution_count": null,
   "metadata": {
    "ExecuteTime": {
     "end_time": "2020-03-04T10:18:59.095084Z",
     "start_time": "2020-03-04T10:15:07.729Z"
    }
   },
   "outputs": [],
   "source": [
    "# fit best params\n",
    "ada_gs_model = AdaBoostClassifier(n_estimators=300,\n",
    "                                   learning_rate=1.6)\n",
    "ada_gs_model.fit(X_train, y_train);\n",
    "\n",
    "predictions = ada_gs_model.predict(X_test)"
   ]
  },
  {
   "cell_type": "markdown",
   "metadata": {},
   "source": [
    "#### final model"
   ]
  },
  {
   "cell_type": "markdown",
   "metadata": {},
   "source": [
    "__best model__"
   ]
  },
  {
   "cell_type": "code",
   "execution_count": null,
   "metadata": {
    "ExecuteTime": {
     "end_time": "2020-03-04T10:18:59.097925Z",
     "start_time": "2020-03-04T10:15:07.739Z"
    }
   },
   "outputs": [],
   "source": [
    "model_report(ada_gs_model)"
   ]
  },
  {
   "cell_type": "markdown",
   "metadata": {},
   "source": [
    "### gradient boost"
   ]
  },
  {
   "cell_type": "code",
   "execution_count": null,
   "metadata": {
    "ExecuteTime": {
     "end_time": "2020-03-04T10:18:59.100314Z",
     "start_time": "2020-03-04T10:15:07.747Z"
    }
   },
   "outputs": [],
   "source": [
    "#initialize and fit gradient boost\n",
    "gbt_model = GradientBoostingClassifier(random_state=3)\n",
    "gbt_model.fit(X_train, y_train)\n",
    "\n",
    "predictions = gbt_model.predict(X_test)\n",
    "# actuals = y_test"
   ]
  },
  {
   "cell_type": "markdown",
   "metadata": {},
   "source": [
    "__default model__"
   ]
  },
  {
   "cell_type": "code",
   "execution_count": null,
   "metadata": {
    "ExecuteTime": {
     "end_time": "2020-03-04T10:18:59.111407Z",
     "start_time": "2020-03-04T10:15:07.756Z"
    }
   },
   "outputs": [],
   "source": [
    "#baseline model report\n",
    "model_report(gbt_model)"
   ]
  },
  {
   "cell_type": "markdown",
   "metadata": {},
   "source": [
    "#### grid searches"
   ]
  },
  {
   "cell_type": "markdown",
   "metadata": {},
   "source": [
    "__random grid search__"
   ]
  },
  {
   "cell_type": "code",
   "execution_count": null,
   "metadata": {
    "ExecuteTime": {
     "end_time": "2020-03-04T10:18:59.114125Z",
     "start_time": "2020-03-04T10:15:07.766Z"
    }
   },
   "outputs": [],
   "source": [
    "# setting parameters for random search\n",
    "learning_rate=[.2,.1, .09, .01]\n",
    "loss = ['deviance', 'exponential']\n",
    "max_depth = [None,2,3,10,20,50,90] \n",
    "n_estimators = [50,70,100,200,300]\n",
    "min_samples_split = [1,2,4,7,10]\n",
    "min_samples_leaf = [1,2,5,6,8,12]\n",
    "min_weight_fraction_leaf = [0,0.0001, 0.001]\n",
    "\n",
    "random_grid = {'learning_rate':learning_rate,\n",
    "               'loss': loss,\n",
    "               'max_depth': max_depth,\n",
    "               'n_estimators': n_estimators,\n",
    "               'min_samples_split': min_samples_split,\n",
    "               'min_samples_leaf': min_samples_leaf\n",
    "               ,'min_weight_fraction_leaf': min_weight_fraction_leaf\n",
    "               }\n",
    "\n",
    "#searching random params\n",
    "gbt_random = RandomizedSearchCV(estimator = gbt_model, param_distributions = random_grid\n",
    "                               , n_iter = 150, cv = 3, verbose=3\n",
    "                               , random_state=3, n_jobs = -1)\n",
    "# fit random search model\n",
    "gbt_random.fit(X_train, y_train)\n",
    "\n",
    "print('best score: {:.4}%'.format(gbt_random.best_score_ * 100));\n",
    "print(gbt_random.best_params_)"
   ]
  },
  {
   "cell_type": "markdown",
   "metadata": {},
   "source": [
    "__grid search__"
   ]
  },
  {
   "cell_type": "code",
   "execution_count": null,
   "metadata": {
    "ExecuteTime": {
     "end_time": "2020-03-04T10:18:59.117086Z",
     "start_time": "2020-03-04T10:15:07.775Z"
    }
   },
   "outputs": [],
   "source": [
    "# grid search params and run search\n",
    "param_grid_gbt = [\n",
    "    {'n_estimators': [50,60,70,80],\n",
    "     'min_weight_fraction_leaf':[0.011, 0.01, 0.009],\n",
    "    'learning_rate': [.005,0.1, .15,1],\n",
    "    'min_samples_split': [2],\n",
    "    'min_samples_leaf': [2],\n",
    "    'max_depth': [2,3,4]\n",
    "    }]\n",
    "# grid search\n",
    "gs_gbt = GridSearchCV(estimator=gbt_model,\n",
    "                    param_grid=param_grid_gbt\n",
    "                    cv=3, n_jobs=-1, verbose=7)\n",
    "\n",
    "# fit grid search\n",
    "gs_gbt.fit(X_train, y_train)\n",
    "\n",
    "# best params\n",
    "print('best score: {:.4}%'.format(gs_gbt.best_score_ * 100))\n",
    "print('params:\\n', gs_gbt.best_params_)"
   ]
  },
  {
   "cell_type": "code",
   "execution_count": null,
   "metadata": {
    "ExecuteTime": {
     "end_time": "2020-03-04T10:18:59.122274Z",
     "start_time": "2020-03-04T10:15:07.783Z"
    }
   },
   "outputs": [],
   "source": [
    "# fitting best params\n",
    "gbt_gs_model = GradientBoostingClassifier(learning_rate=0.11,\n",
    "                                         max_depth=4,\n",
    "                                         min_samples_leaf=2,\n",
    "                                         min_samples_split=2,\n",
    "                                         min_weight_fraction_leaf=0.009,\n",
    "                                         n_estimators=60)\n",
    "gbt_gs_model.fit(X_train, y_train)\n",
    "\n",
    "predictions = gbt_gs_model.predict(X_test)"
   ]
  },
  {
   "cell_type": "markdown",
   "metadata": {},
   "source": [
    "#### final model"
   ]
  },
  {
   "cell_type": "markdown",
   "metadata": {},
   "source": [
    "__best model__"
   ]
  },
  {
   "cell_type": "code",
   "execution_count": null,
   "metadata": {
    "ExecuteTime": {
     "end_time": "2020-03-04T10:18:59.129181Z",
     "start_time": "2020-03-04T10:15:07.794Z"
    }
   },
   "outputs": [],
   "source": [
    "# new model report\n",
    "model_report(gbt_gs_model)"
   ]
  },
  {
   "cell_type": "markdown",
   "metadata": {},
   "source": [
    "### SVM"
   ]
  },
  {
   "cell_type": "code",
   "execution_count": null,
   "metadata": {
    "ExecuteTime": {
     "end_time": "2020-03-04T10:18:59.132043Z",
     "start_time": "2020-03-04T10:15:07.803Z"
    }
   },
   "outputs": [],
   "source": [
    "svm_model = svm.SVC(random_state=3)\n",
    "svm_model.fit(X_train, y_train)\n",
    "\n",
    "predictions = svm_model.predict(X_test)\n",
    "# actuals = y_test"
   ]
  },
  {
   "cell_type": "markdown",
   "metadata": {},
   "source": [
    "___\n",
    "__default model__"
   ]
  },
  {
   "cell_type": "code",
   "execution_count": null,
   "metadata": {
    "ExecuteTime": {
     "end_time": "2020-03-04T10:18:59.136627Z",
     "start_time": "2020-03-04T10:15:07.814Z"
    }
   },
   "outputs": [],
   "source": [
    "model_report(svm_model)"
   ]
  },
  {
   "cell_type": "markdown",
   "metadata": {},
   "source": [
    "#### grid searches"
   ]
  },
  {
   "cell_type": "markdown",
   "metadata": {},
   "source": [
    "___\n",
    "__random grid search__"
   ]
  },
  {
   "cell_type": "code",
   "execution_count": null,
   "metadata": {
    "ExecuteTime": {
     "end_time": "2020-03-04T10:18:59.139420Z",
     "start_time": "2020-03-04T10:15:07.824Z"
    }
   },
   "outputs": [],
   "source": [
    "# set random search params\n",
    "clf_C = [0.01,0.07,0.1,1.0, 1.03, 1.07]\n",
    "clf_gamma = [0.005,0.001,0.01, 0.1, 0.15]\n",
    "clf_kernel = ['rbf', 'linear']\n",
    "\n",
    "random_grid = {\n",
    "               'C': clf_C,\n",
    "               'gamma': clf_gamma,\n",
    "               'kernel': clf_kernel\n",
    "               }\n",
    "\n",
    "# fit and search random param combinations\n",
    "svm_random = RandomizedSearchCV(estimator = svm_model, param_distributions = random_grid\n",
    "                               , n_iter = 25 , cv = 3, verbose=5 ,random_state=3, n_jobs = -1)\n",
    "# Fit the random search model\n",
    "svm_random.fit(X_train, y_train)\n",
    "\n",
    "print('best score: {:.4}%'.format(svm_random.best_score_ * 100));\n",
    "print(svm_random.best_params_)"
   ]
  },
  {
   "cell_type": "markdown",
   "metadata": {},
   "source": [
    "___\n",
    "__grid search__"
   ]
  },
  {
   "cell_type": "code",
   "execution_count": null,
   "metadata": {
    "ExecuteTime": {
     "end_time": "2020-03-04T10:18:59.144546Z",
     "start_time": "2020-03-04T10:15:07.835Z"
    }
   },
   "outputs": [],
   "source": [
    "# Set grid search params\n",
    "param_grid_svm = [\n",
    "  {'C': [1.0, 1.01, 1.03], 'gamma': [0.008, 0.01, 0.012]\n",
    "   , 'kernel': ['rbf', 'linear']\n",
    "  }]\n",
    " \n",
    "# Construct grid search\n",
    "gs_svm = GridSearchCV(estimator=svm_model,\n",
    "            param_grid=param_grid_svm, cv=5, verbose=3, return_train_score = True)\n",
    "\n",
    "# Fit using grid search\n",
    "gs_svm.fit(X_train, y_train)\n",
    "\n",
    "# Best accuracy\n",
    "print('best score: {:.4}%'.format(gs_svm.best_score_ * 100));\n",
    "print('\\nBest params:\\n', gs_svm.best_params_)"
   ]
  },
  {
   "cell_type": "code",
   "execution_count": null,
   "metadata": {
    "ExecuteTime": {
     "end_time": "2020-03-04T10:18:59.147878Z",
     "start_time": "2020-03-04T10:15:07.842Z"
    }
   },
   "outputs": [],
   "source": [
    "svm_gs_model = svm.SVC(C=1.0\n",
    "                       ,gamma=0.008\n",
    "                        ,kernel='linear'\n",
    "                             )\n",
    "svm_gs_model.fit(X_train, y_train)\n",
    "\n",
    "predictions = svm_gs_model.predict(X_test)"
   ]
  },
  {
   "cell_type": "markdown",
   "metadata": {},
   "source": [
    "#### final model"
   ]
  },
  {
   "cell_type": "markdown",
   "metadata": {},
   "source": [
    "___\n",
    "__best model__"
   ]
  },
  {
   "cell_type": "code",
   "execution_count": null,
   "metadata": {
    "ExecuteTime": {
     "end_time": "2020-03-04T10:18:59.285695Z",
     "start_time": "2020-03-04T10:15:07.853Z"
    }
   },
   "outputs": [],
   "source": [
    "model_report(svm_gs_model)"
   ]
  },
  {
   "cell_type": "markdown",
   "metadata": {},
   "source": [
    "### XGBoost"
   ]
  },
  {
   "cell_type": "code",
   "execution_count": null,
   "metadata": {
    "ExecuteTime": {
     "end_time": "2020-03-04T10:18:59.289379Z",
     "start_time": "2020-03-04T10:15:07.863Z"
    }
   },
   "outputs": [],
   "source": [
    "# initiate model\n",
    "xgb_model = XGBClassifier(random_state=3)\n",
    "xgb_model.fit(X_train, y_train)\n",
    "\n",
    "predictions = xgb_model.predict(X_test)\n",
    "# actuals = y_test"
   ]
  },
  {
   "cell_type": "code",
   "execution_count": null,
   "metadata": {
    "ExecuteTime": {
     "end_time": "2020-03-04T10:18:59.292393Z",
     "start_time": "2020-03-04T10:15:07.873Z"
    }
   },
   "outputs": [],
   "source": [
    "model_report(xgb_model)"
   ]
  },
  {
   "cell_type": "markdown",
   "metadata": {},
   "source": [
    "#### grid searches"
   ]
  },
  {
   "cell_type": "code",
   "execution_count": null,
   "metadata": {
    "ExecuteTime": {
     "end_time": "2020-03-04T10:18:59.294103Z",
     "start_time": "2020-03-04T10:15:07.882Z"
    }
   },
   "outputs": [],
   "source": [
    "#set random search params\n",
    "learning_rate=[.009,.01,.25,.2,.15 ,.1]\n",
    "max_depth = [2,3,50,100,None]\n",
    "min_child_weight = [.8,1,1.9]\n",
    "n_estimators = [80,90,100]\n",
    "min_weight_fraction_leaf = [0,0.0001]\n",
    "gamma = [0.0, 0.001, 0.01]\n",
    "\n",
    "random_grid = {\n",
    "               'learning_rate':learning_rate\n",
    "               ,'max_depth': max_depth\n",
    "               ,'min_child_weight':min_child_weight\n",
    "            ,'n_estimators': n_estimators\n",
    "                , 'gamma':gamma\n",
    "              }\n",
    "\n",
    "# searching random params\n",
    "xgb_random = RandomizedSearchCV(estimator = xgb_model, param_distributions = random_grid\n",
    "                               , n_iter = 10, cv = 3, verbose=10\n",
    "                               , random_state=3, n_jobs = -1)\n",
    "# fit random search model\n",
    "xgb_random.fit(X_train, y_train)\n",
    "print('best score: {:.4}%'.format(xgb_random.best_score_ * 100));\n",
    "print(xgb_random.best_params_);"
   ]
  },
  {
   "cell_type": "code",
   "execution_count": null,
   "metadata": {
    "ExecuteTime": {
     "end_time": "2020-03-04T10:18:59.299499Z",
     "start_time": "2020-03-04T10:15:07.890Z"
    }
   },
   "outputs": [],
   "source": [
    "param_grid_xgb = [\n",
    "    {\n",
    "         'min_samples_split':[2,3],\n",
    "         'gamma':[0.01,0.1,.05],\n",
    "        'min_child_weight': [0.9,1,1.2],\n",
    "    'learning_rate': [0.008,0.1, 0.005],\n",
    "    'n_estimators': [150,200,250],\n",
    "    'max_depth': [2,5]\n",
    "    }\n",
    "]\n",
    "\n",
    "# Construct Grid Search\n",
    "gs_xgb = GridSearchCV(estimator=xgb_model,\n",
    "                    param_grid=param_grid_xgb,\n",
    "                    cv=3, n_jobs=-1, verbose=10)\n",
    "\n",
    "# Fit using grid search\n",
    "gs_xgb.fit(X, y)\n",
    "\n",
    "# Best accuracy and parameters\n",
    "print('best score: {:.3}%'.format(gs_xgb.best_score_ * 100))\n",
    "print('params:\\n', gs_xgb.best_params_);"
   ]
  },
  {
   "cell_type": "markdown",
   "metadata": {},
   "source": [
    "#### final model"
   ]
  },
  {
   "cell_type": "code",
   "execution_count": null,
   "metadata": {
    "ExecuteTime": {
     "end_time": "2020-03-04T10:18:59.304885Z",
     "start_time": "2020-03-04T10:15:07.901Z"
    },
    "scrolled": true
   },
   "outputs": [],
   "source": [
    "# fit using best params\n",
    "xgb_gs_model = XGBClassifier(learning_rate=0.008,\n",
    "                           #  max_depth=3,\n",
    "                             min_child_weight=.9)\n",
    "                          #   n_estimators=90)\n",
    "xgb_gs_model.fit(X_train, y_train)\n",
    "\n",
    "predictions = xgb_gs_model.predict(X_test)\n",
    "\n",
    "model_report(xgb_gs_model)"
   ]
  },
  {
   "cell_type": "code",
   "execution_count": null,
   "metadata": {},
   "outputs": [],
   "source": []
  },
  {
   "cell_type": "code",
   "execution_count": null,
   "metadata": {},
   "outputs": [],
   "source": []
  }
 ],
 "metadata": {
  "hide_input": false,
  "kernelspec": {
   "display_name": "Python 3",
   "language": "python",
   "name": "python3"
  },
  "language_info": {
   "codemirror_mode": {
    "name": "ipython",
    "version": 3
   },
   "file_extension": ".py",
   "mimetype": "text/x-python",
   "name": "python",
   "nbconvert_exporter": "python",
   "pygments_lexer": "ipython3",
   "version": "3.7.3"
  },
  "toc": {
   "base_numbering": 1,
   "nav_menu": {},
   "number_sections": true,
   "sideBar": true,
   "skip_h1_title": false,
   "title_cell": "Table of Contents",
   "title_sidebar": "Contents",
   "toc_cell": false,
   "toc_position": {
    "height": "659px",
    "left": "21px",
    "top": "66px",
    "width": "165px"
   },
   "toc_section_display": true,
   "toc_window_display": true
  }
 },
 "nbformat": 4,
 "nbformat_minor": 2
}
