{
 "cells": [
  {
   "cell_type": "markdown",
   "metadata": {},
   "source": [
    "## import libraries, packages, data"
   ]
  },
  {
   "cell_type": "markdown",
   "metadata": {},
   "source": [
    "### libraries, packages"
   ]
  },
  {
   "cell_type": "code",
   "execution_count": 1,
   "metadata": {
    "ExecuteTime": {
     "end_time": "2020-03-01T19:22:12.240098Z",
     "start_time": "2020-03-01T19:22:03.837119Z"
    },
    "code_folding": []
   },
   "outputs": [
    {
     "name": "stderr",
     "output_type": "stream",
     "text": [
      "Using TensorFlow backend.\n"
     ]
    }
   ],
   "source": [
    "#importing libraries & packages\n",
    "import pandas as pd\n",
    "import numpy as np\n",
    "import warnings\n",
    "warnings.filterwarnings('ignore')\n",
    "\n",
    "#display multiple outputs from cell \n",
    "from IPython.core.interactiveshell import InteractiveShell\n",
    "InteractiveShell.ast_node_interactivity = \"all\"\n",
    "\n",
    "# machine learning\n",
    "import sklearn\n",
    "from sklearn.model_selection import train_test_split, GridSearchCV, cross_val_score, RandomizedSearchCV\n",
    "from sklearn.ensemble import RandomForestClassifier, AdaBoostClassifier, ExtraTreesClassifier, GradientBoostingClassifier\n",
    "from sklearn.pipeline import Pipeline, make_pipeline\n",
    "from sklearn.metrics import confusion_matrix, precision_score, recall_score, accuracy_score, f1_score, classification_report\n",
    "from sklearn.linear_model import LogisticRegression\n",
    "from sklearn.utils import resample\n",
    "from imblearn.over_sampling import ADASYN, SMOTE\n",
    "from sklearn.feature_selection import SelectKBest, chi2\n",
    "from sklearn import svm\n",
    "from imblearn.over_sampling import SMOTE\n",
    "from imblearn.under_sampling import RandomUnderSampler\n",
    "from imblearn.pipeline import Pipeline\n",
    "from xgboost import XGBClassifier\n",
    "from sklearn.tree import DecisionTreeClassifier"
   ]
  },
  {
   "cell_type": "code",
   "execution_count": 2,
   "metadata": {
    "ExecuteTime": {
     "end_time": "2020-03-01T19:22:12.249036Z",
     "start_time": "2020-03-01T19:22:12.242917Z"
    },
    "code_folding": [
     0
    ]
   },
   "outputs": [],
   "source": [
    "# keras\n",
    "import keras\n",
    "from keras.models import Sequential \n",
    "from keras.utils import np_utils\n",
    "from sklearn.preprocessing import LabelEncoder\n",
    "from keras.utils.np_utils import to_categorical\n",
    "from sklearn.utils import shuffle\n",
    "from sklearn import preprocessing, model_selection\n",
    "from keras.layers import Dense, Dropout, Activation\n",
    "from keras.optimizers import SGD"
   ]
  },
  {
   "cell_type": "markdown",
   "metadata": {},
   "source": [
    "### import clean data from part 1"
   ]
  },
  {
   "cell_type": "code",
   "execution_count": 3,
   "metadata": {
    "ExecuteTime": {
     "end_time": "2020-03-01T19:22:12.378760Z",
     "start_time": "2020-03-01T19:22:12.252205Z"
    }
   },
   "outputs": [],
   "source": [
    "# import Animal Control Incidents df\n",
    "df = pd.read_csv('a_control.csv')"
   ]
  },
  {
   "cell_type": "code",
   "execution_count": 4,
   "metadata": {
    "ExecuteTime": {
     "end_time": "2020-03-01T19:22:12.419486Z",
     "start_time": "2020-03-01T19:22:12.382740Z"
    }
   },
   "outputs": [
    {
     "name": "stdout",
     "output_type": "stream",
     "text": [
      "<class 'pandas.core.frame.DataFrame'>\n",
      "RangeIndex: 37902 entries, 0 to 37901\n",
      "Data columns (total 11 columns):\n",
      "species         37902 non-null object\n",
      "breed           37902 non-null object\n",
      "size            37902 non-null object\n",
      "color           37902 non-null object\n",
      "condition       37902 non-null object\n",
      "temperment      37902 non-null object\n",
      "weekday         37902 non-null float64\n",
      "month           37902 non-null float64\n",
      "service_type    37902 non-null object\n",
      "disposition     37902 non-null object\n",
      "municipality    37902 non-null object\n",
      "dtypes: float64(2), object(9)\n",
      "memory usage: 3.2+ MB\n"
     ]
    }
   ],
   "source": [
    "df.info()"
   ]
  },
  {
   "cell_type": "code",
   "execution_count": 5,
   "metadata": {
    "ExecuteTime": {
     "end_time": "2020-03-01T19:22:12.463465Z",
     "start_time": "2020-03-01T19:22:12.423487Z"
    }
   },
   "outputs": [],
   "source": [
    "for col in ('month', 'weekday'):\n",
    "    df[col] = df[col].astype(str)"
   ]
  },
  {
   "cell_type": "code",
   "execution_count": 6,
   "metadata": {
    "ExecuteTime": {
     "end_time": "2020-03-01T19:22:12.508607Z",
     "start_time": "2020-03-01T19:22:12.465869Z"
    }
   },
   "outputs": [],
   "source": [
    "df = df[['species', 'breed', 'size', 'condition', 'temperment', 'weekday', 'service_type', 'disposition']]"
   ]
  },
  {
   "cell_type": "code",
   "execution_count": 7,
   "metadata": {
    "ExecuteTime": {
     "end_time": "2020-03-01T19:22:12.769751Z",
     "start_time": "2020-03-01T19:22:12.512315Z"
    },
    "code_folding": []
   },
   "outputs": [],
   "source": [
    "# # assign target\n",
    "y = df[\"disposition\"]\n",
    "\n",
    "#remove target from features\n",
    "df.drop(columns= ['disposition'], axis=1, inplace=True)\n",
    "\n",
    "# dummy categorical features\n",
    "#col_list = list(df.select_dtypes(include=['object']).columns)\n",
    "col_list = list(df.columns)\n",
    "\n",
    "# create dummies for categorical features, assign to X\n",
    "df = pd.DataFrame(pd.get_dummies(data=df, drop_first=True\n",
    "                   , prefix=col_list))\n",
    "X = df\n",
    "\n",
    "# X_train_d and y_train_d = using original standard test train spit dad\n",
    "# that way, I can try out different resampling methods\n",
    "X_train, X_test, y_train, y_test = train_test_split(X, y, test_size=0.2, shuffle=True, stratify=y, random_state=33)"
   ]
  },
  {
   "cell_type": "markdown",
   "metadata": {},
   "source": [
    "### functions"
   ]
  },
  {
   "cell_type": "code",
   "execution_count": 8,
   "metadata": {
    "ExecuteTime": {
     "end_time": "2020-03-01T19:22:12.788358Z",
     "start_time": "2020-03-01T19:22:12.774776Z"
    },
    "code_folding": []
   },
   "outputs": [],
   "source": [
    "# print model report\n",
    "def model_report(model, cm = True): \n",
    "    \n",
    "    print('\\nCross Validation Scoring:\\n')\n",
    "    \n",
    "    train_score = model.score(X_train, y_train)\n",
    "    print(\"train score: {:.4}%\".format(train_score * 100))\n",
    "\n",
    "    test_score = model.score(X_test, y_test)\n",
    "    print(\"test score: {:.4}%\".format(test_score * 100))\n",
    "    \n",
    "    if cm :\n",
    "\n",
    "        cv_score = np.mean(cross_val_score(model, X, y, cv=3))\n",
    "        print(\"cross val score: {:.4}%\".format(cv_score * 100))\n",
    "\n",
    "        print(\"\\nClassification Report:\")\n",
    "        print(classification_report(actuals, predictions))\n",
    "\n",
    "#         col_list = []\n",
    "#         ind_list = []                     \n",
    "#         for x in y_test.unique():\n",
    "#             col_list.append('pred_'+ x)\n",
    "#             ind_list.append('real_'+x)\n",
    "\n",
    "\n",
    "        print('\\nConfusion matrix:'.format(accuracy_score))\n",
    "        display(pd.DataFrame(confusion_matrix(y_test, predictions)\n",
    "                             #, columns=col_list, index=ind_list))\n",
    "                ,columns=['pred doa','pred euth', 'pred to owner/wild', 'pred spec_case', 'pred trans']\n",
    "              , index=['real euth', 'real doa', 'real to owner/wild', 'real spec_case', 'real trans']))\n",
    "\n",
    "    else:\n",
    "        pass"
   ]
  },
  {
   "cell_type": "markdown",
   "metadata": {},
   "source": [
    "## prep data"
   ]
  },
  {
   "cell_type": "markdown",
   "metadata": {},
   "source": [
    "### resampling"
   ]
  },
  {
   "cell_type": "markdown",
   "metadata": {},
   "source": [
    "Due to the imbalance of class data, it could be beneficial to resample to compensate for the missing data. Using smote to oversample, then random undersampling is a common practice in these circumstances\n",
    "\n"
   ]
  },
  {
   "cell_type": "code",
   "execution_count": 11,
   "metadata": {
    "ExecuteTime": {
     "end_time": "2020-03-01T20:06:11.003319Z",
     "start_time": "2020-03-01T20:06:06.930727Z"
    }
   },
   "outputs": [],
   "source": [
    "over = SMOTE(sampling_strategy='not majority', random_state=3)\n",
    "under = RandomUnderSampler(sampling_strategy='not minority', random_state=3)\n",
    "steps = [('o', over), ('u', under)]\n",
    "pipeline = Pipeline(steps=steps)\n",
    "# # transform the dataset\n",
    "X_train, y_train = pipeline.fit_resample(X_train, y_train)"
   ]
  },
  {
   "cell_type": "code",
   "execution_count": 12,
   "metadata": {
    "ExecuteTime": {
     "end_time": "2020-03-01T20:06:11.015112Z",
     "start_time": "2020-03-01T20:06:11.007581Z"
    }
   },
   "outputs": [
    {
     "name": "stdout",
     "output_type": "stream",
     "text": [
      "['trans_caa' 'return_to_wild/owner' 'special_caseother' 'dead_on_arrival'\n",
      " 'euthanized']\n"
     ]
    }
   ],
   "source": [
    "print (y_test.unique())"
   ]
  },
  {
   "cell_type": "markdown",
   "metadata": {},
   "source": [
    "## __modeling__"
   ]
  },
  {
   "cell_type": "code",
   "execution_count": 14,
   "metadata": {
    "ExecuteTime": {
     "end_time": "2020-03-01T20:09:17.268924Z",
     "start_time": "2020-03-01T20:08:39.216841Z"
    },
    "scrolled": true
   },
   "outputs": [
    {
     "data": {
      "text/plain": [
       "LogisticRegression(C=1.0, class_weight=None, dual=False, fit_intercept=True,\n",
       "                   intercept_scaling=1, l1_ratio=None, max_iter=100,\n",
       "                   multi_class='auto', n_jobs=None, penalty='l2',\n",
       "                   random_state=3, solver='lbfgs', tol=0.0001, verbose=0,\n",
       "                   warm_start=False)"
      ]
     },
     "execution_count": 14,
     "metadata": {},
     "output_type": "execute_result"
    },
    {
     "name": "stdout",
     "output_type": "stream",
     "text": [
      "\n",
      "Cross Validation Scoring:\n",
      "\n",
      "train score: 65.89%\n",
      "test score: 91.15%\n",
      "cross val score: 92.87%\n",
      "\n",
      "Classification Report:\n",
      "                      precision    recall  f1-score   support\n",
      "\n",
      "     dead_on_arrival       0.00      0.00      0.00        11\n",
      "          euthanized       0.00      0.00      0.00        24\n",
      "return_to_wild/owner       0.85      0.83      0.84      1814\n",
      "   special_caseother       0.00      0.00      0.00       141\n",
      "           trans_caa       0.93      0.97      0.95      5591\n",
      "\n",
      "            accuracy                           0.91      7581\n",
      "           macro avg       0.36      0.36      0.36      7581\n",
      "        weighted avg       0.89      0.91      0.90      7581\n",
      "\n",
      "\n",
      "Confusion matrix:\n"
     ]
    },
    {
     "data": {
      "text/html": [
       "<div>\n",
       "<style scoped>\n",
       "    .dataframe tbody tr th:only-of-type {\n",
       "        vertical-align: middle;\n",
       "    }\n",
       "\n",
       "    .dataframe tbody tr th {\n",
       "        vertical-align: top;\n",
       "    }\n",
       "\n",
       "    .dataframe thead th {\n",
       "        text-align: right;\n",
       "    }\n",
       "</style>\n",
       "<table border=\"1\" class=\"dataframe\">\n",
       "  <thead>\n",
       "    <tr style=\"text-align: right;\">\n",
       "      <th></th>\n",
       "      <th>pred doa</th>\n",
       "      <th>pred euth</th>\n",
       "      <th>pred to owner/wild</th>\n",
       "      <th>pred spec_case</th>\n",
       "      <th>pred trans</th>\n",
       "    </tr>\n",
       "  </thead>\n",
       "  <tbody>\n",
       "    <tr>\n",
       "      <th>real euth</th>\n",
       "      <td>0</td>\n",
       "      <td>0</td>\n",
       "      <td>4</td>\n",
       "      <td>0</td>\n",
       "      <td>7</td>\n",
       "    </tr>\n",
       "    <tr>\n",
       "      <th>real doa</th>\n",
       "      <td>0</td>\n",
       "      <td>0</td>\n",
       "      <td>8</td>\n",
       "      <td>0</td>\n",
       "      <td>16</td>\n",
       "    </tr>\n",
       "    <tr>\n",
       "      <th>real to owner/wild</th>\n",
       "      <td>0</td>\n",
       "      <td>0</td>\n",
       "      <td>1511</td>\n",
       "      <td>0</td>\n",
       "      <td>303</td>\n",
       "    </tr>\n",
       "    <tr>\n",
       "      <th>real spec_case</th>\n",
       "      <td>0</td>\n",
       "      <td>0</td>\n",
       "      <td>61</td>\n",
       "      <td>0</td>\n",
       "      <td>80</td>\n",
       "    </tr>\n",
       "    <tr>\n",
       "      <th>real trans</th>\n",
       "      <td>0</td>\n",
       "      <td>0</td>\n",
       "      <td>191</td>\n",
       "      <td>1</td>\n",
       "      <td>5399</td>\n",
       "    </tr>\n",
       "  </tbody>\n",
       "</table>\n",
       "</div>"
      ],
      "text/plain": [
       "                    pred doa  pred euth  pred to owner/wild  pred spec_case  \\\n",
       "real euth                  0          0                   4               0   \n",
       "real doa                   0          0                   8               0   \n",
       "real to owner/wild         0          0                1511               0   \n",
       "real spec_case             0          0                  61               0   \n",
       "real trans                 0          0                 191               1   \n",
       "\n",
       "                    pred trans  \n",
       "real euth                    7  \n",
       "real doa                    16  \n",
       "real to owner/wild         303  \n",
       "real spec_case              80  \n",
       "real trans                5399  "
      ]
     },
     "metadata": {},
     "output_type": "display_data"
    }
   ],
   "source": [
    "lr = LogisticRegression(random_state=3)\n",
    "lr.fit(X_train, y_train)\n",
    " \n",
    "# Predict on training set\n",
    "predictions = lr.predict(X_test)\n",
    "actuals = y_test\n",
    "\n",
    "model_report(lr)"
   ]
  },
  {
   "cell_type": "markdown",
   "metadata": {},
   "source": [
    "### decision tree"
   ]
  },
  {
   "cell_type": "markdown",
   "metadata": {},
   "source": [
    "__default model__"
   ]
  },
  {
   "cell_type": "code",
   "execution_count": null,
   "metadata": {
    "ExecuteTime": {
     "end_time": "2020-03-01T20:06:31.369891Z",
     "start_time": "2020-03-01T20:05:48.146Z"
    }
   },
   "outputs": [],
   "source": [
    "# initialize and fit default decision tree\n",
    "dt_model = DecisionTreeClassifier(random_state=3)\n",
    "dt_model.fit(X_train, y_train)\n",
    "predictions = dt_model.predict(X_test)\n",
    "#actuals = y_test\n",
    "\n",
    "model_report(dt_model)"
   ]
  },
  {
   "cell_type": "code",
   "execution_count": null,
   "metadata": {
    "ExecuteTime": {
     "end_time": "2020-03-01T20:06:31.376957Z",
     "start_time": "2020-03-01T20:05:48.152Z"
    }
   },
   "outputs": [],
   "source": [
    "# set random search params\n",
    "criterion=['gini','entropy']\n",
    "max_leaf_nodes = [None]\n",
    "max_features = ['auto', 'sqrt']\n",
    "max_depth = [5,10,15,17,20]\n",
    "min_samples_split = [10,20,30,50,100]\n",
    "min_samples_leaf = [3,5,7,10,20]\n",
    "bootstrap = [True, False]\n",
    "\n",
    "random_grid = {'criterion':criterion,\n",
    "               'max_leaf_nodes': max_leaf_nodes,\n",
    "               'max_features': max_features,\n",
    "               'max_depth': max_depth,\n",
    "               'min_samples_split': min_samples_split,\n",
    "               'min_samples_leaf': min_samples_leaf\n",
    "               }\n",
    "\n",
    "# random grid search\n",
    "dt_random = RandomizedSearchCV(estimator = dt_model\n",
    "                               , param_distributions = random_grid\n",
    "                               , n_iter = 100, cv = 3, verbose=3, error_score=0\n",
    "                               , scoring=('accuracy')\n",
    "                               , random_state=3, n_jobs = -1)\n",
    "# fit random search model\n",
    "dt_random.fit(X_train, y_train);\n",
    "\n",
    "print('best accuracy: {:.4}%'.format(dt_random.best_score_ * 100));\n",
    "print(dt_random.best_params_);"
   ]
  },
  {
   "cell_type": "markdown",
   "metadata": {},
   "source": [
    "__grid search__"
   ]
  },
  {
   "cell_type": "code",
   "execution_count": null,
   "metadata": {
    "ExecuteTime": {
     "end_time": "2020-03-01T20:06:31.380286Z",
     "start_time": "2020-03-01T20:05:48.158Z"
    }
   },
   "outputs": [],
   "source": [
    "# grid search params\n",
    "param_grid_dt = {'criterion': ['entropy','gini'],\n",
    "    'max_depth': [15,17,20],\n",
    "    'min_samples_split': [2],\n",
    "    'min_samples_leaf': [6,7,8],\n",
    "     'max_features':[40,50,60],\n",
    "     'max_leaf_nodes':[None]\n",
    "        }\n",
    "\n",
    "# grid search\n",
    "gs_dt = GridSearchCV(estimator=dt_model,\n",
    "                    param_grid=param_grid_dt,\n",
    "                     error_score=0,\n",
    "                    scoring=('accuracy'),\n",
    "                    cv=5, n_jobs=-1, verbose=2)\n",
    "\n",
    "# fitting grid search\n",
    "gs_dt.fit(X_train, y_train);\n",
    "\n",
    "# best parameters\n",
    "print('Best score: {:.3}%'.format(gs_dt.best_score_ * 100));\n",
    "print('params:\\n', gs_dt.best_params_);"
   ]
  },
  {
   "cell_type": "code",
   "execution_count": null,
   "metadata": {
    "ExecuteTime": {
     "end_time": "2020-03-01T20:06:31.383733Z",
     "start_time": "2020-03-01T20:05:48.164Z"
    }
   },
   "outputs": [],
   "source": [
    "# using best params to fit model\n",
    "dt_gs_model = DecisionTreeClassifier(criterion='gini',\n",
    "                              max_depth=15,\n",
    "                              max_features=40,\n",
    "                              max_leaf_nodes= None,\n",
    "                               min_samples_leaf=7,\n",
    "                               min_samples_split=2\n",
    "                                \n",
    "                                    )\n",
    "dt_gs_model.fit(X_train, y_train)\n",
    "\n",
    "predictions = dt_gs_model.predict(X_test)\n",
    "actuals = y_test"
   ]
  },
  {
   "cell_type": "code",
   "execution_count": null,
   "metadata": {
    "ExecuteTime": {
     "end_time": "2020-03-01T20:06:31.386310Z",
     "start_time": "2020-03-01T20:05:48.172Z"
    }
   },
   "outputs": [],
   "source": [
    "model_report(dt_gs_model)"
   ]
  },
  {
   "cell_type": "markdown",
   "metadata": {},
   "source": [
    "### Random Forest"
   ]
  },
  {
   "cell_type": "markdown",
   "metadata": {},
   "source": [
    "---\n",
    "__default model__"
   ]
  },
  {
   "cell_type": "code",
   "execution_count": null,
   "metadata": {
    "ExecuteTime": {
     "end_time": "2020-03-01T20:06:31.389416Z",
     "start_time": "2020-03-01T20:05:48.179Z"
    }
   },
   "outputs": [],
   "source": [
    "#initialize and fit random forest\n",
    "rf_model = RandomForestClassifier(random_state=3)\n",
    "rf_model.fit(X_train, y_train)\n",
    "\n",
    "predictions = rf_model.predict(X_test)\n",
    "#actuals = y_test\n",
    "\n",
    "model_report(rf_model)"
   ]
  },
  {
   "cell_type": "markdown",
   "metadata": {},
   "source": [
    "___\n",
    "__Random Grid Search__"
   ]
  },
  {
   "cell_type": "markdown",
   "metadata": {},
   "source": [
    "The default model is overfitting. Some ways to avoid overfitting with random forests are: increasing the n_estimators, reducing max features, limiting max depth, and increasing min leaf samples can help construct a more robust fit. Being that it did perform well despite the overfitting, I decided not to go crazy playing with the parameters."
   ]
  },
  {
   "cell_type": "code",
   "execution_count": null,
   "metadata": {
    "ExecuteTime": {
     "end_time": "2020-03-01T20:06:31.391915Z",
     "start_time": "2020-03-01T20:05:48.187Z"
    },
    "code_folding": []
   },
   "outputs": [],
   "source": [
    "# set random search params\n",
    "\n",
    "n_estimators = [250,500,750,1000]\n",
    "# min_weight_fraction_leaf=[0.0, 0.001, 0.0001]\n",
    "# min_samples_split = [3,4,5,6]\n",
    "# min_samples_leaf = [2,3]\n",
    "# min_impurity_split = [0.0]\n",
    "# min_impurity_decrease = [0.0, 0.0001]\n",
    "# max_samples = [None, 20,25,30,35,40,50]\n",
    "# max_leaf_nodes = [None, 3,5,8,10,15,20,25]\n",
    "# max_features = ['auto', 3,5,6,8]\n",
    "max_depth = [2,3,5,10,20,30,35,40]\n",
    "criterion = ['entropy', 'gini']\n",
    "# bootstrap = [True, False]\n",
    "\n",
    "# Create the random grid\n",
    "random_grid = { 'n_estimators': n_estimators,\n",
    "#                  'min_weight_fraction_leaf': min_weight_fraction_leaf,\n",
    "#                  'min_samples_split': min_samples_split,\n",
    "#                  'min_samples_leaf': min_samples_leaf,\n",
    "#                  'min_impurity_split': min_impurity_split,\n",
    "#                  'min_impurity_decrease': min_impurity_decrease,\n",
    "#                  'max_samples': max_samples,\n",
    "#                  'max_leaf_nodes': max_leaf_nodes,\n",
    "#                  'max_features': max_features,\n",
    "                  'max_depth': max_depth,\n",
    "                 'criterion': criterion,\n",
    "#                  'bootstrap': bootstrap\n",
    "              }\n",
    "\n",
    "# fit and search random param combinations\n",
    "rf_random = RandomizedSearchCV(estimator = rf_model\n",
    "                               , param_distributions = random_grid\n",
    "                               , n_iter = 25\n",
    "                               , cv = 3\n",
    "                               , verbose=10\n",
    "                               , random_state=1\n",
    "                               , n_jobs = -1);\n",
    "# Fit the random search model\n",
    "rf_random.fit(X_train, y_train);"
   ]
  },
  {
   "cell_type": "code",
   "execution_count": null,
   "metadata": {
    "ExecuteTime": {
     "end_time": "2020-03-01T20:06:31.394392Z",
     "start_time": "2020-03-01T20:05:48.192Z"
    }
   },
   "outputs": [],
   "source": [
    "# print best parameters\n",
    "print('best accuracy: {:.4}%'.format(rf_random.best_score_ * 100));\n",
    "print(rf_random.best_params_);"
   ]
  },
  {
   "cell_type": "markdown",
   "metadata": {},
   "source": [
    "___\n",
    "__grid search__"
   ]
  },
  {
   "cell_type": "code",
   "execution_count": null,
   "metadata": {
    "ExecuteTime": {
     "end_time": "2020-03-01T20:06:31.396801Z",
     "start_time": "2020-03-01T20:05:48.199Z"
    }
   },
   "outputs": [],
   "source": [
    "param_grid_rf = {\n",
    "        'n_estimators': [750,1100]\n",
    "#          , 'min_samples_leaf': [3,4]\n",
    "#          , 'min_samples_split':[3,4,5,6]\n",
    "#         , 'max_samples': [20,25,30]\n",
    "#         , 'max_leaf_nodes':[7,13,20]\n",
    "#           , 'max_features': [5,6,7]\n",
    "         , 'max_depth': [3,5,10,20]\n",
    "         , 'criterion': ['entropy', 'gini']\n",
    "#          , 'bootstrap': [False, True]\n",
    "}\n",
    "\n",
    "# grid search\n",
    "gs_rf = GridSearchCV(estimator=rf_model\n",
    "                    ,param_grid=param_grid_rf\n",
    "                    ,cv=3\n",
    "                     ,refit=True\n",
    "                     ,error_score=0\n",
    "                     , n_jobs=-1\n",
    "                     , verbose=10\n",
    "                    )\n",
    "\n",
    "# fitting grid search\n",
    "gs_rf.fit(X_train, y_train);\n",
    "\n",
    "# best parameters\n",
    "print('best accuracy: {:.4}%'.format(gs_rf.best_score_ * 100));\n",
    "print('params:\\n', gs_rf.best_params_);"
   ]
  },
  {
   "cell_type": "markdown",
   "metadata": {},
   "source": [
    "___\n",
    "__best model__"
   ]
  },
  {
   "cell_type": "code",
   "execution_count": null,
   "metadata": {
    "ExecuteTime": {
     "end_time": "2020-03-01T20:06:31.399739Z",
     "start_time": "2020-03-01T20:05:48.206Z"
    },
    "scrolled": true
   },
   "outputs": [],
   "source": [
    "# fitting model using best params\n",
    "rf_gs_model = RandomForestClassifier(\n",
    "                                   # bootstrap= False\n",
    "                                    criterion= 'gini'\n",
    "                                    , max_depth= 20\n",
    "                                   # , max_features = 'auto'\n",
    "                                   # , max_leaf_nodes = None\n",
    "                                   # , max_samples = None\n",
    "#                                     , min_samples_leaf = 3\n",
    "                                   # , min_samples_split = 8\n",
    "                                    , n_estimators = 750\n",
    "                                    );\n",
    "rf_gs_model.fit(X_train, y_train);\n",
    "\n",
    "predictions = rf_gs_model.predict(X_test);\n",
    "\n",
    "# new model report\n",
    "model_report(rf_gs_model)"
   ]
  },
  {
   "cell_type": "markdown",
   "metadata": {},
   "source": [
    "### XGBoost"
   ]
  },
  {
   "cell_type": "code",
   "execution_count": null,
   "metadata": {
    "ExecuteTime": {
     "end_time": "2020-03-01T20:06:31.402377Z",
     "start_time": "2020-03-01T20:05:48.212Z"
    }
   },
   "outputs": [],
   "source": [
    "# initiate model\n",
    "xgb_model = XGBClassifier(random_state=3)\n",
    "xgb_model.fit(X_train, y_train)\n",
    "\n",
    "predictions = xgb_model.predict(X_test)\n",
    "# actuals = y_test"
   ]
  },
  {
   "cell_type": "code",
   "execution_count": null,
   "metadata": {
    "ExecuteTime": {
     "end_time": "2020-03-01T20:06:31.404919Z",
     "start_time": "2020-03-01T20:05:48.218Z"
    }
   },
   "outputs": [],
   "source": [
    "model_report(xgb_model)"
   ]
  },
  {
   "cell_type": "code",
   "execution_count": null,
   "metadata": {
    "ExecuteTime": {
     "end_time": "2020-03-01T20:06:31.438720Z",
     "start_time": "2020-03-01T20:05:48.224Z"
    }
   },
   "outputs": [],
   "source": [
    "#set random search params\n",
    "learning_rate=[.15 ,.1,  .05]\n",
    "#max_depth = [2,3,4,5,6]\n",
    "min_child_weight = [.5, 1,1.5]\n",
    "n_estimators = [90,100, 110]\n",
    "#min_weight_fraction_leaf = [0,0.0001, 0.01, 1]\n",
    "\n",
    "random_grid = {\n",
    "               'learning_rate':learning_rate,\n",
    "               #'max_depth': max_depth,\n",
    "               'min_child_weight':min_child_weight\n",
    "              # 'n_estimators': n_estimators\n",
    "              }\n",
    "\n",
    "# searching random params\n",
    "xgb_random = RandomizedSearchCV(estimator = xgb_model\n",
    "                               , param_distributions = random_grid\n",
    "                               , n_iter = 5, cv = 3, verbose=10\n",
    "                               , random_state=3, n_jobs = -1)\n",
    "# fit random search model\n",
    "xgb_random.fit(X_train, y_train)\n",
    "print('best accuracy: {:.4}%'.format(xgb_random.best_score_ * 100));\n",
    "print(xgb_random.best_params_);"
   ]
  },
  {
   "cell_type": "code",
   "execution_count": null,
   "metadata": {
    "ExecuteTime": {
     "end_time": "2020-03-01T20:06:31.440616Z",
     "start_time": "2020-03-01T20:05:48.229Z"
    }
   },
   "outputs": [],
   "source": [
    "param_grid_xgb = [\n",
    "    {\n",
    "#         'xgb_model__min_samples_split':[2,3],\n",
    "      #   'xbg_model__gamma':[0.01,0.1,.05],\n",
    "        'xgb_model__min_child_weight': [1,1.2],\n",
    "    'xgb_model__learning_rate': [0.009,0.1]\n",
    "    #'xgb_model__n_estimators': [150,200,250],\n",
    "    #'xgb_model__max_depth': [2,3]\n",
    "    }\n",
    "]\n",
    "\n",
    "# Construct Grid Search\n",
    "gs_xgb = GridSearchCV(estimator=xgb_model,\n",
    "                    param_grid=param_grid_xgb,\n",
    "                    scoring='accuracy',random_state=3,\n",
    "                    cv=3, n_jobs=-1, verbose=10)\n",
    "\n",
    "# Fit using grid search\n",
    "gs_xgb.fit(X, y)\n",
    "\n",
    "# Best accuracy and parameters\n",
    "print('best score: {:.3}%'.format(gs_xgb.best_score_ * 100))\n",
    "print('params:\\n', gs_xgb.best_params_);"
   ]
  },
  {
   "cell_type": "code",
   "execution_count": null,
   "metadata": {
    "ExecuteTime": {
     "end_time": "2020-03-01T20:06:31.442373Z",
     "start_time": "2020-03-01T20:05:48.237Z"
    }
   },
   "outputs": [],
   "source": [
    "# fit using best params\n",
    "xgb_gs_model = XGBClassifier(learning_rate=0.009,\n",
    "                           #  max_depth=3,\n",
    "                             min_child_weight=1,\n",
    "                          #   n_estimators=90)\n",
    "xgb_gs_model.fit(X_train, y_train)\n",
    "\n",
    "predictions = xgb_gs_model.predict(X_test)\n",
    "\n",
    "model_report(xgb_gs_model)"
   ]
  },
  {
   "cell_type": "markdown",
   "metadata": {},
   "source": [
    "### AdaBoost"
   ]
  },
  {
   "cell_type": "code",
   "execution_count": null,
   "metadata": {
    "ExecuteTime": {
     "end_time": "2020-03-01T20:06:31.443992Z",
     "start_time": "2020-03-01T20:05:48.243Z"
    }
   },
   "outputs": [],
   "source": [
    "#initialize and fit default model\n",
    "ada_model = AdaBoostClassifier(random_state=3)\n",
    "ada_model.fit(X_train, y_train)\n",
    "\n",
    "predictions = ada_model.predict(X_test)\n",
    "# actuals = y_test"
   ]
  },
  {
   "cell_type": "markdown",
   "metadata": {},
   "source": [
    "___\n",
    "__Default Model__"
   ]
  },
  {
   "cell_type": "code",
   "execution_count": null,
   "metadata": {
    "ExecuteTime": {
     "end_time": "2020-03-01T20:06:31.445599Z",
     "start_time": "2020-03-01T20:05:48.250Z"
    }
   },
   "outputs": [],
   "source": [
    "model_report(ada_model)"
   ]
  },
  {
   "cell_type": "markdown",
   "metadata": {},
   "source": [
    "__Random Grid Search__"
   ]
  },
  {
   "cell_type": "code",
   "execution_count": null,
   "metadata": {
    "ExecuteTime": {
     "end_time": "2020-03-01T20:06:31.447297Z",
     "start_time": "2020-03-01T20:05:48.258Z"
    }
   },
   "outputs": [],
   "source": [
    "#set random search params\n",
    "learning_rate= [.00001,.001,.01,.1,1, 1.5]\n",
    "\n",
    "n_estimators = [1,5,10,50,100, 200]\n",
    "\n",
    "random_grid = {'learning_rate':learning_rate,\n",
    "               'n_estimators': n_estimators\n",
    "              }"
   ]
  },
  {
   "cell_type": "code",
   "execution_count": null,
   "metadata": {
    "ExecuteTime": {
     "end_time": "2020-03-01T20:06:31.449036Z",
     "start_time": "2020-03-01T20:05:48.265Z"
    }
   },
   "outputs": [],
   "source": [
    "#random grid search\n",
    "ada_random = RandomizedSearchCV(estimator = ada_model\n",
    "                               , param_distributions = random_grid\n",
    "                               , n_iter = 20, cv = 3, verbose=10\n",
    "                               , random_state=3, n_jobs = -1)\n",
    "# Fit the random search model\n",
    "ada_random.fit(X_train, y_train)"
   ]
  },
  {
   "cell_type": "code",
   "execution_count": null,
   "metadata": {
    "ExecuteTime": {
     "end_time": "2020-03-01T20:06:31.451102Z",
     "start_time": "2020-03-01T20:05:48.270Z"
    }
   },
   "outputs": [],
   "source": [
    "ada_random.best_params_"
   ]
  },
  {
   "cell_type": "markdown",
   "metadata": {},
   "source": [
    "___\n",
    "__grid search__"
   ]
  },
  {
   "cell_type": "code",
   "execution_count": null,
   "metadata": {
    "ExecuteTime": {
     "end_time": "2020-03-01T20:06:31.452883Z",
     "start_time": "2020-03-01T20:05:48.277Z"
    }
   },
   "outputs": [],
   "source": [
    "#grid search params and fitting grid search\n",
    "param_grid_ada = [\n",
    "    {'ada_model__n_estimators': [9,10,11,12,50,60,100],\n",
    "    'ada_model__learning_rate': [.9,1,1.1,1.5]}\n",
    "]\n",
    "\n",
    "# Construct Grid Search\n",
    "gs_ada = GridSearchCV(estimator=ada_model,\n",
    "                    param_grid=param_grid_ada,\n",
    "                    scoring='accuracy',\n",
    "                    cv=5, n_jobs=-1, verbose=10)\n",
    "\n",
    "# Fit using grid search\n",
    "gs_ada.fit(X_train, y_train)\n",
    "\n",
    "# Best accuracy and parameters\n",
    "print('best recall: {:.4}%'.format(gs_ada.best_score_ * 100))\n",
    "print('params:\\n', gs_ada.best_params_)"
   ]
  },
  {
   "cell_type": "code",
   "execution_count": null,
   "metadata": {
    "ExecuteTime": {
     "end_time": "2020-03-01T20:06:31.454622Z",
     "start_time": "2020-03-01T20:05:48.282Z"
    }
   },
   "outputs": [],
   "source": [
    "# fit best params\n",
    "ada_gs_model = AdaBoostClassifier(n_estimators=100,\n",
    "                                   learning_rate=1.1)\n",
    "ada_gs_model.fit(X_train, y_train)\n",
    "\n",
    "predictions = ada_gs_model.predict(X_test)"
   ]
  },
  {
   "cell_type": "markdown",
   "metadata": {},
   "source": [
    "__best model__"
   ]
  },
  {
   "cell_type": "code",
   "execution_count": null,
   "metadata": {
    "ExecuteTime": {
     "end_time": "2020-03-01T20:06:31.456363Z",
     "start_time": "2020-03-01T20:05:48.289Z"
    }
   },
   "outputs": [],
   "source": [
    "model_report(ada_gs_model)"
   ]
  },
  {
   "cell_type": "markdown",
   "metadata": {},
   "source": [
    "### gradient boost"
   ]
  },
  {
   "cell_type": "code",
   "execution_count": null,
   "metadata": {
    "ExecuteTime": {
     "end_time": "2020-03-01T20:06:31.458157Z",
     "start_time": "2020-03-01T20:05:48.295Z"
    }
   },
   "outputs": [],
   "source": [
    "#initialize and fit gradient boost\n",
    "gbt_model = GradientBoostingClassifier(random_state=3)\n",
    "gbt_model.fit(X_train, y_train)\n",
    "\n",
    "predictions = gbt_model.predict(X_test)\n",
    "# actuals = y_test"
   ]
  },
  {
   "cell_type": "markdown",
   "metadata": {},
   "source": [
    "__default model__"
   ]
  },
  {
   "cell_type": "code",
   "execution_count": null,
   "metadata": {
    "ExecuteTime": {
     "end_time": "2020-03-01T20:06:31.459862Z",
     "start_time": "2020-03-01T20:05:48.301Z"
    }
   },
   "outputs": [],
   "source": [
    "#baseline model report\n",
    "model_report(gbt_model)"
   ]
  },
  {
   "cell_type": "markdown",
   "metadata": {},
   "source": [
    "__random grid search__"
   ]
  },
  {
   "cell_type": "code",
   "execution_count": null,
   "metadata": {
    "ExecuteTime": {
     "end_time": "2020-03-01T20:06:31.461613Z",
     "start_time": "2020-03-01T20:05:48.308Z"
    }
   },
   "outputs": [],
   "source": [
    "# setting parameters for random search\n",
    "learning_rate=[.1]\n",
    "loss = ['deviance', 'exponential']\n",
    "max_depth = [None,2,3,4] \n",
    "n_estimators = [50,100,200]\n",
    "min_samples_split = [2,3,4]\n",
    "min_samples_leaf = [1,2,3]\n",
    "min_weight_fraction_leaf = [0,0.0001, 0.001]\n",
    "\n",
    "random_grid = {'learning_rate':learning_rate,\n",
    "               'loss': loss,\n",
    "               'max_depth': max_depth,\n",
    "               'n_estimators': n_estimators,\n",
    "               'min_samples_split': min_samples_split,\n",
    "               'min_samples_leaf': min_samples_leaf,\n",
    "               'min_weight_fraction_leaf': min_weight_fraction_leaf\n",
    "               }\n",
    "\n",
    "#searching random params\n",
    "gbt_random = RandomizedSearchCV(estimator = gbt_model\n",
    "                               , param_distributions = random_grid\n",
    "                               , n_iter = 20, cv = 3, verbose=10\n",
    "                               , random_state=3, n_jobs = -1)\n",
    "# fit random search model\n",
    "gbt_random.fit(X_train, y_train)"
   ]
  },
  {
   "cell_type": "code",
   "execution_count": null,
   "metadata": {
    "ExecuteTime": {
     "end_time": "2020-03-01T20:06:31.463362Z",
     "start_time": "2020-03-01T20:05:48.313Z"
    }
   },
   "outputs": [],
   "source": [
    "print('best accuracy: {:.4}%'.format(gbt_random.best_score_ * 100));\n",
    "print(gbt)_random.best_params_)"
   ]
  },
  {
   "cell_type": "markdown",
   "metadata": {},
   "source": [
    "__grid search__"
   ]
  },
  {
   "cell_type": "code",
   "execution_count": null,
   "metadata": {
    "ExecuteTime": {
     "end_time": "2020-03-01T20:06:31.465065Z",
     "start_time": "2020-03-01T20:05:48.319Z"
    }
   },
   "outputs": [],
   "source": [
    "# grid search params and run search\n",
    "param_grid_gbt = [\n",
    "    {'gbt_model__n_estimators': [40,60,100,120],\n",
    "     'gbt_model__min_weight_fraction_leaf':[0.001, 0.01, 0.0001],\n",
    "    'gbt_model__learning_rate': [0.1, .001],\n",
    "    'gbt_model__min_samples_split': [2,3,4],\n",
    "    'gbt_model__min_samples_leaf': [2,3,5,6],\n",
    "    'gbt_model__max_depth': [2,3]\n",
    "    }\n",
    "]\n",
    "\n",
    "# grid search\n",
    "gs_gbt = GridSearchCV(estimator=gbt_model,\n",
    "                    param_grid=param_grid_gbt,\n",
    "                    scoring='accuracy',\n",
    "                    cv=3, n_jobs=-1, verbose=10)\n",
    "\n",
    "# fit grid search\n",
    "gs_gbt.fit(X_train, y_train)\n",
    "\n",
    "# best params\n",
    "print('best accuracy: {:.4}%'.format(gs_gbt.best_score_ * 100))\n",
    "print('params:\\n', gs_gbt.best_params_)"
   ]
  },
  {
   "cell_type": "code",
   "execution_count": null,
   "metadata": {
    "ExecuteTime": {
     "end_time": "2020-03-01T20:06:31.468316Z",
     "start_time": "2020-03-01T20:05:48.324Z"
    }
   },
   "outputs": [],
   "source": [
    "# fitting best params\n",
    "gbt_gs_model = GradientBoostingClassifier(learning_rate=0.1,\n",
    "                                         max_depth=2,\n",
    "                                         min_samples_leaf=2,\n",
    "                                         min_samples_split=2,\n",
    "                                         min_weight_fraction_leaf=0.01,\n",
    "                                         n_estimators=60)\n",
    "gbt_gs_model.fit(X_train, y_train)\n",
    "\n",
    "predictions = gbt_gs_model.predict(X_test)"
   ]
  },
  {
   "cell_type": "markdown",
   "metadata": {},
   "source": [
    "__best model__"
   ]
  },
  {
   "cell_type": "code",
   "execution_count": null,
   "metadata": {
    "ExecuteTime": {
     "end_time": "2020-03-01T20:06:31.470502Z",
     "start_time": "2020-03-01T20:05:48.330Z"
    }
   },
   "outputs": [],
   "source": [
    "# new model report\n",
    "model_report(gbt_gs_model)"
   ]
  },
  {
   "cell_type": "markdown",
   "metadata": {},
   "source": [
    "### SVM"
   ]
  },
  {
   "cell_type": "code",
   "execution_count": null,
   "metadata": {
    "ExecuteTime": {
     "end_time": "2020-03-01T20:06:31.472362Z",
     "start_time": "2020-03-01T20:05:48.337Z"
    }
   },
   "outputs": [],
   "source": [
    "svm_model = svm.SVC(random_state=3)\n",
    "svm_model.fit(X_train, y_train)\n",
    "\n",
    "predictions = svm_model.predict(X_test)\n",
    "# actuals = y_test"
   ]
  },
  {
   "cell_type": "markdown",
   "metadata": {},
   "source": [
    "___\n",
    "__default model__"
   ]
  },
  {
   "cell_type": "code",
   "execution_count": null,
   "metadata": {
    "ExecuteTime": {
     "end_time": "2020-03-01T20:06:31.474334Z",
     "start_time": "2020-03-01T20:05:48.355Z"
    }
   },
   "outputs": [],
   "source": [
    "model_report(svm_model, cm=False)"
   ]
  },
  {
   "cell_type": "markdown",
   "metadata": {},
   "source": [
    "___\n",
    "__random grid search__"
   ]
  },
  {
   "cell_type": "code",
   "execution_count": null,
   "metadata": {
    "ExecuteTime": {
     "end_time": "2020-03-01T20:06:31.476226Z",
     "start_time": "2020-03-01T20:05:48.361Z"
    }
   },
   "outputs": [],
   "source": [
    "# set random search params\n",
    "clf_C = [0.07,0.1,1.0, 1.03]\n",
    "clf_gamma = [0.005,0.001,0.01, 0.1]\n",
    "clf_kernel = ['rbf', 'linear']\n",
    "\n",
    "random_grid = {\n",
    "               'C': clf_C,\n",
    "               'gamma': clf_gamma,\n",
    "               'kernel': clf_kernel\n",
    "               }\n",
    "\n",
    "# fit and search random param combinations\n",
    "svm_random = RandomizedSearchCV(estimator = svm_model\n",
    "                               , param_distributions = random_grid\n",
    "                               , n_iter = 12 , cv = 3, verbose=10\n",
    "                               , random_state=3, n_jobs = -1)\n",
    "# Fit the random search model\n",
    "svm_random.fit(X_train, y_train)"
   ]
  },
  {
   "cell_type": "code",
   "execution_count": null,
   "metadata": {
    "ExecuteTime": {
     "end_time": "2020-03-01T20:06:31.478188Z",
     "start_time": "2020-03-01T20:05:48.367Z"
    }
   },
   "outputs": [],
   "source": [
    "print('best accuracy: {:.4}%'.format(svm_random.best_score_ * 100));\n",
    "print(svm_random.best_params_)"
   ]
  },
  {
   "cell_type": "markdown",
   "metadata": {},
   "source": [
    "___\n",
    "__grid search__"
   ]
  },
  {
   "cell_type": "code",
   "execution_count": null,
   "metadata": {
    "ExecuteTime": {
     "end_time": "2020-03-01T20:06:31.480087Z",
     "start_time": "2020-03-01T20:05:48.373Z"
    }
   },
   "outputs": [],
   "source": [
    "# Set grid search params\n",
    "param_grid_svm = [\n",
    " \n",
    "  {'C': [1.0, 1.01, 1.03], 'gamma': [0.008, 0.01, 0.012]\n",
    "   , 'kernel': ['rbf', 'linear']\n",
    "  }]\n",
    " \n",
    "\n",
    "# Construct grid search\n",
    "gs_svm = GridSearchCV(estimator=svm_model,\n",
    "            param_grid=param_grid_svm,\n",
    "            cv=5, verbose=10, return_train_score = True)\n",
    "\n",
    "# Fit using grid search\n",
    "gs_svm.fit(X_train, y_train)\n",
    "\n",
    "# Best accuracy\n",
    "print('best score: {:.4}%'.format(gs_svm.best_score_ * 100));\n",
    "print('\\nBest params:\\n', gs_svm.best_params_)"
   ]
  },
  {
   "cell_type": "code",
   "execution_count": null,
   "metadata": {
    "ExecuteTime": {
     "end_time": "2020-03-01T20:06:31.486325Z",
     "start_time": "2020-03-01T20:05:48.378Z"
    }
   },
   "outputs": [],
   "source": [
    "svm_gs_model = svm.SVC(C=1.03\n",
    "                       ,gamma=0.008\n",
    "                        ,kernel='rbf'\n",
    "                             )\n",
    "svm_gs_model.fit(X_train, y_train)\n",
    "\n",
    "predictions = svm_gs_model.predict(X_test)"
   ]
  },
  {
   "cell_type": "markdown",
   "metadata": {},
   "source": [
    "___\n",
    "__best model__"
   ]
  },
  {
   "cell_type": "code",
   "execution_count": null,
   "metadata": {
    "ExecuteTime": {
     "end_time": "2020-03-01T20:06:31.488143Z",
     "start_time": "2020-03-01T20:05:48.385Z"
    }
   },
   "outputs": [],
   "source": [
    "model_report(svm_gs_model, cm=False)"
   ]
  }
 ],
 "metadata": {
  "hide_input": false,
  "kernelspec": {
   "display_name": "Python 3",
   "language": "python",
   "name": "python3"
  },
  "language_info": {
   "codemirror_mode": {
    "name": "ipython",
    "version": 3
   },
   "file_extension": ".py",
   "mimetype": "text/x-python",
   "name": "python",
   "nbconvert_exporter": "python",
   "pygments_lexer": "ipython3",
   "version": "3.7.3"
  },
  "toc": {
   "base_numbering": 1,
   "nav_menu": {},
   "number_sections": true,
   "sideBar": true,
   "skip_h1_title": false,
   "title_cell": "Table of Contents",
   "title_sidebar": "Contents",
   "toc_cell": false,
   "toc_position": {
    "height": "calc(100% - 180px)",
    "left": "10px",
    "top": "150px",
    "width": "165px"
   },
   "toc_section_display": true,
   "toc_window_display": true
  }
 },
 "nbformat": 4,
 "nbformat_minor": 2
}
